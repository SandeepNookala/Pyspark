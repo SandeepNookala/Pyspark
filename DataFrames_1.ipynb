{
 "cells": [
  {
   "cell_type": "markdown",
   "metadata": {
    "application/vnd.databricks.v1+cell": {
     "cellMetadata": {
      "byteLimit": 2048000,
      "rowLimit": 10000
     },
     "inputWidgets": {},
     "nuid": "595cabd1-4bf2-44ff-92a9-c61a712297d2",
     "showTitle": false,
     "title": ""
    }
   },
   "source": [
    "##1.read csv file data"
   ]
  },
  {
   "cell_type": "code",
   "execution_count": 0,
   "metadata": {
    "application/vnd.databricks.v1+cell": {
     "cellMetadata": {
      "byteLimit": 2048000,
      "rowLimit": 10000
     },
     "inputWidgets": {},
     "nuid": "a15c529b-cd01-4ceb-9fbb-1336378f1961",
     "showTitle": false,
     "title": ""
    }
   },
   "outputs": [
    {
     "output_type": "stream",
     "name": "stdout",
     "output_type": "stream",
     "text": [
      "+-----+------+---------+------+----------+----+------+------------+\n|EMPNO| ENAME|      JOB|Manger|  HIREDATE| SAL|DEPTNO|UPDATED_DATE|\n+-----+------+---------+------+----------+----+------+------------+\n| 7369| SMITH|    CLERK|  7902|1980-12-17| 800|    20|  01-01-2022|\n| 7499| ALLEN| SALESMAN|  7698|1980-02-20|1600|    30|  02-01-2022|\n| 7521|  WARD| SALESMAN|  7698|1980-02-22|1250|    30|  03-01-2022|\n| 7566| JONES|  MANAGER|  7839|1981-02-04|2975|    20|  04-01-2022|\n| 7654|MARTIN| SALESMAN|  7698|1981-09-21|1250|    30|  05-01-2022|\n| 7698|   SGR|  MANAGER|  7839|1981-01-05|2850|    30|  06-01-2022|\n| 7782|  RAVI|  MANAGER|  7839|1982-09-06|2450|    10|  07-01-2022|\n| 7788| SCOTT|  ANALYST|  7566|1982-04-19|3000|    20|  08-01-2022|\n| 7839|  KING|PRESIDENT|  null|      null|5000|    10|        null|\n| 7844|TURNER| SALESMAN|  7698|1982-08-09|1500|    30|  01-02-2022|\n+-----+------+---------+------+----------+----+------+------------+\nonly showing top 10 rows\n\n"
     ]
    }
   ],
   "source": [
    "df = spark.read.format('csv').option('header',True).option('inferSchema',True).option('nullValue','null').load('dbfs:/FileStore/shared_uploads/nookala382@gmail.com/employee.csv')\n",
    "df.show(10)"
   ]
  },
  {
   "cell_type": "code",
   "execution_count": 0,
   "metadata": {
    "application/vnd.databricks.v1+cell": {
     "cellMetadata": {
      "byteLimit": 2048000,
      "rowLimit": 10000
     },
     "inputWidgets": {},
     "nuid": "6c4d5fa4-aec8-4abb-8c57-4e26e4594071",
     "showTitle": false,
     "title": ""
    }
   },
   "outputs": [
    {
     "output_type": "stream",
     "name": "stdout",
     "output_type": "stream",
     "text": [
      "+-----+-----+---------+------+----------+----+------+------------+\n|EMPNO|ENAME|      JOB|Manger|  HIREDATE| SAL|DEPTNO|UPDATED_DATE|\n+-----+-----+---------+------+----------+----+------+------------+\n| 7839| KING|PRESIDENT|  null|      null|5000|    10|        null|\n| 7839| KING|PRESIDENT|  null|1981-11-01|5000|    10|  06-02-2021|\n| null| null|     null|  null|      null|null|  null|        null|\n| null| null|     null|  null|      null|null|  null|        null|\n| null| null|     null|  null|      null|null|  null|        null|\n+-----+-----+---------+------+----------+----+------+------------+\n\n"
     ]
    }
   ],
   "source": [
    "df.filter('Manger is NULL').show()"
   ]
  },
  {
   "cell_type": "markdown",
   "metadata": {
    "application/vnd.databricks.v1+cell": {
     "cellMetadata": {
      "byteLimit": 2048000,
      "rowLimit": 10000
     },
     "inputWidgets": {},
     "nuid": "034a264e-a419-4cf3-b503-419e0e87da3c",
     "showTitle": false,
     "title": ""
    }
   },
   "source": [
    "##2.New column with Defult values"
   ]
  },
  {
   "cell_type": "code",
   "execution_count": 0,
   "metadata": {
    "application/vnd.databricks.v1+cell": {
     "cellMetadata": {
      "byteLimit": 2048000,
      "rowLimit": 10000
     },
     "inputWidgets": {},
     "nuid": "58d5f61c-8f08-4263-9ab9-769fc7006508",
     "showTitle": false,
     "title": ""
    }
   },
   "outputs": [],
   "source": [
    "from pyspark.sql.functions import *"
   ]
  },
  {
   "cell_type": "code",
   "execution_count": 0,
   "metadata": {
    "application/vnd.databricks.v1+cell": {
     "cellMetadata": {
      "byteLimit": 2048000,
      "rowLimit": 10000
     },
     "inputWidgets": {},
     "nuid": "0a4ae8bf-73df-4cfa-a5c0-8fbd986bcd56",
     "showTitle": false,
     "title": ""
    }
   },
   "outputs": [
    {
     "output_type": "stream",
     "name": "stdout",
     "output_type": "stream",
     "text": [
      "+-----+------+---------+------+----------+----+------+------------+------+\n|EMPNO| ENAME|      JOB|Manger|  HIREDATE| SAL|DEPTNO|UPDATED_DATE|Source|\n+-----+------+---------+------+----------+----+------+------------+------+\n| 7369| SMITH|    CLERK|  7902|1980-12-17| 800|    20|  01-01-2022|  Test|\n| 7499| ALLEN| SALESMAN|  7698|1980-02-20|1600|    30|  02-01-2022|  Test|\n| 7521|  WARD| SALESMAN|  7698|1980-02-22|1250|    30|  03-01-2022|  Test|\n| 7566| JONES|  MANAGER|  7839|1981-02-04|2975|    20|  04-01-2022|  Test|\n| 7654|MARTIN| SALESMAN|  7698|1981-09-21|1250|    30|  05-01-2022|  Test|\n| 7698|   SGR|  MANAGER|  7839|1981-01-05|2850|    30|  06-01-2022|  Test|\n| 7782|  RAVI|  MANAGER|  7839|1982-09-06|2450|    10|  07-01-2022|  Test|\n| 7788| SCOTT|  ANALYST|  7566|1982-04-19|3000|    20|  08-01-2022|  Test|\n| 7839|  KING|PRESIDENT|  null|      null|5000|    10|        null|  Test|\n| 7844|TURNER| SALESMAN|  7698|1982-08-09|1500|    30|  01-02-2022|  Test|\n+-----+------+---------+------+----------+----+------+------------+------+\nonly showing top 10 rows\n\n"
     ]
    }
   ],
   "source": [
    "df1 = df.withColumn('Source',lit('Test'))\n",
    "df1.show(10)"
   ]
  },
  {
   "cell_type": "markdown",
   "metadata": {
    "application/vnd.databricks.v1+cell": {
     "cellMetadata": {
      "byteLimit": 2048000,
      "rowLimit": 10000
     },
     "inputWidgets": {},
     "nuid": "73485711-04af-4673-873b-a17a633fedad",
     "showTitle": false,
     "title": ""
    }
   },
   "source": [
    "##3.Concatinating two columns"
   ]
  },
  {
   "cell_type": "code",
   "execution_count": 0,
   "metadata": {
    "application/vnd.databricks.v1+cell": {
     "cellMetadata": {
      "byteLimit": 2048000,
      "rowLimit": 10000
     },
     "inputWidgets": {},
     "nuid": "64b0c2b6-1303-483b-9685-c141e6a01919",
     "showTitle": false,
     "title": ""
    }
   },
   "outputs": [
    {
     "output_type": "stream",
     "name": "stdout",
     "output_type": "stream",
     "text": [
      "+-----+------+---------+------+----------+----+------+------------+------+----------+\n|EMPNO| ENAME|      JOB|Manger|  HIREDATE| SAL|DEPTNO|UPDATED_DATE|Source|SOUR_ENAME|\n+-----+------+---------+------+----------+----+------+------------+------+----------+\n| 7369| SMITH|    CLERK|  7902|1980-12-17| 800|    20|  01-01-2022|  Test| TestSMITH|\n| 7499| ALLEN| SALESMAN|  7698|1980-02-20|1600|    30|  02-01-2022|  Test| TestALLEN|\n| 7521|  WARD| SALESMAN|  7698|1980-02-22|1250|    30|  03-01-2022|  Test|  TestWARD|\n| 7566| JONES|  MANAGER|  7839|1981-02-04|2975|    20|  04-01-2022|  Test| TestJONES|\n| 7654|MARTIN| SALESMAN|  7698|1981-09-21|1250|    30|  05-01-2022|  Test|TestMARTIN|\n| 7698|   SGR|  MANAGER|  7839|1981-01-05|2850|    30|  06-01-2022|  Test|   TestSGR|\n| 7782|  RAVI|  MANAGER|  7839|1982-09-06|2450|    10|  07-01-2022|  Test|  TestRAVI|\n| 7788| SCOTT|  ANALYST|  7566|1982-04-19|3000|    20|  08-01-2022|  Test| TestSCOTT|\n| 7839|  KING|PRESIDENT|  null|      null|5000|    10|        null|  Test|  TestKING|\n| 7844|TURNER| SALESMAN|  7698|1982-08-09|1500|    30|  01-02-2022|  Test|TestTURNER|\n+-----+------+---------+------+----------+----+------+------------+------+----------+\nonly showing top 10 rows\n\n"
     ]
    }
   ],
   "source": [
    "df1.withColumn('SOUR_ENAME',concat('Source','ENAME')).show(10)\n"
   ]
  },
  {
   "cell_type": "markdown",
   "metadata": {
    "application/vnd.databricks.v1+cell": {
     "cellMetadata": {
      "byteLimit": 2048000,
      "rowLimit": 10000
     },
     "inputWidgets": {},
     "nuid": "0ecf2b4d-f319-4679-89ac-55e5722fc2af",
     "showTitle": false,
     "title": ""
    }
   },
   "source": [
    "##3.Concatinating two columns with separator"
   ]
  },
  {
   "cell_type": "code",
   "execution_count": 0,
   "metadata": {
    "application/vnd.databricks.v1+cell": {
     "cellMetadata": {
      "byteLimit": 2048000,
      "rowLimit": 10000
     },
     "inputWidgets": {},
     "nuid": "c66c0d8c-6a9a-4775-99c5-d77cb82ba4d5",
     "showTitle": false,
     "title": ""
    }
   },
   "outputs": [
    {
     "output_type": "stream",
     "name": "stdout",
     "output_type": "stream",
     "text": [
      "+-----+------+---------+------+----------+----+------+------------+------+----------------+\n|EMPNO| ENAME|      JOB|Manger|  HIREDATE| SAL|DEPTNO|UPDATED_DATE|Source|      SOUR_ENAME|\n+-----+------+---------+------+----------+----+------+------------+------+----------------+\n| 7369| SMITH|    CLERK|  7902|1980-12-17| 800|    20|  01-01-2022|  Test|  Test_SMITH_800|\n| 7499| ALLEN| SALESMAN|  7698|1980-02-20|1600|    30|  02-01-2022|  Test| Test_ALLEN_1600|\n| 7521|  WARD| SALESMAN|  7698|1980-02-22|1250|    30|  03-01-2022|  Test|  Test_WARD_1250|\n| 7566| JONES|  MANAGER|  7839|1981-02-04|2975|    20|  04-01-2022|  Test| Test_JONES_2975|\n| 7654|MARTIN| SALESMAN|  7698|1981-09-21|1250|    30|  05-01-2022|  Test|Test_MARTIN_1250|\n| 7698|   SGR|  MANAGER|  7839|1981-01-05|2850|    30|  06-01-2022|  Test|   Test_SGR_2850|\n| 7782|  RAVI|  MANAGER|  7839|1982-09-06|2450|    10|  07-01-2022|  Test|  Test_RAVI_2450|\n| 7788| SCOTT|  ANALYST|  7566|1982-04-19|3000|    20|  08-01-2022|  Test| Test_SCOTT_3000|\n| 7839|  KING|PRESIDENT|  null|      null|5000|    10|        null|  Test|  Test_KING_5000|\n| 7844|TURNER| SALESMAN|  7698|1982-08-09|1500|    30|  01-02-2022|  Test|Test_TURNER_1500|\n+-----+------+---------+------+----------+----+------+------------+------+----------------+\nonly showing top 10 rows\n\n"
     ]
    }
   ],
   "source": [
    "df2 = df1.withColumn('SOUR_ENAME',concat_ws('_','Source','ENAME','SAL'))\n",
    "\n",
    "df2.show(10)"
   ]
  },
  {
   "cell_type": "markdown",
   "metadata": {
    "application/vnd.databricks.v1+cell": {
     "cellMetadata": {
      "byteLimit": 2048000,
      "rowLimit": 10000
     },
     "inputWidgets": {},
     "nuid": "c5741b15-f651-4b8b-8381-8fcd3e533cf5",
     "showTitle": false,
     "title": ""
    }
   },
   "source": [
    "##4.Change data type of column"
   ]
  },
  {
   "cell_type": "code",
   "execution_count": 0,
   "metadata": {
    "application/vnd.databricks.v1+cell": {
     "cellMetadata": {
      "byteLimit": 2048000,
      "rowLimit": 10000
     },
     "inputWidgets": {},
     "nuid": "43f5912c-3f5c-43ea-9f8f-49ae7cefb0e6",
     "showTitle": false,
     "title": ""
    }
   },
   "outputs": [
    {
     "output_type": "stream",
     "name": "stdout",
     "output_type": "stream",
     "text": [
      "root\n |-- EMPNO: integer (nullable = true)\n |-- ENAME: string (nullable = true)\n |-- JOB: string (nullable = true)\n |-- Manger: integer (nullable = true)\n |-- HIREDATE: date (nullable = true)\n |-- SAL: integer (nullable = true)\n |-- DEPTNO: integer (nullable = true)\n |-- UPDATED_DATE: string (nullable = true)\n |-- Source: string (nullable = false)\n |-- SOUR_ENAME: string (nullable = false)\n\n"
     ]
    }
   ],
   "source": [
    "df2.printSchema()"
   ]
  },
  {
   "cell_type": "code",
   "execution_count": 0,
   "metadata": {
    "application/vnd.databricks.v1+cell": {
     "cellMetadata": {
      "byteLimit": 2048000,
      "rowLimit": 10000
     },
     "inputWidgets": {},
     "nuid": "1a6ca6c8-e9aa-4fc3-b91d-175173d27a83",
     "showTitle": false,
     "title": ""
    }
   },
   "outputs": [
    {
     "output_type": "stream",
     "name": "stdout",
     "output_type": "stream",
     "text": [
      "root\n |-- EMPNO: integer (nullable = true)\n |-- ENAME: string (nullable = true)\n |-- JOB: string (nullable = true)\n |-- Manger: integer (nullable = true)\n |-- HIREDATE: date (nullable = true)\n |-- SAL: integer (nullable = true)\n |-- DEPTNO: integer (nullable = true)\n |-- UPDATED_DATE: string (nullable = true)\n |-- Source: string (nullable = false)\n |-- SOUR_ENAME: string (nullable = false)\n |-- NEW_SAL: string (nullable = true)\n |-- NEW_EMPNO: string (nullable = true)\n\n"
     ]
    }
   ],
   "source": [
    "df_cast = df2.withColumn('NEW_SAL',col('SAL').cast('string')).withColumn('NEW_EMPNO',col('EMPNO').cast('string'))\n",
    "df_cast.printSchema()"
   ]
  },
  {
   "cell_type": "markdown",
   "metadata": {
    "application/vnd.databricks.v1+cell": {
     "cellMetadata": {
      "byteLimit": 2048000,
      "rowLimit": 10000
     },
     "inputWidgets": {},
     "nuid": "f9785305-5c2a-47a3-9b5b-f4cc9b0aaa04",
     "showTitle": false,
     "title": ""
    }
   },
   "source": [
    "##5.convert from String (dd-mm-yyyy) date format to spark date format (yyyy-mm-dd)"
   ]
  },
  {
   "cell_type": "code",
   "execution_count": 0,
   "metadata": {
    "application/vnd.databricks.v1+cell": {
     "cellMetadata": {
      "byteLimit": 2048000,
      "rowLimit": 10000
     },
     "inputWidgets": {},
     "nuid": "0c36643e-5022-43f0-b984-16f099b119ab",
     "showTitle": false,
     "title": ""
    }
   },
   "outputs": [
    {
     "output_type": "stream",
     "name": "stdout",
     "output_type": "stream",
     "text": [
      "+-----+------+--------+------+----------+----+------+------------+------+----------------+\n|EMPNO| ENAME|     JOB|Manger|  HIREDATE| SAL|DEPTNO|UPDATED_DATE|Source|      SOUR_ENAME|\n+-----+------+--------+------+----------+----+------+------------+------+----------------+\n| 7369| SMITH|   CLERK|  7902|1980-12-17| 800|    20|  01-01-2022|  Test|  Test_SMITH_800|\n| 7499| ALLEN|SALESMAN|  7698|1980-02-20|1600|    30|  02-01-2022|  Test| Test_ALLEN_1600|\n| 7521|  WARD|SALESMAN|  7698|1980-02-22|1250|    30|  03-01-2022|  Test|  Test_WARD_1250|\n| 7566| JONES| MANAGER|  7839|1981-02-04|2975|    20|  04-01-2022|  Test| Test_JONES_2975|\n| 7654|MARTIN|SALESMAN|  7698|1981-09-21|1250|    30|  05-01-2022|  Test|Test_MARTIN_1250|\n+-----+------+--------+------+----------+----+------+------------+------+----------------+\nonly showing top 5 rows\n\n"
     ]
    }
   ],
   "source": [
    "df2.show(5)"
   ]
  },
  {
   "cell_type": "code",
   "execution_count": 0,
   "metadata": {
    "application/vnd.databricks.v1+cell": {
     "cellMetadata": {
      "byteLimit": 2048000,
      "rowLimit": 10000
     },
     "inputWidgets": {},
     "nuid": "d45880c8-0c39-47b7-923c-c9fdfe310989",
     "showTitle": false,
     "title": ""
    }
   },
   "outputs": [
    {
     "output_type": "stream",
     "name": "stdout",
     "output_type": "stream",
     "text": [
      "+-----+------+--------+------+----------+----+------+------------+------+----------------+\n|EMPNO| ENAME|     JOB|Manger|  HIREDATE| SAL|DEPTNO|UPDATED_DATE|Source|      SOUR_ENAME|\n+-----+------+--------+------+----------+----+------+------------+------+----------------+\n| 7369| SMITH|   CLERK|  7902|1980-12-17| 800|    20|  2022-01-01|  Test|  Test_SMITH_800|\n| 7499| ALLEN|SALESMAN|  7698|1980-02-20|1600|    30|  2022-01-02|  Test| Test_ALLEN_1600|\n| 7521|  WARD|SALESMAN|  7698|1980-02-22|1250|    30|  2022-01-03|  Test|  Test_WARD_1250|\n| 7566| JONES| MANAGER|  7839|1981-02-04|2975|    20|  2022-01-04|  Test| Test_JONES_2975|\n| 7654|MARTIN|SALESMAN|  7698|1981-09-21|1250|    30|  2022-01-05|  Test|Test_MARTIN_1250|\n+-----+------+--------+------+----------+----+------+------------+------+----------------+\nonly showing top 5 rows\n\n"
     ]
    }
   ],
   "source": [
    "df3 = df2.withColumn('UPDATED_DATE',to_date('UPDATED_DATE','dd-MM-yyyy'))\n",
    "df3.show(5)"
   ]
  },
  {
   "cell_type": "markdown",
   "metadata": {
    "application/vnd.databricks.v1+cell": {
     "cellMetadata": {
      "byteLimit": 2048000,
      "rowLimit": 10000
     },
     "inputWidgets": {},
     "nuid": "e30b946a-a6d8-4bde-8836-95b6be0fe722",
     "showTitle": false,
     "title": ""
    }
   },
   "source": [
    "##6.Adding new columns with different values"
   ]
  },
  {
   "cell_type": "code",
   "execution_count": 0,
   "metadata": {
    "application/vnd.databricks.v1+cell": {
     "cellMetadata": {
      "byteLimit": 2048000,
      "rowLimit": 10000
     },
     "inputWidgets": {},
     "nuid": "8b1b33cd-f8e2-4aca-885c-4e4c0dcb19e1",
     "showTitle": false,
     "title": ""
    }
   },
   "outputs": [
    {
     "output_type": "stream",
     "name": "stdout",
     "output_type": "stream",
     "text": [
      "+-----+------+---------+------+----------+----+------+------------+------+----------------+---------+\n|EMPNO| ENAME|      JOB|Manger|  HIREDATE| SAL|DEPTNO|UPDATED_DATE|Source|      SOUR_ENAME|Positions|\n+-----+------+---------+------+----------+----+------+------------+------+----------------+---------+\n| 7369| SMITH|    CLERK|  7902|1980-12-17| 800|    20|  2022-01-01|  Test|  Test_SMITH_800|   Level3|\n| 7499| ALLEN| SALESMAN|  7698|1980-02-20|1600|    30|  2022-01-02|  Test| Test_ALLEN_1600|   Level4|\n| 7521|  WARD| SALESMAN|  7698|1980-02-22|1250|    30|  2022-01-03|  Test|  Test_WARD_1250|   Level4|\n| 7566| JONES|  MANAGER|  7839|1981-02-04|2975|    20|  2022-01-04|  Test| Test_JONES_2975|   Level2|\n| 7654|MARTIN| SALESMAN|  7698|1981-09-21|1250|    30|  2022-01-05|  Test|Test_MARTIN_1250|   Level4|\n| 7698|   SGR|  MANAGER|  7839|1981-01-05|2850|    30|  2022-01-06|  Test|   Test_SGR_2850|   Level2|\n| 7782|  RAVI|  MANAGER|  7839|1982-09-06|2450|    10|  2022-01-07|  Test|  Test_RAVI_2450|   Level2|\n| 7788| SCOTT|  ANALYST|  7566|1982-04-19|3000|    20|  2022-01-08|  Test| Test_SCOTT_3000|   Level3|\n| 7839|  KING|PRESIDENT|  null|      null|5000|    10|        null|  Test|  Test_KING_5000|   Level1|\n| 7844|TURNER| SALESMAN|  7698|1982-08-09|1500|    30|  2022-02-01|  Test|Test_TURNER_1500|   Level4|\n+-----+------+---------+------+----------+----+------+------------+------+----------------+---------+\nonly showing top 10 rows\n\n"
     ]
    }
   ],
   "source": [
    "\n",
    "df4 = df3.withColumn('Positions',when( col('JOB') == 'SALESMAN', 'Level4')\n",
    "               .when( col('JOB') == 'CLERK' ,'Level3')\n",
    "               .when( col('JOB') == 'ANALYST' ,'Level3')\n",
    "               .when( col('JOB') == 'doctor' ,'Level3')\n",
    "               .when( col('JOB') == 'MANAGER','Level2')\n",
    "               .when(  col('JOB') == 'PRESIDENT','Level1'))\n",
    "\n",
    "df4.show(10)"
   ]
  },
  {
   "cell_type": "markdown",
   "metadata": {
    "application/vnd.databricks.v1+cell": {
     "cellMetadata": {
      "byteLimit": 2048000,
      "rowLimit": 10000
     },
     "inputWidgets": {},
     "nuid": "f3904b9c-49ab-4e08-88ba-7c7b63ea60b7",
     "showTitle": false,
     "title": ""
    }
   },
   "source": [
    "##7.Adding current timestamp to dataframe"
   ]
  },
  {
   "cell_type": "code",
   "execution_count": 0,
   "metadata": {
    "application/vnd.databricks.v1+cell": {
     "cellMetadata": {
      "byteLimit": 2048000,
      "rowLimit": 10000
     },
     "inputWidgets": {},
     "nuid": "3bf6eb45-766f-478a-baf3-f59d5198d3fe",
     "showTitle": false,
     "title": ""
    }
   },
   "outputs": [
    {
     "output_type": "stream",
     "name": "stdout",
     "output_type": "stream",
     "text": [
      "+-----+------+---------+------+----------+----+------+------------+------+----------------+---------+-------------+\n|EMPNO| ENAME|      JOB|Manger|  HIREDATE| SAL|DEPTNO|UPDATED_DATE|Source|      SOUR_ENAME|Positions|MODIFIED_DATE|\n+-----+------+---------+------+----------+----+------+------------+------+----------------+---------+-------------+\n| 7369| SMITH|    CLERK|  7902|1980-12-17| 800|    20|  2022-01-01|  Test|  Test_SMITH_800|   Level3|   2024-01-24|\n| 7499| ALLEN| SALESMAN|  7698|1980-02-20|1600|    30|  2022-01-02|  Test| Test_ALLEN_1600|   Level4|   2024-01-24|\n| 7521|  WARD| SALESMAN|  7698|1980-02-22|1250|    30|  2022-01-03|  Test|  Test_WARD_1250|   Level4|   2024-01-24|\n| 7566| JONES|  MANAGER|  7839|1981-02-04|2975|    20|  2022-01-04|  Test| Test_JONES_2975|   Level2|   2024-01-24|\n| 7654|MARTIN| SALESMAN|  7698|1981-09-21|1250|    30|  2022-01-05|  Test|Test_MARTIN_1250|   Level4|   2024-01-24|\n| 7698|   SGR|  MANAGER|  7839|1981-01-05|2850|    30|  2022-01-06|  Test|   Test_SGR_2850|   Level2|   2024-01-24|\n| 7782|  RAVI|  MANAGER|  7839|1982-09-06|2450|    10|  2022-01-07|  Test|  Test_RAVI_2450|   Level2|   2024-01-24|\n| 7788| SCOTT|  ANALYST|  7566|1982-04-19|3000|    20|  2022-01-08|  Test| Test_SCOTT_3000|   Level3|   2024-01-24|\n| 7839|  KING|PRESIDENT|  null|      null|5000|    10|        null|  Test|  Test_KING_5000|   Level1|   2024-01-24|\n| 7844|TURNER| SALESMAN|  7698|1982-08-09|1500|    30|  2022-02-01|  Test|Test_TURNER_1500|   Level4|   2024-01-24|\n+-----+------+---------+------+----------+----+------+------------+------+----------------+---------+-------------+\nonly showing top 10 rows\n\n"
     ]
    }
   ],
   "source": [
    "df5 =df4.withColumn('MODIFIED_DATE',current_date())\n",
    "df5.show(10)"
   ]
  },
  {
   "cell_type": "markdown",
   "metadata": {
    "application/vnd.databricks.v1+cell": {
     "cellMetadata": {
      "byteLimit": 2048000,
      "rowLimit": 10000
     },
     "inputWidgets": {},
     "nuid": "2a0b355d-dd57-47c1-9fa0-61b3df921af3",
     "showTitle": false,
     "title": ""
    }
   },
   "source": [
    "##8.create year,month,day columns from Date Column"
   ]
  },
  {
   "cell_type": "code",
   "execution_count": 0,
   "metadata": {
    "application/vnd.databricks.v1+cell": {
     "cellMetadata": {
      "byteLimit": 2048000,
      "rowLimit": 10000
     },
     "inputWidgets": {},
     "nuid": "927b4e66-5397-42a7-946e-77348510ab62",
     "showTitle": false,
     "title": ""
    }
   },
   "outputs": [
    {
     "output_type": "stream",
     "name": "stdout",
     "output_type": "stream",
     "text": [
      "+-----+------+---------+------+----------+----+------+------------+------+----------------+---------+-------------+----+-----+----+\n|EMPNO| ENAME|      JOB|Manger|  HIREDATE| SAL|DEPTNO|UPDATED_DATE|Source|      SOUR_ENAME|Positions|MODIFIED_DATE| day|Month|year|\n+-----+------+---------+------+----------+----+------+------------+------+----------------+---------+-------------+----+-----+----+\n| 7369| SMITH|    CLERK|  7902|1980-12-17| 800|    20|  2022-01-01|  Test|  Test_SMITH_800|   Level3|   2024-01-24|  17|   12|1980|\n| 7499| ALLEN| SALESMAN|  7698|1980-02-20|1600|    30|  2022-01-02|  Test| Test_ALLEN_1600|   Level4|   2024-01-24|  20|   02|1980|\n| 7521|  WARD| SALESMAN|  7698|1980-02-22|1250|    30|  2022-01-03|  Test|  Test_WARD_1250|   Level4|   2024-01-24|  22|   02|1980|\n| 7566| JONES|  MANAGER|  7839|1981-02-04|2975|    20|  2022-01-04|  Test| Test_JONES_2975|   Level2|   2024-01-24|  04|   02|1981|\n| 7654|MARTIN| SALESMAN|  7698|1981-09-21|1250|    30|  2022-01-05|  Test|Test_MARTIN_1250|   Level4|   2024-01-24|  21|   09|1981|\n| 7698|   SGR|  MANAGER|  7839|1981-01-05|2850|    30|  2022-01-06|  Test|   Test_SGR_2850|   Level2|   2024-01-24|  05|   01|1981|\n| 7782|  RAVI|  MANAGER|  7839|1982-09-06|2450|    10|  2022-01-07|  Test|  Test_RAVI_2450|   Level2|   2024-01-24|  06|   09|1982|\n| 7788| SCOTT|  ANALYST|  7566|1982-04-19|3000|    20|  2022-01-08|  Test| Test_SCOTT_3000|   Level3|   2024-01-24|  19|   04|1982|\n| 7839|  KING|PRESIDENT|  null|      null|5000|    10|        null|  Test|  Test_KING_5000|   Level1|   2024-01-24|null| null|null|\n| 7844|TURNER| SALESMAN|  7698|1982-08-09|1500|    30|  2022-02-01|  Test|Test_TURNER_1500|   Level4|   2024-01-24|  09|   08|1982|\n+-----+------+---------+------+----------+----+------+------------+------+----------------+---------+-------------+----+-----+----+\nonly showing top 10 rows\n\n"
     ]
    }
   ],
   "source": [
    "df6 = df5.withColumn('day',date_format('HIREDATE','dd')).withColumn('Month',date_format('HIREDATE','MM')).withColumn('year',date_format('HIREDATE','yyyy'))\n",
    "df6.show(10)"
   ]
  },
  {
   "cell_type": "markdown",
   "metadata": {
    "application/vnd.databricks.v1+cell": {
     "cellMetadata": {
      "byteLimit": 2048000,
      "rowLimit": 10000
     },
     "inputWidgets": {},
     "nuid": "3b0f9f6c-8969-4638-a5bb-f5ab62a0d884",
     "showTitle": false,
     "title": ""
    }
   },
   "source": [
    "##9.Create A partitioned dataframe by year,month,day and save as a parquet file"
   ]
  },
  {
   "cell_type": "code",
   "execution_count": 0,
   "metadata": {
    "application/vnd.databricks.v1+cell": {
     "cellMetadata": {
      "byteLimit": 2048000,
      "rowLimit": 10000
     },
     "inputWidgets": {},
     "nuid": "41ec43d4-33b6-41ce-b736-f417878f0b18",
     "showTitle": false,
     "title": ""
    }
   },
   "outputs": [],
   "source": [
    "df6.write.partitionBy('year','month','day').mode('overwrite').parquet('dbfs:/FileStore/shared_uploads/nookala382@gmail.com/output/EMP_HIREDATE')\n"
   ]
  },
  {
   "cell_type": "markdown",
   "metadata": {
    "application/vnd.databricks.v1+cell": {
     "cellMetadata": {
      "byteLimit": 2048000,
      "rowLimit": 10000
     },
     "inputWidgets": {},
     "nuid": "ae9e303b-68b8-441f-afb5-e50b4bd81f36",
     "showTitle": false,
     "title": ""
    }
   },
   "source": [
    "##10.Create A partitioned dataframe on deptno and save as a parquet file"
   ]
  },
  {
   "cell_type": "code",
   "execution_count": 0,
   "metadata": {
    "application/vnd.databricks.v1+cell": {
     "cellMetadata": {
      "byteLimit": 2048000,
      "rowLimit": 10000
     },
     "inputWidgets": {},
     "nuid": "47182004-66de-407c-be45-2211ba289217",
     "showTitle": false,
     "title": ""
    }
   },
   "outputs": [],
   "source": [
    "df6.write.partitionBy('DEPTNO').mode('overwrite').parquet('dbfs:/FileStore/shared_uploads/nookala382@gmail.com/output/EMP_DEPTNO')\n"
   ]
  },
  {
   "cell_type": "markdown",
   "metadata": {
    "application/vnd.databricks.v1+cell": {
     "cellMetadata": {
      "byteLimit": 2048000,
      "rowLimit": 10000
     },
     "inputWidgets": {},
     "nuid": "dfcd9503-bb34-4e57-831f-2bbca5b69c2f",
     "showTitle": false,
     "title": ""
    }
   },
   "source": [
    "##11.print all parquet file names in folder"
   ]
  },
  {
   "cell_type": "code",
   "execution_count": 0,
   "metadata": {
    "application/vnd.databricks.v1+cell": {
     "cellMetadata": {
      "byteLimit": 2048000,
      "rowLimit": 10000
     },
     "inputWidgets": {},
     "nuid": "e0fcfbee-fa42-4927-97af-922f88dab688",
     "showTitle": false,
     "title": ""
    }
   },
   "outputs": [
    {
     "output_type": "stream",
     "name": "stdout",
     "output_type": "stream",
     "text": [
      "+--------------------------------------------------------------------------------------------------------------------------------------------------------------------------------+\n|file_name                                                                                                                                                                       |\n+--------------------------------------------------------------------------------------------------------------------------------------------------------------------------------+\n|dbfs:/FileStore/shared_uploads/nookala382@gmail.com/output/EMP_DEPTNO/DEPTNO=30/part-00000-tid-316395442754821582-069db427-f7f4-4c4e-acfd-18947e9a6872-656-4.c000.snappy.parquet|\n|dbfs:/FileStore/shared_uploads/nookala382@gmail.com/output/EMP_DEPTNO/DEPTNO=30/part-00000-tid-316395442754821582-069db427-f7f4-4c4e-acfd-18947e9a6872-656-4.c000.snappy.parquet|\n|dbfs:/FileStore/shared_uploads/nookala382@gmail.com/output/EMP_DEPTNO/DEPTNO=30/part-00000-tid-316395442754821582-069db427-f7f4-4c4e-acfd-18947e9a6872-656-4.c000.snappy.parquet|\n|dbfs:/FileStore/shared_uploads/nookala382@gmail.com/output/EMP_DEPTNO/DEPTNO=30/part-00000-tid-316395442754821582-069db427-f7f4-4c4e-acfd-18947e9a6872-656-4.c000.snappy.parquet|\n|dbfs:/FileStore/shared_uploads/nookala382@gmail.com/output/EMP_DEPTNO/DEPTNO=30/part-00000-tid-316395442754821582-069db427-f7f4-4c4e-acfd-18947e9a6872-656-4.c000.snappy.parquet|\n|dbfs:/FileStore/shared_uploads/nookala382@gmail.com/output/EMP_DEPTNO/DEPTNO=30/part-00000-tid-316395442754821582-069db427-f7f4-4c4e-acfd-18947e9a6872-656-4.c000.snappy.parquet|\n|dbfs:/FileStore/shared_uploads/nookala382@gmail.com/output/EMP_DEPTNO/DEPTNO=30/part-00000-tid-316395442754821582-069db427-f7f4-4c4e-acfd-18947e9a6872-656-4.c000.snappy.parquet|\n|dbfs:/FileStore/shared_uploads/nookala382@gmail.com/output/EMP_DEPTNO/DEPTNO=30/part-00000-tid-316395442754821582-069db427-f7f4-4c4e-acfd-18947e9a6872-656-4.c000.snappy.parquet|\n|dbfs:/FileStore/shared_uploads/nookala382@gmail.com/output/EMP_DEPTNO/DEPTNO=30/part-00000-tid-316395442754821582-069db427-f7f4-4c4e-acfd-18947e9a6872-656-4.c000.snappy.parquet|\n|dbfs:/FileStore/shared_uploads/nookala382@gmail.com/output/EMP_DEPTNO/DEPTNO=30/part-00000-tid-316395442754821582-069db427-f7f4-4c4e-acfd-18947e9a6872-656-4.c000.snappy.parquet|\n|dbfs:/FileStore/shared_uploads/nookala382@gmail.com/output/EMP_DEPTNO/DEPTNO=30/part-00000-tid-316395442754821582-069db427-f7f4-4c4e-acfd-18947e9a6872-656-4.c000.snappy.parquet|\n|dbfs:/FileStore/shared_uploads/nookala382@gmail.com/output/EMP_DEPTNO/DEPTNO=30/part-00000-tid-316395442754821582-069db427-f7f4-4c4e-acfd-18947e9a6872-656-4.c000.snappy.parquet|\n|dbfs:/FileStore/shared_uploads/nookala382@gmail.com/output/EMP_DEPTNO/DEPTNO=20/part-00000-tid-316395442754821582-069db427-f7f4-4c4e-acfd-18947e9a6872-656-3.c000.snappy.parquet|\n|dbfs:/FileStore/shared_uploads/nookala382@gmail.com/output/EMP_DEPTNO/DEPTNO=20/part-00000-tid-316395442754821582-069db427-f7f4-4c4e-acfd-18947e9a6872-656-3.c000.snappy.parquet|\n|dbfs:/FileStore/shared_uploads/nookala382@gmail.com/output/EMP_DEPTNO/DEPTNO=20/part-00000-tid-316395442754821582-069db427-f7f4-4c4e-acfd-18947e9a6872-656-3.c000.snappy.parquet|\n|dbfs:/FileStore/shared_uploads/nookala382@gmail.com/output/EMP_DEPTNO/DEPTNO=20/part-00000-tid-316395442754821582-069db427-f7f4-4c4e-acfd-18947e9a6872-656-3.c000.snappy.parquet|\n|dbfs:/FileStore/shared_uploads/nookala382@gmail.com/output/EMP_DEPTNO/DEPTNO=20/part-00000-tid-316395442754821582-069db427-f7f4-4c4e-acfd-18947e9a6872-656-3.c000.snappy.parquet|\n|dbfs:/FileStore/shared_uploads/nookala382@gmail.com/output/EMP_DEPTNO/DEPTNO=20/part-00000-tid-316395442754821582-069db427-f7f4-4c4e-acfd-18947e9a6872-656-3.c000.snappy.parquet|\n|dbfs:/FileStore/shared_uploads/nookala382@gmail.com/output/EMP_DEPTNO/DEPTNO=20/part-00000-tid-316395442754821582-069db427-f7f4-4c4e-acfd-18947e9a6872-656-3.c000.snappy.parquet|\n|dbfs:/FileStore/shared_uploads/nookala382@gmail.com/output/EMP_DEPTNO/DEPTNO=20/part-00000-tid-316395442754821582-069db427-f7f4-4c4e-acfd-18947e9a6872-656-3.c000.snappy.parquet|\n+--------------------------------------------------------------------------------------------------------------------------------------------------------------------------------+\nonly showing top 20 rows\n\n"
     ]
    }
   ],
   "source": [
    "file_name = spark.read.format('parquet').load('dbfs:/FileStore/shared_uploads/nookala382@gmail.com/output/EMP_DEPTNO').withColumn('file_name',input_file_name())\n",
    "file_name.select('file_name').show(truncate = False)"
   ]
  },
  {
   "cell_type": "markdown",
   "metadata": {
    "application/vnd.databricks.v1+cell": {
     "cellMetadata": {
      "byteLimit": 2048000,
      "rowLimit": 10000
     },
     "inputWidgets": {},
     "nuid": "a79933a2-3834-4282-b7e5-5a21d45ba38c",
     "showTitle": false,
     "title": ""
    }
   },
   "source": [
    "##12.Ftech all parquet file row count in folder"
   ]
  },
  {
   "cell_type": "code",
   "execution_count": 0,
   "metadata": {
    "application/vnd.databricks.v1+cell": {
     "cellMetadata": {
      "byteLimit": 2048000,
      "rowLimit": 10000
     },
     "inputWidgets": {},
     "nuid": "f0291644-b813-4d7a-923f-3acb695a79f3",
     "showTitle": false,
     "title": ""
    }
   },
   "outputs": [
    {
     "output_type": "stream",
     "name": "stdout",
     "output_type": "stream",
     "text": [
      "+--------------------+-----+\n|           file_name|count|\n+--------------------+-----+\n|dbfs:/FileStore/s...|   12|\n|dbfs:/FileStore/s...|   10|\n|dbfs:/FileStore/s...|    6|\n|dbfs:/FileStore/s...|    2|\n|dbfs:/FileStore/s...|    3|\n+--------------------+-----+\n\n"
     ]
    }
   ],
   "source": [
    "file_count = spark.read.format('parquet').load('dbfs:/FileStore/shared_uploads/nookala382@gmail.com/output/EMP_DEPTNO').withColumn('file_name',input_file_name())\n",
    "file_count.groupBy('file_name').count().show()"
   ]
  },
  {
   "cell_type": "markdown",
   "metadata": {
    "application/vnd.databricks.v1+cell": {
     "cellMetadata": {
      "byteLimit": 2048000,
      "rowLimit": 10000
     },
     "inputWidgets": {},
     "nuid": "8d5a228b-69d2-4136-8f78-79e408f08b55",
     "showTitle": false,
     "title": ""
    }
   },
   "source": [
    "##13.read all files from a single directory"
   ]
  },
  {
   "cell_type": "code",
   "execution_count": 0,
   "metadata": {
    "application/vnd.databricks.v1+cell": {
     "cellMetadata": {
      "byteLimit": 2048000,
      "rowLimit": 10000
     },
     "inputWidgets": {},
     "nuid": "e9d4b07e-99e1-4c4d-bd07-9f1e0ee12f04",
     "showTitle": false,
     "title": ""
    }
   },
   "outputs": [
    {
     "output_type": "stream",
     "name": "stdout",
     "output_type": "stream",
     "text": [
      "+-----+------+--------+------+----------+----+------------+------+----------------+---------+-------------+----+-----+----+------+\n|EMPNO| ENAME|     JOB|Manger|  HIREDATE| SAL|UPDATED_DATE|Source|      SOUR_ENAME|Positions|MODIFIED_DATE| day|Month|year|DEPTNO|\n+-----+------+--------+------+----------+----+------------+------+----------------+---------+-------------+----+-----+----+------+\n| 7654|MARTIN|SALESMAN|  7698|1981-09-21|1250|  2022-01-05|  Test|Test_MARTIN_1250|   Level4|   2024-01-24|  21|   09|1981|    30|\n| 7698|   SGR| MANAGER|  7839|1981-01-05|2850|  2022-01-06|  Test|   Test_SGR_2850|   Level2|   2024-01-24|  05|   01|1981|    30|\n| 7844|TURNER|SALESMAN|  7698|1982-08-09|1500|  2022-02-01|  Test|Test_TURNER_1500|   Level4|   2024-01-24|  09|   08|1982|    30|\n| 7900| JAMES|   CLERK|  7698|1987-03-12| 950|  2022-02-03|  Test|  Test_JAMES_950|   Level3|   2024-01-24|  12|   03|1987|    30|\n| 7499| ALLEN|SALESMAN|  7698|1985-02-20|1600|  2022-02-08|  Test| Test_ALLEN_1600|   Level4|   2024-01-24|  20|   02|1985|    30|\n| 7521|  WARD|SALESMAN|  7698|1985-02-22|1250|        null|  Test|  Test_WARD_1250|   Level4|   2024-01-24|  22|   02|1985|    30|\n| 7654|MARTIN|SALESMAN|  7698|1986-09-21|1250|  2021-02-02|  Test|Test_MARTIN_1250|   Level4|   2024-01-24|  21|   09|1986|    30|\n| 7698|   SGR| MANAGER|  7839|1986-01-05|2850|  2021-02-03|  Test|   Test_SGR_2850|   Level2|   2024-01-24|  05|   01|1986|    30|\n| 7844|TURNER|SALESMAN|  7698|1981-08-09|1500|  2021-02-07|  Test|Test_TURNER_1500|   Level4|   2024-01-24|  09|   08|1981|    30|\n| 7900| JAMES|   CLERK|  7698|      null| 950|        null|  Test|  Test_JAMES_950|   Level3|   2024-01-24|null| null|null|    30|\n+-----+------+--------+------+----------+----+------------+------+----------------+---------+-------------+----+-----+----+------+\nonly showing top 10 rows\n\n"
     ]
    }
   ],
   "source": [
    "df_directory = spark.read.format('parquet').option('recursiveFileLookp',True).option('header',True).option('inferSchema',True).option('nullValue','null').load('dbfs:/FileStore/shared_uploads/nookala382@gmail.com/output/EMP_DEPTNO')\n",
    "\n",
    "df_directory.show(10)"
   ]
  },
  {
   "cell_type": "markdown",
   "metadata": {
    "application/vnd.databricks.v1+cell": {
     "cellMetadata": {
      "byteLimit": 2048000,
      "rowLimit": 10000
     },
     "inputWidgets": {},
     "nuid": "aa1c3a6c-d9ec-4a84-a674-5c0389a9393e",
     "showTitle": false,
     "title": ""
    }
   },
   "source": [
    "##14.read all parequet files from a directory inside another directory (nested/sub directory)"
   ]
  },
  {
   "cell_type": "code",
   "execution_count": 0,
   "metadata": {
    "application/vnd.databricks.v1+cell": {
     "cellMetadata": {
      "byteLimit": 2048000,
      "rowLimit": 10000
     },
     "inputWidgets": {},
     "nuid": "95459a1a-443a-439d-a769-141e891c76c2",
     "showTitle": false,
     "title": ""
    }
   },
   "outputs": [
    {
     "output_type": "stream",
     "name": "stdout",
     "output_type": "stream",
     "text": [
      "+-----+------+--------+------+----------+----+------------+------+----------------+---------+-------------+----+-----+----+------+\n|EMPNO| ENAME|     JOB|Manger|  HIREDATE| SAL|UPDATED_DATE|Source|      SOUR_ENAME|Positions|MODIFIED_DATE| day|Month|year|DEPTNO|\n+-----+------+--------+------+----------+----+------------+------+----------------+---------+-------------+----+-----+----+------+\n| 7654|MARTIN|SALESMAN|  7698|1981-09-21|1250|  2022-01-05|  Test|Test_MARTIN_1250|   Level4|   2024-01-24|  21|   09|1981|    30|\n| 7698|   SGR| MANAGER|  7839|1981-01-05|2850|  2022-01-06|  Test|   Test_SGR_2850|   Level2|   2024-01-24|  05|   01|1981|    30|\n| 7844|TURNER|SALESMAN|  7698|1982-08-09|1500|  2022-02-01|  Test|Test_TURNER_1500|   Level4|   2024-01-24|  09|   08|1982|    30|\n| 7900| JAMES|   CLERK|  7698|1987-03-12| 950|  2022-02-03|  Test|  Test_JAMES_950|   Level3|   2024-01-24|  12|   03|1987|    30|\n| 7499| ALLEN|SALESMAN|  7698|1985-02-20|1600|  2022-02-08|  Test| Test_ALLEN_1600|   Level4|   2024-01-24|  20|   02|1985|    30|\n| 7521|  WARD|SALESMAN|  7698|1985-02-22|1250|        null|  Test|  Test_WARD_1250|   Level4|   2024-01-24|  22|   02|1985|    30|\n| 7654|MARTIN|SALESMAN|  7698|1986-09-21|1250|  2021-02-02|  Test|Test_MARTIN_1250|   Level4|   2024-01-24|  21|   09|1986|    30|\n| 7698|   SGR| MANAGER|  7839|1986-01-05|2850|  2021-02-03|  Test|   Test_SGR_2850|   Level2|   2024-01-24|  05|   01|1986|    30|\n| 7844|TURNER|SALESMAN|  7698|1981-08-09|1500|  2021-02-07|  Test|Test_TURNER_1500|   Level4|   2024-01-24|  09|   08|1981|    30|\n| 7900| JAMES|   CLERK|  7698|      null| 950|        null|  Test|  Test_JAMES_950|   Level3|   2024-01-24|null| null|null|    30|\n+-----+------+--------+------+----------+----+------------+------+----------------+---------+-------------+----+-----+----+------+\nonly showing top 10 rows\n\n"
     ]
    }
   ],
   "source": [
    "df_sub_directory = spark.read.format('parquet').option('recursiveFileLookp',True).option('header',True).option('inferSchema',True).option('nullValue','null').load('dbfs:/FileStore/shared_uploads/nookala382@gmail.com/output/EMP_DEPTNO')\n",
    "\n",
    "df_sub_directory.show(10)"
   ]
  },
  {
   "cell_type": "code",
   "execution_count": 0,
   "metadata": {
    "application/vnd.databricks.v1+cell": {
     "cellMetadata": {
      "byteLimit": 2048000,
      "rowLimit": 10000
     },
     "inputWidgets": {},
     "nuid": "8894618c-e6fe-45da-8cc1-28e89b83a9e1",
     "showTitle": false,
     "title": ""
    }
   },
   "outputs": [
    {
     "output_type": "stream",
     "name": "stdout",
     "output_type": "stream",
     "text": [
      "+------------+-----+\n|partition_id|count|\n+------------+-----+\n|           0|   33|\n+------------+-----+\n\n"
     ]
    }
   ],
   "source": [
    "df6.withColumn('partition_id',spark_partition_id()).groupBy('partition_id').count().show()"
   ]
  },
  {
   "cell_type": "markdown",
   "metadata": {
    "application/vnd.databricks.v1+cell": {
     "cellMetadata": {
      "byteLimit": 2048000,
      "rowLimit": 10000
     },
     "inputWidgets": {},
     "nuid": "684000d6-6227-48e0-83cb-791b832af0f2",
     "showTitle": false,
     "title": ""
    }
   },
   "source": [
    "##15.Create A partitioned dataframe by year,month,day save it to Employee Hire table"
   ]
  },
  {
   "cell_type": "code",
   "execution_count": 0,
   "metadata": {
    "application/vnd.databricks.v1+cell": {
     "cellMetadata": {
      "byteLimit": 2048000,
      "rowLimit": 10000
     },
     "inputWidgets": {},
     "nuid": "c2af82e5-c108-4f7c-bee9-3d089b703ad5",
     "showTitle": false,
     "title": ""
    }
   },
   "outputs": [],
   "source": [
    "df6.write.partitionBy('year','month','day').saveAsTable('Employee_Hire')"
   ]
  },
  {
   "cell_type": "markdown",
   "metadata": {
    "application/vnd.databricks.v1+cell": {
     "cellMetadata": {
      "byteLimit": 2048000,
      "rowLimit": 10000
     },
     "inputWidgets": {},
     "nuid": "84e32146-21a2-458e-b168-e90565d1dc61",
     "showTitle": false,
     "title": ""
    }
   },
   "source": [
    "##16.Dataframe Write Modes\n",
    "\n",
    "1.overwrite – mode is used to overwrite the existing file. \\\n",
    "2.append – To add the data to the existing file. \\\n",
    "3.ignore – Ignores write operation when the file already exists. \\\n",
    "4.error – This is a default option when the file already exists, it returns an error."
   ]
  },
  {
   "cell_type": "code",
   "execution_count": 0,
   "metadata": {
    "application/vnd.databricks.v1+cell": {
     "cellMetadata": {
      "byteLimit": 2048000,
      "rowLimit": 10000
     },
     "inputWidgets": {},
     "nuid": "d261ee81-c22a-46ff-a83a-76a9744001a5",
     "showTitle": false,
     "title": ""
    }
   },
   "outputs": [
    {
     "output_type": "stream",
     "name": "stdout",
     "output_type": "stream",
     "text": [
      "Out[310]: 33"
     ]
    }
   ],
   "source": [
    "#overwrite – mode is used to overwrite the existing file.\n",
    "df6.write.mode('overwrite').saveAsTable('Employee_Hire')\n",
    "df6.count()"
   ]
  },
  {
   "cell_type": "code",
   "execution_count": 0,
   "metadata": {
    "application/vnd.databricks.v1+cell": {
     "cellMetadata": {
      "byteLimit": 2048000,
      "rowLimit": 10000
     },
     "inputWidgets": {},
     "nuid": "7fed011d-461d-40ce-b742-3ae37367bd6e",
     "showTitle": false,
     "title": ""
    }
   },
   "outputs": [
    {
     "output_type": "stream",
     "name": "stdout",
     "output_type": "stream",
     "text": [
      "Out[311]: 33"
     ]
    }
   ],
   "source": [
    "# append – To add the data to the existing file.\n",
    "df6.write.mode('append').saveAsTable('Employee_Hire')\n",
    "df6.count()"
   ]
  },
  {
   "cell_type": "code",
   "execution_count": 0,
   "metadata": {
    "application/vnd.databricks.v1+cell": {
     "cellMetadata": {
      "byteLimit": 2048000,
      "rowLimit": 10000
     },
     "inputWidgets": {},
     "nuid": "76566842-ccf8-413d-8f26-0128374ebe23",
     "showTitle": false,
     "title": ""
    }
   },
   "outputs": [
    {
     "output_type": "stream",
     "name": "stdout",
     "output_type": "stream",
     "text": [
      "Out[312]: 33"
     ]
    }
   ],
   "source": [
    "#ignore – Ignores write operation when the file already exists.\n",
    "df6.write.mode('ignore').saveAsTable('Employee_Hire')\n",
    "df6.count()"
   ]
  },
  {
   "cell_type": "markdown",
   "metadata": {
    "application/vnd.databricks.v1+cell": {
     "cellMetadata": {
      "byteLimit": 2048000,
      "rowLimit": 10000
     },
     "inputWidgets": {},
     "nuid": "0472c8ea-4318-44c2-9c1c-7778cfa41220",
     "showTitle": false,
     "title": ""
    }
   },
   "source": [
    "##17.Repartition"
   ]
  },
  {
   "cell_type": "code",
   "execution_count": 0,
   "metadata": {
    "application/vnd.databricks.v1+cell": {
     "cellMetadata": {
      "byteLimit": 2048000,
      "rowLimit": 10000
     },
     "inputWidgets": {},
     "nuid": "65f473d3-9727-4fc7-9b5c-fb006ff9b84e",
     "showTitle": false,
     "title": ""
    }
   },
   "outputs": [
    {
     "output_type": "stream",
     "name": "stdout",
     "output_type": "stream",
     "text": [
      "Out[313]: 4"
     ]
    }
   ],
   "source": [
    "df7 = df6.repartition(4).withColumn('partition_id',spark_partition_id())\n",
    "df7.rdd.getNumPartitions()"
   ]
  },
  {
   "cell_type": "markdown",
   "metadata": {
    "application/vnd.databricks.v1+cell": {
     "cellMetadata": {
      "byteLimit": 2048000,
      "rowLimit": 10000
     },
     "inputWidgets": {},
     "nuid": "466ee5ed-64ee-4528-86c0-99999ebb9b1e",
     "showTitle": false,
     "title": ""
    }
   },
   "source": [
    "##18.how to get no.of rows in each partition"
   ]
  },
  {
   "cell_type": "code",
   "execution_count": 0,
   "metadata": {
    "application/vnd.databricks.v1+cell": {
     "cellMetadata": {
      "byteLimit": 2048000,
      "rowLimit": 10000
     },
     "inputWidgets": {},
     "nuid": "36c953bf-bb06-4fef-b5d8-2b6f86a5021a",
     "showTitle": false,
     "title": ""
    }
   },
   "outputs": [
    {
     "output_type": "stream",
     "name": "stdout",
     "output_type": "stream",
     "text": [
      "+------------+-----+\n|partition_id|count|\n+------------+-----+\n|           0|    8|\n|           1|    9|\n|           2|    8|\n|           3|    8|\n+------------+-----+\n\n"
     ]
    }
   ],
   "source": [
    "df7.groupBy('partition_id').count().show()"
   ]
  },
  {
   "cell_type": "markdown",
   "metadata": {
    "application/vnd.databricks.v1+cell": {
     "cellMetadata": {
      "byteLimit": 2048000,
      "rowLimit": 10000
     },
     "inputWidgets": {},
     "nuid": "abea4b11-0f3d-45ed-a4f3-8159721476e5",
     "showTitle": false,
     "title": ""
    }
   },
   "source": [
    "##19.how to handle multi delimiter files"
   ]
  },
  {
   "cell_type": "code",
   "execution_count": 0,
   "metadata": {
    "application/vnd.databricks.v1+cell": {
     "cellMetadata": {
      "byteLimit": 2048000,
      "rowLimit": 10000
     },
     "inputWidgets": {},
     "nuid": "10cd3024-27f1-43b4-938e-978393cdf461",
     "showTitle": false,
     "title": ""
    }
   },
   "outputs": [
    {
     "output_type": "stream",
     "name": "stdout",
     "output_type": "stream",
     "text": [
      "+-----+------+---------+----+----------+-----------------------+\n|EMPNO|ENAME |JOB      |MGR |HIREDATE  |SAL                    |\n+-----+------+---------+----+----------+-----------------------+\n|7839 |KING  |PRESIDENT|null|null      |5000,null,10,null      |\n|7844 |TURNER|SALESMAN |7698|1981-08-09|1500,0,30,01-02-2022   |\n|7876 |ADAMS |CLERK    |7788|1987-05-23|1100,null,20,02-02-2022|\n|7900 |JAMES |CLERK    |7698|1981-03-12|950,null,30,03-02-2022 |\n|7902 |FORD  |ANALYST  |7566|1981-03-12|3000,null,20,04-02-2022|\n|7934 |MILLER|CLERK    |7782|1982-03-01|1300,null,10,05-02-2022|\n|1234 |SEKHAR|doctor   |7777|null      |667,78,80,06-02-2022   |\n|7369 |SMITH |CLERK    |7902|1980-12-17|800,null,20,07-02-2022 |\n|7499 |ALLEN |SALESMAN |7698|1981-02-20|1600,300,30,08-02-2022 |\n|7521 |WARD  |SALESMAN |7698|1981-02-22|1250,500,30,null       |\n|7566 |JONES |MANAGER  |7839|1981-02-04|2975,null,20,01-02-2021|\n+-----+------+---------+----+----------+-----------------------+\n\n"
     ]
    }
   ],
   "source": [
    "\n",
    "df_multi_deli = spark.read.format('csv').option('header',True).option('sep','||').option('inferSchema',True).option('nullValue','null').load('dbfs:/FileStore/shared_uploads/nookala382@gmail.com/input/emp_multiple_delimeter.txt')\n",
    "\n",
    "df_multi_deli.show(truncate = False)\n"
   ]
  },
  {
   "cell_type": "code",
   "execution_count": 0,
   "metadata": {
    "application/vnd.databricks.v1+cell": {
     "cellMetadata": {
      "byteLimit": 2048000,
      "rowLimit": 10000
     },
     "inputWidgets": {},
     "nuid": "5ebef64f-1abd-4362-8f7f-8a2359c046c4",
     "showTitle": false,
     "title": ""
    }
   },
   "outputs": [
    {
     "output_type": "stream",
     "name": "stdout",
     "output_type": "stream",
     "text": [
      "+-----+------+---------+----+----------+----+----+------+------------+\n|EMPNO| ENAME|      JOB| MGR|  HIREDATE| SAL|COMM|DEPTNO|UPDATED_DATE|\n+-----+------+---------+----+----------+----+----+------+------------+\n| 7839|  KING|PRESIDENT|null|      null|5000|null|    10|        null|\n| 7844|TURNER| SALESMAN|7698|1981-08-09|1500|   0|    30|  01-02-2022|\n| 7876| ADAMS|    CLERK|7788|1987-05-23|1100|null|    20|  02-02-2022|\n| 7900| JAMES|    CLERK|7698|1981-03-12| 950|null|    30|  03-02-2022|\n| 7902|  FORD|  ANALYST|7566|1981-03-12|3000|null|    20|  04-02-2022|\n| 7934|MILLER|    CLERK|7782|1982-03-01|1300|null|    10|  05-02-2022|\n| 1234|SEKHAR|   doctor|7777|      null| 667|  78|    80|  06-02-2022|\n| 7369| SMITH|    CLERK|7902|1980-12-17| 800|null|    20|  07-02-2022|\n| 7499| ALLEN| SALESMAN|7698|1981-02-20|1600| 300|    30|  08-02-2022|\n| 7521|  WARD| SALESMAN|7698|1981-02-22|1250| 500|    30|        null|\n+-----+------+---------+----+----------+----+----+------+------------+\nonly showing top 10 rows\n\n"
     ]
    }
   ],
   "source": [
    "df_multi_deli.withColumn('Split',split('SAL',','))\\\n",
    "    .withColumn('SAL', col('Split')[0])\\\n",
    "    .withColumn('COMM',col('split')[1])\\\n",
    "    .withColumn('DEPTNO',col('split')[2])\\\n",
    "    .withColumn('UPDATED_DATE',col('split')[3])\\\n",
    "    .drop('Split') \\\n",
    "    .show(10)"
   ]
  },
  {
   "cell_type": "markdown",
   "metadata": {
    "application/vnd.databricks.v1+cell": {
     "cellMetadata": {
      "byteLimit": 2048000,
      "rowLimit": 10000
     },
     "inputWidgets": {},
     "nuid": "1b942a5f-9149-4f2d-9ed9-b1456ab663e9",
     "showTitle": false,
     "title": ""
    }
   },
   "source": [
    "##20.Remove duplicates in dataFrame\n",
    "\n",
    "1.distinct() \\\n",
    "2.dropDuplicates()/drop_duplicates() \\\n",
    "3.Remove duplicates using row_number()"
   ]
  },
  {
   "cell_type": "code",
   "execution_count": 0,
   "metadata": {
    "application/vnd.databricks.v1+cell": {
     "cellMetadata": {
      "byteLimit": 2048000,
      "rowLimit": 10000
     },
     "inputWidgets": {},
     "nuid": "c15ffdee-f95e-4655-9313-b7731a2e22ed",
     "showTitle": false,
     "title": ""
    }
   },
   "outputs": [
    {
     "output_type": "stream",
     "name": "stdout",
     "output_type": "stream",
     "text": [
      "Out[343]: 24"
     ]
    }
   ],
   "source": [
    "#distinct\n",
    "\n",
    "df = df.dropna()\n",
    "df.distinct().count()\n"
   ]
  },
  {
   "cell_type": "code",
   "execution_count": 0,
   "metadata": {
    "application/vnd.databricks.v1+cell": {
     "cellMetadata": {
      "byteLimit": 2048000,
      "rowLimit": 10000
     },
     "inputWidgets": {},
     "nuid": "f3fa7ff0-5048-484c-b9e5-e61db80e0b3b",
     "showTitle": false,
     "title": ""
    }
   },
   "outputs": [
    {
     "output_type": "stream",
     "name": "stdout",
     "output_type": "stream",
     "text": [
      "Out[344]: 13"
     ]
    }
   ],
   "source": [
    "#dropduplicates - it will keep only first record ,we will not get latest date data\n",
    "#so we need to use order by function and desc to drop duplicates\n",
    "\n",
    "df.orderBy(col('EMPNO').desc()).dropDuplicates(['EMPNO']).count()"
   ]
  },
  {
   "cell_type": "code",
   "execution_count": 0,
   "metadata": {
    "application/vnd.databricks.v1+cell": {
     "cellMetadata": {
      "byteLimit": 2048000,
      "rowLimit": 10000
     },
     "inputWidgets": {},
     "nuid": "a8717600-738c-4caa-994f-fdab86c8bc9d",
     "showTitle": false,
     "title": ""
    }
   },
   "outputs": [
    {
     "output_type": "stream",
     "name": "stdout",
     "output_type": "stream",
     "text": [
      "+-----+------+--------+------+----------+----+------+------------+----------+\n|EMPNO| ENAME|     JOB|Manger|  HIREDATE| SAL|DEPTNO|UPDATED_DATE|row_number|\n+-----+------+--------+------+----------+----+------+------------+----------+\n| 7876| ADAMS|   CLERK|  7788|1987-05-23|1100|    20|  02-02-2022|         1|\n| 7876| ADAMS|   CLERK|  7788|1987-05-23|1100|    20|  08-02-2021|         2|\n| 7499| ALLEN|SALESMAN|  7698|1980-02-20|1600|    30|  02-01-2022|         1|\n| 7499| ALLEN|SALESMAN|  7698|1985-02-20|1600|    30|  08-02-2022|         2|\n| 7902|  FORD| ANALYST|  7566|1987-03-12|3000|    20|  04-02-2022|         1|\n| 7902|  FORD| ANALYST|  7566|1981-03-12|3000|    20|  01-01-2021|         2|\n| 7900| JAMES|   CLERK|  7698|1987-03-12| 950|    30|  03-02-2022|         1|\n| 7566| JONES| MANAGER|  7839|1981-02-04|2975|    20|  04-01-2022|         1|\n| 7566| JONES| MANAGER|  7839|1986-02-04|2975|    20|  01-02-2021|         2|\n| 7654|MARTIN|SALESMAN|  7698|1981-09-21|1250|    30|  05-01-2022|         1|\n+-----+------+--------+------+----------+----+------+------------+----------+\nonly showing top 10 rows\n\nOut[351]: 24"
     ]
    }
   ],
   "source": [
    "# window Function with row number\n",
    "\n",
    "from pyspark.sql.functions import *\n",
    "from pyspark.sql.window import *\n",
    "win = Window.partitionBy('ENAME').orderBy(col('EMPNO'))\n",
    "df_row_number = df.withColumn(\"row_number\", row_number().over(win)) \n",
    "\n",
    "df_row_number.show(10)\n",
    "df_row_number.count()"
   ]
  },
  {
   "cell_type": "code",
   "execution_count": 0,
   "metadata": {
    "application/vnd.databricks.v1+cell": {
     "cellMetadata": {
      "byteLimit": 2048000,
      "rowLimit": 10000
     },
     "inputWidgets": {},
     "nuid": "8040aa4c-fe65-4a48-8bbf-e9687a9dfdc6",
     "showTitle": false,
     "title": ""
    }
   },
   "outputs": [
    {
     "output_type": "stream",
     "name": "stdout",
     "output_type": "stream",
     "text": [
      "+-----+------+--------+------+----------+----+------+------------+----------+\n|EMPNO| ENAME|     JOB|Manger|  HIREDATE| SAL|DEPTNO|UPDATED_DATE|row_number|\n+-----+------+--------+------+----------+----+------+------------+----------+\n| 7876| ADAMS|   CLERK|  7788|1987-05-23|1100|    20|  02-02-2022|         1|\n| 7499| ALLEN|SALESMAN|  7698|1980-02-20|1600|    30|  02-01-2022|         1|\n| 7902|  FORD| ANALYST|  7566|1987-03-12|3000|    20|  04-02-2022|         1|\n| 7900| JAMES|   CLERK|  7698|1987-03-12| 950|    30|  03-02-2022|         1|\n| 7566| JONES| MANAGER|  7839|1981-02-04|2975|    20|  04-01-2022|         1|\n| 7654|MARTIN|SALESMAN|  7698|1981-09-21|1250|    30|  05-01-2022|         1|\n| 7934|MILLER|   CLERK|  7782|1987-03-01|1300|    10|  05-02-2022|         1|\n| 7782|  RAVI| MANAGER|  7839|1982-09-06|2450|    10|  07-01-2022|         1|\n| 7788| SCOTT| ANALYST|  7566|1982-04-19|3000|    20|  08-01-2022|         1|\n| 7698|   SGR| MANAGER|  7839|1981-01-05|2850|    30|  06-01-2022|         1|\n+-----+------+--------+------+----------+----+------+------------+----------+\nonly showing top 10 rows\n\nOut[348]: 13"
     ]
    }
   ],
   "source": [
    "#good data\n",
    "good_data = df_row_number.filter( col('row_number') ==1 )\n",
    "good_data.show(10)\n",
    "good_data.count()"
   ]
  },
  {
   "cell_type": "markdown",
   "metadata": {
    "application/vnd.databricks.v1+cell": {
     "cellMetadata": {},
     "inputWidgets": {},
     "nuid": "f684b996-6522-487f-a8d3-94e74f4548d8",
     "showTitle": false,
     "title": ""
    }
   },
   "source": [
    "\n",
    "##22. Save Duplicate data as data Frame"
   ]
  },
  {
   "cell_type": "code",
   "execution_count": 0,
   "metadata": {
    "application/vnd.databricks.v1+cell": {
     "cellMetadata": {
      "byteLimit": 2048000,
      "rowLimit": 10000
     },
     "inputWidgets": {},
     "nuid": "17bbcd08-8a9b-4762-a7e3-17e549e30c7a",
     "showTitle": false,
     "title": ""
    }
   },
   "outputs": [
    {
     "output_type": "stream",
     "name": "stdout",
     "output_type": "stream",
     "text": [
      "+-----+------+--------+------+----------+----+------+------------+----------+\n|EMPNO| ENAME|     JOB|Manger|  HIREDATE| SAL|DEPTNO|UPDATED_DATE|row_number|\n+-----+------+--------+------+----------+----+------+------------+----------+\n| 7876| ADAMS|   CLERK|  7788|1987-05-23|1100|    20|  08-02-2021|         2|\n| 7499| ALLEN|SALESMAN|  7698|1985-02-20|1600|    30|  08-02-2022|         2|\n| 7902|  FORD| ANALYST|  7566|1981-03-12|3000|    20|  01-01-2021|         2|\n| 7566| JONES| MANAGER|  7839|1986-02-04|2975|    20|  01-02-2021|         2|\n| 7654|MARTIN|SALESMAN|  7698|1986-09-21|1250|    30|  02-02-2021|         2|\n| 7934|MILLER|   CLERK|  7782|1982-03-01|1300|    10|  02-01-2021|         2|\n| 7782|  RAVI| MANAGER|  7839|1981-09-06|2450|    10|  04-02-2021|         2|\n| 7788| SCOTT| ANALYST|  7566|1987-04-19|3000|    20|  05-02-2021|         2|\n| 7698|   SGR| MANAGER|  7839|1986-01-05|2850|    30|  03-02-2021|         2|\n| 7369| SMITH|   CLERK|  7902|1985-12-17| 800|    20|  07-02-2022|         2|\n+-----+------+--------+------+----------+----+------+------------+----------+\nonly showing top 10 rows\n\nOut[350]: 11"
     ]
    }
   ],
   "source": [
    "#Duplicate data\n",
    "\n",
    "duplicate_data  = df_row_number.filter( col('row_number')>1)\n",
    "duplicate_data.show(10)\n",
    "duplicate_data.count()"
   ]
  },
  {
   "cell_type": "markdown",
   "metadata": {
    "application/vnd.databricks.v1+cell": {
     "cellMetadata": {},
     "inputWidgets": {},
     "nuid": "0b303cf1-db20-4ac4-9a63-28d7e785a965",
     "showTitle": false,
     "title": ""
    }
   },
   "source": [
    "##22.Add/generate sequence id /surrogate key column\n",
    "\n",
    "1.monotonically_increasing_id() \\\n",
    "2.crc32 - generate random numbers \\\n",
    "3.md5 - hash key generater function \\\n",
    "4.sha2 -hash key generate function \\\n",
    "5.row_number() - window function"
   ]
  },
  {
   "cell_type": "code",
   "execution_count": 0,
   "metadata": {
    "application/vnd.databricks.v1+cell": {
     "cellMetadata": {
      "byteLimit": 2048000,
      "rowLimit": 10000
     },
     "inputWidgets": {},
     "nuid": "97f49908-ee7f-4ec3-aa39-174b0ff8b7ac",
     "showTitle": false,
     "title": ""
    }
   },
   "outputs": [
    {
     "output_type": "stream",
     "name": "stdout",
     "output_type": "stream",
     "text": [
      "+-----+------+--------+------+----------+----+------+------------+---+\n|EMPNO|ENAME |JOB     |Manger|HIREDATE  |SAL |DEPTNO|UPDATED_DATE|id |\n+-----+------+--------+------+----------+----+------+------------+---+\n|7369 |SMITH |CLERK   |7902  |1980-12-17|800 |20    |01-01-2022  |0  |\n|7499 |ALLEN |SALESMAN|7698  |1980-02-20|1600|30    |02-01-2022  |1  |\n|7521 |WARD  |SALESMAN|7698  |1980-02-22|1250|30    |03-01-2022  |2  |\n|7566 |JONES |MANAGER |7839  |1981-02-04|2975|20    |04-01-2022  |3  |\n|7654 |MARTIN|SALESMAN|7698  |1981-09-21|1250|30    |05-01-2022  |4  |\n+-----+------+--------+------+----------+----+------+------------+---+\nonly showing top 5 rows\n\n+-----+------+--------+------+----------+----+------+------------+-------+\n|EMPNO|ENAME |JOB     |Manger|HIREDATE  |SAL |DEPTNO|UPDATED_DATE|mono_id|\n+-----+------+--------+------+----------+----+------+------------+-------+\n|7369 |SMITH |CLERK   |7902  |1980-12-17|800 |20    |01-01-2022  |1      |\n|7499 |ALLEN |SALESMAN|7698  |1980-02-20|1600|30    |02-01-2022  |2      |\n|7521 |WARD  |SALESMAN|7698  |1980-02-22|1250|30    |03-01-2022  |3      |\n|7566 |JONES |MANAGER |7839  |1981-02-04|2975|20    |04-01-2022  |4      |\n|7654 |MARTIN|SALESMAN|7698  |1981-09-21|1250|30    |05-01-2022  |5      |\n+-----+------+--------+------+----------+----+------+------------+-------+\nonly showing top 5 rows\n\n"
     ]
    }
   ],
   "source": [
    "#monotonically_increasing_id\n",
    "\n",
    "df.withColumn('id',monotonically_increasing_id()).show(5,truncate = False)\n",
    "\n",
    "# from custom id\n",
    "df.withColumn('mono_id',monotonically_increasing_id()+1).show(5,truncate = False)\n"
   ]
  },
  {
   "cell_type": "code",
   "execution_count": 0,
   "metadata": {
    "application/vnd.databricks.v1+cell": {
     "cellMetadata": {
      "byteLimit": 2048000,
      "rowLimit": 10000
     },
     "inputWidgets": {},
     "nuid": "985bdbbf-fa78-4b11-9d69-e19a5d8d7667",
     "showTitle": false,
     "title": ""
    }
   },
   "outputs": [
    {
     "output_type": "stream",
     "name": "stdout",
     "output_type": "stream",
     "text": [
      "+-----+------+--------+------+----------+----+------+------------+----------+\n|EMPNO| ENAME|     JOB|Manger|  HIREDATE| SAL|DEPTNO|UPDATED_DATE|     crc32|\n+-----+------+--------+------+----------+----+------+------------+----------+\n| 7369| SMITH|   CLERK|  7902|1980-12-17| 800|    20|  01-01-2022| 158606683|\n| 7499| ALLEN|SALESMAN|  7698|1980-02-20|1600|    30|  02-01-2022| 395952658|\n| 7521|  WARD|SALESMAN|  7698|1980-02-22|1250|    30|  03-01-2022|4294620591|\n| 7566| JONES| MANAGER|  7839|1981-02-04|2975|    20|  04-01-2022| 310305882|\n| 7654|MARTIN|SALESMAN|  7698|1981-09-21|1250|    30|  05-01-2022|3724087414|\n+-----+------+--------+------+----------+----+------+------------+----------+\nonly showing top 5 rows\n\n+-----+------+--------+------+----------+----+------+------------+----------+\n|EMPNO|ENAME |JOB     |Manger|HIREDATE  |SAL |DEPTNO|UPDATED_DATE|crc32     |\n+-----+------+--------+------+----------+----+------+------------+----------+\n|7369 |SMITH |CLERK   |7902  |1980-12-17|800 |20    |01-01-2022  |3163315632|\n|7499 |ALLEN |SALESMAN|7698  |1980-02-20|1600|30    |02-01-2022  |1046173690|\n|7521 |WARD  |SALESMAN|7698  |1980-02-22|1250|30    |03-01-2022  |3535170612|\n|7566 |JONES |MANAGER |7839  |1981-02-04|2975|20    |04-01-2022  |683555987 |\n|7654 |MARTIN|SALESMAN|7698  |1981-09-21|1250|30    |05-01-2022  |4024152101|\n+-----+------+--------+------+----------+----+------+------------+----------+\nonly showing top 5 rows\n\n"
     ]
    }
   ],
   "source": [
    "# crc32 hash key\n",
    "#1.generate random numbers - it is works only on string data type\n",
    "\n",
    "#2.We should not use crc32 surrogate key generation on larger table because it can generate duplicate sequence if more than 100k/1M records\n",
    "\n",
    "df.withColumn('crc32',crc32('ENAME')).show(5)\n",
    "\n",
    "df.withColumn('crc32',crc32( col('EMPNO').cast('string'))).show(5,truncate = False)"
   ]
  },
  {
   "cell_type": "code",
   "execution_count": 0,
   "metadata": {
    "application/vnd.databricks.v1+cell": {
     "cellMetadata": {
      "byteLimit": 2048000,
      "rowLimit": 10000
     },
     "inputWidgets": {},
     "nuid": "569bcd6b-61a1-4b8b-b91e-5c98f30c3bed",
     "showTitle": false,
     "title": ""
    }
   },
   "outputs": [
    {
     "output_type": "stream",
     "name": "stdout",
     "output_type": "stream",
     "text": [
      "+-----+------+--------+------+----------+----+------+------------+--------------------------------+\n|EMPNO|ENAME |JOB     |Manger|HIREDATE  |SAL |DEPTNO|UPDATED_DATE|md5                             |\n+-----+------+--------+------+----------+----+------+------------+--------------------------------+\n|7369 |SMITH |CLERK   |7902  |1980-12-17|800 |20    |01-01-2022  |0d7f9017fbda691900187b22404b8a1f|\n|7499 |ALLEN |SALESMAN|7698  |1980-02-20|1600|30    |02-01-2022  |7a2b33c672ce223b2aa5789171ddde2f|\n|7521 |WARD  |SALESMAN|7698  |1980-02-22|1250|30    |03-01-2022  |e1e1f667ce4596e5644be6fab627c226|\n|7566 |JONES |MANAGER |7839  |1981-02-04|2975|20    |04-01-2022  |b937384a573b94c4d7cc6004c496f919|\n|7654 |MARTIN|SALESMAN|7698  |1981-09-21|1250|30    |05-01-2022  |e2a7555f7cabd6e31aef45cb8cda4999|\n+-----+------+--------+------+----------+----+------+------------+--------------------------------+\nonly showing top 5 rows\n\n"
     ]
    }
   ],
   "source": [
    "# md5 - 32 bit hash key\n",
    "# not suggeted for if records more than 1 Million it can generate duplicates\n",
    "\n",
    "df.withColumn('md5',md5( col('EMPNO').cast('string'))).show(5,truncate = False)\n"
   ]
  },
  {
   "cell_type": "code",
   "execution_count": 0,
   "metadata": {
    "application/vnd.databricks.v1+cell": {
     "cellMetadata": {
      "byteLimit": 2048000,
      "rowLimit": 10000
     },
     "inputWidgets": {},
     "nuid": "e8594f40-4a55-49e4-bf85-f6ed47080242",
     "showTitle": false,
     "title": ""
    }
   },
   "outputs": [
    {
     "output_type": "stream",
     "name": "stdout",
     "output_type": "stream",
     "text": [
      "+-----+------+--------+------+----------+----+------+------------+----------------------------------------------------------------+\n|EMPNO|ENAME |JOB     |Manger|HIREDATE  |SAL |DEPTNO|UPDATED_DATE|sha2                                                            |\n+-----+------+--------+------+----------+----+------+------------+----------------------------------------------------------------+\n|7369 |SMITH |CLERK   |7902  |1980-12-17|800 |20    |01-01-2022  |c59f438f16c5a409eb2a040b299e82de37503321b9cbfec4fb351547261dd1b1|\n|7499 |ALLEN |SALESMAN|7698  |1980-02-20|1600|30    |02-01-2022  |4427dc2e32a1d099dbe2e3c093a8726e0ea72b9422c36a99915dae1d31e9385f|\n|7521 |WARD  |SALESMAN|7698  |1980-02-22|1250|30    |03-01-2022  |74ed8ca63e8b4fb8b8ac06e8df400f098b0b09cf1b89c8a331e72e1919b57bd4|\n|7566 |JONES |MANAGER |7839  |1981-02-04|2975|20    |04-01-2022  |b2ca4f93866dc5f5aa73f9df7a8c8d7ce03d296a3ccb5eec5fc28717f2de4874|\n|7654 |MARTIN|SALESMAN|7698  |1981-09-21|1250|30    |05-01-2022  |b969b01c158ebfecd0ac568aee526cb1ff8811fcdc77b4d682dab89146ad9891|\n+-----+------+--------+------+----------+----+------+------------+----------------------------------------------------------------+\nonly showing top 5 rows\n\n+-----+------+--------+------+----------+----+------+------------+--------------------------------------------------------------------------------------------------------------------------------+\n|EMPNO|ENAME |JOB     |Manger|HIREDATE  |SAL |DEPTNO|UPDATED_DATE|sha2                                                                                                                            |\n+-----+------+--------+------+----------+----+------+------------+--------------------------------------------------------------------------------------------------------------------------------+\n|7369 |SMITH |CLERK   |7902  |1980-12-17|800 |20    |01-01-2022  |22930c98e9d90f9abae586704aa8576e81bcc8a33e485b36b74593864479854600726a61a5a8d7c0c7c0a8a4209b5079398d171d679cef2817c8cd9db64f2275|\n|7499 |ALLEN |SALESMAN|7698  |1980-02-20|1600|30    |02-01-2022  |c35f154d8a448e86bc767b131cfbf91655a293b5366c1dc0a1182757f8d0e421595f4d564c3c62996a7ad1f14768458d3f9d8ccff736637ae22b957e9f69d9fe|\n|7521 |WARD  |SALESMAN|7698  |1980-02-22|1250|30    |03-01-2022  |a850b37e31d80e084a966d1aa936e7a48e887867cde7b19110e74a6d5c036dbaba8c102ed053d0d1d6353ccbaaa02092aa94063a814b0f18affd15e2df0d7e9a|\n|7566 |JONES |MANAGER |7839  |1981-02-04|2975|20    |04-01-2022  |94d6415a845f551d7cb76343d6faa77cd3eec1d286e72c52afd73b7e0a60f96468495f229bc49e752d4d222894fc9ba4d60ac69a2e96442d06253b25246b6341|\n|7654 |MARTIN|SALESMAN|7698  |1981-09-21|1250|30    |05-01-2022  |9866bb24a2c180ce14775b5139b76371ba61c051b76cf3cb081cc0f3cd87597cc285f82ffc54bddecbe4f591b294777ea47f539631300d9416e3ed89d26fdf5a|\n+-----+------+--------+------+----------+----+------+------------+--------------------------------------------------------------------------------------------------------------------------------+\nonly showing top 5 rows\n\n"
     ]
    }
   ],
   "source": [
    "#sha2 - hash key value\n",
    "#suggeted for huge data 256 0r 512 bits\n",
    "\n",
    "df.withColumn('sha2',sha2(col('EMPNO').cast('string'),256)).show(5,truncate = False)\n",
    "df.withColumn('sha2',sha2(col('EMPNO').cast('string'),512)).show(5,truncate = False)"
   ]
  },
  {
   "cell_type": "code",
   "execution_count": 0,
   "metadata": {
    "application/vnd.databricks.v1+cell": {
     "cellMetadata": {
      "byteLimit": 2048000,
      "rowLimit": 10000
     },
     "inputWidgets": {},
     "nuid": "be0e23f9-b2da-46f0-9500-c7624e4bf272",
     "showTitle": false,
     "title": ""
    }
   },
   "outputs": [
    {
     "output_type": "stream",
     "name": "stdout",
     "output_type": "stream",
     "text": [
      "+-----+------+--------+------+----------+----+------+------------+----------+\n|EMPNO| ENAME|     JOB|Manger|  HIREDATE| SAL|DEPTNO|UPDATED_DATE|row_number|\n+-----+------+--------+------+----------+----+------+------------+----------+\n| 7788| SCOTT| ANALYST|  7566|1982-04-19|3000|    20|  08-01-2022|         1|\n| 7902|  FORD| ANALYST|  7566|1987-03-12|3000|    20|  04-02-2022|         2|\n| 7788| SCOTT| ANALYST|  7566|1987-04-19|3000|    20|  05-02-2021|         3|\n| 7902|  FORD| ANALYST|  7566|1981-03-12|3000|    20|  01-01-2021|         4|\n| 7566| JONES| MANAGER|  7839|1981-02-04|2975|    20|  04-01-2022|         5|\n| 7566| JONES| MANAGER|  7839|1986-02-04|2975|    20|  01-02-2021|         6|\n| 7698|   SGR| MANAGER|  7839|1981-01-05|2850|    30|  06-01-2022|         7|\n| 7698|   SGR| MANAGER|  7839|1986-01-05|2850|    30|  03-02-2021|         8|\n| 7782|  RAVI| MANAGER|  7839|1982-09-06|2450|    10|  07-01-2022|         9|\n| 7782|  RAVI| MANAGER|  7839|1981-09-06|2450|    10|  04-02-2021|        10|\n| 7499| ALLEN|SALESMAN|  7698|1980-02-20|1600|    30|  02-01-2022|        11|\n| 7499| ALLEN|SALESMAN|  7698|1985-02-20|1600|    30|  08-02-2022|        12|\n| 7844|TURNER|SALESMAN|  7698|1982-08-09|1500|    30|  01-02-2022|        13|\n| 7844|TURNER|SALESMAN|  7698|1981-08-09|1500|    30|  07-02-2021|        14|\n| 7934|MILLER|   CLERK|  7782|1987-03-01|1300|    10|  05-02-2022|        15|\n| 7934|MILLER|   CLERK|  7782|1982-03-01|1300|    10|  02-01-2021|        16|\n| 7521|  WARD|SALESMAN|  7698|1980-02-22|1250|    30|  03-01-2022|        17|\n| 7654|MARTIN|SALESMAN|  7698|1981-09-21|1250|    30|  05-01-2022|        18|\n| 7654|MARTIN|SALESMAN|  7698|1986-09-21|1250|    30|  02-02-2021|        19|\n| 7876| ADAMS|   CLERK|  7788|1987-05-23|1100|    20|  02-02-2022|        20|\n+-----+------+--------+------+----------+----+------+------------+----------+\nonly showing top 20 rows\n\n"
     ]
    }
   ],
   "source": [
    "#row_number\n",
    "\n",
    "win = Window.orderBy( col('SAL').desc())\n",
    "\n",
    "df.withColumn('row_number',row_number().over(win)).show()\n"
   ]
  },
  {
   "cell_type": "markdown",
   "metadata": {
    "application/vnd.databricks.v1+cell": {
     "cellMetadata": {},
     "inputWidgets": {},
     "nuid": "81d4a292-bf79-4944-b50c-44ee253c514a",
     "showTitle": false,
     "title": ""
    }
   },
   "source": [
    "##23.Incremental loading\n",
    "loading data from source (daily) ----> Tansform -----> loading warehouse"
   ]
  },
  {
   "cell_type": "code",
   "execution_count": 0,
   "metadata": {
    "application/vnd.databricks.v1+cell": {
     "cellMetadata": {
      "byteLimit": 2048000,
      "rowLimit": 10000
     },
     "inputWidgets": {},
     "nuid": "16ba4230-e3c4-4076-ba6d-b9b565489b24",
     "showTitle": false,
     "title": ""
    }
   },
   "outputs": [
    {
     "output_type": "stream",
     "name": "stdout",
     "output_type": "stream",
     "text": [
      "+-----+------+--------+----+----+----+------+\n|EMPNO| ENAME|     JOB| MGR| SAL|COMM|DEPTNO|\n+-----+------+--------+----+----+----+------+\n| 7369| SMITH|   CLERK|7902| 800| 100|    20|\n| 7499| ALLEN|SALESMAN|7698|1600| 300|    30|\n| 7521|  WARD|SALESMAN|7698|1250| 500|    30|\n| 7566| JONES| MANAGER|7839|2975| 200|    20|\n| 7654|MARTIN|SALESMAN|7698|1250| 600|    30|\n+-----+------+--------+----+----+----+------+\nonly showing top 5 rows\n\n"
     ]
    }
   ],
   "source": [
    "# read data of day0 file\n",
    "\n",
    "day0 = spark.read.format('csv').option('header',True).option('inferSchema',True).option('nullValue','null').load('dbfs:/FileStore/shared_uploads/nookala382@gmail.com/input/employee_day0.csv')\n",
    "\n",
    "day0.show(5)"
   ]
  },
  {
   "cell_type": "code",
   "execution_count": 0,
   "metadata": {
    "application/vnd.databricks.v1+cell": {
     "cellMetadata": {
      "byteLimit": 2048000,
      "rowLimit": 10000
     },
     "inputWidgets": {},
     "nuid": "d9223949-533f-4cae-8d35-108659dffab2",
     "showTitle": false,
     "title": ""
    }
   },
   "outputs": [],
   "source": [
    "# write partitioned data into warhouse employee table\n",
    "day0.write.partitionBy('DEPTNO').saveAsTable('emp_dept')"
   ]
  },
  {
   "cell_type": "code",
   "execution_count": 0,
   "metadata": {
    "application/vnd.databricks.v1+cell": {
     "cellMetadata": {
      "byteLimit": 2048000,
      "rowLimit": 10000
     },
     "inputWidgets": {},
     "nuid": "7c654bf5-21be-41fa-bf1c-61f456efcfac",
     "showTitle": false,
     "title": ""
    }
   },
   "outputs": [
    {
     "output_type": "stream",
     "name": "stdout",
     "output_type": "stream",
     "text": [
      "+-----+------+---------+----+----+----+------+\n|EMPNO| ENAME|      JOB| MGR| SAL|COMM|DEPTNO|\n+-----+------+---------+----+----+----+------+\n| 7499| ALLEN| SALESMAN|7698|1600| 300|    30|\n| 7521|  WARD| SALESMAN|7698|1250| 500|    30|\n| 7654|MARTIN| SALESMAN|7698|1250| 600|    30|\n| 7698|   SGR|  MANAGER|7839|2850| 500|    30|\n| 7844|TURNER| SALESMAN|7698|1500|  10|    30|\n| 7900| JAMES|    CLERK|7698| 950| 890|    30|\n| 7369| SMITH|    CLERK|7902| 800| 100|    20|\n| 7566| JONES|  MANAGER|7839|2975| 200|    20|\n| 7788| SCOTT|  ANALYST|7566|3000|1200|    20|\n| 7876| ADAMS|    CLERK|7788|1100| 100|    20|\n| 7902|  FORD|  ANALYST|7566|3000| 400|    20|\n| 7782|  RAVI|  MANAGER|7839|2450| 500|    10|\n| 7839|  KING|PRESIDENT|7998|5000|1000|    10|\n| 7934|MILLER|    CLERK|7782|1300| 740|    10|\n+-----+------+---------+----+----+----+------+\n\n+--------+\n|count(1)|\n+--------+\n|      14|\n+--------+\n\n"
     ]
    }
   ],
   "source": [
    "# query warhouse tables\n",
    "spark.sql('select * from emp_dept').show()\n",
    "spark.sql('select count(*) from emp_dept').show()"
   ]
  },
  {
   "cell_type": "code",
   "execution_count": 0,
   "metadata": {
    "application/vnd.databricks.v1+cell": {
     "cellMetadata": {
      "byteLimit": 2048000,
      "rowLimit": 10000
     },
     "inputWidgets": {},
     "nuid": "677c8bac-54b1-4c74-9ab9-49b1683fbd74",
     "showTitle": false,
     "title": ""
    }
   },
   "outputs": [
    {
     "output_type": "stream",
     "name": "stdout",
     "output_type": "stream",
     "text": [
      "+-----+------+--------+----+----+----+------+\n|EMPNO| ENAME|     JOB| MGR| SAL|COMM|DEPTNO|\n+-----+------+--------+----+----+----+------+\n| 1234|SEKHAR|  doctor|7777| 667|  78|    80|\n| 7369| SMITH|   CLERK|7902| 800|  90|    20|\n| 7499| ALLEN|SALESMAN|7698|1600| 300|    30|\n| 7521|  WARD|SALESMAN|7698|1250| 500|    30|\n| 7566| JONES| MANAGER|7839|2975| 100|    20|\n+-----+------+--------+----+----+----+------+\nonly showing top 5 rows\n\n"
     ]
    }
   ],
   "source": [
    "# read data of day1 file\n",
    "day1 = spark.read.format('csv').option('header',True).option('inferSchema',True).option('nullValue','null').load('dbfs:/FileStore/shared_uploads/nookala382@gmail.com/input/employee_day1.csv')\n",
    "day1.show(5)"
   ]
  },
  {
   "cell_type": "code",
   "execution_count": 0,
   "metadata": {
    "application/vnd.databricks.v1+cell": {
     "cellMetadata": {
      "byteLimit": 2048000,
      "rowLimit": 10000
     },
     "inputWidgets": {},
     "nuid": "224d515b-d325-4b24-82cf-1278eabc401c",
     "showTitle": false,
     "title": ""
    }
   },
   "outputs": [],
   "source": [
    "# write partitioned data into warhouse employee table\n",
    "day1.write.mode('append').saveAsTable('emp_dept')"
   ]
  },
  {
   "cell_type": "code",
   "execution_count": 0,
   "metadata": {
    "application/vnd.databricks.v1+cell": {
     "cellMetadata": {
      "byteLimit": 2048000,
      "rowLimit": 10000
     },
     "inputWidgets": {},
     "nuid": "6b0d4125-9111-4fc7-8d26-279f6f523f2c",
     "showTitle": false,
     "title": ""
    }
   },
   "outputs": [
    {
     "output_type": "stream",
     "name": "stdout",
     "output_type": "stream",
     "text": [
      "+-----+------+---------+----+----+----+------+\n|EMPNO| ENAME|      JOB| MGR| SAL|COMM|DEPTNO|\n+-----+------+---------+----+----+----+------+\n| 7499| ALLEN| SALESMAN|7698|1600| 300|    30|\n| 7521|  WARD| SALESMAN|7698|1250| 500|    30|\n| 7654|MARTIN| SALESMAN|7698|1250| 600|    30|\n| 7698|   SGR|  MANAGER|7839|2850| 500|    30|\n| 7844|TURNER| SALESMAN|7698|1500|  10|    30|\n| 7900| JAMES|    CLERK|7698| 950| 890|    30|\n| 7369| SMITH|    CLERK|7902| 800| 100|    20|\n| 7566| JONES|  MANAGER|7839|2975| 200|    20|\n| 7788| SCOTT|  ANALYST|7566|3000|1200|    20|\n| 7876| ADAMS|    CLERK|7788|1100| 100|    20|\n| 7902|  FORD|  ANALYST|7566|3000| 400|    20|\n| 7369| SMITH|    CLERK|7902| 800|  90|    20|\n| 7566| JONES|  MANAGER|7839|2975| 100|    20|\n| 7788| SCOTT|  ANALYST|7566|3000| 180|    20|\n| 7876| ADAMS|    CLERK|7788|1100| 300|    20|\n| 7902|  FORD|  ANALYST|7566|3000| 100|    20|\n| 7782|  RAVI|  MANAGER|7839|2450| 500|    10|\n| 7839|  KING|PRESIDENT|7998|5000|1000|    10|\n| 7934|MILLER|    CLERK|7782|1300| 740|    10|\n| 7782|  RAVI|  MANAGER|7839|2450|  14|    10|\n+-----+------+---------+----+----+----+------+\nonly showing top 20 rows\n\n+--------+\n|count(1)|\n+--------+\n|      30|\n+--------+\n\n"
     ]
    }
   ],
   "source": [
    "# query warhouse tables\n",
    "spark.sql('select * from emp_dept').show()\n",
    "spark.sql('select count(*) from emp_dept').show()"
   ]
  },
  {
   "cell_type": "markdown",
   "metadata": {
    "application/vnd.databricks.v1+cell": {
     "cellMetadata": {
      "byteLimit": 2048000,
      "rowLimit": 10000
     },
     "inputWidgets": {},
     "nuid": "0d46e1d1-6ebf-44ee-a0aa-4ac958ecb764",
     "showTitle": false,
     "title": ""
    }
   },
   "source": [
    "##24.fill missing data in textFile and convert into Dataframe"
   ]
  },
  {
   "cell_type": "code",
   "execution_count": 0,
   "metadata": {
    "application/vnd.databricks.v1+cell": {
     "cellMetadata": {
      "byteLimit": 2048000,
      "rowLimit": 10000
     },
     "inputWidgets": {},
     "nuid": "2faed568-4a32-4140-9694-71ccc4491c78",
     "showTitle": false,
     "title": ""
    }
   },
   "outputs": [
    {
     "output_type": "stream",
     "name": "stdout",
     "output_type": "stream",
     "text": [
      "+------+------------+------------+------------+------------+------------+------------+------------+------------+------------+------------+------------+\n|Spark0|      Spark1|      Spark2|      Spark3|      Spark4|      Spark5|      Spark6|      Spark7|      Spark8|      Spark9|     Spark10|        _c11|\n+------+------------+------------+------------+------------+------------+------------+------------+------------+------------+------------+------------+\n| Spark|       Spark|       Spark|       Spark|       Spark|       Spark|       Spark|       Spark|       Spark|       Spark|missing_data|missing_data|\n| Spark|       Spark|       Spark|       Spark|       Spark|       Spark|       Spark|       Spark|       Spark|missing_data|missing_data|missing_data|\n| Spark|       Spark|       Spark|       Spark|       Spark|       Spark|       Spark|       Spark|missing_data|missing_data|missing_data|missing_data|\n| Spark|       Spark|       Spark|       Spark|       Spark|       Spark|       Spark|missing_data|missing_data|missing_data|missing_data|missing_data|\n| Spark|       Spark|       Spark|       Spark|       Spark|       Spark|missing_data|missing_data|missing_data|missing_data|missing_data|missing_data|\n| Spark|       Spark|       Spark|       Spark|       Spark|missing_data|missing_data|missing_data|missing_data|missing_data|missing_data|missing_data|\n| Spark|       Spark|       Spark|       Spark|missing_data|missing_data|missing_data|missing_data|missing_data|missing_data|missing_data|missing_data|\n| Spark|       Spark|       Spark|missing_data|missing_data|missing_data|missing_data|missing_data|missing_data|missing_data|missing_data|missing_data|\n| Spark|       Spark|missing_data|missing_data|missing_data|missing_data|missing_data|missing_data|missing_data|missing_data|missing_data|missing_data|\n| Spark|missing_data|missing_data|missing_data|missing_data|missing_data|missing_data|missing_data|missing_data|missing_data|missing_data|missing_data|\n+------+------------+------------+------------+------------+------------+------------+------------+------------+------------+------------+------------+\n\n"
     ]
    }
   ],
   "source": [
    "df_miss = spark.read.format('csv').option('header',True).option('sep',' ').option('nullValue','null').load('dbfs:/FileStore/shared_uploads/nookala382@gmail.com/fill_missing.txt').fillna('missing_data')\n",
    "df_miss.show()"
   ]
  },
  {
   "cell_type": "markdown",
   "metadata": {
    "application/vnd.databricks.v1+cell": {
     "cellMetadata": {
      "byteLimit": 2048000,
      "rowLimit": 10000
     },
     "inputWidgets": {},
     "nuid": "8615e9ba-c927-4050-970e-b81705c1c862",
     "showTitle": false,
     "title": ""
    }
   },
   "source": [
    "##25.Creating Data Frame from mysql table"
   ]
  },
  {
   "cell_type": "markdown",
   "metadata": {
    "application/vnd.databricks.v1+cell": {
     "cellMetadata": {
      "byteLimit": 2048000,
      "rowLimit": 10000
     },
     "inputWidgets": {},
     "nuid": "25edf64d-11e2-4cec-8805-ee0e57442f10",
     "showTitle": false,
     "title": ""
    }
   },
   "source": [
    "df_mysql = spark.read.format('jdbc')\\\n",
    "           .option('url','jdbc:mysql://localhost:3306')\\\n",
    "           .option('driver','com.mysql.jdbc.Driver')\\\n",
    "           .option('user','root')\\\n",
    "           .option('password','sandeep')\\\n",
    "           .option('query','select * from sandeep.emp_table')\\\n",
    "           .load()"
   ]
  },
  {
   "cell_type": "markdown",
   "metadata": {
    "application/vnd.databricks.v1+cell": {
     "cellMetadata": {
      "byteLimit": 2048000,
      "rowLimit": 10000
     },
     "inputWidgets": {},
     "nuid": "6d5ac14d-85f1-4597-b353-b18e54feaf1e",
     "showTitle": false,
     "title": ""
    }
   },
   "source": [
    "##26.Creating DataFrame from Json file"
   ]
  },
  {
   "cell_type": "code",
   "execution_count": 0,
   "metadata": {
    "application/vnd.databricks.v1+cell": {
     "cellMetadata": {
      "byteLimit": 2048000,
      "rowLimit": 10000
     },
     "inputWidgets": {},
     "nuid": "75f03654-a552-462c-8e29-ea5ce1f893f8",
     "showTitle": false,
     "title": ""
    }
   },
   "outputs": [
    {
     "output_type": "stream",
     "name": "stdout",
     "output_type": "stream",
     "text": [
      "+----+------+-----+------+----------+---------+----+----+------------+\n|COMM|DEPTNO|EMPNO| ENAME|  HIREDATE|      JOB| MGR| SAL|UPDATED_DATE|\n+----+------+-----+------+----------+---------+----+----+------------+\n|  78|    80| 1234|SEKHAR|      null|   doctor|7777| 667|  2022-01-03|\n|null|    20| 7369| SMITH|17-12-1980|    CLERK|7902| 800|  2022-01-01|\n| 300|    30| 7499| ALLEN|20-02-1981| SALESMAN|7698|1600|  2022-01-01|\n| 500|    30| 7521|  WARD|22-02-1981| SALESMAN|7698|1250|  2022-01-01|\n|null|    20| 7566| JONES|04-02-1981|  MANAGER|7839|2975|  2022-01-05|\n|1400|    30| 7654|MARTIN|21-09-1981| SALESMAN|7698|1250|  2022-01-03|\n|null|    30| 7698|   SGR|05-01-1981|  MANAGER|7839|2850|  2022-01-04|\n|null|    10| 7782|  RAVI|06-09-1981|  MANAGER|7839|2450|  2022-01-02|\n|null|    20| 7788| SCOTT|19-04-1987|  ANALYST|7566|3000|  2022-01-02|\n|null|    10| 7839|  KING|01-11-1981|PRESIDENT|null|5000|  2022-01-02|\n+----+------+-----+------+----------+---------+----+----+------------+\nonly showing top 10 rows\n\nroot\n |-- COMM: string (nullable = true)\n |-- DEPTNO: string (nullable = true)\n |-- EMPNO: string (nullable = true)\n |-- ENAME: string (nullable = true)\n |-- HIREDATE: string (nullable = true)\n |-- JOB: string (nullable = true)\n |-- MGR: string (nullable = true)\n |-- SAL: string (nullable = true)\n |-- UPDATED_DATE: string (nullable = true)\n\nOut[381]: 15"
     ]
    }
   ],
   "source": [
    "df_json = spark.read.format('json').load('dbfs:/FileStore/shared_uploads/nookala382@gmail.com/input/emp.json')\n",
    "\n",
    "df_json.show(10)\n",
    "df_json.printSchema()\n",
    "df_json.count()"
   ]
  },
  {
   "cell_type": "markdown",
   "metadata": {
    "application/vnd.databricks.v1+cell": {
     "cellMetadata": {
      "byteLimit": 2048000,
      "rowLimit": 10000
     },
     "inputWidgets": {},
     "nuid": "226dfeb1-be95-4309-9d4d-4b95fe92fb88",
     "showTitle": false,
     "title": ""
    }
   },
   "source": [
    "##27.Creating DataFrame from multiLine Json file"
   ]
  },
  {
   "cell_type": "code",
   "execution_count": 0,
   "metadata": {
    "application/vnd.databricks.v1+cell": {
     "cellMetadata": {
      "byteLimit": 2048000,
      "rowLimit": 10000
     },
     "inputWidgets": {},
     "nuid": "d49c82f3-a402-4deb-b98a-562e3734879f",
     "showTitle": false,
     "title": ""
    }
   },
   "outputs": [
    {
     "output_type": "stream",
     "name": "stdout",
     "output_type": "stream",
     "text": [
      "root\n |-- batters: struct (nullable = true)\n |    |-- batter: array (nullable = true)\n |    |    |-- element: struct (containsNull = true)\n |    |    |    |-- id: string (nullable = true)\n |    |    |    |-- type: string (nullable = true)\n |-- id: string (nullable = true)\n |-- name: string (nullable = true)\n |-- ppu: double (nullable = true)\n |-- topping: array (nullable = true)\n |    |-- element: struct (containsNull = true)\n |    |    |-- id: string (nullable = true)\n |    |    |-- type: string (nullable = true)\n |-- type: string (nullable = true)\n\nOut[392]: 1"
     ]
    }
   ],
   "source": [
    "df_multiLine = spark.read.format('json').option('multiline',True).option('inferSchema',True).load('dbfs:/FileStore/shared_uploads/nookala382@gmail.com/input/nested_json.json')\n",
    "\n",
    "df_multiLine.printSchema()\n",
    "\n",
    "df_multiLine.count()"
   ]
  },
  {
   "cell_type": "code",
   "execution_count": 0,
   "metadata": {
    "application/vnd.databricks.v1+cell": {
     "cellMetadata": {
      "byteLimit": 2048000,
      "rowLimit": 10000
     },
     "inputWidgets": {},
     "nuid": "44a175f6-8844-42a8-b677-08321f5dcfad",
     "showTitle": false,
     "title": ""
    }
   },
   "outputs": [
    {
     "output_type": "stream",
     "name": "stdout",
     "output_type": "stream",
     "text": [
      "+----+----+----+--------------------+-----+---------+------------+\n|  id|name| ppu|             topping| type|batter_id| batter_type|\n+----+----+----+--------------------+-----+---------+------------+\n|0001|Cake|0.55|[{5001, None}, {5...|donut|     1001|     Regular|\n|0001|Cake|0.55|[{5001, None}, {5...|donut|     1002|   Chocolate|\n|0001|Cake|0.55|[{5001, None}, {5...|donut|     1003|   Blueberry|\n|0001|Cake|0.55|[{5001, None}, {5...|donut|     1004|Devil's Food|\n+----+----+----+--------------------+-----+---------+------------+\n\n"
     ]
    }
   ],
   "source": [
    "df_multiLine1 = df_multiLine.withColumn('batters_exp',explode('batters.batter'))\\\n",
    "                            .withColumn('batter_id', col('batters_exp.id'))\\\n",
    "                            .withColumn('batter_type' ,col('batters_exp.type'))\\\n",
    "                            .drop('batters','batters_exp') \n",
    "\n",
    "df_multiLine1.show()\n"
   ]
  },
  {
   "cell_type": "code",
   "execution_count": 0,
   "metadata": {
    "application/vnd.databricks.v1+cell": {
     "cellMetadata": {
      "byteLimit": 2048000,
      "rowLimit": 10000
     },
     "inputWidgets": {},
     "nuid": "8dfeddcc-937a-4b15-bcd5-23c272ff1eb3",
     "showTitle": false,
     "title": ""
    }
   },
   "outputs": [
    {
     "output_type": "stream",
     "name": "stdout",
     "output_type": "stream",
     "text": [
      "+----+----+----+-----+---------+-----------+----------+--------------------+\n|  id|name| ppu| type|batter_id|batter_type|topping_id|        topping_type|\n+----+----+----+-----+---------+-----------+----------+--------------------+\n|0001|Cake|0.55|donut|     1001|    Regular|      5001|                None|\n|0001|Cake|0.55|donut|     1001|    Regular|      5002|              Glazed|\n|0001|Cake|0.55|donut|     1001|    Regular|      5005|               Sugar|\n|0001|Cake|0.55|donut|     1001|    Regular|      5007|      Powdered Sugar|\n|0001|Cake|0.55|donut|     1001|    Regular|      5006|Chocolate with Sp...|\n|0001|Cake|0.55|donut|     1001|    Regular|      5003|           Chocolate|\n|0001|Cake|0.55|donut|     1001|    Regular|      5004|               Maple|\n|0001|Cake|0.55|donut|     1002|  Chocolate|      5001|                None|\n|0001|Cake|0.55|donut|     1002|  Chocolate|      5002|              Glazed|\n|0001|Cake|0.55|donut|     1002|  Chocolate|      5005|               Sugar|\n|0001|Cake|0.55|donut|     1002|  Chocolate|      5007|      Powdered Sugar|\n|0001|Cake|0.55|donut|     1002|  Chocolate|      5006|Chocolate with Sp...|\n|0001|Cake|0.55|donut|     1002|  Chocolate|      5003|           Chocolate|\n|0001|Cake|0.55|donut|     1002|  Chocolate|      5004|               Maple|\n|0001|Cake|0.55|donut|     1003|  Blueberry|      5001|                None|\n|0001|Cake|0.55|donut|     1003|  Blueberry|      5002|              Glazed|\n|0001|Cake|0.55|donut|     1003|  Blueberry|      5005|               Sugar|\n|0001|Cake|0.55|donut|     1003|  Blueberry|      5007|      Powdered Sugar|\n|0001|Cake|0.55|donut|     1003|  Blueberry|      5006|Chocolate with Sp...|\n|0001|Cake|0.55|donut|     1003|  Blueberry|      5003|           Chocolate|\n+----+----+----+-----+---------+-----------+----------+--------------------+\nonly showing top 20 rows\n\n"
     ]
    }
   ],
   "source": [
    "df_multiLine_final = df_multiLine1.withColumn('topping_exp',explode('topping'))\\\n",
    "                                  .withColumn('topping_id', col('topping_exp.id'))\\\n",
    "                                  .withColumn('topping_type',col('topping_exp.type'))\\\n",
    "                                  .drop('topping','topping_exp')\n",
    "            \n",
    "\n",
    "df_multiLine_final.show()        "
   ]
  },
  {
   "cell_type": "code",
   "execution_count": 0,
   "metadata": {
    "application/vnd.databricks.v1+cell": {
     "cellMetadata": {
      "byteLimit": 2048000,
      "rowLimit": 10000
     },
     "inputWidgets": {},
     "nuid": "505e985f-6be2-406e-ba02-739d16bd6c78",
     "showTitle": false,
     "title": ""
    }
   },
   "outputs": [],
   "source": []
  },
  {
   "cell_type": "code",
   "execution_count": 0,
   "metadata": {
    "application/vnd.databricks.v1+cell": {
     "cellMetadata": {
      "byteLimit": 2048000,
      "rowLimit": 10000
     },
     "inputWidgets": {},
     "nuid": "17cf6705-5aae-40bb-a604-b688f99cbf29",
     "showTitle": false,
     "title": ""
    }
   },
   "outputs": [],
   "source": []
  },
  {
   "cell_type": "code",
   "execution_count": 0,
   "metadata": {
    "application/vnd.databricks.v1+cell": {
     "cellMetadata": {
      "byteLimit": 2048000,
      "rowLimit": 10000
     },
     "inputWidgets": {},
     "nuid": "24ac492c-a02f-422d-947b-30525493cc8f",
     "showTitle": false,
     "title": ""
    }
   },
   "outputs": [],
   "source": []
  },
  {
   "cell_type": "code",
   "execution_count": 0,
   "metadata": {
    "application/vnd.databricks.v1+cell": {
     "cellMetadata": {},
     "inputWidgets": {},
     "nuid": "0a211780-3836-454a-83a6-7e77c92a5e93",
     "showTitle": false,
     "title": ""
    }
   },
   "outputs": [],
   "source": []
  }
 ],
 "metadata": {
  "application/vnd.databricks.v1+notebook": {
   "dashboards": [],
   "language": "python",
   "notebookMetadata": {
    "pythonIndentUnit": 4
   },
   "notebookName": "DataFrames_1",
   "widgets": {}
  }
 },
 "nbformat": 4,
 "nbformat_minor": 0
}
