{
  "cells": [
    {
      "cell_type": "markdown",
      "metadata": {
        "id": "3in-2lvQJZb2"
      },
      "source": [
        "# Installing Pyspark"
      ]
    },
    {
      "cell_type": "code",
      "execution_count": 1,
      "metadata": {
        "colab": {
          "base_uri": "https://localhost:8080/"
        },
        "id": "VQbx377bOs0o",
        "outputId": "9c80d1f9-d9da-4c92-d8a8-38d01776c0bb"
      },
      "outputs": [
        {
          "output_type": "stream",
          "name": "stdout",
          "text": [
            "Collecting pyspark\n",
            "  Downloading pyspark-3.4.1.tar.gz (310.8 MB)\n",
            "\u001b[2K     \u001b[90m━━━━━━━━━━━━━━━━━━━━━━━━━━━━━━━━━━━━━━━\u001b[0m \u001b[32m310.8/310.8 MB\u001b[0m \u001b[31m4.4 MB/s\u001b[0m eta \u001b[36m0:00:00\u001b[0m\n",
            "\u001b[?25h  Preparing metadata (setup.py) ... \u001b[?25l\u001b[?25hdone\n",
            "Requirement already satisfied: py4j in /usr/local/lib/python3.10/dist-packages (0.10.9.7)\n",
            "Building wheels for collected packages: pyspark\n",
            "  Building wheel for pyspark (setup.py) ... \u001b[?25l\u001b[?25hdone\n",
            "  Created wheel for pyspark: filename=pyspark-3.4.1-py2.py3-none-any.whl size=311285398 sha256=e64e1e50b8ed12499efdc1053c31e05b0cb850128178774209440618472f1763\n",
            "  Stored in directory: /root/.cache/pip/wheels/0d/77/a3/ff2f74cc9ab41f8f594dabf0579c2a7c6de920d584206e0834\n",
            "Successfully built pyspark\n",
            "Installing collected packages: pyspark\n",
            "Successfully installed pyspark-3.4.1\n"
          ]
        }
      ],
      "source": [
        "!pip install pyspark py4j"
      ]
    },
    {
      "cell_type": "markdown",
      "metadata": {
        "id": "HQTXxbqnJYFw"
      },
      "source": [
        "# creating spark Session"
      ]
    },
    {
      "cell_type": "code",
      "execution_count": 2,
      "metadata": {
        "id": "aF9MfnxdPLam",
        "colab": {
          "base_uri": "https://localhost:8080/",
          "height": 0
        },
        "outputId": "f2f1123e-8cbe-4804-c48b-edfa481aaab3"
      },
      "outputs": [
        {
          "output_type": "execute_result",
          "data": {
            "text/plain": [
              "<pyspark.sql.session.SparkSession at 0x7ca474fd3a90>"
            ],
            "text/html": [
              "\n",
              "            <div>\n",
              "                <p><b>SparkSession - in-memory</b></p>\n",
              "                \n",
              "        <div>\n",
              "            <p><b>SparkContext</b></p>\n",
              "\n",
              "            <p><a href=\"http://55ba98e539f8:4040\">Spark UI</a></p>\n",
              "\n",
              "            <dl>\n",
              "              <dt>Version</dt>\n",
              "                <dd><code>v3.4.1</code></dd>\n",
              "              <dt>Master</dt>\n",
              "                <dd><code>local</code></dd>\n",
              "              <dt>AppName</dt>\n",
              "                <dd><code>usecases</code></dd>\n",
              "            </dl>\n",
              "        </div>\n",
              "        \n",
              "            </div>\n",
              "        "
            ]
          },
          "metadata": {},
          "execution_count": 2
        }
      ],
      "source": [
        "from pyspark.sql import SparkSession\n",
        "\n",
        "spark = SparkSession.builder.master('local').appName('usecases').getOrCreate()\n",
        "spark"
      ]
    },
    {
      "cell_type": "markdown",
      "metadata": {
        "id": "tbIlXGsJBL4j"
      },
      "source": [
        "# Import all Functions"
      ]
    },
    {
      "cell_type": "code",
      "execution_count": 3,
      "metadata": {
        "id": "moIVowhbBK6h"
      },
      "outputs": [],
      "source": [
        "from pyspark.sql.functions import *"
      ]
    },
    {
      "cell_type": "markdown",
      "metadata": {
        "id": "3NkJYUG5MbwO"
      },
      "source": [
        "# read csv file data"
      ]
    },
    {
      "cell_type": "code",
      "execution_count": 5,
      "metadata": {
        "id": "ovCxp3ClMa24",
        "colab": {
          "base_uri": "https://localhost:8080/"
        },
        "outputId": "8009845a-f5cd-471c-932f-76a213fece07"
      },
      "outputs": [
        {
          "output_type": "stream",
          "name": "stdout",
          "text": [
            "+-----+------+---------+------+----------+----+------+------------+\n",
            "|EMPNO| ENAME|      JOB|Manger|  HIREDATE| SAL|DEPTNO|UPDATED_DATE|\n",
            "+-----+------+---------+------+----------+----+------+------------+\n",
            "| 7369| SMITH|    CLERK|  7902|17-12-1980| 800|    20|  01-01-2022|\n",
            "| 7499| ALLEN| SALESMAN|  7698|20-02-1980|1600|    30|  02-01-2022|\n",
            "| 7521|  WARD| SALESMAN|  7698|22-02-1980|1250|    30|  03-01-2022|\n",
            "| 7566| JONES|  MANAGER|  7839|04-02-1981|2975|    20|  04-01-2022|\n",
            "| 7654|MARTIN| SALESMAN|  7698|21-09-1981|1250|    30|  05-01-2022|\n",
            "| 7698|   SGR|  MANAGER|  7839|05-01-1981|2850|    30|  06-01-2022|\n",
            "| 7782|  RAVI|  MANAGER|  7839|06-09-1982|2450|    10|  07-01-2022|\n",
            "| 7788| SCOTT|  ANALYST|  7566|19-04-1982|3000|    20|  08-01-2022|\n",
            "| 7839|  KING|PRESIDENT|  null|      null|5000|    10|        null|\n",
            "| 7844|TURNER| SALESMAN|  7698|09-08-1982|1500|    30|  01-02-2022|\n",
            "+-----+------+---------+------+----------+----+------+------------+\n",
            "only showing top 10 rows\n",
            "\n",
            "root\n",
            " |-- EMPNO: integer (nullable = true)\n",
            " |-- ENAME: string (nullable = true)\n",
            " |-- JOB: string (nullable = true)\n",
            " |-- Manger: integer (nullable = true)\n",
            " |-- HIREDATE: string (nullable = true)\n",
            " |-- SAL: integer (nullable = true)\n",
            " |-- DEPTNO: integer (nullable = true)\n",
            " |-- UPDATED_DATE: string (nullable = true)\n",
            "\n"
          ]
        },
        {
          "output_type": "execute_result",
          "data": {
            "text/plain": [
              "33"
            ]
          },
          "metadata": {},
          "execution_count": 5
        }
      ],
      "source": [
        "df_csv = spark.read.format('csv').option('header',True).option('inferSchema',True).option('nullValue','null').load('/content/employee.csv')\n",
        "\n",
        "df_csv.show(10)\n",
        "df_csv.printSchema()\n",
        "df_csv.count()\n"
      ]
    },
    {
      "cell_type": "markdown",
      "metadata": {
        "id": "pUeyJD3u68zO"
      },
      "source": [
        "# Concatinating two columns"
      ]
    },
    {
      "cell_type": "code",
      "execution_count": 6,
      "metadata": {
        "id": "8isa6Kox6_Xn",
        "colab": {
          "base_uri": "https://localhost:8080/"
        },
        "outputId": "67701fce-42da-4a66-8c33-7fd8d2940e03"
      },
      "outputs": [
        {
          "output_type": "stream",
          "name": "stdout",
          "text": [
            "+-----+------+---------+------+----------+----+------+------------+----------+\n",
            "|EMPNO| ENAME|      JOB|Manger|  HIREDATE| SAL|DEPTNO|UPDATED_DATE|  Name_Sal|\n",
            "+-----+------+---------+------+----------+----+------+------------+----------+\n",
            "| 7369| SMITH|    CLERK|  7902|17-12-1980| 800|    20|  01-01-2022|  SMITH800|\n",
            "| 7499| ALLEN| SALESMAN|  7698|20-02-1980|1600|    30|  02-01-2022| ALLEN1600|\n",
            "| 7521|  WARD| SALESMAN|  7698|22-02-1980|1250|    30|  03-01-2022|  WARD1250|\n",
            "| 7566| JONES|  MANAGER|  7839|04-02-1981|2975|    20|  04-01-2022| JONES2975|\n",
            "| 7654|MARTIN| SALESMAN|  7698|21-09-1981|1250|    30|  05-01-2022|MARTIN1250|\n",
            "| 7698|   SGR|  MANAGER|  7839|05-01-1981|2850|    30|  06-01-2022|   SGR2850|\n",
            "| 7782|  RAVI|  MANAGER|  7839|06-09-1982|2450|    10|  07-01-2022|  RAVI2450|\n",
            "| 7788| SCOTT|  ANALYST|  7566|19-04-1982|3000|    20|  08-01-2022| SCOTT3000|\n",
            "| 7839|  KING|PRESIDENT|  null|      null|5000|    10|        null|  KING5000|\n",
            "| 7844|TURNER| SALESMAN|  7698|09-08-1982|1500|    30|  01-02-2022|TURNER1500|\n",
            "+-----+------+---------+------+----------+----+------+------------+----------+\n",
            "only showing top 10 rows\n",
            "\n"
          ]
        }
      ],
      "source": [
        "df_concat = df_csv.withColumn('Name_Sal',concat('ENAME','SAL'))\n",
        "df_concat.show(10)"
      ]
    },
    {
      "cell_type": "markdown",
      "source": [
        "# Concatinating two columns with seprator"
      ],
      "metadata": {
        "id": "aA4NRxrHd9yZ"
      }
    },
    {
      "cell_type": "code",
      "source": [
        "df_concat_ws = df_csv.withColumn('EMP_Name_Sal',concat_ws('_',col('EMPNO'),col('ENAME'),col('SAL')))\n",
        "df_concat_ws.show(10)"
      ],
      "metadata": {
        "colab": {
          "base_uri": "https://localhost:8080/"
        },
        "id": "VGtO7mducTci",
        "outputId": "a973acea-2749-4b54-cef3-53d9480478ea"
      },
      "execution_count": 56,
      "outputs": [
        {
          "output_type": "stream",
          "name": "stdout",
          "text": [
            "+-----+------+--------+------+----+------+------------+----------------+--------+----+-----+---+----------------+\n",
            "|EMPNO| ENAME|     JOB|Manger| SAL|DEPTNO|New_HIREDATE|New_UPDATED_DATE|Position|year|month|day|    EMP_Name_Sal|\n",
            "+-----+------+--------+------+----+------+------------+----------------+--------+----+-----+---+----------------+\n",
            "| 7369| SMITH|   CLERK|  7902| 800|    20|  1980-01-17|      2022-01-01|  Level3|1980|   01| 17|  7369_SMITH_800|\n",
            "| 7499| ALLEN|SALESMAN|  7698|1600|    30|  1980-01-20|      2022-01-02|  Level4|1980|   01| 20| 7499_ALLEN_1600|\n",
            "| 7521|  WARD|SALESMAN|  7698|1250|    30|  1980-01-22|      2022-01-03|  Level4|1980|   01| 22|  7521_WARD_1250|\n",
            "| 7566| JONES| MANAGER|  7839|2975|    20|  1981-01-04|      2022-01-04|  Level2|1981|   01| 04| 7566_JONES_2975|\n",
            "| 7654|MARTIN|SALESMAN|  7698|1250|    30|  1981-01-21|      2022-01-05|  Level4|1981|   01| 21|7654_MARTIN_1250|\n",
            "| 7698|   SGR| MANAGER|  7839|2850|    30|  1981-01-05|      2022-01-06|  Level2|1981|   01| 05|   7698_SGR_2850|\n",
            "| 7782|  RAVI| MANAGER|  7839|2450|    10|  1982-01-06|      2022-01-07|  Level2|1982|   01| 06|  7782_RAVI_2450|\n",
            "| 7844|TURNER|SALESMAN|  7698|1500|    30|  1982-01-09|      2022-01-01|  Level4|1982|   01| 09|7844_TURNER_1500|\n",
            "| 7876| ADAMS|   CLERK|  7788|1100|    20|  1987-01-23|      2022-01-02|  Level3|1987|   01| 23| 7876_ADAMS_1100|\n",
            "| 7900| JAMES|   CLERK|  7698| 950|    30|  1987-01-12|      2022-01-03|  Level3|1987|   01| 12|  7900_JAMES_950|\n",
            "+-----+------+--------+------+----+------+------------+----------------+--------+----+-----+---+----------------+\n",
            "only showing top 10 rows\n",
            "\n"
          ]
        }
      ]
    },
    {
      "cell_type": "markdown",
      "metadata": {
        "id": "y1MKpDkk6Zfs"
      },
      "source": [
        "# Change data type of column"
      ]
    },
    {
      "cell_type": "code",
      "source": [
        "df_cha = df_csv.withColumn('Emp',col('EMPNO').cast('string')).withColumn('sala',col('SAL').cast('string'))\n",
        "df_cha.printSchema()"
      ],
      "metadata": {
        "id": "_5kbM5GaqAnf",
        "colab": {
          "base_uri": "https://localhost:8080/"
        },
        "outputId": "44edd68c-f8ad-456e-bd21-c94b97dce9e0"
      },
      "execution_count": 8,
      "outputs": [
        {
          "output_type": "stream",
          "name": "stdout",
          "text": [
            "root\n",
            " |-- EMPNO: integer (nullable = true)\n",
            " |-- ENAME: string (nullable = true)\n",
            " |-- JOB: string (nullable = true)\n",
            " |-- Manger: integer (nullable = true)\n",
            " |-- HIREDATE: string (nullable = true)\n",
            " |-- SAL: integer (nullable = true)\n",
            " |-- DEPTNO: integer (nullable = true)\n",
            " |-- UPDATED_DATE: string (nullable = true)\n",
            " |-- Emp: string (nullable = true)\n",
            " |-- sala: string (nullable = true)\n",
            "\n"
          ]
        }
      ]
    },
    {
      "cell_type": "markdown",
      "metadata": {
        "id": "mQM_-Rq31OHy"
      },
      "source": [
        "# convert from String (dd-mm-yyyy) date format to spark date format (yyyy-mm-dd)"
      ]
    },
    {
      "cell_type": "code",
      "execution_count": 9,
      "metadata": {
        "id": "dxu3d5Aq33FU",
        "colab": {
          "base_uri": "https://localhost:8080/"
        },
        "outputId": "ce846d8f-ed7c-4521-892b-91febaead59e"
      },
      "outputs": [
        {
          "output_type": "stream",
          "name": "stdout",
          "text": [
            "+-----+------+---------+------+----+------+------------+----------------+\n",
            "|EMPNO| ENAME|      JOB|Manger| SAL|DEPTNO|New_HIREDATE|New_UPDATED_DATE|\n",
            "+-----+------+---------+------+----+------+------------+----------------+\n",
            "| 7369| SMITH|    CLERK|  7902| 800|    20|  1980-01-17|      2022-01-01|\n",
            "| 7499| ALLEN| SALESMAN|  7698|1600|    30|  1980-01-20|      2022-01-02|\n",
            "| 7521|  WARD| SALESMAN|  7698|1250|    30|  1980-01-22|      2022-01-03|\n",
            "| 7566| JONES|  MANAGER|  7839|2975|    20|  1981-01-04|      2022-01-04|\n",
            "| 7654|MARTIN| SALESMAN|  7698|1250|    30|  1981-01-21|      2022-01-05|\n",
            "| 7698|   SGR|  MANAGER|  7839|2850|    30|  1981-01-05|      2022-01-06|\n",
            "| 7782|  RAVI|  MANAGER|  7839|2450|    10|  1982-01-06|      2022-01-07|\n",
            "| 7788| SCOTT|  ANALYST|  7566|3000|    20|  1982-01-19|      2022-01-08|\n",
            "| 7839|  KING|PRESIDENT|  null|5000|    10|        null|            null|\n",
            "| 7844|TURNER| SALESMAN|  7698|1500|    30|  1982-01-09|      2022-01-01|\n",
            "+-----+------+---------+------+----+------+------------+----------------+\n",
            "only showing top 10 rows\n",
            "\n",
            "root\n",
            " |-- EMPNO: integer (nullable = true)\n",
            " |-- ENAME: string (nullable = true)\n",
            " |-- JOB: string (nullable = true)\n",
            " |-- Manger: integer (nullable = true)\n",
            " |-- SAL: integer (nullable = true)\n",
            " |-- DEPTNO: integer (nullable = true)\n",
            " |-- New_HIREDATE: date (nullable = true)\n",
            " |-- New_UPDATED_DATE: date (nullable = true)\n",
            "\n"
          ]
        }
      ],
      "source": [
        "# date format in Traditional databases is dd-mm-yyyy\n",
        "# date format in spark is yyyy-mm-dd\n",
        "\n",
        "\n",
        "df_csv = df_csv.withColumn('New_HIREDATE',to_date('HIREDATE','dd-mm-yyyy')).withColumn('New_UPDATED_DATE',to_date('UPDATED_DATE','dd-mm-yyyy')).drop('HIREDATE','UPDATED_DATE')\n",
        "\n",
        "df_csv.show(10)\n",
        "df_csv.printSchema()\n"
      ]
    },
    {
      "cell_type": "markdown",
      "metadata": {
        "id": "u22VawEEFCLg"
      },
      "source": [
        "#Adding new columns with different values and drop null values"
      ]
    },
    {
      "cell_type": "code",
      "execution_count": 10,
      "metadata": {
        "id": "I_jtJEyJqBhB",
        "colab": {
          "base_uri": "https://localhost:8080/"
        },
        "outputId": "ae02df95-a785-4e66-82da-f3bb44d0eca4"
      },
      "outputs": [
        {
          "output_type": "stream",
          "name": "stdout",
          "text": [
            "+-----+------+--------+------+----+------+------------+----------------+--------+\n",
            "|EMPNO| ENAME|     JOB|Manger| SAL|DEPTNO|New_HIREDATE|New_UPDATED_DATE|Position|\n",
            "+-----+------+--------+------+----+------+------------+----------------+--------+\n",
            "| 7369| SMITH|   CLERK|  7902| 800|    20|  1980-01-17|      2022-01-01|  Level3|\n",
            "| 7499| ALLEN|SALESMAN|  7698|1600|    30|  1980-01-20|      2022-01-02|  Level4|\n",
            "| 7521|  WARD|SALESMAN|  7698|1250|    30|  1980-01-22|      2022-01-03|  Level4|\n",
            "| 7566| JONES| MANAGER|  7839|2975|    20|  1981-01-04|      2022-01-04|  Level2|\n",
            "| 7654|MARTIN|SALESMAN|  7698|1250|    30|  1981-01-21|      2022-01-05|  Level4|\n",
            "| 7698|   SGR| MANAGER|  7839|2850|    30|  1981-01-05|      2022-01-06|  Level2|\n",
            "| 7782|  RAVI| MANAGER|  7839|2450|    10|  1982-01-06|      2022-01-07|  Level2|\n",
            "| 7844|TURNER|SALESMAN|  7698|1500|    30|  1982-01-09|      2022-01-01|  Level4|\n",
            "| 7876| ADAMS|   CLERK|  7788|1100|    20|  1987-01-23|      2022-01-02|  Level3|\n",
            "| 7900| JAMES|   CLERK|  7698| 950|    30|  1987-01-12|      2022-01-03|  Level3|\n",
            "+-----+------+--------+------+----+------+------------+----------------+--------+\n",
            "only showing top 10 rows\n",
            "\n"
          ]
        },
        {
          "output_type": "execute_result",
          "data": {
            "text/plain": [
              "20"
            ]
          },
          "metadata": {},
          "execution_count": 10
        }
      ],
      "source": [
        "df_csv = df_csv.withColumn('Position',when( col('JOB') == 'CLERK' ,'Level3').when( col('JOB') == 'SALESMAN' ,'Level4')\n",
        ".when(col('JOB') == 'MANAGER','Level2').when( col('JOB') == 'PRESIDENT','Level1') ).dropna()\n",
        "\n",
        "df_csv.show(10)\n",
        "df_csv.count()"
      ]
    },
    {
      "cell_type": "markdown",
      "metadata": {
        "id": "XC-rxv57hRCC"
      },
      "source": [
        "# Save Dataframe to Hive table"
      ]
    },
    {
      "cell_type": "code",
      "execution_count": 11,
      "metadata": {
        "id": "7kZsmzghhTiR"
      },
      "outputs": [],
      "source": [
        "df_csv.write.partitionBy('JOB').saveAsTable('New_Employee')"
      ]
    },
    {
      "cell_type": "markdown",
      "metadata": {
        "id": "9sVH_dl3jk2m"
      },
      "source": [
        "# write spark sql query"
      ]
    },
    {
      "cell_type": "code",
      "execution_count": 12,
      "metadata": {
        "id": "HpjoJUx5jogA",
        "colab": {
          "base_uri": "https://localhost:8080/"
        },
        "outputId": "67863fae-24a0-4919-b0c8-68d2653ac2f7"
      },
      "outputs": [
        {
          "output_type": "stream",
          "name": "stdout",
          "text": [
            "+-----+------+------+----+------+------------+----------------+--------+--------+\n",
            "|EMPNO| ENAME|Manger| SAL|DEPTNO|New_HIREDATE|New_UPDATED_DATE|Position|     JOB|\n",
            "+-----+------+------+----+------+------------+----------------+--------+--------+\n",
            "| 7369| SMITH|  7902| 800|    20|  1980-01-17|      2022-01-01|  Level3|   CLERK|\n",
            "| 7876| ADAMS|  7788|1100|    20|  1987-01-23|      2022-01-02|  Level3|   CLERK|\n",
            "| 7900| JAMES|  7698| 950|    30|  1987-01-12|      2022-01-03|  Level3|   CLERK|\n",
            "| 7934|MILLER|  7782|1300|    10|  1987-01-01|      2022-01-05|  Level3|   CLERK|\n",
            "| 7369| SMITH|  7902| 800|    20|  1985-01-17|      2022-01-07|  Level3|   CLERK|\n",
            "| 7876| ADAMS|  7788|1100|    20|  1987-01-23|      2021-01-08|  Level3|   CLERK|\n",
            "| 7934|MILLER|  7782|1300|    10|  1982-01-01|      2021-01-02|  Level3|   CLERK|\n",
            "| 7499| ALLEN|  7698|1600|    30|  1980-01-20|      2022-01-02|  Level4|SALESMAN|\n",
            "| 7521|  WARD|  7698|1250|    30|  1980-01-22|      2022-01-03|  Level4|SALESMAN|\n",
            "| 7654|MARTIN|  7698|1250|    30|  1981-01-21|      2022-01-05|  Level4|SALESMAN|\n",
            "| 7844|TURNER|  7698|1500|    30|  1982-01-09|      2022-01-01|  Level4|SALESMAN|\n",
            "| 7499| ALLEN|  7698|1600|    30|  1985-01-20|      2022-01-08|  Level4|SALESMAN|\n",
            "| 7654|MARTIN|  7698|1250|    30|  1986-01-21|      2021-01-02|  Level4|SALESMAN|\n",
            "| 7844|TURNER|  7698|1500|    30|  1981-01-09|      2021-01-07|  Level4|SALESMAN|\n",
            "| 7566| JONES|  7839|2975|    20|  1981-01-04|      2022-01-04|  Level2| MANAGER|\n",
            "| 7698|   SGR|  7839|2850|    30|  1981-01-05|      2022-01-06|  Level2| MANAGER|\n",
            "| 7782|  RAVI|  7839|2450|    10|  1982-01-06|      2022-01-07|  Level2| MANAGER|\n",
            "| 7566| JONES|  7839|2975|    20|  1986-01-04|      2021-01-01|  Level2| MANAGER|\n",
            "| 7698|   SGR|  7839|2850|    30|  1986-01-05|      2021-01-03|  Level2| MANAGER|\n",
            "| 7782|  RAVI|  7839|2450|    10|  1981-01-06|      2021-01-04|  Level2| MANAGER|\n",
            "+-----+------+------+----+------+------------+----------------+--------+--------+\n",
            "\n"
          ]
        }
      ],
      "source": [
        "spark.sql('select * from New_Employee').show()"
      ]
    },
    {
      "cell_type": "markdown",
      "metadata": {
        "id": "AEXYbd4AjHe5"
      },
      "source": [
        "# Read Dataframe from Hive table"
      ]
    },
    {
      "cell_type": "code",
      "execution_count": 13,
      "metadata": {
        "id": "Mv-O52LCicXB",
        "colab": {
          "base_uri": "https://localhost:8080/"
        },
        "outputId": "516aab29-9c63-425b-93b0-43dc3f4e221e"
      },
      "outputs": [
        {
          "output_type": "stream",
          "name": "stdout",
          "text": [
            "+-----+------+------+----+------+------------+----------------+--------+--------+\n",
            "|EMPNO| ENAME|Manger| SAL|DEPTNO|New_HIREDATE|New_UPDATED_DATE|Position|     JOB|\n",
            "+-----+------+------+----+------+------------+----------------+--------+--------+\n",
            "| 7369| SMITH|  7902| 800|    20|  1980-01-17|      2022-01-01|  Level3|   CLERK|\n",
            "| 7876| ADAMS|  7788|1100|    20|  1987-01-23|      2022-01-02|  Level3|   CLERK|\n",
            "| 7900| JAMES|  7698| 950|    30|  1987-01-12|      2022-01-03|  Level3|   CLERK|\n",
            "| 7934|MILLER|  7782|1300|    10|  1987-01-01|      2022-01-05|  Level3|   CLERK|\n",
            "| 7369| SMITH|  7902| 800|    20|  1985-01-17|      2022-01-07|  Level3|   CLERK|\n",
            "| 7876| ADAMS|  7788|1100|    20|  1987-01-23|      2021-01-08|  Level3|   CLERK|\n",
            "| 7934|MILLER|  7782|1300|    10|  1982-01-01|      2021-01-02|  Level3|   CLERK|\n",
            "| 7499| ALLEN|  7698|1600|    30|  1980-01-20|      2022-01-02|  Level4|SALESMAN|\n",
            "| 7521|  WARD|  7698|1250|    30|  1980-01-22|      2022-01-03|  Level4|SALESMAN|\n",
            "| 7654|MARTIN|  7698|1250|    30|  1981-01-21|      2022-01-05|  Level4|SALESMAN|\n",
            "| 7844|TURNER|  7698|1500|    30|  1982-01-09|      2022-01-01|  Level4|SALESMAN|\n",
            "| 7499| ALLEN|  7698|1600|    30|  1985-01-20|      2022-01-08|  Level4|SALESMAN|\n",
            "| 7654|MARTIN|  7698|1250|    30|  1986-01-21|      2021-01-02|  Level4|SALESMAN|\n",
            "| 7844|TURNER|  7698|1500|    30|  1981-01-09|      2021-01-07|  Level4|SALESMAN|\n",
            "| 7566| JONES|  7839|2975|    20|  1981-01-04|      2022-01-04|  Level2| MANAGER|\n",
            "| 7698|   SGR|  7839|2850|    30|  1981-01-05|      2022-01-06|  Level2| MANAGER|\n",
            "| 7782|  RAVI|  7839|2450|    10|  1982-01-06|      2022-01-07|  Level2| MANAGER|\n",
            "| 7566| JONES|  7839|2975|    20|  1986-01-04|      2021-01-01|  Level2| MANAGER|\n",
            "| 7698|   SGR|  7839|2850|    30|  1986-01-05|      2021-01-03|  Level2| MANAGER|\n",
            "| 7782|  RAVI|  7839|2450|    10|  1981-01-06|      2021-01-04|  Level2| MANAGER|\n",
            "+-----+------+------+----+------+------------+----------------+--------+--------+\n",
            "\n"
          ]
        }
      ],
      "source": [
        "df_hive = spark.read.table('New_Employee')\n",
        "\n",
        "df_hive.show()"
      ]
    },
    {
      "cell_type": "markdown",
      "metadata": {
        "id": "h63qo9lnPaPh"
      },
      "source": [
        "# Adding current timestamp to dataframe"
      ]
    },
    {
      "cell_type": "code",
      "execution_count": 14,
      "metadata": {
        "id": "DVccCiUwPYeZ",
        "colab": {
          "base_uri": "https://localhost:8080/"
        },
        "outputId": "b49983b0-bfc6-4ea1-9cec-86bc46621129"
      },
      "outputs": [
        {
          "output_type": "stream",
          "name": "stdout",
          "text": [
            "+-----+------+------+----+------+------------+----------------+--------+--------+-------------------------+\n",
            "|EMPNO|ENAME |Manger|SAL |DEPTNO|New_HIREDATE|New_UPDATED_DATE|Position|JOB     |Date                     |\n",
            "+-----+------+------+----+------+------------+----------------+--------+--------+-------------------------+\n",
            "|7369 |SMITH |7902  |800 |20    |1980-01-17  |2022-01-01      |Level3  |CLERK   |2023-07-18 14:44:25.88928|\n",
            "|7876 |ADAMS |7788  |1100|20    |1987-01-23  |2022-01-02      |Level3  |CLERK   |2023-07-18 14:44:25.88928|\n",
            "|7900 |JAMES |7698  |950 |30    |1987-01-12  |2022-01-03      |Level3  |CLERK   |2023-07-18 14:44:25.88928|\n",
            "|7934 |MILLER|7782  |1300|10    |1987-01-01  |2022-01-05      |Level3  |CLERK   |2023-07-18 14:44:25.88928|\n",
            "|7369 |SMITH |7902  |800 |20    |1985-01-17  |2022-01-07      |Level3  |CLERK   |2023-07-18 14:44:25.88928|\n",
            "|7876 |ADAMS |7788  |1100|20    |1987-01-23  |2021-01-08      |Level3  |CLERK   |2023-07-18 14:44:25.88928|\n",
            "|7934 |MILLER|7782  |1300|10    |1982-01-01  |2021-01-02      |Level3  |CLERK   |2023-07-18 14:44:25.88928|\n",
            "|7499 |ALLEN |7698  |1600|30    |1980-01-20  |2022-01-02      |Level4  |SALESMAN|2023-07-18 14:44:25.88928|\n",
            "|7521 |WARD  |7698  |1250|30    |1980-01-22  |2022-01-03      |Level4  |SALESMAN|2023-07-18 14:44:25.88928|\n",
            "|7654 |MARTIN|7698  |1250|30    |1981-01-21  |2022-01-05      |Level4  |SALESMAN|2023-07-18 14:44:25.88928|\n",
            "|7844 |TURNER|7698  |1500|30    |1982-01-09  |2022-01-01      |Level4  |SALESMAN|2023-07-18 14:44:25.88928|\n",
            "|7499 |ALLEN |7698  |1600|30    |1985-01-20  |2022-01-08      |Level4  |SALESMAN|2023-07-18 14:44:25.88928|\n",
            "|7654 |MARTIN|7698  |1250|30    |1986-01-21  |2021-01-02      |Level4  |SALESMAN|2023-07-18 14:44:25.88928|\n",
            "|7844 |TURNER|7698  |1500|30    |1981-01-09  |2021-01-07      |Level4  |SALESMAN|2023-07-18 14:44:25.88928|\n",
            "|7566 |JONES |7839  |2975|20    |1981-01-04  |2022-01-04      |Level2  |MANAGER |2023-07-18 14:44:25.88928|\n",
            "|7698 |SGR   |7839  |2850|30    |1981-01-05  |2022-01-06      |Level2  |MANAGER |2023-07-18 14:44:25.88928|\n",
            "|7782 |RAVI  |7839  |2450|10    |1982-01-06  |2022-01-07      |Level2  |MANAGER |2023-07-18 14:44:25.88928|\n",
            "|7566 |JONES |7839  |2975|20    |1986-01-04  |2021-01-01      |Level2  |MANAGER |2023-07-18 14:44:25.88928|\n",
            "|7698 |SGR   |7839  |2850|30    |1986-01-05  |2021-01-03      |Level2  |MANAGER |2023-07-18 14:44:25.88928|\n",
            "|7782 |RAVI  |7839  |2450|10    |1981-01-06  |2021-01-04      |Level2  |MANAGER |2023-07-18 14:44:25.88928|\n",
            "+-----+------+------+----+------+------------+----------------+--------+--------+-------------------------+\n",
            "\n"
          ]
        }
      ],
      "source": [
        "df_hive1 = df_hive.withColumn('Date',current_timestamp())\n",
        "\n",
        "df_hive1.show(truncate = False)\n"
      ]
    },
    {
      "cell_type": "markdown",
      "metadata": {
        "id": "MPp15hFA-b5g"
      },
      "source": [
        "# Creating Data Frame from mysql table"
      ]
    },
    {
      "cell_type": "code",
      "execution_count": 15,
      "metadata": {
        "id": "kfHXuuI-BKOt",
        "colab": {
          "base_uri": "https://localhost:8080/",
          "height": 0
        },
        "outputId": "259f1b25-1a62-405b-a7bf-d63f6bd762b4"
      },
      "outputs": [
        {
          "output_type": "execute_result",
          "data": {
            "text/plain": [
              "\"\\ndf_mysql = spark.read.format('jdbc').           option('url','jdbc:mysql://localhost:3306').           option('driver','com.mysql.jdbc.Driver').           option('user','root').           option('password','sandeep').           option('query','select * from sandeep.emp_table').           load()\\n\""
            ],
            "application/vnd.google.colaboratory.intrinsic+json": {
              "type": "string"
            }
          },
          "metadata": {},
          "execution_count": 15
        }
      ],
      "source": [
        "\"\"\"\n",
        "df_mysql = spark.read.format('jdbc').\\\n",
        "           option('url','jdbc:mysql://localhost:3306').\\\n",
        "           option('driver','com.mysql.jdbc.Driver').\\\n",
        "           option('user','root').\\\n",
        "           option('password','sandeep').\\\n",
        "           option('query','select * from sandeep.emp_table').\\\n",
        "           load()\n",
        "\"\"\""
      ]
    },
    {
      "cell_type": "markdown",
      "metadata": {
        "id": "pERd85OnPkP0"
      },
      "source": [
        "# fill missing data in textFile and convert into Dataframe"
      ]
    },
    {
      "cell_type": "code",
      "execution_count": 16,
      "metadata": {
        "id": "AClRPWqjPuk-",
        "colab": {
          "base_uri": "https://localhost:8080/"
        },
        "outputId": "d29dcb48-1cfc-469a-ac07-a6103b056b30"
      },
      "outputs": [
        {
          "output_type": "stream",
          "name": "stdout",
          "text": [
            "+------+-------+-------+-------+-------+-------+-------+-------+-------+-------+-------+-------+\n",
            "|Spark0| Spark1| Spark2| Spark3| Spark4| Spark5| Spark6| Spark7| Spark8| Spark9|Spark10|   _c11|\n",
            "+------+-------+-------+-------+-------+-------+-------+-------+-------+-------+-------+-------+\n",
            "| Spark|  Spark|  Spark|  Spark|  Spark|  Spark|  Spark|  Spark|  Spark|  Spark|no data|no data|\n",
            "| Spark|  Spark|  Spark|  Spark|  Spark|  Spark|  Spark|  Spark|  Spark|no data|no data|no data|\n",
            "| Spark|  Spark|  Spark|  Spark|  Spark|  Spark|  Spark|  Spark|no data|no data|no data|no data|\n",
            "| Spark|  Spark|  Spark|  Spark|  Spark|  Spark|  Spark|no data|no data|no data|no data|no data|\n",
            "| Spark|  Spark|  Spark|  Spark|  Spark|  Spark|no data|no data|no data|no data|no data|no data|\n",
            "| Spark|  Spark|  Spark|  Spark|  Spark|no data|no data|no data|no data|no data|no data|no data|\n",
            "| Spark|  Spark|  Spark|  Spark|no data|no data|no data|no data|no data|no data|no data|no data|\n",
            "| Spark|  Spark|  Spark|no data|no data|no data|no data|no data|no data|no data|no data|no data|\n",
            "| Spark|  Spark|no data|no data|no data|no data|no data|no data|no data|no data|no data|no data|\n",
            "| Spark|no data|no data|no data|no data|no data|no data|no data|no data|no data|no data|no data|\n",
            "+------+-------+-------+-------+-------+-------+-------+-------+-------+-------+-------+-------+\n",
            "\n"
          ]
        }
      ],
      "source": [
        "df_txt = spark.read.format('csv').option('header',True).option('sep',' ').load('/content/fill missing.txt').fillna('no data')\n",
        "\n",
        "df_txt.show(10)\n"
      ]
    },
    {
      "cell_type": "markdown",
      "metadata": {
        "id": "Egb13y1nnydU"
      },
      "source": [
        "# Functions in pyspark"
      ]
    },
    {
      "cell_type": "code",
      "execution_count": 17,
      "metadata": {
        "id": "R1C9_AAVn_JU",
        "colab": {
          "base_uri": "https://localhost:8080/"
        },
        "outputId": "55d77721-6bd4-4249-a6ce-c10f137ebe33"
      },
      "outputs": [
        {
          "output_type": "stream",
          "name": "stdout",
          "text": [
            "424\n",
            "+--------+\n",
            "|function|\n",
            "+--------+\n",
            "|       !|\n",
            "|      !=|\n",
            "|       %|\n",
            "|       &|\n",
            "|       *|\n",
            "|       +|\n",
            "|       -|\n",
            "|       /|\n",
            "|       <|\n",
            "|      <=|\n",
            "|     <=>|\n",
            "|      <>|\n",
            "|       =|\n",
            "|      ==|\n",
            "|       >|\n",
            "|      >=|\n",
            "|       ^|\n",
            "|     abs|\n",
            "|    acos|\n",
            "|   acosh|\n",
            "+--------+\n",
            "only showing top 20 rows\n",
            "\n",
            "None\n"
          ]
        }
      ],
      "source": [
        "from pyspark.sql.functions import *\n",
        "\n",
        "fun = spark.sql('show functions')\n",
        "print(fun.count())\n",
        "print(fun.show())"
      ]
    },
    {
      "cell_type": "markdown",
      "metadata": {
        "id": "PeBOuuINtoAL"
      },
      "source": [
        "# Creating DataFrame from Json file"
      ]
    },
    {
      "cell_type": "code",
      "execution_count": 18,
      "metadata": {
        "id": "CmRO4ybgDPxZ",
        "colab": {
          "base_uri": "https://localhost:8080/"
        },
        "outputId": "9cacf64a-45cc-4c06-c593-07a609d22a45"
      },
      "outputs": [
        {
          "output_type": "stream",
          "name": "stdout",
          "text": [
            "+----+------+-----+------+----------+---------+----+----+------------+\n",
            "|COMM|DEPTNO|EMPNO| ENAME|  HIREDATE|      JOB| MGR| SAL|UPDATED_DATE|\n",
            "+----+------+-----+------+----------+---------+----+----+------------+\n",
            "|  78|    80| 1234|SEKHAR|      null|   doctor|7777| 667|  2022-01-03|\n",
            "|null|    20| 7369| SMITH|17-12-1980|    CLERK|7902| 800|  2022-01-01|\n",
            "| 300|    30| 7499| ALLEN|20-02-1981| SALESMAN|7698|1600|  2022-01-01|\n",
            "| 500|    30| 7521|  WARD|22-02-1981| SALESMAN|7698|1250|  2022-01-01|\n",
            "|null|    20| 7566| JONES|04-02-1981|  MANAGER|7839|2975|  2022-01-05|\n",
            "|1400|    30| 7654|MARTIN|21-09-1981| SALESMAN|7698|1250|  2022-01-03|\n",
            "|null|    30| 7698|   SGR|05-01-1981|  MANAGER|7839|2850|  2022-01-04|\n",
            "|null|    10| 7782|  RAVI|06-09-1981|  MANAGER|7839|2450|  2022-01-02|\n",
            "|null|    20| 7788| SCOTT|19-04-1987|  ANALYST|7566|3000|  2022-01-02|\n",
            "|null|    10| 7839|  KING|01-11-1981|PRESIDENT|null|5000|  2022-01-02|\n",
            "|   0|    30| 7844|TURNER|09-08-1981| SALESMAN|7698|1500|  2022-01-02|\n",
            "|null|    20| 7876| ADAMS|23-05-1987|    CLERK|7788|1100|  2022-01-03|\n",
            "|null|    30| 7900| JAMES|12-03-1981|    CLERK|7698| 950|  2022-01-03|\n",
            "|null|    20| 7902|  FORD|12-03-1981|  ANALYST|7566|3000|  2022-01-03|\n",
            "|null|    10| 7934|MILLER|01-03-1982|    CLERK|7782|1300|  2022-01-03|\n",
            "+----+------+-----+------+----------+---------+----+----+------------+\n",
            "\n",
            "root\n",
            " |-- COMM: string (nullable = true)\n",
            " |-- DEPTNO: string (nullable = true)\n",
            " |-- EMPNO: string (nullable = true)\n",
            " |-- ENAME: string (nullable = true)\n",
            " |-- HIREDATE: string (nullable = true)\n",
            " |-- JOB: string (nullable = true)\n",
            " |-- MGR: string (nullable = true)\n",
            " |-- SAL: string (nullable = true)\n",
            " |-- UPDATED_DATE: string (nullable = true)\n",
            "\n"
          ]
        },
        {
          "output_type": "execute_result",
          "data": {
            "text/plain": [
              "15"
            ]
          },
          "metadata": {},
          "execution_count": 18
        }
      ],
      "source": [
        "df_json = spark.read.format('json').load('/content/emp.json')\n",
        "df_json.show()\n",
        "df_json.printSchema()\n",
        "df_json.count()"
      ]
    },
    {
      "cell_type": "markdown",
      "metadata": {
        "id": "1d7XuxL5X50r"
      },
      "source": [
        "# Creating DataFrame from multiLine Json file"
      ]
    },
    {
      "cell_type": "code",
      "execution_count": 19,
      "metadata": {
        "id": "OwpKEkmDDbJr",
        "colab": {
          "base_uri": "https://localhost:8080/"
        },
        "outputId": "62d6944c-0f25-49b2-e353-0df5f179ca2c"
      },
      "outputs": [
        {
          "output_type": "stream",
          "name": "stdout",
          "text": [
            "+-------------------------------------------------------------------------------+----+----+----+-----------------------------------------------------------------------------------------------------------------------------------------+-----+\n",
            "|batters                                                                        |id  |name|ppu |topping                                                                                                                                  |type |\n",
            "+-------------------------------------------------------------------------------+----+----+----+-----------------------------------------------------------------------------------------------------------------------------------------+-----+\n",
            "|{[{1001, Regular}, {1002, Chocolate}, {1003, Blueberry}, {1004, Devil's Food}]}|0001|Cake|0.55|[{5001, None}, {5002, Glazed}, {5005, Sugar}, {5007, Powdered Sugar}, {5006, Chocolate with Sprinkles}, {5003, Chocolate}, {5004, Maple}]|donut|\n",
            "+-------------------------------------------------------------------------------+----+----+----+-----------------------------------------------------------------------------------------------------------------------------------------+-----+\n",
            "\n",
            "root\n",
            " |-- batters: struct (nullable = true)\n",
            " |    |-- batter: array (nullable = true)\n",
            " |    |    |-- element: struct (containsNull = true)\n",
            " |    |    |    |-- id: string (nullable = true)\n",
            " |    |    |    |-- type: string (nullable = true)\n",
            " |-- id: string (nullable = true)\n",
            " |-- name: string (nullable = true)\n",
            " |-- ppu: double (nullable = true)\n",
            " |-- topping: array (nullable = true)\n",
            " |    |-- element: struct (containsNull = true)\n",
            " |    |    |-- id: string (nullable = true)\n",
            " |    |    |-- type: string (nullable = true)\n",
            " |-- type: string (nullable = true)\n",
            "\n"
          ]
        },
        {
          "output_type": "execute_result",
          "data": {
            "text/plain": [
              "1"
            ]
          },
          "metadata": {},
          "execution_count": 19
        }
      ],
      "source": [
        "# if json file has  more no.of lines (nested data) .then we should use multiLine in options\n",
        "\n",
        "df_mul_json  = spark.read.format('json').option('multiline',True).option('inferSchema',True).option('nullValue','null').load('/content/nested_json.json')\n",
        "\n",
        "df_mul_json .show(truncate = False)\n",
        "\n",
        "df_mul_json .printSchema()\n",
        "\n",
        "df_mul_json .count()"
      ]
    },
    {
      "cell_type": "markdown",
      "metadata": {
        "id": "IoACpFSUGggR"
      },
      "source": [
        "# Explode json Columns"
      ]
    },
    {
      "cell_type": "code",
      "execution_count": 20,
      "metadata": {
        "id": "FI634GrNEbaQ",
        "colab": {
          "base_uri": "https://localhost:8080/"
        },
        "outputId": "d241c25f-50d9-43c3-8836-a82cccc4a3a9"
      },
      "outputs": [
        {
          "output_type": "stream",
          "name": "stdout",
          "text": [
            "+----+----+----+--------------------+-----+---------+------------+\n",
            "|  id|name| ppu|             topping| type|batter_id| better_type|\n",
            "+----+----+----+--------------------+-----+---------+------------+\n",
            "|0001|Cake|0.55|[{5001, None}, {5...|donut|     1001|     Regular|\n",
            "|0001|Cake|0.55|[{5001, None}, {5...|donut|     1002|   Chocolate|\n",
            "|0001|Cake|0.55|[{5001, None}, {5...|donut|     1003|   Blueberry|\n",
            "|0001|Cake|0.55|[{5001, None}, {5...|donut|     1004|Devil's Food|\n",
            "+----+----+----+--------------------+-----+---------+------------+\n",
            "\n"
          ]
        }
      ],
      "source": [
        "df_explode = df_mul_json.withColumn('batters_exp',explode('batters.batter'))\\\n",
        ".withColumn('batter_id', col('batters_exp.id')).withColumn('better_type',col('batters_exp.type')).drop('batters','batters_exp')\n",
        "\n",
        "df_explode.show()"
      ]
    },
    {
      "cell_type": "code",
      "execution_count": 21,
      "metadata": {
        "id": "SokDvpo3Gn-b",
        "colab": {
          "base_uri": "https://localhost:8080/"
        },
        "outputId": "4a5791c4-09ff-4327-d76e-78358e926c97"
      },
      "outputs": [
        {
          "output_type": "stream",
          "name": "stdout",
          "text": [
            "+----+----+----+-----+---------+-----------+----------+--------------------+\n",
            "|  id|name| ppu| type|batter_id|better_type|topping_id|        topping_type|\n",
            "+----+----+----+-----+---------+-----------+----------+--------------------+\n",
            "|0001|Cake|0.55|donut|     1001|    Regular|      5001|                None|\n",
            "|0001|Cake|0.55|donut|     1001|    Regular|      5002|              Glazed|\n",
            "|0001|Cake|0.55|donut|     1001|    Regular|      5005|               Sugar|\n",
            "|0001|Cake|0.55|donut|     1001|    Regular|      5007|      Powdered Sugar|\n",
            "|0001|Cake|0.55|donut|     1001|    Regular|      5006|Chocolate with Sp...|\n",
            "|0001|Cake|0.55|donut|     1001|    Regular|      5003|           Chocolate|\n",
            "|0001|Cake|0.55|donut|     1001|    Regular|      5004|               Maple|\n",
            "|0001|Cake|0.55|donut|     1002|  Chocolate|      5001|                None|\n",
            "|0001|Cake|0.55|donut|     1002|  Chocolate|      5002|              Glazed|\n",
            "|0001|Cake|0.55|donut|     1002|  Chocolate|      5005|               Sugar|\n",
            "|0001|Cake|0.55|donut|     1002|  Chocolate|      5007|      Powdered Sugar|\n",
            "|0001|Cake|0.55|donut|     1002|  Chocolate|      5006|Chocolate with Sp...|\n",
            "|0001|Cake|0.55|donut|     1002|  Chocolate|      5003|           Chocolate|\n",
            "|0001|Cake|0.55|donut|     1002|  Chocolate|      5004|               Maple|\n",
            "|0001|Cake|0.55|donut|     1003|  Blueberry|      5001|                None|\n",
            "|0001|Cake|0.55|donut|     1003|  Blueberry|      5002|              Glazed|\n",
            "|0001|Cake|0.55|donut|     1003|  Blueberry|      5005|               Sugar|\n",
            "|0001|Cake|0.55|donut|     1003|  Blueberry|      5007|      Powdered Sugar|\n",
            "|0001|Cake|0.55|donut|     1003|  Blueberry|      5006|Chocolate with Sp...|\n",
            "|0001|Cake|0.55|donut|     1003|  Blueberry|      5003|           Chocolate|\n",
            "+----+----+----+-----+---------+-----------+----------+--------------------+\n",
            "only showing top 20 rows\n",
            "\n"
          ]
        }
      ],
      "source": [
        "df_mul_final = df_explode.withColumn('topping_exp',explode('topping')).withColumn('topping_id',col('topping_exp.id'))\\\n",
        ".withColumn('topping_type',col('topping_exp.type')).drop('topping','topping_exp')\n",
        "\n",
        "df_mul_final.show()"
      ]
    },
    {
      "cell_type": "markdown",
      "metadata": {
        "id": "6FEKfcYB3EDz"
      },
      "source": [
        "# how to handle multi delimiter files"
      ]
    },
    {
      "cell_type": "code",
      "execution_count": 22,
      "metadata": {
        "id": "nTQCJ1VU3IZi",
        "colab": {
          "base_uri": "https://localhost:8080/"
        },
        "outputId": "61344fe7-8a8b-4b7f-8488-f9f392786e89"
      },
      "outputs": [
        {
          "output_type": "stream",
          "name": "stdout",
          "text": [
            "+-----+------+---------+----+----------+--------------------+\n",
            "|EMPNO| ENAME|      JOB| MGR|  HIREDATE|                 SAL|\n",
            "+-----+------+---------+----+----------+--------------------+\n",
            "| 7839|  KING|PRESIDENT|null|      null|   5000,null,10,null|\n",
            "| 7844|TURNER| SALESMAN|7698|09-08-1981|1500,0,30,01-02-2022|\n",
            "| 7876| ADAMS|    CLERK|7788|23-05-1987|1100,null,20,02-0...|\n",
            "| 7900| JAMES|    CLERK|7698|12-03-1981|950,null,30,03-02...|\n",
            "| 7902|  FORD|  ANALYST|7566|12-03-1981|3000,null,20,04-0...|\n",
            "| 7934|MILLER|    CLERK|7782|01-03-1982|1300,null,10,05-0...|\n",
            "| 1234|SEKHAR|   doctor|7777|      null|667,78,80,06-02-2022|\n",
            "| 7369| SMITH|    CLERK|7902|17-12-1980|800,null,20,07-02...|\n",
            "| 7499| ALLEN| SALESMAN|7698|20-02-1981|1600,300,30,08-02...|\n",
            "| 7521|  WARD| SALESMAN|7698|22-02-1981|    1250,500,30,null|\n",
            "| 7566| JONES|  MANAGER|7839|04-02-1981|2975,null,20,01-0...|\n",
            "+-----+------+---------+----+----------+--------------------+\n",
            "\n"
          ]
        }
      ],
      "source": [
        "#Multiple delimeters\n",
        "\n",
        "mu_df = spark.read.format('csv').option('sep','||').option('header',True).load('/content/emp_multiple_delimeter.txt')\n",
        "\n",
        "mu_df.show()"
      ]
    },
    {
      "cell_type": "code",
      "execution_count": 23,
      "metadata": {
        "id": "lkkyk0xW3Kwb",
        "colab": {
          "base_uri": "https://localhost:8080/"
        },
        "outputId": "eb132fca-ca97-4a2d-aef0-31f2982d5878"
      },
      "outputs": [
        {
          "output_type": "stream",
          "name": "stdout",
          "text": [
            "+-----+------+---------+----+----------+--------------------+--------------------+\n",
            "|EMPNO| ENAME|      JOB| MGR|  HIREDATE|                 SAL|               Split|\n",
            "+-----+------+---------+----+----------+--------------------+--------------------+\n",
            "| 7839|  KING|PRESIDENT|null|      null|   5000,null,10,null|[5000, null, 10, ...|\n",
            "| 7844|TURNER| SALESMAN|7698|09-08-1981|1500,0,30,01-02-2022|[1500, 0, 30, 01-...|\n",
            "| 7876| ADAMS|    CLERK|7788|23-05-1987|1100,null,20,02-0...|[1100, null, 20, ...|\n",
            "| 7900| JAMES|    CLERK|7698|12-03-1981|950,null,30,03-02...|[950, null, 30, 0...|\n",
            "| 7902|  FORD|  ANALYST|7566|12-03-1981|3000,null,20,04-0...|[3000, null, 20, ...|\n",
            "| 7934|MILLER|    CLERK|7782|01-03-1982|1300,null,10,05-0...|[1300, null, 10, ...|\n",
            "| 1234|SEKHAR|   doctor|7777|      null|667,78,80,06-02-2022|[667, 78, 80, 06-...|\n",
            "| 7369| SMITH|    CLERK|7902|17-12-1980|800,null,20,07-02...|[800, null, 20, 0...|\n",
            "| 7499| ALLEN| SALESMAN|7698|20-02-1981|1600,300,30,08-02...|[1600, 300, 30, 0...|\n",
            "| 7521|  WARD| SALESMAN|7698|22-02-1981|    1250,500,30,null|[1250, 500, 30, n...|\n",
            "| 7566| JONES|  MANAGER|7839|04-02-1981|2975,null,20,01-0...|[2975, null, 20, ...|\n",
            "+-----+------+---------+----+----------+--------------------+--------------------+\n",
            "\n"
          ]
        }
      ],
      "source": [
        "mu_df = mu_df.withColumn('Split',split('SAL',','))\n",
        "\n",
        "mu_df.show()"
      ]
    },
    {
      "cell_type": "code",
      "execution_count": 24,
      "metadata": {
        "id": "pi_ROg883NU5",
        "colab": {
          "base_uri": "https://localhost:8080/"
        },
        "outputId": "404ab1e8-333b-41a4-ef4a-1dec57ba7541"
      },
      "outputs": [
        {
          "output_type": "stream",
          "name": "stdout",
          "text": [
            "+-----+------+---------+----+----------+----+----+------+------------+\n",
            "|EMPNO| ENAME|      JOB| MGR|  HIREDATE| SAL|COMM|DEPTNO|UPDATED_DATE|\n",
            "+-----+------+---------+----+----------+----+----+------+------------+\n",
            "| 7839|  KING|PRESIDENT|null|      null|5000|null|    10|        null|\n",
            "| 7844|TURNER| SALESMAN|7698|09-08-1981|1500|   0|    30|  01-02-2022|\n",
            "| 7876| ADAMS|    CLERK|7788|23-05-1987|1100|null|    20|  02-02-2022|\n",
            "| 7900| JAMES|    CLERK|7698|12-03-1981| 950|null|    30|  03-02-2022|\n",
            "| 7902|  FORD|  ANALYST|7566|12-03-1981|3000|null|    20|  04-02-2022|\n",
            "| 7934|MILLER|    CLERK|7782|01-03-1982|1300|null|    10|  05-02-2022|\n",
            "| 1234|SEKHAR|   doctor|7777|      null| 667|  78|    80|  06-02-2022|\n",
            "| 7369| SMITH|    CLERK|7902|17-12-1980| 800|null|    20|  07-02-2022|\n",
            "| 7499| ALLEN| SALESMAN|7698|20-02-1981|1600| 300|    30|  08-02-2022|\n",
            "| 7521|  WARD| SALESMAN|7698|22-02-1981|1250| 500|    30|        null|\n",
            "| 7566| JONES|  MANAGER|7839|04-02-1981|2975|null|    20|  01-02-2021|\n",
            "+-----+------+---------+----+----------+----+----+------+------------+\n",
            "\n"
          ]
        }
      ],
      "source": [
        "mu_df = mu_df.withColumn('SAL',col('Split')[0]) \\\n",
        "             .withColumn('COMM',col('Split')[1]) \\\n",
        "             .withColumn('DEPTNO',col('Split')[2]) \\\n",
        "             .withColumn('UPDATED_DATE',col('Split')[3]) \\\n",
        "             .drop('Split')\n",
        "\n",
        "mu_df.show()"
      ]
    },
    {
      "cell_type": "markdown",
      "metadata": {
        "id": "9pmQ8opn3Ubp"
      },
      "source": [
        "# individual Columns null values"
      ]
    },
    {
      "cell_type": "code",
      "execution_count": 25,
      "metadata": {
        "id": "doGh-pa1evf1",
        "colab": {
          "base_uri": "https://localhost:8080/"
        },
        "outputId": "245b9a7d-bffc-47e9-e61b-4a3def1f8e1d"
      },
      "outputs": [
        {
          "output_type": "stream",
          "name": "stdout",
          "text": [
            "+-----+-----+---+------+---+------+------------+----------------+--------+\n",
            "|EMPNO|ENAME|JOB|Manger|SAL|DEPTNO|New_HIREDATE|New_UPDATED_DATE|Position|\n",
            "+-----+-----+---+------+---+------+------------+----------------+--------+\n",
            "+-----+-----+---+------+---+------+------------+----------------+--------+\n",
            "\n",
            "+-----+-----+---+------+---+------+------------+----------------+--------+\n",
            "|EMPNO|ENAME|JOB|Manger|SAL|DEPTNO|New_HIREDATE|New_UPDATED_DATE|Position|\n",
            "+-----+-----+---+------+---+------+------------+----------------+--------+\n",
            "+-----+-----+---+------+---+------+------------+----------------+--------+\n",
            "\n"
          ]
        }
      ],
      "source": [
        "df_csv.filter('UPDATED_DATE is Null').show()\n",
        "df_csv.filter('SAL is null').show()"
      ]
    },
    {
      "cell_type": "markdown",
      "metadata": {
        "id": "YqkwWzZa4GvX"
      },
      "source": [
        "# how to get no.of rows in each partition"
      ]
    },
    {
      "cell_type": "code",
      "execution_count": 26,
      "metadata": {
        "id": "tKwshqS1ib3X",
        "colab": {
          "base_uri": "https://localhost:8080/"
        },
        "outputId": "103dec6d-9035-47cc-fb12-8c59c1eeb038"
      },
      "outputs": [
        {
          "output_type": "stream",
          "name": "stdout",
          "text": [
            "+---+-----+\n",
            "| id|count|\n",
            "+---+-----+\n",
            "|  0|   20|\n",
            "+---+-----+\n",
            "\n"
          ]
        }
      ],
      "source": [
        "df_csv.select(spark_partition_id().alias('id')).groupBy('id').count().show()"
      ]
    },
    {
      "cell_type": "code",
      "execution_count": 27,
      "metadata": {
        "id": "6zPl1Phe4Lwq",
        "colab": {
          "base_uri": "https://localhost:8080/"
        },
        "outputId": "fe077d37-210c-4403-d216-d795e2182ad2"
      },
      "outputs": [
        {
          "output_type": "stream",
          "name": "stdout",
          "text": [
            "+---+-----+\n",
            "| id|count|\n",
            "+---+-----+\n",
            "|  0|    5|\n",
            "|  1|    5|\n",
            "|  2|    5|\n",
            "|  3|    5|\n",
            "+---+-----+\n",
            "\n"
          ]
        }
      ],
      "source": [
        "# By Using Repartition\n",
        "\n",
        "df_csv.repartition(4).select(spark_partition_id().alias('id')).groupBy('id').count().show()\n"
      ]
    },
    {
      "cell_type": "markdown",
      "metadata": {
        "id": "sAXTABuC4eJD"
      },
      "source": [
        "# how to read all files from a directory inside another directory (nested/sub directory)"
      ]
    },
    {
      "cell_type": "code",
      "execution_count": 28,
      "metadata": {
        "id": "NCKVFkUs4iIK",
        "colab": {
          "base_uri": "https://localhost:8080/"
        },
        "outputId": "b6602245-9cd4-4523-c352-0adcafba532a"
      },
      "outputs": [
        {
          "output_type": "stream",
          "name": "stdout",
          "text": [
            "+-----+------+------+----+------+------------+----------------+--------+\n",
            "|EMPNO| ENAME|Manger| SAL|DEPTNO|New_HIREDATE|New_UPDATED_DATE|Position|\n",
            "+-----+------+------+----+------+------------+----------------+--------+\n",
            "| 7369| SMITH|  7902| 800|    20|  1980-01-17|      2022-01-01|  Level3|\n",
            "| 7876| ADAMS|  7788|1100|    20|  1987-01-23|      2022-01-02|  Level3|\n",
            "| 7900| JAMES|  7698| 950|    30|  1987-01-12|      2022-01-03|  Level3|\n",
            "| 7934|MILLER|  7782|1300|    10|  1987-01-01|      2022-01-05|  Level3|\n",
            "| 7369| SMITH|  7902| 800|    20|  1985-01-17|      2022-01-07|  Level3|\n",
            "| 7876| ADAMS|  7788|1100|    20|  1987-01-23|      2021-01-08|  Level3|\n",
            "| 7934|MILLER|  7782|1300|    10|  1982-01-01|      2021-01-02|  Level3|\n",
            "| 7499| ALLEN|  7698|1600|    30|  1980-01-20|      2022-01-02|  Level4|\n",
            "| 7521|  WARD|  7698|1250|    30|  1980-01-22|      2022-01-03|  Level4|\n",
            "| 7654|MARTIN|  7698|1250|    30|  1981-01-21|      2022-01-05|  Level4|\n",
            "| 7844|TURNER|  7698|1500|    30|  1982-01-09|      2022-01-01|  Level4|\n",
            "| 7499| ALLEN|  7698|1600|    30|  1985-01-20|      2022-01-08|  Level4|\n",
            "| 7654|MARTIN|  7698|1250|    30|  1986-01-21|      2021-01-02|  Level4|\n",
            "| 7844|TURNER|  7698|1500|    30|  1981-01-09|      2021-01-07|  Level4|\n",
            "| 7566| JONES|  7839|2975|    20|  1981-01-04|      2022-01-04|  Level2|\n",
            "| 7698|   SGR|  7839|2850|    30|  1981-01-05|      2022-01-06|  Level2|\n",
            "| 7782|  RAVI|  7839|2450|    10|  1982-01-06|      2022-01-07|  Level2|\n",
            "| 7566| JONES|  7839|2975|    20|  1986-01-04|      2021-01-01|  Level2|\n",
            "| 7698|   SGR|  7839|2850|    30|  1986-01-05|      2021-01-03|  Level2|\n",
            "| 7782|  RAVI|  7839|2450|    10|  1981-01-06|      2021-01-04|  Level2|\n",
            "+-----+------+------+----+------+------------+----------------+--------+\n",
            "\n"
          ]
        },
        {
          "output_type": "execute_result",
          "data": {
            "text/plain": [
              "20"
            ]
          },
          "metadata": {},
          "execution_count": 28
        }
      ],
      "source": [
        "df_all = spark.read.format('parquet').option('recursiveFileLookup',True).option('header',True).option('nullValue','null').option('inferSchema',True).load('/content/spark-warehouse')\n",
        "\n",
        "\n",
        "df_all.show()\n",
        "df_all.count()"
      ]
    },
    {
      "cell_type": "markdown",
      "metadata": {
        "id": "i2Y6IjYy7KPj"
      },
      "source": [
        "# create year,month,day columns from Date Column"
      ]
    },
    {
      "cell_type": "code",
      "source": [
        "df_csv = df_csv.withColumn('year',date_format('New_HIREDATE','yyyy'))\\\n",
        ".withColumn('month',date_format('New_HIREDATE','MM'))\\\n",
        ".withColumn('day',date_format('New_HIREDATE','dd'))\n",
        "\n",
        "df_csv.show()"
      ],
      "metadata": {
        "id": "RsMbV1q2sfGY",
        "colab": {
          "base_uri": "https://localhost:8080/"
        },
        "outputId": "5cb56850-43da-4298-9660-29ba777d1610"
      },
      "execution_count": 29,
      "outputs": [
        {
          "output_type": "stream",
          "name": "stdout",
          "text": [
            "+-----+------+--------+------+----+------+------------+----------------+--------+----+-----+---+\n",
            "|EMPNO| ENAME|     JOB|Manger| SAL|DEPTNO|New_HIREDATE|New_UPDATED_DATE|Position|year|month|day|\n",
            "+-----+------+--------+------+----+------+------------+----------------+--------+----+-----+---+\n",
            "| 7369| SMITH|   CLERK|  7902| 800|    20|  1980-01-17|      2022-01-01|  Level3|1980|   01| 17|\n",
            "| 7499| ALLEN|SALESMAN|  7698|1600|    30|  1980-01-20|      2022-01-02|  Level4|1980|   01| 20|\n",
            "| 7521|  WARD|SALESMAN|  7698|1250|    30|  1980-01-22|      2022-01-03|  Level4|1980|   01| 22|\n",
            "| 7566| JONES| MANAGER|  7839|2975|    20|  1981-01-04|      2022-01-04|  Level2|1981|   01| 04|\n",
            "| 7654|MARTIN|SALESMAN|  7698|1250|    30|  1981-01-21|      2022-01-05|  Level4|1981|   01| 21|\n",
            "| 7698|   SGR| MANAGER|  7839|2850|    30|  1981-01-05|      2022-01-06|  Level2|1981|   01| 05|\n",
            "| 7782|  RAVI| MANAGER|  7839|2450|    10|  1982-01-06|      2022-01-07|  Level2|1982|   01| 06|\n",
            "| 7844|TURNER|SALESMAN|  7698|1500|    30|  1982-01-09|      2022-01-01|  Level4|1982|   01| 09|\n",
            "| 7876| ADAMS|   CLERK|  7788|1100|    20|  1987-01-23|      2022-01-02|  Level3|1987|   01| 23|\n",
            "| 7900| JAMES|   CLERK|  7698| 950|    30|  1987-01-12|      2022-01-03|  Level3|1987|   01| 12|\n",
            "| 7934|MILLER|   CLERK|  7782|1300|    10|  1987-01-01|      2022-01-05|  Level3|1987|   01| 01|\n",
            "| 7369| SMITH|   CLERK|  7902| 800|    20|  1985-01-17|      2022-01-07|  Level3|1985|   01| 17|\n",
            "| 7499| ALLEN|SALESMAN|  7698|1600|    30|  1985-01-20|      2022-01-08|  Level4|1985|   01| 20|\n",
            "| 7566| JONES| MANAGER|  7839|2975|    20|  1986-01-04|      2021-01-01|  Level2|1986|   01| 04|\n",
            "| 7654|MARTIN|SALESMAN|  7698|1250|    30|  1986-01-21|      2021-01-02|  Level4|1986|   01| 21|\n",
            "| 7698|   SGR| MANAGER|  7839|2850|    30|  1986-01-05|      2021-01-03|  Level2|1986|   01| 05|\n",
            "| 7782|  RAVI| MANAGER|  7839|2450|    10|  1981-01-06|      2021-01-04|  Level2|1981|   01| 06|\n",
            "| 7844|TURNER|SALESMAN|  7698|1500|    30|  1981-01-09|      2021-01-07|  Level4|1981|   01| 09|\n",
            "| 7876| ADAMS|   CLERK|  7788|1100|    20|  1987-01-23|      2021-01-08|  Level3|1987|   01| 23|\n",
            "| 7934|MILLER|   CLERK|  7782|1300|    10|  1982-01-01|      2021-01-02|  Level3|1982|   01| 01|\n",
            "+-----+------+--------+------+----+------+------------+----------------+--------+----+-----+---+\n",
            "\n"
          ]
        }
      ]
    },
    {
      "cell_type": "markdown",
      "source": [
        "# Create A partitioned dataframe by year,month,day save it to Employee Hire table"
      ],
      "metadata": {
        "id": "gZLklQEUwp3w"
      }
    },
    {
      "cell_type": "code",
      "source": [
        "df_csv.write.partitionBy('year','month','Day').saveAsTable('employee_hire')\n"
      ],
      "metadata": {
        "id": "hgMDcu6Qv0MV"
      },
      "execution_count": 30,
      "outputs": []
    },
    {
      "cell_type": "code",
      "source": [
        "spark.sql('select * from employee_hire').show()"
      ],
      "metadata": {
        "id": "grP8zl6wwXus",
        "colab": {
          "base_uri": "https://localhost:8080/"
        },
        "outputId": "7efda518-4178-49fd-ae43-c998aa099aa0"
      },
      "execution_count": 31,
      "outputs": [
        {
          "output_type": "stream",
          "name": "stdout",
          "text": [
            "+-----+------+--------+------+----+------+------------+----------------+--------+----+-----+---+\n",
            "|EMPNO| ENAME|     JOB|Manger| SAL|DEPTNO|New_HIREDATE|New_UPDATED_DATE|Position|year|month|day|\n",
            "+-----+------+--------+------+----+------+------------+----------------+--------+----+-----+---+\n",
            "| 7876| ADAMS|   CLERK|  7788|1100|    20|  1987-01-23|      2022-01-02|  Level3|1987|   01| 23|\n",
            "| 7876| ADAMS|   CLERK|  7788|1100|    20|  1987-01-23|      2021-01-08|  Level3|1987|   01| 23|\n",
            "| 7844|TURNER|SALESMAN|  7698|1500|    30|  1982-01-09|      2022-01-01|  Level4|1982|   01| 09|\n",
            "| 7844|TURNER|SALESMAN|  7698|1500|    30|  1981-01-09|      2021-01-07|  Level4|1981|   01| 09|\n",
            "| 7654|MARTIN|SALESMAN|  7698|1250|    30|  1986-01-21|      2021-01-02|  Level4|1986|   01| 21|\n",
            "| 7654|MARTIN|SALESMAN|  7698|1250|    30|  1981-01-21|      2022-01-05|  Level4|1981|   01| 21|\n",
            "| 7499| ALLEN|SALESMAN|  7698|1600|    30|  1980-01-20|      2022-01-02|  Level4|1980|   01| 20|\n",
            "| 7499| ALLEN|SALESMAN|  7698|1600|    30|  1985-01-20|      2022-01-08|  Level4|1985|   01| 20|\n",
            "| 7521|  WARD|SALESMAN|  7698|1250|    30|  1980-01-22|      2022-01-03|  Level4|1980|   01| 22|\n",
            "| 7566| JONES| MANAGER|  7839|2975|    20|  1986-01-04|      2021-01-01|  Level2|1986|   01| 04|\n",
            "| 7566| JONES| MANAGER|  7839|2975|    20|  1981-01-04|      2022-01-04|  Level2|1981|   01| 04|\n",
            "| 7934|MILLER|   CLERK|  7782|1300|    10|  1982-01-01|      2021-01-02|  Level3|1982|   01| 01|\n",
            "| 7934|MILLER|   CLERK|  7782|1300|    10|  1987-01-01|      2022-01-05|  Level3|1987|   01| 01|\n",
            "| 7782|  RAVI| MANAGER|  7839|2450|    10|  1981-01-06|      2021-01-04|  Level2|1981|   01| 06|\n",
            "| 7782|  RAVI| MANAGER|  7839|2450|    10|  1982-01-06|      2022-01-07|  Level2|1982|   01| 06|\n",
            "| 7698|   SGR| MANAGER|  7839|2850|    30|  1981-01-05|      2022-01-06|  Level2|1981|   01| 05|\n",
            "| 7698|   SGR| MANAGER|  7839|2850|    30|  1986-01-05|      2021-01-03|  Level2|1986|   01| 05|\n",
            "| 7900| JAMES|   CLERK|  7698| 950|    30|  1987-01-12|      2022-01-03|  Level3|1987|   01| 12|\n",
            "| 7369| SMITH|   CLERK|  7902| 800|    20|  1985-01-17|      2022-01-07|  Level3|1985|   01| 17|\n",
            "| 7369| SMITH|   CLERK|  7902| 800|    20|  1980-01-17|      2022-01-01|  Level3|1980|   01| 17|\n",
            "+-----+------+--------+------+----+------+------------+----------------+--------+----+-----+---+\n",
            "\n"
          ]
        }
      ]
    },
    {
      "cell_type": "markdown",
      "metadata": {
        "id": "g0NdFWIa51kF"
      },
      "source": [
        "# Dataframe Write Modes\n",
        "\n",
        "overwrite – mode is used to overwrite the existing file.\n",
        "\n",
        "append – To add the data to the existing file.\n",
        "\n",
        "ignore – Ignores write operation when the file already exists.\n",
        "\n",
        "error – This is a default option when the file already exists, it returns an error."
      ]
    },
    {
      "cell_type": "code",
      "execution_count": 32,
      "metadata": {
        "id": "Pq4vQ3xF58SF",
        "colab": {
          "base_uri": "https://localhost:8080/"
        },
        "outputId": "6e21c3d2-9d59-4b44-8586-09b588a1e30f"
      },
      "outputs": [
        {
          "output_type": "execute_result",
          "data": {
            "text/plain": [
              "20"
            ]
          },
          "metadata": {},
          "execution_count": 32
        }
      ],
      "source": [
        "#overwrite – mode is used to overwrite the existing file.\n",
        "df_csv.write.partitionBy('year','month','day').mode('overwrite').saveAsTable('employee_hire')\n",
        "df_csv.count()"
      ]
    },
    {
      "cell_type": "code",
      "execution_count": 33,
      "metadata": {
        "id": "mUGvfXBx56eY",
        "colab": {
          "base_uri": "https://localhost:8080/"
        },
        "outputId": "212fabfd-6c48-45b6-a70e-95126f269720"
      },
      "outputs": [
        {
          "output_type": "execute_result",
          "data": {
            "text/plain": [
              "20"
            ]
          },
          "metadata": {},
          "execution_count": 33
        }
      ],
      "source": [
        "# append – To add the data to the existing file.\n",
        "df_csv.write.partitionBy('year','month','day').mode('append').saveAsTable('employee_hire')\n",
        "\n",
        "df_csv.count()"
      ]
    },
    {
      "cell_type": "code",
      "execution_count": 34,
      "metadata": {
        "id": "-8Ff1rC15-CU"
      },
      "outputs": [],
      "source": [
        "#ignore – Ignores write operation when the file already exists.\n",
        "df_csv.write.partitionBy('year','month','day').mode('ignore').saveAsTable('employee_hire')"
      ]
    },
    {
      "cell_type": "markdown",
      "metadata": {
        "id": "Ki4_8O8C8rB3"
      },
      "source": [
        "# Remove duplicates in dataFrame\n",
        "\n",
        "1.distinct()\n",
        "\n",
        "2.dropDuplicates()/drop_duplicates()\n",
        "\n",
        "3.window function with row_number()"
      ]
    },
    {
      "cell_type": "code",
      "source": [
        "#distinct\n",
        "\n",
        "df_dis = df_csv.distinct()\n",
        "df_dis.show(10)\n",
        "df_dis.count()"
      ],
      "metadata": {
        "id": "BCnEH5vro4kr",
        "colab": {
          "base_uri": "https://localhost:8080/"
        },
        "outputId": "be0d7a4e-aa63-44ab-f37d-733cde3fcb2c"
      },
      "execution_count": 35,
      "outputs": [
        {
          "output_type": "stream",
          "name": "stdout",
          "text": [
            "+-----+------+--------+------+----+------+------------+----------------+--------+----+-----+---+\n",
            "|EMPNO| ENAME|     JOB|Manger| SAL|DEPTNO|New_HIREDATE|New_UPDATED_DATE|Position|year|month|day|\n",
            "+-----+------+--------+------+----+------+------------+----------------+--------+----+-----+---+\n",
            "| 7698|   SGR| MANAGER|  7839|2850|    30|  1986-01-05|      2021-01-03|  Level2|1986|   01| 05|\n",
            "| 7934|MILLER|   CLERK|  7782|1300|    10|  1987-01-01|      2022-01-05|  Level3|1987|   01| 01|\n",
            "| 7876| ADAMS|   CLERK|  7788|1100|    20|  1987-01-23|      2022-01-02|  Level3|1987|   01| 23|\n",
            "| 7900| JAMES|   CLERK|  7698| 950|    30|  1987-01-12|      2022-01-03|  Level3|1987|   01| 12|\n",
            "| 7499| ALLEN|SALESMAN|  7698|1600|    30|  1980-01-20|      2022-01-02|  Level4|1980|   01| 20|\n",
            "| 7654|MARTIN|SALESMAN|  7698|1250|    30|  1981-01-21|      2022-01-05|  Level4|1981|   01| 21|\n",
            "| 7844|TURNER|SALESMAN|  7698|1500|    30|  1982-01-09|      2022-01-01|  Level4|1982|   01| 09|\n",
            "| 7934|MILLER|   CLERK|  7782|1300|    10|  1982-01-01|      2021-01-02|  Level3|1982|   01| 01|\n",
            "| 7844|TURNER|SALESMAN|  7698|1500|    30|  1981-01-09|      2021-01-07|  Level4|1981|   01| 09|\n",
            "| 7521|  WARD|SALESMAN|  7698|1250|    30|  1980-01-22|      2022-01-03|  Level4|1980|   01| 22|\n",
            "+-----+------+--------+------+----+------+------------+----------------+--------+----+-----+---+\n",
            "only showing top 10 rows\n",
            "\n"
          ]
        },
        {
          "output_type": "execute_result",
          "data": {
            "text/plain": [
              "20"
            ]
          },
          "metadata": {},
          "execution_count": 35
        }
      ]
    },
    {
      "cell_type": "code",
      "source": [
        "#dropduplicates - it will keep only first record ,we will not get latest date data\n",
        "#so we need to use order by function and desc to drop duplicates\n",
        "\n",
        "drop_df = df_csv.orderBy( col('EMPNO').desc()).dropDuplicates(['EMPNO'])\n",
        "drop_df.show(10)"
      ],
      "metadata": {
        "id": "BahGld94r80C",
        "colab": {
          "base_uri": "https://localhost:8080/"
        },
        "outputId": "b7fe424a-5a58-44fb-e9d3-452cc34f307d"
      },
      "execution_count": 36,
      "outputs": [
        {
          "output_type": "stream",
          "name": "stdout",
          "text": [
            "+-----+------+--------+------+----+------+------------+----------------+--------+----+-----+---+\n",
            "|EMPNO| ENAME|     JOB|Manger| SAL|DEPTNO|New_HIREDATE|New_UPDATED_DATE|Position|year|month|day|\n",
            "+-----+------+--------+------+----+------+------------+----------------+--------+----+-----+---+\n",
            "| 7369| SMITH|   CLERK|  7902| 800|    20|  1980-01-17|      2022-01-01|  Level3|1980|   01| 17|\n",
            "| 7499| ALLEN|SALESMAN|  7698|1600|    30|  1980-01-20|      2022-01-02|  Level4|1980|   01| 20|\n",
            "| 7521|  WARD|SALESMAN|  7698|1250|    30|  1980-01-22|      2022-01-03|  Level4|1980|   01| 22|\n",
            "| 7566| JONES| MANAGER|  7839|2975|    20|  1981-01-04|      2022-01-04|  Level2|1981|   01| 04|\n",
            "| 7654|MARTIN|SALESMAN|  7698|1250|    30|  1981-01-21|      2022-01-05|  Level4|1981|   01| 21|\n",
            "| 7698|   SGR| MANAGER|  7839|2850|    30|  1981-01-05|      2022-01-06|  Level2|1981|   01| 05|\n",
            "| 7782|  RAVI| MANAGER|  7839|2450|    10|  1982-01-06|      2022-01-07|  Level2|1982|   01| 06|\n",
            "| 7844|TURNER|SALESMAN|  7698|1500|    30|  1982-01-09|      2022-01-01|  Level4|1982|   01| 09|\n",
            "| 7876| ADAMS|   CLERK|  7788|1100|    20|  1987-01-23|      2022-01-02|  Level3|1987|   01| 23|\n",
            "| 7900| JAMES|   CLERK|  7698| 950|    30|  1987-01-12|      2022-01-03|  Level3|1987|   01| 12|\n",
            "+-----+------+--------+------+----+------+------------+----------------+--------+----+-----+---+\n",
            "only showing top 10 rows\n",
            "\n"
          ]
        }
      ]
    },
    {
      "cell_type": "code",
      "source": [
        "# window Function with row number\n",
        "\n",
        "from pyspark.sql.window import *\n",
        "row_df = df_csv.withColumn('row',row_number().over(Window.partitionBy('EMPNO').orderBy(col('SAL').desc())))\n",
        "row_df.show(10)"
      ],
      "metadata": {
        "id": "buC26ZEdpXaC",
        "colab": {
          "base_uri": "https://localhost:8080/"
        },
        "outputId": "effed75d-f310-49d4-a6d2-6d446c1c9c67"
      },
      "execution_count": 37,
      "outputs": [
        {
          "output_type": "stream",
          "name": "stdout",
          "text": [
            "+-----+------+--------+------+----+------+------------+----------------+--------+----+-----+---+---+\n",
            "|EMPNO| ENAME|     JOB|Manger| SAL|DEPTNO|New_HIREDATE|New_UPDATED_DATE|Position|year|month|day|row|\n",
            "+-----+------+--------+------+----+------+------------+----------------+--------+----+-----+---+---+\n",
            "| 7369| SMITH|   CLERK|  7902| 800|    20|  1980-01-17|      2022-01-01|  Level3|1980|   01| 17|  1|\n",
            "| 7369| SMITH|   CLERK|  7902| 800|    20|  1985-01-17|      2022-01-07|  Level3|1985|   01| 17|  2|\n",
            "| 7499| ALLEN|SALESMAN|  7698|1600|    30|  1980-01-20|      2022-01-02|  Level4|1980|   01| 20|  1|\n",
            "| 7499| ALLEN|SALESMAN|  7698|1600|    30|  1985-01-20|      2022-01-08|  Level4|1985|   01| 20|  2|\n",
            "| 7521|  WARD|SALESMAN|  7698|1250|    30|  1980-01-22|      2022-01-03|  Level4|1980|   01| 22|  1|\n",
            "| 7566| JONES| MANAGER|  7839|2975|    20|  1981-01-04|      2022-01-04|  Level2|1981|   01| 04|  1|\n",
            "| 7566| JONES| MANAGER|  7839|2975|    20|  1986-01-04|      2021-01-01|  Level2|1986|   01| 04|  2|\n",
            "| 7654|MARTIN|SALESMAN|  7698|1250|    30|  1981-01-21|      2022-01-05|  Level4|1981|   01| 21|  1|\n",
            "| 7654|MARTIN|SALESMAN|  7698|1250|    30|  1986-01-21|      2021-01-02|  Level4|1986|   01| 21|  2|\n",
            "| 7698|   SGR| MANAGER|  7839|2850|    30|  1981-01-05|      2022-01-06|  Level2|1981|   01| 05|  1|\n",
            "+-----+------+--------+------+----+------+------------+----------------+--------+----+-----+---+---+\n",
            "only showing top 10 rows\n",
            "\n"
          ]
        }
      ]
    },
    {
      "cell_type": "code",
      "source": [
        "#good Data\n",
        "row_df.filter( col('row') == 1).show()"
      ],
      "metadata": {
        "id": "ELSPFjunrGvo",
        "colab": {
          "base_uri": "https://localhost:8080/"
        },
        "outputId": "d4da3669-5d50-4b61-e0ab-63449fdb6aaa"
      },
      "execution_count": 38,
      "outputs": [
        {
          "output_type": "stream",
          "name": "stdout",
          "text": [
            "+-----+------+--------+------+----+------+------------+----------------+--------+----+-----+---+---+\n",
            "|EMPNO| ENAME|     JOB|Manger| SAL|DEPTNO|New_HIREDATE|New_UPDATED_DATE|Position|year|month|day|row|\n",
            "+-----+------+--------+------+----+------+------------+----------------+--------+----+-----+---+---+\n",
            "| 7369| SMITH|   CLERK|  7902| 800|    20|  1980-01-17|      2022-01-01|  Level3|1980|   01| 17|  1|\n",
            "| 7499| ALLEN|SALESMAN|  7698|1600|    30|  1980-01-20|      2022-01-02|  Level4|1980|   01| 20|  1|\n",
            "| 7521|  WARD|SALESMAN|  7698|1250|    30|  1980-01-22|      2022-01-03|  Level4|1980|   01| 22|  1|\n",
            "| 7566| JONES| MANAGER|  7839|2975|    20|  1981-01-04|      2022-01-04|  Level2|1981|   01| 04|  1|\n",
            "| 7654|MARTIN|SALESMAN|  7698|1250|    30|  1981-01-21|      2022-01-05|  Level4|1981|   01| 21|  1|\n",
            "| 7698|   SGR| MANAGER|  7839|2850|    30|  1981-01-05|      2022-01-06|  Level2|1981|   01| 05|  1|\n",
            "| 7782|  RAVI| MANAGER|  7839|2450|    10|  1982-01-06|      2022-01-07|  Level2|1982|   01| 06|  1|\n",
            "| 7844|TURNER|SALESMAN|  7698|1500|    30|  1982-01-09|      2022-01-01|  Level4|1982|   01| 09|  1|\n",
            "| 7876| ADAMS|   CLERK|  7788|1100|    20|  1987-01-23|      2022-01-02|  Level3|1987|   01| 23|  1|\n",
            "| 7900| JAMES|   CLERK|  7698| 950|    30|  1987-01-12|      2022-01-03|  Level3|1987|   01| 12|  1|\n",
            "| 7934|MILLER|   CLERK|  7782|1300|    10|  1987-01-01|      2022-01-05|  Level3|1987|   01| 01|  1|\n",
            "+-----+------+--------+------+----+------+------------+----------------+--------+----+-----+---+---+\n",
            "\n"
          ]
        }
      ]
    },
    {
      "cell_type": "code",
      "source": [
        "#Bad Data\n",
        "row_df.filter( col('row') == 2 ).show()"
      ],
      "metadata": {
        "id": "IgUaWQu4rH3H",
        "colab": {
          "base_uri": "https://localhost:8080/"
        },
        "outputId": "f2e77a29-84f1-4406-d8f9-523d8e254a1f"
      },
      "execution_count": 39,
      "outputs": [
        {
          "output_type": "stream",
          "name": "stdout",
          "text": [
            "+-----+------+--------+------+----+------+------------+----------------+--------+----+-----+---+---+\n",
            "|EMPNO| ENAME|     JOB|Manger| SAL|DEPTNO|New_HIREDATE|New_UPDATED_DATE|Position|year|month|day|row|\n",
            "+-----+------+--------+------+----+------+------------+----------------+--------+----+-----+---+---+\n",
            "| 7369| SMITH|   CLERK|  7902| 800|    20|  1985-01-17|      2022-01-07|  Level3|1985|   01| 17|  2|\n",
            "| 7499| ALLEN|SALESMAN|  7698|1600|    30|  1985-01-20|      2022-01-08|  Level4|1985|   01| 20|  2|\n",
            "| 7566| JONES| MANAGER|  7839|2975|    20|  1986-01-04|      2021-01-01|  Level2|1986|   01| 04|  2|\n",
            "| 7654|MARTIN|SALESMAN|  7698|1250|    30|  1986-01-21|      2021-01-02|  Level4|1986|   01| 21|  2|\n",
            "| 7698|   SGR| MANAGER|  7839|2850|    30|  1986-01-05|      2021-01-03|  Level2|1986|   01| 05|  2|\n",
            "| 7782|  RAVI| MANAGER|  7839|2450|    10|  1981-01-06|      2021-01-04|  Level2|1981|   01| 06|  2|\n",
            "| 7844|TURNER|SALESMAN|  7698|1500|    30|  1981-01-09|      2021-01-07|  Level4|1981|   01| 09|  2|\n",
            "| 7876| ADAMS|   CLERK|  7788|1100|    20|  1987-01-23|      2021-01-08|  Level3|1987|   01| 23|  2|\n",
            "| 7934|MILLER|   CLERK|  7782|1300|    10|  1982-01-01|      2021-01-02|  Level3|1982|   01| 01|  2|\n",
            "+-----+------+--------+------+----+------+------------+----------------+--------+----+-----+---+---+\n",
            "\n"
          ]
        }
      ]
    },
    {
      "cell_type": "markdown",
      "metadata": {
        "id": "5rexNi5a72L7"
      },
      "source": [
        "# how to add/generate sequence id /surrogate key as a column\n",
        "monotonically_increasing_id()\n",
        "\n",
        "crc32 - generate random numbers\n",
        "\n",
        "md5 - hash key generater function\n",
        "\n",
        "sha2 -hash key generate function\n",
        "\n",
        "row_number() - window function"
      ]
    },
    {
      "cell_type": "code",
      "execution_count": 40,
      "metadata": {
        "id": "ufeiv7228FDC",
        "colab": {
          "base_uri": "https://localhost:8080/"
        },
        "outputId": "a08f69e5-498e-497d-f01b-f9444a7458b7"
      },
      "outputs": [
        {
          "output_type": "stream",
          "name": "stdout",
          "text": [
            "+-----+------+--------+------+----+------+------------+----------------+--------+----+-----+---+--------+\n",
            "|EMPNO| ENAME|     JOB|Manger| SAL|DEPTNO|New_HIREDATE|New_UPDATED_DATE|Position|year|month|day|mono_key|\n",
            "+-----+------+--------+------+----+------+------------+----------------+--------+----+-----+---+--------+\n",
            "| 7369| SMITH|   CLERK|  7902| 800|    20|  1980-01-17|      2022-01-01|  Level3|1980|   01| 17|       0|\n",
            "| 7499| ALLEN|SALESMAN|  7698|1600|    30|  1980-01-20|      2022-01-02|  Level4|1980|   01| 20|       1|\n",
            "| 7521|  WARD|SALESMAN|  7698|1250|    30|  1980-01-22|      2022-01-03|  Level4|1980|   01| 22|       2|\n",
            "| 7566| JONES| MANAGER|  7839|2975|    20|  1981-01-04|      2022-01-04|  Level2|1981|   01| 04|       3|\n",
            "| 7654|MARTIN|SALESMAN|  7698|1250|    30|  1981-01-21|      2022-01-05|  Level4|1981|   01| 21|       4|\n",
            "| 7698|   SGR| MANAGER|  7839|2850|    30|  1981-01-05|      2022-01-06|  Level2|1981|   01| 05|       5|\n",
            "| 7782|  RAVI| MANAGER|  7839|2450|    10|  1982-01-06|      2022-01-07|  Level2|1982|   01| 06|       6|\n",
            "| 7844|TURNER|SALESMAN|  7698|1500|    30|  1982-01-09|      2022-01-01|  Level4|1982|   01| 09|       7|\n",
            "| 7876| ADAMS|   CLERK|  7788|1100|    20|  1987-01-23|      2022-01-02|  Level3|1987|   01| 23|       8|\n",
            "| 7900| JAMES|   CLERK|  7698| 950|    30|  1987-01-12|      2022-01-03|  Level3|1987|   01| 12|       9|\n",
            "| 7934|MILLER|   CLERK|  7782|1300|    10|  1987-01-01|      2022-01-05|  Level3|1987|   01| 01|      10|\n",
            "| 7369| SMITH|   CLERK|  7902| 800|    20|  1985-01-17|      2022-01-07|  Level3|1985|   01| 17|      11|\n",
            "| 7499| ALLEN|SALESMAN|  7698|1600|    30|  1985-01-20|      2022-01-08|  Level4|1985|   01| 20|      12|\n",
            "| 7566| JONES| MANAGER|  7839|2975|    20|  1986-01-04|      2021-01-01|  Level2|1986|   01| 04|      13|\n",
            "| 7654|MARTIN|SALESMAN|  7698|1250|    30|  1986-01-21|      2021-01-02|  Level4|1986|   01| 21|      14|\n",
            "| 7698|   SGR| MANAGER|  7839|2850|    30|  1986-01-05|      2021-01-03|  Level2|1986|   01| 05|      15|\n",
            "| 7782|  RAVI| MANAGER|  7839|2450|    10|  1981-01-06|      2021-01-04|  Level2|1981|   01| 06|      16|\n",
            "| 7844|TURNER|SALESMAN|  7698|1500|    30|  1981-01-09|      2021-01-07|  Level4|1981|   01| 09|      17|\n",
            "| 7876| ADAMS|   CLERK|  7788|1100|    20|  1987-01-23|      2021-01-08|  Level3|1987|   01| 23|      18|\n",
            "| 7934|MILLER|   CLERK|  7782|1300|    10|  1982-01-01|      2021-01-02|  Level3|1982|   01| 01|      19|\n",
            "+-----+------+--------+------+----+------+------------+----------------+--------+----+-----+---+--------+\n",
            "\n",
            "+-----+------+--------+------+----+------+------------+----------------+--------+----+-----+---+-------+\n",
            "|EMPNO| ENAME|     JOB|Manger| SAL|DEPTNO|New_HIREDATE|New_UPDATED_DATE|Position|year|month|day|mono_id|\n",
            "+-----+------+--------+------+----+------+------------+----------------+--------+----+-----+---+-------+\n",
            "| 7369| SMITH|   CLERK|  7902| 800|    20|  1980-01-17|      2022-01-01|  Level3|1980|   01| 17|      1|\n",
            "| 7499| ALLEN|SALESMAN|  7698|1600|    30|  1980-01-20|      2022-01-02|  Level4|1980|   01| 20|      2|\n",
            "| 7521|  WARD|SALESMAN|  7698|1250|    30|  1980-01-22|      2022-01-03|  Level4|1980|   01| 22|      3|\n",
            "| 7566| JONES| MANAGER|  7839|2975|    20|  1981-01-04|      2022-01-04|  Level2|1981|   01| 04|      4|\n",
            "| 7654|MARTIN|SALESMAN|  7698|1250|    30|  1981-01-21|      2022-01-05|  Level4|1981|   01| 21|      5|\n",
            "| 7698|   SGR| MANAGER|  7839|2850|    30|  1981-01-05|      2022-01-06|  Level2|1981|   01| 05|      6|\n",
            "| 7782|  RAVI| MANAGER|  7839|2450|    10|  1982-01-06|      2022-01-07|  Level2|1982|   01| 06|      7|\n",
            "| 7844|TURNER|SALESMAN|  7698|1500|    30|  1982-01-09|      2022-01-01|  Level4|1982|   01| 09|      8|\n",
            "| 7876| ADAMS|   CLERK|  7788|1100|    20|  1987-01-23|      2022-01-02|  Level3|1987|   01| 23|      9|\n",
            "| 7900| JAMES|   CLERK|  7698| 950|    30|  1987-01-12|      2022-01-03|  Level3|1987|   01| 12|     10|\n",
            "| 7934|MILLER|   CLERK|  7782|1300|    10|  1987-01-01|      2022-01-05|  Level3|1987|   01| 01|     11|\n",
            "| 7369| SMITH|   CLERK|  7902| 800|    20|  1985-01-17|      2022-01-07|  Level3|1985|   01| 17|     12|\n",
            "| 7499| ALLEN|SALESMAN|  7698|1600|    30|  1985-01-20|      2022-01-08|  Level4|1985|   01| 20|     13|\n",
            "| 7566| JONES| MANAGER|  7839|2975|    20|  1986-01-04|      2021-01-01|  Level2|1986|   01| 04|     14|\n",
            "| 7654|MARTIN|SALESMAN|  7698|1250|    30|  1986-01-21|      2021-01-02|  Level4|1986|   01| 21|     15|\n",
            "| 7698|   SGR| MANAGER|  7839|2850|    30|  1986-01-05|      2021-01-03|  Level2|1986|   01| 05|     16|\n",
            "| 7782|  RAVI| MANAGER|  7839|2450|    10|  1981-01-06|      2021-01-04|  Level2|1981|   01| 06|     17|\n",
            "| 7844|TURNER|SALESMAN|  7698|1500|    30|  1981-01-09|      2021-01-07|  Level4|1981|   01| 09|     18|\n",
            "| 7876| ADAMS|   CLERK|  7788|1100|    20|  1987-01-23|      2021-01-08|  Level3|1987|   01| 23|     19|\n",
            "| 7934|MILLER|   CLERK|  7782|1300|    10|  1982-01-01|      2021-01-02|  Level3|1982|   01| 01|     20|\n",
            "+-----+------+--------+------+----+------+------------+----------------+--------+----+-----+---+-------+\n",
            "\n"
          ]
        }
      ],
      "source": [
        "#monotonically_increasing_id\n",
        "df_mono = df_csv.withColumn('mono_key',monotonically_increasing_id())\n",
        "df_mono.show()\n",
        "\n",
        "# from custom id\n",
        "df_mono1 = df_csv.withColumn('mono_id',monotonically_increasing_id()+1)\n",
        "df_mono1.show()"
      ]
    },
    {
      "cell_type": "code",
      "source": [
        "# crc32 hash key\n",
        "#1.generate random numbers - it is works only on string data type\n",
        "\n",
        "#2.We should not use crc32 surrogate key generation on larger table because it can generate duplicate sequence if more than 100k/1M records\n",
        "df_crc = df_csv.withColumn('crc_key',crc32( col('EMPNO').cast('string')))\n",
        "df_crc.show(10,truncate = False)"
      ],
      "metadata": {
        "id": "lnxbLWHF4FGU",
        "colab": {
          "base_uri": "https://localhost:8080/"
        },
        "outputId": "d608b81f-73a4-472d-f72e-f12846b65764"
      },
      "execution_count": 41,
      "outputs": [
        {
          "output_type": "stream",
          "name": "stdout",
          "text": [
            "+-----+------+--------+------+----+------+------------+----------------+--------+----+-----+---+----------+\n",
            "|EMPNO|ENAME |JOB     |Manger|SAL |DEPTNO|New_HIREDATE|New_UPDATED_DATE|Position|year|month|day|crc_key   |\n",
            "+-----+------+--------+------+----+------+------------+----------------+--------+----+-----+---+----------+\n",
            "|7369 |SMITH |CLERK   |7902  |800 |20    |1980-01-17  |2022-01-01      |Level3  |1980|01   |17 |3163315632|\n",
            "|7499 |ALLEN |SALESMAN|7698  |1600|30    |1980-01-20  |2022-01-02      |Level4  |1980|01   |20 |1046173690|\n",
            "|7521 |WARD  |SALESMAN|7698  |1250|30    |1980-01-22  |2022-01-03      |Level4  |1980|01   |22 |3535170612|\n",
            "|7566 |JONES |MANAGER |7839  |2975|20    |1981-01-04  |2022-01-04      |Level2  |1981|01   |04 |683555987 |\n",
            "|7654 |MARTIN|SALESMAN|7698  |1250|30    |1981-01-21  |2022-01-05      |Level4  |1981|01   |21 |4024152101|\n",
            "|7698 |SGR   |MANAGER |7839  |2850|30    |1981-01-05  |2022-01-06      |Level2  |1981|01   |05 |1255715586|\n",
            "|7782 |RAVI  |MANAGER |7839  |2450|10    |1982-01-06  |2022-01-07      |Level2  |1982|01   |06 |3000238442|\n",
            "|7844 |TURNER|SALESMAN|7698  |1500|30    |1982-01-09  |2022-01-01      |Level4  |1982|01   |09 |4234062958|\n",
            "|7876 |ADAMS |CLERK   |7788  |1100|20    |1987-01-23  |2022-01-02      |Level3  |1987|01   |23 |964533889 |\n",
            "|7900 |JAMES |CLERK   |7698  |950 |30    |1987-01-12  |2022-01-03      |Level3  |1987|01   |12 |2661140292|\n",
            "+-----+------+--------+------+----+------+------------+----------------+--------+----+-----+---+----------+\n",
            "only showing top 10 rows\n",
            "\n"
          ]
        }
      ]
    },
    {
      "cell_type": "code",
      "execution_count": 42,
      "metadata": {
        "id": "doXRnzVo8Yr0",
        "colab": {
          "base_uri": "https://localhost:8080/"
        },
        "outputId": "418f500a-a433-4b0a-dc8f-595c272a5d54"
      },
      "outputs": [
        {
          "output_type": "stream",
          "name": "stdout",
          "text": [
            "+-----+------+--------+------+----+------+------------+----------------+--------+----+-----+---+--------------------------------+\n",
            "|EMPNO|ENAME |JOB     |Manger|SAL |DEPTNO|New_HIREDATE|New_UPDATED_DATE|Position|year|month|day|md_key                          |\n",
            "+-----+------+--------+------+----+------+------------+----------------+--------+----+-----+---+--------------------------------+\n",
            "|7369 |SMITH |CLERK   |7902  |800 |20    |1980-01-17  |2022-01-01      |Level3  |1980|01   |17 |0d7f9017fbda691900187b22404b8a1f|\n",
            "|7499 |ALLEN |SALESMAN|7698  |1600|30    |1980-01-20  |2022-01-02      |Level4  |1980|01   |20 |7a2b33c672ce223b2aa5789171ddde2f|\n",
            "|7521 |WARD  |SALESMAN|7698  |1250|30    |1980-01-22  |2022-01-03      |Level4  |1980|01   |22 |e1e1f667ce4596e5644be6fab627c226|\n",
            "|7566 |JONES |MANAGER |7839  |2975|20    |1981-01-04  |2022-01-04      |Level2  |1981|01   |04 |b937384a573b94c4d7cc6004c496f919|\n",
            "|7654 |MARTIN|SALESMAN|7698  |1250|30    |1981-01-21  |2022-01-05      |Level4  |1981|01   |21 |e2a7555f7cabd6e31aef45cb8cda4999|\n",
            "|7698 |SGR   |MANAGER |7839  |2850|30    |1981-01-05  |2022-01-06      |Level2  |1981|01   |05 |c570c225d1fb8a72ad79995dd17a77bc|\n",
            "|7782 |RAVI  |MANAGER |7839  |2450|10    |1982-01-06  |2022-01-07      |Level2  |1982|01   |06 |ac5c482277858d6fe45065d0a3f92b0c|\n",
            "|7844 |TURNER|SALESMAN|7698  |1500|30    |1982-01-09  |2022-01-01      |Level4  |1982|01   |09 |b356e7aed7ee82589e54a466e0dca157|\n",
            "|7876 |ADAMS |CLERK   |7788  |1100|20    |1987-01-23  |2022-01-02      |Level3  |1987|01   |23 |42dab56861d81108ee356d037190c315|\n",
            "|7900 |JAMES |CLERK   |7698  |950 |30    |1987-01-12  |2022-01-03      |Level3  |1987|01   |12 |400c3241004b5db7ca7f5abfef2794f2|\n",
            "+-----+------+--------+------+----+------+------------+----------------+--------+----+-----+---+--------------------------------+\n",
            "only showing top 10 rows\n",
            "\n"
          ]
        }
      ],
      "source": [
        "# md5 - 32 bit hash key\n",
        "# not suggeted for if records more than 1 Million it can generate duplicates\n",
        "df_md = df_csv.withColumn('md_key', md5( col('EMPNO').cast('string') ))\n",
        "df_md.show(10,truncate = False)\n",
        "\n"
      ]
    },
    {
      "cell_type": "code",
      "execution_count": 43,
      "metadata": {
        "id": "Qf4EkCZO8aw0",
        "colab": {
          "base_uri": "https://localhost:8080/"
        },
        "outputId": "00739e41-20a1-43d4-a6cd-20b79cd36892"
      },
      "outputs": [
        {
          "output_type": "stream",
          "name": "stdout",
          "text": [
            "+-----+------+--------+------+----+------+------------+----------------+--------+----+-----+---+----------------------------------------------------------------+\n",
            "|EMPNO|ENAME |JOB     |Manger|SAL |DEPTNO|New_HIREDATE|New_UPDATED_DATE|Position|year|month|day|sha_key                                                         |\n",
            "+-----+------+--------+------+----+------+------------+----------------+--------+----+-----+---+----------------------------------------------------------------+\n",
            "|7369 |SMITH |CLERK   |7902  |800 |20    |1980-01-17  |2022-01-01      |Level3  |1980|01   |17 |c59f438f16c5a409eb2a040b299e82de37503321b9cbfec4fb351547261dd1b1|\n",
            "|7499 |ALLEN |SALESMAN|7698  |1600|30    |1980-01-20  |2022-01-02      |Level4  |1980|01   |20 |4427dc2e32a1d099dbe2e3c093a8726e0ea72b9422c36a99915dae1d31e9385f|\n",
            "|7521 |WARD  |SALESMAN|7698  |1250|30    |1980-01-22  |2022-01-03      |Level4  |1980|01   |22 |74ed8ca63e8b4fb8b8ac06e8df400f098b0b09cf1b89c8a331e72e1919b57bd4|\n",
            "|7566 |JONES |MANAGER |7839  |2975|20    |1981-01-04  |2022-01-04      |Level2  |1981|01   |04 |b2ca4f93866dc5f5aa73f9df7a8c8d7ce03d296a3ccb5eec5fc28717f2de4874|\n",
            "|7654 |MARTIN|SALESMAN|7698  |1250|30    |1981-01-21  |2022-01-05      |Level4  |1981|01   |21 |b969b01c158ebfecd0ac568aee526cb1ff8811fcdc77b4d682dab89146ad9891|\n",
            "|7698 |SGR   |MANAGER |7839  |2850|30    |1981-01-05  |2022-01-06      |Level2  |1981|01   |05 |83f9d8d707524a4f56447204e344a997fff07b23b11f206eb5d02eac91385251|\n",
            "|7782 |RAVI  |MANAGER |7839  |2450|10    |1982-01-06  |2022-01-07      |Level2  |1982|01   |06 |d7b6fab9aa91943de418ecbacefa4b276e82fbbb07bae1f7296775cc59a6f323|\n",
            "|7844 |TURNER|SALESMAN|7698  |1500|30    |1982-01-09  |2022-01-01      |Level4  |1982|01   |09 |b513a7ff5978b95883e4e6f83d4d991de3b8a22827d2f5bc58986e3cee03c6b1|\n",
            "|7876 |ADAMS |CLERK   |7788  |1100|20    |1987-01-23  |2022-01-02      |Level3  |1987|01   |23 |05a4cd58579909328296060a91fa22242c6449980486c196868a007bc4ccd455|\n",
            "|7900 |JAMES |CLERK   |7698  |950 |30    |1987-01-12  |2022-01-03      |Level3  |1987|01   |12 |22191a9215264bb24037d3fa2e7d1516c97813abb7aa0a417e5a157910fb0af7|\n",
            "+-----+------+--------+------+----+------+------------+----------------+--------+----+-----+---+----------------------------------------------------------------+\n",
            "only showing top 10 rows\n",
            "\n",
            "+-----+------+--------+------+----+------+------------+----------------+--------+----+-----+---+--------------------------------------------------------------------------------------------------------------------------------+\n",
            "|EMPNO|ENAME |JOB     |Manger|SAL |DEPTNO|New_HIREDATE|New_UPDATED_DATE|Position|year|month|day|sha_key                                                                                                                         |\n",
            "+-----+------+--------+------+----+------+------------+----------------+--------+----+-----+---+--------------------------------------------------------------------------------------------------------------------------------+\n",
            "|7369 |SMITH |CLERK   |7902  |800 |20    |1980-01-17  |2022-01-01      |Level3  |1980|01   |17 |22930c98e9d90f9abae586704aa8576e81bcc8a33e485b36b74593864479854600726a61a5a8d7c0c7c0a8a4209b5079398d171d679cef2817c8cd9db64f2275|\n",
            "|7499 |ALLEN |SALESMAN|7698  |1600|30    |1980-01-20  |2022-01-02      |Level4  |1980|01   |20 |c35f154d8a448e86bc767b131cfbf91655a293b5366c1dc0a1182757f8d0e421595f4d564c3c62996a7ad1f14768458d3f9d8ccff736637ae22b957e9f69d9fe|\n",
            "|7521 |WARD  |SALESMAN|7698  |1250|30    |1980-01-22  |2022-01-03      |Level4  |1980|01   |22 |a850b37e31d80e084a966d1aa936e7a48e887867cde7b19110e74a6d5c036dbaba8c102ed053d0d1d6353ccbaaa02092aa94063a814b0f18affd15e2df0d7e9a|\n",
            "|7566 |JONES |MANAGER |7839  |2975|20    |1981-01-04  |2022-01-04      |Level2  |1981|01   |04 |94d6415a845f551d7cb76343d6faa77cd3eec1d286e72c52afd73b7e0a60f96468495f229bc49e752d4d222894fc9ba4d60ac69a2e96442d06253b25246b6341|\n",
            "|7654 |MARTIN|SALESMAN|7698  |1250|30    |1981-01-21  |2022-01-05      |Level4  |1981|01   |21 |9866bb24a2c180ce14775b5139b76371ba61c051b76cf3cb081cc0f3cd87597cc285f82ffc54bddecbe4f591b294777ea47f539631300d9416e3ed89d26fdf5a|\n",
            "|7698 |SGR   |MANAGER |7839  |2850|30    |1981-01-05  |2022-01-06      |Level2  |1981|01   |05 |a60ba1bc5f3226a27410b9be198fdc34886754e6f91aadec7eb5ed9ffde505d8d457ba027a9665d641d2114ab0bfe5c4dd0e45c029674a53d2bd1b255be56e23|\n",
            "|7782 |RAVI  |MANAGER |7839  |2450|10    |1982-01-06  |2022-01-07      |Level2  |1982|01   |06 |29a69280492d1cff60cc692e1820e293303cd899d2a137147783d9a6e6f89ea32a15f9339449631070158e8cd8cb7f37980b52126a58f346c6c4da1f1652f259|\n",
            "|7844 |TURNER|SALESMAN|7698  |1500|30    |1982-01-09  |2022-01-01      |Level4  |1982|01   |09 |686a63a5e9155342fe55933f3f331bcb914c34ab43a9fa2487288b6d1e35618b2bf41ad29ae55304de39bbec34d6bdf35b1df1efe888be25fbbc3be1db5b8d3f|\n",
            "|7876 |ADAMS |CLERK   |7788  |1100|20    |1987-01-23  |2022-01-02      |Level3  |1987|01   |23 |d79f1bccb79b6240dc80a83801f69995bd2eee2812ac13086e53c2722dca16661a115f4d889d5f57539c02db15f7e03b9fbde88fe00d349d7c157aeef30024f5|\n",
            "|7900 |JAMES |CLERK   |7698  |950 |30    |1987-01-12  |2022-01-03      |Level3  |1987|01   |12 |e0c1742585621c7ac3f3dfb643c475e26f99d5db4a1d98dc62222712bb87e6ed42f24fa5ea5586a1b5f002f5fac58678453fc34f63e2a78ac3a14b9c557dca05|\n",
            "+-----+------+--------+------+----+------+------------+----------------+--------+----+-----+---+--------------------------------------------------------------------------------------------------------------------------------+\n",
            "only showing top 10 rows\n",
            "\n"
          ]
        }
      ],
      "source": [
        "#sha2 - hash key value\n",
        "#suggeted for huge data 256 0r 512 bits\n",
        "df_sha_256 = df_csv.withColumn('sha_key',sha2( col('EMPNO').cast('string'),256))\n",
        "df_sha_256.show(10,truncate = False)\n",
        "df_sha_512 = df_csv.withColumn('sha_key',sha2( col('EMPNO').cast('string'),512 ))\n",
        "df_sha_512.show(10,truncate = False)\n"
      ]
    },
    {
      "cell_type": "code",
      "execution_count": 44,
      "metadata": {
        "id": "wPcLFeG98JcM",
        "colab": {
          "base_uri": "https://localhost:8080/"
        },
        "outputId": "5cc43a9a-2f5d-4037-bf3b-cfc705b699c6"
      },
      "outputs": [
        {
          "output_type": "stream",
          "name": "stdout",
          "text": [
            "+-----+------+--------+------+----+------+------------+----------------+--------+----+-----+---+----------+\n",
            "|EMPNO| ENAME|     JOB|Manger| SAL|DEPTNO|New_HIREDATE|New_UPDATED_DATE|Position|year|month|day|row_number|\n",
            "+-----+------+--------+------+----+------+------------+----------------+--------+----+-----+---+----------+\n",
            "| 7369| SMITH|   CLERK|  7902| 800|    20|  1980-01-17|      2022-01-01|  Level3|1980|   01| 17|         1|\n",
            "| 7499| ALLEN|SALESMAN|  7698|1600|    30|  1980-01-20|      2022-01-02|  Level4|1980|   01| 20|         2|\n",
            "| 7521|  WARD|SALESMAN|  7698|1250|    30|  1980-01-22|      2022-01-03|  Level4|1980|   01| 22|         3|\n",
            "| 7566| JONES| MANAGER|  7839|2975|    20|  1981-01-04|      2022-01-04|  Level2|1981|   01| 04|         4|\n",
            "| 7654|MARTIN|SALESMAN|  7698|1250|    30|  1981-01-21|      2022-01-05|  Level4|1981|   01| 21|         5|\n",
            "| 7698|   SGR| MANAGER|  7839|2850|    30|  1981-01-05|      2022-01-06|  Level2|1981|   01| 05|         6|\n",
            "| 7782|  RAVI| MANAGER|  7839|2450|    10|  1982-01-06|      2022-01-07|  Level2|1982|   01| 06|         7|\n",
            "| 7844|TURNER|SALESMAN|  7698|1500|    30|  1982-01-09|      2022-01-01|  Level4|1982|   01| 09|         8|\n",
            "| 7876| ADAMS|   CLERK|  7788|1100|    20|  1987-01-23|      2022-01-02|  Level3|1987|   01| 23|         9|\n",
            "| 7900| JAMES|   CLERK|  7698| 950|    30|  1987-01-12|      2022-01-03|  Level3|1987|   01| 12|        10|\n",
            "| 7934|MILLER|   CLERK|  7782|1300|    10|  1987-01-01|      2022-01-05|  Level3|1987|   01| 01|        11|\n",
            "| 7369| SMITH|   CLERK|  7902| 800|    20|  1985-01-17|      2022-01-07|  Level3|1985|   01| 17|        12|\n",
            "| 7499| ALLEN|SALESMAN|  7698|1600|    30|  1985-01-20|      2022-01-08|  Level4|1985|   01| 20|        13|\n",
            "| 7566| JONES| MANAGER|  7839|2975|    20|  1986-01-04|      2021-01-01|  Level2|1986|   01| 04|        14|\n",
            "| 7654|MARTIN|SALESMAN|  7698|1250|    30|  1986-01-21|      2021-01-02|  Level4|1986|   01| 21|        15|\n",
            "| 7698|   SGR| MANAGER|  7839|2850|    30|  1986-01-05|      2021-01-03|  Level2|1986|   01| 05|        16|\n",
            "| 7782|  RAVI| MANAGER|  7839|2450|    10|  1981-01-06|      2021-01-04|  Level2|1981|   01| 06|        17|\n",
            "| 7844|TURNER|SALESMAN|  7698|1500|    30|  1981-01-09|      2021-01-07|  Level4|1981|   01| 09|        18|\n",
            "| 7876| ADAMS|   CLERK|  7788|1100|    20|  1987-01-23|      2021-01-08|  Level3|1987|   01| 23|        19|\n",
            "| 7934|MILLER|   CLERK|  7782|1300|    10|  1982-01-01|      2021-01-02|  Level3|1982|   01| 01|        20|\n",
            "+-----+------+--------+------+----+------+------------+----------------+--------+----+-----+---+----------+\n",
            "\n"
          ]
        }
      ],
      "source": [
        "#row_number\n",
        "from pyspark.sql.window import *\n",
        "df_row = df_csv.withColumn('row_number',row_number().over(Window.partitionBy(lit('')).orderBy(lit(''))))\n",
        "df_row.show()\n"
      ]
    },
    {
      "cell_type": "markdown",
      "metadata": {
        "id": "s2NiVkua9OTj"
      },
      "source": [
        "# Incremental loading\n",
        "\n",
        "loading data from source (daily)  ----> Tansform -----> loading warehouse"
      ]
    },
    {
      "cell_type": "code",
      "source": [
        "# read data of day0 file\n",
        "\n",
        "day0 = spark.read.format('csv').option('header',True).option('inferSchema',True).option('nullValue','null').load('/content/employee_day0.csv')\n",
        "\n",
        "day0.show(10)"
      ],
      "metadata": {
        "id": "2TjheptNRMFq",
        "colab": {
          "base_uri": "https://localhost:8080/"
        },
        "outputId": "10ea5878-aa43-49a6-eb75-054f0291f766"
      },
      "execution_count": 45,
      "outputs": [
        {
          "output_type": "stream",
          "name": "stdout",
          "text": [
            "+-----+------+---------+----+----+----+------+\n",
            "|EMPNO| ENAME|      JOB| MGR| SAL|COMM|DEPTNO|\n",
            "+-----+------+---------+----+----+----+------+\n",
            "| 7369| SMITH|    CLERK|7902| 800| 100|    20|\n",
            "| 7499| ALLEN| SALESMAN|7698|1600| 300|    30|\n",
            "| 7521|  WARD| SALESMAN|7698|1250| 500|    30|\n",
            "| 7566| JONES|  MANAGER|7839|2975| 200|    20|\n",
            "| 7654|MARTIN| SALESMAN|7698|1250| 600|    30|\n",
            "| 7698|   SGR|  MANAGER|7839|2850| 500|    30|\n",
            "| 7782|  RAVI|  MANAGER|7839|2450| 500|    10|\n",
            "| 7788| SCOTT|  ANALYST|7566|3000|1200|    20|\n",
            "| 7839|  KING|PRESIDENT|7998|5000|1000|    10|\n",
            "| 7844|TURNER| SALESMAN|7698|1500|  10|    30|\n",
            "+-----+------+---------+----+----+----+------+\n",
            "only showing top 10 rows\n",
            "\n"
          ]
        }
      ]
    },
    {
      "cell_type": "code",
      "source": [
        "# write partitioned data into warhouse employee table\n",
        "day0.write.partitionBy('DEPTNO').saveAsTable('emp_dept')"
      ],
      "metadata": {
        "id": "7J8ndkaMSVT-"
      },
      "execution_count": 46,
      "outputs": []
    },
    {
      "cell_type": "code",
      "execution_count": 47,
      "metadata": {
        "id": "QP9N8QLt9Q6F",
        "colab": {
          "base_uri": "https://localhost:8080/"
        },
        "outputId": "1e0ba228-895b-456f-f4ba-f6a333e6a0fd"
      },
      "outputs": [
        {
          "output_type": "stream",
          "name": "stdout",
          "text": [
            "+-----+------+---------+----+----+----+------+\n",
            "|EMPNO| ENAME|      JOB| MGR| SAL|COMM|DEPTNO|\n",
            "+-----+------+---------+----+----+----+------+\n",
            "| 7499| ALLEN| SALESMAN|7698|1600| 300|    30|\n",
            "| 7521|  WARD| SALESMAN|7698|1250| 500|    30|\n",
            "| 7654|MARTIN| SALESMAN|7698|1250| 600|    30|\n",
            "| 7698|   SGR|  MANAGER|7839|2850| 500|    30|\n",
            "| 7844|TURNER| SALESMAN|7698|1500|  10|    30|\n",
            "| 7900| JAMES|    CLERK|7698| 950| 890|    30|\n",
            "| 7369| SMITH|    CLERK|7902| 800| 100|    20|\n",
            "| 7566| JONES|  MANAGER|7839|2975| 200|    20|\n",
            "| 7788| SCOTT|  ANALYST|7566|3000|1200|    20|\n",
            "| 7876| ADAMS|    CLERK|7788|1100| 100|    20|\n",
            "| 7902|  FORD|  ANALYST|7566|3000| 400|    20|\n",
            "| 7782|  RAVI|  MANAGER|7839|2450| 500|    10|\n",
            "| 7839|  KING|PRESIDENT|7998|5000|1000|    10|\n",
            "| 7934|MILLER|    CLERK|7782|1300| 740|    10|\n",
            "+-----+------+---------+----+----+----+------+\n",
            "\n",
            "+--------+\n",
            "|count(1)|\n",
            "+--------+\n",
            "|      14|\n",
            "+--------+\n",
            "\n"
          ]
        }
      ],
      "source": [
        "# query warhouse tables\n",
        "spark.sql('select * from emp_dept').show()\n",
        "spark.sql('select count(*) from emp_dept').show()"
      ]
    },
    {
      "cell_type": "code",
      "source": [
        "# read data of day1 file\n",
        "day1 = spark.read.format('csv').option('header',True).option('inferSchema',True).option('nullValue','null').load('/content/employee_day1.csv')\n",
        "day1.show(10)"
      ],
      "metadata": {
        "id": "1CFdDg6ITPDd",
        "colab": {
          "base_uri": "https://localhost:8080/"
        },
        "outputId": "74966b2f-2e39-4169-d6a1-226aeaf17784"
      },
      "execution_count": 48,
      "outputs": [
        {
          "output_type": "stream",
          "name": "stdout",
          "text": [
            "+-----+------+---------+----+----+----+------+\n",
            "|EMPNO| ENAME|      JOB| MGR| SAL|COMM|DEPTNO|\n",
            "+-----+------+---------+----+----+----+------+\n",
            "| 1234|SEKHAR|   doctor|7777| 667|  78|    80|\n",
            "| 7369| SMITH|    CLERK|7902| 800|  90|    20|\n",
            "| 7499| ALLEN| SALESMAN|7698|1600| 300|    30|\n",
            "| 7521|  WARD| SALESMAN|7698|1250| 500|    30|\n",
            "| 7566| JONES|  MANAGER|7839|2975| 100|    20|\n",
            "| 7654|MARTIN| SALESMAN|7698|1250|1400|    30|\n",
            "| 7698|   SGR|  MANAGER|7839|2850| 200|    30|\n",
            "| 7782|  RAVI|  MANAGER|7839|2450|  14|    10|\n",
            "| 7788| SCOTT|  ANALYST|7566|3000| 180|    20|\n",
            "| 7839|  KING|PRESIDENT|7888|5000| 140|    10|\n",
            "+-----+------+---------+----+----+----+------+\n",
            "only showing top 10 rows\n",
            "\n"
          ]
        }
      ]
    },
    {
      "cell_type": "code",
      "source": [
        "# write partitioned data into warhouse employee table\n",
        "day1.write.partitionBy('DEPTNO').mode('append').saveAsTable('emp_dept')"
      ],
      "metadata": {
        "id": "CLHzAg04Tfc0"
      },
      "execution_count": 49,
      "outputs": []
    },
    {
      "cell_type": "code",
      "execution_count": 50,
      "metadata": {
        "id": "zdfUJo5Y9bgF",
        "colab": {
          "base_uri": "https://localhost:8080/"
        },
        "outputId": "13cb59c7-a03e-4fdc-9540-8fe669a1b578"
      },
      "outputs": [
        {
          "output_type": "stream",
          "name": "stdout",
          "text": [
            "+-----+------+--------+----+----+----+------+\n",
            "|EMPNO| ENAME|     JOB| MGR| SAL|COMM|DEPTNO|\n",
            "+-----+------+--------+----+----+----+------+\n",
            "| 7499| ALLEN|SALESMAN|7698|1600| 300|    30|\n",
            "| 7521|  WARD|SALESMAN|7698|1250| 500|    30|\n",
            "| 7654|MARTIN|SALESMAN|7698|1250| 600|    30|\n",
            "| 7698|   SGR| MANAGER|7839|2850| 500|    30|\n",
            "| 7844|TURNER|SALESMAN|7698|1500|  10|    30|\n",
            "| 7900| JAMES|   CLERK|7698| 950| 890|    30|\n",
            "| 7499| ALLEN|SALESMAN|7698|1600| 300|    30|\n",
            "| 7521|  WARD|SALESMAN|7698|1250| 500|    30|\n",
            "| 7654|MARTIN|SALESMAN|7698|1250|1400|    30|\n",
            "| 7698|   SGR| MANAGER|7839|2850| 200|    30|\n",
            "| 7844|TURNER|SALESMAN|7698|1500|  10|    30|\n",
            "| 7900| JAMES|   CLERK|7698| 950| 400|    30|\n",
            "| 7369| SMITH|   CLERK|7902| 800| 100|    20|\n",
            "| 7566| JONES| MANAGER|7839|2975| 200|    20|\n",
            "| 7788| SCOTT| ANALYST|7566|3000|1200|    20|\n",
            "| 7876| ADAMS|   CLERK|7788|1100| 100|    20|\n",
            "| 7902|  FORD| ANALYST|7566|3000| 400|    20|\n",
            "| 7369| SMITH|   CLERK|7902| 800|  90|    20|\n",
            "| 7566| JONES| MANAGER|7839|2975| 100|    20|\n",
            "| 7788| SCOTT| ANALYST|7566|3000| 180|    20|\n",
            "+-----+------+--------+----+----+----+------+\n",
            "only showing top 20 rows\n",
            "\n",
            "+--------+\n",
            "|count(1)|\n",
            "+--------+\n",
            "|      30|\n",
            "+--------+\n",
            "\n"
          ]
        }
      ],
      "source": [
        "# query warhouse tables\n",
        "spark.sql('select * from emp_dept').show()\n",
        "spark.sql('select count(*) from emp_dept').show()"
      ]
    },
    {
      "cell_type": "markdown",
      "metadata": {
        "id": "ntd4Vy6J4pXW"
      },
      "source": [
        "# how to read all files from a single directory"
      ]
    },
    {
      "cell_type": "code",
      "execution_count": 51,
      "metadata": {
        "id": "spsdGRPn4qqg",
        "colab": {
          "base_uri": "https://localhost:8080/"
        },
        "outputId": "4b9f1cd4-e4c6-4df3-8760-f817965a02b2"
      },
      "outputs": [
        {
          "output_type": "stream",
          "name": "stdout",
          "text": [
            "+-----+------+--------+----+----+----+------+\n",
            "|EMPNO| ENAME|     JOB| MGR| SAL|COMM|DEPTNO|\n",
            "+-----+------+--------+----+----+----+------+\n",
            "| 7499| ALLEN|SALESMAN|7698|1600| 300|    30|\n",
            "| 7521|  WARD|SALESMAN|7698|1250| 500|    30|\n",
            "| 7654|MARTIN|SALESMAN|7698|1250| 600|    30|\n",
            "| 7698|   SGR| MANAGER|7839|2850| 500|    30|\n",
            "| 7844|TURNER|SALESMAN|7698|1500|  10|    30|\n",
            "| 7900| JAMES|   CLERK|7698| 950| 890|    30|\n",
            "| 7499| ALLEN|SALESMAN|7698|1600| 300|    30|\n",
            "| 7521|  WARD|SALESMAN|7698|1250| 500|    30|\n",
            "| 7654|MARTIN|SALESMAN|7698|1250|1400|    30|\n",
            "| 7698|   SGR| MANAGER|7839|2850| 200|    30|\n",
            "+-----+------+--------+----+----+----+------+\n",
            "only showing top 10 rows\n",
            "\n"
          ]
        },
        {
          "output_type": "execute_result",
          "data": {
            "text/plain": [
              "30"
            ]
          },
          "metadata": {},
          "execution_count": 51
        }
      ],
      "source": [
        "df_dic = spark.read.format('parquet').option('header',True).option('nullValue','null').option('inferSchema',True).load('/content/spark-warehouse/emp_dept')\n",
        "df_dic.show(10)\n",
        "df_dic.count()"
      ]
    },
    {
      "cell_type": "markdown",
      "metadata": {
        "id": "vaJfFTW84TwB"
      },
      "source": [
        "# print file name with location"
      ]
    },
    {
      "cell_type": "code",
      "execution_count": 52,
      "metadata": {
        "id": "RORvS7xA4WPI",
        "colab": {
          "base_uri": "https://localhost:8080/"
        },
        "outputId": "590188be-9157-46d2-ddc9-a6ef8a2722cc"
      },
      "outputs": [
        {
          "output_type": "stream",
          "name": "stdout",
          "text": [
            "+-----+------+--------+------+----+------+------------+----------------+--------+----+-----+---+----------------------------+\n",
            "|EMPNO|ENAME |JOB     |Manger|SAL |DEPTNO|New_HIREDATE|New_UPDATED_DATE|Position|year|month|day|file_Location               |\n",
            "+-----+------+--------+------+----+------+------------+----------------+--------+----+-----+---+----------------------------+\n",
            "|7369 |SMITH |CLERK   |7902  |800 |20    |1980-01-17  |2022-01-01      |Level3  |1980|01   |17 |file:///content/employee.csv|\n",
            "|7499 |ALLEN |SALESMAN|7698  |1600|30    |1980-01-20  |2022-01-02      |Level4  |1980|01   |20 |file:///content/employee.csv|\n",
            "|7521 |WARD  |SALESMAN|7698  |1250|30    |1980-01-22  |2022-01-03      |Level4  |1980|01   |22 |file:///content/employee.csv|\n",
            "|7566 |JONES |MANAGER |7839  |2975|20    |1981-01-04  |2022-01-04      |Level2  |1981|01   |04 |file:///content/employee.csv|\n",
            "|7654 |MARTIN|SALESMAN|7698  |1250|30    |1981-01-21  |2022-01-05      |Level4  |1981|01   |21 |file:///content/employee.csv|\n",
            "|7698 |SGR   |MANAGER |7839  |2850|30    |1981-01-05  |2022-01-06      |Level2  |1981|01   |05 |file:///content/employee.csv|\n",
            "|7782 |RAVI  |MANAGER |7839  |2450|10    |1982-01-06  |2022-01-07      |Level2  |1982|01   |06 |file:///content/employee.csv|\n",
            "|7844 |TURNER|SALESMAN|7698  |1500|30    |1982-01-09  |2022-01-01      |Level4  |1982|01   |09 |file:///content/employee.csv|\n",
            "|7876 |ADAMS |CLERK   |7788  |1100|20    |1987-01-23  |2022-01-02      |Level3  |1987|01   |23 |file:///content/employee.csv|\n",
            "|7900 |JAMES |CLERK   |7698  |950 |30    |1987-01-12  |2022-01-03      |Level3  |1987|01   |12 |file:///content/employee.csv|\n",
            "|7934 |MILLER|CLERK   |7782  |1300|10    |1987-01-01  |2022-01-05      |Level3  |1987|01   |01 |file:///content/employee.csv|\n",
            "|7369 |SMITH |CLERK   |7902  |800 |20    |1985-01-17  |2022-01-07      |Level3  |1985|01   |17 |file:///content/employee.csv|\n",
            "|7499 |ALLEN |SALESMAN|7698  |1600|30    |1985-01-20  |2022-01-08      |Level4  |1985|01   |20 |file:///content/employee.csv|\n",
            "|7566 |JONES |MANAGER |7839  |2975|20    |1986-01-04  |2021-01-01      |Level2  |1986|01   |04 |file:///content/employee.csv|\n",
            "|7654 |MARTIN|SALESMAN|7698  |1250|30    |1986-01-21  |2021-01-02      |Level4  |1986|01   |21 |file:///content/employee.csv|\n",
            "|7698 |SGR   |MANAGER |7839  |2850|30    |1986-01-05  |2021-01-03      |Level2  |1986|01   |05 |file:///content/employee.csv|\n",
            "|7782 |RAVI  |MANAGER |7839  |2450|10    |1981-01-06  |2021-01-04      |Level2  |1981|01   |06 |file:///content/employee.csv|\n",
            "|7844 |TURNER|SALESMAN|7698  |1500|30    |1981-01-09  |2021-01-07      |Level4  |1981|01   |09 |file:///content/employee.csv|\n",
            "|7876 |ADAMS |CLERK   |7788  |1100|20    |1987-01-23  |2021-01-08      |Level3  |1987|01   |23 |file:///content/employee.csv|\n",
            "|7934 |MILLER|CLERK   |7782  |1300|10    |1982-01-01  |2021-01-02      |Level3  |1982|01   |01 |file:///content/employee.csv|\n",
            "+-----+------+--------+------+----+------+------------+----------------+--------+----+-----+---+----------------------------+\n",
            "\n"
          ]
        }
      ],
      "source": [
        "file_name = df_csv.withColumn('file_Location',input_file_name())\n",
        "\n",
        "file_name.show(truncate = False)"
      ]
    },
    {
      "cell_type": "markdown",
      "metadata": {
        "id": "hkr-4jVp3qpL"
      },
      "source": [
        "# how to get no.of rows for each file"
      ]
    },
    {
      "cell_type": "code",
      "execution_count": 53,
      "metadata": {
        "id": "cQNbbqXXhRLd",
        "colab": {
          "base_uri": "https://localhost:8080/"
        },
        "outputId": "4f184456-301d-43b9-e1ce-35245827e25d"
      },
      "outputs": [
        {
          "output_type": "stream",
          "name": "stdout",
          "text": [
            "+----------------------------------------------------------------------------------------------------------------------+-----+\n",
            "|file_Location                                                                                                         |count|\n",
            "+----------------------------------------------------------------------------------------------------------------------+-----+\n",
            "|file:///content/spark-warehouse/emp_dept/DEPTNO=80/part-00000-3ed50cc7-e286-4d9c-a738-36b066040c8b.c000.snappy.parquet|2    |\n",
            "|file:///content/spark-warehouse/emp_dept/DEPTNO=10/part-00000-d3dabf16-1181-485f-a8b9-a41873f32068.c000.snappy.parquet|3    |\n",
            "|file:///content/spark-warehouse/emp_dept/DEPTNO=20/part-00000-d3dabf16-1181-485f-a8b9-a41873f32068.c000.snappy.parquet|5    |\n",
            "|file:///content/spark-warehouse/emp_dept/DEPTNO=10/part-00000-3ed50cc7-e286-4d9c-a738-36b066040c8b.c000.snappy.parquet|3    |\n",
            "|file:///content/spark-warehouse/emp_dept/DEPTNO=30/part-00000-d3dabf16-1181-485f-a8b9-a41873f32068.c000.snappy.parquet|6    |\n",
            "|file:///content/spark-warehouse/emp_dept/DEPTNO=30/part-00000-3ed50cc7-e286-4d9c-a738-36b066040c8b.c000.snappy.parquet|6    |\n",
            "|file:///content/spark-warehouse/emp_dept/DEPTNO=20/part-00000-3ed50cc7-e286-4d9c-a738-36b066040c8b.c000.snappy.parquet|5    |\n",
            "+----------------------------------------------------------------------------------------------------------------------+-----+\n",
            "\n"
          ]
        }
      ],
      "source": [
        "df_file = spark.read.format('parquet').load('/content/spark-warehouse/emp_dept')\n",
        "\n",
        "df_file = df_file.withColumn('file_Location',input_file_name())\n",
        "\n",
        "df_file.groupBy('file_Location').count().show(truncate=False)"
      ]
    }
  ],
  "metadata": {
    "colab": {
      "collapsed_sections": [
        "3in-2lvQJZb2",
        "HQTXxbqnJYFw",
        "tbIlXGsJBL4j",
        "y1MKpDkk6Zfs",
        "mQM_-Rq31OHy",
        "u22VawEEFCLg",
        "XC-rxv57hRCC",
        "9sVH_dl3jk2m",
        "AEXYbd4AjHe5",
        "h63qo9lnPaPh",
        "MPp15hFA-b5g",
        "pERd85OnPkP0",
        "Egb13y1nnydU",
        "PeBOuuINtoAL",
        "1d7XuxL5X50r",
        "IoACpFSUGggR",
        "6FEKfcYB3EDz",
        "9pmQ8opn3Ubp",
        "sAXTABuC4eJD",
        "i2Y6IjYy7KPj",
        "gZLklQEUwp3w",
        "g0NdFWIa51kF",
        "Ki4_8O8C8rB3",
        "5rexNi5a72L7",
        "s2NiVkua9OTj",
        "ntd4Vy6J4pXW",
        "vaJfFTW84TwB"
      ],
      "provenance": []
    },
    "kernelspec": {
      "display_name": "Python 3",
      "name": "python3"
    },
    "language_info": {
      "name": "python"
    }
  },
  "nbformat": 4,
  "nbformat_minor": 0
}