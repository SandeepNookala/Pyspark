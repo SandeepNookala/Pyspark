{
  "cells": [
    {
      "cell_type": "markdown",
      "metadata": {
        "id": "NbFalTaBnvmA"
      },
      "source": [
        "#Installing Pyspark in Googlecolab"
      ]
    },
    {
      "cell_type": "code",
      "execution_count": null,
      "metadata": {
        "colab": {
          "base_uri": "https://localhost:8080/"
        },
        "id": "jmfJcwA4dnM0",
        "outputId": "b8d3b99c-b12e-4a2c-dc75-6b1d53b2141f"
      },
      "outputs": [
        {
          "output_type": "stream",
          "name": "stdout",
          "text": [
            "Looking in indexes: https://pypi.org/simple, https://us-python.pkg.dev/colab-wheels/public/simple/\n",
            "Requirement already satisfied: pyspark in /usr/local/lib/python3.10/dist-packages (3.4.0)\n",
            "Requirement already satisfied: py4j in /usr/local/lib/python3.10/dist-packages (0.10.9.7)\n"
          ]
        }
      ],
      "source": [
        "!pip install pyspark py4j"
      ]
    },
    {
      "cell_type": "code",
      "source": [
        "from pyspark.sql import SparkSession\n",
        "spark = SparkSession.builder.master('local').appName('DataFrame').getOrCreate()"
      ],
      "metadata": {
        "id": "7PEmep5vMqwF"
      },
      "execution_count": null,
      "outputs": []
    },
    {
      "cell_type": "markdown",
      "metadata": {
        "id": "p-5j-cMJn7Jz"
      },
      "source": [
        "# Creating new SparkSession"
      ]
    },
    {
      "cell_type": "code",
      "execution_count": null,
      "metadata": {
        "id": "ufEBg2pueVGM",
        "colab": {
          "base_uri": "https://localhost:8080/"
        },
        "outputId": "c4eda3c1-146d-44f8-f2e6-64f190b0c7e1"
      },
      "outputs": [
        {
          "output_type": "execute_result",
          "data": {
            "text/plain": [
              "<pyspark.sql.session.SparkSession at 0x7f3f488bba30>"
            ],
            "text/html": [
              "\n",
              "            <div>\n",
              "                <p><b>SparkSession - in-memory</b></p>\n",
              "                \n",
              "        <div>\n",
              "            <p><b>SparkContext</b></p>\n",
              "\n",
              "            <p><a href=\"http://b189b087c664:4040\">Spark UI</a></p>\n",
              "\n",
              "            <dl>\n",
              "              <dt>Version</dt>\n",
              "                <dd><code>v3.4.0</code></dd>\n",
              "              <dt>Master</dt>\n",
              "                <dd><code>local</code></dd>\n",
              "              <dt>AppName</dt>\n",
              "                <dd><code>DataFrame</code></dd>\n",
              "            </dl>\n",
              "        </div>\n",
              "        \n",
              "            </div>\n",
              "        "
            ]
          },
          "metadata": {},
          "execution_count": 11
        }
      ],
      "source": [
        "\n",
        "from pyspark.sql import SparkSession\n",
        "spark = SparkSession.builder.master('local').appName('DataFrame').getOrCreate()\n",
        "\n",
        "spark\n"
      ]
    },
    {
      "cell_type": "markdown",
      "source": [
        "# Creating dataFrame from hdfs Location\n",
        "reading data from hdfs remote server"
      ],
      "metadata": {
        "id": "Y-5-RjNwL94o"
      }
    },
    {
      "cell_type": "markdown",
      "source": [
        "\n",
        "\n",
        "df_hdfs = spark.read.format('csv').load('hdfs://172.16.38.131.8020/bigdata/cse/app_prod/cse.app_prod.csv')"
      ],
      "metadata": {
        "id": "eCozdXf8SrG7"
      }
    },
    {
      "cell_type": "markdown",
      "metadata": {
        "id": "Zo_-_Nj_hvsX"
      },
      "source": [
        "# Reading CSV data into dataframe without header, schema?\n",
        "\n",
        "\n",
        "\n",
        "\n"
      ]
    },
    {
      "cell_type": "code",
      "execution_count": null,
      "metadata": {
        "id": "8X4zgD3PgRyi",
        "colab": {
          "base_uri": "https://localhost:8080/"
        },
        "outputId": "b3982f6d-e7db-407d-883f-ccce3246bab5"
      },
      "outputs": [
        {
          "output_type": "stream",
          "name": "stdout",
          "text": [
            "+-----------+---------+------------------+-----------+--------------+-----------+----------+-------------+------------------+\n",
            "|        _c0|      _c1|               _c2|        _c3|           _c4|        _c5|       _c6|          _c7|               _c8|\n",
            "+-----------+---------+------------------+-----------+--------------+-----------+----------+-------------+------------------+\n",
            "|  longitude| latitude|housing_median_age|total_rooms|total_bedrooms| population|households|median_income|median_house_value|\n",
            "|-122.050000|37.370000|         27.000000|3885.000000|    661.000000|1537.000000|606.000000|     6.608500|     344700.000000|\n",
            "|-118.300000|34.260000|         43.000000|1510.000000|    310.000000| 809.000000|277.000000|     3.599000|     176500.000000|\n",
            "|-117.810000|33.780000|         27.000000|3589.000000|    507.000000|1484.000000|495.000000|     5.793400|     270500.000000|\n",
            "|-118.360000|33.820000|         28.000000|  67.000000|     15.000000|  49.000000| 11.000000|     6.135900|     330000.000000|\n",
            "|-119.670000|36.330000|         19.000000|1241.000000|    244.000000| 850.000000|237.000000|     2.937500|      81700.000000|\n",
            "|-119.560000|36.510000|         37.000000|1018.000000|    213.000000| 663.000000|204.000000|     1.663500|      67000.000000|\n",
            "|-121.430000|38.630000|         43.000000|1009.000000|    225.000000| 604.000000|218.000000|     1.664100|      67000.000000|\n",
            "|-120.650000|35.480000|         19.000000|2310.000000|    471.000000|1341.000000|441.000000|     3.225000|     166900.000000|\n",
            "|-122.840000|38.400000|         15.000000|3080.000000|    617.000000|1446.000000|599.000000|     3.669600|     194400.000000|\n",
            "+-----------+---------+------------------+-----------+--------------+-----------+----------+-------------+------------------+\n",
            "only showing top 10 rows\n",
            "\n"
          ]
        }
      ],
      "source": [
        "df_csv = spark.read.format('csv').load('/content/sample_data/california_housing_test.csv')\n",
        "df_csv.show(10)"
      ]
    },
    {
      "cell_type": "markdown",
      "metadata": {
        "id": "HOSZSLuFiLYx"
      },
      "source": [
        "# Reading csv data into dataframe with Header and schema ?\n",
        "# print dataframe type ,show dataframe,count rows and printSchema?\n",
        "\n"
      ]
    },
    {
      "cell_type": "code",
      "source": [
        "df_csv1 = spark.read.format('csv').option('header',True).option('inferSchema',True).option('nullValue','null').load('/content/sample_data/california_housing_test.csv')\n",
        "\n",
        "type(df_csv1)\n",
        "\n",
        "df_csv1.show(10)\n",
        "\n",
        "df_csv1.count()\n",
        "\n",
        "df_csv1.printSchema()\n"
      ],
      "metadata": {
        "colab": {
          "base_uri": "https://localhost:8080/"
        },
        "id": "LW42vO_IRumM",
        "outputId": "5629c665-c071-47ac-c063-660f44d9abaf"
      },
      "execution_count": null,
      "outputs": [
        {
          "output_type": "stream",
          "name": "stdout",
          "text": [
            "+---------+--------+------------------+-----------+--------------+----------+----------+-------------+------------------+\n",
            "|longitude|latitude|housing_median_age|total_rooms|total_bedrooms|population|households|median_income|median_house_value|\n",
            "+---------+--------+------------------+-----------+--------------+----------+----------+-------------+------------------+\n",
            "|  -122.05|   37.37|              27.0|     3885.0|         661.0|    1537.0|     606.0|       6.6085|          344700.0|\n",
            "|   -118.3|   34.26|              43.0|     1510.0|         310.0|     809.0|     277.0|        3.599|          176500.0|\n",
            "|  -117.81|   33.78|              27.0|     3589.0|         507.0|    1484.0|     495.0|       5.7934|          270500.0|\n",
            "|  -118.36|   33.82|              28.0|       67.0|          15.0|      49.0|      11.0|       6.1359|          330000.0|\n",
            "|  -119.67|   36.33|              19.0|     1241.0|         244.0|     850.0|     237.0|       2.9375|           81700.0|\n",
            "|  -119.56|   36.51|              37.0|     1018.0|         213.0|     663.0|     204.0|       1.6635|           67000.0|\n",
            "|  -121.43|   38.63|              43.0|     1009.0|         225.0|     604.0|     218.0|       1.6641|           67000.0|\n",
            "|  -120.65|   35.48|              19.0|     2310.0|         471.0|    1341.0|     441.0|        3.225|          166900.0|\n",
            "|  -122.84|    38.4|              15.0|     3080.0|         617.0|    1446.0|     599.0|       3.6696|          194400.0|\n",
            "|  -118.02|   34.08|              31.0|     2402.0|         632.0|    2830.0|     603.0|       2.3333|          164200.0|\n",
            "+---------+--------+------------------+-----------+--------------+----------+----------+-------------+------------------+\n",
            "only showing top 10 rows\n",
            "\n",
            "root\n",
            " |-- longitude: double (nullable = true)\n",
            " |-- latitude: double (nullable = true)\n",
            " |-- housing_median_age: double (nullable = true)\n",
            " |-- total_rooms: double (nullable = true)\n",
            " |-- total_bedrooms: double (nullable = true)\n",
            " |-- population: double (nullable = true)\n",
            " |-- households: double (nullable = true)\n",
            " |-- median_income: double (nullable = true)\n",
            " |-- median_house_value: double (nullable = true)\n",
            "\n"
          ]
        }
      ]
    },
    {
      "cell_type": "markdown",
      "metadata": {
        "id": "g5IWj-E-pCro"
      },
      "source": [
        "# Reading csv data into dataframe with Header and schema-(another way) ?"
      ]
    },
    {
      "cell_type": "code",
      "execution_count": null,
      "metadata": {
        "id": "K-6vm-8ahWjY",
        "colab": {
          "base_uri": "https://localhost:8080/"
        },
        "outputId": "508b87c6-cf9a-44a4-c0a9-ccff5ae71f4c"
      },
      "outputs": [
        {
          "output_type": "stream",
          "name": "stdout",
          "text": [
            "+---------+--------+------------------+-----------+--------------+----------+----------+-------------+------------------+\n",
            "|longitude|latitude|housing_median_age|total_rooms|total_bedrooms|population|households|median_income|median_house_value|\n",
            "+---------+--------+------------------+-----------+--------------+----------+----------+-------------+------------------+\n",
            "|  -122.05|   37.37|              27.0|     3885.0|         661.0|    1537.0|     606.0|       6.6085|          344700.0|\n",
            "|   -118.3|   34.26|              43.0|     1510.0|         310.0|     809.0|     277.0|        3.599|          176500.0|\n",
            "|  -117.81|   33.78|              27.0|     3589.0|         507.0|    1484.0|     495.0|       5.7934|          270500.0|\n",
            "|  -118.36|   33.82|              28.0|       67.0|          15.0|      49.0|      11.0|       6.1359|          330000.0|\n",
            "|  -119.67|   36.33|              19.0|     1241.0|         244.0|     850.0|     237.0|       2.9375|           81700.0|\n",
            "|  -119.56|   36.51|              37.0|     1018.0|         213.0|     663.0|     204.0|       1.6635|           67000.0|\n",
            "|  -121.43|   38.63|              43.0|     1009.0|         225.0|     604.0|     218.0|       1.6641|           67000.0|\n",
            "|  -120.65|   35.48|              19.0|     2310.0|         471.0|    1341.0|     441.0|        3.225|          166900.0|\n",
            "|  -122.84|    38.4|              15.0|     3080.0|         617.0|    1446.0|     599.0|       3.6696|          194400.0|\n",
            "|  -118.02|   34.08|              31.0|     2402.0|         632.0|    2830.0|     603.0|       2.3333|          164200.0|\n",
            "+---------+--------+------------------+-----------+--------------+----------+----------+-------------+------------------+\n",
            "only showing top 10 rows\n",
            "\n",
            "root\n",
            " |-- longitude: double (nullable = true)\n",
            " |-- latitude: double (nullable = true)\n",
            " |-- housing_median_age: double (nullable = true)\n",
            " |-- total_rooms: double (nullable = true)\n",
            " |-- total_bedrooms: double (nullable = true)\n",
            " |-- population: double (nullable = true)\n",
            " |-- households: double (nullable = true)\n",
            " |-- median_income: double (nullable = true)\n",
            " |-- median_house_value: double (nullable = true)\n",
            "\n"
          ]
        }
      ],
      "source": [
        "df_another = spark.read.csv('/content/sample_data/california_housing_test.csv',header = True,inferSchema = True)\n",
        "\n",
        "df_another.show(10)\n",
        "df_another.printSchema()"
      ]
    },
    {
      "cell_type": "markdown",
      "source": [],
      "metadata": {
        "id": "Rr9zSeIyYUTE"
      }
    },
    {
      "cell_type": "markdown",
      "source": [
        "# Reading csv dataframe with pipe seprated values ?\n",
        "# show data frame,printSchema, count rows ?"
      ],
      "metadata": {
        "id": "Ugtf0Tb1LaCD"
      }
    },
    {
      "cell_type": "code",
      "source": [
        "df_pipe = spark.read.format('csv').option('sep','|').option('header','true').option('inferSchema',True).option('nullValue','null').load('/content/emp_pipe.txt')\n",
        "df_pipe.show(10)\n",
        "df_pipe.printSchema()\n",
        "df_pipe.count()\n"
      ],
      "metadata": {
        "id": "hj22IJbSUPZt",
        "colab": {
          "base_uri": "https://localhost:8080/"
        },
        "outputId": "ddcb1ce6-80de-4e97-98c4-0351b240799b"
      },
      "execution_count": null,
      "outputs": [
        {
          "output_type": "stream",
          "name": "stdout",
          "text": [
            "+-----+------+---------+----+----------+----+------+------------+\n",
            "|EMPNO| ENAME|      JOB| MGR|  HIREDATE| SAL|DEPTNO|UPDATED_DATE|\n",
            "+-----+------+---------+----+----------+----+------+------------+\n",
            "| 7369| SMITH|    CLERK|7902|17-12-1980| 800|    20|  01-01-2022|\n",
            "| 7499| ALLEN| SALESMAN|7698|20-02-1981|1600|    30|  02-01-2022|\n",
            "| 7521|  WARD| SALESMAN|7698|22-02-1981|1250|    30|  03-01-2022|\n",
            "| 7566| JONES|  MANAGER|null|04-02-1981|2975|    20|  04-01-2022|\n",
            "| 7654|  null|     null|7698|21-09-1981|null|    30|  05-01-2022|\n",
            "| 7698|   SGR|  MANAGER|7839|05-01-1981|2850|    30|  06-01-2022|\n",
            "| 7782|  RAVI|     null|null|06-09-1981|2450|    10|  07-01-2022|\n",
            "| 7788| SCOTT|  ANALYST|7566|19-04-1987|3000|    20|  08-01-2022|\n",
            "| 7839|  null|PRESIDENT|null|      null|5000|    10|        null|\n",
            "| 7844|TURNER| SALESMAN|7698|09-08-1981|1500|    30|  01-02-2022|\n",
            "+-----+------+---------+----+----------+----+------+------------+\n",
            "only showing top 10 rows\n",
            "\n",
            "root\n",
            " |-- EMPNO: integer (nullable = true)\n",
            " |-- ENAME: string (nullable = true)\n",
            " |-- JOB: string (nullable = true)\n",
            " |-- MGR: integer (nullable = true)\n",
            " |-- HIREDATE: string (nullable = true)\n",
            " |-- SAL: integer (nullable = true)\n",
            " |-- DEPTNO: integer (nullable = true)\n",
            " |-- UPDATED_DATE: string (nullable = true)\n",
            "\n"
          ]
        },
        {
          "output_type": "execute_result",
          "data": {
            "text/plain": [
              "30"
            ]
          },
          "metadata": {},
          "execution_count": 15
        }
      ]
    },
    {
      "cell_type": "markdown",
      "source": [
        "# how to handle double delimiter files"
      ],
      "metadata": {
        "id": "qFntZuWyYY0j"
      }
    },
    {
      "cell_type": "markdown",
      "source": [
        "# Reading csv dataframe with double pipe seprated values ?\n",
        "# show data frame,printSchema, count rows ?"
      ],
      "metadata": {
        "id": "b0yax8KzZR6_"
      }
    },
    {
      "cell_type": "code",
      "source": [
        "df_double = spark.read.format('csv').option('sep','||').option('header',True).option('inferSchema',True).option('nullValue','null').load('/content/emp_double_pipe.txt')\n",
        "\n",
        "df_double.show(10)\n",
        "\n",
        "df_double.printSchema()\n",
        "\n",
        "df_double.count()"
      ],
      "metadata": {
        "colab": {
          "base_uri": "https://localhost:8080/"
        },
        "id": "q8lf3sTMYfFV",
        "outputId": "3aebbff5-c647-4acb-bdde-e83abb32d79d"
      },
      "execution_count": null,
      "outputs": [
        {
          "output_type": "stream",
          "name": "stdout",
          "text": [
            "+-----+------+---------+----+----------+----+------+------------+\n",
            "|EMPNO| ENAME|      JOB| MGR|  HIREDATE| SAL|DEPTNO|UPDATED_DATE|\n",
            "+-----+------+---------+----+----------+----+------+------------+\n",
            "| 7369| SMITH|    CLERK|7902|17-12-1980| 800|    20|  01-01-2022|\n",
            "| 7499| ALLEN| SALESMAN|7698|20-02-1981|1600|    30|  02-01-2022|\n",
            "| 7521|  WARD| SALESMAN|7698|22-02-1981|1250|    30|  03-01-2022|\n",
            "| 7566| JONES|  MANAGER|7839|04-02-1981|2975|    20|  04-01-2022|\n",
            "| 7654|MARTIN| SALESMAN|7698|21-09-1981|1250|    30|  05-01-2022|\n",
            "| 7698|   SGR|  MANAGER|7839|05-01-1981|2850|    30|  06-01-2022|\n",
            "| 7782|  RAVI|  MANAGER|7839|06-09-1981|2450|    10|  07-01-2022|\n",
            "| 7788| SCOTT|  ANALYST|7566|19-04-1987|3000|    20|  08-01-2022|\n",
            "| 7839|  KING|PRESIDENT|null|      null|5000|    10|        null|\n",
            "| 7844|TURNER| SALESMAN|7698|09-08-1981|1500|    30|  01-02-2022|\n",
            "+-----+------+---------+----+----------+----+------+------------+\n",
            "only showing top 10 rows\n",
            "\n",
            "root\n",
            " |-- EMPNO: integer (nullable = true)\n",
            " |-- ENAME: string (nullable = true)\n",
            " |-- JOB: string (nullable = true)\n",
            " |-- MGR: integer (nullable = true)\n",
            " |-- HIREDATE: string (nullable = true)\n",
            " |-- SAL: integer (nullable = true)\n",
            " |-- DEPTNO: integer (nullable = true)\n",
            " |-- UPDATED_DATE: string (nullable = true)\n",
            "\n"
          ]
        },
        {
          "output_type": "execute_result",
          "data": {
            "text/plain": [
              "30"
            ]
          },
          "metadata": {},
          "execution_count": 16
        }
      ]
    },
    {
      "cell_type": "markdown",
      "source": [
        "# Inspect Data\n",
        "\n",
        "\n",
        "\n"
      ],
      "metadata": {
        "id": "PezsVmyIz2Wh"
      }
    },
    {
      "cell_type": "code",
      "source": [
        "# display Content of df\n",
        "\n",
        "df_csv1.show(10)"
      ],
      "metadata": {
        "colab": {
          "base_uri": "https://localhost:8080/"
        },
        "id": "WxSlaaEu0vJ6",
        "outputId": "9908c4e5-c558-4f40-c3dd-6901fe82e940"
      },
      "execution_count": null,
      "outputs": [
        {
          "output_type": "stream",
          "name": "stdout",
          "text": [
            "+---------+--------+------------------+-----------+--------------+----------+----------+-------------+------------------+\n",
            "|longitude|latitude|housing_median_age|total_rooms|total_bedrooms|population|households|median_income|median_house_value|\n",
            "+---------+--------+------------------+-----------+--------------+----------+----------+-------------+------------------+\n",
            "|  -122.05|   37.37|              27.0|     3885.0|         661.0|    1537.0|     606.0|       6.6085|          344700.0|\n",
            "|   -118.3|   34.26|              43.0|     1510.0|         310.0|     809.0|     277.0|        3.599|          176500.0|\n",
            "|  -117.81|   33.78|              27.0|     3589.0|         507.0|    1484.0|     495.0|       5.7934|          270500.0|\n",
            "|  -118.36|   33.82|              28.0|       67.0|          15.0|      49.0|      11.0|       6.1359|          330000.0|\n",
            "|  -119.67|   36.33|              19.0|     1241.0|         244.0|     850.0|     237.0|       2.9375|           81700.0|\n",
            "|  -119.56|   36.51|              37.0|     1018.0|         213.0|     663.0|     204.0|       1.6635|           67000.0|\n",
            "|  -121.43|   38.63|              43.0|     1009.0|         225.0|     604.0|     218.0|       1.6641|           67000.0|\n",
            "|  -120.65|   35.48|              19.0|     2310.0|         471.0|    1341.0|     441.0|        3.225|          166900.0|\n",
            "|  -122.84|    38.4|              15.0|     3080.0|         617.0|    1446.0|     599.0|       3.6696|          194400.0|\n",
            "|  -118.02|   34.08|              31.0|     2402.0|         632.0|    2830.0|     603.0|       2.3333|          164200.0|\n",
            "+---------+--------+------------------+-----------+--------------+----------+----------+-------------+------------------+\n",
            "only showing top 10 rows\n",
            "\n"
          ]
        }
      ]
    },
    {
      "cell_type": "code",
      "source": [
        "# display Schema\n",
        "df_csv1.printSchema()"
      ],
      "metadata": {
        "colab": {
          "base_uri": "https://localhost:8080/"
        },
        "id": "PmYZtI0e0xtD",
        "outputId": "4d49aaa4-f5c8-4ab5-941c-7936dbced69d"
      },
      "execution_count": null,
      "outputs": [
        {
          "output_type": "stream",
          "name": "stdout",
          "text": [
            "root\n",
            " |-- longitude: double (nullable = true)\n",
            " |-- latitude: double (nullable = true)\n",
            " |-- housing_median_age: double (nullable = true)\n",
            " |-- total_rooms: double (nullable = true)\n",
            " |-- total_bedrooms: double (nullable = true)\n",
            " |-- population: double (nullable = true)\n",
            " |-- households: double (nullable = true)\n",
            " |-- median_income: double (nullable = true)\n",
            " |-- median_house_value: double (nullable = true)\n",
            "\n"
          ]
        }
      ]
    },
    {
      "cell_type": "code",
      "source": [
        "#first row\n",
        "df_csv1.first()"
      ],
      "metadata": {
        "colab": {
          "base_uri": "https://localhost:8080/"
        },
        "id": "QyRibpDB2coS",
        "outputId": "87c3e25b-98ff-4a14-e60c-31fe158fea45"
      },
      "execution_count": null,
      "outputs": [
        {
          "output_type": "execute_result",
          "data": {
            "text/plain": [
              "Row(longitude=-122.05, latitude=37.37, housing_median_age=27.0, total_rooms=3885.0, total_bedrooms=661.0, population=1537.0, households=606.0, median_income=6.6085, median_house_value=344700.0)"
            ]
          },
          "metadata": {},
          "execution_count": 19
        }
      ]
    },
    {
      "cell_type": "code",
      "source": [
        "#head values\n",
        "\n",
        "df_csv1.head()"
      ],
      "metadata": {
        "colab": {
          "base_uri": "https://localhost:8080/"
        },
        "id": "A8dHzAoF15V6",
        "outputId": "1eff27b2-27a2-4d91-eed9-78edb415bb05"
      },
      "execution_count": null,
      "outputs": [
        {
          "output_type": "execute_result",
          "data": {
            "text/plain": [
              "Row(longitude=-122.05, latitude=37.37, housing_median_age=27.0, total_rooms=3885.0, total_bedrooms=661.0, population=1537.0, households=606.0, median_income=6.6085, median_house_value=344700.0)"
            ]
          },
          "metadata": {},
          "execution_count": 20
        }
      ]
    },
    {
      "cell_type": "code",
      "source": [
        "#tail values\n",
        "\n",
        "df_csv1.tail(1)\n"
      ],
      "metadata": {
        "colab": {
          "base_uri": "https://localhost:8080/"
        },
        "id": "x-8UO0Ck1-oC",
        "outputId": "21bdde3d-254c-444f-bd81-4ccfa3bc7b9f"
      },
      "execution_count": null,
      "outputs": [
        {
          "output_type": "execute_result",
          "data": {
            "text/plain": [
              "[Row(longitude=-119.63, latitude=34.42, housing_median_age=42.0, total_rooms=1765.0, total_bedrooms=263.0, population=753.0, households=260.0, median_income=8.5608, median_house_value=500001.0)]"
            ]
          },
          "metadata": {},
          "execution_count": 21
        }
      ]
    },
    {
      "cell_type": "code",
      "source": [
        "#takes some random from dataframe\n",
        "\n",
        "df_csv1.take(2)\n"
      ],
      "metadata": {
        "colab": {
          "base_uri": "https://localhost:8080/"
        },
        "id": "ae4nPXVB2Lq4",
        "outputId": "67cb4348-a99e-44b5-bccd-b1500fd88231"
      },
      "execution_count": null,
      "outputs": [
        {
          "output_type": "execute_result",
          "data": {
            "text/plain": [
              "[Row(longitude=-122.05, latitude=37.37, housing_median_age=27.0, total_rooms=3885.0, total_bedrooms=661.0, population=1537.0, households=606.0, median_income=6.6085, median_house_value=344700.0),\n",
              " Row(longitude=-118.3, latitude=34.26, housing_median_age=43.0, total_rooms=1510.0, total_bedrooms=310.0, population=809.0, households=277.0, median_income=3.599, median_house_value=176500.0)]"
            ]
          },
          "metadata": {},
          "execution_count": 22
        }
      ]
    },
    {
      "cell_type": "code",
      "source": [
        "# return column names and data types\n",
        "\n",
        "df_csv1.dtypes\n"
      ],
      "metadata": {
        "colab": {
          "base_uri": "https://localhost:8080/"
        },
        "id": "pshboCyi2o9n",
        "outputId": "5764b67d-a314-41bc-ea24-e01558f654a0"
      },
      "execution_count": null,
      "outputs": [
        {
          "output_type": "execute_result",
          "data": {
            "text/plain": [
              "[('longitude', 'double'),\n",
              " ('latitude', 'double'),\n",
              " ('housing_median_age', 'double'),\n",
              " ('total_rooms', 'double'),\n",
              " ('total_bedrooms', 'double'),\n",
              " ('population', 'double'),\n",
              " ('households', 'double'),\n",
              " ('median_income', 'double'),\n",
              " ('median_house_value', 'double')]"
            ]
          },
          "metadata": {},
          "execution_count": 23
        }
      ]
    },
    {
      "cell_type": "code",
      "source": [
        "# compute summery satistics for dataframe\n",
        "\n",
        "df_csv1.describe().show()\n"
      ],
      "metadata": {
        "colab": {
          "base_uri": "https://localhost:8080/"
        },
        "id": "KZDDdGFA26qI",
        "outputId": "8ab449f2-3eaf-4731-a651-c7bd5198fa69"
      },
      "execution_count": null,
      "outputs": [
        {
          "output_type": "stream",
          "name": "stdout",
          "text": [
            "+-------+-------------------+------------------+------------------+-----------------+------------------+------------------+------------------+------------------+------------------+\n",
            "|summary|          longitude|          latitude|housing_median_age|      total_rooms|    total_bedrooms|        population|        households|     median_income|median_house_value|\n",
            "+-------+-------------------+------------------+------------------+-----------------+------------------+------------------+------------------+------------------+------------------+\n",
            "|  count|               3000|              3000|              3000|             3000|              3000|              3000|              3000|              3000|              3000|\n",
            "|   mean|-119.58920000000029| 35.63538999999999|28.845333333333333|2599.578666666667| 529.9506666666666|1402.7986666666666|           489.912| 3.807271799999998|        205846.275|\n",
            "| stddev| 1.9949362939550166|2.1296695233438334|12.555395554955757|2155.593331625582|415.65436813632306|1030.5430124122424|365.42270980552615|1.8545117296914775|113119.68746964622|\n",
            "|    min|            -124.18|             32.56|               1.0|              6.0|               2.0|               5.0|               2.0|            0.4999|           22500.0|\n",
            "|    max|            -114.49|             41.92|              52.0|          30450.0|            5419.0|           11935.0|            4930.0|           15.0001|          500001.0|\n",
            "+-------+-------------------+------------------+------------------+-----------------+------------------+------------------+------------------+------------------+------------------+\n",
            "\n"
          ]
        }
      ]
    },
    {
      "cell_type": "code",
      "source": [
        "#count no.of rows\n",
        "\n",
        "df_csv1.count()"
      ],
      "metadata": {
        "colab": {
          "base_uri": "https://localhost:8080/"
        },
        "id": "NyNR-Fd-3KwH",
        "outputId": "2600a92e-972c-415f-df12-f894977d3621"
      },
      "execution_count": null,
      "outputs": [
        {
          "output_type": "execute_result",
          "data": {
            "text/plain": [
              "3000"
            ]
          },
          "metadata": {},
          "execution_count": 25
        }
      ]
    },
    {
      "cell_type": "code",
      "source": [
        "#count distinct no.of rows\n",
        "\n",
        "df_csv1.distinct().count()\n",
        "\n"
      ],
      "metadata": {
        "colab": {
          "base_uri": "https://localhost:8080/"
        },
        "id": "UQwPdWt73qla",
        "outputId": "804f6dba-95d6-4060-aa47-315063aa1fdc"
      },
      "execution_count": null,
      "outputs": [
        {
          "output_type": "execute_result",
          "data": {
            "text/plain": [
              "3000"
            ]
          },
          "metadata": {},
          "execution_count": 26
        }
      ]
    },
    {
      "cell_type": "code",
      "source": [
        "#explain physical plan and logical plan\n",
        "\n",
        "df_csv1.explain()\n"
      ],
      "metadata": {
        "colab": {
          "base_uri": "https://localhost:8080/"
        },
        "id": "2yvL7Nsv32Sa",
        "outputId": "7861e222-492e-4cb5-a437-3fe604d6c952"
      },
      "execution_count": null,
      "outputs": [
        {
          "output_type": "stream",
          "name": "stdout",
          "text": [
            "== Physical Plan ==\n",
            "FileScan csv [longitude#359,latitude#360,housing_median_age#361,total_rooms#362,total_bedrooms#363,population#364,households#365,median_income#366,median_house_value#367] Batched: false, DataFilters: [], Format: CSV, Location: InMemoryFileIndex(1 paths)[file:/content/sample_data/california_housing_test.csv], PartitionFilters: [], PushedFilters: [], ReadSchema: struct<longitude:double,latitude:double,housing_median_age:double,total_rooms:double,total_bedroo...\n",
            "\n",
            "\n"
          ]
        }
      ]
    },
    {
      "cell_type": "code",
      "source": [
        "#All table columns Names\n",
        "\n",
        "df_csv1.columns"
      ],
      "metadata": {
        "colab": {
          "base_uri": "https://localhost:8080/"
        },
        "id": "bkOFMpMjkdfC",
        "outputId": "784022cc-865a-494d-f37c-b9bf56f66085"
      },
      "execution_count": null,
      "outputs": [
        {
          "output_type": "execute_result",
          "data": {
            "text/plain": [
              "['longitude',\n",
              " 'latitude',\n",
              " 'housing_median_age',\n",
              " 'total_rooms',\n",
              " 'total_bedrooms',\n",
              " 'population',\n",
              " 'households',\n",
              " 'median_income',\n",
              " 'median_house_value']"
            ]
          },
          "metadata": {},
          "execution_count": 28
        }
      ]
    },
    {
      "cell_type": "code",
      "source": [
        "df_csv1.columns"
      ],
      "metadata": {
        "colab": {
          "base_uri": "https://localhost:8080/"
        },
        "id": "enUIieuslh0K",
        "outputId": "959e4963-f505-4fc2-fbef-13b5dc027e7c"
      },
      "execution_count": null,
      "outputs": [
        {
          "output_type": "execute_result",
          "data": {
            "text/plain": [
              "['longitude',\n",
              " 'latitude',\n",
              " 'housing_median_age',\n",
              " 'total_rooms',\n",
              " 'total_bedrooms',\n",
              " 'population',\n",
              " 'households',\n",
              " 'median_income',\n",
              " 'median_house_value']"
            ]
          },
          "metadata": {},
          "execution_count": 29
        }
      ]
    },
    {
      "cell_type": "markdown",
      "source": [
        "# import functions"
      ],
      "metadata": {
        "id": "YM0qyhQ4ytFC"
      }
    },
    {
      "cell_type": "code",
      "source": [
        "from pyspark.sql.functions import *"
      ],
      "metadata": {
        "id": "EirQACPxywK3"
      },
      "execution_count": null,
      "outputs": []
    },
    {
      "cell_type": "markdown",
      "source": [
        "# select"
      ],
      "metadata": {
        "id": "6sWz3tRMip0a"
      }
    },
    {
      "cell_type": "code",
      "source": [
        "df_csv1.select(col('population')/2,'total_rooms',col('median_house_value')*10).show(10)"
      ],
      "metadata": {
        "colab": {
          "base_uri": "https://localhost:8080/"
        },
        "id": "cwf3oyf1suea",
        "outputId": "6bdcf9ad-b8ff-4c16-bd32-5ab2c2ff74ec"
      },
      "execution_count": null,
      "outputs": [
        {
          "output_type": "stream",
          "name": "stdout",
          "text": [
            "+----------------+-----------+-------------------------+\n",
            "|(population / 2)|total_rooms|(median_house_value * 10)|\n",
            "+----------------+-----------+-------------------------+\n",
            "|           768.5|     3885.0|                3447000.0|\n",
            "|           404.5|     1510.0|                1765000.0|\n",
            "|           742.0|     3589.0|                2705000.0|\n",
            "|            24.5|       67.0|                3300000.0|\n",
            "|           425.0|     1241.0|                 817000.0|\n",
            "|           331.5|     1018.0|                 670000.0|\n",
            "|           302.0|     1009.0|                 670000.0|\n",
            "|           670.5|     2310.0|                1669000.0|\n",
            "|           723.0|     3080.0|                1944000.0|\n",
            "|          1415.0|     2402.0|                1642000.0|\n",
            "+----------------+-----------+-------------------------+\n",
            "only showing top 10 rows\n",
            "\n"
          ]
        }
      ]
    },
    {
      "cell_type": "code",
      "source": [
        "df_csv1.select([col('population')/2,'total_rooms',col('median_house_value')*10]).show(10)"
      ],
      "metadata": {
        "colab": {
          "base_uri": "https://localhost:8080/"
        },
        "id": "4z3-P0twqIxx",
        "outputId": "71c10ea3-fa64-449f-a6f4-5dde91deacf9"
      },
      "execution_count": null,
      "outputs": [
        {
          "output_type": "stream",
          "name": "stdout",
          "text": [
            "+----------------+-----------+-------------------------+\n",
            "|(population / 2)|total_rooms|(median_house_value * 10)|\n",
            "+----------------+-----------+-------------------------+\n",
            "|           768.5|     3885.0|                3447000.0|\n",
            "|           404.5|     1510.0|                1765000.0|\n",
            "|           742.0|     3589.0|                2705000.0|\n",
            "|            24.5|       67.0|                3300000.0|\n",
            "|           425.0|     1241.0|                 817000.0|\n",
            "|           331.5|     1018.0|                 670000.0|\n",
            "|           302.0|     1009.0|                 670000.0|\n",
            "|           670.5|     2310.0|                1669000.0|\n",
            "|           723.0|     3080.0|                1944000.0|\n",
            "|          1415.0|     2402.0|                1642000.0|\n",
            "+----------------+-----------+-------------------------+\n",
            "only showing top 10 rows\n",
            "\n"
          ]
        }
      ]
    },
    {
      "cell_type": "markdown",
      "source": [
        "# Adding new columns\n"
      ],
      "metadata": {
        "id": "IoEGhBowvpmK"
      }
    },
    {
      "cell_type": "code",
      "execution_count": null,
      "metadata": {
        "id": "yxgI2Oze8fxW",
        "colab": {
          "base_uri": "https://localhost:8080/"
        },
        "outputId": "119ec42f-5c4d-447a-9879-3deb9a9c95d7"
      },
      "outputs": [
        {
          "output_type": "stream",
          "name": "stdout",
          "text": [
            "+---------+--------+------------------+-----------+--------------+----------+----------+-------------+------------------+--------------+-----------+\n",
            "|longitude|latitude|housing_median_age|total_rooms|total_bedrooms|population|households|median_income|median_house_value|new_population|house_value|\n",
            "+---------+--------+------------------+-----------+--------------+----------+----------+-------------+------------------+--------------+-----------+\n",
            "|  -122.05|   37.37|              27.0|     3885.0|         661.0|    1537.0|     606.0|       6.6085|          344700.0|         768.5|  3447000.0|\n",
            "|   -118.3|   34.26|              43.0|     1510.0|         310.0|     809.0|     277.0|        3.599|          176500.0|         404.5|  1765000.0|\n",
            "|  -117.81|   33.78|              27.0|     3589.0|         507.0|    1484.0|     495.0|       5.7934|          270500.0|         742.0|  2705000.0|\n",
            "|  -118.36|   33.82|              28.0|       67.0|          15.0|      49.0|      11.0|       6.1359|          330000.0|          24.5|  3300000.0|\n",
            "|  -119.67|   36.33|              19.0|     1241.0|         244.0|     850.0|     237.0|       2.9375|           81700.0|         425.0|   817000.0|\n",
            "|  -119.56|   36.51|              37.0|     1018.0|         213.0|     663.0|     204.0|       1.6635|           67000.0|         331.5|   670000.0|\n",
            "|  -121.43|   38.63|              43.0|     1009.0|         225.0|     604.0|     218.0|       1.6641|           67000.0|         302.0|   670000.0|\n",
            "|  -120.65|   35.48|              19.0|     2310.0|         471.0|    1341.0|     441.0|        3.225|          166900.0|         670.5|  1669000.0|\n",
            "|  -122.84|    38.4|              15.0|     3080.0|         617.0|    1446.0|     599.0|       3.6696|          194400.0|         723.0|  1944000.0|\n",
            "|  -118.02|   34.08|              31.0|     2402.0|         632.0|    2830.0|     603.0|       2.3333|          164200.0|        1415.0|  1642000.0|\n",
            "+---------+--------+------------------+-----------+--------------+----------+----------+-------------+------------------+--------------+-----------+\n",
            "only showing top 10 rows\n",
            "\n"
          ]
        }
      ],
      "source": [
        "df_csv1.withColumn('new_population',col('population')/2).withColumn('house_value',col('median_house_value')*10).show(10)"
      ]
    },
    {
      "cell_type": "markdown",
      "source": [
        "# dropping columns"
      ],
      "metadata": {
        "id": "tw-6bfwaxu15"
      }
    },
    {
      "cell_type": "code",
      "execution_count": null,
      "metadata": {
        "id": "wl0QNcwn-Pba",
        "colab": {
          "base_uri": "https://localhost:8080/"
        },
        "outputId": "6ca304fd-5476-496d-b8cf-8613cc91f8c3"
      },
      "outputs": [
        {
          "output_type": "stream",
          "name": "stdout",
          "text": [
            "+---------+--------+------------------+-----------+--------------+----------+-------------+\n",
            "|longitude|latitude|housing_median_age|total_rooms|total_bedrooms|households|median_income|\n",
            "+---------+--------+------------------+-----------+--------------+----------+-------------+\n",
            "|  -122.05|   37.37|              27.0|     3885.0|         661.0|     606.0|       6.6085|\n",
            "|   -118.3|   34.26|              43.0|     1510.0|         310.0|     277.0|        3.599|\n",
            "|  -117.81|   33.78|              27.0|     3589.0|         507.0|     495.0|       5.7934|\n",
            "|  -118.36|   33.82|              28.0|       67.0|          15.0|      11.0|       6.1359|\n",
            "|  -119.67|   36.33|              19.0|     1241.0|         244.0|     237.0|       2.9375|\n",
            "|  -119.56|   36.51|              37.0|     1018.0|         213.0|     204.0|       1.6635|\n",
            "|  -121.43|   38.63|              43.0|     1009.0|         225.0|     218.0|       1.6641|\n",
            "|  -120.65|   35.48|              19.0|     2310.0|         471.0|     441.0|        3.225|\n",
            "|  -122.84|    38.4|              15.0|     3080.0|         617.0|     599.0|       3.6696|\n",
            "|  -118.02|   34.08|              31.0|     2402.0|         632.0|     603.0|       2.3333|\n",
            "+---------+--------+------------------+-----------+--------------+----------+-------------+\n",
            "only showing top 10 rows\n",
            "\n"
          ]
        }
      ],
      "source": [
        "df_csv1.drop('population','median_house_value').show(10)"
      ]
    },
    {
      "cell_type": "markdown",
      "source": [
        "# Renamed Column Names"
      ],
      "metadata": {
        "id": "j1fnJUdJx32w"
      }
    },
    {
      "cell_type": "code",
      "source": [
        "df_csv1.withColumnRenamed('total_bedrooms','bedrooms').withColumnRenamed('total_rooms','rooms').show(10)"
      ],
      "metadata": {
        "colab": {
          "base_uri": "https://localhost:8080/"
        },
        "id": "Xz5pZTb0yD9g",
        "outputId": "04621e46-cf16-4935-f3ff-87e06d2d8b89"
      },
      "execution_count": null,
      "outputs": [
        {
          "output_type": "stream",
          "name": "stdout",
          "text": [
            "+---------+--------+------------------+------+--------+----------+----------+-------------+------------------+\n",
            "|longitude|latitude|housing_median_age| rooms|bedrooms|population|households|median_income|median_house_value|\n",
            "+---------+--------+------------------+------+--------+----------+----------+-------------+------------------+\n",
            "|  -122.05|   37.37|              27.0|3885.0|   661.0|    1537.0|     606.0|       6.6085|          344700.0|\n",
            "|   -118.3|   34.26|              43.0|1510.0|   310.0|     809.0|     277.0|        3.599|          176500.0|\n",
            "|  -117.81|   33.78|              27.0|3589.0|   507.0|    1484.0|     495.0|       5.7934|          270500.0|\n",
            "|  -118.36|   33.82|              28.0|  67.0|    15.0|      49.0|      11.0|       6.1359|          330000.0|\n",
            "|  -119.67|   36.33|              19.0|1241.0|   244.0|     850.0|     237.0|       2.9375|           81700.0|\n",
            "|  -119.56|   36.51|              37.0|1018.0|   213.0|     663.0|     204.0|       1.6635|           67000.0|\n",
            "|  -121.43|   38.63|              43.0|1009.0|   225.0|     604.0|     218.0|       1.6641|           67000.0|\n",
            "|  -120.65|   35.48|              19.0|2310.0|   471.0|    1341.0|     441.0|        3.225|          166900.0|\n",
            "|  -122.84|    38.4|              15.0|3080.0|   617.0|    1446.0|     599.0|       3.6696|          194400.0|\n",
            "|  -118.02|   34.08|              31.0|2402.0|   632.0|    2830.0|     603.0|       2.3333|          164200.0|\n",
            "+---------+--------+------------------+------+--------+----------+----------+-------------+------------------+\n",
            "only showing top 10 rows\n",
            "\n"
          ]
        }
      ]
    },
    {
      "cell_type": "markdown",
      "source": [
        "# drop null values from dataFrame"
      ],
      "metadata": {
        "id": "4GLWl681eZBr"
      }
    },
    {
      "cell_type": "code",
      "source": [
        "# how = any ,it drops any null value in dataframe\n",
        "df_pipe1 = df_pipe.dropna(how = 'any')\n",
        "df_pipe1.count()\n"
      ],
      "metadata": {
        "colab": {
          "base_uri": "https://localhost:8080/"
        },
        "id": "9adhXB0X2PWR",
        "outputId": "cd1a6489-6430-4566-c0d0-75a70853393d"
      },
      "execution_count": null,
      "outputs": [
        {
          "output_type": "execute_result",
          "data": {
            "text/plain": [
              "21"
            ]
          },
          "metadata": {},
          "execution_count": 36
        }
      ]
    },
    {
      "cell_type": "code",
      "source": [
        "# how =all,drops only all nulls in single row\n",
        "df_pipe2 = df_pipe.dropna(how = 'all')\n",
        "df_pipe2.count()"
      ],
      "metadata": {
        "colab": {
          "base_uri": "https://localhost:8080/"
        },
        "id": "ZiSsk5K13WRZ",
        "outputId": "632ade26-d3ac-446a-d2ad-d3ab3d120894"
      },
      "execution_count": null,
      "outputs": [
        {
          "output_type": "execute_result",
          "data": {
            "text/plain": [
              "30"
            ]
          },
          "metadata": {},
          "execution_count": 37
        }
      ]
    },
    {
      "cell_type": "code",
      "source": [
        "#threshold\n",
        "df_pipe3 = df_pipe.dropna(how = 'any',thresh= 2)\n",
        "\n",
        "df_pipe3.count()"
      ],
      "metadata": {
        "colab": {
          "base_uri": "https://localhost:8080/"
        },
        "id": "oQDRVo363ivI",
        "outputId": "264114b6-3b5f-466d-a57a-1e8ff4fa0800"
      },
      "execution_count": null,
      "outputs": [
        {
          "output_type": "execute_result",
          "data": {
            "text/plain": [
              "30"
            ]
          },
          "metadata": {},
          "execution_count": 38
        }
      ]
    },
    {
      "cell_type": "code",
      "source": [
        "#subset - used to delete particular column null values\n",
        "\n",
        "df_pipe4 = df_pipe.dropna(how = 'any',subset=[\"UPDATED_DATE\"])\n",
        "df_pipe4.count()"
      ],
      "metadata": {
        "colab": {
          "base_uri": "https://localhost:8080/"
        },
        "id": "Mj2lCE0v36g9",
        "outputId": "5756cfc6-51ec-4657-e5c8-4e4526f0de24"
      },
      "execution_count": null,
      "outputs": [
        {
          "output_type": "execute_result",
          "data": {
            "text/plain": [
              "27"
            ]
          },
          "metadata": {},
          "execution_count": 39
        }
      ]
    },
    {
      "cell_type": "markdown",
      "source": [
        "# fill null values in dataFrame"
      ],
      "metadata": {
        "id": "UScc8GJDMusA"
      }
    },
    {
      "cell_type": "code",
      "source": [
        "df_pipe11 = df_pipe.fillna('missing',['ENAME','JOB']).fillna(1,['MGR','SAL']).fillna('12-08-1995',['HIREDATE','UPDATED_DATE'])\n",
        "df_pipe11.show(10)"
      ],
      "metadata": {
        "colab": {
          "base_uri": "https://localhost:8080/"
        },
        "id": "ODGR9ATz7fCu",
        "outputId": "419e2f20-3c61-4e48-e5f5-59935b3cd37b"
      },
      "execution_count": null,
      "outputs": [
        {
          "output_type": "stream",
          "name": "stdout",
          "text": [
            "+-----+-------+---------+----+----------+----+------+------------+\n",
            "|EMPNO|  ENAME|      JOB| MGR|  HIREDATE| SAL|DEPTNO|UPDATED_DATE|\n",
            "+-----+-------+---------+----+----------+----+------+------------+\n",
            "| 7369|  SMITH|    CLERK|7902|17-12-1980| 800|    20|  01-01-2022|\n",
            "| 7499|  ALLEN| SALESMAN|7698|20-02-1981|1600|    30|  02-01-2022|\n",
            "| 7521|   WARD| SALESMAN|7698|22-02-1981|1250|    30|  03-01-2022|\n",
            "| 7566|  JONES|  MANAGER|   1|04-02-1981|2975|    20|  04-01-2022|\n",
            "| 7654|missing|  missing|7698|21-09-1981|   1|    30|  05-01-2022|\n",
            "| 7698|    SGR|  MANAGER|7839|05-01-1981|2850|    30|  06-01-2022|\n",
            "| 7782|   RAVI|  missing|   1|06-09-1981|2450|    10|  07-01-2022|\n",
            "| 7788|  SCOTT|  ANALYST|7566|19-04-1987|3000|    20|  08-01-2022|\n",
            "| 7839|missing|PRESIDENT|   1|12-08-1995|5000|    10|  12-08-1995|\n",
            "| 7844| TURNER| SALESMAN|7698|09-08-1981|1500|    30|  01-02-2022|\n",
            "+-----+-------+---------+----+----------+----+------+------------+\n",
            "only showing top 10 rows\n",
            "\n"
          ]
        }
      ]
    },
    {
      "cell_type": "markdown",
      "source": [
        "# Filter operations"
      ],
      "metadata": {
        "id": "BtR_0aUmWVvw"
      }
    },
    {
      "cell_type": "code",
      "source": [
        "#salary of peeple greter than 1600 -one way\n",
        "\n",
        "df_pipe.filter('SAL>1600').show()"
      ],
      "metadata": {
        "id": "YYtW6tb6WiEp",
        "colab": {
          "base_uri": "https://localhost:8080/"
        },
        "outputId": "7c7eae24-847a-4f76-91df-4f92dd86fa01"
      },
      "execution_count": null,
      "outputs": [
        {
          "output_type": "stream",
          "name": "stdout",
          "text": [
            "+-----+-----+---------+----+----------+----+------+------------+\n",
            "|EMPNO|ENAME|      JOB| MGR|  HIREDATE| SAL|DEPTNO|UPDATED_DATE|\n",
            "+-----+-----+---------+----+----------+----+------+------------+\n",
            "| 7566|JONES|  MANAGER|null|04-02-1981|2975|    20|  04-01-2022|\n",
            "| 7698|  SGR|  MANAGER|7839|05-01-1981|2850|    30|  06-01-2022|\n",
            "| 7782| RAVI|     null|null|06-09-1981|2450|    10|  07-01-2022|\n",
            "| 7788|SCOTT|  ANALYST|7566|19-04-1987|3000|    20|  08-01-2022|\n",
            "| 7839| null|PRESIDENT|null|      null|5000|    10|        null|\n",
            "| 7902| FORD|  ANALYST|7566|12-03-1981|3000|    20|  04-02-2022|\n",
            "| 7566|JONES|  MANAGER|7839|04-02-1981|2975|    20|  01-02-2021|\n",
            "| 7698|  SGR|  MANAGER|7839|05-01-1981|2850|    30|  03-02-2021|\n",
            "| 7782| RAVI|  MANAGER|7839|06-09-1981|2450|    10|  04-02-2021|\n",
            "| 7788|SCOTT|  ANALYST|7566|19-04-1987|3000|    20|  05-02-2021|\n",
            "| 7839| KING|PRESIDENT|null|01-11-1981|5000|    10|  06-02-2021|\n",
            "| 7902| FORD|  ANALYST|7566|12-03-1981|3000|    20|  01-01-2021|\n",
            "+-----+-----+---------+----+----------+----+------+------------+\n",
            "\n"
          ]
        }
      ]
    },
    {
      "cell_type": "code",
      "source": [
        "#salary of peeple greter than 3000 -other way\n",
        "\n",
        "df_pipe.filter(col('SAL')>3000).show()"
      ],
      "metadata": {
        "id": "oicV05Jse2VJ",
        "colab": {
          "base_uri": "https://localhost:8080/"
        },
        "outputId": "45ca0ae6-0389-4be2-ee33-587c2a9055aa"
      },
      "execution_count": null,
      "outputs": [
        {
          "output_type": "stream",
          "name": "stdout",
          "text": [
            "+-----+-----+---------+----+----------+----+------+------------+\n",
            "|EMPNO|ENAME|      JOB| MGR|  HIREDATE| SAL|DEPTNO|UPDATED_DATE|\n",
            "+-----+-----+---------+----+----------+----+------+------------+\n",
            "| 7839| null|PRESIDENT|null|      null|5000|    10|        null|\n",
            "| 7839| KING|PRESIDENT|null|01-11-1981|5000|    10|  06-02-2021|\n",
            "+-----+-----+---------+----+----------+----+------+------------+\n",
            "\n"
          ]
        }
      ]
    },
    {
      "cell_type": "code",
      "source": [
        "#not operator\n",
        "\n",
        "df_pipe.filter(~(col('SAL')>2000)).show(10)"
      ],
      "metadata": {
        "id": "9ui4rTRYfi6E",
        "colab": {
          "base_uri": "https://localhost:8080/"
        },
        "outputId": "e5e14323-147f-47dc-8fef-6a4a4b2c0c56"
      },
      "execution_count": null,
      "outputs": [
        {
          "output_type": "stream",
          "name": "stdout",
          "text": [
            "+-----+------+--------+----+----------+----+------+------------+\n",
            "|EMPNO| ENAME|     JOB| MGR|  HIREDATE| SAL|DEPTNO|UPDATED_DATE|\n",
            "+-----+------+--------+----+----------+----+------+------------+\n",
            "| 7369| SMITH|   CLERK|7902|17-12-1980| 800|    20|  01-01-2022|\n",
            "| 7499| ALLEN|SALESMAN|7698|20-02-1981|1600|    30|  02-01-2022|\n",
            "| 7521|  WARD|SALESMAN|7698|22-02-1981|1250|    30|  03-01-2022|\n",
            "| 7844|TURNER|SALESMAN|7698|09-08-1981|1500|    30|  01-02-2022|\n",
            "| 7876| ADAMS|   CLERK|7788|23-05-1987|1100|    20|  02-02-2022|\n",
            "| 7900| JAMES|   CLERK|7698|12-03-1981| 950|    30|  03-02-2022|\n",
            "| 7934|MILLER|   CLERK|7782|01-03-1982|1300|    10|  05-02-2022|\n",
            "| 1234|SEKHAR|  doctor|7777|      null| 667|    80|  06-02-2022|\n",
            "| 7369| SMITH|   CLERK|7902|17-12-1980| 800|    20|  07-02-2022|\n",
            "| 7499| ALLEN|SALESMAN|7698|20-02-1981|1600|    30|  08-02-2022|\n",
            "+-----+------+--------+----+----------+----+------+------------+\n",
            "only showing top 10 rows\n",
            "\n"
          ]
        }
      ]
    },
    {
      "cell_type": "code",
      "source": [
        "# & operator\n",
        "#show employee details who's salary less than 3000 and salary should be greater than 2000\n",
        "\n",
        "df_pipe.filter( (col('SAL')>2000) & (col('SAL')<3000)).show(10)\n",
        "\n"
      ],
      "metadata": {
        "id": "ddt93mRzZF2T",
        "colab": {
          "base_uri": "https://localhost:8080/"
        },
        "outputId": "fd7f2de7-b88a-4b2e-e185-71bc8b1deeb6"
      },
      "execution_count": null,
      "outputs": [
        {
          "output_type": "stream",
          "name": "stdout",
          "text": [
            "+-----+-----+-------+----+----------+----+------+------------+\n",
            "|EMPNO|ENAME|    JOB| MGR|  HIREDATE| SAL|DEPTNO|UPDATED_DATE|\n",
            "+-----+-----+-------+----+----------+----+------+------------+\n",
            "| 7566|JONES|MANAGER|null|04-02-1981|2975|    20|  04-01-2022|\n",
            "| 7698|  SGR|MANAGER|7839|05-01-1981|2850|    30|  06-01-2022|\n",
            "| 7782| RAVI|   null|null|06-09-1981|2450|    10|  07-01-2022|\n",
            "| 7566|JONES|MANAGER|7839|04-02-1981|2975|    20|  01-02-2021|\n",
            "| 7698|  SGR|MANAGER|7839|05-01-1981|2850|    30|  03-02-2021|\n",
            "| 7782| RAVI|MANAGER|7839|06-09-1981|2450|    10|  04-02-2021|\n",
            "+-----+-----+-------+----+----------+----+------+------------+\n",
            "\n",
            "+-----+------+-----+----+----------+----+------+------------+\n",
            "|EMPNO| ENAME|  JOB| MGR|  HIREDATE| SAL|DEPTNO|UPDATED_DATE|\n",
            "+-----+------+-----+----+----------+----+------+------------+\n",
            "| 7876| ADAMS|CLERK|7788|23-05-1987|1100|    20|  02-02-2022|\n",
            "| 7934|MILLER|CLERK|7782|01-03-1982|1300|    10|  05-02-2022|\n",
            "| 7876| ADAMS|CLERK|7788|23-05-1987|1100|    20|  08-02-2021|\n",
            "| 7934|MILLER|CLERK|7782|01-03-1982|1300|    10|  02-01-2021|\n",
            "+-----+------+-----+----+----------+----+------+------------+\n",
            "\n"
          ]
        }
      ]
    },
    {
      "cell_type": "code",
      "source": [
        "# & operator\n",
        "#show clark employee details who's salary greater than 1000\n",
        "\n",
        "df_pipe.filter( (col('JOB') == 'CLERK') & (col('SAL')>1000)).show(10)"
      ],
      "metadata": {
        "id": "TBBfvxsVbmHT"
      },
      "execution_count": null,
      "outputs": []
    },
    {
      "cell_type": "code",
      "source": [
        "# | operator\n",
        "#show employee details who's salary less than 3000 or salary should be greater than 2000\n",
        "\n",
        "df_pipe.filter( (col('SAL')>2000) | (col('SAL')<3000)).show(10)"
      ],
      "metadata": {
        "id": "2J5ZQNHbbgMe",
        "colab": {
          "base_uri": "https://localhost:8080/"
        },
        "outputId": "adb97166-c99a-46c1-c3d1-4aef9ab3258a"
      },
      "execution_count": null,
      "outputs": [
        {
          "output_type": "stream",
          "name": "stdout",
          "text": [
            "+-----+------+---------+----+----------+----+------+------------+\n",
            "|EMPNO| ENAME|      JOB| MGR|  HIREDATE| SAL|DEPTNO|UPDATED_DATE|\n",
            "+-----+------+---------+----+----------+----+------+------------+\n",
            "| 7369| SMITH|    CLERK|7902|17-12-1980| 800|    20|  01-01-2022|\n",
            "| 7499| ALLEN| SALESMAN|7698|20-02-1981|1600|    30|  02-01-2022|\n",
            "| 7521|  WARD| SALESMAN|7698|22-02-1981|1250|    30|  03-01-2022|\n",
            "| 7566| JONES|  MANAGER|null|04-02-1981|2975|    20|  04-01-2022|\n",
            "| 7698|   SGR|  MANAGER|7839|05-01-1981|2850|    30|  06-01-2022|\n",
            "| 7782|  RAVI|     null|null|06-09-1981|2450|    10|  07-01-2022|\n",
            "| 7788| SCOTT|  ANALYST|7566|19-04-1987|3000|    20|  08-01-2022|\n",
            "| 7839|  null|PRESIDENT|null|      null|5000|    10|        null|\n",
            "| 7844|TURNER| SALESMAN|7698|09-08-1981|1500|    30|  01-02-2022|\n",
            "| 7876| ADAMS|    CLERK|7788|23-05-1987|1100|    20|  02-02-2022|\n",
            "+-----+------+---------+----+----------+----+------+------------+\n",
            "only showing top 10 rows\n",
            "\n"
          ]
        }
      ]
    },
    {
      "cell_type": "markdown",
      "source": [
        "# GroupBy operations"
      ],
      "metadata": {
        "id": "sU7BZJM-Ct1Z"
      }
    },
    {
      "cell_type": "code",
      "source": [
        "#groupby job role and people count\n",
        "df_pipe.groupby('JOB').count().show()"
      ],
      "metadata": {
        "colab": {
          "base_uri": "https://localhost:8080/"
        },
        "id": "84ZeYOqcQIEs",
        "outputId": "1f1c8596-0a41-4c1b-d0b8-aed4b2cfe09c"
      },
      "execution_count": null,
      "outputs": [
        {
          "output_type": "stream",
          "name": "stdout",
          "text": [
            "+---------+-----+\n",
            "|      JOB|count|\n",
            "+---------+-----+\n",
            "|  ANALYST|    4|\n",
            "| SALESMAN|    7|\n",
            "|    CLERK|    9|\n",
            "|     null|    2|\n",
            "|  MANAGER|    5|\n",
            "|PRESIDENT|    2|\n",
            "|   doctor|    1|\n",
            "+---------+-----+\n",
            "\n"
          ]
        }
      ]
    },
    {
      "cell_type": "code",
      "source": [
        "#Group by job role and sum of salaries\n",
        "df_pipe.groupBy('JOB').sum('SAL').show()"
      ],
      "metadata": {
        "colab": {
          "base_uri": "https://localhost:8080/"
        },
        "id": "dGY85vYYQVpt",
        "outputId": "87084248-fa85-4602-f016-fa5396ee5ea5"
      },
      "execution_count": null,
      "outputs": [
        {
          "output_type": "stream",
          "name": "stdout",
          "text": [
            "+---------+--------+\n",
            "|      JOB|sum(SAL)|\n",
            "+---------+--------+\n",
            "|  ANALYST|   12000|\n",
            "| SALESMAN|    9950|\n",
            "|    CLERK|    8794|\n",
            "|     null|    2450|\n",
            "|  MANAGER|   14100|\n",
            "|PRESIDENT|   10000|\n",
            "|   doctor|     667|\n",
            "+---------+--------+\n",
            "\n"
          ]
        }
      ]
    },
    {
      "cell_type": "code",
      "source": [
        "#groupby deptno and people count\n",
        "df_pipe.groupBy('DEPTNO').count().show()"
      ],
      "metadata": {
        "colab": {
          "base_uri": "https://localhost:8080/"
        },
        "id": "9lcdtcnVRiWk",
        "outputId": "cba39747-9a45-4474-9ef2-e826cfce4d3c"
      },
      "execution_count": null,
      "outputs": [
        {
          "output_type": "stream",
          "name": "stdout",
          "text": [
            "+------+-----+\n",
            "|DEPTNO|count|\n",
            "+------+-----+\n",
            "|    20|   10|\n",
            "|    10|    6|\n",
            "|    80|    2|\n",
            "|    30|   12|\n",
            "+------+-----+\n",
            "\n"
          ]
        }
      ]
    },
    {
      "cell_type": "code",
      "source": [
        "#groupby deptno and sum salary\n",
        "df_pipe.groupBy('DEPTNO').sum('SAL').show()"
      ],
      "metadata": {
        "colab": {
          "base_uri": "https://localhost:8080/"
        },
        "id": "uqDqn1jRRQSk",
        "outputId": "da913a71-3684-4c3b-9db1-37548a7e0b89"
      },
      "execution_count": null,
      "outputs": [
        {
          "output_type": "stream",
          "name": "stdout",
          "text": [
            "+------+--------+\n",
            "|DEPTNO|sum(SAL)|\n",
            "+------+--------+\n",
            "|    20|   21750|\n",
            "|    10|   17500|\n",
            "|    80|    1161|\n",
            "|    30|   17550|\n",
            "+------+--------+\n",
            "\n"
          ]
        }
      ]
    },
    {
      "cell_type": "markdown",
      "source": [
        "#sort operations"
      ],
      "metadata": {
        "id": "wpwS2_M1FOuA"
      }
    },
    {
      "cell_type": "code",
      "source": [
        "# sort salary data in low to high\n",
        "df_pipe.sort(df_pipe.SAL.asc()).show(10)"
      ],
      "metadata": {
        "colab": {
          "base_uri": "https://localhost:8080/"
        },
        "id": "w4HqyUqQFOKB",
        "outputId": "44f8f912-2526-4376-dd7f-4b97115b6d4a"
      },
      "execution_count": null,
      "outputs": [
        {
          "output_type": "stream",
          "name": "stdout",
          "text": [
            "+-----+------+--------+----+----------+----+------+------------+\n",
            "|EMPNO| ENAME|     JOB| MGR|  HIREDATE| SAL|DEPTNO|UPDATED_DATE|\n",
            "+-----+------+--------+----+----------+----+------+------------+\n",
            "| 7654|  null|    null|7698|21-09-1981|null|    30|  05-01-2022|\n",
            "| 1234|   RAM|   CLERK|7457|      null| 494|    80|  03-01-2021|\n",
            "| 1234|SEKHAR|  doctor|7777|      null| 667|    80|  06-02-2022|\n",
            "| 7369| SMITH|   CLERK|7902|17-12-1980| 800|    20|  01-01-2022|\n",
            "| 7369| SMITH|   CLERK|7902|17-12-1980| 800|    20|  07-02-2022|\n",
            "| 7900| JAMES|   CLERK|7698|12-03-1981| 950|    30|  03-02-2022|\n",
            "| 7900| JAMES|   CLERK|7698|      null| 950|    30|        null|\n",
            "| 7876| ADAMS|   CLERK|7788|23-05-1987|1100|    20|  02-02-2022|\n",
            "| 7876| ADAMS|   CLERK|7788|23-05-1987|1100|    20|  08-02-2021|\n",
            "| 7521|  WARD|SALESMAN|7698|22-02-1981|1250|    30|  03-01-2022|\n",
            "+-----+------+--------+----+----------+----+------+------------+\n",
            "only showing top 10 rows\n",
            "\n"
          ]
        }
      ]
    },
    {
      "cell_type": "code",
      "source": [
        "# sort salary data in high to low\n",
        "df_pipe.sort(df_pipe.SAL.desc()).show(10)"
      ],
      "metadata": {
        "colab": {
          "base_uri": "https://localhost:8080/"
        },
        "id": "L4jco_wOFYwP",
        "outputId": "91abfc24-7ba4-4648-b628-7dc63327d032"
      },
      "execution_count": null,
      "outputs": [
        {
          "output_type": "stream",
          "name": "stdout",
          "text": [
            "+-----+-----+---------+----+----------+----+------+------------+\n",
            "|EMPNO|ENAME|      JOB| MGR|  HIREDATE| SAL|DEPTNO|UPDATED_DATE|\n",
            "+-----+-----+---------+----+----------+----+------+------------+\n",
            "| 7839| null|PRESIDENT|null|      null|5000|    10|        null|\n",
            "| 7839| KING|PRESIDENT|null|01-11-1981|5000|    10|  06-02-2021|\n",
            "| 7788|SCOTT|  ANALYST|7566|19-04-1987|3000|    20|  08-01-2022|\n",
            "| 7902| FORD|  ANALYST|7566|12-03-1981|3000|    20|  04-02-2022|\n",
            "| 7788|SCOTT|  ANALYST|7566|19-04-1987|3000|    20|  05-02-2021|\n",
            "| 7902| FORD|  ANALYST|7566|12-03-1981|3000|    20|  01-01-2021|\n",
            "| 7566|JONES|  MANAGER|null|04-02-1981|2975|    20|  04-01-2022|\n",
            "| 7566|JONES|  MANAGER|7839|04-02-1981|2975|    20|  01-02-2021|\n",
            "| 7698|  SGR|  MANAGER|7839|05-01-1981|2850|    30|  06-01-2022|\n",
            "| 7698|  SGR|  MANAGER|7839|05-01-1981|2850|    30|  03-02-2021|\n",
            "+-----+-----+---------+----+----------+----+------+------------+\n",
            "only showing top 10 rows\n",
            "\n"
          ]
        }
      ]
    },
    {
      "cell_type": "markdown",
      "source": [
        "# OrderBy operations"
      ],
      "metadata": {
        "id": "o1WxT1VaLbDf"
      }
    },
    {
      "cell_type": "code",
      "source": [
        "df_pipe.orderBy(df_pipe.SAL.asc()).show(10)"
      ],
      "metadata": {
        "colab": {
          "base_uri": "https://localhost:8080/"
        },
        "id": "3H-SauiXLQ7q",
        "outputId": "f812451d-0127-4f61-ac1f-cfc08f0f7625"
      },
      "execution_count": null,
      "outputs": [
        {
          "output_type": "stream",
          "name": "stdout",
          "text": [
            "+-----+------+--------+----+----------+----+------+------------+\n",
            "|EMPNO| ENAME|     JOB| MGR|  HIREDATE| SAL|DEPTNO|UPDATED_DATE|\n",
            "+-----+------+--------+----+----------+----+------+------------+\n",
            "| 7654|  null|    null|7698|21-09-1981|null|    30|  05-01-2022|\n",
            "| 1234|   RAM|   CLERK|7457|      null| 494|    80|  03-01-2021|\n",
            "| 1234|SEKHAR|  doctor|7777|      null| 667|    80|  06-02-2022|\n",
            "| 7369| SMITH|   CLERK|7902|17-12-1980| 800|    20|  01-01-2022|\n",
            "| 7369| SMITH|   CLERK|7902|17-12-1980| 800|    20|  07-02-2022|\n",
            "| 7900| JAMES|   CLERK|7698|12-03-1981| 950|    30|  03-02-2022|\n",
            "| 7900| JAMES|   CLERK|7698|      null| 950|    30|        null|\n",
            "| 7876| ADAMS|   CLERK|7788|23-05-1987|1100|    20|  02-02-2022|\n",
            "| 7876| ADAMS|   CLERK|7788|23-05-1987|1100|    20|  08-02-2021|\n",
            "| 7521|  WARD|SALESMAN|7698|22-02-1981|1250|    30|  03-01-2022|\n",
            "+-----+------+--------+----+----------+----+------+------------+\n",
            "only showing top 10 rows\n",
            "\n"
          ]
        }
      ]
    },
    {
      "cell_type": "markdown",
      "source": [
        "# joins"
      ],
      "metadata": {
        "id": "Mu5ZMoTNVcM9"
      }
    },
    {
      "cell_type": "code",
      "source": [
        "product = spark.read.format('csv').option('header',True).option('inferSchema',True).option('nullValue','null').load('/content/product_info_1.csv')\n",
        "product.show()\n",
        "product.printSchema()"
      ],
      "metadata": {
        "colab": {
          "base_uri": "https://localhost:8080/"
        },
        "id": "s_qXzBsWVfEQ",
        "outputId": "7ab6597c-c906-4b38-cf0f-21502a871a0a"
      },
      "execution_count": null,
      "outputs": [
        {
          "output_type": "stream",
          "name": "stdout",
          "text": [
            "+----------+-------------------+----------+\n",
            "|product_id|       product_name|unit_price|\n",
            "+----------+-------------------+----------+\n",
            "|         1|       Asus Watch 2|       100|\n",
            "|         2| Impex 8975 speaker|       120|\n",
            "|         3|        Asus R558UQ|       500|\n",
            "|         4|          Iphone 11|      1500|\n",
            "|         5|Samsung Galaxy Buds|       100|\n",
            "+----------+-------------------+----------+\n",
            "\n",
            "root\n",
            " |-- product_id: integer (nullable = true)\n",
            " |-- product_name: string (nullable = true)\n",
            " |-- unit_price: integer (nullable = true)\n",
            "\n"
          ]
        }
      ]
    },
    {
      "cell_type": "code",
      "source": [
        "sale = spark.read.format('csv').option('header',True).option('inferSchema',True).option('nullValue','null').load('/content/sales_data_1.csv')\n",
        "sale.show()\n",
        "sale.printSchema()"
      ],
      "metadata": {
        "colab": {
          "base_uri": "https://localhost:8080/"
        },
        "id": "WA-y8lAQVhyV",
        "outputId": "35d75dea-c219-4941-f424-44498e1fd336"
      },
      "execution_count": null,
      "outputs": [
        {
          "output_type": "stream",
          "name": "stdout",
          "text": [
            "+----------+---+----+\n",
            "|product_id|qty|year|\n",
            "+----------+---+----+\n",
            "|         1| 65|2020|\n",
            "|         2| 19|2020|\n",
            "|         3| 44|2020|\n",
            "|         4|  5|2020|\n",
            "|         5| 98|2020|\n",
            "|         5|168|2015|\n",
            "|         3| 40|2016|\n",
            "|         1| 78|2018|\n",
            "|         1|987|2019|\n",
            "|         4|100|2019|\n",
            "|         1| 43|2020|\n",
            "|         5|100|2020|\n",
            "+----------+---+----+\n",
            "\n",
            "root\n",
            " |-- product_id: integer (nullable = true)\n",
            " |-- qty: integer (nullable = true)\n",
            " |-- year: integer (nullable = true)\n",
            "\n"
          ]
        }
      ]
    },
    {
      "cell_type": "markdown",
      "source": [
        "# inner Join"
      ],
      "metadata": {
        "id": "S9R3yBJ8XNN8"
      }
    },
    {
      "cell_type": "code",
      "source": [
        "df_inner = product.join(sale,product.product_id == sale.product_id,'inner')\n",
        "\n",
        "df_inner.show(truncate = False)\n",
        "df_inner.count()"
      ],
      "metadata": {
        "colab": {
          "base_uri": "https://localhost:8080/"
        },
        "id": "eKwD3a9NW6EL",
        "outputId": "2232f037-6d67-4c60-af98-a0ea4ff9d57e"
      },
      "execution_count": null,
      "outputs": [
        {
          "output_type": "stream",
          "name": "stdout",
          "text": [
            "+----------+-------------------+----------+----------+---+----+\n",
            "|product_id|product_name       |unit_price|product_id|qty|year|\n",
            "+----------+-------------------+----------+----------+---+----+\n",
            "|1         |Asus Watch 2       |100       |1         |65 |2020|\n",
            "|2         |Impex 8975 speaker |120       |2         |19 |2020|\n",
            "|3         |Asus R558UQ        |500       |3         |44 |2020|\n",
            "|4         |Iphone 11          |1500      |4         |5  |2020|\n",
            "|5         |Samsung Galaxy Buds|100       |5         |98 |2020|\n",
            "|5         |Samsung Galaxy Buds|100       |5         |168|2015|\n",
            "|3         |Asus R558UQ        |500       |3         |40 |2016|\n",
            "|1         |Asus Watch 2       |100       |1         |78 |2018|\n",
            "|1         |Asus Watch 2       |100       |1         |987|2019|\n",
            "|4         |Iphone 11          |1500      |4         |100|2019|\n",
            "|1         |Asus Watch 2       |100       |1         |43 |2020|\n",
            "|5         |Samsung Galaxy Buds|100       |5         |100|2020|\n",
            "+----------+-------------------+----------+----------+---+----+\n",
            "\n"
          ]
        },
        {
          "output_type": "execute_result",
          "data": {
            "text/plain": [
              "12"
            ]
          },
          "metadata": {},
          "execution_count": 55
        }
      ]
    },
    {
      "cell_type": "markdown",
      "source": [
        "# left join"
      ],
      "metadata": {
        "id": "33U0vHW-aK0a"
      }
    },
    {
      "cell_type": "code",
      "source": [
        "df_left = product.join(sale,product.product_id == sale.product_id,'left')\n",
        "df_left.show(truncate = False)\n",
        "df_left.count()"
      ],
      "metadata": {
        "colab": {
          "base_uri": "https://localhost:8080/"
        },
        "id": "NNJdm3ZwXtu4",
        "outputId": "fe5323c0-7aa9-4aab-a378-8d23a838cee7"
      },
      "execution_count": null,
      "outputs": [
        {
          "output_type": "stream",
          "name": "stdout",
          "text": [
            "+----------+-------------------+----------+----------+---+----+\n",
            "|product_id|product_name       |unit_price|product_id|qty|year|\n",
            "+----------+-------------------+----------+----------+---+----+\n",
            "|1         |Asus Watch 2       |100       |1         |43 |2020|\n",
            "|1         |Asus Watch 2       |100       |1         |987|2019|\n",
            "|1         |Asus Watch 2       |100       |1         |78 |2018|\n",
            "|1         |Asus Watch 2       |100       |1         |65 |2020|\n",
            "|2         |Impex 8975 speaker |120       |2         |19 |2020|\n",
            "|3         |Asus R558UQ        |500       |3         |40 |2016|\n",
            "|3         |Asus R558UQ        |500       |3         |44 |2020|\n",
            "|4         |Iphone 11          |1500      |4         |100|2019|\n",
            "|4         |Iphone 11          |1500      |4         |5  |2020|\n",
            "|5         |Samsung Galaxy Buds|100       |5         |100|2020|\n",
            "|5         |Samsung Galaxy Buds|100       |5         |168|2015|\n",
            "|5         |Samsung Galaxy Buds|100       |5         |98 |2020|\n",
            "+----------+-------------------+----------+----------+---+----+\n",
            "\n"
          ]
        },
        {
          "output_type": "execute_result",
          "data": {
            "text/plain": [
              "12"
            ]
          },
          "metadata": {},
          "execution_count": 56
        }
      ]
    },
    {
      "cell_type": "markdown",
      "source": [
        "# right join"
      ],
      "metadata": {
        "id": "FKHBYCsvaM_s"
      }
    },
    {
      "cell_type": "code",
      "source": [
        "df_right = product.join(sale,product.product_id == sale.product_id,'right')\n",
        "\n",
        "df_right.show(truncate = False)\n"
      ],
      "metadata": {
        "colab": {
          "base_uri": "https://localhost:8080/"
        },
        "id": "4XwkUxdbYjku",
        "outputId": "75ec8926-0a0e-4529-e681-914eed6dcadf"
      },
      "execution_count": null,
      "outputs": [
        {
          "output_type": "stream",
          "name": "stdout",
          "text": [
            "+----------+-------------------+----------+----------+---+----+\n",
            "|product_id|product_name       |unit_price|product_id|qty|year|\n",
            "+----------+-------------------+----------+----------+---+----+\n",
            "|1         |Asus Watch 2       |100       |1         |65 |2020|\n",
            "|2         |Impex 8975 speaker |120       |2         |19 |2020|\n",
            "|3         |Asus R558UQ        |500       |3         |44 |2020|\n",
            "|4         |Iphone 11          |1500      |4         |5  |2020|\n",
            "|5         |Samsung Galaxy Buds|100       |5         |98 |2020|\n",
            "|5         |Samsung Galaxy Buds|100       |5         |168|2015|\n",
            "|3         |Asus R558UQ        |500       |3         |40 |2016|\n",
            "|1         |Asus Watch 2       |100       |1         |78 |2018|\n",
            "|1         |Asus Watch 2       |100       |1         |987|2019|\n",
            "|4         |Iphone 11          |1500      |4         |100|2019|\n",
            "|1         |Asus Watch 2       |100       |1         |43 |2020|\n",
            "|5         |Samsung Galaxy Buds|100       |5         |100|2020|\n",
            "+----------+-------------------+----------+----------+---+----+\n",
            "\n"
          ]
        }
      ]
    },
    {
      "cell_type": "markdown",
      "source": [
        "#how to handle duplicate column error after joining"
      ],
      "metadata": {
        "id": "FxrGrwRQlG7X"
      }
    },
    {
      "cell_type": "code",
      "source": [
        "# BY using drop function avoid duplicate columns after join\n",
        "\n",
        "df_join = product.join(sale, product.product_id == sale.product_id ,'inner').drop(sale.product_id)\n",
        "df_join.show()"
      ],
      "metadata": {
        "colab": {
          "base_uri": "https://localhost:8080/"
        },
        "id": "KYQRMXmblGZR",
        "outputId": "e5da4cdb-56c8-484c-819b-2c50e168e16e"
      },
      "execution_count": null,
      "outputs": [
        {
          "output_type": "stream",
          "name": "stdout",
          "text": [
            "+----------+-------------------+----------+---+----+\n",
            "|product_id|       product_name|unit_price|qty|year|\n",
            "+----------+-------------------+----------+---+----+\n",
            "|         1|       Asus Watch 2|       100| 65|2020|\n",
            "|         2| Impex 8975 speaker|       120| 19|2020|\n",
            "|         3|        Asus R558UQ|       500| 44|2020|\n",
            "|         4|          Iphone 11|      1500|  5|2020|\n",
            "|         5|Samsung Galaxy Buds|       100| 98|2020|\n",
            "|         5|Samsung Galaxy Buds|       100|168|2015|\n",
            "|         3|        Asus R558UQ|       500| 40|2016|\n",
            "|         1|       Asus Watch 2|       100| 78|2018|\n",
            "|         1|       Asus Watch 2|       100|987|2019|\n",
            "|         4|          Iphone 11|      1500|100|2019|\n",
            "|         1|       Asus Watch 2|       100| 43|2020|\n",
            "|         5|Samsung Galaxy Buds|       100|100|2020|\n",
            "+----------+-------------------+----------+---+----+\n",
            "\n"
          ]
        }
      ]
    },
    {
      "cell_type": "markdown",
      "source": [
        "# Save Dataframe into hive table"
      ],
      "metadata": {
        "id": "57FYZECrn3lw"
      }
    },
    {
      "cell_type": "code",
      "source": [
        "df_join.write.partitionBy('product_name').saveAsTable('products_Sales')"
      ],
      "metadata": {
        "id": "-1im3D4Un2Lq"
      },
      "execution_count": null,
      "outputs": []
    },
    {
      "cell_type": "markdown",
      "source": [
        "# Read Dataframe from Hive table"
      ],
      "metadata": {
        "id": "J28XeLhxqVG9"
      }
    },
    {
      "cell_type": "code",
      "source": [
        "ps = spark.read.table('products_Sales')\n",
        "\n",
        "ps.show()"
      ],
      "metadata": {
        "colab": {
          "base_uri": "https://localhost:8080/"
        },
        "id": "awGPV5OPqASM",
        "outputId": "346c260a-3fb0-4881-f984-a861741701ec"
      },
      "execution_count": null,
      "outputs": [
        {
          "output_type": "stream",
          "name": "stdout",
          "text": [
            "+----------+----------+---+----+-------------------+\n",
            "|product_id|unit_price|qty|year|       product_name|\n",
            "+----------+----------+---+----+-------------------+\n",
            "|         5|       100| 98|2020|Samsung Galaxy Buds|\n",
            "|         5|       100|168|2015|Samsung Galaxy Buds|\n",
            "|         5|       100|100|2020|Samsung Galaxy Buds|\n",
            "|         1|       100| 65|2020|       Asus Watch 2|\n",
            "|         1|       100| 78|2018|       Asus Watch 2|\n",
            "|         1|       100|987|2019|       Asus Watch 2|\n",
            "|         1|       100| 43|2020|       Asus Watch 2|\n",
            "|         4|      1500|  5|2020|          Iphone 11|\n",
            "|         4|      1500|100|2019|          Iphone 11|\n",
            "|         3|       500| 44|2020|        Asus R558UQ|\n",
            "|         3|       500| 40|2016|        Asus R558UQ|\n",
            "|         2|       120| 19|2020| Impex 8975 speaker|\n",
            "+----------+----------+---+----+-------------------+\n",
            "\n"
          ]
        }
      ]
    }
  ],
  "metadata": {
    "colab": {
      "collapsed_sections": [
        "NbFalTaBnvmA",
        "p-5j-cMJn7Jz",
        "Y-5-RjNwL94o",
        "Zo_-_Nj_hvsX",
        "HOSZSLuFiLYx",
        "g5IWj-E-pCro",
        "Ugtf0Tb1LaCD",
        "b0yax8KzZR6_",
        "PezsVmyIz2Wh",
        "YM0qyhQ4ytFC",
        "6sWz3tRMip0a",
        "IoEGhBowvpmK",
        "tw-6bfwaxu15",
        "j1fnJUdJx32w",
        "4GLWl681eZBr",
        "UScc8GJDMusA",
        "BtR_0aUmWVvw",
        "wpwS2_M1FOuA",
        "o1WxT1VaLbDf",
        "Mu5ZMoTNVcM9",
        "S9R3yBJ8XNN8",
        "33U0vHW-aK0a",
        "FKHBYCsvaM_s",
        "FxrGrwRQlG7X",
        "J28XeLhxqVG9"
      ],
      "provenance": []
    },
    "kernelspec": {
      "display_name": "Python 3",
      "name": "python3"
    },
    "language_info": {
      "name": "python"
    }
  },
  "nbformat": 4,
  "nbformat_minor": 0
}