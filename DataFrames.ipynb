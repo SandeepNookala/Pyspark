{
  "cells": [
    {
      "cell_type": "markdown",
      "metadata": {
        "id": "NbFalTaBnvmA"
      },
      "source": [
        "#Installing Pyspark in Googlecolab"
      ]
    },
    {
      "cell_type": "code",
      "execution_count": 4,
      "metadata": {
        "colab": {
          "base_uri": "https://localhost:8080/"
        },
        "id": "jmfJcwA4dnM0",
        "outputId": "1b155b10-fa92-4e06-cbaa-9b09d41ddafb"
      },
      "outputs": [
        {
          "output_type": "stream",
          "name": "stdout",
          "text": [
            "Looking in indexes: https://pypi.org/simple, https://us-python.pkg.dev/colab-wheels/public/simple/\n",
            "Requirement already satisfied: pyspark in /usr/local/lib/python3.10/dist-packages (3.4.0)\n",
            "Requirement already satisfied: py4j in /usr/local/lib/python3.10/dist-packages (0.10.9.7)\n"
          ]
        }
      ],
      "source": [
        "!pip install pyspark py4j"
      ]
    },
    {
      "cell_type": "code",
      "source": [
        "from pyspark.sql import SparkSession\n",
        "spark = SparkSession.builder.master('local').appName('DataFrame').getOrCreate()"
      ],
      "metadata": {
        "id": "7PEmep5vMqwF"
      },
      "execution_count": 5,
      "outputs": []
    },
    {
      "cell_type": "markdown",
      "metadata": {
        "id": "p-5j-cMJn7Jz"
      },
      "source": [
        "# Creating new SparkSession"
      ]
    },
    {
      "cell_type": "code",
      "execution_count": 6,
      "metadata": {
        "id": "ufEBg2pueVGM",
        "colab": {
          "base_uri": "https://localhost:8080/",
          "height": 0
        },
        "outputId": "5efeec5e-e741-413f-841c-56f982ec39a1"
      },
      "outputs": [
        {
          "output_type": "execute_result",
          "data": {
            "text/plain": [
              "<pyspark.sql.session.SparkSession at 0x7f54e854b2e0>"
            ],
            "text/html": [
              "\n",
              "            <div>\n",
              "                <p><b>SparkSession - in-memory</b></p>\n",
              "                \n",
              "        <div>\n",
              "            <p><b>SparkContext</b></p>\n",
              "\n",
              "            <p><a href=\"http://ed9670b6c30f:4040\">Spark UI</a></p>\n",
              "\n",
              "            <dl>\n",
              "              <dt>Version</dt>\n",
              "                <dd><code>v3.4.0</code></dd>\n",
              "              <dt>Master</dt>\n",
              "                <dd><code>local</code></dd>\n",
              "              <dt>AppName</dt>\n",
              "                <dd><code>DataFrame</code></dd>\n",
              "            </dl>\n",
              "        </div>\n",
              "        \n",
              "            </div>\n",
              "        "
            ]
          },
          "metadata": {},
          "execution_count": 6
        }
      ],
      "source": [
        "\n",
        "from pyspark.sql import SparkSession\n",
        "spark = SparkSession.builder.master('local').appName('DataFrame').getOrCreate()\n",
        "\n",
        "spark\n"
      ]
    },
    {
      "cell_type": "markdown",
      "source": [
        "# Creating dataFrame from hdfs Location\n",
        "reading data from hdfs remote server"
      ],
      "metadata": {
        "id": "Y-5-RjNwL94o"
      }
    },
    {
      "cell_type": "markdown",
      "source": [
        "\n",
        "\n",
        "df_hdfs = spark.read.format('csv').load('hdfs://172.16.38.131.8020/bigdata/cse/app_prod/cse.app_prod.csv')"
      ],
      "metadata": {
        "id": "eCozdXf8SrG7"
      }
    },
    {
      "cell_type": "markdown",
      "metadata": {
        "id": "Zo_-_Nj_hvsX"
      },
      "source": [
        "# Reading CSV data into dataframe without header, schema?\n",
        "\n",
        "\n",
        "\n",
        "\n"
      ]
    },
    {
      "cell_type": "code",
      "execution_count": 7,
      "metadata": {
        "id": "8X4zgD3PgRyi",
        "colab": {
          "base_uri": "https://localhost:8080/"
        },
        "outputId": "208ed9a1-1ace-44d3-b954-80b5729e4763"
      },
      "outputs": [
        {
          "output_type": "stream",
          "name": "stdout",
          "text": [
            "+-----------+---------+------------------+-----------+--------------+-----------+----------+-------------+------------------+\n",
            "|        _c0|      _c1|               _c2|        _c3|           _c4|        _c5|       _c6|          _c7|               _c8|\n",
            "+-----------+---------+------------------+-----------+--------------+-----------+----------+-------------+------------------+\n",
            "|  longitude| latitude|housing_median_age|total_rooms|total_bedrooms| population|households|median_income|median_house_value|\n",
            "|-122.050000|37.370000|         27.000000|3885.000000|    661.000000|1537.000000|606.000000|     6.608500|     344700.000000|\n",
            "|-118.300000|34.260000|         43.000000|1510.000000|    310.000000| 809.000000|277.000000|     3.599000|     176500.000000|\n",
            "|-117.810000|33.780000|         27.000000|3589.000000|    507.000000|1484.000000|495.000000|     5.793400|     270500.000000|\n",
            "|-118.360000|33.820000|         28.000000|  67.000000|     15.000000|  49.000000| 11.000000|     6.135900|     330000.000000|\n",
            "|-119.670000|36.330000|         19.000000|1241.000000|    244.000000| 850.000000|237.000000|     2.937500|      81700.000000|\n",
            "|-119.560000|36.510000|         37.000000|1018.000000|    213.000000| 663.000000|204.000000|     1.663500|      67000.000000|\n",
            "|-121.430000|38.630000|         43.000000|1009.000000|    225.000000| 604.000000|218.000000|     1.664100|      67000.000000|\n",
            "|-120.650000|35.480000|         19.000000|2310.000000|    471.000000|1341.000000|441.000000|     3.225000|     166900.000000|\n",
            "|-122.840000|38.400000|         15.000000|3080.000000|    617.000000|1446.000000|599.000000|     3.669600|     194400.000000|\n",
            "+-----------+---------+------------------+-----------+--------------+-----------+----------+-------------+------------------+\n",
            "only showing top 10 rows\n",
            "\n"
          ]
        }
      ],
      "source": [
        "df_csv = spark.read.format('csv').load('/content/sample_data/california_housing_test.csv')\n",
        "df_csv.show(10)"
      ]
    },
    {
      "cell_type": "markdown",
      "metadata": {
        "id": "HOSZSLuFiLYx"
      },
      "source": [
        "# Reading csv data into dataframe with Header and schema ?\n",
        "# print dataframe type ,show dataframe,count rows and printSchema?\n",
        "\n"
      ]
    },
    {
      "cell_type": "code",
      "source": [
        "df_csv1 = spark.read.format('csv').option('header',True).option('inferSchema',True).option('nullValue','null').load('/content/sample_data/california_housing_test.csv')\n",
        "\n",
        "type(df_csv1)\n",
        "\n",
        "df_csv1.show(10)\n",
        "\n",
        "df_csv1.count()\n",
        "\n",
        "df_csv1.printSchema()\n"
      ],
      "metadata": {
        "colab": {
          "base_uri": "https://localhost:8080/"
        },
        "id": "LW42vO_IRumM",
        "outputId": "fbae7caf-7c6b-4a99-ef15-cad579232625"
      },
      "execution_count": 9,
      "outputs": [
        {
          "output_type": "stream",
          "name": "stdout",
          "text": [
            "+---------+--------+------------------+-----------+--------------+----------+----------+-------------+------------------+\n",
            "|longitude|latitude|housing_median_age|total_rooms|total_bedrooms|population|households|median_income|median_house_value|\n",
            "+---------+--------+------------------+-----------+--------------+----------+----------+-------------+------------------+\n",
            "|  -122.05|   37.37|              27.0|     3885.0|         661.0|    1537.0|     606.0|       6.6085|          344700.0|\n",
            "|   -118.3|   34.26|              43.0|     1510.0|         310.0|     809.0|     277.0|        3.599|          176500.0|\n",
            "|  -117.81|   33.78|              27.0|     3589.0|         507.0|    1484.0|     495.0|       5.7934|          270500.0|\n",
            "|  -118.36|   33.82|              28.0|       67.0|          15.0|      49.0|      11.0|       6.1359|          330000.0|\n",
            "|  -119.67|   36.33|              19.0|     1241.0|         244.0|     850.0|     237.0|       2.9375|           81700.0|\n",
            "|  -119.56|   36.51|              37.0|     1018.0|         213.0|     663.0|     204.0|       1.6635|           67000.0|\n",
            "|  -121.43|   38.63|              43.0|     1009.0|         225.0|     604.0|     218.0|       1.6641|           67000.0|\n",
            "|  -120.65|   35.48|              19.0|     2310.0|         471.0|    1341.0|     441.0|        3.225|          166900.0|\n",
            "|  -122.84|    38.4|              15.0|     3080.0|         617.0|    1446.0|     599.0|       3.6696|          194400.0|\n",
            "|  -118.02|   34.08|              31.0|     2402.0|         632.0|    2830.0|     603.0|       2.3333|          164200.0|\n",
            "+---------+--------+------------------+-----------+--------------+----------+----------+-------------+------------------+\n",
            "only showing top 10 rows\n",
            "\n",
            "root\n",
            " |-- longitude: double (nullable = true)\n",
            " |-- latitude: double (nullable = true)\n",
            " |-- housing_median_age: double (nullable = true)\n",
            " |-- total_rooms: double (nullable = true)\n",
            " |-- total_bedrooms: double (nullable = true)\n",
            " |-- population: double (nullable = true)\n",
            " |-- households: double (nullable = true)\n",
            " |-- median_income: double (nullable = true)\n",
            " |-- median_house_value: double (nullable = true)\n",
            "\n"
          ]
        }
      ]
    },
    {
      "cell_type": "markdown",
      "metadata": {
        "id": "g5IWj-E-pCro"
      },
      "source": [
        "# Reading csv data into dataframe with Header and schema-(another way) ?"
      ]
    },
    {
      "cell_type": "code",
      "execution_count": 10,
      "metadata": {
        "id": "K-6vm-8ahWjY",
        "colab": {
          "base_uri": "https://localhost:8080/"
        },
        "outputId": "7e2112fd-ff7d-4e5a-be33-efe63b5cc52a"
      },
      "outputs": [
        {
          "output_type": "stream",
          "name": "stdout",
          "text": [
            "+---------+--------+------------------+-----------+--------------+----------+----------+-------------+------------------+\n",
            "|longitude|latitude|housing_median_age|total_rooms|total_bedrooms|population|households|median_income|median_house_value|\n",
            "+---------+--------+------------------+-----------+--------------+----------+----------+-------------+------------------+\n",
            "|  -122.05|   37.37|              27.0|     3885.0|         661.0|    1537.0|     606.0|       6.6085|          344700.0|\n",
            "|   -118.3|   34.26|              43.0|     1510.0|         310.0|     809.0|     277.0|        3.599|          176500.0|\n",
            "|  -117.81|   33.78|              27.0|     3589.0|         507.0|    1484.0|     495.0|       5.7934|          270500.0|\n",
            "|  -118.36|   33.82|              28.0|       67.0|          15.0|      49.0|      11.0|       6.1359|          330000.0|\n",
            "|  -119.67|   36.33|              19.0|     1241.0|         244.0|     850.0|     237.0|       2.9375|           81700.0|\n",
            "|  -119.56|   36.51|              37.0|     1018.0|         213.0|     663.0|     204.0|       1.6635|           67000.0|\n",
            "|  -121.43|   38.63|              43.0|     1009.0|         225.0|     604.0|     218.0|       1.6641|           67000.0|\n",
            "|  -120.65|   35.48|              19.0|     2310.0|         471.0|    1341.0|     441.0|        3.225|          166900.0|\n",
            "|  -122.84|    38.4|              15.0|     3080.0|         617.0|    1446.0|     599.0|       3.6696|          194400.0|\n",
            "|  -118.02|   34.08|              31.0|     2402.0|         632.0|    2830.0|     603.0|       2.3333|          164200.0|\n",
            "+---------+--------+------------------+-----------+--------------+----------+----------+-------------+------------------+\n",
            "only showing top 10 rows\n",
            "\n",
            "root\n",
            " |-- longitude: double (nullable = true)\n",
            " |-- latitude: double (nullable = true)\n",
            " |-- housing_median_age: double (nullable = true)\n",
            " |-- total_rooms: double (nullable = true)\n",
            " |-- total_bedrooms: double (nullable = true)\n",
            " |-- population: double (nullable = true)\n",
            " |-- households: double (nullable = true)\n",
            " |-- median_income: double (nullable = true)\n",
            " |-- median_house_value: double (nullable = true)\n",
            "\n"
          ]
        }
      ],
      "source": [
        "df_another = spark.read.csv('/content/sample_data/california_housing_test.csv',header = True,inferSchema = True)\n",
        "\n",
        "df_another.show(10)\n",
        "df_another.printSchema()"
      ]
    },
    {
      "cell_type": "markdown",
      "source": [],
      "metadata": {
        "id": "Rr9zSeIyYUTE"
      }
    },
    {
      "cell_type": "markdown",
      "source": [
        "# Reading csv dataframe with pipe seprated values ?\n",
        "# show data frame,printSchema, count rows ?"
      ],
      "metadata": {
        "id": "Ugtf0Tb1LaCD"
      }
    },
    {
      "cell_type": "code",
      "source": [
        "df_pipe = spark.read.format('csv').option('sep','|').option('header','true').option('inferSchema',True).option('nullValue','null').load('/content/emp_pipe.txt')\n",
        "df_pipe.show(10)\n",
        "df_pipe.printSchema()\n",
        "df_pipe.count()\n"
      ],
      "metadata": {
        "id": "hj22IJbSUPZt",
        "colab": {
          "base_uri": "https://localhost:8080/"
        },
        "outputId": "daf1587d-46f8-4ede-e813-3e2aa777b690"
      },
      "execution_count": 123,
      "outputs": [
        {
          "output_type": "stream",
          "name": "stdout",
          "text": [
            "+-----+------+---------+----+----------+----+------+------------+\n",
            "|EMPNO| ENAME|      JOB| MGR|  HIREDATE| SAL|DEPTNO|UPDATED_DATE|\n",
            "+-----+------+---------+----+----------+----+------+------------+\n",
            "| 7369| SMITH|    CLERK|7902|17-12-1980| 800|    20|  01-01-2022|\n",
            "| 7499| ALLEN| SALESMAN|7698|20-02-1981|1600|    30|  02-01-2022|\n",
            "| 7521|  WARD| SALESMAN|7698|22-02-1981|1250|    30|  03-01-2022|\n",
            "| 7566| JONES|  MANAGER|null|04-02-1981|2975|    20|  04-01-2022|\n",
            "| 7654|  null|     null|7698|21-09-1981|null|    30|  05-01-2022|\n",
            "| 7698|   SGR|  MANAGER|7839|05-01-1981|2850|    30|  06-01-2022|\n",
            "| 7782|  RAVI|     null|null|06-09-1981|2450|    10|  07-01-2022|\n",
            "| 7788| SCOTT|  ANALYST|7566|19-04-1987|3000|    20|  08-01-2022|\n",
            "| 7839|  null|PRESIDENT|null|      null|5000|    10|        null|\n",
            "| 7844|TURNER| SALESMAN|7698|09-08-1981|1500|    30|  01-02-2022|\n",
            "+-----+------+---------+----+----------+----+------+------------+\n",
            "only showing top 10 rows\n",
            "\n",
            "root\n",
            " |-- EMPNO: integer (nullable = true)\n",
            " |-- ENAME: string (nullable = true)\n",
            " |-- JOB: string (nullable = true)\n",
            " |-- MGR: integer (nullable = true)\n",
            " |-- HIREDATE: string (nullable = true)\n",
            " |-- SAL: integer (nullable = true)\n",
            " |-- DEPTNO: integer (nullable = true)\n",
            " |-- UPDATED_DATE: string (nullable = true)\n",
            "\n"
          ]
        },
        {
          "output_type": "execute_result",
          "data": {
            "text/plain": [
              "30"
            ]
          },
          "metadata": {},
          "execution_count": 123
        }
      ]
    },
    {
      "cell_type": "markdown",
      "source": [
        "# how to handle double delimiter files"
      ],
      "metadata": {
        "id": "qFntZuWyYY0j"
      }
    },
    {
      "cell_type": "markdown",
      "source": [
        "# Reading csv dataframe with double pipe seprated values ?\n",
        "# show data frame,printSchema, count rows ?"
      ],
      "metadata": {
        "id": "b0yax8KzZR6_"
      }
    },
    {
      "cell_type": "code",
      "source": [
        "df_double = spark.read.format('csv').option('sep','||').option('header',True).option('inferSchema',True).option('nullValue','null').load('/content/emp_double_pipe.txt')\n",
        "\n",
        "df_double.show(10)\n",
        "\n",
        "df_double.printSchema()\n",
        "\n",
        "df_double.count()"
      ],
      "metadata": {
        "colab": {
          "base_uri": "https://localhost:8080/"
        },
        "id": "q8lf3sTMYfFV",
        "outputId": "da479cde-0e3a-4dc8-e54b-ab2fd2ec65e7"
      },
      "execution_count": 12,
      "outputs": [
        {
          "output_type": "stream",
          "name": "stdout",
          "text": [
            "+-----+------+---------+----+----------+----+------+------------+\n",
            "|EMPNO| ENAME|      JOB| MGR|  HIREDATE| SAL|DEPTNO|UPDATED_DATE|\n",
            "+-----+------+---------+----+----------+----+------+------------+\n",
            "| 7369| SMITH|    CLERK|7902|17-12-1980| 800|    20|  01-01-2022|\n",
            "| 7499| ALLEN| SALESMAN|7698|20-02-1981|1600|    30|  02-01-2022|\n",
            "| 7521|  WARD| SALESMAN|7698|22-02-1981|1250|    30|  03-01-2022|\n",
            "| 7566| JONES|  MANAGER|7839|04-02-1981|2975|    20|  04-01-2022|\n",
            "| 7654|MARTIN| SALESMAN|7698|21-09-1981|1250|    30|  05-01-2022|\n",
            "| 7698|   SGR|  MANAGER|7839|05-01-1981|2850|    30|  06-01-2022|\n",
            "| 7782|  RAVI|  MANAGER|7839|06-09-1981|2450|    10|  07-01-2022|\n",
            "| 7788| SCOTT|  ANALYST|7566|19-04-1987|3000|    20|  08-01-2022|\n",
            "| 7839|  KING|PRESIDENT|null|      null|5000|    10|        null|\n",
            "| 7844|TURNER| SALESMAN|7698|09-08-1981|1500|    30|  01-02-2022|\n",
            "+-----+------+---------+----+----------+----+------+------------+\n",
            "only showing top 10 rows\n",
            "\n",
            "root\n",
            " |-- EMPNO: integer (nullable = true)\n",
            " |-- ENAME: string (nullable = true)\n",
            " |-- JOB: string (nullable = true)\n",
            " |-- MGR: integer (nullable = true)\n",
            " |-- HIREDATE: string (nullable = true)\n",
            " |-- SAL: integer (nullable = true)\n",
            " |-- DEPTNO: integer (nullable = true)\n",
            " |-- UPDATED_DATE: string (nullable = true)\n",
            "\n"
          ]
        },
        {
          "output_type": "execute_result",
          "data": {
            "text/plain": [
              "30"
            ]
          },
          "metadata": {},
          "execution_count": 12
        }
      ]
    },
    {
      "cell_type": "markdown",
      "source": [
        "# Inspect Data\n",
        "\n",
        "\n",
        "\n"
      ],
      "metadata": {
        "id": "PezsVmyIz2Wh"
      }
    },
    {
      "cell_type": "code",
      "source": [
        "# display Content of df\n",
        "\n",
        "df_csv1.show(10)"
      ],
      "metadata": {
        "colab": {
          "base_uri": "https://localhost:8080/"
        },
        "id": "WxSlaaEu0vJ6",
        "outputId": "0388f3c0-329c-431b-a7db-2f54ced7e89f"
      },
      "execution_count": 13,
      "outputs": [
        {
          "output_type": "stream",
          "name": "stdout",
          "text": [
            "+---------+--------+------------------+-----------+--------------+----------+----------+-------------+------------------+\n",
            "|longitude|latitude|housing_median_age|total_rooms|total_bedrooms|population|households|median_income|median_house_value|\n",
            "+---------+--------+------------------+-----------+--------------+----------+----------+-------------+------------------+\n",
            "|  -122.05|   37.37|              27.0|     3885.0|         661.0|    1537.0|     606.0|       6.6085|          344700.0|\n",
            "|   -118.3|   34.26|              43.0|     1510.0|         310.0|     809.0|     277.0|        3.599|          176500.0|\n",
            "|  -117.81|   33.78|              27.0|     3589.0|         507.0|    1484.0|     495.0|       5.7934|          270500.0|\n",
            "|  -118.36|   33.82|              28.0|       67.0|          15.0|      49.0|      11.0|       6.1359|          330000.0|\n",
            "|  -119.67|   36.33|              19.0|     1241.0|         244.0|     850.0|     237.0|       2.9375|           81700.0|\n",
            "|  -119.56|   36.51|              37.0|     1018.0|         213.0|     663.0|     204.0|       1.6635|           67000.0|\n",
            "|  -121.43|   38.63|              43.0|     1009.0|         225.0|     604.0|     218.0|       1.6641|           67000.0|\n",
            "|  -120.65|   35.48|              19.0|     2310.0|         471.0|    1341.0|     441.0|        3.225|          166900.0|\n",
            "|  -122.84|    38.4|              15.0|     3080.0|         617.0|    1446.0|     599.0|       3.6696|          194400.0|\n",
            "|  -118.02|   34.08|              31.0|     2402.0|         632.0|    2830.0|     603.0|       2.3333|          164200.0|\n",
            "+---------+--------+------------------+-----------+--------------+----------+----------+-------------+------------------+\n",
            "only showing top 10 rows\n",
            "\n"
          ]
        }
      ]
    },
    {
      "cell_type": "code",
      "source": [
        "# display Schema\n",
        "df_csv1.printSchema()"
      ],
      "metadata": {
        "colab": {
          "base_uri": "https://localhost:8080/"
        },
        "id": "PmYZtI0e0xtD",
        "outputId": "45c989bf-289a-4706-918c-65b6525cee36"
      },
      "execution_count": 14,
      "outputs": [
        {
          "output_type": "stream",
          "name": "stdout",
          "text": [
            "root\n",
            " |-- longitude: double (nullable = true)\n",
            " |-- latitude: double (nullable = true)\n",
            " |-- housing_median_age: double (nullable = true)\n",
            " |-- total_rooms: double (nullable = true)\n",
            " |-- total_bedrooms: double (nullable = true)\n",
            " |-- population: double (nullable = true)\n",
            " |-- households: double (nullable = true)\n",
            " |-- median_income: double (nullable = true)\n",
            " |-- median_house_value: double (nullable = true)\n",
            "\n"
          ]
        }
      ]
    },
    {
      "cell_type": "code",
      "source": [
        "#first row\n",
        "df_csv1.first()"
      ],
      "metadata": {
        "colab": {
          "base_uri": "https://localhost:8080/"
        },
        "id": "QyRibpDB2coS",
        "outputId": "f3b87363-bbd3-4d03-fc8f-2b6d978ca008"
      },
      "execution_count": 15,
      "outputs": [
        {
          "output_type": "execute_result",
          "data": {
            "text/plain": [
              "Row(longitude=-122.05, latitude=37.37, housing_median_age=27.0, total_rooms=3885.0, total_bedrooms=661.0, population=1537.0, households=606.0, median_income=6.6085, median_house_value=344700.0)"
            ]
          },
          "metadata": {},
          "execution_count": 15
        }
      ]
    },
    {
      "cell_type": "code",
      "source": [
        "#head values\n",
        "\n",
        "df_csv1.head()"
      ],
      "metadata": {
        "colab": {
          "base_uri": "https://localhost:8080/"
        },
        "id": "A8dHzAoF15V6",
        "outputId": "6361bb17-67bf-4813-b395-17000558d7e6"
      },
      "execution_count": 16,
      "outputs": [
        {
          "output_type": "execute_result",
          "data": {
            "text/plain": [
              "Row(longitude=-122.05, latitude=37.37, housing_median_age=27.0, total_rooms=3885.0, total_bedrooms=661.0, population=1537.0, households=606.0, median_income=6.6085, median_house_value=344700.0)"
            ]
          },
          "metadata": {},
          "execution_count": 16
        }
      ]
    },
    {
      "cell_type": "code",
      "source": [
        "#tail values\n",
        "\n",
        "df_csv1.tail(1)\n"
      ],
      "metadata": {
        "colab": {
          "base_uri": "https://localhost:8080/"
        },
        "id": "x-8UO0Ck1-oC",
        "outputId": "9fbd115d-f4cd-42c5-d0fa-9ce11b15a435"
      },
      "execution_count": 17,
      "outputs": [
        {
          "output_type": "execute_result",
          "data": {
            "text/plain": [
              "[Row(longitude=-119.63, latitude=34.42, housing_median_age=42.0, total_rooms=1765.0, total_bedrooms=263.0, population=753.0, households=260.0, median_income=8.5608, median_house_value=500001.0)]"
            ]
          },
          "metadata": {},
          "execution_count": 17
        }
      ]
    },
    {
      "cell_type": "code",
      "source": [
        "#takes some random from dataframe\n",
        "\n",
        "df_csv1.take(2)\n"
      ],
      "metadata": {
        "colab": {
          "base_uri": "https://localhost:8080/"
        },
        "id": "ae4nPXVB2Lq4",
        "outputId": "c378f70f-9be1-458d-ded0-c96037f17f66"
      },
      "execution_count": 18,
      "outputs": [
        {
          "output_type": "execute_result",
          "data": {
            "text/plain": [
              "[Row(longitude=-122.05, latitude=37.37, housing_median_age=27.0, total_rooms=3885.0, total_bedrooms=661.0, population=1537.0, households=606.0, median_income=6.6085, median_house_value=344700.0),\n",
              " Row(longitude=-118.3, latitude=34.26, housing_median_age=43.0, total_rooms=1510.0, total_bedrooms=310.0, population=809.0, households=277.0, median_income=3.599, median_house_value=176500.0)]"
            ]
          },
          "metadata": {},
          "execution_count": 18
        }
      ]
    },
    {
      "cell_type": "code",
      "source": [
        "# return column names and data types\n",
        "\n",
        "df_csv1.dtypes\n"
      ],
      "metadata": {
        "colab": {
          "base_uri": "https://localhost:8080/"
        },
        "id": "pshboCyi2o9n",
        "outputId": "4deec6f5-9457-4c0a-ab41-7a49636c22a4"
      },
      "execution_count": 19,
      "outputs": [
        {
          "output_type": "execute_result",
          "data": {
            "text/plain": [
              "[('longitude', 'double'),\n",
              " ('latitude', 'double'),\n",
              " ('housing_median_age', 'double'),\n",
              " ('total_rooms', 'double'),\n",
              " ('total_bedrooms', 'double'),\n",
              " ('population', 'double'),\n",
              " ('households', 'double'),\n",
              " ('median_income', 'double'),\n",
              " ('median_house_value', 'double')]"
            ]
          },
          "metadata": {},
          "execution_count": 19
        }
      ]
    },
    {
      "cell_type": "code",
      "source": [
        "# compute summery satistics for dataframe\n",
        "\n",
        "df_csv1.describe().show()\n"
      ],
      "metadata": {
        "colab": {
          "base_uri": "https://localhost:8080/"
        },
        "id": "KZDDdGFA26qI",
        "outputId": "ad4d3c91-c0d7-4a12-bd85-6869807a84d0"
      },
      "execution_count": 20,
      "outputs": [
        {
          "output_type": "stream",
          "name": "stdout",
          "text": [
            "+-------+-------------------+------------------+------------------+-----------------+------------------+------------------+------------------+------------------+------------------+\n",
            "|summary|          longitude|          latitude|housing_median_age|      total_rooms|    total_bedrooms|        population|        households|     median_income|median_house_value|\n",
            "+-------+-------------------+------------------+------------------+-----------------+------------------+------------------+------------------+------------------+------------------+\n",
            "|  count|               3000|              3000|              3000|             3000|              3000|              3000|              3000|              3000|              3000|\n",
            "|   mean|-119.58920000000029| 35.63538999999999|28.845333333333333|2599.578666666667| 529.9506666666666|1402.7986666666666|           489.912| 3.807271799999998|        205846.275|\n",
            "| stddev| 1.9949362939550166|2.1296695233438334|12.555395554955757|2155.593331625582|415.65436813632306|1030.5430124122424|365.42270980552615|1.8545117296914775|113119.68746964622|\n",
            "|    min|            -124.18|             32.56|               1.0|              6.0|               2.0|               5.0|               2.0|            0.4999|           22500.0|\n",
            "|    max|            -114.49|             41.92|              52.0|          30450.0|            5419.0|           11935.0|            4930.0|           15.0001|          500001.0|\n",
            "+-------+-------------------+------------------+------------------+-----------------+------------------+------------------+------------------+------------------+------------------+\n",
            "\n"
          ]
        }
      ]
    },
    {
      "cell_type": "code",
      "source": [
        "#count no.of rows\n",
        "\n",
        "df_csv1.count()"
      ],
      "metadata": {
        "colab": {
          "base_uri": "https://localhost:8080/"
        },
        "id": "NyNR-Fd-3KwH",
        "outputId": "10aee954-fe2b-4c1e-a97c-eb683c99b263"
      },
      "execution_count": 21,
      "outputs": [
        {
          "output_type": "execute_result",
          "data": {
            "text/plain": [
              "3000"
            ]
          },
          "metadata": {},
          "execution_count": 21
        }
      ]
    },
    {
      "cell_type": "code",
      "source": [
        "#count distinct no.of rows\n",
        "\n",
        "df_csv1.distinct().count()\n",
        "\n"
      ],
      "metadata": {
        "colab": {
          "base_uri": "https://localhost:8080/"
        },
        "id": "UQwPdWt73qla",
        "outputId": "bb19ea2d-5bb7-4265-e9f5-13f16e4707c8"
      },
      "execution_count": 22,
      "outputs": [
        {
          "output_type": "execute_result",
          "data": {
            "text/plain": [
              "3000"
            ]
          },
          "metadata": {},
          "execution_count": 22
        }
      ]
    },
    {
      "cell_type": "code",
      "source": [
        "#explain physical plan and logical plan\n",
        "\n",
        "df_csv1.explain()\n"
      ],
      "metadata": {
        "colab": {
          "base_uri": "https://localhost:8080/"
        },
        "id": "2yvL7Nsv32Sa",
        "outputId": "cf1542ee-c06a-4d7c-adb7-81b538887161"
      },
      "execution_count": 23,
      "outputs": [
        {
          "output_type": "stream",
          "name": "stdout",
          "text": [
            "== Physical Plan ==\n",
            "FileScan csv [longitude#181,latitude#182,housing_median_age#183,total_rooms#184,total_bedrooms#185,population#186,households#187,median_income#188,median_house_value#189] Batched: false, DataFilters: [], Format: CSV, Location: InMemoryFileIndex(1 paths)[file:/content/sample_data/california_housing_test.csv], PartitionFilters: [], PushedFilters: [], ReadSchema: struct<longitude:double,latitude:double,housing_median_age:double,total_rooms:double,total_bedroo...\n",
            "\n",
            "\n"
          ]
        }
      ]
    },
    {
      "cell_type": "code",
      "source": [
        "#All table columns Names\n",
        "\n",
        "df_csv1.columns"
      ],
      "metadata": {
        "colab": {
          "base_uri": "https://localhost:8080/"
        },
        "id": "bkOFMpMjkdfC",
        "outputId": "529a1dd0-863a-409d-ba13-0f2555f530f6"
      },
      "execution_count": 26,
      "outputs": [
        {
          "output_type": "execute_result",
          "data": {
            "text/plain": [
              "['longitude',\n",
              " 'latitude',\n",
              " 'housing_median_age',\n",
              " 'total_rooms',\n",
              " 'total_bedrooms',\n",
              " 'population',\n",
              " 'households',\n",
              " 'median_income',\n",
              " 'median_house_value']"
            ]
          },
          "metadata": {},
          "execution_count": 26
        }
      ]
    },
    {
      "cell_type": "code",
      "source": [
        "df_csv1.columns"
      ],
      "metadata": {
        "colab": {
          "base_uri": "https://localhost:8080/"
        },
        "id": "enUIieuslh0K",
        "outputId": "20257cf2-17c6-4bd4-d2ba-0b1e0e05b550"
      },
      "execution_count": 48,
      "outputs": [
        {
          "output_type": "execute_result",
          "data": {
            "text/plain": [
              "['longitude',\n",
              " 'latitude',\n",
              " 'housing_median_age',\n",
              " 'total_rooms',\n",
              " 'total_bedrooms',\n",
              " 'population',\n",
              " 'households',\n",
              " 'median_income',\n",
              " 'median_house_value']"
            ]
          },
          "metadata": {},
          "execution_count": 48
        }
      ]
    },
    {
      "cell_type": "markdown",
      "source": [
        "# import functions"
      ],
      "metadata": {
        "id": "YM0qyhQ4ytFC"
      }
    },
    {
      "cell_type": "code",
      "source": [
        "from pyspark.sql.functions import *"
      ],
      "metadata": {
        "id": "EirQACPxywK3"
      },
      "execution_count": null,
      "outputs": []
    },
    {
      "cell_type": "markdown",
      "source": [
        "# select"
      ],
      "metadata": {
        "id": "6sWz3tRMip0a"
      }
    },
    {
      "cell_type": "code",
      "source": [
        "df_csv1.select(col('population')/2,'total_rooms',col('median_house_value')*10).show(10)"
      ],
      "metadata": {
        "colab": {
          "base_uri": "https://localhost:8080/"
        },
        "id": "cwf3oyf1suea",
        "outputId": "7965c412-5b0c-43b0-b084-da453e2185cf"
      },
      "execution_count": 85,
      "outputs": [
        {
          "output_type": "stream",
          "name": "stdout",
          "text": [
            "+----------------+-----------+-------------------------+\n",
            "|(population / 2)|total_rooms|(median_house_value * 10)|\n",
            "+----------------+-----------+-------------------------+\n",
            "|           768.5|     3885.0|                3447000.0|\n",
            "|           404.5|     1510.0|                1765000.0|\n",
            "|           742.0|     3589.0|                2705000.0|\n",
            "|            24.5|       67.0|                3300000.0|\n",
            "|           425.0|     1241.0|                 817000.0|\n",
            "|           331.5|     1018.0|                 670000.0|\n",
            "|           302.0|     1009.0|                 670000.0|\n",
            "|           670.5|     2310.0|                1669000.0|\n",
            "|           723.0|     3080.0|                1944000.0|\n",
            "|          1415.0|     2402.0|                1642000.0|\n",
            "+----------------+-----------+-------------------------+\n",
            "only showing top 10 rows\n",
            "\n"
          ]
        }
      ]
    },
    {
      "cell_type": "code",
      "source": [
        "df_csv1.select([col('population')/2,'total_rooms',col('median_house_value')*10]).show(10)"
      ],
      "metadata": {
        "colab": {
          "base_uri": "https://localhost:8080/"
        },
        "id": "4z3-P0twqIxx",
        "outputId": "8dcf4bdb-e134-49d3-d742-8693e2d736fa"
      },
      "execution_count": 86,
      "outputs": [
        {
          "output_type": "stream",
          "name": "stdout",
          "text": [
            "+----------------+-----------+-------------------------+\n",
            "|(population / 2)|total_rooms|(median_house_value * 10)|\n",
            "+----------------+-----------+-------------------------+\n",
            "|           768.5|     3885.0|                3447000.0|\n",
            "|           404.5|     1510.0|                1765000.0|\n",
            "|           742.0|     3589.0|                2705000.0|\n",
            "|            24.5|       67.0|                3300000.0|\n",
            "|           425.0|     1241.0|                 817000.0|\n",
            "|           331.5|     1018.0|                 670000.0|\n",
            "|           302.0|     1009.0|                 670000.0|\n",
            "|           670.5|     2310.0|                1669000.0|\n",
            "|           723.0|     3080.0|                1944000.0|\n",
            "|          1415.0|     2402.0|                1642000.0|\n",
            "+----------------+-----------+-------------------------+\n",
            "only showing top 10 rows\n",
            "\n"
          ]
        }
      ]
    },
    {
      "cell_type": "markdown",
      "source": [
        "# Adding new columns\n"
      ],
      "metadata": {
        "id": "IoEGhBowvpmK"
      }
    },
    {
      "cell_type": "code",
      "execution_count": 88,
      "metadata": {
        "id": "yxgI2Oze8fxW",
        "colab": {
          "base_uri": "https://localhost:8080/"
        },
        "outputId": "171b336b-c86e-428c-a66b-935bc1b83dce"
      },
      "outputs": [
        {
          "output_type": "stream",
          "name": "stdout",
          "text": [
            "+---------+--------+------------------+-----------+--------------+----------+----------+-------------+------------------+--------------+-----------+\n",
            "|longitude|latitude|housing_median_age|total_rooms|total_bedrooms|population|households|median_income|median_house_value|new_population|house_value|\n",
            "+---------+--------+------------------+-----------+--------------+----------+----------+-------------+------------------+--------------+-----------+\n",
            "|  -122.05|   37.37|              27.0|     3885.0|         661.0|    1537.0|     606.0|       6.6085|          344700.0|         768.5|  3447000.0|\n",
            "|   -118.3|   34.26|              43.0|     1510.0|         310.0|     809.0|     277.0|        3.599|          176500.0|         404.5|  1765000.0|\n",
            "|  -117.81|   33.78|              27.0|     3589.0|         507.0|    1484.0|     495.0|       5.7934|          270500.0|         742.0|  2705000.0|\n",
            "|  -118.36|   33.82|              28.0|       67.0|          15.0|      49.0|      11.0|       6.1359|          330000.0|          24.5|  3300000.0|\n",
            "|  -119.67|   36.33|              19.0|     1241.0|         244.0|     850.0|     237.0|       2.9375|           81700.0|         425.0|   817000.0|\n",
            "|  -119.56|   36.51|              37.0|     1018.0|         213.0|     663.0|     204.0|       1.6635|           67000.0|         331.5|   670000.0|\n",
            "|  -121.43|   38.63|              43.0|     1009.0|         225.0|     604.0|     218.0|       1.6641|           67000.0|         302.0|   670000.0|\n",
            "|  -120.65|   35.48|              19.0|     2310.0|         471.0|    1341.0|     441.0|        3.225|          166900.0|         670.5|  1669000.0|\n",
            "|  -122.84|    38.4|              15.0|     3080.0|         617.0|    1446.0|     599.0|       3.6696|          194400.0|         723.0|  1944000.0|\n",
            "|  -118.02|   34.08|              31.0|     2402.0|         632.0|    2830.0|     603.0|       2.3333|          164200.0|        1415.0|  1642000.0|\n",
            "+---------+--------+------------------+-----------+--------------+----------+----------+-------------+------------------+--------------+-----------+\n",
            "only showing top 10 rows\n",
            "\n"
          ]
        }
      ],
      "source": [
        "df_csv1.withColumn('new_population',col('population')/2).withColumn('house_value',col('median_house_value')*10).show(10)"
      ]
    },
    {
      "cell_type": "markdown",
      "source": [
        "# dropping columns"
      ],
      "metadata": {
        "id": "tw-6bfwaxu15"
      }
    },
    {
      "cell_type": "code",
      "execution_count": 89,
      "metadata": {
        "id": "wl0QNcwn-Pba",
        "colab": {
          "base_uri": "https://localhost:8080/"
        },
        "outputId": "ce471398-781a-4193-c51e-5013cd0e9129"
      },
      "outputs": [
        {
          "output_type": "stream",
          "name": "stdout",
          "text": [
            "+---------+--------+------------------+-----------+--------------+----------+-------------+\n",
            "|longitude|latitude|housing_median_age|total_rooms|total_bedrooms|households|median_income|\n",
            "+---------+--------+------------------+-----------+--------------+----------+-------------+\n",
            "|  -122.05|   37.37|              27.0|     3885.0|         661.0|     606.0|       6.6085|\n",
            "|   -118.3|   34.26|              43.0|     1510.0|         310.0|     277.0|        3.599|\n",
            "|  -117.81|   33.78|              27.0|     3589.0|         507.0|     495.0|       5.7934|\n",
            "|  -118.36|   33.82|              28.0|       67.0|          15.0|      11.0|       6.1359|\n",
            "|  -119.67|   36.33|              19.0|     1241.0|         244.0|     237.0|       2.9375|\n",
            "|  -119.56|   36.51|              37.0|     1018.0|         213.0|     204.0|       1.6635|\n",
            "|  -121.43|   38.63|              43.0|     1009.0|         225.0|     218.0|       1.6641|\n",
            "|  -120.65|   35.48|              19.0|     2310.0|         471.0|     441.0|        3.225|\n",
            "|  -122.84|    38.4|              15.0|     3080.0|         617.0|     599.0|       3.6696|\n",
            "|  -118.02|   34.08|              31.0|     2402.0|         632.0|     603.0|       2.3333|\n",
            "+---------+--------+------------------+-----------+--------------+----------+-------------+\n",
            "only showing top 10 rows\n",
            "\n"
          ]
        }
      ],
      "source": [
        "df_csv1.drop('population','median_house_value').show(10)"
      ]
    },
    {
      "cell_type": "markdown",
      "source": [
        "# Renamed Column Names"
      ],
      "metadata": {
        "id": "j1fnJUdJx32w"
      }
    },
    {
      "cell_type": "code",
      "source": [
        "df_csv1.withColumnRenamed('total_bedrooms','bedrooms').withColumnRenamed('total_rooms','rooms').show(10)"
      ],
      "metadata": {
        "colab": {
          "base_uri": "https://localhost:8080/"
        },
        "id": "Xz5pZTb0yD9g",
        "outputId": "8760caf0-8bb1-48cf-e9f9-699914372251"
      },
      "execution_count": 94,
      "outputs": [
        {
          "output_type": "stream",
          "name": "stdout",
          "text": [
            "+---------+--------+------------------+------+--------+----------+----------+-------------+------------------+\n",
            "|longitude|latitude|housing_median_age| rooms|bedrooms|population|households|median_income|median_house_value|\n",
            "+---------+--------+------------------+------+--------+----------+----------+-------------+------------------+\n",
            "|  -122.05|   37.37|              27.0|3885.0|   661.0|    1537.0|     606.0|       6.6085|          344700.0|\n",
            "|   -118.3|   34.26|              43.0|1510.0|   310.0|     809.0|     277.0|        3.599|          176500.0|\n",
            "|  -117.81|   33.78|              27.0|3589.0|   507.0|    1484.0|     495.0|       5.7934|          270500.0|\n",
            "|  -118.36|   33.82|              28.0|  67.0|    15.0|      49.0|      11.0|       6.1359|          330000.0|\n",
            "|  -119.67|   36.33|              19.0|1241.0|   244.0|     850.0|     237.0|       2.9375|           81700.0|\n",
            "|  -119.56|   36.51|              37.0|1018.0|   213.0|     663.0|     204.0|       1.6635|           67000.0|\n",
            "|  -121.43|   38.63|              43.0|1009.0|   225.0|     604.0|     218.0|       1.6641|           67000.0|\n",
            "|  -120.65|   35.48|              19.0|2310.0|   471.0|    1341.0|     441.0|        3.225|          166900.0|\n",
            "|  -122.84|    38.4|              15.0|3080.0|   617.0|    1446.0|     599.0|       3.6696|          194400.0|\n",
            "|  -118.02|   34.08|              31.0|2402.0|   632.0|    2830.0|     603.0|       2.3333|          164200.0|\n",
            "+---------+--------+------------------+------+--------+----------+----------+-------------+------------------+\n",
            "only showing top 10 rows\n",
            "\n"
          ]
        }
      ]
    },
    {
      "cell_type": "markdown",
      "source": [
        "# drop null values from dataFrame"
      ],
      "metadata": {
        "id": "4GLWl681eZBr"
      }
    },
    {
      "cell_type": "code",
      "source": [
        "# how = any ,it drops any null value in dataframe\n",
        "df_pipe1 = df_pipe.dropna(how = 'any')\n",
        "df_pipe1.count()\n"
      ],
      "metadata": {
        "colab": {
          "base_uri": "https://localhost:8080/"
        },
        "id": "9adhXB0X2PWR",
        "outputId": "824e3586-1dcd-4b31-f4d1-83f5e7bd7c6b"
      },
      "execution_count": 112,
      "outputs": [
        {
          "output_type": "execute_result",
          "data": {
            "text/plain": [
              "24"
            ]
          },
          "metadata": {},
          "execution_count": 112
        }
      ]
    },
    {
      "cell_type": "code",
      "source": [
        "# how =all,drops only all nulls in single row\n",
        "df_pipe2 = df_pipe.dropna(how = 'all')\n",
        "df_pipe2.count()"
      ],
      "metadata": {
        "colab": {
          "base_uri": "https://localhost:8080/"
        },
        "id": "ZiSsk5K13WRZ",
        "outputId": "ff8bc2c1-bb87-4e20-e32f-717c272094a8"
      },
      "execution_count": 105,
      "outputs": [
        {
          "output_type": "execute_result",
          "data": {
            "text/plain": [
              "30"
            ]
          },
          "metadata": {},
          "execution_count": 105
        }
      ]
    },
    {
      "cell_type": "code",
      "source": [
        "#threshold\n",
        "df_pipe3 = df_pipe.dropna(how = 'any',thresh= 2)\n",
        "\n",
        "df_pipe3.count()"
      ],
      "metadata": {
        "colab": {
          "base_uri": "https://localhost:8080/"
        },
        "id": "oQDRVo363ivI",
        "outputId": "309ce056-5f1f-452b-d85b-45302e32f4d6"
      },
      "execution_count": 106,
      "outputs": [
        {
          "output_type": "execute_result",
          "data": {
            "text/plain": [
              "30"
            ]
          },
          "metadata": {},
          "execution_count": 106
        }
      ]
    },
    {
      "cell_type": "code",
      "source": [
        "#subset - used to delete particular column null values\n",
        "\n",
        "df_pipe4 = df_pipe.dropna(how = 'any',subset=[\"UPDATED_DATE\"])\n",
        "df_pipe4.count()"
      ],
      "metadata": {
        "colab": {
          "base_uri": "https://localhost:8080/"
        },
        "id": "Mj2lCE0v36g9",
        "outputId": "50abe77c-c9db-42ce-c130-d4f083366853"
      },
      "execution_count": 109,
      "outputs": [
        {
          "output_type": "execute_result",
          "data": {
            "text/plain": [
              "27"
            ]
          },
          "metadata": {},
          "execution_count": 109
        }
      ]
    },
    {
      "cell_type": "markdown",
      "source": [
        "# fill null values in dataFrame"
      ],
      "metadata": {
        "id": "UScc8GJDMusA"
      }
    },
    {
      "cell_type": "code",
      "source": [
        "df_pipe11 = df_pipe.fillna('missing',['ENAME','JOB']).fillna(1,['MGR','SAL']).fillna('12-08-1995',['HIREDATE','UPDATED_DATE'])\n",
        "df_pipe11.show(10)"
      ],
      "metadata": {
        "colab": {
          "base_uri": "https://localhost:8080/"
        },
        "id": "ODGR9ATz7fCu",
        "outputId": "932b5fcf-1b91-4ea7-b8fe-ec1529ea0ffa"
      },
      "execution_count": 127,
      "outputs": [
        {
          "output_type": "stream",
          "name": "stdout",
          "text": [
            "+-----+-------+---------+----+----------+----+------+------------+\n",
            "|EMPNO|  ENAME|      JOB| MGR|  HIREDATE| SAL|DEPTNO|UPDATED_DATE|\n",
            "+-----+-------+---------+----+----------+----+------+------------+\n",
            "| 7369|  SMITH|    CLERK|7902|17-12-1980| 800|    20|  01-01-2022|\n",
            "| 7499|  ALLEN| SALESMAN|7698|20-02-1981|1600|    30|  02-01-2022|\n",
            "| 7521|   WARD| SALESMAN|7698|22-02-1981|1250|    30|  03-01-2022|\n",
            "| 7566|  JONES|  MANAGER|   1|04-02-1981|2975|    20|  04-01-2022|\n",
            "| 7654|missing|  missing|7698|21-09-1981|   1|    30|  05-01-2022|\n",
            "| 7698|    SGR|  MANAGER|7839|05-01-1981|2850|    30|  06-01-2022|\n",
            "| 7782|   RAVI|  missing|   1|06-09-1981|2450|    10|  07-01-2022|\n",
            "| 7788|  SCOTT|  ANALYST|7566|19-04-1987|3000|    20|  08-01-2022|\n",
            "| 7839|missing|PRESIDENT|   1|12-08-1995|5000|    10|  12-08-1995|\n",
            "| 7844| TURNER| SALESMAN|7698|09-08-1981|1500|    30|  01-02-2022|\n",
            "+-----+-------+---------+----+----------+----+------+------------+\n",
            "only showing top 10 rows\n",
            "\n"
          ]
        }
      ]
    },
    {
      "cell_type": "markdown",
      "source": [
        "# Filter operations"
      ],
      "metadata": {
        "id": "BtR_0aUmWVvw"
      }
    },
    {
      "cell_type": "code",
      "source": [
        "#salary of peeple greter than 1600 -one way\n",
        "\n",
        "df_pipe.filter('SAL>1600').show()"
      ],
      "metadata": {
        "id": "YYtW6tb6WiEp"
      },
      "execution_count": null,
      "outputs": []
    },
    {
      "cell_type": "code",
      "source": [
        "#salary of peeple greter than 3000 -other way\n",
        "\n",
        "df_pipe.filter(col('SAL')>3000).show()"
      ],
      "metadata": {
        "id": "oicV05Jse2VJ",
        "colab": {
          "base_uri": "https://localhost:8080/"
        },
        "outputId": "f9e93023-d59b-4f4a-b4d1-5281e1f21c68"
      },
      "execution_count": 136,
      "outputs": [
        {
          "output_type": "stream",
          "name": "stdout",
          "text": [
            "+-----+-----+---------+----+----------+----+------+------------+\n",
            "|EMPNO|ENAME|      JOB| MGR|  HIREDATE| SAL|DEPTNO|UPDATED_DATE|\n",
            "+-----+-----+---------+----+----------+----+------+------------+\n",
            "| 7839| null|PRESIDENT|null|      null|5000|    10|        null|\n",
            "| 7839| KING|PRESIDENT|null|01-11-1981|5000|    10|  06-02-2021|\n",
            "+-----+-----+---------+----+----------+----+------+------------+\n",
            "\n"
          ]
        }
      ]
    },
    {
      "cell_type": "code",
      "source": [
        "#not operator\n",
        "\n",
        "df_pipe.filter(~(col('SAL')>2000)).show(10)"
      ],
      "metadata": {
        "id": "9ui4rTRYfi6E",
        "colab": {
          "base_uri": "https://localhost:8080/"
        },
        "outputId": "fc3ea24b-23ec-4ec3-c3c1-54e4c327a6a3"
      },
      "execution_count": 152,
      "outputs": [
        {
          "output_type": "stream",
          "name": "stdout",
          "text": [
            "+-----+------+--------+----+----------+----+------+------------+\n",
            "|EMPNO| ENAME|     JOB| MGR|  HIREDATE| SAL|DEPTNO|UPDATED_DATE|\n",
            "+-----+------+--------+----+----------+----+------+------------+\n",
            "| 7369| SMITH|   CLERK|7902|17-12-1980| 800|    20|  01-01-2022|\n",
            "| 7499| ALLEN|SALESMAN|7698|20-02-1981|1600|    30|  02-01-2022|\n",
            "| 7521|  WARD|SALESMAN|7698|22-02-1981|1250|    30|  03-01-2022|\n",
            "| 7844|TURNER|SALESMAN|7698|09-08-1981|1500|    30|  01-02-2022|\n",
            "| 7876| ADAMS|   CLERK|7788|23-05-1987|1100|    20|  02-02-2022|\n",
            "| 7900| JAMES|   CLERK|7698|12-03-1981| 950|    30|  03-02-2022|\n",
            "| 7934|MILLER|   CLERK|7782|01-03-1982|1300|    10|  05-02-2022|\n",
            "| 1234|SEKHAR|  doctor|7777|      null| 667|    80|  06-02-2022|\n",
            "| 7369| SMITH|   CLERK|7902|17-12-1980| 800|    20|  07-02-2022|\n",
            "| 7499| ALLEN|SALESMAN|7698|20-02-1981|1600|    30|  08-02-2022|\n",
            "+-----+------+--------+----+----------+----+------+------------+\n",
            "only showing top 10 rows\n",
            "\n"
          ]
        }
      ]
    },
    {
      "cell_type": "code",
      "source": [
        "# & operator\n",
        "#show employee details who's salary less than 3000 and salary should be greater than 2000\n",
        "\n",
        "df_pipe.filter( (col('SAL')>2000) & (col('SAL')<3000)).show(10)\n",
        "\n",
        "df_pipe.filter( (col('JOB') == 'CLERK') & (col('SAL')>1000)).show(10)"
      ],
      "metadata": {
        "id": "ddt93mRzZF2T",
        "colab": {
          "base_uri": "https://localhost:8080/"
        },
        "outputId": "04b8c695-f16d-4842-bd38-60c3c7c804cf"
      },
      "execution_count": 158,
      "outputs": [
        {
          "output_type": "stream",
          "name": "stdout",
          "text": [
            "+-----+-----+-------+----+----------+----+------+------------+\n",
            "|EMPNO|ENAME|    JOB| MGR|  HIREDATE| SAL|DEPTNO|UPDATED_DATE|\n",
            "+-----+-----+-------+----+----------+----+------+------------+\n",
            "| 7566|JONES|MANAGER|null|04-02-1981|2975|    20|  04-01-2022|\n",
            "| 7698|  SGR|MANAGER|7839|05-01-1981|2850|    30|  06-01-2022|\n",
            "| 7782| RAVI|   null|null|06-09-1981|2450|    10|  07-01-2022|\n",
            "| 7566|JONES|MANAGER|7839|04-02-1981|2975|    20|  01-02-2021|\n",
            "| 7698|  SGR|MANAGER|7839|05-01-1981|2850|    30|  03-02-2021|\n",
            "| 7782| RAVI|MANAGER|7839|06-09-1981|2450|    10|  04-02-2021|\n",
            "+-----+-----+-------+----+----------+----+------+------------+\n",
            "\n",
            "+-----+------+-----+----+----------+----+------+------------+\n",
            "|EMPNO| ENAME|  JOB| MGR|  HIREDATE| SAL|DEPTNO|UPDATED_DATE|\n",
            "+-----+------+-----+----+----------+----+------+------------+\n",
            "| 7876| ADAMS|CLERK|7788|23-05-1987|1100|    20|  02-02-2022|\n",
            "| 7934|MILLER|CLERK|7782|01-03-1982|1300|    10|  05-02-2022|\n",
            "| 7876| ADAMS|CLERK|7788|23-05-1987|1100|    20|  08-02-2021|\n",
            "| 7934|MILLER|CLERK|7782|01-03-1982|1300|    10|  02-01-2021|\n",
            "+-----+------+-----+----+----------+----+------+------------+\n",
            "\n"
          ]
        }
      ]
    },
    {
      "cell_type": "code",
      "source": [
        "# | operator\n",
        "#show employee details who's salary less than 3000 or salary should be greater than 2000\n",
        "\n",
        "df_pipe.filter( (col('SAL')>2000) | (col('SAL')<3000)).show(10)"
      ],
      "metadata": {
        "id": "2J5ZQNHbbgMe",
        "colab": {
          "base_uri": "https://localhost:8080/"
        },
        "outputId": "e7be2376-d76e-47ec-a168-dbbdb83f2a09"
      },
      "execution_count": 150,
      "outputs": [
        {
          "output_type": "stream",
          "name": "stdout",
          "text": [
            "+-----+------+---------+----+----------+----+------+------------+\n",
            "|EMPNO| ENAME|      JOB| MGR|  HIREDATE| SAL|DEPTNO|UPDATED_DATE|\n",
            "+-----+------+---------+----+----------+----+------+------------+\n",
            "| 7369| SMITH|    CLERK|7902|17-12-1980| 800|    20|  01-01-2022|\n",
            "| 7499| ALLEN| SALESMAN|7698|20-02-1981|1600|    30|  02-01-2022|\n",
            "| 7521|  WARD| SALESMAN|7698|22-02-1981|1250|    30|  03-01-2022|\n",
            "| 7566| JONES|  MANAGER|null|04-02-1981|2975|    20|  04-01-2022|\n",
            "| 7698|   SGR|  MANAGER|7839|05-01-1981|2850|    30|  06-01-2022|\n",
            "| 7782|  RAVI|     null|null|06-09-1981|2450|    10|  07-01-2022|\n",
            "| 7788| SCOTT|  ANALYST|7566|19-04-1987|3000|    20|  08-01-2022|\n",
            "| 7839|  null|PRESIDENT|null|      null|5000|    10|        null|\n",
            "| 7844|TURNER| SALESMAN|7698|09-08-1981|1500|    30|  01-02-2022|\n",
            "| 7876| ADAMS|    CLERK|7788|23-05-1987|1100|    20|  02-02-2022|\n",
            "+-----+------+---------+----+----------+----+------+------------+\n",
            "only showing top 10 rows\n",
            "\n"
          ]
        }
      ]
    },
    {
      "cell_type": "markdown",
      "source": [
        "# GroupBy operations"
      ],
      "metadata": {
        "id": "sU7BZJM-Ct1Z"
      }
    },
    {
      "cell_type": "code",
      "source": [
        "#find job role and people count\n",
        "df_pipe.groupby('JOB').count().show()"
      ],
      "metadata": {
        "colab": {
          "base_uri": "https://localhost:8080/"
        },
        "id": "84ZeYOqcQIEs",
        "outputId": "a65c66a6-6c0f-4db0-d188-980dfbdccaa3"
      },
      "execution_count": 168,
      "outputs": [
        {
          "output_type": "stream",
          "name": "stdout",
          "text": [
            "+---------+-----+\n",
            "|      JOB|count|\n",
            "+---------+-----+\n",
            "|  ANALYST|    4|\n",
            "| SALESMAN|    7|\n",
            "|    CLERK|    9|\n",
            "|     null|    2|\n",
            "|  MANAGER|    5|\n",
            "|PRESIDENT|    2|\n",
            "|   doctor|    1|\n",
            "+---------+-----+\n",
            "\n"
          ]
        }
      ]
    },
    {
      "cell_type": "code",
      "source": [
        "#Group by job role and sum of salaries\n",
        "df_pipe.groupBy('JOB').sum('SAL').show()"
      ],
      "metadata": {
        "colab": {
          "base_uri": "https://localhost:8080/"
        },
        "id": "dGY85vYYQVpt",
        "outputId": "0f7f27ca-9fe3-43a7-896c-15d6efeb0ac6"
      },
      "execution_count": 171,
      "outputs": [
        {
          "output_type": "stream",
          "name": "stdout",
          "text": [
            "+---------+--------+\n",
            "|      JOB|sum(SAL)|\n",
            "+---------+--------+\n",
            "|  ANALYST|   12000|\n",
            "| SALESMAN|    9950|\n",
            "|    CLERK|    8794|\n",
            "|     null|    2450|\n",
            "|  MANAGER|   14100|\n",
            "|PRESIDENT|   10000|\n",
            "|   doctor|     667|\n",
            "+---------+--------+\n",
            "\n"
          ]
        }
      ]
    },
    {
      "cell_type": "code",
      "source": [
        "#find deptno and people count\n",
        "df_pipe.groupBy('DEPTNO').count().show()"
      ],
      "metadata": {
        "colab": {
          "base_uri": "https://localhost:8080/"
        },
        "id": "9lcdtcnVRiWk",
        "outputId": "6f68c498-9617-4aa3-f29e-5a43ae84e39b"
      },
      "execution_count": 173,
      "outputs": [
        {
          "output_type": "stream",
          "name": "stdout",
          "text": [
            "+------+-----+\n",
            "|DEPTNO|count|\n",
            "+------+-----+\n",
            "|    20|   10|\n",
            "|    10|    6|\n",
            "|    80|    2|\n",
            "|    30|   12|\n",
            "+------+-----+\n",
            "\n"
          ]
        }
      ]
    },
    {
      "cell_type": "code",
      "source": [
        "#find job deptno and sum salary\n",
        "df_pipe.groupBy('DEPTNO').sum('SAL').show()"
      ],
      "metadata": {
        "colab": {
          "base_uri": "https://localhost:8080/"
        },
        "id": "uqDqn1jRRQSk",
        "outputId": "9a4db3ee-4ca1-4a8c-c724-ad0ea42734f0"
      },
      "execution_count": 172,
      "outputs": [
        {
          "output_type": "stream",
          "name": "stdout",
          "text": [
            "+------+--------+\n",
            "|DEPTNO|sum(SAL)|\n",
            "+------+--------+\n",
            "|    20|   21750|\n",
            "|    10|   17500|\n",
            "|    80|    1161|\n",
            "|    30|   17550|\n",
            "+------+--------+\n",
            "\n"
          ]
        }
      ]
    },
    {
      "cell_type": "markdown",
      "source": [
        "#sort operations"
      ],
      "metadata": {
        "id": "wpwS2_M1FOuA"
      }
    },
    {
      "cell_type": "code",
      "source": [
        "# sort salary data in low to high\n",
        "df_pipe.sort(df_pipe.SAL.asc()).show(10)"
      ],
      "metadata": {
        "colab": {
          "base_uri": "https://localhost:8080/"
        },
        "id": "w4HqyUqQFOKB",
        "outputId": "77fb4bdb-8606-4da9-8d73-99a1886c2a51"
      },
      "execution_count": 177,
      "outputs": [
        {
          "output_type": "stream",
          "name": "stdout",
          "text": [
            "+-----+------+--------+----+----------+----+------+------------+\n",
            "|EMPNO| ENAME|     JOB| MGR|  HIREDATE| SAL|DEPTNO|UPDATED_DATE|\n",
            "+-----+------+--------+----+----------+----+------+------------+\n",
            "| 7654|  null|    null|7698|21-09-1981|null|    30|  05-01-2022|\n",
            "| 1234|   RAM|   CLERK|7457|      null| 494|    80|  03-01-2021|\n",
            "| 1234|SEKHAR|  doctor|7777|      null| 667|    80|  06-02-2022|\n",
            "| 7369| SMITH|   CLERK|7902|17-12-1980| 800|    20|  01-01-2022|\n",
            "| 7369| SMITH|   CLERK|7902|17-12-1980| 800|    20|  07-02-2022|\n",
            "| 7900| JAMES|   CLERK|7698|12-03-1981| 950|    30|  03-02-2022|\n",
            "| 7900| JAMES|   CLERK|7698|      null| 950|    30|        null|\n",
            "| 7876| ADAMS|   CLERK|7788|23-05-1987|1100|    20|  02-02-2022|\n",
            "| 7876| ADAMS|   CLERK|7788|23-05-1987|1100|    20|  08-02-2021|\n",
            "| 7521|  WARD|SALESMAN|7698|22-02-1981|1250|    30|  03-01-2022|\n",
            "+-----+------+--------+----+----------+----+------+------------+\n",
            "only showing top 10 rows\n",
            "\n"
          ]
        }
      ]
    },
    {
      "cell_type": "code",
      "source": [
        "# sort salary data in high to low\n",
        "df_pipe.sort(df_pipe.SAL.desc()).show(10)"
      ],
      "metadata": {
        "colab": {
          "base_uri": "https://localhost:8080/"
        },
        "id": "L4jco_wOFYwP",
        "outputId": "6674207e-5d40-494c-97c7-143ccdd4a8cd"
      },
      "execution_count": 178,
      "outputs": [
        {
          "output_type": "stream",
          "name": "stdout",
          "text": [
            "+-----+-----+---------+----+----------+----+------+------------+\n",
            "|EMPNO|ENAME|      JOB| MGR|  HIREDATE| SAL|DEPTNO|UPDATED_DATE|\n",
            "+-----+-----+---------+----+----------+----+------+------------+\n",
            "| 7839| null|PRESIDENT|null|      null|5000|    10|        null|\n",
            "| 7839| KING|PRESIDENT|null|01-11-1981|5000|    10|  06-02-2021|\n",
            "| 7788|SCOTT|  ANALYST|7566|19-04-1987|3000|    20|  08-01-2022|\n",
            "| 7902| FORD|  ANALYST|7566|12-03-1981|3000|    20|  04-02-2022|\n",
            "| 7788|SCOTT|  ANALYST|7566|19-04-1987|3000|    20|  05-02-2021|\n",
            "| 7902| FORD|  ANALYST|7566|12-03-1981|3000|    20|  01-01-2021|\n",
            "| 7566|JONES|  MANAGER|null|04-02-1981|2975|    20|  04-01-2022|\n",
            "| 7566|JONES|  MANAGER|7839|04-02-1981|2975|    20|  01-02-2021|\n",
            "| 7698|  SGR|  MANAGER|7839|05-01-1981|2850|    30|  06-01-2022|\n",
            "| 7698|  SGR|  MANAGER|7839|05-01-1981|2850|    30|  03-02-2021|\n",
            "+-----+-----+---------+----+----------+----+------+------------+\n",
            "only showing top 10 rows\n",
            "\n"
          ]
        }
      ]
    },
    {
      "cell_type": "markdown",
      "source": [
        "# OrderBy operations"
      ],
      "metadata": {
        "id": "o1WxT1VaLbDf"
      }
    },
    {
      "cell_type": "code",
      "source": [
        "df_pipe.orderBy(df_pipe.SAL.asc()).show(10)"
      ],
      "metadata": {
        "colab": {
          "base_uri": "https://localhost:8080/"
        },
        "id": "3H-SauiXLQ7q",
        "outputId": "141baf41-c239-49d0-f9b8-7d0550bec67e"
      },
      "execution_count": 182,
      "outputs": [
        {
          "output_type": "stream",
          "name": "stdout",
          "text": [
            "+-----+------+--------+----+----------+----+------+------------+\n",
            "|EMPNO| ENAME|     JOB| MGR|  HIREDATE| SAL|DEPTNO|UPDATED_DATE|\n",
            "+-----+------+--------+----+----------+----+------+------------+\n",
            "| 7654|  null|    null|7698|21-09-1981|null|    30|  05-01-2022|\n",
            "| 1234|   RAM|   CLERK|7457|      null| 494|    80|  03-01-2021|\n",
            "| 1234|SEKHAR|  doctor|7777|      null| 667|    80|  06-02-2022|\n",
            "| 7369| SMITH|   CLERK|7902|17-12-1980| 800|    20|  01-01-2022|\n",
            "| 7369| SMITH|   CLERK|7902|17-12-1980| 800|    20|  07-02-2022|\n",
            "| 7900| JAMES|   CLERK|7698|12-03-1981| 950|    30|  03-02-2022|\n",
            "| 7900| JAMES|   CLERK|7698|      null| 950|    30|        null|\n",
            "| 7876| ADAMS|   CLERK|7788|23-05-1987|1100|    20|  02-02-2022|\n",
            "| 7876| ADAMS|   CLERK|7788|23-05-1987|1100|    20|  08-02-2021|\n",
            "| 7521|  WARD|SALESMAN|7698|22-02-1981|1250|    30|  03-01-2022|\n",
            "+-----+------+--------+----+----------+----+------+------------+\n",
            "only showing top 10 rows\n",
            "\n"
          ]
        }
      ]
    },
    {
      "cell_type": "markdown",
      "source": [
        "# joins"
      ],
      "metadata": {
        "id": "Mu5ZMoTNVcM9"
      }
    },
    {
      "cell_type": "code",
      "source": [
        "product = spark.read.format('csv').option('header',True).option('inferSchema',True).option('nullValue','null').load('/content/product_info_1.csv')\n",
        "product.show()\n",
        "product.printSchema()"
      ],
      "metadata": {
        "colab": {
          "base_uri": "https://localhost:8080/"
        },
        "id": "s_qXzBsWVfEQ",
        "outputId": "88c1045b-3042-4026-b00a-7f38e47cf177"
      },
      "execution_count": 199,
      "outputs": [
        {
          "output_type": "stream",
          "name": "stdout",
          "text": [
            "+----------+-------------------+----------+\n",
            "|product_id|       product_name|unit_price|\n",
            "+----------+-------------------+----------+\n",
            "|         1|       Asus Watch 2|       100|\n",
            "|         2| Impex 8975 speaker|       120|\n",
            "|         3|        Asus R558UQ|       500|\n",
            "|         4|          Iphone 11|      1500|\n",
            "|         5|Samsung Galaxy Buds|       100|\n",
            "+----------+-------------------+----------+\n",
            "\n",
            "root\n",
            " |-- product_id: integer (nullable = true)\n",
            " |-- product_name: string (nullable = true)\n",
            " |-- unit_price: integer (nullable = true)\n",
            "\n"
          ]
        }
      ]
    },
    {
      "cell_type": "code",
      "source": [
        "sale = spark.read.format('csv').option('header',True).option('inferSchema',True).option('nullValue','null').load('/content/sales_data_1.csv')\n",
        "sale.show()\n",
        "sale.printSchema()"
      ],
      "metadata": {
        "colab": {
          "base_uri": "https://localhost:8080/"
        },
        "id": "WA-y8lAQVhyV",
        "outputId": "fe3fa525-eb7f-4fa8-a916-50ad63539cfb"
      },
      "execution_count": 200,
      "outputs": [
        {
          "output_type": "stream",
          "name": "stdout",
          "text": [
            "+----------+---+----+\n",
            "|product_id|qty|year|\n",
            "+----------+---+----+\n",
            "|         1| 65|2020|\n",
            "|         2| 19|2020|\n",
            "|         3| 44|2020|\n",
            "|         4|  5|2020|\n",
            "|         5| 98|2020|\n",
            "|         5|168|2015|\n",
            "|         3| 40|2016|\n",
            "|         1| 78|2018|\n",
            "|         1|987|2019|\n",
            "|         4|100|2019|\n",
            "|         1| 43|2020|\n",
            "|         5|100|2020|\n",
            "+----------+---+----+\n",
            "\n",
            "root\n",
            " |-- product_id: integer (nullable = true)\n",
            " |-- qty: integer (nullable = true)\n",
            " |-- year: integer (nullable = true)\n",
            "\n"
          ]
        }
      ]
    },
    {
      "cell_type": "markdown",
      "source": [
        "# inner Join"
      ],
      "metadata": {
        "id": "S9R3yBJ8XNN8"
      }
    },
    {
      "cell_type": "code",
      "source": [
        "df_inner = product.join(sale,product.product_id == sale.product_id,'inner')\n",
        "\n",
        "df_inner.show(truncate = False)\n",
        "df_inner.count()"
      ],
      "metadata": {
        "colab": {
          "base_uri": "https://localhost:8080/"
        },
        "id": "eKwD3a9NW6EL",
        "outputId": "1ff74dd4-421d-4c01-a8bd-bdc87c30a57f"
      },
      "execution_count": 203,
      "outputs": [
        {
          "output_type": "stream",
          "name": "stdout",
          "text": [
            "+----------+-------------------+----------+----------+---+----+\n",
            "|product_id|product_name       |unit_price|product_id|qty|year|\n",
            "+----------+-------------------+----------+----------+---+----+\n",
            "|1         |Asus Watch 2       |100       |1         |65 |2020|\n",
            "|2         |Impex 8975 speaker |120       |2         |19 |2020|\n",
            "|3         |Asus R558UQ        |500       |3         |44 |2020|\n",
            "|4         |Iphone 11          |1500      |4         |5  |2020|\n",
            "|5         |Samsung Galaxy Buds|100       |5         |98 |2020|\n",
            "|5         |Samsung Galaxy Buds|100       |5         |168|2015|\n",
            "|3         |Asus R558UQ        |500       |3         |40 |2016|\n",
            "|1         |Asus Watch 2       |100       |1         |78 |2018|\n",
            "|1         |Asus Watch 2       |100       |1         |987|2019|\n",
            "|4         |Iphone 11          |1500      |4         |100|2019|\n",
            "|1         |Asus Watch 2       |100       |1         |43 |2020|\n",
            "|5         |Samsung Galaxy Buds|100       |5         |100|2020|\n",
            "+----------+-------------------+----------+----------+---+----+\n",
            "\n"
          ]
        },
        {
          "output_type": "execute_result",
          "data": {
            "text/plain": [
              "12"
            ]
          },
          "metadata": {},
          "execution_count": 203
        }
      ]
    },
    {
      "cell_type": "markdown",
      "source": [
        "# left join"
      ],
      "metadata": {
        "id": "33U0vHW-aK0a"
      }
    },
    {
      "cell_type": "code",
      "source": [
        "df_left = product.join(sale,product.product_id == sale.product_id,'left')\n",
        "df_left.show(truncate = False)\n",
        "df_left.count()"
      ],
      "metadata": {
        "colab": {
          "base_uri": "https://localhost:8080/"
        },
        "id": "NNJdm3ZwXtu4",
        "outputId": "1852891a-2b8f-48da-a069-5ea713009159"
      },
      "execution_count": 202,
      "outputs": [
        {
          "output_type": "stream",
          "name": "stdout",
          "text": [
            "+----------+-------------------+----------+----------+---+----+\n",
            "|product_id|product_name       |unit_price|product_id|qty|year|\n",
            "+----------+-------------------+----------+----------+---+----+\n",
            "|1         |Asus Watch 2       |100       |1         |43 |2020|\n",
            "|1         |Asus Watch 2       |100       |1         |987|2019|\n",
            "|1         |Asus Watch 2       |100       |1         |78 |2018|\n",
            "|1         |Asus Watch 2       |100       |1         |65 |2020|\n",
            "|2         |Impex 8975 speaker |120       |2         |19 |2020|\n",
            "|3         |Asus R558UQ        |500       |3         |40 |2016|\n",
            "|3         |Asus R558UQ        |500       |3         |44 |2020|\n",
            "|4         |Iphone 11          |1500      |4         |100|2019|\n",
            "|4         |Iphone 11          |1500      |4         |5  |2020|\n",
            "|5         |Samsung Galaxy Buds|100       |5         |100|2020|\n",
            "|5         |Samsung Galaxy Buds|100       |5         |168|2015|\n",
            "|5         |Samsung Galaxy Buds|100       |5         |98 |2020|\n",
            "+----------+-------------------+----------+----------+---+----+\n",
            "\n"
          ]
        },
        {
          "output_type": "execute_result",
          "data": {
            "text/plain": [
              "12"
            ]
          },
          "metadata": {},
          "execution_count": 202
        }
      ]
    },
    {
      "cell_type": "markdown",
      "source": [
        "# right join"
      ],
      "metadata": {
        "id": "FKHBYCsvaM_s"
      }
    },
    {
      "cell_type": "code",
      "source": [
        "df_right = product.join(sale,product.product_id == sale.product_id,'right')\n",
        "\n",
        "df_right.show(truncate = False)\n"
      ],
      "metadata": {
        "colab": {
          "base_uri": "https://localhost:8080/"
        },
        "id": "4XwkUxdbYjku",
        "outputId": "b078d734-e46b-44e9-8db8-88ce258cf056"
      },
      "execution_count": 206,
      "outputs": [
        {
          "output_type": "stream",
          "name": "stdout",
          "text": [
            "+----------+-------------------+----------+----------+---+----+\n",
            "|product_id|product_name       |unit_price|product_id|qty|year|\n",
            "+----------+-------------------+----------+----------+---+----+\n",
            "|1         |Asus Watch 2       |100       |1         |65 |2020|\n",
            "|2         |Impex 8975 speaker |120       |2         |19 |2020|\n",
            "|3         |Asus R558UQ        |500       |3         |44 |2020|\n",
            "|4         |Iphone 11          |1500      |4         |5  |2020|\n",
            "|5         |Samsung Galaxy Buds|100       |5         |98 |2020|\n",
            "|5         |Samsung Galaxy Buds|100       |5         |168|2015|\n",
            "|3         |Asus R558UQ        |500       |3         |40 |2016|\n",
            "|1         |Asus Watch 2       |100       |1         |78 |2018|\n",
            "|1         |Asus Watch 2       |100       |1         |987|2019|\n",
            "|4         |Iphone 11          |1500      |4         |100|2019|\n",
            "|1         |Asus Watch 2       |100       |1         |43 |2020|\n",
            "|5         |Samsung Galaxy Buds|100       |5         |100|2020|\n",
            "+----------+-------------------+----------+----------+---+----+\n",
            "\n"
          ]
        }
      ]
    }
  ],
  "metadata": {
    "colab": {
      "collapsed_sections": [
        "NbFalTaBnvmA",
        "p-5j-cMJn7Jz",
        "Y-5-RjNwL94o",
        "Zo_-_Nj_hvsX",
        "HOSZSLuFiLYx",
        "g5IWj-E-pCro",
        "Ugtf0Tb1LaCD",
        "b0yax8KzZR6_",
        "PezsVmyIz2Wh",
        "6sWz3tRMip0a",
        "IoEGhBowvpmK",
        "tw-6bfwaxu15",
        "j1fnJUdJx32w",
        "4GLWl681eZBr",
        "UScc8GJDMusA",
        "BtR_0aUmWVvw",
        "sU7BZJM-Ct1Z",
        "wpwS2_M1FOuA"
      ],
      "provenance": []
    },
    "kernelspec": {
      "display_name": "Python 3",
      "name": "python3"
    },
    "language_info": {
      "name": "python"
    }
  },
  "nbformat": 4,
  "nbformat_minor": 0
}