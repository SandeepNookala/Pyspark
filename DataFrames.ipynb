{
  "cells": [
    {
      "cell_type": "markdown",
      "metadata": {
        "id": "NbFalTaBnvmA"
      },
      "source": [
        "#Installing Pyspark in Googlecolab"
      ]
    },
    {
      "cell_type": "code",
      "execution_count": 79,
      "metadata": {
        "colab": {
          "base_uri": "https://localhost:8080/"
        },
        "id": "jmfJcwA4dnM0",
        "outputId": "ad39ffe4-6d23-43bb-f144-9517d692ff49"
      },
      "outputs": [
        {
          "output_type": "stream",
          "name": "stdout",
          "text": [
            "Requirement already satisfied: pyspark in /usr/local/lib/python3.10/dist-packages (3.4.1)\n",
            "Requirement already satisfied: py4j in /usr/local/lib/python3.10/dist-packages (0.10.9.7)\n"
          ]
        }
      ],
      "source": [
        "!pip install pyspark py4j"
      ]
    },
    {
      "cell_type": "code",
      "source": [
        "from pyspark.sql import SparkSession\n",
        "spark = SparkSession.builder.master('local').appName('DataFrame').getOrCreate()"
      ],
      "metadata": {
        "id": "7PEmep5vMqwF"
      },
      "execution_count": 80,
      "outputs": []
    },
    {
      "cell_type": "markdown",
      "metadata": {
        "id": "p-5j-cMJn7Jz"
      },
      "source": [
        "# Creating new SparkSession"
      ]
    },
    {
      "cell_type": "code",
      "execution_count": 81,
      "metadata": {
        "id": "ufEBg2pueVGM",
        "colab": {
          "base_uri": "https://localhost:8080/",
          "height": 0
        },
        "outputId": "e0c3b363-4e82-4129-9e58-7aac5d6193ef"
      },
      "outputs": [
        {
          "output_type": "execute_result",
          "data": {
            "text/plain": [
              "<pyspark.sql.session.SparkSession at 0x7f11441e3ac0>"
            ],
            "text/html": [
              "\n",
              "            <div>\n",
              "                <p><b>SparkSession - in-memory</b></p>\n",
              "                \n",
              "        <div>\n",
              "            <p><b>SparkContext</b></p>\n",
              "\n",
              "            <p><a href=\"http://bd48c14b7acc:4040\">Spark UI</a></p>\n",
              "\n",
              "            <dl>\n",
              "              <dt>Version</dt>\n",
              "                <dd><code>v3.4.1</code></dd>\n",
              "              <dt>Master</dt>\n",
              "                <dd><code>local</code></dd>\n",
              "              <dt>AppName</dt>\n",
              "                <dd><code>DataFrame</code></dd>\n",
              "            </dl>\n",
              "        </div>\n",
              "        \n",
              "            </div>\n",
              "        "
            ]
          },
          "metadata": {},
          "execution_count": 81
        }
      ],
      "source": [
        "\n",
        "from pyspark.sql import SparkSession\n",
        "spark = SparkSession.builder.master('local').appName('DataFrame').getOrCreate()\n",
        "\n",
        "spark\n"
      ]
    },
    {
      "cell_type": "markdown",
      "source": [
        "# Creating dataFrame from hdfs Location\n",
        "reading data from hdfs remote server"
      ],
      "metadata": {
        "id": "Y-5-RjNwL94o"
      }
    },
    {
      "cell_type": "markdown",
      "source": [
        "\n",
        "\n",
        "df_hdfs = spark.read.format('csv').load('hdfs://172.16.38.131.8020/bigdata/cse/app_prod/cse.app_prod.csv')"
      ],
      "metadata": {
        "id": "eCozdXf8SrG7"
      }
    },
    {
      "cell_type": "markdown",
      "metadata": {
        "id": "Zo_-_Nj_hvsX"
      },
      "source": [
        "# Reading CSV data into dataframe without header, schema?\n",
        "\n",
        "\n",
        "\n",
        "\n"
      ]
    },
    {
      "cell_type": "code",
      "execution_count": 82,
      "metadata": {
        "id": "8X4zgD3PgRyi",
        "colab": {
          "base_uri": "https://localhost:8080/"
        },
        "outputId": "584ceb17-2ab1-4e97-a112-d345ccc86648"
      },
      "outputs": [
        {
          "output_type": "stream",
          "name": "stdout",
          "text": [
            "+-----------+---------+------------------+-----------+--------------+-----------+----------+-------------+------------------+\n",
            "|        _c0|      _c1|               _c2|        _c3|           _c4|        _c5|       _c6|          _c7|               _c8|\n",
            "+-----------+---------+------------------+-----------+--------------+-----------+----------+-------------+------------------+\n",
            "|  longitude| latitude|housing_median_age|total_rooms|total_bedrooms| population|households|median_income|median_house_value|\n",
            "|-122.050000|37.370000|         27.000000|3885.000000|    661.000000|1537.000000|606.000000|     6.608500|     344700.000000|\n",
            "|-118.300000|34.260000|         43.000000|1510.000000|    310.000000| 809.000000|277.000000|     3.599000|     176500.000000|\n",
            "|-117.810000|33.780000|         27.000000|3589.000000|    507.000000|1484.000000|495.000000|     5.793400|     270500.000000|\n",
            "|-118.360000|33.820000|         28.000000|  67.000000|     15.000000|  49.000000| 11.000000|     6.135900|     330000.000000|\n",
            "|-119.670000|36.330000|         19.000000|1241.000000|    244.000000| 850.000000|237.000000|     2.937500|      81700.000000|\n",
            "|-119.560000|36.510000|         37.000000|1018.000000|    213.000000| 663.000000|204.000000|     1.663500|      67000.000000|\n",
            "|-121.430000|38.630000|         43.000000|1009.000000|    225.000000| 604.000000|218.000000|     1.664100|      67000.000000|\n",
            "|-120.650000|35.480000|         19.000000|2310.000000|    471.000000|1341.000000|441.000000|     3.225000|     166900.000000|\n",
            "|-122.840000|38.400000|         15.000000|3080.000000|    617.000000|1446.000000|599.000000|     3.669600|     194400.000000|\n",
            "+-----------+---------+------------------+-----------+--------------+-----------+----------+-------------+------------------+\n",
            "only showing top 10 rows\n",
            "\n"
          ]
        }
      ],
      "source": [
        "df_csv = spark.read.format('csv').load('/content/sample_data/california_housing_test.csv')\n",
        "df_csv.show(10)"
      ]
    },
    {
      "cell_type": "markdown",
      "metadata": {
        "id": "HOSZSLuFiLYx"
      },
      "source": [
        "# Reading csv data into dataframe with Header and schema ,type ,show dataframe,count rows and printSchema?\n",
        "\n"
      ]
    },
    {
      "cell_type": "code",
      "source": [
        "df_csv1 = spark.read.format('csv').option('header',True).option('inferSchema',True).option('nullValue','null').load('/content/sample_data/california_housing_test.csv')\n",
        "\n",
        "type(df_csv1)\n",
        "\n",
        "df_csv1.show(10)\n",
        "\n",
        "df_csv1.count()\n",
        "\n",
        "df_csv1.printSchema()\n"
      ],
      "metadata": {
        "colab": {
          "base_uri": "https://localhost:8080/"
        },
        "id": "LW42vO_IRumM",
        "outputId": "01ddb5bc-7e14-43e7-dbf9-2a7f74385ebd"
      },
      "execution_count": 83,
      "outputs": [
        {
          "output_type": "stream",
          "name": "stdout",
          "text": [
            "+---------+--------+------------------+-----------+--------------+----------+----------+-------------+------------------+\n",
            "|longitude|latitude|housing_median_age|total_rooms|total_bedrooms|population|households|median_income|median_house_value|\n",
            "+---------+--------+------------------+-----------+--------------+----------+----------+-------------+------------------+\n",
            "|  -122.05|   37.37|              27.0|     3885.0|         661.0|    1537.0|     606.0|       6.6085|          344700.0|\n",
            "|   -118.3|   34.26|              43.0|     1510.0|         310.0|     809.0|     277.0|        3.599|          176500.0|\n",
            "|  -117.81|   33.78|              27.0|     3589.0|         507.0|    1484.0|     495.0|       5.7934|          270500.0|\n",
            "|  -118.36|   33.82|              28.0|       67.0|          15.0|      49.0|      11.0|       6.1359|          330000.0|\n",
            "|  -119.67|   36.33|              19.0|     1241.0|         244.0|     850.0|     237.0|       2.9375|           81700.0|\n",
            "|  -119.56|   36.51|              37.0|     1018.0|         213.0|     663.0|     204.0|       1.6635|           67000.0|\n",
            "|  -121.43|   38.63|              43.0|     1009.0|         225.0|     604.0|     218.0|       1.6641|           67000.0|\n",
            "|  -120.65|   35.48|              19.0|     2310.0|         471.0|    1341.0|     441.0|        3.225|          166900.0|\n",
            "|  -122.84|    38.4|              15.0|     3080.0|         617.0|    1446.0|     599.0|       3.6696|          194400.0|\n",
            "|  -118.02|   34.08|              31.0|     2402.0|         632.0|    2830.0|     603.0|       2.3333|          164200.0|\n",
            "+---------+--------+------------------+-----------+--------------+----------+----------+-------------+------------------+\n",
            "only showing top 10 rows\n",
            "\n",
            "root\n",
            " |-- longitude: double (nullable = true)\n",
            " |-- latitude: double (nullable = true)\n",
            " |-- housing_median_age: double (nullable = true)\n",
            " |-- total_rooms: double (nullable = true)\n",
            " |-- total_bedrooms: double (nullable = true)\n",
            " |-- population: double (nullable = true)\n",
            " |-- households: double (nullable = true)\n",
            " |-- median_income: double (nullable = true)\n",
            " |-- median_house_value: double (nullable = true)\n",
            "\n"
          ]
        }
      ]
    },
    {
      "cell_type": "markdown",
      "metadata": {
        "id": "g5IWj-E-pCro"
      },
      "source": [
        "# Reading csv data into dataframe with Header and schema-(another way) ?"
      ]
    },
    {
      "cell_type": "code",
      "execution_count": 84,
      "metadata": {
        "id": "K-6vm-8ahWjY",
        "colab": {
          "base_uri": "https://localhost:8080/"
        },
        "outputId": "055b3d15-52df-4e77-a969-e969ac9e4a79"
      },
      "outputs": [
        {
          "output_type": "stream",
          "name": "stdout",
          "text": [
            "+---------+--------+------------------+-----------+--------------+----------+----------+-------------+------------------+\n",
            "|longitude|latitude|housing_median_age|total_rooms|total_bedrooms|population|households|median_income|median_house_value|\n",
            "+---------+--------+------------------+-----------+--------------+----------+----------+-------------+------------------+\n",
            "|  -122.05|   37.37|              27.0|     3885.0|         661.0|    1537.0|     606.0|       6.6085|          344700.0|\n",
            "|   -118.3|   34.26|              43.0|     1510.0|         310.0|     809.0|     277.0|        3.599|          176500.0|\n",
            "|  -117.81|   33.78|              27.0|     3589.0|         507.0|    1484.0|     495.0|       5.7934|          270500.0|\n",
            "|  -118.36|   33.82|              28.0|       67.0|          15.0|      49.0|      11.0|       6.1359|          330000.0|\n",
            "|  -119.67|   36.33|              19.0|     1241.0|         244.0|     850.0|     237.0|       2.9375|           81700.0|\n",
            "|  -119.56|   36.51|              37.0|     1018.0|         213.0|     663.0|     204.0|       1.6635|           67000.0|\n",
            "|  -121.43|   38.63|              43.0|     1009.0|         225.0|     604.0|     218.0|       1.6641|           67000.0|\n",
            "|  -120.65|   35.48|              19.0|     2310.0|         471.0|    1341.0|     441.0|        3.225|          166900.0|\n",
            "|  -122.84|    38.4|              15.0|     3080.0|         617.0|    1446.0|     599.0|       3.6696|          194400.0|\n",
            "|  -118.02|   34.08|              31.0|     2402.0|         632.0|    2830.0|     603.0|       2.3333|          164200.0|\n",
            "+---------+--------+------------------+-----------+--------------+----------+----------+-------------+------------------+\n",
            "only showing top 10 rows\n",
            "\n",
            "root\n",
            " |-- longitude: double (nullable = true)\n",
            " |-- latitude: double (nullable = true)\n",
            " |-- housing_median_age: double (nullable = true)\n",
            " |-- total_rooms: double (nullable = true)\n",
            " |-- total_bedrooms: double (nullable = true)\n",
            " |-- population: double (nullable = true)\n",
            " |-- households: double (nullable = true)\n",
            " |-- median_income: double (nullable = true)\n",
            " |-- median_house_value: double (nullable = true)\n",
            "\n"
          ]
        }
      ],
      "source": [
        "df_another = spark.read.csv('/content/sample_data/california_housing_test.csv',header = True,inferSchema = True)\n",
        "\n",
        "df_another.show(10)\n",
        "df_another.printSchema()"
      ]
    },
    {
      "cell_type": "markdown",
      "source": [],
      "metadata": {
        "id": "Rr9zSeIyYUTE"
      }
    },
    {
      "cell_type": "markdown",
      "source": [
        "# Reading csv dataframe with pipe seprated values printSchema, count rows ?"
      ],
      "metadata": {
        "id": "Ugtf0Tb1LaCD"
      }
    },
    {
      "cell_type": "code",
      "source": [
        "df_pipe = spark.read.format('csv').option('sep','|').option('header','true').option('inferSchema',True).option('nullValue','null').load('/content/emp_pipe.txt')\n",
        "df_pipe.show(10)\n",
        "df_pipe.printSchema()\n",
        "df_pipe.count()\n"
      ],
      "metadata": {
        "id": "hj22IJbSUPZt",
        "colab": {
          "base_uri": "https://localhost:8080/"
        },
        "outputId": "e56e3a7c-296f-4321-bae4-e1fedc64d9f7"
      },
      "execution_count": 85,
      "outputs": [
        {
          "output_type": "stream",
          "name": "stdout",
          "text": [
            "+-----+------+---------+----+----------+----+------+------------+\n",
            "|EMPNO| ENAME|      JOB| MGR|  HIREDATE| SAL|DEPTNO|UPDATED_DATE|\n",
            "+-----+------+---------+----+----------+----+------+------------+\n",
            "| 7369| SMITH|    CLERK|7902|17-12-1980| 800|    20|  01-01-2022|\n",
            "| 7499| ALLEN| SALESMAN|7698|20-02-1981|1600|    30|  02-01-2022|\n",
            "| 7521|  WARD| SALESMAN|7698|22-02-1981|1250|    30|  03-01-2022|\n",
            "| 7566| JONES|  MANAGER|null|04-02-1981|2975|    20|  04-01-2022|\n",
            "| 7654|  null|     null|7698|21-09-1981|null|    30|  05-01-2022|\n",
            "| 7698|   SGR|  MANAGER|7839|05-01-1981|2850|    30|  06-01-2022|\n",
            "| 7782|  RAVI|     null|null|06-09-1981|2450|    10|  07-01-2022|\n",
            "| 7788| SCOTT|  ANALYST|7566|19-04-1987|3000|    20|  08-01-2022|\n",
            "| 7839|  null|PRESIDENT|null|      null|5000|    10|        null|\n",
            "| 7844|TURNER| SALESMAN|7698|09-08-1981|1500|    30|  01-02-2022|\n",
            "+-----+------+---------+----+----------+----+------+------------+\n",
            "only showing top 10 rows\n",
            "\n",
            "root\n",
            " |-- EMPNO: integer (nullable = true)\n",
            " |-- ENAME: string (nullable = true)\n",
            " |-- JOB: string (nullable = true)\n",
            " |-- MGR: integer (nullable = true)\n",
            " |-- HIREDATE: string (nullable = true)\n",
            " |-- SAL: integer (nullable = true)\n",
            " |-- DEPTNO: integer (nullable = true)\n",
            " |-- UPDATED_DATE: string (nullable = true)\n",
            "\n"
          ]
        },
        {
          "output_type": "execute_result",
          "data": {
            "text/plain": [
              "30"
            ]
          },
          "metadata": {},
          "execution_count": 85
        }
      ]
    },
    {
      "cell_type": "markdown",
      "source": [
        "# Reading csv dataframe with double pipe seprated valuesprintSchema, count rows ?"
      ],
      "metadata": {
        "id": "b0yax8KzZR6_"
      }
    },
    {
      "cell_type": "code",
      "source": [
        "df_double = spark.read.format('csv').option('sep','||').option('header',True).option('inferSchema',True).option('nullValue','null').load('/content/emp_double_pipe.txt')\n",
        "\n",
        "df_double.show(10)\n",
        "\n",
        "df_double.printSchema()\n",
        "\n",
        "df_double.count()"
      ],
      "metadata": {
        "colab": {
          "base_uri": "https://localhost:8080/"
        },
        "id": "q8lf3sTMYfFV",
        "outputId": "12f183f9-c843-4602-b6c0-2963674f04f1"
      },
      "execution_count": 86,
      "outputs": [
        {
          "output_type": "stream",
          "name": "stdout",
          "text": [
            "+-----+------+---------+----+----------+----+------+------------+\n",
            "|EMPNO| ENAME|      JOB| MGR|  HIREDATE| SAL|DEPTNO|UPDATED_DATE|\n",
            "+-----+------+---------+----+----------+----+------+------------+\n",
            "| 7369| SMITH|    CLERK|7902|17-12-1980| 800|    20|  01-01-2022|\n",
            "| 7499| ALLEN| SALESMAN|7698|20-02-1981|1600|    30|  02-01-2022|\n",
            "| 7521|  WARD| SALESMAN|7698|22-02-1981|1250|    30|  03-01-2022|\n",
            "| 7566| JONES|  MANAGER|7839|04-02-1981|2975|    20|  04-01-2022|\n",
            "| 7654|MARTIN| SALESMAN|7698|21-09-1981|1250|    30|  05-01-2022|\n",
            "| 7698|   SGR|  MANAGER|7839|05-01-1981|2850|    30|  06-01-2022|\n",
            "| 7782|  RAVI|  MANAGER|7839|06-09-1981|2450|    10|  07-01-2022|\n",
            "| 7788| SCOTT|  ANALYST|7566|19-04-1987|3000|    20|  08-01-2022|\n",
            "| 7839|  KING|PRESIDENT|null|      null|5000|    10|        null|\n",
            "| 7844|TURNER| SALESMAN|7698|09-08-1981|1500|    30|  01-02-2022|\n",
            "+-----+------+---------+----+----------+----+------+------------+\n",
            "only showing top 10 rows\n",
            "\n",
            "root\n",
            " |-- EMPNO: integer (nullable = true)\n",
            " |-- ENAME: string (nullable = true)\n",
            " |-- JOB: string (nullable = true)\n",
            " |-- MGR: integer (nullable = true)\n",
            " |-- HIREDATE: string (nullable = true)\n",
            " |-- SAL: integer (nullable = true)\n",
            " |-- DEPTNO: integer (nullable = true)\n",
            " |-- UPDATED_DATE: string (nullable = true)\n",
            "\n"
          ]
        },
        {
          "output_type": "execute_result",
          "data": {
            "text/plain": [
              "30"
            ]
          },
          "metadata": {},
          "execution_count": 86
        }
      ]
    },
    {
      "cell_type": "markdown",
      "source": [
        "# Inspect Data\n",
        "\n",
        "\n",
        "\n"
      ],
      "metadata": {
        "id": "PezsVmyIz2Wh"
      }
    },
    {
      "cell_type": "code",
      "source": [
        "# display Content of df\n",
        "\n",
        "df_csv1.show(10)"
      ],
      "metadata": {
        "colab": {
          "base_uri": "https://localhost:8080/"
        },
        "id": "WxSlaaEu0vJ6",
        "outputId": "7fb102bc-9d91-4ba9-ff44-482703d2eb76"
      },
      "execution_count": 87,
      "outputs": [
        {
          "output_type": "stream",
          "name": "stdout",
          "text": [
            "+---------+--------+------------------+-----------+--------------+----------+----------+-------------+------------------+\n",
            "|longitude|latitude|housing_median_age|total_rooms|total_bedrooms|population|households|median_income|median_house_value|\n",
            "+---------+--------+------------------+-----------+--------------+----------+----------+-------------+------------------+\n",
            "|  -122.05|   37.37|              27.0|     3885.0|         661.0|    1537.0|     606.0|       6.6085|          344700.0|\n",
            "|   -118.3|   34.26|              43.0|     1510.0|         310.0|     809.0|     277.0|        3.599|          176500.0|\n",
            "|  -117.81|   33.78|              27.0|     3589.0|         507.0|    1484.0|     495.0|       5.7934|          270500.0|\n",
            "|  -118.36|   33.82|              28.0|       67.0|          15.0|      49.0|      11.0|       6.1359|          330000.0|\n",
            "|  -119.67|   36.33|              19.0|     1241.0|         244.0|     850.0|     237.0|       2.9375|           81700.0|\n",
            "|  -119.56|   36.51|              37.0|     1018.0|         213.0|     663.0|     204.0|       1.6635|           67000.0|\n",
            "|  -121.43|   38.63|              43.0|     1009.0|         225.0|     604.0|     218.0|       1.6641|           67000.0|\n",
            "|  -120.65|   35.48|              19.0|     2310.0|         471.0|    1341.0|     441.0|        3.225|          166900.0|\n",
            "|  -122.84|    38.4|              15.0|     3080.0|         617.0|    1446.0|     599.0|       3.6696|          194400.0|\n",
            "|  -118.02|   34.08|              31.0|     2402.0|         632.0|    2830.0|     603.0|       2.3333|          164200.0|\n",
            "+---------+--------+------------------+-----------+--------------+----------+----------+-------------+------------------+\n",
            "only showing top 10 rows\n",
            "\n"
          ]
        }
      ]
    },
    {
      "cell_type": "code",
      "source": [
        "# display Schema\n",
        "df_csv1.printSchema()"
      ],
      "metadata": {
        "colab": {
          "base_uri": "https://localhost:8080/"
        },
        "id": "PmYZtI0e0xtD",
        "outputId": "7ac7327b-08be-46cb-9539-38bbc9c05697"
      },
      "execution_count": 88,
      "outputs": [
        {
          "output_type": "stream",
          "name": "stdout",
          "text": [
            "root\n",
            " |-- longitude: double (nullable = true)\n",
            " |-- latitude: double (nullable = true)\n",
            " |-- housing_median_age: double (nullable = true)\n",
            " |-- total_rooms: double (nullable = true)\n",
            " |-- total_bedrooms: double (nullable = true)\n",
            " |-- population: double (nullable = true)\n",
            " |-- households: double (nullable = true)\n",
            " |-- median_income: double (nullable = true)\n",
            " |-- median_house_value: double (nullable = true)\n",
            "\n"
          ]
        }
      ]
    },
    {
      "cell_type": "code",
      "source": [
        "#first row\n",
        "df_csv1.first()"
      ],
      "metadata": {
        "colab": {
          "base_uri": "https://localhost:8080/"
        },
        "id": "QyRibpDB2coS",
        "outputId": "dd2d6bc7-32cf-458f-8e74-033517be9bac"
      },
      "execution_count": 89,
      "outputs": [
        {
          "output_type": "execute_result",
          "data": {
            "text/plain": [
              "Row(longitude=-122.05, latitude=37.37, housing_median_age=27.0, total_rooms=3885.0, total_bedrooms=661.0, population=1537.0, households=606.0, median_income=6.6085, median_house_value=344700.0)"
            ]
          },
          "metadata": {},
          "execution_count": 89
        }
      ]
    },
    {
      "cell_type": "code",
      "source": [
        "#head values\n",
        "\n",
        "df_csv1.head()"
      ],
      "metadata": {
        "colab": {
          "base_uri": "https://localhost:8080/"
        },
        "id": "A8dHzAoF15V6",
        "outputId": "c3a494f7-f6ff-4cae-c32b-ec16384c0366"
      },
      "execution_count": 90,
      "outputs": [
        {
          "output_type": "execute_result",
          "data": {
            "text/plain": [
              "Row(longitude=-122.05, latitude=37.37, housing_median_age=27.0, total_rooms=3885.0, total_bedrooms=661.0, population=1537.0, households=606.0, median_income=6.6085, median_house_value=344700.0)"
            ]
          },
          "metadata": {},
          "execution_count": 90
        }
      ]
    },
    {
      "cell_type": "code",
      "source": [
        "#tail values\n",
        "\n",
        "df_csv1.tail(1)\n"
      ],
      "metadata": {
        "colab": {
          "base_uri": "https://localhost:8080/"
        },
        "id": "x-8UO0Ck1-oC",
        "outputId": "0f40e6aa-9bfa-4493-ed70-d9cfa0aa5e3f"
      },
      "execution_count": 91,
      "outputs": [
        {
          "output_type": "execute_result",
          "data": {
            "text/plain": [
              "[Row(longitude=-119.63, latitude=34.42, housing_median_age=42.0, total_rooms=1765.0, total_bedrooms=263.0, population=753.0, households=260.0, median_income=8.5608, median_house_value=500001.0)]"
            ]
          },
          "metadata": {},
          "execution_count": 91
        }
      ]
    },
    {
      "cell_type": "code",
      "source": [
        "#takes some random from dataframe\n",
        "\n",
        "df_csv1.take(2)\n"
      ],
      "metadata": {
        "colab": {
          "base_uri": "https://localhost:8080/"
        },
        "id": "ae4nPXVB2Lq4",
        "outputId": "28de1f6b-c946-4c23-831d-c4bf1515b868"
      },
      "execution_count": 92,
      "outputs": [
        {
          "output_type": "execute_result",
          "data": {
            "text/plain": [
              "[Row(longitude=-122.05, latitude=37.37, housing_median_age=27.0, total_rooms=3885.0, total_bedrooms=661.0, population=1537.0, households=606.0, median_income=6.6085, median_house_value=344700.0),\n",
              " Row(longitude=-118.3, latitude=34.26, housing_median_age=43.0, total_rooms=1510.0, total_bedrooms=310.0, population=809.0, households=277.0, median_income=3.599, median_house_value=176500.0)]"
            ]
          },
          "metadata": {},
          "execution_count": 92
        }
      ]
    },
    {
      "cell_type": "code",
      "source": [
        "# return column names and data types\n",
        "\n",
        "df_csv1.dtypes\n"
      ],
      "metadata": {
        "colab": {
          "base_uri": "https://localhost:8080/"
        },
        "id": "pshboCyi2o9n",
        "outputId": "846fd879-c7b8-46fa-ee11-f24a8a276471"
      },
      "execution_count": 93,
      "outputs": [
        {
          "output_type": "execute_result",
          "data": {
            "text/plain": [
              "[('longitude', 'double'),\n",
              " ('latitude', 'double'),\n",
              " ('housing_median_age', 'double'),\n",
              " ('total_rooms', 'double'),\n",
              " ('total_bedrooms', 'double'),\n",
              " ('population', 'double'),\n",
              " ('households', 'double'),\n",
              " ('median_income', 'double'),\n",
              " ('median_house_value', 'double')]"
            ]
          },
          "metadata": {},
          "execution_count": 93
        }
      ]
    },
    {
      "cell_type": "code",
      "source": [
        "# compute summery satistics for dataframe\n",
        "\n",
        "df_csv1.describe().show()\n"
      ],
      "metadata": {
        "colab": {
          "base_uri": "https://localhost:8080/"
        },
        "id": "KZDDdGFA26qI",
        "outputId": "71b46cc8-d659-4a15-9740-09f286512bd8"
      },
      "execution_count": 94,
      "outputs": [
        {
          "output_type": "stream",
          "name": "stdout",
          "text": [
            "+-------+-------------------+------------------+------------------+-----------------+------------------+------------------+------------------+------------------+------------------+\n",
            "|summary|          longitude|          latitude|housing_median_age|      total_rooms|    total_bedrooms|        population|        households|     median_income|median_house_value|\n",
            "+-------+-------------------+------------------+------------------+-----------------+------------------+------------------+------------------+------------------+------------------+\n",
            "|  count|               3000|              3000|              3000|             3000|              3000|              3000|              3000|              3000|              3000|\n",
            "|   mean|-119.58920000000029| 35.63538999999999|28.845333333333333|2599.578666666667| 529.9506666666666|1402.7986666666666|           489.912| 3.807271799999998|        205846.275|\n",
            "| stddev| 1.9949362939550166|2.1296695233438334|12.555395554955757|2155.593331625582|415.65436813632306|1030.5430124122424|365.42270980552615|1.8545117296914775|113119.68746964622|\n",
            "|    min|            -124.18|             32.56|               1.0|              6.0|               2.0|               5.0|               2.0|            0.4999|           22500.0|\n",
            "|    max|            -114.49|             41.92|              52.0|          30450.0|            5419.0|           11935.0|            4930.0|           15.0001|          500001.0|\n",
            "+-------+-------------------+------------------+------------------+-----------------+------------------+------------------+------------------+------------------+------------------+\n",
            "\n"
          ]
        }
      ]
    },
    {
      "cell_type": "code",
      "source": [
        "#count no.of rows\n",
        "\n",
        "df_csv1.count()"
      ],
      "metadata": {
        "colab": {
          "base_uri": "https://localhost:8080/"
        },
        "id": "NyNR-Fd-3KwH",
        "outputId": "599f6d08-be61-4f72-959b-828856f5dc0f"
      },
      "execution_count": 95,
      "outputs": [
        {
          "output_type": "execute_result",
          "data": {
            "text/plain": [
              "3000"
            ]
          },
          "metadata": {},
          "execution_count": 95
        }
      ]
    },
    {
      "cell_type": "code",
      "source": [
        "#count distinct no.of rows\n",
        "\n",
        "df_csv1.distinct().count()\n",
        "\n"
      ],
      "metadata": {
        "colab": {
          "base_uri": "https://localhost:8080/"
        },
        "id": "UQwPdWt73qla",
        "outputId": "80b9283c-515f-4b82-a47b-aec833dcdf24"
      },
      "execution_count": 96,
      "outputs": [
        {
          "output_type": "execute_result",
          "data": {
            "text/plain": [
              "3000"
            ]
          },
          "metadata": {},
          "execution_count": 96
        }
      ]
    },
    {
      "cell_type": "code",
      "source": [
        "#explain physical plan and logical plan\n",
        "\n",
        "df_csv1.explain()\n"
      ],
      "metadata": {
        "colab": {
          "base_uri": "https://localhost:8080/"
        },
        "id": "2yvL7Nsv32Sa",
        "outputId": "09e08583-1fe8-4d27-cf8b-ce793e6455f2"
      },
      "execution_count": 97,
      "outputs": [
        {
          "output_type": "stream",
          "name": "stdout",
          "text": [
            "== Physical Plan ==\n",
            "FileScan csv [longitude#3561,latitude#3562,housing_median_age#3563,total_rooms#3564,total_bedrooms#3565,population#3566,households#3567,median_income#3568,median_house_value#3569] Batched: false, DataFilters: [], Format: CSV, Location: InMemoryFileIndex(1 paths)[file:/content/sample_data/california_housing_test.csv], PartitionFilters: [], PushedFilters: [], ReadSchema: struct<longitude:double,latitude:double,housing_median_age:double,total_rooms:double,total_bedroo...\n",
            "\n",
            "\n"
          ]
        }
      ]
    },
    {
      "cell_type": "code",
      "source": [
        "#All table columns Names\n",
        "\n",
        "df_csv1.columns"
      ],
      "metadata": {
        "colab": {
          "base_uri": "https://localhost:8080/"
        },
        "id": "bkOFMpMjkdfC",
        "outputId": "4d889c52-4e0f-4aaf-d793-7582821fc596"
      },
      "execution_count": 98,
      "outputs": [
        {
          "output_type": "execute_result",
          "data": {
            "text/plain": [
              "['longitude',\n",
              " 'latitude',\n",
              " 'housing_median_age',\n",
              " 'total_rooms',\n",
              " 'total_bedrooms',\n",
              " 'population',\n",
              " 'households',\n",
              " 'median_income',\n",
              " 'median_house_value']"
            ]
          },
          "metadata": {},
          "execution_count": 98
        }
      ]
    },
    {
      "cell_type": "code",
      "source": [
        "df_csv1.columns"
      ],
      "metadata": {
        "colab": {
          "base_uri": "https://localhost:8080/"
        },
        "id": "enUIieuslh0K",
        "outputId": "e8d81a59-f7a7-4b8f-8d6e-726469cda22e"
      },
      "execution_count": 99,
      "outputs": [
        {
          "output_type": "execute_result",
          "data": {
            "text/plain": [
              "['longitude',\n",
              " 'latitude',\n",
              " 'housing_median_age',\n",
              " 'total_rooms',\n",
              " 'total_bedrooms',\n",
              " 'population',\n",
              " 'households',\n",
              " 'median_income',\n",
              " 'median_house_value']"
            ]
          },
          "metadata": {},
          "execution_count": 99
        }
      ]
    },
    {
      "cell_type": "markdown",
      "source": [
        "# import functions"
      ],
      "metadata": {
        "id": "YM0qyhQ4ytFC"
      }
    },
    {
      "cell_type": "code",
      "source": [
        "from pyspark.sql.functions import *"
      ],
      "metadata": {
        "id": "EirQACPxywK3"
      },
      "execution_count": 100,
      "outputs": []
    },
    {
      "cell_type": "markdown",
      "source": [
        "# select"
      ],
      "metadata": {
        "id": "6sWz3tRMip0a"
      }
    },
    {
      "cell_type": "code",
      "source": [
        "df_csv1.select(col('population')/2,'total_rooms',col('median_house_value')*10).show(10)"
      ],
      "metadata": {
        "colab": {
          "base_uri": "https://localhost:8080/"
        },
        "id": "cwf3oyf1suea",
        "outputId": "7f2682ee-101b-4833-c0cb-3ab83a0b3001"
      },
      "execution_count": 101,
      "outputs": [
        {
          "output_type": "stream",
          "name": "stdout",
          "text": [
            "+----------------+-----------+-------------------------+\n",
            "|(population / 2)|total_rooms|(median_house_value * 10)|\n",
            "+----------------+-----------+-------------------------+\n",
            "|           768.5|     3885.0|                3447000.0|\n",
            "|           404.5|     1510.0|                1765000.0|\n",
            "|           742.0|     3589.0|                2705000.0|\n",
            "|            24.5|       67.0|                3300000.0|\n",
            "|           425.0|     1241.0|                 817000.0|\n",
            "|           331.5|     1018.0|                 670000.0|\n",
            "|           302.0|     1009.0|                 670000.0|\n",
            "|           670.5|     2310.0|                1669000.0|\n",
            "|           723.0|     3080.0|                1944000.0|\n",
            "|          1415.0|     2402.0|                1642000.0|\n",
            "+----------------+-----------+-------------------------+\n",
            "only showing top 10 rows\n",
            "\n"
          ]
        }
      ]
    },
    {
      "cell_type": "code",
      "source": [
        "df_csv1.select([col('population')/2,'total_rooms',col('median_house_value')*10]).show(10)"
      ],
      "metadata": {
        "colab": {
          "base_uri": "https://localhost:8080/"
        },
        "id": "4z3-P0twqIxx",
        "outputId": "46223ca4-7699-4e71-83c5-4bdf5319a978"
      },
      "execution_count": 102,
      "outputs": [
        {
          "output_type": "stream",
          "name": "stdout",
          "text": [
            "+----------------+-----------+-------------------------+\n",
            "|(population / 2)|total_rooms|(median_house_value * 10)|\n",
            "+----------------+-----------+-------------------------+\n",
            "|           768.5|     3885.0|                3447000.0|\n",
            "|           404.5|     1510.0|                1765000.0|\n",
            "|           742.0|     3589.0|                2705000.0|\n",
            "|            24.5|       67.0|                3300000.0|\n",
            "|           425.0|     1241.0|                 817000.0|\n",
            "|           331.5|     1018.0|                 670000.0|\n",
            "|           302.0|     1009.0|                 670000.0|\n",
            "|           670.5|     2310.0|                1669000.0|\n",
            "|           723.0|     3080.0|                1944000.0|\n",
            "|          1415.0|     2402.0|                1642000.0|\n",
            "+----------------+-----------+-------------------------+\n",
            "only showing top 10 rows\n",
            "\n"
          ]
        }
      ]
    },
    {
      "cell_type": "markdown",
      "source": [
        "# Adding new columns\n"
      ],
      "metadata": {
        "id": "IoEGhBowvpmK"
      }
    },
    {
      "cell_type": "code",
      "execution_count": 103,
      "metadata": {
        "id": "yxgI2Oze8fxW",
        "colab": {
          "base_uri": "https://localhost:8080/"
        },
        "outputId": "45ed43fa-ba79-4ab0-c5bf-88b884c45f89"
      },
      "outputs": [
        {
          "output_type": "stream",
          "name": "stdout",
          "text": [
            "+---------+--------+------------------+-----------+--------------+----------+----------+-------------+------------------+--------------+-----------+\n",
            "|longitude|latitude|housing_median_age|total_rooms|total_bedrooms|population|households|median_income|median_house_value|new_population|house_value|\n",
            "+---------+--------+------------------+-----------+--------------+----------+----------+-------------+------------------+--------------+-----------+\n",
            "|  -122.05|   37.37|              27.0|     3885.0|         661.0|    1537.0|     606.0|       6.6085|          344700.0|         768.5|  3447000.0|\n",
            "|   -118.3|   34.26|              43.0|     1510.0|         310.0|     809.0|     277.0|        3.599|          176500.0|         404.5|  1765000.0|\n",
            "|  -117.81|   33.78|              27.0|     3589.0|         507.0|    1484.0|     495.0|       5.7934|          270500.0|         742.0|  2705000.0|\n",
            "|  -118.36|   33.82|              28.0|       67.0|          15.0|      49.0|      11.0|       6.1359|          330000.0|          24.5|  3300000.0|\n",
            "|  -119.67|   36.33|              19.0|     1241.0|         244.0|     850.0|     237.0|       2.9375|           81700.0|         425.0|   817000.0|\n",
            "|  -119.56|   36.51|              37.0|     1018.0|         213.0|     663.0|     204.0|       1.6635|           67000.0|         331.5|   670000.0|\n",
            "|  -121.43|   38.63|              43.0|     1009.0|         225.0|     604.0|     218.0|       1.6641|           67000.0|         302.0|   670000.0|\n",
            "|  -120.65|   35.48|              19.0|     2310.0|         471.0|    1341.0|     441.0|        3.225|          166900.0|         670.5|  1669000.0|\n",
            "|  -122.84|    38.4|              15.0|     3080.0|         617.0|    1446.0|     599.0|       3.6696|          194400.0|         723.0|  1944000.0|\n",
            "|  -118.02|   34.08|              31.0|     2402.0|         632.0|    2830.0|     603.0|       2.3333|          164200.0|        1415.0|  1642000.0|\n",
            "+---------+--------+------------------+-----------+--------------+----------+----------+-------------+------------------+--------------+-----------+\n",
            "only showing top 10 rows\n",
            "\n"
          ]
        }
      ],
      "source": [
        "df_csv1.withColumn('new_population',col('population')/2).withColumn('house_value',col('median_house_value')*10).show(10)"
      ]
    },
    {
      "cell_type": "markdown",
      "source": [
        "# dropping columns"
      ],
      "metadata": {
        "id": "tw-6bfwaxu15"
      }
    },
    {
      "cell_type": "code",
      "execution_count": 104,
      "metadata": {
        "id": "wl0QNcwn-Pba",
        "colab": {
          "base_uri": "https://localhost:8080/"
        },
        "outputId": "2777c381-4e11-479e-c6d4-7c0b67249d7b"
      },
      "outputs": [
        {
          "output_type": "stream",
          "name": "stdout",
          "text": [
            "+---------+--------+------------------+-----------+--------------+----------+-------------+\n",
            "|longitude|latitude|housing_median_age|total_rooms|total_bedrooms|households|median_income|\n",
            "+---------+--------+------------------+-----------+--------------+----------+-------------+\n",
            "|  -122.05|   37.37|              27.0|     3885.0|         661.0|     606.0|       6.6085|\n",
            "|   -118.3|   34.26|              43.0|     1510.0|         310.0|     277.0|        3.599|\n",
            "|  -117.81|   33.78|              27.0|     3589.0|         507.0|     495.0|       5.7934|\n",
            "|  -118.36|   33.82|              28.0|       67.0|          15.0|      11.0|       6.1359|\n",
            "|  -119.67|   36.33|              19.0|     1241.0|         244.0|     237.0|       2.9375|\n",
            "|  -119.56|   36.51|              37.0|     1018.0|         213.0|     204.0|       1.6635|\n",
            "|  -121.43|   38.63|              43.0|     1009.0|         225.0|     218.0|       1.6641|\n",
            "|  -120.65|   35.48|              19.0|     2310.0|         471.0|     441.0|        3.225|\n",
            "|  -122.84|    38.4|              15.0|     3080.0|         617.0|     599.0|       3.6696|\n",
            "|  -118.02|   34.08|              31.0|     2402.0|         632.0|     603.0|       2.3333|\n",
            "+---------+--------+------------------+-----------+--------------+----------+-------------+\n",
            "only showing top 10 rows\n",
            "\n"
          ]
        }
      ],
      "source": [
        "df_csv1.drop('population','median_house_value').show(10)"
      ]
    },
    {
      "cell_type": "markdown",
      "source": [
        "# Renamed Column Names"
      ],
      "metadata": {
        "id": "j1fnJUdJx32w"
      }
    },
    {
      "cell_type": "code",
      "source": [
        "df_csv1.withColumnRenamed('total_bedrooms','bedrooms').withColumnRenamed('total_rooms','rooms').show(10)"
      ],
      "metadata": {
        "colab": {
          "base_uri": "https://localhost:8080/"
        },
        "id": "Xz5pZTb0yD9g",
        "outputId": "1132efcb-aeb5-41ac-8c95-bc0a1ccb4b9a"
      },
      "execution_count": 105,
      "outputs": [
        {
          "output_type": "stream",
          "name": "stdout",
          "text": [
            "+---------+--------+------------------+------+--------+----------+----------+-------------+------------------+\n",
            "|longitude|latitude|housing_median_age| rooms|bedrooms|population|households|median_income|median_house_value|\n",
            "+---------+--------+------------------+------+--------+----------+----------+-------------+------------------+\n",
            "|  -122.05|   37.37|              27.0|3885.0|   661.0|    1537.0|     606.0|       6.6085|          344700.0|\n",
            "|   -118.3|   34.26|              43.0|1510.0|   310.0|     809.0|     277.0|        3.599|          176500.0|\n",
            "|  -117.81|   33.78|              27.0|3589.0|   507.0|    1484.0|     495.0|       5.7934|          270500.0|\n",
            "|  -118.36|   33.82|              28.0|  67.0|    15.0|      49.0|      11.0|       6.1359|          330000.0|\n",
            "|  -119.67|   36.33|              19.0|1241.0|   244.0|     850.0|     237.0|       2.9375|           81700.0|\n",
            "|  -119.56|   36.51|              37.0|1018.0|   213.0|     663.0|     204.0|       1.6635|           67000.0|\n",
            "|  -121.43|   38.63|              43.0|1009.0|   225.0|     604.0|     218.0|       1.6641|           67000.0|\n",
            "|  -120.65|   35.48|              19.0|2310.0|   471.0|    1341.0|     441.0|        3.225|          166900.0|\n",
            "|  -122.84|    38.4|              15.0|3080.0|   617.0|    1446.0|     599.0|       3.6696|          194400.0|\n",
            "|  -118.02|   34.08|              31.0|2402.0|   632.0|    2830.0|     603.0|       2.3333|          164200.0|\n",
            "+---------+--------+------------------+------+--------+----------+----------+-------------+------------------+\n",
            "only showing top 10 rows\n",
            "\n"
          ]
        }
      ]
    },
    {
      "cell_type": "markdown",
      "source": [
        "# drop null values from dataFrame"
      ],
      "metadata": {
        "id": "4GLWl681eZBr"
      }
    },
    {
      "cell_type": "code",
      "source": [
        "# how = any ,it drops any null value in dataframe\n",
        "df_pipe1 = df_pipe.dropna(how = 'any')\n",
        "df_pipe1.count()\n"
      ],
      "metadata": {
        "colab": {
          "base_uri": "https://localhost:8080/"
        },
        "id": "9adhXB0X2PWR",
        "outputId": "7d844c78-61b0-4694-8186-93222cd38e0e"
      },
      "execution_count": 106,
      "outputs": [
        {
          "output_type": "execute_result",
          "data": {
            "text/plain": [
              "21"
            ]
          },
          "metadata": {},
          "execution_count": 106
        }
      ]
    },
    {
      "cell_type": "code",
      "source": [
        "# how =all,drops only all nulls in single row\n",
        "df_pipe2 = df_pipe.dropna(how = 'all')\n",
        "df_pipe2.count()"
      ],
      "metadata": {
        "colab": {
          "base_uri": "https://localhost:8080/"
        },
        "id": "ZiSsk5K13WRZ",
        "outputId": "985612ac-182a-4862-8f80-4c6d1f556bea"
      },
      "execution_count": 107,
      "outputs": [
        {
          "output_type": "execute_result",
          "data": {
            "text/plain": [
              "30"
            ]
          },
          "metadata": {},
          "execution_count": 107
        }
      ]
    },
    {
      "cell_type": "code",
      "source": [
        "#threshold\n",
        "df_pipe3 = df_pipe.dropna(how = 'any',thresh= 2)\n",
        "\n",
        "df_pipe3.count()"
      ],
      "metadata": {
        "colab": {
          "base_uri": "https://localhost:8080/"
        },
        "id": "oQDRVo363ivI",
        "outputId": "e34c2ce0-cfca-4414-ca38-d13ad7e5d7af"
      },
      "execution_count": 108,
      "outputs": [
        {
          "output_type": "execute_result",
          "data": {
            "text/plain": [
              "30"
            ]
          },
          "metadata": {},
          "execution_count": 108
        }
      ]
    },
    {
      "cell_type": "code",
      "source": [
        "#subset - used to delete particular column null values\n",
        "\n",
        "df_pipe4 = df_pipe.dropna(how = 'any',subset=[\"UPDATED_DATE\"])\n",
        "df_pipe4.count()"
      ],
      "metadata": {
        "colab": {
          "base_uri": "https://localhost:8080/"
        },
        "id": "Mj2lCE0v36g9",
        "outputId": "f348d0a9-67d7-41ed-ff78-5de9079dde1a"
      },
      "execution_count": 109,
      "outputs": [
        {
          "output_type": "execute_result",
          "data": {
            "text/plain": [
              "27"
            ]
          },
          "metadata": {},
          "execution_count": 109
        }
      ]
    },
    {
      "cell_type": "markdown",
      "source": [
        "# fill null values in dataFrame"
      ],
      "metadata": {
        "id": "UScc8GJDMusA"
      }
    },
    {
      "cell_type": "code",
      "source": [
        "df_pipe11 = df_pipe.fillna('missing',['ENAME','JOB']).fillna(1,['MGR','SAL']).fillna('12-08-1995',['HIREDATE','UPDATED_DATE'])\n",
        "df_pipe11.show(10)"
      ],
      "metadata": {
        "colab": {
          "base_uri": "https://localhost:8080/"
        },
        "id": "ODGR9ATz7fCu",
        "outputId": "ebe31ebd-a83a-43f1-a649-8aee039c47dd"
      },
      "execution_count": 110,
      "outputs": [
        {
          "output_type": "stream",
          "name": "stdout",
          "text": [
            "+-----+-------+---------+----+----------+----+------+------------+\n",
            "|EMPNO|  ENAME|      JOB| MGR|  HIREDATE| SAL|DEPTNO|UPDATED_DATE|\n",
            "+-----+-------+---------+----+----------+----+------+------------+\n",
            "| 7369|  SMITH|    CLERK|7902|17-12-1980| 800|    20|  01-01-2022|\n",
            "| 7499|  ALLEN| SALESMAN|7698|20-02-1981|1600|    30|  02-01-2022|\n",
            "| 7521|   WARD| SALESMAN|7698|22-02-1981|1250|    30|  03-01-2022|\n",
            "| 7566|  JONES|  MANAGER|   1|04-02-1981|2975|    20|  04-01-2022|\n",
            "| 7654|missing|  missing|7698|21-09-1981|   1|    30|  05-01-2022|\n",
            "| 7698|    SGR|  MANAGER|7839|05-01-1981|2850|    30|  06-01-2022|\n",
            "| 7782|   RAVI|  missing|   1|06-09-1981|2450|    10|  07-01-2022|\n",
            "| 7788|  SCOTT|  ANALYST|7566|19-04-1987|3000|    20|  08-01-2022|\n",
            "| 7839|missing|PRESIDENT|   1|12-08-1995|5000|    10|  12-08-1995|\n",
            "| 7844| TURNER| SALESMAN|7698|09-08-1981|1500|    30|  01-02-2022|\n",
            "+-----+-------+---------+----+----------+----+------+------------+\n",
            "only showing top 10 rows\n",
            "\n"
          ]
        }
      ]
    },
    {
      "cell_type": "markdown",
      "source": [
        "# Filter operations"
      ],
      "metadata": {
        "id": "BtR_0aUmWVvw"
      }
    },
    {
      "cell_type": "code",
      "source": [
        "#salary of peeple greter than 1600 -one way\n",
        "\n",
        "df_pipe.filter('SAL>1600').show()"
      ],
      "metadata": {
        "id": "YYtW6tb6WiEp",
        "colab": {
          "base_uri": "https://localhost:8080/"
        },
        "outputId": "9383de63-7806-40ad-dd5b-e2b227586d99"
      },
      "execution_count": 111,
      "outputs": [
        {
          "output_type": "stream",
          "name": "stdout",
          "text": [
            "+-----+-----+---------+----+----------+----+------+------------+\n",
            "|EMPNO|ENAME|      JOB| MGR|  HIREDATE| SAL|DEPTNO|UPDATED_DATE|\n",
            "+-----+-----+---------+----+----------+----+------+------------+\n",
            "| 7566|JONES|  MANAGER|null|04-02-1981|2975|    20|  04-01-2022|\n",
            "| 7698|  SGR|  MANAGER|7839|05-01-1981|2850|    30|  06-01-2022|\n",
            "| 7782| RAVI|     null|null|06-09-1981|2450|    10|  07-01-2022|\n",
            "| 7788|SCOTT|  ANALYST|7566|19-04-1987|3000|    20|  08-01-2022|\n",
            "| 7839| null|PRESIDENT|null|      null|5000|    10|        null|\n",
            "| 7902| FORD|  ANALYST|7566|12-03-1981|3000|    20|  04-02-2022|\n",
            "| 7566|JONES|  MANAGER|7839|04-02-1981|2975|    20|  01-02-2021|\n",
            "| 7698|  SGR|  MANAGER|7839|05-01-1981|2850|    30|  03-02-2021|\n",
            "| 7782| RAVI|  MANAGER|7839|06-09-1981|2450|    10|  04-02-2021|\n",
            "| 7788|SCOTT|  ANALYST|7566|19-04-1987|3000|    20|  05-02-2021|\n",
            "| 7839| KING|PRESIDENT|null|01-11-1981|5000|    10|  06-02-2021|\n",
            "| 7902| FORD|  ANALYST|7566|12-03-1981|3000|    20|  01-01-2021|\n",
            "+-----+-----+---------+----+----------+----+------+------------+\n",
            "\n"
          ]
        }
      ]
    },
    {
      "cell_type": "code",
      "source": [
        "#salary of peeple greter than 3000 -other way\n",
        "\n",
        "df_pipe.filter(col('SAL')>3000).show()"
      ],
      "metadata": {
        "id": "oicV05Jse2VJ",
        "colab": {
          "base_uri": "https://localhost:8080/"
        },
        "outputId": "608e5aac-9078-45db-8ad2-2367e8b65075"
      },
      "execution_count": 112,
      "outputs": [
        {
          "output_type": "stream",
          "name": "stdout",
          "text": [
            "+-----+-----+---------+----+----------+----+------+------------+\n",
            "|EMPNO|ENAME|      JOB| MGR|  HIREDATE| SAL|DEPTNO|UPDATED_DATE|\n",
            "+-----+-----+---------+----+----------+----+------+------------+\n",
            "| 7839| null|PRESIDENT|null|      null|5000|    10|        null|\n",
            "| 7839| KING|PRESIDENT|null|01-11-1981|5000|    10|  06-02-2021|\n",
            "+-----+-----+---------+----+----------+----+------+------------+\n",
            "\n"
          ]
        }
      ]
    },
    {
      "cell_type": "code",
      "source": [
        "#not operator\n",
        "\n",
        "df_pipe.filter(~(col('SAL')>2000)).show(10)"
      ],
      "metadata": {
        "id": "9ui4rTRYfi6E",
        "colab": {
          "base_uri": "https://localhost:8080/"
        },
        "outputId": "5d97b80a-0e25-4cee-c199-35246c4839ec"
      },
      "execution_count": 113,
      "outputs": [
        {
          "output_type": "stream",
          "name": "stdout",
          "text": [
            "+-----+------+--------+----+----------+----+------+------------+\n",
            "|EMPNO| ENAME|     JOB| MGR|  HIREDATE| SAL|DEPTNO|UPDATED_DATE|\n",
            "+-----+------+--------+----+----------+----+------+------------+\n",
            "| 7369| SMITH|   CLERK|7902|17-12-1980| 800|    20|  01-01-2022|\n",
            "| 7499| ALLEN|SALESMAN|7698|20-02-1981|1600|    30|  02-01-2022|\n",
            "| 7521|  WARD|SALESMAN|7698|22-02-1981|1250|    30|  03-01-2022|\n",
            "| 7844|TURNER|SALESMAN|7698|09-08-1981|1500|    30|  01-02-2022|\n",
            "| 7876| ADAMS|   CLERK|7788|23-05-1987|1100|    20|  02-02-2022|\n",
            "| 7900| JAMES|   CLERK|7698|12-03-1981| 950|    30|  03-02-2022|\n",
            "| 7934|MILLER|   CLERK|7782|01-03-1982|1300|    10|  05-02-2022|\n",
            "| 1234|SEKHAR|  doctor|7777|      null| 667|    80|  06-02-2022|\n",
            "| 7369| SMITH|   CLERK|7902|17-12-1980| 800|    20|  07-02-2022|\n",
            "| 7499| ALLEN|SALESMAN|7698|20-02-1981|1600|    30|  08-02-2022|\n",
            "+-----+------+--------+----+----------+----+------+------------+\n",
            "only showing top 10 rows\n",
            "\n"
          ]
        }
      ]
    },
    {
      "cell_type": "code",
      "source": [
        "# & operator\n",
        "#show employee details who's salary less than 3000 and salary should be greater than 2000\n",
        "\n",
        "df_pipe.filter( (col('SAL')>2000) & (col('SAL')<3000)).show(10)\n",
        "\n"
      ],
      "metadata": {
        "id": "ddt93mRzZF2T",
        "colab": {
          "base_uri": "https://localhost:8080/"
        },
        "outputId": "cff0a515-0ea5-4269-c32d-23540f348364"
      },
      "execution_count": 114,
      "outputs": [
        {
          "output_type": "stream",
          "name": "stdout",
          "text": [
            "+-----+-----+-------+----+----------+----+------+------------+\n",
            "|EMPNO|ENAME|    JOB| MGR|  HIREDATE| SAL|DEPTNO|UPDATED_DATE|\n",
            "+-----+-----+-------+----+----------+----+------+------------+\n",
            "| 7566|JONES|MANAGER|null|04-02-1981|2975|    20|  04-01-2022|\n",
            "| 7698|  SGR|MANAGER|7839|05-01-1981|2850|    30|  06-01-2022|\n",
            "| 7782| RAVI|   null|null|06-09-1981|2450|    10|  07-01-2022|\n",
            "| 7566|JONES|MANAGER|7839|04-02-1981|2975|    20|  01-02-2021|\n",
            "| 7698|  SGR|MANAGER|7839|05-01-1981|2850|    30|  03-02-2021|\n",
            "| 7782| RAVI|MANAGER|7839|06-09-1981|2450|    10|  04-02-2021|\n",
            "+-----+-----+-------+----+----------+----+------+------------+\n",
            "\n"
          ]
        }
      ]
    },
    {
      "cell_type": "code",
      "source": [
        "# & operator\n",
        "#show clark employee details who's salary greater than 1000\n",
        "\n",
        "df_pipe.filter( (col('JOB') == 'CLERK') & (col('SAL')>1000)).show(10)"
      ],
      "metadata": {
        "id": "TBBfvxsVbmHT",
        "colab": {
          "base_uri": "https://localhost:8080/"
        },
        "outputId": "e365aae3-b8c2-48b9-e65d-eae18057e65a"
      },
      "execution_count": 115,
      "outputs": [
        {
          "output_type": "stream",
          "name": "stdout",
          "text": [
            "+-----+------+-----+----+----------+----+------+------------+\n",
            "|EMPNO| ENAME|  JOB| MGR|  HIREDATE| SAL|DEPTNO|UPDATED_DATE|\n",
            "+-----+------+-----+----+----------+----+------+------------+\n",
            "| 7876| ADAMS|CLERK|7788|23-05-1987|1100|    20|  02-02-2022|\n",
            "| 7934|MILLER|CLERK|7782|01-03-1982|1300|    10|  05-02-2022|\n",
            "| 7876| ADAMS|CLERK|7788|23-05-1987|1100|    20|  08-02-2021|\n",
            "| 7934|MILLER|CLERK|7782|01-03-1982|1300|    10|  02-01-2021|\n",
            "+-----+------+-----+----+----------+----+------+------------+\n",
            "\n"
          ]
        }
      ]
    },
    {
      "cell_type": "code",
      "source": [
        "# | operator\n",
        "#show employee details who's salary less than 3000 or salary should be greater than 2000\n",
        "\n",
        "df_pipe.filter( (col('SAL')>2000) | (col('SAL')<3000)).show(10)"
      ],
      "metadata": {
        "id": "2J5ZQNHbbgMe",
        "colab": {
          "base_uri": "https://localhost:8080/"
        },
        "outputId": "59dd1d0b-6392-4b6d-f877-f7b92ea7a9cf"
      },
      "execution_count": 116,
      "outputs": [
        {
          "output_type": "stream",
          "name": "stdout",
          "text": [
            "+-----+------+---------+----+----------+----+------+------------+\n",
            "|EMPNO| ENAME|      JOB| MGR|  HIREDATE| SAL|DEPTNO|UPDATED_DATE|\n",
            "+-----+------+---------+----+----------+----+------+------------+\n",
            "| 7369| SMITH|    CLERK|7902|17-12-1980| 800|    20|  01-01-2022|\n",
            "| 7499| ALLEN| SALESMAN|7698|20-02-1981|1600|    30|  02-01-2022|\n",
            "| 7521|  WARD| SALESMAN|7698|22-02-1981|1250|    30|  03-01-2022|\n",
            "| 7566| JONES|  MANAGER|null|04-02-1981|2975|    20|  04-01-2022|\n",
            "| 7698|   SGR|  MANAGER|7839|05-01-1981|2850|    30|  06-01-2022|\n",
            "| 7782|  RAVI|     null|null|06-09-1981|2450|    10|  07-01-2022|\n",
            "| 7788| SCOTT|  ANALYST|7566|19-04-1987|3000|    20|  08-01-2022|\n",
            "| 7839|  null|PRESIDENT|null|      null|5000|    10|        null|\n",
            "| 7844|TURNER| SALESMAN|7698|09-08-1981|1500|    30|  01-02-2022|\n",
            "| 7876| ADAMS|    CLERK|7788|23-05-1987|1100|    20|  02-02-2022|\n",
            "+-----+------+---------+----+----------+----+------+------------+\n",
            "only showing top 10 rows\n",
            "\n"
          ]
        }
      ]
    },
    {
      "cell_type": "markdown",
      "source": [
        "# GroupBy operations"
      ],
      "metadata": {
        "id": "sU7BZJM-Ct1Z"
      }
    },
    {
      "cell_type": "code",
      "source": [
        "#groupby job role and people count\n",
        "df_pipe.groupby('JOB').count().show()"
      ],
      "metadata": {
        "colab": {
          "base_uri": "https://localhost:8080/"
        },
        "id": "84ZeYOqcQIEs",
        "outputId": "d6f10c66-5773-4407-eade-8c0d3f880bc4"
      },
      "execution_count": 117,
      "outputs": [
        {
          "output_type": "stream",
          "name": "stdout",
          "text": [
            "+---------+-----+\n",
            "|      JOB|count|\n",
            "+---------+-----+\n",
            "|  ANALYST|    4|\n",
            "| SALESMAN|    7|\n",
            "|    CLERK|    9|\n",
            "|     null|    2|\n",
            "|  MANAGER|    5|\n",
            "|PRESIDENT|    2|\n",
            "|   doctor|    1|\n",
            "+---------+-----+\n",
            "\n"
          ]
        }
      ]
    },
    {
      "cell_type": "code",
      "source": [
        "#Group by job role and sum of salaries\n",
        "df_pipe.groupBy('JOB').sum('SAL').show()"
      ],
      "metadata": {
        "colab": {
          "base_uri": "https://localhost:8080/"
        },
        "id": "dGY85vYYQVpt",
        "outputId": "f83c1849-c920-44aa-c2a2-56a8477daa46"
      },
      "execution_count": 118,
      "outputs": [
        {
          "output_type": "stream",
          "name": "stdout",
          "text": [
            "+---------+--------+\n",
            "|      JOB|sum(SAL)|\n",
            "+---------+--------+\n",
            "|  ANALYST|   12000|\n",
            "| SALESMAN|    9950|\n",
            "|    CLERK|    8794|\n",
            "|     null|    2450|\n",
            "|  MANAGER|   14100|\n",
            "|PRESIDENT|   10000|\n",
            "|   doctor|     667|\n",
            "+---------+--------+\n",
            "\n"
          ]
        }
      ]
    },
    {
      "cell_type": "code",
      "source": [
        "#groupby deptno and people count\n",
        "df_pipe.groupBy('DEPTNO').count().show()"
      ],
      "metadata": {
        "colab": {
          "base_uri": "https://localhost:8080/"
        },
        "id": "9lcdtcnVRiWk",
        "outputId": "b05500e0-9434-4b35-c71a-a064c828b2ba"
      },
      "execution_count": 119,
      "outputs": [
        {
          "output_type": "stream",
          "name": "stdout",
          "text": [
            "+------+-----+\n",
            "|DEPTNO|count|\n",
            "+------+-----+\n",
            "|    20|   10|\n",
            "|    10|    6|\n",
            "|    80|    2|\n",
            "|    30|   12|\n",
            "+------+-----+\n",
            "\n"
          ]
        }
      ]
    },
    {
      "cell_type": "code",
      "source": [
        "#groupby deptno and sum salary\n",
        "df_pipe.groupBy('DEPTNO').sum('SAL').show()"
      ],
      "metadata": {
        "colab": {
          "base_uri": "https://localhost:8080/"
        },
        "id": "uqDqn1jRRQSk",
        "outputId": "ef3dd649-2ae0-44e9-ed23-a55ceea04032"
      },
      "execution_count": 120,
      "outputs": [
        {
          "output_type": "stream",
          "name": "stdout",
          "text": [
            "+------+--------+\n",
            "|DEPTNO|sum(SAL)|\n",
            "+------+--------+\n",
            "|    20|   21750|\n",
            "|    10|   17500|\n",
            "|    80|    1161|\n",
            "|    30|   17550|\n",
            "+------+--------+\n",
            "\n"
          ]
        }
      ]
    },
    {
      "cell_type": "markdown",
      "source": [
        "# Difference Between sort and order by\n",
        "Spark_sql : orderBy will do sorting an entire data ,sortby will do Partition wise sorting in sparksql .\n",
        "\n",
        "\n",
        "pyspark : orderBy and sort are same pyspark.sortwithinpartitions same as sortby ( it will do Partition wise sorting)"
      ],
      "metadata": {
        "id": "LFUyC4c-PhJb"
      }
    },
    {
      "cell_type": "markdown",
      "source": [
        "#sort operations"
      ],
      "metadata": {
        "id": "wpwS2_M1FOuA"
      }
    },
    {
      "cell_type": "code",
      "source": [
        "# sort salary data in  high to low\n",
        "df_pipe.sort( col('SAL').desc()).show(10)"
      ],
      "metadata": {
        "colab": {
          "base_uri": "https://localhost:8080/"
        },
        "id": "w4HqyUqQFOKB",
        "outputId": "5cebd860-e081-4892-81c4-3bc10e0fadca"
      },
      "execution_count": 121,
      "outputs": [
        {
          "output_type": "stream",
          "name": "stdout",
          "text": [
            "+-----+-----+---------+----+----------+----+------+------------+\n",
            "|EMPNO|ENAME|      JOB| MGR|  HIREDATE| SAL|DEPTNO|UPDATED_DATE|\n",
            "+-----+-----+---------+----+----------+----+------+------------+\n",
            "| 7839| null|PRESIDENT|null|      null|5000|    10|        null|\n",
            "| 7839| KING|PRESIDENT|null|01-11-1981|5000|    10|  06-02-2021|\n",
            "| 7788|SCOTT|  ANALYST|7566|19-04-1987|3000|    20|  08-01-2022|\n",
            "| 7902| FORD|  ANALYST|7566|12-03-1981|3000|    20|  04-02-2022|\n",
            "| 7788|SCOTT|  ANALYST|7566|19-04-1987|3000|    20|  05-02-2021|\n",
            "| 7902| FORD|  ANALYST|7566|12-03-1981|3000|    20|  01-01-2021|\n",
            "| 7566|JONES|  MANAGER|null|04-02-1981|2975|    20|  04-01-2022|\n",
            "| 7566|JONES|  MANAGER|7839|04-02-1981|2975|    20|  01-02-2021|\n",
            "| 7698|  SGR|  MANAGER|7839|05-01-1981|2850|    30|  06-01-2022|\n",
            "| 7698|  SGR|  MANAGER|7839|05-01-1981|2850|    30|  03-02-2021|\n",
            "+-----+-----+---------+----+----------+----+------+------------+\n",
            "only showing top 10 rows\n",
            "\n"
          ]
        }
      ]
    },
    {
      "cell_type": "markdown",
      "source": [
        "# OrderBy operations"
      ],
      "metadata": {
        "id": "o1WxT1VaLbDf"
      }
    },
    {
      "cell_type": "code",
      "source": [
        "#In Pyspark - orderBy and sort are same pyspark\n",
        "# order salary data in high to low\n",
        "df_pipe.orderBy( col('SAL').desc()).show(10)"
      ],
      "metadata": {
        "colab": {
          "base_uri": "https://localhost:8080/"
        },
        "id": "Uwl7_tc-lq_Q",
        "outputId": "aaf93ab1-7c94-477f-aaea-9f4474f87f4b"
      },
      "execution_count": 122,
      "outputs": [
        {
          "output_type": "stream",
          "name": "stdout",
          "text": [
            "+-----+-----+---------+----+----------+----+------+------------+\n",
            "|EMPNO|ENAME|      JOB| MGR|  HIREDATE| SAL|DEPTNO|UPDATED_DATE|\n",
            "+-----+-----+---------+----+----------+----+------+------------+\n",
            "| 7839| null|PRESIDENT|null|      null|5000|    10|        null|\n",
            "| 7839| KING|PRESIDENT|null|01-11-1981|5000|    10|  06-02-2021|\n",
            "| 7788|SCOTT|  ANALYST|7566|19-04-1987|3000|    20|  08-01-2022|\n",
            "| 7902| FORD|  ANALYST|7566|12-03-1981|3000|    20|  04-02-2022|\n",
            "| 7788|SCOTT|  ANALYST|7566|19-04-1987|3000|    20|  05-02-2021|\n",
            "| 7902| FORD|  ANALYST|7566|12-03-1981|3000|    20|  01-01-2021|\n",
            "| 7566|JONES|  MANAGER|null|04-02-1981|2975|    20|  04-01-2022|\n",
            "| 7566|JONES|  MANAGER|7839|04-02-1981|2975|    20|  01-02-2021|\n",
            "| 7698|  SGR|  MANAGER|7839|05-01-1981|2850|    30|  06-01-2022|\n",
            "| 7698|  SGR|  MANAGER|7839|05-01-1981|2850|    30|  03-02-2021|\n",
            "+-----+-----+---------+----+----------+----+------+------------+\n",
            "only showing top 10 rows\n",
            "\n"
          ]
        }
      ]
    },
    {
      "cell_type": "markdown",
      "source": [
        "# SortWithinpartition"
      ],
      "metadata": {
        "id": "rdNeqfEmnAnC"
      }
    },
    {
      "cell_type": "code",
      "source": [
        "#sortWithinPartitions -sortwithinpartitions same as sortby ( it will do Partition wise sorting)\n",
        "df_pipe.sortWithinPartitions('SAL').show(10)"
      ],
      "metadata": {
        "colab": {
          "base_uri": "https://localhost:8080/"
        },
        "id": "U2_uotlqm_4M",
        "outputId": "f04d7794-fc10-4252-c622-28267b98c68b"
      },
      "execution_count": 123,
      "outputs": [
        {
          "output_type": "stream",
          "name": "stdout",
          "text": [
            "+-----+------+--------+----+----------+----+------+------------+\n",
            "|EMPNO| ENAME|     JOB| MGR|  HIREDATE| SAL|DEPTNO|UPDATED_DATE|\n",
            "+-----+------+--------+----+----------+----+------+------------+\n",
            "| 7654|  null|    null|7698|21-09-1981|null|    30|  05-01-2022|\n",
            "| 1234|   RAM|   CLERK|7457|      null| 494|    80|  03-01-2021|\n",
            "| 1234|SEKHAR|  doctor|7777|      null| 667|    80|  06-02-2022|\n",
            "| 7369| SMITH|   CLERK|7902|17-12-1980| 800|    20|  01-01-2022|\n",
            "| 7369| SMITH|   CLERK|7902|17-12-1980| 800|    20|  07-02-2022|\n",
            "| 7900| JAMES|   CLERK|7698|12-03-1981| 950|    30|  03-02-2022|\n",
            "| 7900| JAMES|   CLERK|7698|      null| 950|    30|        null|\n",
            "| 7876| ADAMS|   CLERK|7788|23-05-1987|1100|    20|  02-02-2022|\n",
            "| 7876| ADAMS|   CLERK|7788|23-05-1987|1100|    20|  08-02-2021|\n",
            "| 7521|  WARD|SALESMAN|7698|22-02-1981|1250|    30|  03-01-2022|\n",
            "+-----+------+--------+----+----------+----+------+------------+\n",
            "only showing top 10 rows\n",
            "\n"
          ]
        }
      ]
    },
    {
      "cell_type": "markdown",
      "source": [
        "# coalesce\n",
        "coalesce : is a Narrow transformation : adjust data in existing partition,No shuffling ,By defult it will used for decrease the partitions."
      ],
      "metadata": {
        "id": "RzFUywnZQ6Io"
      }
    },
    {
      "cell_type": "code",
      "source": [
        "df_pipe.rdd.getNumPartitions()"
      ],
      "metadata": {
        "colab": {
          "base_uri": "https://localhost:8080/"
        },
        "id": "aysyaWiFocG5",
        "outputId": "20cd875f-2962-4dc8-e549-672a575a36ac"
      },
      "execution_count": 124,
      "outputs": [
        {
          "output_type": "execute_result",
          "data": {
            "text/plain": [
              "1"
            ]
          },
          "metadata": {},
          "execution_count": 124
        }
      ]
    },
    {
      "cell_type": "code",
      "source": [
        "df_pipe.coalesce(3).withColumn('partition_id',spark_partition_id()).show()"
      ],
      "metadata": {
        "colab": {
          "base_uri": "https://localhost:8080/"
        },
        "id": "ZJKKT_66pA64",
        "outputId": "5393fa0d-8d41-4fa7-f56a-7e6c70fd45a0"
      },
      "execution_count": 125,
      "outputs": [
        {
          "output_type": "stream",
          "name": "stdout",
          "text": [
            "+-----+------+---------+----+----------+----+------+------------+------------+\n",
            "|EMPNO| ENAME|      JOB| MGR|  HIREDATE| SAL|DEPTNO|UPDATED_DATE|partition_id|\n",
            "+-----+------+---------+----+----------+----+------+------------+------------+\n",
            "| 7369| SMITH|    CLERK|7902|17-12-1980| 800|    20|  01-01-2022|           0|\n",
            "| 7499| ALLEN| SALESMAN|7698|20-02-1981|1600|    30|  02-01-2022|           0|\n",
            "| 7521|  WARD| SALESMAN|7698|22-02-1981|1250|    30|  03-01-2022|           0|\n",
            "| 7566| JONES|  MANAGER|null|04-02-1981|2975|    20|  04-01-2022|           0|\n",
            "| 7654|  null|     null|7698|21-09-1981|null|    30|  05-01-2022|           0|\n",
            "| 7698|   SGR|  MANAGER|7839|05-01-1981|2850|    30|  06-01-2022|           0|\n",
            "| 7782|  RAVI|     null|null|06-09-1981|2450|    10|  07-01-2022|           0|\n",
            "| 7788| SCOTT|  ANALYST|7566|19-04-1987|3000|    20|  08-01-2022|           0|\n",
            "| 7839|  null|PRESIDENT|null|      null|5000|    10|        null|           0|\n",
            "| 7844|TURNER| SALESMAN|7698|09-08-1981|1500|    30|  01-02-2022|           0|\n",
            "| 7876| ADAMS|    CLERK|7788|23-05-1987|1100|    20|  02-02-2022|           0|\n",
            "| 7900| JAMES|    CLERK|7698|12-03-1981| 950|    30|  03-02-2022|           0|\n",
            "| 7902|  FORD|  ANALYST|7566|12-03-1981|3000|    20|  04-02-2022|           0|\n",
            "| 7934|MILLER|    CLERK|7782|01-03-1982|1300|    10|  05-02-2022|           0|\n",
            "| 1234|SEKHAR|   doctor|7777|      null| 667|    80|  06-02-2022|           0|\n",
            "| 7369| SMITH|    CLERK|7902|17-12-1980| 800|    20|  07-02-2022|           0|\n",
            "| 7499| ALLEN| SALESMAN|7698|20-02-1981|1600|    30|  08-02-2022|           0|\n",
            "| 7521|  WARD| SALESMAN|7698|22-02-1981|1250|    30|        null|           0|\n",
            "| 7566| JONES|  MANAGER|7839|04-02-1981|2975|    20|  01-02-2021|           0|\n",
            "| 7654|MARTIN| SALESMAN|7698|21-09-1981|1250|    30|  02-02-2021|           0|\n",
            "+-----+------+---------+----+----------+----+------+------------+------------+\n",
            "only showing top 20 rows\n",
            "\n"
          ]
        }
      ]
    },
    {
      "cell_type": "markdown",
      "source": [
        "# repartition\n",
        "repartition : is a wide transformation : create new partitions,Data shuffle will happen,used for increase/decrease the partitions, we can repartition based on column specific to increse the performence"
      ],
      "metadata": {
        "id": "EHG2iAdcoLAw"
      }
    },
    {
      "cell_type": "code",
      "source": [
        "df_pipe.rdd.getNumPartitions()"
      ],
      "metadata": {
        "colab": {
          "base_uri": "https://localhost:8080/"
        },
        "id": "jqj-qwagpoUA",
        "outputId": "a6a8e280-440b-449d-fb89-6c3ba31cedb2"
      },
      "execution_count": 126,
      "outputs": [
        {
          "output_type": "execute_result",
          "data": {
            "text/plain": [
              "1"
            ]
          },
          "metadata": {},
          "execution_count": 126
        }
      ]
    },
    {
      "cell_type": "code",
      "source": [
        "df_pipe.repartition(3).withColumn('partition',spark_partition_id()).show()"
      ],
      "metadata": {
        "colab": {
          "base_uri": "https://localhost:8080/"
        },
        "id": "jJ8lsbn_pyH0",
        "outputId": "cb0f4006-f560-4d55-b698-74e3f5852e0c"
      },
      "execution_count": 127,
      "outputs": [
        {
          "output_type": "stream",
          "name": "stdout",
          "text": [
            "+-----+------+---------+----+----------+----+------+------------+---------+\n",
            "|EMPNO| ENAME|      JOB| MGR|  HIREDATE| SAL|DEPTNO|UPDATED_DATE|partition|\n",
            "+-----+------+---------+----+----------+----+------+------------+---------+\n",
            "| 7934|MILLER|    CLERK|7782|01-03-1982|1300|    10|  02-01-2021|        0|\n",
            "| 7876| ADAMS|    CLERK|7788|23-05-1987|1100|    20|  02-02-2022|        0|\n",
            "| 7369| SMITH|    CLERK|7902|17-12-1980| 800|    20|  01-01-2022|        0|\n",
            "| 7698|   SGR|  MANAGER|7839|05-01-1981|2850|    30|  06-01-2022|        0|\n",
            "| 7844|TURNER| SALESMAN|7698|09-08-1981|1500|    30|  07-02-2021|        0|\n",
            "| 7521|  WARD| SALESMAN|7698|22-02-1981|1250|    30|  03-01-2022|        0|\n",
            "| 7839|  null|PRESIDENT|null|      null|5000|    10|        null|        0|\n",
            "| 7839|  KING|PRESIDENT|null|01-11-1981|5000|    10|  06-02-2021|        0|\n",
            "| 7499| ALLEN| SALESMAN|7698|20-02-1981|1600|    30|  02-01-2022|        0|\n",
            "| 1234|   RAM|    CLERK|7457|      null| 494|    80|  03-01-2021|        0|\n",
            "| 1234|SEKHAR|   doctor|7777|      null| 667|    80|  06-02-2022|        1|\n",
            "| 7566| JONES|  MANAGER|null|04-02-1981|2975|    20|  04-01-2022|        1|\n",
            "| 7521|  WARD| SALESMAN|7698|22-02-1981|1250|    30|        null|        1|\n",
            "| 7654|MARTIN| SALESMAN|7698|21-09-1981|1250|    30|  02-02-2021|        1|\n",
            "| 7844|TURNER| SALESMAN|7698|09-08-1981|1500|    30|  01-02-2022|        1|\n",
            "| 7902|  FORD|  ANALYST|7566|12-03-1981|3000|    20|  01-01-2021|        1|\n",
            "| 7902|  FORD|  ANALYST|7566|12-03-1981|3000|    20|  04-02-2022|        1|\n",
            "| 7900| JAMES|    CLERK|7698|12-03-1981| 950|    30|  03-02-2022|        1|\n",
            "| 7499| ALLEN| SALESMAN|7698|20-02-1981|1600|    30|  08-02-2022|        1|\n",
            "| 7782|  RAVI|     null|null|06-09-1981|2450|    10|  07-01-2022|        1|\n",
            "+-----+------+---------+----+----------+----+------+------------+---------+\n",
            "only showing top 20 rows\n",
            "\n"
          ]
        }
      ]
    },
    {
      "cell_type": "markdown",
      "source": [
        "# joining two dataframes"
      ],
      "metadata": {
        "id": "Mu5ZMoTNVcM9"
      }
    },
    {
      "cell_type": "code",
      "source": [
        "product = spark.read.format('csv').option('header',True).option('inferSchema',True).option('nullValue','null').load('/content/product_info_2.csv')\n",
        "product.show(10)\n"
      ],
      "metadata": {
        "colab": {
          "base_uri": "https://localhost:8080/"
        },
        "id": "s_qXzBsWVfEQ",
        "outputId": "baad4435-3e8a-4166-a60b-bfec7ec80d55"
      },
      "execution_count": 128,
      "outputs": [
        {
          "output_type": "stream",
          "name": "stdout",
          "text": [
            "+-----+----------+--------------------+----------+\n",
            "|sl_no|product_id|        product_name|unit_price|\n",
            "+-----+----------+--------------------+----------+\n",
            "|    1|         1|        Asus Watch 2|       100|\n",
            "|    2|         2|  Impex 8975 speaker|       120|\n",
            "|    3|         3|         Asus R558UQ|       100|\n",
            "|    4|         4|           Iphone 11|      1000|\n",
            "|    5|         5| Samsung Galaxy Buds|       100|\n",
            "|    6|         6|           Iphone 12|      3000|\n",
            "|    7|         7|Samsung galaxy phone|      3000|\n",
            "|    8|         8|             Airpods|       100|\n",
            "|    9|         9|     Sony headphones|       100|\n",
            "|   10|        10|        Sandisk SSD |       500|\n",
            "+-----+----------+--------------------+----------+\n",
            "\n"
          ]
        }
      ]
    },
    {
      "cell_type": "code",
      "source": [
        "sale = spark.read.format('csv').option('header',True).option('inferSchema',True).option('nullValue','null').load('/content/sales_data_2.csv')\n",
        "sale.show(10)"
      ],
      "metadata": {
        "colab": {
          "base_uri": "https://localhost:8080/"
        },
        "id": "WA-y8lAQVhyV",
        "outputId": "f4ba1167-a626-4d2c-8142-bb72c0b4bc40"
      },
      "execution_count": 129,
      "outputs": [
        {
          "output_type": "stream",
          "name": "stdout",
          "text": [
            "+-----+----------+---+----+\n",
            "|sl_no|product_id|qty|year|\n",
            "+-----+----------+---+----+\n",
            "|    1|         1| 65|2020|\n",
            "|    2|         2| 19|2020|\n",
            "|    3|         3| 44|2020|\n",
            "|    4|         4|  5|2020|\n",
            "|    5|         5| 98|2020|\n",
            "|    6|         5|168|2015|\n",
            "|    7|         3| 40|2016|\n",
            "|    8|         1| 78|2018|\n",
            "|    9|         1|987|2019|\n",
            "|   10|         4|100|2019|\n",
            "+-----+----------+---+----+\n",
            "only showing top 10 rows\n",
            "\n"
          ]
        }
      ]
    },
    {
      "cell_type": "code",
      "source": [
        "#Joining Two Data frames\n",
        "# BY using drop function avoid duplicate columns after join\n",
        "product_sale = sale.join(product, product.product_id == sale.product_id,'inner').drop(product.product_id,product.sl_no)\n",
        "product_sale.show()"
      ],
      "metadata": {
        "colab": {
          "base_uri": "https://localhost:8080/"
        },
        "id": "LOXzsjjtftBj",
        "outputId": "0f865a4b-a425-4046-c568-6c5d38a57697"
      },
      "execution_count": 130,
      "outputs": [
        {
          "output_type": "stream",
          "name": "stdout",
          "text": [
            "+-----+----------+---+----+-------------------+----------+\n",
            "|sl_no|product_id|qty|year|       product_name|unit_price|\n",
            "+-----+----------+---+----+-------------------+----------+\n",
            "|    1|         1| 65|2020|       Asus Watch 2|       100|\n",
            "|    2|         2| 19|2020| Impex 8975 speaker|       120|\n",
            "|    3|         3| 44|2020|        Asus R558UQ|       100|\n",
            "|    4|         4|  5|2020|          Iphone 11|      1000|\n",
            "|    5|         5| 98|2020|Samsung Galaxy Buds|       100|\n",
            "|    6|         5|168|2015|Samsung Galaxy Buds|       100|\n",
            "|    7|         3| 40|2016|        Asus R558UQ|       100|\n",
            "|    8|         1| 78|2018|       Asus Watch 2|       100|\n",
            "|    9|         1|987|2019|       Asus Watch 2|       100|\n",
            "|   10|         4|100|2019|          Iphone 11|      1000|\n",
            "|   11|         1| 43|2020|       Asus Watch 2|       100|\n",
            "|   12|         5|100|2020|Samsung Galaxy Buds|       100|\n",
            "|   13|         8| 50|2021|            Airpods|       100|\n",
            "|   14|         9|100|2021|    Sony headphones|       100|\n",
            "|   15|        10| 20|2021|       Sandisk SSD |       500|\n",
            "|   16|         8| 30|2021|            Airpods|       100|\n",
            "|   17|         8| 11|2021|            Airpods|       100|\n",
            "|   18|         9| 20|2021|    Sony headphones|       100|\n",
            "|   19|        10| 30|2021|       Sandisk SSD |       500|\n",
            "|   20|         4| 40|2021|          Iphone 11|      1000|\n",
            "+-----+----------+---+----+-------------------+----------+\n",
            "only showing top 20 rows\n",
            "\n"
          ]
        }
      ]
    },
    {
      "cell_type": "code",
      "source": [
        "#new Revenue Column\n",
        "product_sale = product_sale.withColumn('Revenue',col('qty') * col('unit_price'))\n",
        "product_sale.show()"
      ],
      "metadata": {
        "colab": {
          "base_uri": "https://localhost:8080/"
        },
        "id": "PVlOWowVfwMT",
        "outputId": "24cb949f-1d3d-44b7-af80-2c705467f3d0"
      },
      "execution_count": 133,
      "outputs": [
        {
          "output_type": "stream",
          "name": "stdout",
          "text": [
            "+-----+----------+---+----+-------------------+----------+-------+\n",
            "|sl_no|product_id|qty|year|       product_name|unit_price|Revenue|\n",
            "+-----+----------+---+----+-------------------+----------+-------+\n",
            "|    1|         1| 65|2020|       Asus Watch 2|       100|   6500|\n",
            "|    2|         2| 19|2020| Impex 8975 speaker|       120|   2280|\n",
            "|    3|         3| 44|2020|        Asus R558UQ|       100|   4400|\n",
            "|    4|         4|  5|2020|          Iphone 11|      1000|   5000|\n",
            "|    5|         5| 98|2020|Samsung Galaxy Buds|       100|   9800|\n",
            "|    6|         5|168|2015|Samsung Galaxy Buds|       100|  16800|\n",
            "|    7|         3| 40|2016|        Asus R558UQ|       100|   4000|\n",
            "|    8|         1| 78|2018|       Asus Watch 2|       100|   7800|\n",
            "|    9|         1|987|2019|       Asus Watch 2|       100|  98700|\n",
            "|   10|         4|100|2019|          Iphone 11|      1000| 100000|\n",
            "|   11|         1| 43|2020|       Asus Watch 2|       100|   4300|\n",
            "|   12|         5|100|2020|Samsung Galaxy Buds|       100|  10000|\n",
            "|   13|         8| 50|2021|            Airpods|       100|   5000|\n",
            "|   14|         9|100|2021|    Sony headphones|       100|  10000|\n",
            "|   15|        10| 20|2021|       Sandisk SSD |       500|  10000|\n",
            "|   16|         8| 30|2021|            Airpods|       100|   3000|\n",
            "|   17|         8| 11|2021|            Airpods|       100|   1100|\n",
            "|   18|         9| 20|2021|    Sony headphones|       100|   2000|\n",
            "|   19|        10| 30|2021|       Sandisk SSD |       500|  15000|\n",
            "|   20|         4| 40|2021|          Iphone 11|      1000|  40000|\n",
            "+-----+----------+---+----+-------------------+----------+-------+\n",
            "only showing top 20 rows\n",
            "\n"
          ]
        }
      ]
    },
    {
      "cell_type": "markdown",
      "source": [
        "# Pivot Table"
      ],
      "metadata": {
        "id": "_4i7XySqf3t3"
      }
    },
    {
      "cell_type": "code",
      "source": [
        "product_sale.groupBy('year').pivot('product_name').sum('Revenue').show()"
      ],
      "metadata": {
        "colab": {
          "base_uri": "https://localhost:8080/"
        },
        "id": "s5YzPKFOf6nu",
        "outputId": "80050c56-f057-4a31-b291-7500fd281ac3"
      },
      "execution_count": 134,
      "outputs": [
        {
          "output_type": "stream",
          "name": "stdout",
          "text": [
            "+----+-------+-----------+------------+------------------+---------+-------------------+--------------------+------------+---------------+\n",
            "|year|Airpods|Asus R558UQ|Asus Watch 2|Impex 8975 speaker|Iphone 11|Samsung Galaxy Buds|Samsung galaxy phone|Sandisk SSD |Sony headphones|\n",
            "+----+-------+-----------+------------+------------------+---------+-------------------+--------------------+------------+---------------+\n",
            "|2018|   null|       null|        7800|              null|     null|               null|                null|        null|           null|\n",
            "|2015|   null|       null|        null|              null|     null|              16800|                null|        null|           null|\n",
            "|2019|   null|       null|       98700|              null|   100000|               null|                null|        null|           null|\n",
            "|2020|   null|       4400|       10800|              2280|     5000|              19800|                null|        null|           null|\n",
            "|2016|   null|       4000|        null|              null|     null|               null|                null|        null|           null|\n",
            "|2021|   9100|       null|        1000|              1200|    40000|               5500|               60000|       25000|          12000|\n",
            "+----+-------+-----------+------------+------------------+---------+-------------------+--------------------+------------+---------------+\n",
            "\n"
          ]
        }
      ]
    },
    {
      "cell_type": "markdown",
      "source": [
        "# inner Join"
      ],
      "metadata": {
        "id": "S9R3yBJ8XNN8"
      }
    },
    {
      "cell_type": "code",
      "source": [
        "df_inner = product.join(sale,product.product_id == sale.product_id,'inner')\n",
        "\n",
        "df_inner.show(truncate = False)\n",
        "df_inner.count()"
      ],
      "metadata": {
        "colab": {
          "base_uri": "https://localhost:8080/"
        },
        "id": "eKwD3a9NW6EL",
        "outputId": "396e03e3-3f83-49b2-8091-86a438484fd5"
      },
      "execution_count": 135,
      "outputs": [
        {
          "output_type": "stream",
          "name": "stdout",
          "text": [
            "+-----+----------+-------------------+----------+-----+----------+---+----+\n",
            "|sl_no|product_id|product_name       |unit_price|sl_no|product_id|qty|year|\n",
            "+-----+----------+-------------------+----------+-----+----------+---+----+\n",
            "|1    |1         |Asus Watch 2       |100       |1    |1         |65 |2020|\n",
            "|2    |2         |Impex 8975 speaker |120       |2    |2         |19 |2020|\n",
            "|3    |3         |Asus R558UQ        |100       |3    |3         |44 |2020|\n",
            "|4    |4         |Iphone 11          |1000      |4    |4         |5  |2020|\n",
            "|5    |5         |Samsung Galaxy Buds|100       |5    |5         |98 |2020|\n",
            "|5    |5         |Samsung Galaxy Buds|100       |6    |5         |168|2015|\n",
            "|3    |3         |Asus R558UQ        |100       |7    |3         |40 |2016|\n",
            "|1    |1         |Asus Watch 2       |100       |8    |1         |78 |2018|\n",
            "|1    |1         |Asus Watch 2       |100       |9    |1         |987|2019|\n",
            "|4    |4         |Iphone 11          |1000      |10   |4         |100|2019|\n",
            "|1    |1         |Asus Watch 2       |100       |11   |1         |43 |2020|\n",
            "|5    |5         |Samsung Galaxy Buds|100       |12   |5         |100|2020|\n",
            "|8    |8         |Airpods            |100       |13   |8         |50 |2021|\n",
            "|9    |9         |Sony headphones    |100       |14   |9         |100|2021|\n",
            "|10   |10        |Sandisk SSD        |500       |15   |10        |20 |2021|\n",
            "|8    |8         |Airpods            |100       |16   |8         |30 |2021|\n",
            "|8    |8         |Airpods            |100       |17   |8         |11 |2021|\n",
            "|9    |9         |Sony headphones    |100       |18   |9         |20 |2021|\n",
            "|10   |10        |Sandisk SSD        |500       |19   |10        |30 |2021|\n",
            "|4    |4         |Iphone 11          |1000      |20   |4         |40 |2021|\n",
            "+-----+----------+-------------------+----------+-----+----------+---+----+\n",
            "only showing top 20 rows\n",
            "\n"
          ]
        },
        {
          "output_type": "execute_result",
          "data": {
            "text/plain": [
              "24"
            ]
          },
          "metadata": {},
          "execution_count": 135
        }
      ]
    },
    {
      "cell_type": "markdown",
      "source": [
        "# left join"
      ],
      "metadata": {
        "id": "33U0vHW-aK0a"
      }
    },
    {
      "cell_type": "code",
      "source": [
        "df_left = product.join(sale,product.product_id == sale.product_id,'left')\n",
        "df_left.show(truncate = False)\n",
        "df_left.count()"
      ],
      "metadata": {
        "colab": {
          "base_uri": "https://localhost:8080/"
        },
        "id": "NNJdm3ZwXtu4",
        "outputId": "79eb1eae-6b2a-451d-93d5-e1b965f84a36"
      },
      "execution_count": 136,
      "outputs": [
        {
          "output_type": "stream",
          "name": "stdout",
          "text": [
            "+-----+----------+--------------------+----------+-----+----------+----+----+\n",
            "|sl_no|product_id|product_name        |unit_price|sl_no|product_id|qty |year|\n",
            "+-----+----------+--------------------+----------+-----+----------+----+----+\n",
            "|1    |1         |Asus Watch 2        |100       |23   |1         |10  |2021|\n",
            "|1    |1         |Asus Watch 2        |100       |11   |1         |43  |2020|\n",
            "|1    |1         |Asus Watch 2        |100       |9    |1         |987 |2019|\n",
            "|1    |1         |Asus Watch 2        |100       |8    |1         |78  |2018|\n",
            "|1    |1         |Asus Watch 2        |100       |1    |1         |65  |2020|\n",
            "|2    |2         |Impex 8975 speaker  |120       |22   |2         |10  |2021|\n",
            "|2    |2         |Impex 8975 speaker  |120       |2    |2         |19  |2020|\n",
            "|3    |3         |Asus R558UQ         |100       |7    |3         |40  |2016|\n",
            "|3    |3         |Asus R558UQ         |100       |3    |3         |44  |2020|\n",
            "|4    |4         |Iphone 11           |1000      |20   |4         |40  |2021|\n",
            "|4    |4         |Iphone 11           |1000      |10   |4         |100 |2019|\n",
            "|4    |4         |Iphone 11           |1000      |4    |4         |5   |2020|\n",
            "|5    |5         |Samsung Galaxy Buds |100       |21   |5         |55  |2021|\n",
            "|5    |5         |Samsung Galaxy Buds |100       |12   |5         |100 |2020|\n",
            "|5    |5         |Samsung Galaxy Buds |100       |6    |5         |168 |2015|\n",
            "|5    |5         |Samsung Galaxy Buds |100       |5    |5         |98  |2020|\n",
            "|6    |6         |Iphone 12           |3000      |null |null      |null|null|\n",
            "|7    |7         |Samsung galaxy phone|3000      |24   |7         |20  |2021|\n",
            "|8    |8         |Airpods             |100       |17   |8         |11  |2021|\n",
            "|8    |8         |Airpods             |100       |16   |8         |30  |2021|\n",
            "+-----+----------+--------------------+----------+-----+----------+----+----+\n",
            "only showing top 20 rows\n",
            "\n"
          ]
        },
        {
          "output_type": "execute_result",
          "data": {
            "text/plain": [
              "25"
            ]
          },
          "metadata": {},
          "execution_count": 136
        }
      ]
    },
    {
      "cell_type": "markdown",
      "source": [
        "# right join"
      ],
      "metadata": {
        "id": "FKHBYCsvaM_s"
      }
    },
    {
      "cell_type": "code",
      "source": [
        "df_right = product.join(sale,product.product_id == sale.product_id,'right')\n",
        "\n",
        "df_right.show(truncate = False)\n"
      ],
      "metadata": {
        "colab": {
          "base_uri": "https://localhost:8080/"
        },
        "id": "4XwkUxdbYjku",
        "outputId": "776e4466-47de-446a-883f-5f8e121ff140"
      },
      "execution_count": 137,
      "outputs": [
        {
          "output_type": "stream",
          "name": "stdout",
          "text": [
            "+-----+----------+-------------------+----------+-----+----------+---+----+\n",
            "|sl_no|product_id|product_name       |unit_price|sl_no|product_id|qty|year|\n",
            "+-----+----------+-------------------+----------+-----+----------+---+----+\n",
            "|1    |1         |Asus Watch 2       |100       |1    |1         |65 |2020|\n",
            "|2    |2         |Impex 8975 speaker |120       |2    |2         |19 |2020|\n",
            "|3    |3         |Asus R558UQ        |100       |3    |3         |44 |2020|\n",
            "|4    |4         |Iphone 11          |1000      |4    |4         |5  |2020|\n",
            "|5    |5         |Samsung Galaxy Buds|100       |5    |5         |98 |2020|\n",
            "|5    |5         |Samsung Galaxy Buds|100       |6    |5         |168|2015|\n",
            "|3    |3         |Asus R558UQ        |100       |7    |3         |40 |2016|\n",
            "|1    |1         |Asus Watch 2       |100       |8    |1         |78 |2018|\n",
            "|1    |1         |Asus Watch 2       |100       |9    |1         |987|2019|\n",
            "|4    |4         |Iphone 11          |1000      |10   |4         |100|2019|\n",
            "|1    |1         |Asus Watch 2       |100       |11   |1         |43 |2020|\n",
            "|5    |5         |Samsung Galaxy Buds|100       |12   |5         |100|2020|\n",
            "|8    |8         |Airpods            |100       |13   |8         |50 |2021|\n",
            "|9    |9         |Sony headphones    |100       |14   |9         |100|2021|\n",
            "|10   |10        |Sandisk SSD        |500       |15   |10        |20 |2021|\n",
            "|8    |8         |Airpods            |100       |16   |8         |30 |2021|\n",
            "|8    |8         |Airpods            |100       |17   |8         |11 |2021|\n",
            "|9    |9         |Sony headphones    |100       |18   |9         |20 |2021|\n",
            "|10   |10        |Sandisk SSD        |500       |19   |10        |30 |2021|\n",
            "|4    |4         |Iphone 11          |1000      |20   |4         |40 |2021|\n",
            "+-----+----------+-------------------+----------+-----+----------+---+----+\n",
            "only showing top 20 rows\n",
            "\n"
          ]
        }
      ]
    },
    {
      "cell_type": "markdown",
      "source": [
        "# Save Dataframe into hive table"
      ],
      "metadata": {
        "id": "57FYZECrn3lw"
      }
    },
    {
      "cell_type": "code",
      "source": [
        "product_sale.write.partitionBy('product_name').saveAsTable('product_Sale')"
      ],
      "metadata": {
        "id": "-1im3D4Un2Lq"
      },
      "execution_count": 139,
      "outputs": []
    },
    {
      "cell_type": "markdown",
      "source": [
        "# Read Dataframe from Hive table"
      ],
      "metadata": {
        "id": "J28XeLhxqVG9"
      }
    },
    {
      "cell_type": "code",
      "source": [
        "ps = spark.read.table('product_Sale')\n",
        "\n",
        "ps.show()"
      ],
      "metadata": {
        "colab": {
          "base_uri": "https://localhost:8080/"
        },
        "id": "awGPV5OPqASM",
        "outputId": "50c91bd5-f85a-4027-df2c-59119612aafd"
      },
      "execution_count": 140,
      "outputs": [
        {
          "output_type": "stream",
          "name": "stdout",
          "text": [
            "+-----+----------+---+----+----------+-------+-------------------+\n",
            "|sl_no|product_id|qty|year|unit_price|Revenue|       product_name|\n",
            "+-----+----------+---+----+----------+-------+-------------------+\n",
            "|    1|         1| 65|2020|       100|   6500|       Asus Watch 2|\n",
            "|    8|         1| 78|2018|       100|   7800|       Asus Watch 2|\n",
            "|    9|         1|987|2019|       100|  98700|       Asus Watch 2|\n",
            "|   11|         1| 43|2020|       100|   4300|       Asus Watch 2|\n",
            "|   23|         1| 10|2021|       100|   1000|       Asus Watch 2|\n",
            "|   13|         8| 50|2021|       100|   5000|            Airpods|\n",
            "|   16|         8| 30|2021|       100|   3000|            Airpods|\n",
            "|   17|         8| 11|2021|       100|   1100|            Airpods|\n",
            "|    5|         5| 98|2020|       100|   9800|Samsung Galaxy Buds|\n",
            "|    6|         5|168|2015|       100|  16800|Samsung Galaxy Buds|\n",
            "|   12|         5|100|2020|       100|  10000|Samsung Galaxy Buds|\n",
            "|   21|         5| 55|2021|       100|   5500|Samsung Galaxy Buds|\n",
            "|   14|         9|100|2021|       100|  10000|    Sony headphones|\n",
            "|   18|         9| 20|2021|       100|   2000|    Sony headphones|\n",
            "|   15|        10| 20|2021|       500|  10000|       Sandisk SSD |\n",
            "|   19|        10| 30|2021|       500|  15000|       Sandisk SSD |\n",
            "|    4|         4|  5|2020|      1000|   5000|          Iphone 11|\n",
            "|   10|         4|100|2019|      1000| 100000|          Iphone 11|\n",
            "|   20|         4| 40|2021|      1000|  40000|          Iphone 11|\n",
            "|    2|         2| 19|2020|       120|   2280| Impex 8975 speaker|\n",
            "+-----+----------+---+----+----------+-------+-------------------+\n",
            "only showing top 20 rows\n",
            "\n"
          ]
        }
      ]
    },
    {
      "cell_type": "code",
      "source": [],
      "metadata": {
        "id": "jDuw4pPGr9N2"
      },
      "execution_count": null,
      "outputs": []
    }
  ],
  "metadata": {
    "colab": {
      "collapsed_sections": [
        "NbFalTaBnvmA",
        "p-5j-cMJn7Jz",
        "Y-5-RjNwL94o",
        "Zo_-_Nj_hvsX",
        "HOSZSLuFiLYx",
        "g5IWj-E-pCro",
        "Ugtf0Tb1LaCD",
        "b0yax8KzZR6_",
        "PezsVmyIz2Wh",
        "YM0qyhQ4ytFC",
        "6sWz3tRMip0a",
        "IoEGhBowvpmK",
        "tw-6bfwaxu15",
        "j1fnJUdJx32w",
        "4GLWl681eZBr",
        "UScc8GJDMusA",
        "BtR_0aUmWVvw",
        "sU7BZJM-Ct1Z",
        "o1WxT1VaLbDf",
        "rdNeqfEmnAnC",
        "RzFUywnZQ6Io",
        "EHG2iAdcoLAw",
        "_4i7XySqf3t3",
        "S9R3yBJ8XNN8",
        "33U0vHW-aK0a",
        "FKHBYCsvaM_s"
      ],
      "provenance": []
    },
    "kernelspec": {
      "display_name": "Python 3",
      "name": "python3"
    },
    "language_info": {
      "name": "python"
    }
  },
  "nbformat": 4,
  "nbformat_minor": 0
}