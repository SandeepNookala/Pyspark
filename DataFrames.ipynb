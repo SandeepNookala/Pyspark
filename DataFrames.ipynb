{
 "cells": [
  {
   "cell_type": "markdown",
   "metadata": {
    "application/vnd.databricks.v1+cell": {
     "cellMetadata": {
      "byteLimit": 2048000,
      "rowLimit": 10000
     },
     "inputWidgets": {},
     "nuid": "03e1dde9-d7c0-49cf-99f8-05c178692473",
     "showTitle": false,
     "title": ""
    }
   },
   "source": [
    "#1.Installing Pyspark and Creating new SparkSession"
   ]
  },
  {
   "cell_type": "markdown",
   "metadata": {
    "application/vnd.databricks.v1+cell": {
     "cellMetadata": {
      "byteLimit": 2048000,
      "rowLimit": 10000
     },
     "inputWidgets": {},
     "nuid": "f124080f-40ec-46c4-bd72-d4e464cdbf58",
     "showTitle": false,
     "title": ""
    }
   },
   "source": [
    "\n",
    "!pip install pyspark py4j\n",
    "\n",
    "from pyspark.sql import SparkSession\n",
    "\n",
    "spark = SparkSession.bulider.master('yarn/local').appName('dataframe').getOrCreate()\n",
    "\n",
    "\n"
   ]
  },
  {
   "cell_type": "markdown",
   "metadata": {
    "application/vnd.databricks.v1+cell": {
     "cellMetadata": {
      "byteLimit": 2048000,
      "rowLimit": 10000
     },
     "inputWidgets": {},
     "nuid": "b27abe2e-b985-4e6f-ae2f-18a1ed989923",
     "showTitle": false,
     "title": ""
    }
   },
   "source": [
    "#2.Creating dataFrame from hdfs Location"
   ]
  },
  {
   "cell_type": "markdown",
   "metadata": {
    "application/vnd.databricks.v1+cell": {
     "cellMetadata": {
      "byteLimit": 2048000,
      "rowLimit": 10000
     },
     "inputWidgets": {},
     "nuid": "89667ab9-a86d-4604-a9f9-20169d79c8ca",
     "showTitle": false,
     "title": ""
    }
   },
   "source": [
    "df_hdfs = spark.read.format('csv').option().load('hdfs://172.16.38.131.8020/bigdata/cse/app_prod/cse.app_prod.csv')"
   ]
  },
  {
   "cell_type": "markdown",
   "metadata": {
    "application/vnd.databricks.v1+cell": {
     "cellMetadata": {
      "byteLimit": 2048000,
      "rowLimit": 10000
     },
     "inputWidgets": {},
     "nuid": "5d02d044-1784-47ab-8b7f-33f1023c8687",
     "showTitle": false,
     "title": ""
    }
   },
   "source": [
    "#3.Read CSV data into dataframe without header, schema\n"
   ]
  },
  {
   "cell_type": "code",
   "execution_count": 0,
   "metadata": {
    "application/vnd.databricks.v1+cell": {
     "cellMetadata": {
      "byteLimit": 2048000,
      "rowLimit": 10000
     },
     "inputWidgets": {},
     "nuid": "ff1c5c57-e030-49aa-a01e-30da73d60080",
     "showTitle": false,
     "title": ""
    }
   },
   "outputs": [
    {
     "output_type": "stream",
     "name": "stdout",
     "output_type": "stream",
     "text": [
      "+-----+------+---------+------+----------+----+------+------------+\n|  _c0|   _c1|      _c2|   _c3|       _c4| _c5|   _c6|         _c7|\n+-----+------+---------+------+----------+----+------+------------+\n|EMPNO| ENAME|      JOB|Manger|  HIREDATE| SAL|DEPTNO|UPDATED_DATE|\n| 7369| SMITH|    CLERK|  7902|17-12-1980| 800|    20|  01-01-2022|\n| 7499| ALLEN| SALESMAN|  7698|20-02-1980|1600|    30|  02-01-2022|\n| 7521|  WARD| SALESMAN|  7698|22-02-1980|1250|    30|  03-01-2022|\n| 7566| JONES|  MANAGER|  7839|04-02-1981|2975|    20|  04-01-2022|\n| 7654|MARTIN| SALESMAN|  7698|21-09-1981|1250|    30|  05-01-2022|\n| 7698|   SGR|  MANAGER|  7839|05-01-1981|2850|    30|  06-01-2022|\n| 7782|  RAVI|  MANAGER|  7839|06-09-1982|2450|    10|  07-01-2022|\n| 7788| SCOTT|  ANALYST|  7566|19-04-1982|3000|    20|  08-01-2022|\n| 7839|  KING|PRESIDENT|  null|      null|5000|    10|        null|\n+-----+------+---------+------+----------+----+------+------------+\nonly showing top 10 rows\n\n"
     ]
    }
   ],
   "source": [
    "spark.read.format('csv').load('dbfs:/FileStore/shared_uploads/nookala382@gmail.com/employee.csv').show(10)"
   ]
  },
  {
   "cell_type": "markdown",
   "metadata": {
    "application/vnd.databricks.v1+cell": {
     "cellMetadata": {
      "byteLimit": 2048000,
      "rowLimit": 10000
     },
     "inputWidgets": {},
     "nuid": "39c3bc15-6166-4d7a-9ed0-2c7aad19f297",
     "showTitle": false,
     "title": ""
    }
   },
   "source": [
    "#4.Read csv data into dataframe with Header and schema.Fetch type,row count,10 rows and printSchema"
   ]
  },
  {
   "cell_type": "code",
   "execution_count": 0,
   "metadata": {
    "application/vnd.databricks.v1+cell": {
     "cellMetadata": {
      "byteLimit": 2048000,
      "rowLimit": 10000
     },
     "inputWidgets": {},
     "nuid": "d9a46ca9-579c-4ecc-b174-0c3643af0ae8",
     "showTitle": false,
     "title": ""
    }
   },
   "outputs": [
    {
     "output_type": "stream",
     "name": "stdout",
     "output_type": "stream",
     "text": [
      "+-----+------+---------+------+----------+----+------+------------+\n|EMPNO| ENAME|      JOB|Manger|  HIREDATE| SAL|DEPTNO|UPDATED_DATE|\n+-----+------+---------+------+----------+----+------+------------+\n| 7369| SMITH|    CLERK|  7902|1980-12-17| 800|    20|  01-01-2022|\n| 7499| ALLEN| SALESMAN|  7698|1980-02-20|1600|    30|  02-01-2022|\n| 7521|  WARD| SALESMAN|  7698|1980-02-22|1250|    30|  03-01-2022|\n| 7566| JONES|  MANAGER|  7839|1981-02-04|2975|    20|  04-01-2022|\n| 7654|MARTIN| SALESMAN|  7698|1981-09-21|1250|    30|  05-01-2022|\n| 7698|   SGR|  MANAGER|  7839|1981-01-05|2850|    30|  06-01-2022|\n| 7782|  RAVI|  MANAGER|  7839|1982-09-06|2450|    10|  07-01-2022|\n| 7788| SCOTT|  ANALYST|  7566|1982-04-19|3000|    20|  08-01-2022|\n| 7839|  KING|PRESIDENT|  null|      null|5000|    10|        null|\n| 7844|TURNER| SALESMAN|  7698|1982-08-09|1500|    30|  01-02-2022|\n+-----+------+---------+------+----------+----+------+------------+\nonly showing top 10 rows\n\nroot\n |-- EMPNO: integer (nullable = true)\n |-- ENAME: string (nullable = true)\n |-- JOB: string (nullable = true)\n |-- Manger: integer (nullable = true)\n |-- HIREDATE: date (nullable = true)\n |-- SAL: integer (nullable = true)\n |-- DEPTNO: integer (nullable = true)\n |-- UPDATED_DATE: string (nullable = true)\n\nOut[277]: pyspark.sql.dataframe.DataFrame"
     ]
    }
   ],
   "source": [
    "df_csv = spark.read.format('csv').option('header',True).option('inferSchema',True).option('nullValue','null').load('dbfs:/FileStore/shared_uploads/nookala382@gmail.com/employee.csv')\n",
    "\n",
    "#ten rows\n",
    "df_csv.show(10)\n",
    "\n",
    "#printSchema?\n",
    "df_csv.printSchema()\n",
    "\n",
    "#count\n",
    "df_csv.count()\n",
    "\n",
    "#show type\n",
    "type(df_csv)\n"
   ]
  },
  {
   "cell_type": "markdown",
   "metadata": {
    "application/vnd.databricks.v1+cell": {
     "cellMetadata": {
      "byteLimit": 2048000,
      "rowLimit": 10000
     },
     "inputWidgets": {},
     "nuid": "7105a4b8-8cd8-40bf-917a-f90fb2ac8dcf",
     "showTitle": false,
     "title": ""
    }
   },
   "source": [
    "#5.Read csv dataframe with pipe seprated values.Fetch row count,10 rows and printSchema"
   ]
  },
  {
   "cell_type": "code",
   "execution_count": 0,
   "metadata": {
    "application/vnd.databricks.v1+cell": {
     "cellMetadata": {
      "byteLimit": 2048000,
      "rowLimit": 10000
     },
     "inputWidgets": {},
     "nuid": "8232c4b9-1ae2-4a63-8a21-131538a9ddee",
     "showTitle": false,
     "title": ""
    }
   },
   "outputs": [
    {
     "output_type": "stream",
     "name": "stdout",
     "output_type": "stream",
     "text": [
      "+-----+------+---------+----+----------+----+------+------------+\n|EMPNO| ENAME|      JOB| MGR|  HIREDATE| SAL|DEPTNO|UPDATED_DATE|\n+-----+------+---------+----+----------+----+------+------------+\n| 7369| SMITH|    CLERK|7902|1980-12-17| 800|    20|  01-01-2022|\n| 7499| ALLEN| SALESMAN|7698|1981-02-20|1600|    30|  02-01-2022|\n| 7521|  WARD| SALESMAN|7698|1981-02-22|1250|    30|  03-01-2022|\n| 7566| JONES|  MANAGER|null|1981-02-04|2975|    20|  04-01-2022|\n| 7654|  null|     null|7698|1981-09-21|null|    30|  05-01-2022|\n| 7698|   SGR|  MANAGER|7839|1981-01-05|2850|    30|  06-01-2022|\n| 7782|  RAVI|     null|null|1981-09-06|2450|    10|  07-01-2022|\n| 7788| SCOTT|  ANALYST|7566|1987-04-19|3000|    20|  08-01-2022|\n| 7839|  null|PRESIDENT|null|      null|5000|    10|        null|\n| 7844|TURNER| SALESMAN|7698|1981-08-09|1500|    30|  01-02-2022|\n+-----+------+---------+----+----------+----+------+------------+\nonly showing top 10 rows\n\nroot\n |-- EMPNO: integer (nullable = true)\n |-- ENAME: string (nullable = true)\n |-- JOB: string (nullable = true)\n |-- MGR: integer (nullable = true)\n |-- HIREDATE: date (nullable = true)\n |-- SAL: integer (nullable = true)\n |-- DEPTNO: integer (nullable = true)\n |-- UPDATED_DATE: string (nullable = true)\n\nOut[278]: 30"
     ]
    }
   ],
   "source": [
    "df_pipe = spark.read.format('csv').option('header',True).option('inferSchema',True).option('nullValue','null').option('sep','|').load('dbfs:/FileStore/shared_uploads/nookala382@gmail.com/emp_pipe.txt')\n",
    "\n",
    "df_pipe.show(10)\n",
    "df_pipe.printSchema()\n",
    "df_pipe.count()"
   ]
  },
  {
   "cell_type": "markdown",
   "metadata": {
    "application/vnd.databricks.v1+cell": {
     "cellMetadata": {
      "byteLimit": 2048000,
      "rowLimit": 10000
     },
     "inputWidgets": {},
     "nuid": "fa2b0045-6496-47ad-8c3d-791071b92ce8",
     "showTitle": false,
     "title": ""
    }
   },
   "source": [
    "#6.Read csv dataframe with double pipe seprated values ,Fetch row count,10 rows and printSchema\n"
   ]
  },
  {
   "cell_type": "code",
   "execution_count": 0,
   "metadata": {
    "application/vnd.databricks.v1+cell": {
     "cellMetadata": {
      "byteLimit": 2048000,
      "rowLimit": 10000
     },
     "inputWidgets": {},
     "nuid": "06685aaf-546e-4a5c-a887-ffb6d5f51934",
     "showTitle": false,
     "title": ""
    }
   },
   "outputs": [
    {
     "output_type": "stream",
     "name": "stdout",
     "output_type": "stream",
     "text": [
      "+-----+------+---------+----+----------+----+------+------------+\n|EMPNO| ENAME|      JOB| MGR|  HIREDATE| SAL|DEPTNO|UPDATED_DATE|\n+-----+------+---------+----+----------+----+------+------------+\n| 7369| SMITH|    CLERK|7902|17-12-1980| 800|    20|  01-01-2022|\n| 7499| ALLEN| SALESMAN|7698|20-02-1981|1600|    30|  02-01-2022|\n| 7521|  WARD| SALESMAN|7698|22-02-1981|1250|    30|  03-01-2022|\n| 7566| JONES|  MANAGER|7839|04-02-1981|2975|    20|  04-01-2022|\n| 7654|MARTIN| SALESMAN|7698|21-09-1981|1250|    30|  05-01-2022|\n| 7698|   SGR|  MANAGER|7839|05-01-1981|2850|    30|  06-01-2022|\n| 7782|  RAVI|  MANAGER|7839|06-09-1981|2450|    10|  07-01-2022|\n| 7788| SCOTT|  ANALYST|7566|19-04-1987|3000|    20|  08-01-2022|\n| 7839|  KING|PRESIDENT|null|      null|5000|    10|        null|\n| 7844|TURNER| SALESMAN|7698|09-08-1981|1500|    30|  01-02-2022|\n+-----+------+---------+----+----------+----+------+------------+\nonly showing top 10 rows\n\nroot\n |-- EMPNO: integer (nullable = true)\n |-- ENAME: string (nullable = true)\n |-- JOB: string (nullable = true)\n |-- MGR: string (nullable = true)\n |-- HIREDATE: string (nullable = true)\n |-- SAL: integer (nullable = true)\n |-- DEPTNO: integer (nullable = true)\n |-- UPDATED_DATE: string (nullable = true)\n\n"
     ]
    }
   ],
   "source": [
    "df_double = spark.read.format('csv').option('header',True).option('inferSchema',True).option('nullValue','nul').option('sep','||').load('dbfs:/FileStore/shared_uploads/nookala382@gmail.com/emp_double_pipe.txt')\n",
    "\n",
    "df_double.show(10)\n",
    "df_double.count()\n",
    "df_double.printSchema()"
   ]
  },
  {
   "cell_type": "markdown",
   "metadata": {
    "application/vnd.databricks.v1+cell": {
     "cellMetadata": {
      "byteLimit": 2048000,
      "rowLimit": 10000
     },
     "inputWidgets": {},
     "nuid": "80548173-a585-48a8-81f0-fb34f9b80065",
     "showTitle": false,
     "title": ""
    }
   },
   "source": [
    "#7.Inspect Data\n"
   ]
  },
  {
   "cell_type": "code",
   "execution_count": 0,
   "metadata": {
    "application/vnd.databricks.v1+cell": {
     "cellMetadata": {
      "byteLimit": 2048000,
      "rowLimit": 10000
     },
     "inputWidgets": {},
     "nuid": "9875b4ff-89bf-4134-9d8b-8c7abf0d1c6b",
     "showTitle": false,
     "title": ""
    }
   },
   "outputs": [
    {
     "output_type": "stream",
     "name": "stdout",
     "output_type": "stream",
     "text": [
      "+-----+------+---------+----+----------+----+------+------------+\n|EMPNO| ENAME|      JOB| MGR|  HIREDATE| SAL|DEPTNO|UPDATED_DATE|\n+-----+------+---------+----+----------+----+------+------------+\n| 7369| SMITH|    CLERK|7902|17-12-1980| 800|    20|  01-01-2022|\n| 7499| ALLEN| SALESMAN|7698|20-02-1981|1600|    30|  02-01-2022|\n| 7521|  WARD| SALESMAN|7698|22-02-1981|1250|    30|  03-01-2022|\n| 7566| JONES|  MANAGER|7839|04-02-1981|2975|    20|  04-01-2022|\n| 7654|MARTIN| SALESMAN|7698|21-09-1981|1250|    30|  05-01-2022|\n| 7698|   SGR|  MANAGER|7839|05-01-1981|2850|    30|  06-01-2022|\n| 7782|  RAVI|  MANAGER|7839|06-09-1981|2450|    10|  07-01-2022|\n| 7788| SCOTT|  ANALYST|7566|19-04-1987|3000|    20|  08-01-2022|\n| 7839|  KING|PRESIDENT|null|      null|5000|    10|        null|\n| 7844|TURNER| SALESMAN|7698|09-08-1981|1500|    30|  01-02-2022|\n+-----+------+---------+----+----------+----+------+------------+\nonly showing top 10 rows\n\nroot\n |-- EMPNO: integer (nullable = true)\n |-- ENAME: string (nullable = true)\n |-- JOB: string (nullable = true)\n |-- MGR: string (nullable = true)\n |-- HIREDATE: string (nullable = true)\n |-- SAL: integer (nullable = true)\n |-- DEPTNO: integer (nullable = true)\n |-- UPDATED_DATE: string (nullable = true)\n\n"
     ]
    }
   ],
   "source": [
    "#show dataframe\n",
    "df_double.show(10)\n",
    "\n",
    "#printSchema\n",
    "df_double.printSchema()\n"
   ]
  },
  {
   "cell_type": "code",
   "execution_count": 0,
   "metadata": {
    "application/vnd.databricks.v1+cell": {
     "cellMetadata": {
      "byteLimit": 2048000,
      "rowLimit": 10000
     },
     "inputWidgets": {},
     "nuid": "1715c3d0-94ef-4442-8028-a4deabd7057f",
     "showTitle": false,
     "title": ""
    }
   },
   "outputs": [
    {
     "output_type": "stream",
     "name": "stdout",
     "output_type": "stream",
     "text": [
      "Out[281]: ['EMPNO', 'ENAME', 'JOB', 'MGR', 'HIREDATE', 'SAL', 'DEPTNO', 'UPDATED_DATE']"
     ]
    }
   ],
   "source": [
    "#column names\n",
    "df_double.columns"
   ]
  },
  {
   "cell_type": "code",
   "execution_count": 0,
   "metadata": {
    "application/vnd.databricks.v1+cell": {
     "cellMetadata": {
      "byteLimit": 2048000,
      "rowLimit": 10000
     },
     "inputWidgets": {},
     "nuid": "5009de30-bd60-4bfe-a4ac-bb8405d700f3",
     "showTitle": false,
     "title": ""
    }
   },
   "outputs": [
    {
     "output_type": "stream",
     "name": "stdout",
     "output_type": "stream",
     "text": [
      "Out[282]: [('EMPNO', 'int'),\n ('ENAME', 'string'),\n ('JOB', 'string'),\n ('MGR', 'string'),\n ('HIREDATE', 'string'),\n ('SAL', 'int'),\n ('DEPTNO', 'int'),\n ('UPDATED_DATE', 'string')]"
     ]
    }
   ],
   "source": [
    "#column name with datatypes\n",
    "df_double.dtypes"
   ]
  },
  {
   "cell_type": "code",
   "execution_count": 0,
   "metadata": {
    "application/vnd.databricks.v1+cell": {
     "cellMetadata": {
      "byteLimit": 2048000,
      "rowLimit": 10000
     },
     "inputWidgets": {},
     "nuid": "e0c974b2-0822-46b2-98d9-63f19f51c8d4",
     "showTitle": false,
     "title": ""
    }
   },
   "outputs": [
    {
     "output_type": "stream",
     "name": "stdout",
     "output_type": "stream",
     "text": [
      "Out[283]: Row(EMPNO=7369, ENAME='SMITH', JOB='CLERK', MGR='7902', HIREDATE='17-12-1980', SAL=800, DEPTNO=20, UPDATED_DATE='01-01-2022')"
     ]
    }
   ],
   "source": [
    "#firstrow\n",
    "df_double.first()"
   ]
  },
  {
   "cell_type": "code",
   "execution_count": 0,
   "metadata": {
    "application/vnd.databricks.v1+cell": {
     "cellMetadata": {
      "byteLimit": 2048000,
      "rowLimit": 10000
     },
     "inputWidgets": {},
     "nuid": "0ca6bb6d-7eda-45ba-8f9d-c9574e0bb9c7",
     "showTitle": false,
     "title": ""
    }
   },
   "outputs": [
    {
     "output_type": "stream",
     "name": "stdout",
     "output_type": "stream",
     "text": [
      "Out[284]: [Row(EMPNO=7369, ENAME='SMITH', JOB='CLERK', MGR='7902', HIREDATE='17-12-1980', SAL=800, DEPTNO=20, UPDATED_DATE='01-01-2022'),\n Row(EMPNO=7499, ENAME='ALLEN', JOB='SALESMAN', MGR='7698', HIREDATE='20-02-1981', SAL=1600, DEPTNO=30, UPDATED_DATE='02-01-2022'),\n Row(EMPNO=7521, ENAME='WARD', JOB='SALESMAN', MGR='7698', HIREDATE='22-02-1981', SAL=1250, DEPTNO=30, UPDATED_DATE='03-01-2022'),\n Row(EMPNO=7566, ENAME='JONES', JOB='MANAGER', MGR='7839', HIREDATE='04-02-1981', SAL=2975, DEPTNO=20, UPDATED_DATE='04-01-2022'),\n Row(EMPNO=7654, ENAME='MARTIN', JOB='SALESMAN', MGR='7698', HIREDATE='21-09-1981', SAL=1250, DEPTNO=30, UPDATED_DATE='05-01-2022')]"
     ]
    }
   ],
   "source": [
    "#head - first five rows\n",
    "df_double.head(5)"
   ]
  },
  {
   "cell_type": "code",
   "execution_count": 0,
   "metadata": {
    "application/vnd.databricks.v1+cell": {
     "cellMetadata": {
      "byteLimit": 2048000,
      "rowLimit": 10000
     },
     "inputWidgets": {},
     "nuid": "be2edd26-6476-415c-a04f-5de57d1755c2",
     "showTitle": false,
     "title": ""
    }
   },
   "outputs": [
    {
     "output_type": "stream",
     "name": "stdout",
     "output_type": "stream",
     "text": [
      "Out[285]: [Row(EMPNO=7369, ENAME='SMITH', JOB='CLERK', MGR='7902', HIREDATE='17-12-1980', SAL=800, DEPTNO=20, UPDATED_DATE='01-01-2022'),\n Row(EMPNO=7499, ENAME='ALLEN', JOB='SALESMAN', MGR='7698', HIREDATE='20-02-1981', SAL=1600, DEPTNO=30, UPDATED_DATE='02-01-2022'),\n Row(EMPNO=7521, ENAME='WARD', JOB='SALESMAN', MGR='7698', HIREDATE='22-02-1981', SAL=1250, DEPTNO=30, UPDATED_DATE='03-01-2022')]"
     ]
    }
   ],
   "source": [
    "#take any random 3 rows\n",
    "df_double.take(3)"
   ]
  },
  {
   "cell_type": "code",
   "execution_count": 0,
   "metadata": {
    "application/vnd.databricks.v1+cell": {
     "cellMetadata": {
      "byteLimit": 2048000,
      "rowLimit": 10000
     },
     "inputWidgets": {},
     "nuid": "0addde9d-5cec-4099-bcc9-1ddf042e698c",
     "showTitle": false,
     "title": ""
    }
   },
   "outputs": [
    {
     "output_type": "stream",
     "name": "stdout",
     "output_type": "stream",
     "text": [
      "Out[286]: 30"
     ]
    }
   ],
   "source": [
    "#count no.of rows\n",
    "df_double.count()"
   ]
  },
  {
   "cell_type": "code",
   "execution_count": 0,
   "metadata": {
    "application/vnd.databricks.v1+cell": {
     "cellMetadata": {
      "byteLimit": 2048000,
      "rowLimit": 10000
     },
     "inputWidgets": {},
     "nuid": "c63626dd-046d-4d16-a873-f4026509e611",
     "showTitle": false,
     "title": ""
    }
   },
   "outputs": [
    {
     "output_type": "stream",
     "name": "stdout",
     "output_type": "stream",
     "text": [
      "Out[287]: 30"
     ]
    }
   ],
   "source": [
    "#count distinct no.of rows\n",
    "df_double.distinct().count()"
   ]
  },
  {
   "cell_type": "code",
   "execution_count": 0,
   "metadata": {
    "application/vnd.databricks.v1+cell": {
     "cellMetadata": {
      "byteLimit": 2048000,
      "rowLimit": 10000
     },
     "inputWidgets": {},
     "nuid": "d117b404-2da9-4f2e-960e-6d5737259e31",
     "showTitle": false,
     "title": ""
    }
   },
   "outputs": [
    {
     "output_type": "stream",
     "name": "stdout",
     "output_type": "stream",
     "text": [
      "Out[288]: [Row(EMPNO=7934, ENAME='MILLER', JOB='CLERK', MGR='7782', HIREDATE='01-03-1982', SAL=1300, DEPTNO=10, UPDATED_DATE='02-01-2021'),\n Row(EMPNO=1234, ENAME='RAM', JOB='CLERK', MGR='7457', HIREDATE='null', SAL=494, DEPTNO=80, UPDATED_DATE='03-01-2021')]"
     ]
    }
   ],
   "source": [
    "#tail - last two rows\n",
    "df_double.tail(2)"
   ]
  },
  {
   "cell_type": "code",
   "execution_count": 0,
   "metadata": {
    "application/vnd.databricks.v1+cell": {
     "cellMetadata": {
      "byteLimit": 2048000,
      "rowLimit": 10000
     },
     "inputWidgets": {},
     "nuid": "ca0561f0-f203-4b3e-857e-90a6e5c94464",
     "showTitle": false,
     "title": ""
    }
   },
   "outputs": [
    {
     "output_type": "stream",
     "name": "stdout",
     "output_type": "stream",
     "text": [
      "+-------+-----------------+-----+-------+------------------+----------+------------------+------------------+------------+\n|summary|            EMPNO|ENAME|    JOB|               MGR|  HIREDATE|               SAL|            DEPTNO|UPDATED_DATE|\n+-------+-----------------+-----+-------+------------------+----------+------------------+------------------+------------+\n|  count|               30|   30|     30|                30|        30|                30|                30|          30|\n|   mean|7293.733333333334| null|   null| 7730.571428571428|      null|            1973.7|              26.0|        null|\n| stddev|1655.846630690118| null|   null|111.74422797966989|      null|1182.2016908848655|16.525841832592434|        null|\n|    min|             1234|ADAMS|ANALYST|              7457|01-03-1982|               494|                10|  01-01-2021|\n|    max|             7934| WARD| doctor|              null|      null|              5000|                80|        null|\n+-------+-----------------+-----+-------+------------------+----------+------------------+------------------+------------+\n\n"
     ]
    }
   ],
   "source": [
    "# compute summery satistics for dataframe\n",
    "df_double.describe().show()"
   ]
  },
  {
   "cell_type": "code",
   "execution_count": 0,
   "metadata": {
    "application/vnd.databricks.v1+cell": {
     "cellMetadata": {
      "byteLimit": 2048000,
      "rowLimit": 10000
     },
     "inputWidgets": {},
     "nuid": "bc1dc399-37e6-443a-b35e-b3d145584abb",
     "showTitle": false,
     "title": ""
    }
   },
   "outputs": [
    {
     "output_type": "stream",
     "name": "stdout",
     "output_type": "stream",
     "text": [
      "== Physical Plan ==\nFileScan csv [EMPNO#21383,ENAME#21384,JOB#21385,MGR#21386,HIREDATE#21387,SAL#21388,DEPTNO#21389,UPDATED_DATE#21390] Batched: false, DataFilters: [], Format: CSV, Location: InMemoryFileIndex(1 paths)[dbfs:/FileStore/shared_uploads/nookala382@gmail.com/emp_double_pipe.txt], PartitionFilters: [], PushedFilters: [], ReadSchema: struct<EMPNO:int,ENAME:string,JOB:string,MGR:string,HIREDATE:string,SAL:int,DEPTNO:int,UPDATED_DA...\n\n\n"
     ]
    }
   ],
   "source": [
    "#explain physical plan and logical plan\n",
    "df_double.explain()"
   ]
  },
  {
   "cell_type": "markdown",
   "metadata": {
    "application/vnd.databricks.v1+cell": {
     "cellMetadata": {
      "byteLimit": 2048000,
      "rowLimit": 10000
     },
     "inputWidgets": {},
     "nuid": "66396f84-d67f-4e94-b206-7e5226866e50",
     "showTitle": false,
     "title": ""
    }
   },
   "source": [
    "#8.import functions"
   ]
  },
  {
   "cell_type": "code",
   "execution_count": 0,
   "metadata": {
    "application/vnd.databricks.v1+cell": {
     "cellMetadata": {
      "byteLimit": 2048000,
      "rowLimit": 10000
     },
     "inputWidgets": {},
     "nuid": "e79c5ca3-cb11-4ff0-95e8-3e0a859a331e",
     "showTitle": false,
     "title": ""
    }
   },
   "outputs": [],
   "source": [
    "from pyspark.sql.functions import *"
   ]
  },
  {
   "cell_type": "markdown",
   "metadata": {
    "application/vnd.databricks.v1+cell": {
     "cellMetadata": {
      "byteLimit": 2048000,
      "rowLimit": 10000
     },
     "inputWidgets": {},
     "nuid": "9b976a59-9b02-415f-9e8c-11f66d857927",
     "showTitle": false,
     "title": ""
    }
   },
   "source": [
    "#9.select operations"
   ]
  },
  {
   "cell_type": "code",
   "execution_count": 0,
   "metadata": {
    "application/vnd.databricks.v1+cell": {
     "cellMetadata": {
      "byteLimit": 2048000,
      "rowLimit": 10000
     },
     "inputWidgets": {},
     "nuid": "f35ee57f-d843-4765-891f-f3d7f3a21235",
     "showTitle": false,
     "title": ""
    }
   },
   "outputs": [
    {
     "output_type": "stream",
     "name": "stdout",
     "output_type": "stream",
     "text": [
      "+-------+----------+\n|new_mgr|new_salary|\n+-------+----------+\n| 3951.0|      1600|\n| 3849.0|      3200|\n| 3849.0|      2500|\n| 3919.5|      5950|\n| 3849.0|      2500|\n+-------+----------+\nonly showing top 5 rows\n\n"
     ]
    }
   ],
   "source": [
    "df_double.select( (col('MGR')/2).alias('new_mgr'),(col('sal')*2).alias('new_salary')).show(5)"
   ]
  },
  {
   "cell_type": "markdown",
   "metadata": {
    "application/vnd.databricks.v1+cell": {
     "cellMetadata": {
      "byteLimit": 2048000,
      "rowLimit": 10000
     },
     "inputWidgets": {},
     "nuid": "f82e4957-6c83-41f1-aaff-2ff546bbd917",
     "showTitle": false,
     "title": ""
    }
   },
   "source": [
    "#10.Adding new columns with default values"
   ]
  },
  {
   "cell_type": "code",
   "execution_count": 0,
   "metadata": {
    "application/vnd.databricks.v1+cell": {
     "cellMetadata": {
      "byteLimit": 2048000,
      "rowLimit": 10000
     },
     "inputWidgets": {},
     "nuid": "33118c27-9596-4fee-b6c6-51cde4f5fad0",
     "showTitle": false,
     "title": ""
    }
   },
   "outputs": [
    {
     "output_type": "stream",
     "name": "stdout",
     "output_type": "stream",
     "text": [
      "+-----+------+---------+----+----------+----+------+------------+------+\n|EMPNO| ENAME|      JOB| MGR|  HIREDATE| SAL|DEPTNO|UPDATED_DATE|source|\n+-----+------+---------+----+----------+----+------+------------+------+\n| 7369| SMITH|    CLERK|7902|17-12-1980| 800|    20|  01-01-2022|  test|\n| 7499| ALLEN| SALESMAN|7698|20-02-1981|1600|    30|  02-01-2022|  test|\n| 7521|  WARD| SALESMAN|7698|22-02-1981|1250|    30|  03-01-2022|  test|\n| 7566| JONES|  MANAGER|7839|04-02-1981|2975|    20|  04-01-2022|  test|\n| 7654|MARTIN| SALESMAN|7698|21-09-1981|1250|    30|  05-01-2022|  test|\n| 7698|   SGR|  MANAGER|7839|05-01-1981|2850|    30|  06-01-2022|  test|\n| 7782|  RAVI|  MANAGER|7839|06-09-1981|2450|    10|  07-01-2022|  test|\n| 7788| SCOTT|  ANALYST|7566|19-04-1987|3000|    20|  08-01-2022|  test|\n| 7839|  KING|PRESIDENT|null|      null|5000|    10|        null|  test|\n| 7844|TURNER| SALESMAN|7698|09-08-1981|1500|    30|  01-02-2022|  test|\n+-----+------+---------+----+----------+----+------+------------+------+\nonly showing top 10 rows\n\n"
     ]
    }
   ],
   "source": [
    "df_double1 = df_double.withColumn('source',lit('test'))\n",
    "df_double1.show(10)"
   ]
  },
  {
   "cell_type": "markdown",
   "metadata": {
    "application/vnd.databricks.v1+cell": {
     "cellMetadata": {
      "byteLimit": 2048000,
      "rowLimit": 10000
     },
     "inputWidgets": {},
     "nuid": "592cc381-2883-4dbd-98ea-3df0eb5ab410",
     "showTitle": false,
     "title": ""
    }
   },
   "source": [
    "#11.Adding new columns"
   ]
  },
  {
   "cell_type": "code",
   "execution_count": 0,
   "metadata": {
    "application/vnd.databricks.v1+cell": {
     "cellMetadata": {
      "byteLimit": 2048000,
      "rowLimit": 10000
     },
     "inputWidgets": {},
     "nuid": "f8539a92-6390-497b-86ec-c8861a5b3dd3",
     "showTitle": false,
     "title": ""
    }
   },
   "outputs": [
    {
     "output_type": "stream",
     "name": "stdout",
     "output_type": "stream",
     "text": [
      "+-----+------+---------+----+----------+----+------+------------+-------+-------+\n|EMPNO| ENAME|      JOB| MGR|  HIREDATE| SAL|DEPTNO|UPDATED_DATE|NEW_MGR|NEW_SAL|\n+-----+------+---------+----+----------+----+------+------------+-------+-------+\n| 7369| SMITH|    CLERK|7902|17-12-1980| 800|    20|  01-01-2022|15804.0|   80.0|\n| 7499| ALLEN| SALESMAN|7698|20-02-1981|1600|    30|  02-01-2022|15396.0|  160.0|\n| 7521|  WARD| SALESMAN|7698|22-02-1981|1250|    30|  03-01-2022|15396.0|  125.0|\n| 7566| JONES|  MANAGER|7839|04-02-1981|2975|    20|  04-01-2022|15678.0|  297.5|\n| 7654|MARTIN| SALESMAN|7698|21-09-1981|1250|    30|  05-01-2022|15396.0|  125.0|\n| 7698|   SGR|  MANAGER|7839|05-01-1981|2850|    30|  06-01-2022|15678.0|  285.0|\n| 7782|  RAVI|  MANAGER|7839|06-09-1981|2450|    10|  07-01-2022|15678.0|  245.0|\n| 7788| SCOTT|  ANALYST|7566|19-04-1987|3000|    20|  08-01-2022|15132.0|  300.0|\n| 7839|  KING|PRESIDENT|null|      null|5000|    10|        null|   null|  500.0|\n| 7844|TURNER| SALESMAN|7698|09-08-1981|1500|    30|  01-02-2022|15396.0|  150.0|\n+-----+------+---------+----+----------+----+------+------------+-------+-------+\nonly showing top 10 rows\n\n"
     ]
    }
   ],
   "source": [
    "df_double2 = df_double.withColumn('NEW_MGR', col('MGR')*2).withColumn('NEW_SAL',col('SAL')/10)\n",
    "df_double2.show(10)"
   ]
  },
  {
   "cell_type": "markdown",
   "metadata": {
    "application/vnd.databricks.v1+cell": {
     "cellMetadata": {
      "byteLimit": 2048000,
      "rowLimit": 10000
     },
     "inputWidgets": {},
     "nuid": "24bbd149-1b7c-4423-9d8c-2d0c9e91c1cd",
     "showTitle": false,
     "title": ""
    }
   },
   "source": [
    "#12.dropping columns"
   ]
  },
  {
   "cell_type": "code",
   "execution_count": 0,
   "metadata": {
    "application/vnd.databricks.v1+cell": {
     "cellMetadata": {
      "byteLimit": 2048000,
      "rowLimit": 10000
     },
     "inputWidgets": {},
     "nuid": "25fa4243-4337-4ee3-a18e-f20a4b8e0953",
     "showTitle": false,
     "title": ""
    }
   },
   "outputs": [
    {
     "output_type": "stream",
     "name": "stdout",
     "output_type": "stream",
     "text": [
      "+-----+------+---------+----------+------+------------+-------+-------+\n|EMPNO| ENAME|      JOB|  HIREDATE|DEPTNO|UPDATED_DATE|NEW_MGR|NEW_SAL|\n+-----+------+---------+----------+------+------------+-------+-------+\n| 7369| SMITH|    CLERK|17-12-1980|    20|  01-01-2022|15804.0|   80.0|\n| 7499| ALLEN| SALESMAN|20-02-1981|    30|  02-01-2022|15396.0|  160.0|\n| 7521|  WARD| SALESMAN|22-02-1981|    30|  03-01-2022|15396.0|  125.0|\n| 7566| JONES|  MANAGER|04-02-1981|    20|  04-01-2022|15678.0|  297.5|\n| 7654|MARTIN| SALESMAN|21-09-1981|    30|  05-01-2022|15396.0|  125.0|\n| 7698|   SGR|  MANAGER|05-01-1981|    30|  06-01-2022|15678.0|  285.0|\n| 7782|  RAVI|  MANAGER|06-09-1981|    10|  07-01-2022|15678.0|  245.0|\n| 7788| SCOTT|  ANALYST|19-04-1987|    20|  08-01-2022|15132.0|  300.0|\n| 7839|  KING|PRESIDENT|      null|    10|        null|   null|  500.0|\n| 7844|TURNER| SALESMAN|09-08-1981|    30|  01-02-2022|15396.0|  150.0|\n+-----+------+---------+----------+------+------------+-------+-------+\nonly showing top 10 rows\n\n"
     ]
    }
   ],
   "source": [
    "df_double3 =df_double2.drop('MGR','SAL')\n",
    "df_double3.show(10)"
   ]
  },
  {
   "cell_type": "markdown",
   "metadata": {
    "application/vnd.databricks.v1+cell": {
     "cellMetadata": {
      "byteLimit": 2048000,
      "rowLimit": 10000
     },
     "inputWidgets": {},
     "nuid": "fb940fda-4387-4801-8b20-d3bac48be4f5",
     "showTitle": false,
     "title": ""
    }
   },
   "source": [
    "#13.Renamed Column Names\n"
   ]
  },
  {
   "cell_type": "code",
   "execution_count": 0,
   "metadata": {
    "application/vnd.databricks.v1+cell": {
     "cellMetadata": {
      "byteLimit": 2048000,
      "rowLimit": 10000
     },
     "inputWidgets": {},
     "nuid": "7529baa2-a503-4edb-bc81-62ede9705f9c",
     "showTitle": false,
     "title": ""
    }
   },
   "outputs": [
    {
     "output_type": "stream",
     "name": "stdout",
     "output_type": "stream",
     "text": [
      "+-----+------+---------+----------+------+------------+-------+------+\n|EMPNO| ENAME|      JOB|  HIREDATE|DEPTNO|UPDATED_DATE|MANAGER|SALARY|\n+-----+------+---------+----------+------+------------+-------+------+\n| 7369| SMITH|    CLERK|17-12-1980|    20|  01-01-2022|15804.0|  80.0|\n| 7499| ALLEN| SALESMAN|20-02-1981|    30|  02-01-2022|15396.0| 160.0|\n| 7521|  WARD| SALESMAN|22-02-1981|    30|  03-01-2022|15396.0| 125.0|\n| 7566| JONES|  MANAGER|04-02-1981|    20|  04-01-2022|15678.0| 297.5|\n| 7654|MARTIN| SALESMAN|21-09-1981|    30|  05-01-2022|15396.0| 125.0|\n| 7698|   SGR|  MANAGER|05-01-1981|    30|  06-01-2022|15678.0| 285.0|\n| 7782|  RAVI|  MANAGER|06-09-1981|    10|  07-01-2022|15678.0| 245.0|\n| 7788| SCOTT|  ANALYST|19-04-1987|    20|  08-01-2022|15132.0| 300.0|\n| 7839|  KING|PRESIDENT|      null|    10|        null|   null| 500.0|\n| 7844|TURNER| SALESMAN|09-08-1981|    30|  01-02-2022|15396.0| 150.0|\n+-----+------+---------+----------+------+------------+-------+------+\nonly showing top 10 rows\n\n"
     ]
    }
   ],
   "source": [
    "df_double4= df_double3.withColumnRenamed('NEW_SAL','SALARY').withColumnRenamed('NEW_MGR','MANAGER')\n",
    "df_double4.show(10)"
   ]
  },
  {
   "cell_type": "markdown",
   "metadata": {
    "application/vnd.databricks.v1+cell": {
     "cellMetadata": {
      "byteLimit": 2048000,
      "rowLimit": 10000
     },
     "inputWidgets": {},
     "nuid": "5e62b48a-7694-4551-945c-fc41a63ea8c8",
     "showTitle": false,
     "title": ""
    }
   },
   "source": [
    "#14.drop null values from dataFrame"
   ]
  },
  {
   "cell_type": "code",
   "execution_count": 0,
   "metadata": {
    "application/vnd.databricks.v1+cell": {
     "cellMetadata": {
      "byteLimit": 2048000,
      "rowLimit": 10000
     },
     "inputWidgets": {},
     "nuid": "b7cb434d-2994-4fd4-b5da-239d423d2e21",
     "showTitle": false,
     "title": ""
    }
   },
   "outputs": [
    {
     "output_type": "stream",
     "name": "stdout",
     "output_type": "stream",
     "text": [
      "Out[297]: 21"
     ]
    }
   ],
   "source": [
    "# how = any ,it drops any null value in dataframe\n",
    "\n",
    "df_drop_any =  df_pipe.dropna(how = 'any')\n",
    "\n",
    "df_drop_any.count()"
   ]
  },
  {
   "cell_type": "code",
   "execution_count": 0,
   "metadata": {
    "application/vnd.databricks.v1+cell": {
     "cellMetadata": {
      "byteLimit": 2048000,
      "rowLimit": 10000
     },
     "inputWidgets": {},
     "nuid": "64e704d5-b877-4281-94e4-ff97541782b0",
     "showTitle": false,
     "title": ""
    }
   },
   "outputs": [
    {
     "output_type": "stream",
     "name": "stdout",
     "output_type": "stream",
     "text": [
      "Out[298]: 30"
     ]
    }
   ],
   "source": [
    "# how =all,drops the rows with all nulls in it\n",
    "\n",
    "df_drop_all = df_pipe.dropna(how = 'all')\n",
    "\n",
    "df_drop_all.count()"
   ]
  },
  {
   "cell_type": "code",
   "execution_count": 0,
   "metadata": {
    "application/vnd.databricks.v1+cell": {
     "cellMetadata": {
      "byteLimit": 2048000,
      "rowLimit": 10000
     },
     "inputWidgets": {},
     "nuid": "e68fb65a-2ad2-4132-a626-f30ac45d37e2",
     "showTitle": false,
     "title": ""
    }
   },
   "outputs": [
    {
     "output_type": "stream",
     "name": "stdout",
     "output_type": "stream",
     "text": [
      "Out[299]: 30"
     ]
    }
   ],
   "source": [
    "# how =all,drops the rows with custom nulls in it\n",
    "\n",
    "df_drop_custom = df_pipe.dropna(how = 'any' ,thresh = 4)\n",
    "\n",
    "df_drop_custom.count()"
   ]
  },
  {
   "cell_type": "code",
   "execution_count": 0,
   "metadata": {
    "application/vnd.databricks.v1+cell": {
     "cellMetadata": {
      "byteLimit": 2048000,
      "rowLimit": 10000
     },
     "inputWidgets": {},
     "nuid": "cdbfbd7c-2c8d-48d8-bade-f2bac01fa949",
     "showTitle": false,
     "title": ""
    }
   },
   "outputs": [
    {
     "output_type": "stream",
     "name": "stdout",
     "output_type": "stream",
     "text": [
      "Out[300]: 25"
     ]
    }
   ],
   "source": [
    "#drop the specific columns null values\n",
    "\n",
    "df_drop_column = df_pipe.dropna(how = 'any',subset=['UPDATED_DATE','HIREDATE'])\n",
    "df_drop_column.count()"
   ]
  },
  {
   "cell_type": "markdown",
   "metadata": {
    "application/vnd.databricks.v1+cell": {
     "cellMetadata": {
      "byteLimit": 2048000,
      "rowLimit": 10000
     },
     "inputWidgets": {},
     "nuid": "a84a1b83-c1ee-42fd-988f-7d52b1142df7",
     "showTitle": false,
     "title": ""
    }
   },
   "source": [
    "#15.fill null values in dataFrame"
   ]
  },
  {
   "cell_type": "code",
   "execution_count": 0,
   "metadata": {
    "application/vnd.databricks.v1+cell": {
     "cellMetadata": {
      "byteLimit": 2048000,
      "rowLimit": 10000
     },
     "inputWidgets": {},
     "nuid": "d7f2f333-69aa-403e-b7b9-d355dd32fee7",
     "showTitle": false,
     "title": ""
    }
   },
   "outputs": [
    {
     "output_type": "stream",
     "name": "stdout",
     "output_type": "stream",
     "text": [
      "+-----+-------------+-------------+----+----------+----+------+------------+\n|EMPNO|        ENAME|          JOB| MGR|  HIREDATE| SAL|DEPTNO|UPDATED_DATE|\n+-----+-------------+-------------+----+----------+----+------+------------+\n| 7369|        SMITH|        CLERK|7902|1980-12-17| 800|    20|  01-01-2022|\n| 7499|        ALLEN|     SALESMAN|7698|1981-02-20|1600|    30|  02-01-2022|\n| 7521|         WARD|     SALESMAN|7698|1981-02-22|1250|    30|  03-01-2022|\n| 7566|        JONES|      MANAGER|7000|1981-02-04|2975|    20|  04-01-2022|\n| 7654|MISSING_VALUE|MISSING_VALUE|7698|1981-09-21|1000|    30|  05-01-2022|\n| 7698|          SGR|      MANAGER|7839|1981-01-05|2850|    30|  06-01-2022|\n| 7782|         RAVI|MISSING_VALUE|7000|1981-09-06|2450|    10|  07-01-2022|\n| 7788|        SCOTT|      ANALYST|7566|1987-04-19|3000|    20|  08-01-2022|\n| 7839|MISSING_VALUE|    PRESIDENT|7000|      null|5000|    10|        null|\n| 7844|       TURNER|     SALESMAN|7698|1981-08-09|1500|    30|  01-02-2022|\n| 7876|        ADAMS|        CLERK|7788|1987-05-23|1100|    20|  02-02-2022|\n| 7900|        JAMES|        CLERK|7698|1981-03-12| 950|    30|  03-02-2022|\n| 7902|         FORD|      ANALYST|7566|1981-03-12|3000|    20|  04-02-2022|\n| 7934|       MILLER|        CLERK|7782|1982-03-01|1300|    10|  05-02-2022|\n| 1234|       SEKHAR|       doctor|7777|      null| 667|    80|  06-02-2022|\n| 7369|        SMITH|        CLERK|7902|1980-12-17| 800|    20|  07-02-2022|\n| 7499|        ALLEN|     SALESMAN|7698|1981-02-20|1600|    30|  08-02-2022|\n| 7521|         WARD|     SALESMAN|7698|1981-02-22|1250|    30|        null|\n| 7566|        JONES|      MANAGER|7839|1981-02-04|2975|    20|  01-02-2021|\n| 7654|       MARTIN|     SALESMAN|7698|1981-09-21|1250|    30|  02-02-2021|\n+-----+-------------+-------------+----+----------+----+------+------------+\nonly showing top 20 rows\n\n"
     ]
    }
   ],
   "source": [
    "df_fill = df_pipe.fillna('MISSING_VALUE',['JOB','ENAME']).fillna(7000,'MGR').fillna(1000,'SAL')\n",
    "df_fill.show()"
   ]
  },
  {
   "cell_type": "markdown",
   "metadata": {
    "application/vnd.databricks.v1+cell": {
     "cellMetadata": {
      "byteLimit": 2048000,
      "rowLimit": 10000
     },
     "inputWidgets": {},
     "nuid": "8ab5c7c9-f4af-4862-9fea-ab7b11970747",
     "showTitle": false,
     "title": ""
    }
   },
   "source": [
    "#16.Filter operations"
   ]
  },
  {
   "cell_type": "code",
   "execution_count": 0,
   "metadata": {
    "application/vnd.databricks.v1+cell": {
     "cellMetadata": {
      "byteLimit": 2048000,
      "rowLimit": 10000
     },
     "inputWidgets": {},
     "nuid": "e4caf8a1-4f05-4c3a-905a-c1fffe1f2610",
     "showTitle": false,
     "title": ""
    }
   },
   "outputs": [
    {
     "output_type": "stream",
     "name": "stdout",
     "output_type": "stream",
     "text": [
      "+-----+-----+---------+----+----------+----+------+------------+\n|EMPNO|ENAME|      JOB| MGR|  HIREDATE| SAL|DEPTNO|UPDATED_DATE|\n+-----+-----+---------+----+----------+----+------+------------+\n| 7839| null|PRESIDENT|null|      null|5000|    10|        null|\n| 7839| KING|PRESIDENT|null|1981-11-01|5000|    10|  06-02-2021|\n+-----+-----+---------+----+----------+----+------+------------+\n\n"
     ]
    }
   ],
   "source": [
    "#salary of people greter than 4000\n",
    "df_pipe.filter(col('SAL') >4000).show()"
   ]
  },
  {
   "cell_type": "code",
   "execution_count": 0,
   "metadata": {
    "application/vnd.databricks.v1+cell": {
     "cellMetadata": {
      "byteLimit": 2048000,
      "rowLimit": 10000
     },
     "inputWidgets": {},
     "nuid": "b046d856-423b-44e8-aa20-a61dff70f310",
     "showTitle": false,
     "title": ""
    }
   },
   "outputs": [
    {
     "output_type": "stream",
     "name": "stdout",
     "output_type": "stream",
     "text": [
      "+-----+-----+-------+----+----------+----+------+------------+\n|EMPNO|ENAME|    JOB| MGR|  HIREDATE| SAL|DEPTNO|UPDATED_DATE|\n+-----+-----+-------+----+----------+----+------+------------+\n| 7566|JONES|MANAGER|null|1981-02-04|2975|    20|  04-01-2022|\n| 7698|  SGR|MANAGER|7839|1981-01-05|2850|    30|  06-01-2022|\n| 7566|JONES|MANAGER|7839|1981-02-04|2975|    20|  01-02-2021|\n| 7698|  SGR|MANAGER|7839|1981-01-05|2850|    30|  03-02-2021|\n+-----+-----+-------+----+----------+----+------+------------+\n\n"
     ]
    }
   ],
   "source": [
    "# & operator\n",
    "#show employee details who's salar greater than 2500 and job is manager\n",
    "df_pipe.filter( (col('JOB') == 'MANAGER') & (col('SAL') > 2500)).show()"
   ]
  },
  {
   "cell_type": "code",
   "execution_count": 0,
   "metadata": {
    "application/vnd.databricks.v1+cell": {
     "cellMetadata": {
      "byteLimit": 2048000,
      "rowLimit": 10000
     },
     "inputWidgets": {},
     "nuid": "2bf4222b-b3b0-41e4-a21b-77e76fd373b9",
     "showTitle": false,
     "title": ""
    }
   },
   "outputs": [
    {
     "output_type": "stream",
     "name": "stdout",
     "output_type": "stream",
     "text": [
      "+-----+------+--------+----+----------+----+------+------------+\n|EMPNO| ENAME|     JOB| MGR|  HIREDATE| SAL|DEPTNO|UPDATED_DATE|\n+-----+------+--------+----+----------+----+------+------------+\n| 7499| ALLEN|SALESMAN|7698|1981-02-20|1600|    30|  02-01-2022|\n| 7521|  WARD|SALESMAN|7698|1981-02-22|1250|    30|  03-01-2022|\n| 7844|TURNER|SALESMAN|7698|1981-08-09|1500|    30|  01-02-2022|\n| 7876| ADAMS|   CLERK|7788|1987-05-23|1100|    20|  02-02-2022|\n| 7934|MILLER|   CLERK|7782|1982-03-01|1300|    10|  05-02-2022|\n| 7499| ALLEN|SALESMAN|7698|1981-02-20|1600|    30|  08-02-2022|\n| 7521|  WARD|SALESMAN|7698|1981-02-22|1250|    30|        null|\n| 7654|MARTIN|SALESMAN|7698|1981-09-21|1250|    30|  02-02-2021|\n| 7844|TURNER|SALESMAN|7698|1981-08-09|1500|    30|  07-02-2021|\n| 7876| ADAMS|   CLERK|7788|1987-05-23|1100|    20|  08-02-2021|\n| 7934|MILLER|   CLERK|7782|1982-03-01|1300|    10|  02-01-2021|\n+-----+------+--------+----+----------+----+------+------------+\n\n"
     ]
    }
   ],
   "source": [
    "# & operator\n",
    "#show employee details who's salary less than 2000 and salary should be greater than 1000\n",
    "df_pipe.filter((col('SAL') <2000) & ( col('SAL')>1000)).show()"
   ]
  },
  {
   "cell_type": "code",
   "execution_count": 0,
   "metadata": {
    "application/vnd.databricks.v1+cell": {
     "cellMetadata": {
      "byteLimit": 2048000,
      "rowLimit": 10000
     },
     "inputWidgets": {},
     "nuid": "201670ee-4fc1-4350-a845-6c12b6e10fe5",
     "showTitle": false,
     "title": ""
    }
   },
   "outputs": [
    {
     "output_type": "stream",
     "name": "stdout",
     "output_type": "stream",
     "text": [
      "+-----+------+---------+----+----------+----+------+------------+\n|EMPNO| ENAME|      JOB| MGR|  HIREDATE| SAL|DEPTNO|UPDATED_DATE|\n+-----+------+---------+----+----------+----+------+------------+\n| 7369| SMITH|    CLERK|7902|1980-12-17| 800|    20|  01-01-2022|\n| 7566| JONES|  MANAGER|null|1981-02-04|2975|    20|  04-01-2022|\n| 7698|   SGR|  MANAGER|7839|1981-01-05|2850|    30|  06-01-2022|\n| 7782|  RAVI|     null|null|1981-09-06|2450|    10|  07-01-2022|\n| 7788| SCOTT|  ANALYST|7566|1987-04-19|3000|    20|  08-01-2022|\n| 7839|  null|PRESIDENT|null|      null|5000|    10|        null|\n| 7900| JAMES|    CLERK|7698|1981-03-12| 950|    30|  03-02-2022|\n| 7902|  FORD|  ANALYST|7566|1981-03-12|3000|    20|  04-02-2022|\n| 1234|SEKHAR|   doctor|7777|      null| 667|    80|  06-02-2022|\n| 7369| SMITH|    CLERK|7902|1980-12-17| 800|    20|  07-02-2022|\n| 7566| JONES|  MANAGER|7839|1981-02-04|2975|    20|  01-02-2021|\n| 7698|   SGR|  MANAGER|7839|1981-01-05|2850|    30|  03-02-2021|\n| 7782|  RAVI|  MANAGER|7839|1981-09-06|2450|    10|  04-02-2021|\n| 7788| SCOTT|  ANALYST|7566|1987-04-19|3000|    20|  05-02-2021|\n| 7839|  KING|PRESIDENT|null|1981-11-01|5000|    10|  06-02-2021|\n| 7900| JAMES|    CLERK|7698|      null| 950|    30|        null|\n| 7902|  FORD|  ANALYST|7566|1981-03-12|3000|    20|  01-01-2021|\n| 1234|   RAM|    CLERK|7457|      null| 494|    80|  03-01-2021|\n+-----+------+---------+----+----------+----+------+------------+\n\n"
     ]
    }
   ],
   "source": [
    "# | operator\n",
    "#show employee details who's salary less than 2000 or salary should be greater than 1000\n",
    "df_pipe.filter((col('SAL')>2000) | (col('SAL')<1000)).show()"
   ]
  },
  {
   "cell_type": "code",
   "execution_count": 0,
   "metadata": {
    "application/vnd.databricks.v1+cell": {
     "cellMetadata": {
      "byteLimit": 2048000,
      "rowLimit": 10000
     },
     "inputWidgets": {},
     "nuid": "5f1c6960-cb79-484c-88d0-7c882ab11898",
     "showTitle": false,
     "title": ""
    }
   },
   "outputs": [
    {
     "output_type": "stream",
     "name": "stdout",
     "output_type": "stream",
     "text": [
      "+-----+------+---------+----+----------+----+------+------------+\n|EMPNO| ENAME|      JOB| MGR|  HIREDATE| SAL|DEPTNO|UPDATED_DATE|\n+-----+------+---------+----+----------+----+------+------------+\n| 7369| SMITH|    CLERK|7902|1980-12-17| 800|    20|  01-01-2022|\n| 7499| ALLEN| SALESMAN|7698|1981-02-20|1600|    30|  02-01-2022|\n| 7521|  WARD| SALESMAN|7698|1981-02-22|1250|    30|  03-01-2022|\n| 7788| SCOTT|  ANALYST|7566|1987-04-19|3000|    20|  08-01-2022|\n| 7839|  null|PRESIDENT|null|      null|5000|    10|        null|\n| 7844|TURNER| SALESMAN|7698|1981-08-09|1500|    30|  01-02-2022|\n| 7876| ADAMS|    CLERK|7788|1987-05-23|1100|    20|  02-02-2022|\n| 7900| JAMES|    CLERK|7698|1981-03-12| 950|    30|  03-02-2022|\n| 7902|  FORD|  ANALYST|7566|1981-03-12|3000|    20|  04-02-2022|\n| 7934|MILLER|    CLERK|7782|1982-03-01|1300|    10|  05-02-2022|\n| 1234|SEKHAR|   doctor|7777|      null| 667|    80|  06-02-2022|\n| 7369| SMITH|    CLERK|7902|1980-12-17| 800|    20|  07-02-2022|\n| 7499| ALLEN| SALESMAN|7698|1981-02-20|1600|    30|  08-02-2022|\n| 7521|  WARD| SALESMAN|7698|1981-02-22|1250|    30|        null|\n| 7654|MARTIN| SALESMAN|7698|1981-09-21|1250|    30|  02-02-2021|\n| 7788| SCOTT|  ANALYST|7566|1987-04-19|3000|    20|  05-02-2021|\n| 7839|  KING|PRESIDENT|null|1981-11-01|5000|    10|  06-02-2021|\n| 7844|TURNER| SALESMAN|7698|1981-08-09|1500|    30|  07-02-2021|\n| 7876| ADAMS|    CLERK|7788|1987-05-23|1100|    20|  08-02-2021|\n| 7900| JAMES|    CLERK|7698|      null| 950|    30|        null|\n+-----+------+---------+----+----------+----+------+------------+\nonly showing top 20 rows\n\n"
     ]
    }
   ],
   "source": [
    "#not operator\n",
    "df_pipe.filter( ~ (col('JOB') == 'MANAGER')).show()"
   ]
  },
  {
   "cell_type": "markdown",
   "metadata": {
    "application/vnd.databricks.v1+cell": {
     "cellMetadata": {
      "byteLimit": 2048000,
      "rowLimit": 10000
     },
     "inputWidgets": {},
     "nuid": "e797d1d6-1317-4bc4-ba34-48491502c33d",
     "showTitle": false,
     "title": ""
    }
   },
   "source": [
    "#17.GroupBy operations"
   ]
  },
  {
   "cell_type": "code",
   "execution_count": 0,
   "metadata": {
    "application/vnd.databricks.v1+cell": {
     "cellMetadata": {
      "byteLimit": 2048000,
      "rowLimit": 10000
     },
     "inputWidgets": {},
     "nuid": "3f61361e-4f6a-467c-bc72-ad0b3332bc3c",
     "showTitle": false,
     "title": ""
    }
   },
   "outputs": [
    {
     "output_type": "stream",
     "name": "stdout",
     "output_type": "stream",
     "text": [
      "+------+-----+\n|DEPTNO|count|\n+------+-----+\n|    20|   10|\n|    10|    6|\n|    80|    2|\n|    30|   12|\n+------+-----+\n\n"
     ]
    }
   ],
   "source": [
    "#groupby deptno and people count\n",
    "df_pipe.groupby('DEPTNO').count().show()"
   ]
  },
  {
   "cell_type": "code",
   "execution_count": 0,
   "metadata": {
    "application/vnd.databricks.v1+cell": {
     "cellMetadata": {
      "byteLimit": 2048000,
      "rowLimit": 10000
     },
     "inputWidgets": {},
     "nuid": "1dcb7d12-0e7a-4fb8-9324-590c25581788",
     "showTitle": false,
     "title": ""
    }
   },
   "outputs": [
    {
     "output_type": "stream",
     "name": "stdout",
     "output_type": "stream",
     "text": [
      "+------+------------------+\n|DEPTNO|          avg(SAL)|\n+------+------------------+\n|    20|            2175.0|\n|    10|2916.6666666666665|\n|    80|             580.5|\n|    30|1595.4545454545455|\n+------+------------------+\n\n"
     ]
    }
   ],
   "source": [
    "#groupby deptno and avg salary\n",
    "\n",
    "df_pipe.groupby('DEPTNO').avg('SAL').show()"
   ]
  },
  {
   "cell_type": "code",
   "execution_count": 0,
   "metadata": {
    "application/vnd.databricks.v1+cell": {
     "cellMetadata": {
      "byteLimit": 2048000,
      "rowLimit": 10000
     },
     "inputWidgets": {},
     "nuid": "1c01a452-8675-46a1-b7a3-3844d17f9bb4",
     "showTitle": false,
     "title": ""
    }
   },
   "outputs": [
    {
     "output_type": "stream",
     "name": "stdout",
     "output_type": "stream",
     "text": [
      "+---------+-----+\n|      JOB|count|\n+---------+-----+\n|  ANALYST|    4|\n| SALESMAN|    7|\n|    CLERK|    9|\n|     null|    2|\n|  MANAGER|    5|\n|PRESIDENT|    2|\n|   doctor|    1|\n+---------+-----+\n\n"
     ]
    }
   ],
   "source": [
    "#groupby job role and people count\n",
    "df_pipe.groupBy('JOB').count().show()"
   ]
  },
  {
   "cell_type": "code",
   "execution_count": 0,
   "metadata": {
    "application/vnd.databricks.v1+cell": {
     "cellMetadata": {
      "byteLimit": 2048000,
      "rowLimit": 10000
     },
     "inputWidgets": {},
     "nuid": "d6f3f052-0c0e-40c2-9d4c-21e0f25c03f0",
     "showTitle": false,
     "title": ""
    }
   },
   "outputs": [
    {
     "output_type": "stream",
     "name": "stdout",
     "output_type": "stream",
     "text": [
      "+---------+------------------+\n|      JOB|          avg(SAL)|\n+---------+------------------+\n|  ANALYST|            3000.0|\n| SALESMAN|1421.4285714285713|\n|    CLERK| 977.1111111111111|\n|     null|            2450.0|\n|  MANAGER|            2820.0|\n|PRESIDENT|            5000.0|\n|   doctor|             667.0|\n+---------+------------------+\n\n"
     ]
    }
   ],
   "source": [
    "#Group by job role and avg of salaries\n",
    "df_pipe.groupby('JOB').avg('SAL').alias('AVG_SAL').show()"
   ]
  },
  {
   "cell_type": "markdown",
   "metadata": {
    "application/vnd.databricks.v1+cell": {
     "cellMetadata": {
      "byteLimit": 2048000,
      "rowLimit": 10000
     },
     "inputWidgets": {},
     "nuid": "8a4aefb1-4df9-4505-8316-2e75d13240ae",
     "showTitle": false,
     "title": ""
    }
   },
   "source": [
    "#18.sort/orderby operations - In pyspark orderBy and sort are same"
   ]
  },
  {
   "cell_type": "code",
   "execution_count": 0,
   "metadata": {
    "application/vnd.databricks.v1+cell": {
     "cellMetadata": {
      "byteLimit": 2048000,
      "rowLimit": 10000
     },
     "inputWidgets": {},
     "nuid": "84c3d217-f8f5-48e0-84f1-1b3e6a4bc1b8",
     "showTitle": false,
     "title": ""
    }
   },
   "outputs": [
    {
     "output_type": "stream",
     "name": "stdout",
     "output_type": "stream",
     "text": [
      "+-----+-----+---------+----+----------+----+------+------------+\n|EMPNO|ENAME|      JOB| MGR|  HIREDATE| SAL|DEPTNO|UPDATED_DATE|\n+-----+-----+---------+----+----------+----+------+------------+\n| 7839| null|PRESIDENT|null|      null|5000|    10|        null|\n| 7839| KING|PRESIDENT|null|1981-11-01|5000|    10|  06-02-2021|\n| 7902| FORD|  ANALYST|7566|1981-03-12|3000|    20|  04-02-2022|\n| 7788|SCOTT|  ANALYST|7566|1987-04-19|3000|    20|  08-01-2022|\n| 7788|SCOTT|  ANALYST|7566|1987-04-19|3000|    20|  05-02-2021|\n+-----+-----+---------+----+----------+----+------+------------+\nonly showing top 5 rows\n\n+-----+-----+---------+----+----------+----+------+------------+\n|EMPNO|ENAME|      JOB| MGR|  HIREDATE| SAL|DEPTNO|UPDATED_DATE|\n+-----+-----+---------+----+----------+----+------+------------+\n| 7839| null|PRESIDENT|null|      null|5000|    10|        null|\n| 7839| KING|PRESIDENT|null|1981-11-01|5000|    10|  06-02-2021|\n| 7902| FORD|  ANALYST|7566|1981-03-12|3000|    20|  04-02-2022|\n| 7788|SCOTT|  ANALYST|7566|1987-04-19|3000|    20|  08-01-2022|\n| 7788|SCOTT|  ANALYST|7566|1987-04-19|3000|    20|  05-02-2021|\n+-----+-----+---------+----+----------+----+------+------------+\nonly showing top 5 rows\n\n"
     ]
    }
   ],
   "source": [
    "df_pipe.sort(col('SAL').desc()).show(5)\n",
    "df_pipe.orderBy(col('SAL').desc()).show(5)"
   ]
  },
  {
   "cell_type": "markdown",
   "metadata": {
    "application/vnd.databricks.v1+cell": {
     "cellMetadata": {
      "byteLimit": 2048000,
      "rowLimit": 10000
     },
     "inputWidgets": {},
     "nuid": "b545fdc1-03b8-447d-805e-870791a3bcdf",
     "showTitle": false,
     "title": ""
    }
   },
   "source": [
    "#19.sort by/sortwithinpartitions operations- In pyspark sortwithinpartitions same as sortby"
   ]
  },
  {
   "cell_type": "code",
   "execution_count": 0,
   "metadata": {
    "application/vnd.databricks.v1+cell": {
     "cellMetadata": {
      "byteLimit": 2048000,
      "rowLimit": 10000
     },
     "inputWidgets": {},
     "nuid": "9ae809b7-f49e-467a-bf06-eb57de383b4f",
     "showTitle": false,
     "title": ""
    }
   },
   "outputs": [
    {
     "output_type": "stream",
     "name": "stdout",
     "output_type": "stream",
     "text": [
      "+-----+------+---------+----+----------+----+------+------------+\n|EMPNO| ENAME|      JOB| MGR|  HIREDATE| SAL|DEPTNO|UPDATED_DATE|\n+-----+------+---------+----+----------+----+------+------------+\n| 7839|  null|PRESIDENT|null|      null|5000|    10|        null|\n| 7839|  KING|PRESIDENT|null|1981-11-01|5000|    10|  06-02-2021|\n| 7788| SCOTT|  ANALYST|7566|1987-04-19|3000|    20|  08-01-2022|\n| 7902|  FORD|  ANALYST|7566|1981-03-12|3000|    20|  04-02-2022|\n| 7788| SCOTT|  ANALYST|7566|1987-04-19|3000|    20|  05-02-2021|\n| 7902|  FORD|  ANALYST|7566|1981-03-12|3000|    20|  01-01-2021|\n| 7566| JONES|  MANAGER|null|1981-02-04|2975|    20|  04-01-2022|\n| 7566| JONES|  MANAGER|7839|1981-02-04|2975|    20|  01-02-2021|\n| 7698|   SGR|  MANAGER|7839|1981-01-05|2850|    30|  06-01-2022|\n| 7698|   SGR|  MANAGER|7839|1981-01-05|2850|    30|  03-02-2021|\n| 7782|  RAVI|     null|null|1981-09-06|2450|    10|  07-01-2022|\n| 7782|  RAVI|  MANAGER|7839|1981-09-06|2450|    10|  04-02-2021|\n| 7499| ALLEN| SALESMAN|7698|1981-02-20|1600|    30|  02-01-2022|\n| 7499| ALLEN| SALESMAN|7698|1981-02-20|1600|    30|  08-02-2022|\n| 7844|TURNER| SALESMAN|7698|1981-08-09|1500|    30|  01-02-2022|\n| 7844|TURNER| SALESMAN|7698|1981-08-09|1500|    30|  07-02-2021|\n| 7934|MILLER|    CLERK|7782|1982-03-01|1300|    10|  05-02-2022|\n| 7934|MILLER|    CLERK|7782|1982-03-01|1300|    10|  02-01-2021|\n| 7521|  WARD| SALESMAN|7698|1981-02-22|1250|    30|  03-01-2022|\n| 7521|  WARD| SALESMAN|7698|1981-02-22|1250|    30|        null|\n+-----+------+---------+----+----------+----+------+------------+\nonly showing top 20 rows\n\n"
     ]
    }
   ],
   "source": [
    "df_pipe.sortWithinPartitions( col('SAL').desc()).show()"
   ]
  },
  {
   "cell_type": "markdown",
   "metadata": {
    "application/vnd.databricks.v1+cell": {
     "cellMetadata": {
      "byteLimit": 2048000,
      "rowLimit": 10000
     },
     "inputWidgets": {},
     "nuid": "8b79306e-f8fb-4813-ad77-f65d8e9a0074",
     "showTitle": false,
     "title": ""
    }
   },
   "source": [
    "#20.repartition\n",
    "\n",
    "\n",
    "repartition : is a wide transformation : create new partitions,Data shuffle will happen,used for increase/decrease the partitions, we can repartition based on column specific to increse the performence"
   ]
  },
  {
   "cell_type": "code",
   "execution_count": 0,
   "metadata": {
    "application/vnd.databricks.v1+cell": {
     "cellMetadata": {
      "byteLimit": 2048000,
      "rowLimit": 10000
     },
     "inputWidgets": {},
     "nuid": "eec9c4e9-fc94-4ad3-a6d2-ecfd0dbed0da",
     "showTitle": false,
     "title": ""
    }
   },
   "outputs": [
    {
     "output_type": "stream",
     "name": "stdout",
     "output_type": "stream",
     "text": [
      "+-----+------+--------+----+----------+----+------+------------+------------+\n|EMPNO| ENAME|     JOB| MGR|  HIREDATE| SAL|DEPTNO|UPDATED_DATE|repartitions|\n+-----+------+--------+----+----------+----+------+------------+------------+\n| 1234|SEKHAR|  doctor|7777|      null| 667|    80|  06-02-2022|           0|\n| 7782|  RAVI| MANAGER|7839|1981-09-06|2450|    10|  04-02-2021|           0|\n| 7902|  FORD| ANALYST|7566|1981-03-12|3000|    20|  01-01-2021|           0|\n| 7499| ALLEN|SALESMAN|7698|1981-02-20|1600|    30|  02-01-2022|           0|\n| 7566| JONES| MANAGER|null|1981-02-04|2975|    20|  04-01-2022|           0|\n| 7782|  RAVI|    null|null|1981-09-06|2450|    10|  07-01-2022|           0|\n| 7521|  WARD|SALESMAN|7698|1981-02-22|1250|    30|  03-01-2022|           0|\n| 7566| JONES| MANAGER|7839|1981-02-04|2975|    20|  01-02-2021|           0|\n| 7844|TURNER|SALESMAN|7698|1981-08-09|1500|    30|  07-02-2021|           0|\n| 7521|  WARD|SALESMAN|7698|1981-02-22|1250|    30|        null|           0|\n+-----+------+--------+----+----------+----+------+------------+------------+\nonly showing top 10 rows\n\nOut[313]: 3"
     ]
    }
   ],
   "source": [
    "df_pipe1 = df_pipe.repartition(3).withColumn('repartitions',spark_partition_id())\n",
    "df_pipe1.show(10)\n",
    "df_pipe1.rdd.getNumPartitions()"
   ]
  },
  {
   "cell_type": "markdown",
   "metadata": {
    "application/vnd.databricks.v1+cell": {
     "cellMetadata": {
      "byteLimit": 2048000,
      "rowLimit": 10000
     },
     "inputWidgets": {},
     "nuid": "3b422bc6-0eb8-464e-a377-dd80fe5f40a1",
     "showTitle": false,
     "title": ""
    }
   },
   "source": [
    "#21.coalesce\n",
    "\n",
    "coalesce : is a Narrow transformation : adjust data in existing partition,No shuffling ,By defult it will used for decrease the partitions."
   ]
  },
  {
   "cell_type": "code",
   "execution_count": 0,
   "metadata": {
    "application/vnd.databricks.v1+cell": {
     "cellMetadata": {
      "byteLimit": 2048000,
      "rowLimit": 10000
     },
     "inputWidgets": {},
     "nuid": "616d1a6a-2f35-4ddb-97c3-0796f0b51f40",
     "showTitle": false,
     "title": ""
    }
   },
   "outputs": [
    {
     "output_type": "stream",
     "name": "stdout",
     "output_type": "stream",
     "text": [
      "+-----+------+--------+----+----------+----+------+------------+------------+--------+\n|EMPNO| ENAME|     JOB| MGR|  HIREDATE| SAL|DEPTNO|UPDATED_DATE|repartitions|coalesce|\n+-----+------+--------+----+----------+----+------+------------+------------+--------+\n| 1234|SEKHAR|  doctor|7777|      null| 667|    80|  06-02-2022|           0|       0|\n| 7782|  RAVI| MANAGER|7839|1981-09-06|2450|    10|  04-02-2021|           0|       0|\n| 7902|  FORD| ANALYST|7566|1981-03-12|3000|    20|  01-01-2021|           0|       0|\n| 7499| ALLEN|SALESMAN|7698|1981-02-20|1600|    30|  02-01-2022|           0|       0|\n| 7566| JONES| MANAGER|null|1981-02-04|2975|    20|  04-01-2022|           0|       0|\n| 7782|  RAVI|    null|null|1981-09-06|2450|    10|  07-01-2022|           0|       0|\n| 7521|  WARD|SALESMAN|7698|1981-02-22|1250|    30|  03-01-2022|           0|       0|\n| 7566| JONES| MANAGER|7839|1981-02-04|2975|    20|  01-02-2021|           0|       0|\n| 7844|TURNER|SALESMAN|7698|1981-08-09|1500|    30|  07-02-2021|           0|       0|\n| 7521|  WARD|SALESMAN|7698|1981-02-22|1250|    30|        null|           0|       0|\n| 7698|   SGR| MANAGER|7839|1981-01-05|2850|    30|  06-01-2022|           1|       0|\n| 7698|   SGR| MANAGER|7839|1981-01-05|2850|    30|  03-02-2021|           1|       0|\n| 7844|TURNER|SALESMAN|7698|1981-08-09|1500|    30|  01-02-2022|           1|       0|\n| 7788| SCOTT| ANALYST|7566|1987-04-19|3000|    20|  05-02-2021|           1|       0|\n| 7900| JAMES|   CLERK|7698|      null| 950|    30|        null|           1|       0|\n| 7369| SMITH|   CLERK|7902|1980-12-17| 800|    20|  01-01-2022|           1|       0|\n| 7902|  FORD| ANALYST|7566|1981-03-12|3000|    20|  04-02-2022|           1|       0|\n| 7876| ADAMS|   CLERK|7788|1987-05-23|1100|    20|  08-02-2021|           1|       0|\n| 7654|MARTIN|SALESMAN|7698|1981-09-21|1250|    30|  02-02-2021|           1|       0|\n| 7900| JAMES|   CLERK|7698|1981-03-12| 950|    30|  03-02-2022|           1|       0|\n+-----+------+--------+----+----------+----+------+------------+------------+--------+\nonly showing top 20 rows\n\nOut[314]: 1"
     ]
    }
   ],
   "source": [
    "df_pipe2 = df_pipe1.coalesce(1).withColumn('coalesce',spark_partition_id())\n",
    "df_pipe2.show()\n",
    "df_pipe2.rdd.getNumPartitions()"
   ]
  },
  {
   "cell_type": "markdown",
   "metadata": {
    "application/vnd.databricks.v1+cell": {
     "cellMetadata": {
      "byteLimit": 2048000,
      "rowLimit": 10000
     },
     "inputWidgets": {},
     "nuid": "081923a5-fca9-457e-a3d3-cfef398008fb",
     "showTitle": false,
     "title": ""
    }
   },
   "source": [
    "#22.joining two dataframes - Generate Revenue Column and order by highest Revenue"
   ]
  },
  {
   "cell_type": "code",
   "execution_count": 0,
   "metadata": {
    "application/vnd.databricks.v1+cell": {
     "cellMetadata": {
      "byteLimit": 2048000,
      "rowLimit": 10000
     },
     "inputWidgets": {},
     "nuid": "63b521aa-2237-4772-9161-9918119ce23e",
     "showTitle": false,
     "title": ""
    }
   },
   "outputs": [
    {
     "output_type": "stream",
     "name": "stdout",
     "output_type": "stream",
     "text": [
      "+----------+-------------------+----------+\n|product_id|       product_name|unit_price|\n+----------+-------------------+----------+\n|         1|       Asus Watch 2|       100|\n|         2| Impex 8975 speaker|       120|\n|         3|        Asus R558UQ|       500|\n|         4|          Iphone 11|      1500|\n|         5|Samsung Galaxy Buds|       100|\n+----------+-------------------+----------+\n\nroot\n |-- product_id: integer (nullable = true)\n |-- product_name: string (nullable = true)\n |-- unit_price: integer (nullable = true)\n\n+----------+---+----+\n|product_id|qty|year|\n+----------+---+----+\n|         1| 65|2020|\n|         2| 19|2020|\n|         3| 44|2020|\n|         4|  5|2020|\n|         5| 98|2020|\n|         5|168|2015|\n|         3| 40|2016|\n|         1| 78|2018|\n|         1|987|2019|\n|         4|100|2019|\n+----------+---+----+\nonly showing top 10 rows\n\nroot\n |-- product_id: integer (nullable = true)\n |-- qty: integer (nullable = true)\n |-- year: integer (nullable = true)\n\n"
     ]
    }
   ],
   "source": [
    "df_product = spark.read.format('csv').option('header',True).option('inferSchema',True).option('nullValue','null').load('dbfs:/FileStore/shared_uploads/nookala382@gmail.com/product_info_1.csv')\n",
    "\n",
    "\n",
    "df_sale = spark.read.format('csv').option('header',True).option('inferSchema',True).option('nullValue','null').load('dbfs:/FileStore/shared_uploads/nookala382@gmail.com/sales_data_1.csv')\n",
    "\n",
    "df_product.show(10)\n",
    "df_product.printSchema()\n",
    "df_sale.show(10)\n",
    "df_sale.printSchema()"
   ]
  },
  {
   "cell_type": "code",
   "execution_count": 0,
   "metadata": {
    "application/vnd.databricks.v1+cell": {
     "cellMetadata": {
      "byteLimit": 2048000,
      "rowLimit": 10000
     },
     "inputWidgets": {},
     "nuid": "f2b7134e-c8e9-42d7-aa6b-44de334a7198",
     "showTitle": false,
     "title": ""
    }
   },
   "outputs": [
    {
     "output_type": "stream",
     "name": "stdout",
     "output_type": "stream",
     "text": [
      "+----------+-------------------+----------+---+----+-------+\n|product_id|       product_name|unit_price|qty|year|Revenue|\n+----------+-------------------+----------+---+----+-------+\n|         4|          Iphone 11|      1500|100|2019| 150000|\n|         1|       Asus Watch 2|       100|987|2019|  98700|\n|         3|        Asus R558UQ|       500| 44|2020|  22000|\n|         3|        Asus R558UQ|       500| 40|2016|  20000|\n|         5|Samsung Galaxy Buds|       100|168|2015|  16800|\n|         5|Samsung Galaxy Buds|       100|100|2020|  10000|\n|         5|Samsung Galaxy Buds|       100| 98|2020|   9800|\n|         1|       Asus Watch 2|       100| 78|2018|   7800|\n|         4|          Iphone 11|      1500|  5|2020|   7500|\n|         1|       Asus Watch 2|       100| 65|2020|   6500|\n|         1|       Asus Watch 2|       100| 43|2020|   4300|\n|         2| Impex 8975 speaker|       120| 19|2020|   2280|\n+----------+-------------------+----------+---+----+-------+\n\n"
     ]
    }
   ],
   "source": [
    "product_sale = df_product.join(df_sale,df_product.product_id == df_sale.product_id,'inner').drop(df_sale.product_id).withColumn('Revenue', col('unit_price')*col('qty')).orderBy(col('Revenue').desc())\n",
    "\n",
    "product_sale.show()"
   ]
  },
  {
   "cell_type": "markdown",
   "metadata": {
    "application/vnd.databricks.v1+cell": {
     "cellMetadata": {
      "byteLimit": 2048000,
      "rowLimit": 10000
     },
     "inputWidgets": {},
     "nuid": "d2500979-9926-4525-b8a1-fe7d5f580672",
     "showTitle": false,
     "title": ""
    }
   },
   "source": [
    "#23.Save Dataframe into hive table"
   ]
  },
  {
   "cell_type": "code",
   "execution_count": 0,
   "metadata": {
    "application/vnd.databricks.v1+cell": {
     "cellMetadata": {
      "byteLimit": 2048000,
      "rowLimit": 10000
     },
     "inputWidgets": {},
     "nuid": "7daf4eda-62c7-451a-bb62-933ab63e1ee4",
     "showTitle": false,
     "title": ""
    }
   },
   "outputs": [],
   "source": [
    "product_sale.write.partitionBy('product_name').saveAsTable('product_sale')"
   ]
  },
  {
   "cell_type": "markdown",
   "metadata": {
    "application/vnd.databricks.v1+cell": {
     "cellMetadata": {
      "byteLimit": 2048000,
      "rowLimit": 10000
     },
     "inputWidgets": {},
     "nuid": "154f73a2-e84c-4978-bffa-508a858cd2a6",
     "showTitle": false,
     "title": ""
    }
   },
   "source": [
    "#24.Read Dataframe from Hive table"
   ]
  },
  {
   "cell_type": "code",
   "execution_count": 0,
   "metadata": {
    "application/vnd.databricks.v1+cell": {
     "cellMetadata": {
      "byteLimit": 2048000,
      "rowLimit": 10000
     },
     "inputWidgets": {},
     "nuid": "acc2d068-194b-429a-ad88-490d8df75c8f",
     "showTitle": false,
     "title": ""
    }
   },
   "outputs": [
    {
     "output_type": "stream",
     "name": "stdout",
     "output_type": "stream",
     "text": [
      "+----------+-------------------+----------+---+----+-------+\n|product_id|       product_name|unit_price|qty|year|Revenue|\n+----------+-------------------+----------+---+----+-------+\n|         5|Samsung Galaxy Buds|       100|168|2015|  16800|\n|         5|Samsung Galaxy Buds|       100|100|2020|  10000|\n|         5|Samsung Galaxy Buds|       100| 98|2020|   9800|\n|         1|       Asus Watch 2|       100|987|2019|  98700|\n|         1|       Asus Watch 2|       100| 78|2018|   7800|\n|         1|       Asus Watch 2|       100| 65|2020|   6500|\n|         1|       Asus Watch 2|       100| 43|2020|   4300|\n|         4|          Iphone 11|      1500|100|2019| 150000|\n|         4|          Iphone 11|      1500|  5|2020|   7500|\n|         3|        Asus R558UQ|       500| 44|2020|  22000|\n|         3|        Asus R558UQ|       500| 40|2016|  20000|\n|         2| Impex 8975 speaker|       120| 19|2020|   2280|\n+----------+-------------------+----------+---+----+-------+\n\n"
     ]
    }
   ],
   "source": [
    "spark.read.table('product_sale').show()"
   ]
  },
  {
   "cell_type": "markdown",
   "metadata": {
    "application/vnd.databricks.v1+cell": {
     "cellMetadata": {
      "byteLimit": 2048000,
      "rowLimit": 10000
     },
     "inputWidgets": {},
     "nuid": "3ce3bb06-e2f3-4d05-a0cb-5177f258db68",
     "showTitle": false,
     "title": ""
    }
   },
   "source": [
    "#25.Pivot Table : year wise each product revenue "
   ]
  },
  {
   "cell_type": "code",
   "execution_count": 0,
   "metadata": {
    "application/vnd.databricks.v1+cell": {
     "cellMetadata": {
      "byteLimit": 2048000,
      "rowLimit": 10000
     },
     "inputWidgets": {},
     "nuid": "6304aeaf-4c32-49ed-806c-462dc3563bc4",
     "showTitle": false,
     "title": ""
    }
   },
   "outputs": [
    {
     "output_type": "stream",
     "name": "stdout",
     "output_type": "stream",
     "text": [
      "+----+-----------+------------+------------------+---------+-------------------+\n|year|Asus R558UQ|Asus Watch 2|Impex 8975 speaker|Iphone 11|Samsung Galaxy Buds|\n+----+-----------+------------+------------------+---------+-------------------+\n|2018|null       |7800        |null              |null     |null               |\n|2015|null       |null        |null              |null     |16800              |\n|2019|null       |98700       |null              |150000   |null               |\n|2020|22000      |10800       |2280              |7500     |19800              |\n|2016|20000      |null        |null              |null     |null               |\n+----+-----------+------------+------------------+---------+-------------------+\n\n"
     ]
    }
   ],
   "source": [
    "product_sale.groupBy('year').pivot('product_name').sum('Revenue').show(truncate = False)"
   ]
  }
 ],
 "metadata": {
  "application/vnd.databricks.v1+notebook": {
   "dashboards": [],
   "language": "python",
   "notebookMetadata": {
    "pythonIndentUnit": 4
   },
   "notebookName": "DataFrames",
   "widgets": {}
  }
 },
 "nbformat": 4,
 "nbformat_minor": 0
}
