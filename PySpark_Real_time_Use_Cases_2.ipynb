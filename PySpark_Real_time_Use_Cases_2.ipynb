{
  "nbformat": 4,
  "nbformat_minor": 0,
  "metadata": {
    "colab": {
      "provenance": [],
      "collapsed_sections": [
        "o-mw36UNw7Mk",
        "BZqeKUparYFJ",
        "iCRtNjfoqMHc",
        "Kagev9gFLmde",
        "6l4-m7SIz31X",
        "9cVkmNWZzR4-",
        "O5c59IOd0ghN",
        "XQw50gTy2J_B",
        "um81q_qq4vFE",
        "1v2xYf4uN4OU",
        "mpRggpGmOKqG",
        "uPaAP_8Z-o3X",
        "RoW68JkXRiCe",
        "f9JwZpUXSluY",
        "q66gjenfWVif",
        "4LCR2ou1j6ej",
        "dvdphjnOnK9y",
        "kD48U4JR_sga",
        "yQdbp3VcIOqb",
        "LS4aj91HPoyC",
        "id2SoGG5RFd_",
        "G4ZwOoQpTYvQ",
        "Ud8yVOQJcMCg",
        "ckGZgC1-dc7Y",
        "ogY8HYsYg5LP",
        "NIIV5Rgcct3r",
        "34_jvQvvczQe",
        "lZRkCb4ucY79",
        "UQiYB5l6c7IA",
        "EyGB5PRZc_2J",
        "q95Rbbe1VDtL",
        "icoMsyhTlJoD",
        "YAmzJhkhz2T8"
      ]
    },
    "kernelspec": {
      "name": "python3",
      "display_name": "Python 3"
    },
    "language_info": {
      "name": "python"
    }
  },
  "cells": [
    {
      "cell_type": "markdown",
      "source": [
        "# SparkSession"
      ],
      "metadata": {
        "id": "o-mw36UNw7Mk"
      }
    },
    {
      "cell_type": "code",
      "execution_count": null,
      "metadata": {
        "colab": {
          "base_uri": "https://localhost:8080/"
        },
        "id": "j4HRJ1n_nms_",
        "outputId": "74b119b8-fbe5-4d3b-84c2-de3116fce01c"
      },
      "outputs": [
        {
          "output_type": "stream",
          "name": "stdout",
          "text": [
            "Looking in indexes: https://pypi.org/simple, https://us-python.pkg.dev/colab-wheels/public/simple/\n",
            "Collecting pyspark\n",
            "  Downloading pyspark-3.3.2.tar.gz (281.4 MB)\n",
            "\u001b[2K     \u001b[90m━━━━━━━━━━━━━━━━━━━━━━━━━━━━━━━━━━━━━━━\u001b[0m \u001b[32m281.4/281.4 MB\u001b[0m \u001b[31m4.4 MB/s\u001b[0m eta \u001b[36m0:00:00\u001b[0m\n",
            "\u001b[?25h  Preparing metadata (setup.py) ... \u001b[?25l\u001b[?25hdone\n",
            "Collecting py4j\n",
            "  Downloading py4j-0.10.9.7-py2.py3-none-any.whl (200 kB)\n",
            "\u001b[2K     \u001b[90m━━━━━━━━━━━━━━━━━━━━━━━━━━━━━━━━━━━━━━\u001b[0m \u001b[32m200.5/200.5 KB\u001b[0m \u001b[31m22.7 MB/s\u001b[0m eta \u001b[36m0:00:00\u001b[0m\n",
            "\u001b[?25h  Downloading py4j-0.10.9.5-py2.py3-none-any.whl (199 kB)\n",
            "\u001b[2K     \u001b[90m━━━━━━━━━━━━━━━━━━━━━━━━━━━━━━━━━━━━━━\u001b[0m \u001b[32m199.7/199.7 KB\u001b[0m \u001b[31m20.0 MB/s\u001b[0m eta \u001b[36m0:00:00\u001b[0m\n",
            "\u001b[?25hBuilding wheels for collected packages: pyspark\n",
            "  Building wheel for pyspark (setup.py) ... \u001b[?25l\u001b[?25hdone\n",
            "  Created wheel for pyspark: filename=pyspark-3.3.2-py2.py3-none-any.whl size=281824025 sha256=44fd823892ed58be6cd6d34b1233fd097b5de1ea7390c843128e78a9c6f0f478\n",
            "  Stored in directory: /root/.cache/pip/wheels/b1/59/a0/a1a0624b5e865fd389919c1a10f53aec9b12195d6747710baf\n",
            "Successfully built pyspark\n",
            "Installing collected packages: py4j, pyspark\n",
            "Successfully installed py4j-0.10.9.5 pyspark-3.3.2\n"
          ]
        }
      ],
      "source": [
        "\n",
        "!pip install pyspark py4j\n"
      ]
    },
    {
      "cell_type": "code",
      "source": [
        "from pyspark.sql import SparkSession\n",
        "\n",
        "spark = SparkSession.builder.master('local').appName('Demo').getOrCreate()\n",
        "spark\n",
        "\n"
      ],
      "metadata": {
        "colab": {
          "base_uri": "https://localhost:8080/"
        },
        "id": "OHNW-wKVqbxd",
        "outputId": "07933e0c-3f8b-41d8-9a07-f16cea79e28a"
      },
      "execution_count": null,
      "outputs": [
        {
          "output_type": "execute_result",
          "data": {
            "text/plain": [
              "<pyspark.sql.session.SparkSession at 0x7f4f67fc0040>"
            ],
            "text/html": [
              "\n",
              "            <div>\n",
              "                <p><b>SparkSession - in-memory</b></p>\n",
              "                \n",
              "        <div>\n",
              "            <p><b>SparkContext</b></p>\n",
              "\n",
              "            <p><a href=\"http://4aec9cdfef61:4040\">Spark UI</a></p>\n",
              "\n",
              "            <dl>\n",
              "              <dt>Version</dt>\n",
              "                <dd><code>v3.3.2</code></dd>\n",
              "              <dt>Master</dt>\n",
              "                <dd><code>local</code></dd>\n",
              "              <dt>AppName</dt>\n",
              "                <dd><code>Demo</code></dd>\n",
              "            </dl>\n",
              "        </div>\n",
              "        \n",
              "            </div>\n",
              "        "
            ]
          },
          "metadata": {},
          "execution_count": 2
        }
      ]
    },
    {
      "cell_type": "markdown",
      "source": [
        "# reading csv file"
      ],
      "metadata": {
        "id": "BZqeKUparYFJ"
      }
    },
    {
      "cell_type": "code",
      "source": [
        "df = spark.read.format('csv').option('header',True).option('inferSchema',True).option('nullValue','null').load('/content/employee.csv')\n",
        "df.show(5)\n",
        "df.printSchema()\n",
        "df.count()"
      ],
      "metadata": {
        "colab": {
          "base_uri": "https://localhost:8080/"
        },
        "id": "0LKBkAIbq0W6",
        "outputId": "55833460-2b2b-4286-9700-3682220b960b"
      },
      "execution_count": null,
      "outputs": [
        {
          "output_type": "stream",
          "name": "stdout",
          "text": [
            "+-----+------+--------+----+----------+----+----+------+------------+\n",
            "|EMPNO| ENAME|     JOB| MGR|  HIREDATE| SAL|COMM|DEPTNO|UPDATED_DATE|\n",
            "+-----+------+--------+----+----------+----+----+------+------------+\n",
            "| 7369| SMITH|   CLERK|7902|17-12-1980| 800|null|    20|  01-01-2022|\n",
            "| 7499| ALLEN|SALESMAN|7698|20-02-1981|1600| 300|    30|  02-01-2022|\n",
            "| 7521|  WARD|SALESMAN|7698|22-02-1981|1250| 500|    30|  03-01-2022|\n",
            "| 7566| JONES| MANAGER|7839|04-02-1981|2975|null|    20|  04-01-2022|\n",
            "| 7654|MARTIN|SALESMAN|7698|21-09-1981|1250| 600|    30|  05-01-2022|\n",
            "+-----+------+--------+----+----------+----+----+------+------------+\n",
            "only showing top 5 rows\n",
            "\n",
            "root\n",
            " |-- EMPNO: integer (nullable = true)\n",
            " |-- ENAME: string (nullable = true)\n",
            " |-- JOB: string (nullable = true)\n",
            " |-- MGR: integer (nullable = true)\n",
            " |-- HIREDATE: string (nullable = true)\n",
            " |-- SAL: integer (nullable = true)\n",
            " |-- COMM: integer (nullable = true)\n",
            " |-- DEPTNO: integer (nullable = true)\n",
            " |-- UPDATED_DATE: string (nullable = true)\n",
            "\n"
          ]
        },
        {
          "output_type": "execute_result",
          "data": {
            "text/plain": [
              "33"
            ]
          },
          "metadata": {},
          "execution_count": 3
        }
      ]
    },
    {
      "cell_type": "markdown",
      "source": [
        "# change data type of column"
      ],
      "metadata": {
        "id": "iCRtNjfoqMHc"
      }
    },
    {
      "cell_type": "code",
      "source": [
        "from pyspark.sql.functions import *\n",
        "\n",
        "dd = df.withColumn('Emp',col('EMPNO').cast('string'))\n",
        "dd.show()\n",
        "dd.printSchema()"
      ],
      "metadata": {
        "colab": {
          "base_uri": "https://localhost:8080/"
        },
        "id": "pVRLrUivqQZb",
        "outputId": "6fdf0781-5443-41bc-f6bc-9937128bb934"
      },
      "execution_count": null,
      "outputs": [
        {
          "output_type": "stream",
          "name": "stdout",
          "text": [
            "+-----+------+---------+----+----------+----+----+------+------------+----+\n",
            "|EMPNO| ENAME|      JOB| MGR|  HIREDATE| SAL|COMM|DEPTNO|UPDATED_DATE| Emp|\n",
            "+-----+------+---------+----+----------+----+----+------+------------+----+\n",
            "| 7369| SMITH|    CLERK|7902|17-12-1980| 800|null|    20|  01-01-2022|7369|\n",
            "| 7499| ALLEN| SALESMAN|7698|20-02-1981|1600| 300|    30|  02-01-2022|7499|\n",
            "| 7521|  WARD| SALESMAN|7698|22-02-1981|1250| 500|    30|  03-01-2022|7521|\n",
            "| 7566| JONES|  MANAGER|7839|04-02-1981|2975|null|    20|  04-01-2022|7566|\n",
            "| 7654|MARTIN| SALESMAN|7698|21-09-1981|1250| 600|    30|  05-01-2022|7654|\n",
            "| 7698|   SGR|  MANAGER|7839|05-01-1981|2850| 500|    30|  06-01-2022|7698|\n",
            "| 7782|  RAVI|  MANAGER|7839|06-09-1981|2450|null|    10|  07-01-2022|7782|\n",
            "| 7788| SCOTT|  ANALYST|7566|19-04-1987|3000|1200|    20|  08-01-2022|7788|\n",
            "| 7839|  KING|PRESIDENT|null|      null|5000|null|    10|        null|7839|\n",
            "| 7844|TURNER| SALESMAN|7698|09-08-1981|1500|   0|    30|  01-02-2022|7844|\n",
            "| 7876| ADAMS|    CLERK|7788|23-05-1987|1100| 100|    20|  02-02-2022|7876|\n",
            "| 7900| JAMES|    CLERK|7698|12-03-1981| 950|null|    30|  03-02-2022|7900|\n",
            "| 7902|  FORD|  ANALYST|7566|12-03-1981|3000| 400|    20|  04-02-2022|7902|\n",
            "| 7934|MILLER|    CLERK|7782|01-03-1982|1300|null|    10|  05-02-2022|7934|\n",
            "| 1234|SEKHAR|   doctor|7777|      null| 667|  78|    80|  06-02-2022|1234|\n",
            "| 7369| SMITH|    CLERK|7902|17-12-1980| 800|null|    20|  07-02-2022|7369|\n",
            "| 7499| ALLEN| SALESMAN|7698|20-02-1981|1600| 300|    30|  08-02-2022|7499|\n",
            "| 7521|  WARD| SALESMAN|7698|22-02-1981|1250| 500|    30|        null|7521|\n",
            "| 7566| JONES|  MANAGER|7839|04-02-1981|2975|null|    20|  01-02-2021|7566|\n",
            "| 7654|MARTIN| SALESMAN|7698|21-09-1981|1250|1400|    30|  02-02-2021|7654|\n",
            "+-----+------+---------+----+----------+----+----+------+------------+----+\n",
            "only showing top 20 rows\n",
            "\n",
            "root\n",
            " |-- EMPNO: integer (nullable = true)\n",
            " |-- ENAME: string (nullable = true)\n",
            " |-- JOB: string (nullable = true)\n",
            " |-- MGR: integer (nullable = true)\n",
            " |-- HIREDATE: string (nullable = true)\n",
            " |-- SAL: integer (nullable = true)\n",
            " |-- COMM: integer (nullable = true)\n",
            " |-- DEPTNO: integer (nullable = true)\n",
            " |-- UPDATED_DATE: string (nullable = true)\n",
            " |-- Emp: string (nullable = true)\n",
            "\n"
          ]
        }
      ]
    },
    {
      "cell_type": "markdown",
      "source": [
        "# Creating a dataframe"
      ],
      "metadata": {
        "id": "Kagev9gFLmde"
      }
    },
    {
      "cell_type": "code",
      "source": [
        "cr_df = spark.createDataFrame([(i,\"02/01/\"+str(i)+\"\") for i in range (1999,2050)],['id','year'])\n",
        "\n",
        "cr_df.show()"
      ],
      "metadata": {
        "colab": {
          "base_uri": "https://localhost:8080/"
        },
        "id": "ZWtj-2i3L1Ef",
        "outputId": "3f45f2bf-ae55-40a6-a70e-3ed242ef159b"
      },
      "execution_count": null,
      "outputs": [
        {
          "output_type": "stream",
          "name": "stdout",
          "text": [
            "+----+----------+\n",
            "|  id|      year|\n",
            "+----+----------+\n",
            "|1999|02/01/1999|\n",
            "|2000|02/01/2000|\n",
            "|2001|02/01/2001|\n",
            "|2002|02/01/2002|\n",
            "|2003|02/01/2003|\n",
            "|2004|02/01/2004|\n",
            "|2005|02/01/2005|\n",
            "|2006|02/01/2006|\n",
            "|2007|02/01/2007|\n",
            "|2008|02/01/2008|\n",
            "|2009|02/01/2009|\n",
            "|2010|02/01/2010|\n",
            "|2011|02/01/2011|\n",
            "|2012|02/01/2012|\n",
            "|2013|02/01/2013|\n",
            "|2014|02/01/2014|\n",
            "|2015|02/01/2015|\n",
            "|2016|02/01/2016|\n",
            "|2017|02/01/2017|\n",
            "|2018|02/01/2018|\n",
            "+----+----------+\n",
            "only showing top 20 rows\n",
            "\n"
          ]
        }
      ]
    },
    {
      "cell_type": "markdown",
      "source": [
        "#Concatinating two columns"
      ],
      "metadata": {
        "id": "6l4-m7SIz31X"
      }
    },
    {
      "cell_type": "code",
      "source": [
        "crc_df = spark.read.format('csv').option('header',True).load('/content/sample_data/california_housing_test.csv')\n",
        "crc_df.count()\n",
        "crc_df.withColumn('Location',concat(col('latitude'),col('longitude'))).show()\n"
      ],
      "metadata": {
        "colab": {
          "base_uri": "https://localhost:8080/"
        },
        "id": "Qvv8TdPgz5NL",
        "outputId": "2f186726-3354-4885-dfa4-6fabc0b36882"
      },
      "execution_count": null,
      "outputs": [
        {
          "output_type": "stream",
          "name": "stdout",
          "text": [
            "+-----------+---------+------------------+-----------+--------------+-----------+-----------+-------------+------------------+--------------------+\n",
            "|  longitude| latitude|housing_median_age|total_rooms|total_bedrooms| population| households|median_income|median_house_value|            Location|\n",
            "+-----------+---------+------------------+-----------+--------------+-----------+-----------+-------------+------------------+--------------------+\n",
            "|-122.050000|37.370000|         27.000000|3885.000000|    661.000000|1537.000000| 606.000000|     6.608500|     344700.000000|37.370000-122.050000|\n",
            "|-118.300000|34.260000|         43.000000|1510.000000|    310.000000| 809.000000| 277.000000|     3.599000|     176500.000000|34.260000-118.300000|\n",
            "|-117.810000|33.780000|         27.000000|3589.000000|    507.000000|1484.000000| 495.000000|     5.793400|     270500.000000|33.780000-117.810000|\n",
            "|-118.360000|33.820000|         28.000000|  67.000000|     15.000000|  49.000000|  11.000000|     6.135900|     330000.000000|33.820000-118.360000|\n",
            "|-119.670000|36.330000|         19.000000|1241.000000|    244.000000| 850.000000| 237.000000|     2.937500|      81700.000000|36.330000-119.670000|\n",
            "|-119.560000|36.510000|         37.000000|1018.000000|    213.000000| 663.000000| 204.000000|     1.663500|      67000.000000|36.510000-119.560000|\n",
            "|-121.430000|38.630000|         43.000000|1009.000000|    225.000000| 604.000000| 218.000000|     1.664100|      67000.000000|38.630000-121.430000|\n",
            "|-120.650000|35.480000|         19.000000|2310.000000|    471.000000|1341.000000| 441.000000|     3.225000|     166900.000000|35.480000-120.650000|\n",
            "|-122.840000|38.400000|         15.000000|3080.000000|    617.000000|1446.000000| 599.000000|     3.669600|     194400.000000|38.400000-122.840000|\n",
            "|-118.020000|34.080000|         31.000000|2402.000000|    632.000000|2830.000000| 603.000000|     2.333300|     164200.000000|34.080000-118.020000|\n",
            "|-118.240000|33.980000|         45.000000| 972.000000|    249.000000|1288.000000| 261.000000|     2.205400|     125000.000000|33.980000-118.240000|\n",
            "|-119.120000|35.850000|         37.000000| 736.000000|    166.000000| 564.000000| 138.000000|     2.416700|      58300.000000|35.850000-119.120000|\n",
            "|-121.930000|37.250000|         36.000000|1089.000000|    182.000000| 535.000000| 170.000000|     4.690000|     252600.000000|37.250000-121.930000|\n",
            "|-117.030000|32.970000|         16.000000|3936.000000|    694.000000|1935.000000| 659.000000|     4.562500|     231200.000000|32.970000-117.030000|\n",
            "|-117.970000|33.730000|         27.000000|2097.000000|    325.000000|1217.000000| 331.000000|     5.712100|     222500.000000|33.730000-117.970000|\n",
            "|-117.990000|33.810000|         42.000000| 161.000000|     40.000000| 157.000000|  50.000000|     2.200000|     153100.000000|33.810000-117.990000|\n",
            "|-120.810000|37.530000|         15.000000| 570.000000|    123.000000| 189.000000| 107.000000|     1.875000|     181300.000000|37.530000-120.810000|\n",
            "|-121.200000|38.690000|         26.000000|3077.000000|    607.000000|1603.000000| 595.000000|     2.717400|     137500.000000|38.690000-121.200000|\n",
            "|-118.880000|34.210000|         26.000000|1590.000000|    196.000000| 654.000000| 199.000000|     6.585100|     300000.000000|34.210000-118.880000|\n",
            "|-122.590000|38.010000|         35.000000|8814.000000|   1307.000000|3450.000000|1258.000000|     6.172400|     414300.000000|38.010000-122.590000|\n",
            "+-----------+---------+------------------+-----------+--------------+-----------+-----------+-------------+------------------+--------------------+\n",
            "only showing top 20 rows\n",
            "\n"
          ]
        }
      ]
    },
    {
      "cell_type": "markdown",
      "source": [
        "# Convert  string to date format"
      ],
      "metadata": {
        "id": "9cVkmNWZzR4-"
      }
    },
    {
      "cell_type": "code",
      "source": [
        "# date format in Traditional databases is dd-mm-yyyy\n",
        "# date format in spark is yyyy-mm-dd\n",
        "\n",
        "from pyspark.sql.functions import *\n",
        "\n",
        "df1 = df.withColumn('HIREDATE',to_date('HIREDATE','dd-mm-yyyy')).withColumn('UPDATED_DATE',to_date('UPDATED_DATE','dd-mm-yyyy'))\n",
        "df1.show()\n",
        "df1.printSchema()\n",
        "df1.count()"
      ],
      "metadata": {
        "colab": {
          "base_uri": "https://localhost:8080/"
        },
        "id": "euK9qBhFxLr3",
        "outputId": "bc9036ef-1b86-4854-cf3f-c1b2d6378fc6"
      },
      "execution_count": null,
      "outputs": [
        {
          "output_type": "stream",
          "name": "stdout",
          "text": [
            "+-----+------+---------+----+----------+----+----+------+------------+\n",
            "|EMPNO| ENAME|      JOB| MGR|  HIREDATE| SAL|COMM|DEPTNO|UPDATED_DATE|\n",
            "+-----+------+---------+----+----------+----+----+------+------------+\n",
            "| 7369| SMITH|    CLERK|7902|1980-01-17| 800|null|    20|  2022-01-01|\n",
            "| 7499| ALLEN| SALESMAN|7698|1981-01-20|1600| 300|    30|  2022-01-02|\n",
            "| 7521|  WARD| SALESMAN|7698|1981-01-22|1250| 500|    30|  2022-01-03|\n",
            "| 7566| JONES|  MANAGER|7839|1981-01-04|2975|null|    20|  2022-01-04|\n",
            "| 7654|MARTIN| SALESMAN|7698|1981-01-21|1250| 600|    30|  2022-01-05|\n",
            "| 7698|   SGR|  MANAGER|7839|1981-01-05|2850| 500|    30|  2022-01-06|\n",
            "| 7782|  RAVI|  MANAGER|7839|1981-01-06|2450|null|    10|  2022-01-07|\n",
            "| 7788| SCOTT|  ANALYST|7566|1987-01-19|3000|1200|    20|  2022-01-08|\n",
            "| 7839|  KING|PRESIDENT|null|      null|5000|null|    10|        null|\n",
            "| 7844|TURNER| SALESMAN|7698|1981-01-09|1500|   0|    30|  2022-01-01|\n",
            "| 7876| ADAMS|    CLERK|7788|1987-01-23|1100| 100|    20|  2022-01-02|\n",
            "| 7900| JAMES|    CLERK|7698|1981-01-12| 950|null|    30|  2022-01-03|\n",
            "| 7902|  FORD|  ANALYST|7566|1981-01-12|3000| 400|    20|  2022-01-04|\n",
            "| 7934|MILLER|    CLERK|7782|1982-01-01|1300|null|    10|  2022-01-05|\n",
            "| 1234|SEKHAR|   doctor|7777|      null| 667|  78|    80|  2022-01-06|\n",
            "| 7369| SMITH|    CLERK|7902|1980-01-17| 800|null|    20|  2022-01-07|\n",
            "| 7499| ALLEN| SALESMAN|7698|1981-01-20|1600| 300|    30|  2022-01-08|\n",
            "| 7521|  WARD| SALESMAN|7698|1981-01-22|1250| 500|    30|        null|\n",
            "| 7566| JONES|  MANAGER|7839|1981-01-04|2975|null|    20|  2021-01-01|\n",
            "| 7654|MARTIN| SALESMAN|7698|1981-01-21|1250|1400|    30|  2021-01-02|\n",
            "+-----+------+---------+----+----------+----+----+------+------------+\n",
            "only showing top 20 rows\n",
            "\n",
            "root\n",
            " |-- EMPNO: integer (nullable = true)\n",
            " |-- ENAME: string (nullable = true)\n",
            " |-- JOB: string (nullable = true)\n",
            " |-- MGR: integer (nullable = true)\n",
            " |-- HIREDATE: date (nullable = true)\n",
            " |-- SAL: integer (nullable = true)\n",
            " |-- COMM: integer (nullable = true)\n",
            " |-- DEPTNO: integer (nullable = true)\n",
            " |-- UPDATED_DATE: date (nullable = true)\n",
            "\n"
          ]
        },
        {
          "output_type": "execute_result",
          "data": {
            "text/plain": [
              "33"
            ]
          },
          "metadata": {},
          "execution_count": 6
        }
      ]
    },
    {
      "cell_type": "markdown",
      "source": [
        "# fill null values"
      ],
      "metadata": {
        "id": "O5c59IOd0ghN"
      }
    },
    {
      "cell_type": "code",
      "source": [
        "\n",
        "\n",
        "df2 = df1.fillna({'HIREDATE':'1999-12-31'}).fillna({'UPDATED_DATE':'2022-12-31'}).fillna({'COMM':'100'})\n",
        "df2.printSchema()\n",
        "df2.show()"
      ],
      "metadata": {
        "colab": {
          "base_uri": "https://localhost:8080/"
        },
        "id": "2cnVjR0S0f1I",
        "outputId": "e4008762-31fe-40bb-fc67-98f23a93b12c"
      },
      "execution_count": null,
      "outputs": [
        {
          "output_type": "stream",
          "name": "stdout",
          "text": [
            "root\n",
            " |-- EMPNO: integer (nullable = true)\n",
            " |-- ENAME: string (nullable = true)\n",
            " |-- JOB: string (nullable = true)\n",
            " |-- MGR: integer (nullable = true)\n",
            " |-- HIREDATE: date (nullable = true)\n",
            " |-- SAL: integer (nullable = true)\n",
            " |-- COMM: integer (nullable = true)\n",
            " |-- DEPTNO: integer (nullable = true)\n",
            " |-- UPDATED_DATE: date (nullable = true)\n",
            "\n",
            "+-----+------+---------+----+----------+----+----+------+------------+\n",
            "|EMPNO| ENAME|      JOB| MGR|  HIREDATE| SAL|COMM|DEPTNO|UPDATED_DATE|\n",
            "+-----+------+---------+----+----------+----+----+------+------------+\n",
            "| 7369| SMITH|    CLERK|7902|1980-01-17| 800| 100|    20|  2022-01-01|\n",
            "| 7499| ALLEN| SALESMAN|7698|1981-01-20|1600| 300|    30|  2022-01-02|\n",
            "| 7521|  WARD| SALESMAN|7698|1981-01-22|1250| 500|    30|  2022-01-03|\n",
            "| 7566| JONES|  MANAGER|7839|1981-01-04|2975| 100|    20|  2022-01-04|\n",
            "| 7654|MARTIN| SALESMAN|7698|1981-01-21|1250| 600|    30|  2022-01-05|\n",
            "| 7698|   SGR|  MANAGER|7839|1981-01-05|2850| 500|    30|  2022-01-06|\n",
            "| 7782|  RAVI|  MANAGER|7839|1981-01-06|2450| 100|    10|  2022-01-07|\n",
            "| 7788| SCOTT|  ANALYST|7566|1987-01-19|3000|1200|    20|  2022-01-08|\n",
            "| 7839|  KING|PRESIDENT|null|1999-12-31|5000| 100|    10|  2022-12-31|\n",
            "| 7844|TURNER| SALESMAN|7698|1981-01-09|1500|   0|    30|  2022-01-01|\n",
            "| 7876| ADAMS|    CLERK|7788|1987-01-23|1100| 100|    20|  2022-01-02|\n",
            "| 7900| JAMES|    CLERK|7698|1981-01-12| 950| 100|    30|  2022-01-03|\n",
            "| 7902|  FORD|  ANALYST|7566|1981-01-12|3000| 400|    20|  2022-01-04|\n",
            "| 7934|MILLER|    CLERK|7782|1982-01-01|1300| 100|    10|  2022-01-05|\n",
            "| 1234|SEKHAR|   doctor|7777|1999-12-31| 667|  78|    80|  2022-01-06|\n",
            "| 7369| SMITH|    CLERK|7902|1980-01-17| 800| 100|    20|  2022-01-07|\n",
            "| 7499| ALLEN| SALESMAN|7698|1981-01-20|1600| 300|    30|  2022-01-08|\n",
            "| 7521|  WARD| SALESMAN|7698|1981-01-22|1250| 500|    30|  2022-12-31|\n",
            "| 7566| JONES|  MANAGER|7839|1981-01-04|2975| 100|    20|  2021-01-01|\n",
            "| 7654|MARTIN| SALESMAN|7698|1981-01-21|1250|1400|    30|  2021-01-02|\n",
            "+-----+------+---------+----+----------+----+----+------+------------+\n",
            "only showing top 20 rows\n",
            "\n"
          ]
        }
      ]
    },
    {
      "cell_type": "markdown",
      "source": [
        "# create year,month,day columns"
      ],
      "metadata": {
        "id": "XQw50gTy2J_B"
      }
    },
    {
      "cell_type": "code",
      "source": [
        "df3 = df2.withColumn('Year',date_format('HIREDATE','yyyy')).withColumn('Month',date_format('HIREDATE','MM')).withColumn('Day',date_format('HIREDATE','dd'))\n",
        "\n",
        "df3.show()\n",
        "df3.printSchema()\n",
        "df3.count()"
      ],
      "metadata": {
        "colab": {
          "base_uri": "https://localhost:8080/"
        },
        "id": "ZuADjpfq2Weg",
        "outputId": "e9d5ede4-3da5-4654-b139-7833bcee1ed5"
      },
      "execution_count": null,
      "outputs": [
        {
          "output_type": "stream",
          "name": "stdout",
          "text": [
            "+-----+------+---------+----+----------+----+----+------+------------+----+-----+---+\n",
            "|EMPNO| ENAME|      JOB| MGR|  HIREDATE| SAL|COMM|DEPTNO|UPDATED_DATE|Year|Month|Day|\n",
            "+-----+------+---------+----+----------+----+----+------+------------+----+-----+---+\n",
            "| 7369| SMITH|    CLERK|7902|1980-01-17| 800| 100|    20|  2022-01-01|1980|   01| 17|\n",
            "| 7499| ALLEN| SALESMAN|7698|1981-01-20|1600| 300|    30|  2022-01-02|1981|   01| 20|\n",
            "| 7521|  WARD| SALESMAN|7698|1981-01-22|1250| 500|    30|  2022-01-03|1981|   01| 22|\n",
            "| 7566| JONES|  MANAGER|7839|1981-01-04|2975| 100|    20|  2022-01-04|1981|   01| 04|\n",
            "| 7654|MARTIN| SALESMAN|7698|1981-01-21|1250| 600|    30|  2022-01-05|1981|   01| 21|\n",
            "| 7698|   SGR|  MANAGER|7839|1981-01-05|2850| 500|    30|  2022-01-06|1981|   01| 05|\n",
            "| 7782|  RAVI|  MANAGER|7839|1981-01-06|2450| 100|    10|  2022-01-07|1981|   01| 06|\n",
            "| 7788| SCOTT|  ANALYST|7566|1987-01-19|3000|1200|    20|  2022-01-08|1987|   01| 19|\n",
            "| 7839|  KING|PRESIDENT|null|1999-12-31|5000| 100|    10|  2022-12-31|1999|   12| 31|\n",
            "| 7844|TURNER| SALESMAN|7698|1981-01-09|1500|   0|    30|  2022-01-01|1981|   01| 09|\n",
            "| 7876| ADAMS|    CLERK|7788|1987-01-23|1100| 100|    20|  2022-01-02|1987|   01| 23|\n",
            "| 7900| JAMES|    CLERK|7698|1981-01-12| 950| 100|    30|  2022-01-03|1981|   01| 12|\n",
            "| 7902|  FORD|  ANALYST|7566|1981-01-12|3000| 400|    20|  2022-01-04|1981|   01| 12|\n",
            "| 7934|MILLER|    CLERK|7782|1982-01-01|1300| 100|    10|  2022-01-05|1982|   01| 01|\n",
            "| 1234|SEKHAR|   doctor|7777|1999-12-31| 667|  78|    80|  2022-01-06|1999|   12| 31|\n",
            "| 7369| SMITH|    CLERK|7902|1980-01-17| 800| 100|    20|  2022-01-07|1980|   01| 17|\n",
            "| 7499| ALLEN| SALESMAN|7698|1981-01-20|1600| 300|    30|  2022-01-08|1981|   01| 20|\n",
            "| 7521|  WARD| SALESMAN|7698|1981-01-22|1250| 500|    30|  2022-12-31|1981|   01| 22|\n",
            "| 7566| JONES|  MANAGER|7839|1981-01-04|2975| 100|    20|  2021-01-01|1981|   01| 04|\n",
            "| 7654|MARTIN| SALESMAN|7698|1981-01-21|1250|1400|    30|  2021-01-02|1981|   01| 21|\n",
            "+-----+------+---------+----+----------+----+----+------+------------+----+-----+---+\n",
            "only showing top 20 rows\n",
            "\n",
            "root\n",
            " |-- EMPNO: integer (nullable = true)\n",
            " |-- ENAME: string (nullable = true)\n",
            " |-- JOB: string (nullable = true)\n",
            " |-- MGR: integer (nullable = true)\n",
            " |-- HIREDATE: date (nullable = true)\n",
            " |-- SAL: integer (nullable = true)\n",
            " |-- COMM: integer (nullable = true)\n",
            " |-- DEPTNO: integer (nullable = true)\n",
            " |-- UPDATED_DATE: date (nullable = true)\n",
            " |-- Year: string (nullable = true)\n",
            " |-- Month: string (nullable = true)\n",
            " |-- Day: string (nullable = true)\n",
            "\n"
          ]
        },
        {
          "output_type": "execute_result",
          "data": {
            "text/plain": [
              "33"
            ]
          },
          "metadata": {},
          "execution_count": 8
        }
      ]
    },
    {
      "cell_type": "markdown",
      "source": [
        "# Drop null values"
      ],
      "metadata": {
        "id": "um81q_qq4vFE"
      }
    },
    {
      "cell_type": "code",
      "source": [
        "df4 = df3.dropna()\n",
        "df4.count()"
      ],
      "metadata": {
        "colab": {
          "base_uri": "https://localhost:8080/"
        },
        "id": "W0lEY5br4uho",
        "outputId": "656ca9ce-755f-45c5-cef8-8f4d885d4ec4"
      },
      "execution_count": null,
      "outputs": [
        {
          "output_type": "execute_result",
          "data": {
            "text/plain": [
              "28"
            ]
          },
          "metadata": {},
          "execution_count": 9
        }
      ]
    },
    {
      "cell_type": "markdown",
      "source": [
        "# Dropping tables"
      ],
      "metadata": {
        "id": "1v2xYf4uN4OU"
      }
    },
    {
      "cell_type": "code",
      "source": [
        "#spark.sql('drop table employee_hire')\n",
        "#spark.sql('drop table emp_view1')"
      ],
      "metadata": {
        "id": "0tuVk1foNqC4"
      },
      "execution_count": null,
      "outputs": []
    },
    {
      "cell_type": "markdown",
      "source": [
        "# Create A partitioned dataframe by year,month,day save it to EMployee Hire table"
      ],
      "metadata": {
        "id": "mpRggpGmOKqG"
      }
    },
    {
      "cell_type": "code",
      "source": [
        "df5 = df4.write.partitionBy('Year','Month','Day').saveAsTable('Employee_Hire')"
      ],
      "metadata": {
        "id": "gW2P6VQ92bp7"
      },
      "execution_count": null,
      "outputs": []
    },
    {
      "cell_type": "code",
      "source": [
        "spark.sql('select * from Employee_Hire where year =1987 and day=23').show()"
      ],
      "metadata": {
        "colab": {
          "base_uri": "https://localhost:8080/"
        },
        "id": "y1qjTsld5dPr",
        "outputId": "f760bc94-27d9-4380-cea0-28b5330c2ca6"
      },
      "execution_count": null,
      "outputs": [
        {
          "output_type": "stream",
          "name": "stdout",
          "text": [
            "+-----+-----+-----+----+----------+----+----+------+------------+----+-----+---+\n",
            "|EMPNO|ENAME|  JOB| MGR|  HIREDATE| SAL|COMM|DEPTNO|UPDATED_DATE|Year|Month|Day|\n",
            "+-----+-----+-----+----+----------+----+----+------+------------+----+-----+---+\n",
            "| 7876|ADAMS|CLERK|7788|1987-01-23|1100| 100|    20|  2022-01-02|1987|   01| 23|\n",
            "| 7876|ADAMS|CLERK|7788|1987-01-23|1100| 100|    20|  2021-01-08|1987|   01| 23|\n",
            "+-----+-----+-----+----+----------+----+----+------+------------+----+-----+---+\n",
            "\n"
          ]
        }
      ]
    },
    {
      "cell_type": "markdown",
      "source": [
        "# Incremental loading"
      ],
      "metadata": {
        "id": "uPaAP_8Z-o3X"
      }
    },
    {
      "cell_type": "code",
      "source": [
        "#loading data from source (daily)  ----> Tansform -----> loading warehouse \n",
        "from pyspark.sql.functions import *\n",
        "\n",
        "# Current Date data loading\n",
        "\n",
        "Id = spark.read.format('csv').option('header',True).load('/content/employee.csv').withColumn('Date',current_date())\n",
        "\n",
        "Id1 = Id.withColumn('Year',date_format('Date','yyyy')).withColumn('Month',date_format('Date','MM')).withColumn('Day',date_format('Date','dd'))\n",
        "\n",
        "Id1.write.partitionBy('Year','Month','Day').mode('append').saveAsTable('Emp_view1')"
      ],
      "metadata": {
        "id": "3cjHZZLP-taa"
      },
      "execution_count": null,
      "outputs": []
    },
    {
      "cell_type": "code",
      "source": [
        "\n",
        "# Tommorow's Date data loading\n",
        "\n",
        "Id = spark.read.format('csv').option('inferSchema',True).option('header',True).option('nullValue','null').load('/content/employee.csv').withColumn('Date',date_add(current_date(),1))\n",
        "\n",
        "Id1 = Id.withColumn('Year',date_format('Date','yyyy')).withColumn('Month',date_format('Date','MM')).withColumn('Day',date_format('Date','dd'))\n",
        "\n",
        "Id1.write.partitionBy('Year','Month','Day').mode('append').saveAsTable('Emp_view1')"
      ],
      "metadata": {
        "id": "QqbLRVoL-wtT"
      },
      "execution_count": null,
      "outputs": []
    },
    {
      "cell_type": "code",
      "source": [
        "\n",
        "#day after tommorow's data loading\n",
        "\n",
        "Id = spark.read.format('csv').option('inferSchema',True).option('header',True).option('nullValue','null').load('/content/employee.csv').withColumn('Date',date_add(current_date(),2))\n",
        "\n",
        "Id1 = Id.withColumn('Year',date_format('Date','yyyy')).withColumn('Month',date_format('Date','MM')).withColumn('Day',date_format('Date','dd'))\n",
        "\n",
        "Id1.write.partitionBy('Year','Month','Day').mode('append').saveAsTable('Emp_view1')"
      ],
      "metadata": {
        "id": "VdspAOGC-2AA"
      },
      "execution_count": null,
      "outputs": []
    },
    {
      "cell_type": "code",
      "source": [
        "spark.sql('select * from Emp_view1').show()"
      ],
      "metadata": {
        "id": "-4c5vkSnBBTH",
        "colab": {
          "base_uri": "https://localhost:8080/"
        },
        "outputId": "79dd9b93-a2c9-4470-eec5-8daabc0f646c"
      },
      "execution_count": null,
      "outputs": [
        {
          "output_type": "stream",
          "name": "stdout",
          "text": [
            "+-----+------+---------+----+----------+----+----+------+------------+----------+----+-----+---+\n",
            "|EMPNO| ENAME|      JOB| MGR|  HIREDATE| SAL|COMM|DEPTNO|UPDATED_DATE|      Date|Year|Month|Day|\n",
            "+-----+------+---------+----+----------+----+----+------+------------+----------+----+-----+---+\n",
            "| 7369| SMITH|    CLERK|7902|17-12-1980| 800|null|    20|  01-01-2022|2023-03-05|2023|   03| 05|\n",
            "| 7499| ALLEN| SALESMAN|7698|20-02-1981|1600| 300|    30|  02-01-2022|2023-03-05|2023|   03| 05|\n",
            "| 7521|  WARD| SALESMAN|7698|22-02-1981|1250| 500|    30|  03-01-2022|2023-03-05|2023|   03| 05|\n",
            "| 7566| JONES|  MANAGER|7839|04-02-1981|2975|null|    20|  04-01-2022|2023-03-05|2023|   03| 05|\n",
            "| 7654|MARTIN| SALESMAN|7698|21-09-1981|1250| 600|    30|  05-01-2022|2023-03-05|2023|   03| 05|\n",
            "| 7698|   SGR|  MANAGER|7839|05-01-1981|2850| 500|    30|  06-01-2022|2023-03-05|2023|   03| 05|\n",
            "| 7782|  RAVI|  MANAGER|7839|06-09-1981|2450|null|    10|  07-01-2022|2023-03-05|2023|   03| 05|\n",
            "| 7788| SCOTT|  ANALYST|7566|19-04-1987|3000|1200|    20|  08-01-2022|2023-03-05|2023|   03| 05|\n",
            "| 7839|  KING|PRESIDENT|null|      null|5000|null|    10|        null|2023-03-05|2023|   03| 05|\n",
            "| 7844|TURNER| SALESMAN|7698|09-08-1981|1500|   0|    30|  01-02-2022|2023-03-05|2023|   03| 05|\n",
            "| 7876| ADAMS|    CLERK|7788|23-05-1987|1100| 100|    20|  02-02-2022|2023-03-05|2023|   03| 05|\n",
            "| 7900| JAMES|    CLERK|7698|12-03-1981| 950|null|    30|  03-02-2022|2023-03-05|2023|   03| 05|\n",
            "| 7902|  FORD|  ANALYST|7566|12-03-1981|3000| 400|    20|  04-02-2022|2023-03-05|2023|   03| 05|\n",
            "| 7934|MILLER|    CLERK|7782|01-03-1982|1300|null|    10|  05-02-2022|2023-03-05|2023|   03| 05|\n",
            "| 1234|SEKHAR|   doctor|7777|      null| 667|  78|    80|  06-02-2022|2023-03-05|2023|   03| 05|\n",
            "| 7369| SMITH|    CLERK|7902|17-12-1980| 800|null|    20|  07-02-2022|2023-03-05|2023|   03| 05|\n",
            "| 7499| ALLEN| SALESMAN|7698|20-02-1981|1600| 300|    30|  08-02-2022|2023-03-05|2023|   03| 05|\n",
            "| 7521|  WARD| SALESMAN|7698|22-02-1981|1250| 500|    30|        null|2023-03-05|2023|   03| 05|\n",
            "| 7566| JONES|  MANAGER|7839|04-02-1981|2975|null|    20|  01-02-2021|2023-03-05|2023|   03| 05|\n",
            "| 7654|MARTIN| SALESMAN|7698|21-09-1981|1250|1400|    30|  02-02-2021|2023-03-05|2023|   03| 05|\n",
            "+-----+------+---------+----+----------+----+----+------+------------+----------+----+-----+---+\n",
            "only showing top 20 rows\n",
            "\n"
          ]
        }
      ]
    },
    {
      "cell_type": "markdown",
      "source": [
        "# Reading csv file with sep"
      ],
      "metadata": {
        "id": "RoW68JkXRiCe"
      }
    },
    {
      "cell_type": "code",
      "source": [
        "df = spark.read.format('csv').option('sep','|').option('inferSchema',True).option('header',True).load('/content/emp_pipe.txt')\n",
        "df.show()\n",
        "df.printSchema()"
      ],
      "metadata": {
        "id": "hHtLRTXlRjaO",
        "colab": {
          "base_uri": "https://localhost:8080/"
        },
        "outputId": "50c773ec-d755-49b2-ca29-00a1fefa0827"
      },
      "execution_count": null,
      "outputs": [
        {
          "output_type": "stream",
          "name": "stdout",
          "text": [
            "+-----+------+---------+----+----------+----+----+------+------------+\n",
            "|EMPNO| ENAME|      JOB| MGR|  HIREDATE| SAL|COMM|DEPTNO|UPDATED_DATE|\n",
            "+-----+------+---------+----+----------+----+----+------+------------+\n",
            "| 7369| SMITH|    CLERK|7902|17-12-1980| 800|null|    20|  01-01-2022|\n",
            "| 7499| ALLEN| SALESMAN|7698|20-02-1981|1600| 300|    30|  02-01-2022|\n",
            "| 7521|  WARD| SALESMAN|7698|22-02-1981|1250| 500|    30|  03-01-2022|\n",
            "| 7566| JONES|  MANAGER|7839|04-02-1981|2975|null|    20|  04-01-2022|\n",
            "| 7654|MARTIN| SALESMAN|7698|21-09-1981|1250|1400|    30|  05-01-2022|\n",
            "| 7698|   SGR|  MANAGER|7839|05-01-1981|2850|null|    30|  06-01-2022|\n",
            "| 7782|  RAVI|  MANAGER|7839|06-09-1981|2450|null|    10|  07-01-2022|\n",
            "| 7788| SCOTT|  ANALYST|7566|19-04-1987|3000|null|    20|  08-01-2022|\n",
            "| 7839|  KING|PRESIDENT|null|      null|5000|null|    10|        null|\n",
            "| 7844|TURNER| SALESMAN|7698|09-08-1981|1500|   0|    30|  01-02-2022|\n",
            "| 7876| ADAMS|    CLERK|7788|23-05-1987|1100|null|    20|  02-02-2022|\n",
            "| 7900| JAMES|    CLERK|7698|12-03-1981| 950|null|    30|  03-02-2022|\n",
            "| 7902|  FORD|  ANALYST|7566|12-03-1981|3000|null|    20|  04-02-2022|\n",
            "| 7934|MILLER|    CLERK|7782|01-03-1982|1300|null|    10|  05-02-2022|\n",
            "| 1234|SEKHAR|   doctor|7777|      null| 667|  78|    80|  06-02-2022|\n",
            "| 7369| SMITH|    CLERK|7902|17-12-1980| 800|null|    20|  07-02-2022|\n",
            "| 7499| ALLEN| SALESMAN|7698|20-02-1981|1600| 300|    30|  08-02-2022|\n",
            "| 7521|  WARD| SALESMAN|7698|22-02-1981|1250| 500|    30|        null|\n",
            "| 7566| JONES|  MANAGER|7839|04-02-1981|2975|null|    20|  01-02-2021|\n",
            "+-----+------+---------+----+----------+----+----+------+------------+\n",
            "\n",
            "root\n",
            " |-- EMPNO: integer (nullable = true)\n",
            " |-- ENAME: string (nullable = true)\n",
            " |-- JOB: string (nullable = true)\n",
            " |-- MGR: string (nullable = true)\n",
            " |-- HIREDATE: string (nullable = true)\n",
            " |-- SAL: integer (nullable = true)\n",
            " |-- COMM: string (nullable = true)\n",
            " |-- DEPTNO: integer (nullable = true)\n",
            " |-- UPDATED_DATE: string (nullable = true)\n",
            "\n"
          ]
        }
      ]
    },
    {
      "cell_type": "markdown",
      "source": [
        "# how to handle or how to read variable/dynamic no.of columns data file ( with Out Header File)?\n"
      ],
      "metadata": {
        "id": "f9JwZpUXSluY"
      }
    },
    {
      "cell_type": "code",
      "source": [
        "df = spark.read.format('text').load('/content/emp_without_header.txt').withColumn('New',split('value',','))\n",
        "\n",
        "# To find max No.of coulumns in a table\n",
        "col_size = df.select(max(size(col('New'))))\n",
        "\n",
        "df.show(5,truncate=True)\n",
        "col_size.show()\n",
        "print(type(df))\n",
        "df.printSchema()"
      ],
      "metadata": {
        "id": "JB0G5aL0Spw9",
        "colab": {
          "base_uri": "https://localhost:8080/"
        },
        "outputId": "470663d3-1894-4ba9-84f7-64f32f4daac7"
      },
      "execution_count": null,
      "outputs": [
        {
          "output_type": "stream",
          "name": "stdout",
          "text": [
            "+--------------------+--------------------+\n",
            "|               value|                 New|\n",
            "+--------------------+--------------------+\n",
            "|7369,SMITH,CLERK,...|[7369, SMITH, CLE...|\n",
            "|7499,ALLEN,SALESM...|[7499, ALLEN, SAL...|\n",
            "|7521,WARD,SALESMA...|[7521, WARD, SALE...|\n",
            "|7566,JONES,MANAGE...|[7566, JONES, MAN...|\n",
            "|7654,MARTIN,SALES...|[7654, MARTIN, SA...|\n",
            "+--------------------+--------------------+\n",
            "only showing top 5 rows\n",
            "\n",
            "+--------------+\n",
            "|max(size(New))|\n",
            "+--------------+\n",
            "|             9|\n",
            "+--------------+\n",
            "\n",
            "<class 'pyspark.sql.dataframe.DataFrame'>\n",
            "root\n",
            " |-- value: string (nullable = true)\n",
            " |-- New: array (nullable = true)\n",
            " |    |-- element: string (containsNull = false)\n",
            "\n"
          ]
        }
      ]
    },
    {
      "cell_type": "code",
      "source": [
        "for i in range(col_size.collect()[0][0]):\n",
        "  df = df.withColumn('col'+str(i),df['New'][i])\n",
        "df.show(truncate = False)"
      ],
      "metadata": {
        "id": "sdHoY1OQSx-n",
        "colab": {
          "base_uri": "https://localhost:8080/"
        },
        "outputId": "d906bf11-0406-42ef-c69d-e95febb5cda2"
      },
      "execution_count": null,
      "outputs": [
        {
          "output_type": "stream",
          "name": "stdout",
          "text": [
            "+------------------------------------------------------------+----------------------------------------------------------------------+----+------+---------+----+----------+----+----+----+----------+\n",
            "|value                                                       |New                                                                   |col0|col1  |col2     |col3|col4      |col5|col6|col7|col8      |\n",
            "+------------------------------------------------------------+----------------------------------------------------------------------+----+------+---------+----+----------+----+----+----+----------+\n",
            "|7369,SMITH,CLERK,7902,17-12-1980,800,null,20,01-01-2022     |[7369, SMITH, CLERK, 7902, 17-12-1980, 800, null, 20, 01-01-2022]     |7369|SMITH |CLERK    |7902|17-12-1980|800 |null|20  |01-01-2022|\n",
            "|7499,ALLEN,SALESMAN,7698,20-02-1981,1600,300,30,02-01-2022  |[7499, ALLEN, SALESMAN, 7698, 20-02-1981, 1600, 300, 30, 02-01-2022]  |7499|ALLEN |SALESMAN |7698|20-02-1981|1600|300 |30  |02-01-2022|\n",
            "|7521,WARD,SALESMAN,7698,22-02-1981,1250,500,30,03-01-2022   |[7521, WARD, SALESMAN, 7698, 22-02-1981, 1250, 500, 30, 03-01-2022]   |7521|WARD  |SALESMAN |7698|22-02-1981|1250|500 |30  |03-01-2022|\n",
            "|7566,JONES,MANAGER,7839,04-02-1981,2975,null,20,04-01-2022  |[7566, JONES, MANAGER, 7839, 04-02-1981, 2975, null, 20, 04-01-2022]  |7566|JONES |MANAGER  |7839|04-02-1981|2975|null|20  |04-01-2022|\n",
            "|7654,MARTIN,SALESMAN,7698,21-09-1981,1250,1400,30,05-01-2022|[7654, MARTIN, SALESMAN, 7698, 21-09-1981, 1250, 1400, 30, 05-01-2022]|7654|MARTIN|SALESMAN |7698|21-09-1981|1250|1400|30  |05-01-2022|\n",
            "|7698,SGR,MANAGER,7839,05-01-1981,2850,null,30,06-01-2022    |[7698, SGR, MANAGER, 7839, 05-01-1981, 2850, null, 30, 06-01-2022]    |7698|SGR   |MANAGER  |7839|05-01-1981|2850|null|30  |06-01-2022|\n",
            "|7782,RAVI,MANAGER,7839,06-09-1981,2450,null,10,07-01-2022   |[7782, RAVI, MANAGER, 7839, 06-09-1981, 2450, null, 10, 07-01-2022]   |7782|RAVI  |MANAGER  |7839|06-09-1981|2450|null|10  |07-01-2022|\n",
            "|7788,SCOTT,ANALYST,7566,19-04-1987,3000,null,20,08-01-2022  |[7788, SCOTT, ANALYST, 7566, 19-04-1987, 3000, null, 20, 08-01-2022]  |7788|SCOTT |ANALYST  |7566|19-04-1987|3000|null|20  |08-01-2022|\n",
            "|7839,KING,PRESIDENT,null,null,5000,null,10,null             |[7839, KING, PRESIDENT, null, null, 5000, null, 10, null]             |7839|KING  |PRESIDENT|null|null      |5000|null|10  |null      |\n",
            "|7844,TURNER,SALESMAN,7698,09-08-1981,1500,0,30,01-02-2022   |[7844, TURNER, SALESMAN, 7698, 09-08-1981, 1500, 0, 30, 01-02-2022]   |7844|TURNER|SALESMAN |7698|09-08-1981|1500|0   |30  |01-02-2022|\n",
            "|7876,ADAMS,CLERK,7788,23-05-1987,1100,null,20,02-02-2022    |[7876, ADAMS, CLERK, 7788, 23-05-1987, 1100, null, 20, 02-02-2022]    |7876|ADAMS |CLERK    |7788|23-05-1987|1100|null|20  |02-02-2022|\n",
            "|7900,JAMES,CLERK,7698,12-03-1981,950,null,30,03-02-2022     |[7900, JAMES, CLERK, 7698, 12-03-1981, 950, null, 30, 03-02-2022]     |7900|JAMES |CLERK    |7698|12-03-1981|950 |null|30  |03-02-2022|\n",
            "|7902,FORD,ANALYST,7566,12-03-1981,3000,null,20,04-02-2022   |[7902, FORD, ANALYST, 7566, 12-03-1981, 3000, null, 20, 04-02-2022]   |7902|FORD  |ANALYST  |7566|12-03-1981|3000|null|20  |04-02-2022|\n",
            "|7934,MILLER,CLERK,7782,01-03-1982,1300,null,10,05-02-2022   |[7934, MILLER, CLERK, 7782, 01-03-1982, 1300, null, 10, 05-02-2022]   |7934|MILLER|CLERK    |7782|01-03-1982|1300|null|10  |05-02-2022|\n",
            "|1234,SEKHAR,doctor,7777,null,667,78,80,06-02-2022           |[1234, SEKHAR, doctor, 7777, null, 667, 78, 80, 06-02-2022]           |1234|SEKHAR|doctor   |7777|null      |667 |78  |80  |06-02-2022|\n",
            "|7369,SMITH,CLERK,7902,17-12-1980,800,null,20,07-02-2022     |[7369, SMITH, CLERK, 7902, 17-12-1980, 800, null, 20, 07-02-2022]     |7369|SMITH |CLERK    |7902|17-12-1980|800 |null|20  |07-02-2022|\n",
            "|7499,ALLEN,SALESMAN,7698,20-02-1981,1600,300,30,08-02-2022  |[7499, ALLEN, SALESMAN, 7698, 20-02-1981, 1600, 300, 30, 08-02-2022]  |7499|ALLEN |SALESMAN |7698|20-02-1981|1600|300 |30  |08-02-2022|\n",
            "|7521,WARD,SALESMAN,7698,22-02-1981,1250,500,30,null         |[7521, WARD, SALESMAN, 7698, 22-02-1981, 1250, 500, 30, null]         |7521|WARD  |SALESMAN |7698|22-02-1981|1250|500 |30  |null      |\n",
            "|7566,JONES,MANAGER,7839,04-02-1981,2975,null,20,01-02-2021  |[7566, JONES, MANAGER, 7839, 04-02-1981, 2975, null, 20, 01-02-2021]  |7566|JONES |MANAGER  |7839|04-02-1981|2975|null|20  |01-02-2021|\n",
            "+------------------------------------------------------------+----------------------------------------------------------------------+----+------+---------+----+----------+----+----+----+----------+\n",
            "\n"
          ]
        }
      ]
    },
    {
      "cell_type": "code",
      "source": [
        "df1 = df.drop('value').drop('New')\n",
        "df1.show(truncate = False)\n",
        "df1.printSchema()\n",
        "print(type(df1))"
      ],
      "metadata": {
        "id": "PvSyvW6NUgaN",
        "colab": {
          "base_uri": "https://localhost:8080/"
        },
        "outputId": "b17a47d4-d0e6-4102-e632-c5c3d28b0f70"
      },
      "execution_count": null,
      "outputs": [
        {
          "output_type": "stream",
          "name": "stdout",
          "text": [
            "+----+------+---------+----+----------+----+----+----+----------+\n",
            "|col0|col1  |col2     |col3|col4      |col5|col6|col7|col8      |\n",
            "+----+------+---------+----+----------+----+----+----+----------+\n",
            "|7369|SMITH |CLERK    |7902|17-12-1980|800 |null|20  |01-01-2022|\n",
            "|7499|ALLEN |SALESMAN |7698|20-02-1981|1600|300 |30  |02-01-2022|\n",
            "|7521|WARD  |SALESMAN |7698|22-02-1981|1250|500 |30  |03-01-2022|\n",
            "|7566|JONES |MANAGER  |7839|04-02-1981|2975|null|20  |04-01-2022|\n",
            "|7654|MARTIN|SALESMAN |7698|21-09-1981|1250|1400|30  |05-01-2022|\n",
            "|7698|SGR   |MANAGER  |7839|05-01-1981|2850|null|30  |06-01-2022|\n",
            "|7782|RAVI  |MANAGER  |7839|06-09-1981|2450|null|10  |07-01-2022|\n",
            "|7788|SCOTT |ANALYST  |7566|19-04-1987|3000|null|20  |08-01-2022|\n",
            "|7839|KING  |PRESIDENT|null|null      |5000|null|10  |null      |\n",
            "|7844|TURNER|SALESMAN |7698|09-08-1981|1500|0   |30  |01-02-2022|\n",
            "|7876|ADAMS |CLERK    |7788|23-05-1987|1100|null|20  |02-02-2022|\n",
            "|7900|JAMES |CLERK    |7698|12-03-1981|950 |null|30  |03-02-2022|\n",
            "|7902|FORD  |ANALYST  |7566|12-03-1981|3000|null|20  |04-02-2022|\n",
            "|7934|MILLER|CLERK    |7782|01-03-1982|1300|null|10  |05-02-2022|\n",
            "|1234|SEKHAR|doctor   |7777|null      |667 |78  |80  |06-02-2022|\n",
            "|7369|SMITH |CLERK    |7902|17-12-1980|800 |null|20  |07-02-2022|\n",
            "|7499|ALLEN |SALESMAN |7698|20-02-1981|1600|300 |30  |08-02-2022|\n",
            "|7521|WARD  |SALESMAN |7698|22-02-1981|1250|500 |30  |null      |\n",
            "|7566|JONES |MANAGER  |7839|04-02-1981|2975|null|20  |01-02-2021|\n",
            "+----+------+---------+----+----------+----+----+----+----------+\n",
            "\n",
            "root\n",
            " |-- col0: string (nullable = true)\n",
            " |-- col1: string (nullable = true)\n",
            " |-- col2: string (nullable = true)\n",
            " |-- col3: string (nullable = true)\n",
            " |-- col4: string (nullable = true)\n",
            " |-- col5: string (nullable = true)\n",
            " |-- col6: string (nullable = true)\n",
            " |-- col7: string (nullable = true)\n",
            " |-- col8: string (nullable = true)\n",
            "\n",
            "<class 'pyspark.sql.dataframe.DataFrame'>\n"
          ]
        }
      ]
    },
    {
      "cell_type": "markdown",
      "source": [
        "# How to Skip first few rows? ( Step By Step detailed)\n",
        "\n"
      ],
      "metadata": {
        "id": "q66gjenfWVif"
      }
    },
    {
      "cell_type": "code",
      "source": [
        "\n",
        "rdd = spark.sparkContext.textFile('/content/emp_pipe_skip.txt').zipWithIndex()\n",
        "rdd.collect()"
      ],
      "metadata": {
        "id": "tmbPJlZQXd2E",
        "colab": {
          "base_uri": "https://localhost:8080/"
        },
        "outputId": "2274be73-94ff-492b-9956-e29bd5cd3246"
      },
      "execution_count": null,
      "outputs": [
        {
          "output_type": "execute_result",
          "data": {
            "text/plain": [
              "[('line 1', 0),\n",
              " ('line 2', 1),\n",
              " ('line 3', 2),\n",
              " ('EMPNO|ENAME|JOB|MGR|HIREDATE|SAL|COMM|DEPTNO|UPDATED_DATE', 3),\n",
              " ('7369|SMITH|CLERK|7902|17-12-1980|800|null|20|01-01-2022', 4),\n",
              " ('7499|ALLEN|SALESMAN|7698|20-02-1981|1600|300|30|02-01-2022', 5),\n",
              " ('7521|WARD|SALESMAN|7698|22-02-1981|1250|500|30|03-01-2022', 6),\n",
              " ('7566|JONES|MANAGER|7839|04-02-1981|2975|null|20|04-01-2022', 7),\n",
              " ('7654|MARTIN|SALESMAN|7698|21-09-1981|1250|1400|30|05-01-2022', 8),\n",
              " ('7698|SGR|MANAGER|7839|05-01-1981|2850|null|30|06-01-2022', 9),\n",
              " ('7782|RAVI|MANAGER|7839|06-09-1981|2450|null|10|07-01-2022', 10),\n",
              " ('7788|SCOTT|ANALYST|7566|19-04-1987|3000|null|20|08-01-2022', 11),\n",
              " ('7839|KING|PRESIDENT|null|null|5000|null|10|null', 12),\n",
              " ('7844|TURNER|SALESMAN|7698|09-08-1981|1500|0|30|01-02-2022', 13),\n",
              " ('7876|ADAMS|CLERK|7788|23-05-1987|1100|null|20|02-02-2022', 14),\n",
              " ('7900|JAMES|CLERK|7698|12-03-1981|950|null|30|03-02-2022', 15),\n",
              " ('7902|FORD|ANALYST|7566|12-03-1981|3000|null|20|04-02-2022', 16),\n",
              " ('7934|MILLER|CLERK|7782|01-03-1982|1300|null|10|05-02-2022', 17),\n",
              " ('1234|SEKHAR|doctor|7777|null|667|78|80|06-02-2022', 18),\n",
              " ('7369|SMITH|CLERK|7902|17-12-1980|800|null|20|07-02-2022', 19),\n",
              " ('7499|ALLEN|SALESMAN|7698|20-02-1981|1600|300|30|08-02-2022', 20),\n",
              " ('7521|WARD|SALESMAN|7698|22-02-1981|1250|500|30|null', 21),\n",
              " ('7566|JONES|MANAGER|7839|04-02-1981|2975|null|20|01-02-2021', 22)]"
            ]
          },
          "metadata": {},
          "execution_count": 21
        }
      ]
    },
    {
      "cell_type": "code",
      "source": [
        "rdd1 = rdd.filter(lambda a : a[1]>2)\n",
        "\n",
        "rdd1.collect()"
      ],
      "metadata": {
        "id": "qpXq_gYFaH1g",
        "colab": {
          "base_uri": "https://localhost:8080/"
        },
        "outputId": "d8dbd78f-90a1-41a7-afea-f29bc1aca80b"
      },
      "execution_count": null,
      "outputs": [
        {
          "output_type": "execute_result",
          "data": {
            "text/plain": [
              "[('EMPNO|ENAME|JOB|MGR|HIREDATE|SAL|COMM|DEPTNO|UPDATED_DATE', 3),\n",
              " ('7369|SMITH|CLERK|7902|17-12-1980|800|null|20|01-01-2022', 4),\n",
              " ('7499|ALLEN|SALESMAN|7698|20-02-1981|1600|300|30|02-01-2022', 5),\n",
              " ('7521|WARD|SALESMAN|7698|22-02-1981|1250|500|30|03-01-2022', 6),\n",
              " ('7566|JONES|MANAGER|7839|04-02-1981|2975|null|20|04-01-2022', 7),\n",
              " ('7654|MARTIN|SALESMAN|7698|21-09-1981|1250|1400|30|05-01-2022', 8),\n",
              " ('7698|SGR|MANAGER|7839|05-01-1981|2850|null|30|06-01-2022', 9),\n",
              " ('7782|RAVI|MANAGER|7839|06-09-1981|2450|null|10|07-01-2022', 10),\n",
              " ('7788|SCOTT|ANALYST|7566|19-04-1987|3000|null|20|08-01-2022', 11),\n",
              " ('7839|KING|PRESIDENT|null|null|5000|null|10|null', 12),\n",
              " ('7844|TURNER|SALESMAN|7698|09-08-1981|1500|0|30|01-02-2022', 13),\n",
              " ('7876|ADAMS|CLERK|7788|23-05-1987|1100|null|20|02-02-2022', 14),\n",
              " ('7900|JAMES|CLERK|7698|12-03-1981|950|null|30|03-02-2022', 15),\n",
              " ('7902|FORD|ANALYST|7566|12-03-1981|3000|null|20|04-02-2022', 16),\n",
              " ('7934|MILLER|CLERK|7782|01-03-1982|1300|null|10|05-02-2022', 17),\n",
              " ('1234|SEKHAR|doctor|7777|null|667|78|80|06-02-2022', 18),\n",
              " ('7369|SMITH|CLERK|7902|17-12-1980|800|null|20|07-02-2022', 19),\n",
              " ('7499|ALLEN|SALESMAN|7698|20-02-1981|1600|300|30|08-02-2022', 20),\n",
              " ('7521|WARD|SALESMAN|7698|22-02-1981|1250|500|30|null', 21),\n",
              " ('7566|JONES|MANAGER|7839|04-02-1981|2975|null|20|01-02-2021', 22)]"
            ]
          },
          "metadata": {},
          "execution_count": 22
        }
      ]
    },
    {
      "cell_type": "code",
      "source": [
        "# Removing index and split using sep\n",
        "\n",
        "rdd2 = rdd1.map(lambda a : a[0].split('|'))\n",
        "rdd2.collect()"
      ],
      "metadata": {
        "id": "F2cpLCI-gbFP",
        "colab": {
          "base_uri": "https://localhost:8080/"
        },
        "outputId": "c2bb9a05-76c4-40ae-a154-e3430f57debf"
      },
      "execution_count": null,
      "outputs": [
        {
          "output_type": "execute_result",
          "data": {
            "text/plain": [
              "[['EMPNO',\n",
              "  'ENAME',\n",
              "  'JOB',\n",
              "  'MGR',\n",
              "  'HIREDATE',\n",
              "  'SAL',\n",
              "  'COMM',\n",
              "  'DEPTNO',\n",
              "  'UPDATED_DATE'],\n",
              " ['7369',\n",
              "  'SMITH',\n",
              "  'CLERK',\n",
              "  '7902',\n",
              "  '17-12-1980',\n",
              "  '800',\n",
              "  'null',\n",
              "  '20',\n",
              "  '01-01-2022'],\n",
              " ['7499',\n",
              "  'ALLEN',\n",
              "  'SALESMAN',\n",
              "  '7698',\n",
              "  '20-02-1981',\n",
              "  '1600',\n",
              "  '300',\n",
              "  '30',\n",
              "  '02-01-2022'],\n",
              " ['7521',\n",
              "  'WARD',\n",
              "  'SALESMAN',\n",
              "  '7698',\n",
              "  '22-02-1981',\n",
              "  '1250',\n",
              "  '500',\n",
              "  '30',\n",
              "  '03-01-2022'],\n",
              " ['7566',\n",
              "  'JONES',\n",
              "  'MANAGER',\n",
              "  '7839',\n",
              "  '04-02-1981',\n",
              "  '2975',\n",
              "  'null',\n",
              "  '20',\n",
              "  '04-01-2022'],\n",
              " ['7654',\n",
              "  'MARTIN',\n",
              "  'SALESMAN',\n",
              "  '7698',\n",
              "  '21-09-1981',\n",
              "  '1250',\n",
              "  '1400',\n",
              "  '30',\n",
              "  '05-01-2022'],\n",
              " ['7698',\n",
              "  'SGR',\n",
              "  'MANAGER',\n",
              "  '7839',\n",
              "  '05-01-1981',\n",
              "  '2850',\n",
              "  'null',\n",
              "  '30',\n",
              "  '06-01-2022'],\n",
              " ['7782',\n",
              "  'RAVI',\n",
              "  'MANAGER',\n",
              "  '7839',\n",
              "  '06-09-1981',\n",
              "  '2450',\n",
              "  'null',\n",
              "  '10',\n",
              "  '07-01-2022'],\n",
              " ['7788',\n",
              "  'SCOTT',\n",
              "  'ANALYST',\n",
              "  '7566',\n",
              "  '19-04-1987',\n",
              "  '3000',\n",
              "  'null',\n",
              "  '20',\n",
              "  '08-01-2022'],\n",
              " ['7839', 'KING', 'PRESIDENT', 'null', 'null', '5000', 'null', '10', 'null'],\n",
              " ['7844',\n",
              "  'TURNER',\n",
              "  'SALESMAN',\n",
              "  '7698',\n",
              "  '09-08-1981',\n",
              "  '1500',\n",
              "  '0',\n",
              "  '30',\n",
              "  '01-02-2022'],\n",
              " ['7876',\n",
              "  'ADAMS',\n",
              "  'CLERK',\n",
              "  '7788',\n",
              "  '23-05-1987',\n",
              "  '1100',\n",
              "  'null',\n",
              "  '20',\n",
              "  '02-02-2022'],\n",
              " ['7900',\n",
              "  'JAMES',\n",
              "  'CLERK',\n",
              "  '7698',\n",
              "  '12-03-1981',\n",
              "  '950',\n",
              "  'null',\n",
              "  '30',\n",
              "  '03-02-2022'],\n",
              " ['7902',\n",
              "  'FORD',\n",
              "  'ANALYST',\n",
              "  '7566',\n",
              "  '12-03-1981',\n",
              "  '3000',\n",
              "  'null',\n",
              "  '20',\n",
              "  '04-02-2022'],\n",
              " ['7934',\n",
              "  'MILLER',\n",
              "  'CLERK',\n",
              "  '7782',\n",
              "  '01-03-1982',\n",
              "  '1300',\n",
              "  'null',\n",
              "  '10',\n",
              "  '05-02-2022'],\n",
              " ['1234', 'SEKHAR', 'doctor', '7777', 'null', '667', '78', '80', '06-02-2022'],\n",
              " ['7369',\n",
              "  'SMITH',\n",
              "  'CLERK',\n",
              "  '7902',\n",
              "  '17-12-1980',\n",
              "  '800',\n",
              "  'null',\n",
              "  '20',\n",
              "  '07-02-2022'],\n",
              " ['7499',\n",
              "  'ALLEN',\n",
              "  'SALESMAN',\n",
              "  '7698',\n",
              "  '20-02-1981',\n",
              "  '1600',\n",
              "  '300',\n",
              "  '30',\n",
              "  '08-02-2022'],\n",
              " ['7521',\n",
              "  'WARD',\n",
              "  'SALESMAN',\n",
              "  '7698',\n",
              "  '22-02-1981',\n",
              "  '1250',\n",
              "  '500',\n",
              "  '30',\n",
              "  'null'],\n",
              " ['7566',\n",
              "  'JONES',\n",
              "  'MANAGER',\n",
              "  '7839',\n",
              "  '04-02-1981',\n",
              "  '2975',\n",
              "  'null',\n",
              "  '20',\n",
              "  '01-02-2021']]"
            ]
          },
          "metadata": {},
          "execution_count": 23
        }
      ]
    },
    {
      "cell_type": "code",
      "source": [
        "# collect columns headers\n",
        "columns = rdd2.collect()[0]\n",
        "print(columns)"
      ],
      "metadata": {
        "id": "0DOjWlFShGV2",
        "colab": {
          "base_uri": "https://localhost:8080/"
        },
        "outputId": "cd12ce63-7a5d-4b10-a577-6db2f3647295"
      },
      "execution_count": null,
      "outputs": [
        {
          "output_type": "stream",
          "name": "stdout",
          "text": [
            "['EMPNO', 'ENAME', 'JOB', 'MGR', 'HIREDATE', 'SAL', 'COMM', 'DEPTNO', 'UPDATED_DATE']\n"
          ]
        }
      ]
    },
    {
      "cell_type": "code",
      "source": [
        "# skip first row\n",
        "skipline = rdd2.first()\n",
        "print(skipline)"
      ],
      "metadata": {
        "id": "iftlctgWiDHB",
        "colab": {
          "base_uri": "https://localhost:8080/"
        },
        "outputId": "0f401f9c-a451-4565-f2a5-922b772c1574"
      },
      "execution_count": null,
      "outputs": [
        {
          "output_type": "stream",
          "name": "stdout",
          "text": [
            "['EMPNO', 'ENAME', 'JOB', 'MGR', 'HIREDATE', 'SAL', 'COMM', 'DEPTNO', 'UPDATED_DATE']\n"
          ]
        }
      ]
    },
    {
      "cell_type": "code",
      "source": [
        "DF = rdd2.filter(lambda a : a != skipline).toDF(columns)\n",
        "DF.show()\n",
        "DF.printSchema()"
      ],
      "metadata": {
        "id": "UA9eX2Z7i00N",
        "colab": {
          "base_uri": "https://localhost:8080/"
        },
        "outputId": "48076f97-3fe6-47d7-9d45-91594564abf9"
      },
      "execution_count": null,
      "outputs": [
        {
          "output_type": "stream",
          "name": "stdout",
          "text": [
            "+-----+------+---------+----+----------+----+----+------+------------+\n",
            "|EMPNO| ENAME|      JOB| MGR|  HIREDATE| SAL|COMM|DEPTNO|UPDATED_DATE|\n",
            "+-----+------+---------+----+----------+----+----+------+------------+\n",
            "| 7369| SMITH|    CLERK|7902|17-12-1980| 800|null|    20|  01-01-2022|\n",
            "| 7499| ALLEN| SALESMAN|7698|20-02-1981|1600| 300|    30|  02-01-2022|\n",
            "| 7521|  WARD| SALESMAN|7698|22-02-1981|1250| 500|    30|  03-01-2022|\n",
            "| 7566| JONES|  MANAGER|7839|04-02-1981|2975|null|    20|  04-01-2022|\n",
            "| 7654|MARTIN| SALESMAN|7698|21-09-1981|1250|1400|    30|  05-01-2022|\n",
            "| 7698|   SGR|  MANAGER|7839|05-01-1981|2850|null|    30|  06-01-2022|\n",
            "| 7782|  RAVI|  MANAGER|7839|06-09-1981|2450|null|    10|  07-01-2022|\n",
            "| 7788| SCOTT|  ANALYST|7566|19-04-1987|3000|null|    20|  08-01-2022|\n",
            "| 7839|  KING|PRESIDENT|null|      null|5000|null|    10|        null|\n",
            "| 7844|TURNER| SALESMAN|7698|09-08-1981|1500|   0|    30|  01-02-2022|\n",
            "| 7876| ADAMS|    CLERK|7788|23-05-1987|1100|null|    20|  02-02-2022|\n",
            "| 7900| JAMES|    CLERK|7698|12-03-1981| 950|null|    30|  03-02-2022|\n",
            "| 7902|  FORD|  ANALYST|7566|12-03-1981|3000|null|    20|  04-02-2022|\n",
            "| 7934|MILLER|    CLERK|7782|01-03-1982|1300|null|    10|  05-02-2022|\n",
            "| 1234|SEKHAR|   doctor|7777|      null| 667|  78|    80|  06-02-2022|\n",
            "| 7369| SMITH|    CLERK|7902|17-12-1980| 800|null|    20|  07-02-2022|\n",
            "| 7499| ALLEN| SALESMAN|7698|20-02-1981|1600| 300|    30|  08-02-2022|\n",
            "| 7521|  WARD| SALESMAN|7698|22-02-1981|1250| 500|    30|        null|\n",
            "| 7566| JONES|  MANAGER|7839|04-02-1981|2975|null|    20|  01-02-2021|\n",
            "+-----+------+---------+----+----------+----+----+------+------------+\n",
            "\n",
            "root\n",
            " |-- EMPNO: string (nullable = true)\n",
            " |-- ENAME: string (nullable = true)\n",
            " |-- JOB: string (nullable = true)\n",
            " |-- MGR: string (nullable = true)\n",
            " |-- HIREDATE: string (nullable = true)\n",
            " |-- SAL: string (nullable = true)\n",
            " |-- COMM: string (nullable = true)\n",
            " |-- DEPTNO: string (nullable = true)\n",
            " |-- UPDATED_DATE: string (nullable = true)\n",
            "\n"
          ]
        }
      ]
    },
    {
      "cell_type": "markdown",
      "source": [
        "# Skip rows in given file ?"
      ],
      "metadata": {
        "id": "4LCR2ou1j6ej"
      }
    },
    {
      "cell_type": "code",
      "source": [
        "r1 = spark.sparkContext.textFile('/content/emp_pipe_skip.txt').zipWithIndex().filter(lambda a : a[1]>2).map(lambda a : a[0].split('|'))\n",
        "\n",
        "r1.collect()"
      ],
      "metadata": {
        "id": "wO4fhiT1kB0x",
        "colab": {
          "base_uri": "https://localhost:8080/"
        },
        "outputId": "ba2d9af2-0796-4374-c509-ede279483fb1"
      },
      "execution_count": null,
      "outputs": [
        {
          "output_type": "execute_result",
          "data": {
            "text/plain": [
              "[['EMPNO',\n",
              "  'ENAME',\n",
              "  'JOB',\n",
              "  'MGR',\n",
              "  'HIREDATE',\n",
              "  'SAL',\n",
              "  'COMM',\n",
              "  'DEPTNO',\n",
              "  'UPDATED_DATE'],\n",
              " ['7369',\n",
              "  'SMITH',\n",
              "  'CLERK',\n",
              "  '7902',\n",
              "  '17-12-1980',\n",
              "  '800',\n",
              "  'null',\n",
              "  '20',\n",
              "  '01-01-2022'],\n",
              " ['7499',\n",
              "  'ALLEN',\n",
              "  'SALESMAN',\n",
              "  '7698',\n",
              "  '20-02-1981',\n",
              "  '1600',\n",
              "  '300',\n",
              "  '30',\n",
              "  '02-01-2022'],\n",
              " ['7521',\n",
              "  'WARD',\n",
              "  'SALESMAN',\n",
              "  '7698',\n",
              "  '22-02-1981',\n",
              "  '1250',\n",
              "  '500',\n",
              "  '30',\n",
              "  '03-01-2022'],\n",
              " ['7566',\n",
              "  'JONES',\n",
              "  'MANAGER',\n",
              "  '7839',\n",
              "  '04-02-1981',\n",
              "  '2975',\n",
              "  'null',\n",
              "  '20',\n",
              "  '04-01-2022'],\n",
              " ['7654',\n",
              "  'MARTIN',\n",
              "  'SALESMAN',\n",
              "  '7698',\n",
              "  '21-09-1981',\n",
              "  '1250',\n",
              "  '1400',\n",
              "  '30',\n",
              "  '05-01-2022'],\n",
              " ['7698',\n",
              "  'SGR',\n",
              "  'MANAGER',\n",
              "  '7839',\n",
              "  '05-01-1981',\n",
              "  '2850',\n",
              "  'null',\n",
              "  '30',\n",
              "  '06-01-2022'],\n",
              " ['7782',\n",
              "  'RAVI',\n",
              "  'MANAGER',\n",
              "  '7839',\n",
              "  '06-09-1981',\n",
              "  '2450',\n",
              "  'null',\n",
              "  '10',\n",
              "  '07-01-2022'],\n",
              " ['7788',\n",
              "  'SCOTT',\n",
              "  'ANALYST',\n",
              "  '7566',\n",
              "  '19-04-1987',\n",
              "  '3000',\n",
              "  'null',\n",
              "  '20',\n",
              "  '08-01-2022'],\n",
              " ['7839', 'KING', 'PRESIDENT', 'null', 'null', '5000', 'null', '10', 'null'],\n",
              " ['7844',\n",
              "  'TURNER',\n",
              "  'SALESMAN',\n",
              "  '7698',\n",
              "  '09-08-1981',\n",
              "  '1500',\n",
              "  '0',\n",
              "  '30',\n",
              "  '01-02-2022'],\n",
              " ['7876',\n",
              "  'ADAMS',\n",
              "  'CLERK',\n",
              "  '7788',\n",
              "  '23-05-1987',\n",
              "  '1100',\n",
              "  'null',\n",
              "  '20',\n",
              "  '02-02-2022'],\n",
              " ['7900',\n",
              "  'JAMES',\n",
              "  'CLERK',\n",
              "  '7698',\n",
              "  '12-03-1981',\n",
              "  '950',\n",
              "  'null',\n",
              "  '30',\n",
              "  '03-02-2022'],\n",
              " ['7902',\n",
              "  'FORD',\n",
              "  'ANALYST',\n",
              "  '7566',\n",
              "  '12-03-1981',\n",
              "  '3000',\n",
              "  'null',\n",
              "  '20',\n",
              "  '04-02-2022'],\n",
              " ['7934',\n",
              "  'MILLER',\n",
              "  'CLERK',\n",
              "  '7782',\n",
              "  '01-03-1982',\n",
              "  '1300',\n",
              "  'null',\n",
              "  '10',\n",
              "  '05-02-2022'],\n",
              " ['1234', 'SEKHAR', 'doctor', '7777', 'null', '667', '78', '80', '06-02-2022'],\n",
              " ['7369',\n",
              "  'SMITH',\n",
              "  'CLERK',\n",
              "  '7902',\n",
              "  '17-12-1980',\n",
              "  '800',\n",
              "  'null',\n",
              "  '20',\n",
              "  '07-02-2022'],\n",
              " ['7499',\n",
              "  'ALLEN',\n",
              "  'SALESMAN',\n",
              "  '7698',\n",
              "  '20-02-1981',\n",
              "  '1600',\n",
              "  '300',\n",
              "  '30',\n",
              "  '08-02-2022'],\n",
              " ['7521',\n",
              "  'WARD',\n",
              "  'SALESMAN',\n",
              "  '7698',\n",
              "  '22-02-1981',\n",
              "  '1250',\n",
              "  '500',\n",
              "  '30',\n",
              "  'null'],\n",
              " ['7566',\n",
              "  'JONES',\n",
              "  'MANAGER',\n",
              "  '7839',\n",
              "  '04-02-1981',\n",
              "  '2975',\n",
              "  'null',\n",
              "  '20',\n",
              "  '01-02-2021']]"
            ]
          },
          "metadata": {},
          "execution_count": 27
        }
      ]
    },
    {
      "cell_type": "code",
      "source": [
        "columns = r1.collect()[0]\n",
        "\n",
        "print(columns)\n",
        "\n",
        "skipline = r1.first()\n",
        "\n",
        "print(skipline)"
      ],
      "metadata": {
        "id": "eEgj6qnIkXj6",
        "colab": {
          "base_uri": "https://localhost:8080/"
        },
        "outputId": "501df47c-c129-42a8-c1a7-d6f4750f554e"
      },
      "execution_count": null,
      "outputs": [
        {
          "output_type": "stream",
          "name": "stdout",
          "text": [
            "['EMPNO', 'ENAME', 'JOB', 'MGR', 'HIREDATE', 'SAL', 'COMM', 'DEPTNO', 'UPDATED_DATE']\n",
            "['EMPNO', 'ENAME', 'JOB', 'MGR', 'HIREDATE', 'SAL', 'COMM', 'DEPTNO', 'UPDATED_DATE']\n"
          ]
        }
      ]
    },
    {
      "cell_type": "code",
      "source": [
        "sk_df = r1.filter(lambda a : a != skipline).toDF(columns)\n",
        "sk_df.show()\n",
        "sk_df.printSchema()\n",
        "print(type(sk_df))"
      ],
      "metadata": {
        "id": "3Q4_x3mgmHyw",
        "colab": {
          "base_uri": "https://localhost:8080/"
        },
        "outputId": "c587f078-24f3-4b61-f0de-23c6485e7d7c"
      },
      "execution_count": null,
      "outputs": [
        {
          "output_type": "stream",
          "name": "stdout",
          "text": [
            "+-----+------+---------+----+----------+----+----+------+------------+\n",
            "|EMPNO| ENAME|      JOB| MGR|  HIREDATE| SAL|COMM|DEPTNO|UPDATED_DATE|\n",
            "+-----+------+---------+----+----------+----+----+------+------------+\n",
            "| 7369| SMITH|    CLERK|7902|17-12-1980| 800|null|    20|  01-01-2022|\n",
            "| 7499| ALLEN| SALESMAN|7698|20-02-1981|1600| 300|    30|  02-01-2022|\n",
            "| 7521|  WARD| SALESMAN|7698|22-02-1981|1250| 500|    30|  03-01-2022|\n",
            "| 7566| JONES|  MANAGER|7839|04-02-1981|2975|null|    20|  04-01-2022|\n",
            "| 7654|MARTIN| SALESMAN|7698|21-09-1981|1250|1400|    30|  05-01-2022|\n",
            "| 7698|   SGR|  MANAGER|7839|05-01-1981|2850|null|    30|  06-01-2022|\n",
            "| 7782|  RAVI|  MANAGER|7839|06-09-1981|2450|null|    10|  07-01-2022|\n",
            "| 7788| SCOTT|  ANALYST|7566|19-04-1987|3000|null|    20|  08-01-2022|\n",
            "| 7839|  KING|PRESIDENT|null|      null|5000|null|    10|        null|\n",
            "| 7844|TURNER| SALESMAN|7698|09-08-1981|1500|   0|    30|  01-02-2022|\n",
            "| 7876| ADAMS|    CLERK|7788|23-05-1987|1100|null|    20|  02-02-2022|\n",
            "| 7900| JAMES|    CLERK|7698|12-03-1981| 950|null|    30|  03-02-2022|\n",
            "| 7902|  FORD|  ANALYST|7566|12-03-1981|3000|null|    20|  04-02-2022|\n",
            "| 7934|MILLER|    CLERK|7782|01-03-1982|1300|null|    10|  05-02-2022|\n",
            "| 1234|SEKHAR|   doctor|7777|      null| 667|  78|    80|  06-02-2022|\n",
            "| 7369| SMITH|    CLERK|7902|17-12-1980| 800|null|    20|  07-02-2022|\n",
            "| 7499| ALLEN| SALESMAN|7698|20-02-1981|1600| 300|    30|  08-02-2022|\n",
            "| 7521|  WARD| SALESMAN|7698|22-02-1981|1250| 500|    30|        null|\n",
            "| 7566| JONES|  MANAGER|7839|04-02-1981|2975|null|    20|  01-02-2021|\n",
            "+-----+------+---------+----+----------+----+----+------+------------+\n",
            "\n",
            "root\n",
            " |-- EMPNO: string (nullable = true)\n",
            " |-- ENAME: string (nullable = true)\n",
            " |-- JOB: string (nullable = true)\n",
            " |-- MGR: string (nullable = true)\n",
            " |-- HIREDATE: string (nullable = true)\n",
            " |-- SAL: string (nullable = true)\n",
            " |-- COMM: string (nullable = true)\n",
            " |-- DEPTNO: string (nullable = true)\n",
            " |-- UPDATED_DATE: string (nullable = true)\n",
            "\n",
            "<class 'pyspark.sql.dataframe.DataFrame'>\n"
          ]
        }
      ]
    },
    {
      "cell_type": "markdown",
      "source": [
        "# how to remove duplicates\n",
        "\n",
        "1.   distinct()\n",
        "2.   dropDuplicates()/drop_duplicates()\n",
        "3.   window function with row_number()\n",
        "4.   groupBy with Count()\n",
        "\n",
        "\n",
        "\n"
      ],
      "metadata": {
        "id": "dvdphjnOnK9y"
      }
    },
    {
      "cell_type": "code",
      "source": [
        "dup = spark.read.format('csv').option('header',True).option('inferSchema',True).load('/content/employee_dup.csv')\n",
        "dup.show()\n",
        "dup.count()"
      ],
      "metadata": {
        "id": "fhdLRAcMod9N",
        "colab": {
          "base_uri": "https://localhost:8080/"
        },
        "outputId": "a9f77940-7ae6-4db8-bb77-4d8c1a5c48b8"
      },
      "execution_count": null,
      "outputs": [
        {
          "output_type": "stream",
          "name": "stdout",
          "text": [
            "+-----+------+---------+----+----+----+------+------------+\n",
            "|EMPNO| ENAME|      JOB| MGR| SAL|COMM|DEPTNO|UPDATED_DATE|\n",
            "+-----+------+---------+----+----+----+------+------------+\n",
            "| 7369| SMITH|    CLERK|7902| 800|null|    20|  01-01-2021|\n",
            "| 7499| ALLEN| SALESMAN|7698|1600| 300|    30|  02-01-2021|\n",
            "| 7521|  WARD| SALESMAN|7698|1250| 500|    30|  03-01-2021|\n",
            "| 7566| JONES|  MANAGER|7839|2975|null|    20|  04-01-2021|\n",
            "| 7654|MARTIN| SALESMAN|7698|1250|1400|    30|  05-01-2021|\n",
            "| 7698|   SGR|  MANAGER|7839|2850|null|    30|  06-01-2021|\n",
            "| 7782|  RAVI|  MANAGER|7839|2450|null|    10|  07-01-2021|\n",
            "| 7788| SCOTT|  ANALYST|7566|3000|null|    20|  08-01-2021|\n",
            "| 7839|  KING|PRESIDENT|null|5000|null|    10|        null|\n",
            "| 7369| SMITH|    CLERK|7902| 800|null|    20|  01-01-2022|\n",
            "| 7499| ALLEN| SALESMAN|7698|1600| 300|    30|  02-01-2022|\n",
            "| 7521|  WARD| SALESMAN|7698|1250| 500|    30|  03-01-2022|\n",
            "| 7566| JONES|  MANAGER|7839|2975|null|    20|  04-01-2022|\n",
            "| 7654|MARTIN| SALESMAN|7698|1250|1400|    30|  05-01-2022|\n",
            "| 7698|   SGR|  MANAGER|7839|2850|null|    30|  06-01-2022|\n",
            "| 7782|  RAVI|  MANAGER|7839|2450|null|    10|  07-01-2022|\n",
            "| 7788| SCOTT|  ANALYST|7566|3000|null|    20|  08-01-2022|\n",
            "| 7839|  KING|PRESIDENT|null|5000|null|    10|        null|\n",
            "| 7369| SMITH|    CLERK|7902| 800|null|    20|  01-01-2023|\n",
            "| 7499| ALLEN| SALESMAN|7698|1600| 300|    30|  02-01-2023|\n",
            "+-----+------+---------+----+----+----+------+------------+\n",
            "only showing top 20 rows\n",
            "\n"
          ]
        },
        {
          "output_type": "execute_result",
          "data": {
            "text/plain": [
              "27"
            ]
          },
          "metadata": {},
          "execution_count": 30
        }
      ]
    },
    {
      "cell_type": "code",
      "source": [
        "# distinct\n",
        "dup1 = dup.distinct()\n",
        "dup1.show()\n",
        "dup1.count()"
      ],
      "metadata": {
        "colab": {
          "base_uri": "https://localhost:8080/"
        },
        "id": "Qb0h03rnzK8k",
        "outputId": "9e966b76-ce57-40d8-d746-dbc838b8dd88"
      },
      "execution_count": null,
      "outputs": [
        {
          "output_type": "stream",
          "name": "stdout",
          "text": [
            "+-----+------+---------+----+----+----+------+------------+\n",
            "|EMPNO| ENAME|      JOB| MGR| SAL|COMM|DEPTNO|UPDATED_DATE|\n",
            "+-----+------+---------+----+----+----+------+------------+\n",
            "| 7654|MARTIN| SALESMAN|7698|1250|1400|    30|  05-01-2022|\n",
            "| 7782|  RAVI|  MANAGER|7839|2450|null|    10|  07-01-2021|\n",
            "| 7369| SMITH|    CLERK|7902| 800|null|    20|  01-01-2021|\n",
            "| 7521|  WARD| SALESMAN|7698|1250| 500|    30|  03-01-2023|\n",
            "| 7521|  WARD| SALESMAN|7698|1250| 500|    30|  03-01-2022|\n",
            "| 7782|  RAVI|  MANAGER|7839|2450|null|    10|  07-01-2023|\n",
            "| 7566| JONES|  MANAGER|7839|2975|null|    20|  04-01-2021|\n",
            "| 7839|  KING|PRESIDENT|null|5000|null|    10|        null|\n",
            "| 7566| JONES|  MANAGER|7839|2975|null|    20|  04-01-2022|\n",
            "| 7698|   SGR|  MANAGER|7839|2850|null|    30|  06-01-2022|\n",
            "| 7698|   SGR|  MANAGER|7839|2850|null|    30|  06-01-2021|\n",
            "| 7788| SCOTT|  ANALYST|7566|3000|null|    20|  08-01-2022|\n",
            "| 7369| SMITH|    CLERK|7902| 800|null|    20|  01-01-2022|\n",
            "| 7698|   SGR|  MANAGER|7839|2850|null|    30|  06-01-2023|\n",
            "| 7499| ALLEN| SALESMAN|7698|1600| 300|    30|  02-01-2021|\n",
            "| 7788| SCOTT|  ANALYST|7566|3000|null|    20|  08-01-2021|\n",
            "| 7654|MARTIN| SALESMAN|7698|1250|1400|    30|  05-01-2023|\n",
            "| 7521|  WARD| SALESMAN|7698|1250| 500|    30|  03-01-2021|\n",
            "| 7369| SMITH|    CLERK|7902| 800|null|    20|  01-01-2023|\n",
            "| 7566| JONES|  MANAGER|7839|2975|null|    20|  04-01-2023|\n",
            "+-----+------+---------+----+----+----+------+------------+\n",
            "only showing top 20 rows\n",
            "\n"
          ]
        },
        {
          "output_type": "execute_result",
          "data": {
            "text/plain": [
              "24"
            ]
          },
          "metadata": {},
          "execution_count": 31
        }
      ]
    },
    {
      "cell_type": "code",
      "source": [
        "#dropduplicates - it will keep only first record ,we will not get latest date data \n",
        "dup2 = dup.dropDuplicates(['EMPNO'])\n",
        "dup2.show()\n",
        "\n",
        "#so we need to use order by function and desc to drop duplicates\n",
        "\n",
        "dup3 = dup.orderBy(col('UPDATED_DATE').desc()).dropDuplicates(['EMPNO'])\n",
        "dup3.show()"
      ],
      "metadata": {
        "colab": {
          "base_uri": "https://localhost:8080/"
        },
        "id": "aljeh2og4Lxv",
        "outputId": "dddee384-71f7-4fb2-e5f6-50a7afb5acbc"
      },
      "execution_count": null,
      "outputs": [
        {
          "output_type": "stream",
          "name": "stdout",
          "text": [
            "+-----+------+---------+----+----+----+------+------------+\n",
            "|EMPNO| ENAME|      JOB| MGR| SAL|COMM|DEPTNO|UPDATED_DATE|\n",
            "+-----+------+---------+----+----+----+------+------------+\n",
            "| 7369| SMITH|    CLERK|7902| 800|null|    20|  01-01-2021|\n",
            "| 7499| ALLEN| SALESMAN|7698|1600| 300|    30|  02-01-2021|\n",
            "| 7521|  WARD| SALESMAN|7698|1250| 500|    30|  03-01-2021|\n",
            "| 7566| JONES|  MANAGER|7839|2975|null|    20|  04-01-2021|\n",
            "| 7654|MARTIN| SALESMAN|7698|1250|1400|    30|  05-01-2021|\n",
            "| 7698|   SGR|  MANAGER|7839|2850|null|    30|  06-01-2021|\n",
            "| 7782|  RAVI|  MANAGER|7839|2450|null|    10|  07-01-2021|\n",
            "| 7788| SCOTT|  ANALYST|7566|3000|null|    20|  08-01-2021|\n",
            "| 7839|  KING|PRESIDENT|null|5000|null|    10|        null|\n",
            "+-----+------+---------+----+----+----+------+------------+\n",
            "\n",
            "+-----+------+---------+----+----+----+------+------------+\n",
            "|EMPNO| ENAME|      JOB| MGR| SAL|COMM|DEPTNO|UPDATED_DATE|\n",
            "+-----+------+---------+----+----+----+------+------------+\n",
            "| 7369| SMITH|    CLERK|7902| 800|null|    20|  01-01-2023|\n",
            "| 7499| ALLEN| SALESMAN|7698|1600| 300|    30|  02-01-2023|\n",
            "| 7521|  WARD| SALESMAN|7698|1250| 500|    30|  03-01-2023|\n",
            "| 7566| JONES|  MANAGER|7839|2975|null|    20|  04-01-2023|\n",
            "| 7654|MARTIN| SALESMAN|7698|1250|1400|    30|  05-01-2023|\n",
            "| 7698|   SGR|  MANAGER|7839|2850|null|    30|  06-01-2023|\n",
            "| 7782|  RAVI|  MANAGER|7839|2450|null|    10|  07-01-2023|\n",
            "| 7788| SCOTT|  ANALYST|7566|3000|null|    20|  08-01-2022|\n",
            "| 7839|  KING|PRESIDENT|null|5000|null|    10|        null|\n",
            "+-----+------+---------+----+----+----+------+------------+\n",
            "\n"
          ]
        }
      ]
    },
    {
      "cell_type": "code",
      "source": [
        "# window Function wuth row number\n",
        "\n",
        "from pyspark.sql.window import *\n",
        "\n",
        "dup4 = dup.withColumn('row_id',row_number().over(Window.partitionBy('EMPNO').orderBy(col('UPDATED_DATE').desc())))\n"
      ],
      "metadata": {
        "id": "iiwNoMGA43ly"
      },
      "execution_count": null,
      "outputs": []
    },
    {
      "cell_type": "markdown",
      "source": [
        "# Good Data and Bad Data"
      ],
      "metadata": {
        "id": "kD48U4JR_sga"
      }
    },
    {
      "cell_type": "code",
      "source": [
        "df_good = dup4.filter('row_id =1')\n",
        "df_good.show()\n",
        "\n",
        "df_bad = dup4.filter('row_id >1')\n",
        "df_bad.show()"
      ],
      "metadata": {
        "colab": {
          "base_uri": "https://localhost:8080/"
        },
        "id": "_JCkxgDK_2-N",
        "outputId": "9183cda8-de06-49ae-c43a-01576d44b5c6"
      },
      "execution_count": null,
      "outputs": [
        {
          "output_type": "stream",
          "name": "stdout",
          "text": [
            "+-----+------+---------+----+----+----+------+------------+------+\n",
            "|EMPNO| ENAME|      JOB| MGR| SAL|COMM|DEPTNO|UPDATED_DATE|row_id|\n",
            "+-----+------+---------+----+----+----+------+------------+------+\n",
            "| 7369| SMITH|    CLERK|7902| 800|null|    20|  01-01-2023|     1|\n",
            "| 7499| ALLEN| SALESMAN|7698|1600| 300|    30|  02-01-2023|     1|\n",
            "| 7521|  WARD| SALESMAN|7698|1250| 500|    30|  03-01-2023|     1|\n",
            "| 7566| JONES|  MANAGER|7839|2975|null|    20|  04-01-2023|     1|\n",
            "| 7654|MARTIN| SALESMAN|7698|1250|1400|    30|  05-01-2023|     1|\n",
            "| 7698|   SGR|  MANAGER|7839|2850|null|    30|  06-01-2023|     1|\n",
            "| 7782|  RAVI|  MANAGER|7839|2450|null|    10|  07-01-2023|     1|\n",
            "| 7788| SCOTT|  ANALYST|7566|3000|null|    20|  08-01-2022|     1|\n",
            "| 7839|  KING|PRESIDENT|null|5000|null|    10|        null|     1|\n",
            "+-----+------+---------+----+----+----+------+------------+------+\n",
            "\n",
            "+-----+------+---------+----+----+----+------+------------+------+\n",
            "|EMPNO| ENAME|      JOB| MGR| SAL|COMM|DEPTNO|UPDATED_DATE|row_id|\n",
            "+-----+------+---------+----+----+----+------+------------+------+\n",
            "| 7369| SMITH|    CLERK|7902| 800|null|    20|  01-01-2022|     2|\n",
            "| 7369| SMITH|    CLERK|7902| 800|null|    20|  01-01-2021|     3|\n",
            "| 7499| ALLEN| SALESMAN|7698|1600| 300|    30|  02-01-2022|     2|\n",
            "| 7499| ALLEN| SALESMAN|7698|1600| 300|    30|  02-01-2021|     3|\n",
            "| 7521|  WARD| SALESMAN|7698|1250| 500|    30|  03-01-2022|     2|\n",
            "| 7521|  WARD| SALESMAN|7698|1250| 500|    30|  03-01-2021|     3|\n",
            "| 7566| JONES|  MANAGER|7839|2975|null|    20|  04-01-2022|     2|\n",
            "| 7566| JONES|  MANAGER|7839|2975|null|    20|  04-01-2021|     3|\n",
            "| 7654|MARTIN| SALESMAN|7698|1250|1400|    30|  05-01-2022|     2|\n",
            "| 7654|MARTIN| SALESMAN|7698|1250|1400|    30|  05-01-2021|     3|\n",
            "| 7698|   SGR|  MANAGER|7839|2850|null|    30|  06-01-2022|     2|\n",
            "| 7698|   SGR|  MANAGER|7839|2850|null|    30|  06-01-2021|     3|\n",
            "| 7782|  RAVI|  MANAGER|7839|2450|null|    10|  07-01-2022|     2|\n",
            "| 7782|  RAVI|  MANAGER|7839|2450|null|    10|  07-01-2021|     3|\n",
            "| 7788| SCOTT|  ANALYST|7566|3000|null|    20|  08-01-2022|     2|\n",
            "| 7788| SCOTT|  ANALYST|7566|3000|null|    20|  08-01-2021|     3|\n",
            "| 7839|  KING|PRESIDENT|null|5000|null|    10|        null|     2|\n",
            "| 7839|  KING|PRESIDENT|null|5000|null|    10|        null|     3|\n",
            "+-----+------+---------+----+----+----+------+------------+------+\n",
            "\n"
          ]
        }
      ]
    },
    {
      "cell_type": "markdown",
      "source": [
        "# how to read all files from a single floder"
      ],
      "metadata": {
        "id": "yQdbp3VcIOqb"
      }
    },
    {
      "cell_type": "code",
      "source": [
        "da = spark.read.format('csv').option('header',True).option('nullValue','null').option('inferSchema',True).load('/content/Data/')\n",
        "\n",
        "da.show()\n",
        "da.count()"
      ],
      "metadata": {
        "colab": {
          "base_uri": "https://localhost:8080/",
          "height": 377
        },
        "id": "iut2V5c2IeB8",
        "outputId": "e515e11b-3de1-4a9d-9bc7-df0cc6553d1e"
      },
      "execution_count": null,
      "outputs": [
        {
          "output_type": "error",
          "ename": "AnalysisException",
          "evalue": "ignored",
          "traceback": [
            "\u001b[0;31m---------------------------------------------------------------------------\u001b[0m",
            "\u001b[0;31mAnalysisException\u001b[0m                         Traceback (most recent call last)",
            "\u001b[0;32m<ipython-input-35-5c4b1da13c25>\u001b[0m in \u001b[0;36m<module>\u001b[0;34m\u001b[0m\n\u001b[0;32m----> 1\u001b[0;31m \u001b[0mda\u001b[0m \u001b[0;34m=\u001b[0m \u001b[0mspark\u001b[0m\u001b[0;34m.\u001b[0m\u001b[0mread\u001b[0m\u001b[0;34m.\u001b[0m\u001b[0mformat\u001b[0m\u001b[0;34m(\u001b[0m\u001b[0;34m'csv'\u001b[0m\u001b[0;34m)\u001b[0m\u001b[0;34m.\u001b[0m\u001b[0moption\u001b[0m\u001b[0;34m(\u001b[0m\u001b[0;34m'header'\u001b[0m\u001b[0;34m,\u001b[0m\u001b[0;32mTrue\u001b[0m\u001b[0;34m)\u001b[0m\u001b[0;34m.\u001b[0m\u001b[0moption\u001b[0m\u001b[0;34m(\u001b[0m\u001b[0;34m'nullValue'\u001b[0m\u001b[0;34m,\u001b[0m\u001b[0;34m'null'\u001b[0m\u001b[0;34m)\u001b[0m\u001b[0;34m.\u001b[0m\u001b[0moption\u001b[0m\u001b[0;34m(\u001b[0m\u001b[0;34m'inferSchema'\u001b[0m\u001b[0;34m,\u001b[0m\u001b[0;32mTrue\u001b[0m\u001b[0;34m)\u001b[0m\u001b[0;34m.\u001b[0m\u001b[0mload\u001b[0m\u001b[0;34m(\u001b[0m\u001b[0;34m'/content/Data/'\u001b[0m\u001b[0;34m)\u001b[0m\u001b[0;34m\u001b[0m\u001b[0;34m\u001b[0m\u001b[0m\n\u001b[0m\u001b[1;32m      2\u001b[0m \u001b[0;34m\u001b[0m\u001b[0m\n\u001b[1;32m      3\u001b[0m \u001b[0mda\u001b[0m\u001b[0;34m.\u001b[0m\u001b[0mshow\u001b[0m\u001b[0;34m(\u001b[0m\u001b[0;34m)\u001b[0m\u001b[0;34m\u001b[0m\u001b[0;34m\u001b[0m\u001b[0m\n\u001b[1;32m      4\u001b[0m \u001b[0mda\u001b[0m\u001b[0;34m.\u001b[0m\u001b[0mcount\u001b[0m\u001b[0;34m(\u001b[0m\u001b[0;34m)\u001b[0m\u001b[0;34m\u001b[0m\u001b[0;34m\u001b[0m\u001b[0m\n",
            "\u001b[0;32m/usr/local/lib/python3.8/dist-packages/pyspark/sql/readwriter.py\u001b[0m in \u001b[0;36mload\u001b[0;34m(self, path, format, schema, **options)\u001b[0m\n\u001b[1;32m    175\u001b[0m         \u001b[0mself\u001b[0m\u001b[0;34m.\u001b[0m\u001b[0moptions\u001b[0m\u001b[0;34m(\u001b[0m\u001b[0;34m**\u001b[0m\u001b[0moptions\u001b[0m\u001b[0;34m)\u001b[0m\u001b[0;34m\u001b[0m\u001b[0;34m\u001b[0m\u001b[0m\n\u001b[1;32m    176\u001b[0m         \u001b[0;32mif\u001b[0m \u001b[0misinstance\u001b[0m\u001b[0;34m(\u001b[0m\u001b[0mpath\u001b[0m\u001b[0;34m,\u001b[0m \u001b[0mstr\u001b[0m\u001b[0;34m)\u001b[0m\u001b[0;34m:\u001b[0m\u001b[0;34m\u001b[0m\u001b[0;34m\u001b[0m\u001b[0m\n\u001b[0;32m--> 177\u001b[0;31m             \u001b[0;32mreturn\u001b[0m \u001b[0mself\u001b[0m\u001b[0;34m.\u001b[0m\u001b[0m_df\u001b[0m\u001b[0;34m(\u001b[0m\u001b[0mself\u001b[0m\u001b[0;34m.\u001b[0m\u001b[0m_jreader\u001b[0m\u001b[0;34m.\u001b[0m\u001b[0mload\u001b[0m\u001b[0;34m(\u001b[0m\u001b[0mpath\u001b[0m\u001b[0;34m)\u001b[0m\u001b[0;34m)\u001b[0m\u001b[0;34m\u001b[0m\u001b[0;34m\u001b[0m\u001b[0m\n\u001b[0m\u001b[1;32m    178\u001b[0m         \u001b[0;32melif\u001b[0m \u001b[0mpath\u001b[0m \u001b[0;32mis\u001b[0m \u001b[0;32mnot\u001b[0m \u001b[0;32mNone\u001b[0m\u001b[0;34m:\u001b[0m\u001b[0;34m\u001b[0m\u001b[0;34m\u001b[0m\u001b[0m\n\u001b[1;32m    179\u001b[0m             \u001b[0;32mif\u001b[0m \u001b[0mtype\u001b[0m\u001b[0;34m(\u001b[0m\u001b[0mpath\u001b[0m\u001b[0;34m)\u001b[0m \u001b[0;34m!=\u001b[0m \u001b[0mlist\u001b[0m\u001b[0;34m:\u001b[0m\u001b[0;34m\u001b[0m\u001b[0;34m\u001b[0m\u001b[0m\n",
            "\u001b[0;32m/usr/local/lib/python3.8/dist-packages/py4j/java_gateway.py\u001b[0m in \u001b[0;36m__call__\u001b[0;34m(self, *args)\u001b[0m\n\u001b[1;32m   1319\u001b[0m \u001b[0;34m\u001b[0m\u001b[0m\n\u001b[1;32m   1320\u001b[0m         \u001b[0manswer\u001b[0m \u001b[0;34m=\u001b[0m \u001b[0mself\u001b[0m\u001b[0;34m.\u001b[0m\u001b[0mgateway_client\u001b[0m\u001b[0;34m.\u001b[0m\u001b[0msend_command\u001b[0m\u001b[0;34m(\u001b[0m\u001b[0mcommand\u001b[0m\u001b[0;34m)\u001b[0m\u001b[0;34m\u001b[0m\u001b[0;34m\u001b[0m\u001b[0m\n\u001b[0;32m-> 1321\u001b[0;31m         return_value = get_return_value(\n\u001b[0m\u001b[1;32m   1322\u001b[0m             answer, self.gateway_client, self.target_id, self.name)\n\u001b[1;32m   1323\u001b[0m \u001b[0;34m\u001b[0m\u001b[0m\n",
            "\u001b[0;32m/usr/local/lib/python3.8/dist-packages/pyspark/sql/utils.py\u001b[0m in \u001b[0;36mdeco\u001b[0;34m(*a, **kw)\u001b[0m\n\u001b[1;32m    194\u001b[0m                 \u001b[0;31m# Hide where the exception came from that shows a non-Pythonic\u001b[0m\u001b[0;34m\u001b[0m\u001b[0;34m\u001b[0m\u001b[0;34m\u001b[0m\u001b[0m\n\u001b[1;32m    195\u001b[0m                 \u001b[0;31m# JVM exception message.\u001b[0m\u001b[0;34m\u001b[0m\u001b[0;34m\u001b[0m\u001b[0;34m\u001b[0m\u001b[0m\n\u001b[0;32m--> 196\u001b[0;31m                 \u001b[0;32mraise\u001b[0m \u001b[0mconverted\u001b[0m \u001b[0;32mfrom\u001b[0m \u001b[0;32mNone\u001b[0m\u001b[0;34m\u001b[0m\u001b[0;34m\u001b[0m\u001b[0m\n\u001b[0m\u001b[1;32m    197\u001b[0m             \u001b[0;32melse\u001b[0m\u001b[0;34m:\u001b[0m\u001b[0;34m\u001b[0m\u001b[0;34m\u001b[0m\u001b[0m\n\u001b[1;32m    198\u001b[0m                 \u001b[0;32mraise\u001b[0m\u001b[0;34m\u001b[0m\u001b[0;34m\u001b[0m\u001b[0m\n",
            "\u001b[0;31mAnalysisException\u001b[0m: Path does not exist: file:/content/Data"
          ]
        }
      ]
    },
    {
      "cell_type": "markdown",
      "source": [
        "# how to read all files from a floder inside another floder (nested/sub floders)"
      ],
      "metadata": {
        "id": "LS4aj91HPoyC"
      }
    },
    {
      "cell_type": "code",
      "source": [
        "ne_da = spark.read.format('csv').option('recursiveFileLookup',True).option('header',True).option('nullValue','null').option('inferSchema',True).load('/content/Data')\n",
        "\n",
        "ne_da.show()\n",
        "ne_da.count()"
      ],
      "metadata": {
        "id": "IeDjXdGUP7OX"
      },
      "execution_count": null,
      "outputs": []
    },
    {
      "cell_type": "markdown",
      "source": [
        "# print file name with location"
      ],
      "metadata": {
        "id": "id2SoGG5RFd_"
      }
    },
    {
      "cell_type": "code",
      "source": [
        "from pyspark.sql.functions import *\n",
        "\n",
        "ne_da1 = ne_da.withColumn('filename',input_file_name())\n",
        "ne_da1.show(truncate=False)"
      ],
      "metadata": {
        "id": "WbE_AbR2RMJn"
      },
      "execution_count": null,
      "outputs": []
    },
    {
      "cell_type": "markdown",
      "source": [
        "# how to get no.of rows for each file?"
      ],
      "metadata": {
        "id": "G4ZwOoQpTYvQ"
      }
    },
    {
      "cell_type": "code",
      "source": [
        "ne_da1.groupBy('filename').count().show(truncate=False)\n",
        "\n",
        "\n",
        "ne_da1.count()"
      ],
      "metadata": {
        "id": "zxrMNi5NTgxz"
      },
      "execution_count": null,
      "outputs": []
    },
    {
      "cell_type": "markdown",
      "source": [
        "# how to get no.of rows in each partition"
      ],
      "metadata": {
        "id": "Ud8yVOQJcMCg"
      }
    },
    {
      "cell_type": "code",
      "source": [
        "ne_da1.select(spark_partition_id().alias('Part_id')).groupBy('Part_id').count().show()"
      ],
      "metadata": {
        "id": "W_pM4FidcV0Q"
      },
      "execution_count": null,
      "outputs": []
    },
    {
      "cell_type": "markdown",
      "source": [
        "\n",
        "# data skewness\n",
        "to aviod data skewness (some partitions get more data(no of rows) that will take more time complete and some partitions get less data(no of rows) takes less time to complete ,this will effect overall performence )\n",
        "\n",
        "# Repartition\n",
        "So use repartition , it will divides data(no of rows) into equal no of partitions ,this will improve the overall performence"
      ],
      "metadata": {
        "id": "ckGZgC1-dc7Y"
      }
    },
    {
      "cell_type": "code",
      "source": [
        "ne_da1.repartition(6).select(spark_partition_id().alias('part_id')).groupBy('part_id').count().show()"
      ],
      "metadata": {
        "colab": {
          "base_uri": "https://localhost:8080/",
          "height": 171
        },
        "id": "Svew6sf5dhlo",
        "outputId": "7c15c3f4-0489-409e-8d36-13c9fa05aaf9"
      },
      "execution_count": null,
      "outputs": [
        {
          "output_type": "error",
          "ename": "NameError",
          "evalue": "ignored",
          "traceback": [
            "\u001b[0;31m---------------------------------------------------------------------------\u001b[0m",
            "\u001b[0;31mNameError\u001b[0m                                 Traceback (most recent call last)",
            "\u001b[0;32m<ipython-input-36-bb59ed47b329>\u001b[0m in \u001b[0;36m<module>\u001b[0;34m\u001b[0m\n\u001b[0;32m----> 1\u001b[0;31m \u001b[0mne_da1\u001b[0m\u001b[0;34m.\u001b[0m\u001b[0mrepartition\u001b[0m\u001b[0;34m(\u001b[0m\u001b[0;36m6\u001b[0m\u001b[0;34m)\u001b[0m\u001b[0;34m.\u001b[0m\u001b[0mselect\u001b[0m\u001b[0;34m(\u001b[0m\u001b[0mspark_partition_id\u001b[0m\u001b[0;34m(\u001b[0m\u001b[0;34m)\u001b[0m\u001b[0;34m.\u001b[0m\u001b[0malias\u001b[0m\u001b[0;34m(\u001b[0m\u001b[0;34m'part_id'\u001b[0m\u001b[0;34m)\u001b[0m\u001b[0;34m)\u001b[0m\u001b[0;34m.\u001b[0m\u001b[0mgroupBy\u001b[0m\u001b[0;34m(\u001b[0m\u001b[0;34m'part_id'\u001b[0m\u001b[0;34m)\u001b[0m\u001b[0;34m.\u001b[0m\u001b[0mcount\u001b[0m\u001b[0;34m(\u001b[0m\u001b[0;34m)\u001b[0m\u001b[0;34m.\u001b[0m\u001b[0mshow\u001b[0m\u001b[0;34m(\u001b[0m\u001b[0;34m)\u001b[0m\u001b[0;34m\u001b[0m\u001b[0;34m\u001b[0m\u001b[0m\n\u001b[0m",
            "\u001b[0;31mNameError\u001b[0m: name 'ne_da1' is not defined"
          ]
        }
      ]
    },
    {
      "cell_type": "markdown",
      "source": [
        "# how to add/generate sequence id /surrogate key as a column\n",
        "\n",
        "\n",
        "1.   monotonically_increasing_id()\n",
        "2.   row_number() - window function\n",
        "3.   crc32   - generate random numbers\n",
        "4.   md5     - hash key generater function\n",
        "5.   sha1 and sha2 -hash key generate function\n",
        "\n",
        "\n",
        "\n",
        "\n",
        "\n",
        "\n"
      ],
      "metadata": {
        "id": "ogY8HYsYg5LP"
      }
    },
    {
      "cell_type": "code",
      "source": [
        "key_df = spark.read.format('csv').option('header',True).option('inferSchema' ,True).option('nullValue','null').load('/content/employee.csv').dropna().dropDuplicates(['EMPNO'])\n",
        "key_df.show()\n",
        "print(key_df.count())\n",
        "key_df.printSchema()"
      ],
      "metadata": {
        "colab": {
          "base_uri": "https://localhost:8080/"
        },
        "id": "XOTpz0fihrlE",
        "outputId": "60730138-9ab8-4733-cfb5-23d38d9c8028"
      },
      "execution_count": null,
      "outputs": [
        {
          "output_type": "stream",
          "name": "stdout",
          "text": [
            "+-----+------+--------+----+----------+----+----+------+------------+\n",
            "|EMPNO| ENAME|     JOB| MGR|  HIREDATE| SAL|COMM|DEPTNO|UPDATED_DATE|\n",
            "+-----+------+--------+----+----------+----+----+------+------------+\n",
            "| 7499| ALLEN|SALESMAN|7698|20-02-1981|1600| 300|    30|  02-01-2022|\n",
            "| 7521|  WARD|SALESMAN|7698|22-02-1981|1250| 500|    30|  03-01-2022|\n",
            "| 7654|MARTIN|SALESMAN|7698|21-09-1981|1250| 600|    30|  05-01-2022|\n",
            "| 7698|   SGR| MANAGER|7839|05-01-1981|2850| 500|    30|  06-01-2022|\n",
            "| 7782|  RAVI| MANAGER|7839|06-09-1981|2450|  14|    10|  04-02-2021|\n",
            "| 7788| SCOTT| ANALYST|7566|19-04-1987|3000|1200|    20|  08-01-2022|\n",
            "| 7844|TURNER|SALESMAN|7698|09-08-1981|1500|   0|    30|  01-02-2022|\n",
            "| 7876| ADAMS|   CLERK|7788|23-05-1987|1100| 100|    20|  02-02-2022|\n",
            "| 7902|  FORD| ANALYST|7566|12-03-1981|3000| 400|    20|  04-02-2022|\n",
            "| 7934|MILLER|   CLERK|7782|01-03-1982|1300| 100|    10|  02-01-2021|\n",
            "+-----+------+--------+----+----------+----+----+------+------------+\n",
            "\n",
            "10\n",
            "root\n",
            " |-- EMPNO: integer (nullable = true)\n",
            " |-- ENAME: string (nullable = true)\n",
            " |-- JOB: string (nullable = true)\n",
            " |-- MGR: integer (nullable = true)\n",
            " |-- HIREDATE: string (nullable = true)\n",
            " |-- SAL: integer (nullable = true)\n",
            " |-- COMM: integer (nullable = true)\n",
            " |-- DEPTNO: integer (nullable = true)\n",
            " |-- UPDATED_DATE: string (nullable = true)\n",
            "\n"
          ]
        }
      ]
    },
    {
      "cell_type": "markdown",
      "source": [
        "# monotonically_increasing_id"
      ],
      "metadata": {
        "id": "NIIV5Rgcct3r"
      }
    },
    {
      "cell_type": "code",
      "source": [
        "#monotonically_increasing_id\n",
        "\n",
        "key_df.withColumn('id',monotonically_increasing_id()).show()\n",
        "\n",
        "# from custom id\n",
        "\n",
        "key_df.withColumn('id',monotonically_increasing_id()+1).show()"
      ],
      "metadata": {
        "colab": {
          "base_uri": "https://localhost:8080/"
        },
        "id": "5vPPKZoPik2n",
        "outputId": "826dd8bf-c900-4181-9baa-bffd6bde4d37"
      },
      "execution_count": null,
      "outputs": [
        {
          "output_type": "stream",
          "name": "stdout",
          "text": [
            "+-----+------+--------+----+----------+----+----+------+------------+---+\n",
            "|EMPNO| ENAME|     JOB| MGR|  HIREDATE| SAL|COMM|DEPTNO|UPDATED_DATE| id|\n",
            "+-----+------+--------+----+----------+----+----+------+------------+---+\n",
            "| 7499| ALLEN|SALESMAN|7698|20-02-1981|1600| 300|    30|  02-01-2022|  0|\n",
            "| 7521|  WARD|SALESMAN|7698|22-02-1981|1250| 500|    30|  03-01-2022|  1|\n",
            "| 7654|MARTIN|SALESMAN|7698|21-09-1981|1250| 600|    30|  05-01-2022|  2|\n",
            "| 7698|   SGR| MANAGER|7839|05-01-1981|2850| 500|    30|  06-01-2022|  3|\n",
            "| 7782|  RAVI| MANAGER|7839|06-09-1981|2450|  14|    10|  04-02-2021|  4|\n",
            "| 7788| SCOTT| ANALYST|7566|19-04-1987|3000|1200|    20|  08-01-2022|  5|\n",
            "| 7844|TURNER|SALESMAN|7698|09-08-1981|1500|   0|    30|  01-02-2022|  6|\n",
            "| 7876| ADAMS|   CLERK|7788|23-05-1987|1100| 100|    20|  02-02-2022|  7|\n",
            "| 7902|  FORD| ANALYST|7566|12-03-1981|3000| 400|    20|  04-02-2022|  8|\n",
            "| 7934|MILLER|   CLERK|7782|01-03-1982|1300| 100|    10|  02-01-2021|  9|\n",
            "+-----+------+--------+----+----------+----+----+------+------------+---+\n",
            "\n",
            "+-----+------+--------+----+----------+----+----+------+------------+---+\n",
            "|EMPNO| ENAME|     JOB| MGR|  HIREDATE| SAL|COMM|DEPTNO|UPDATED_DATE| id|\n",
            "+-----+------+--------+----+----------+----+----+------+------------+---+\n",
            "| 7499| ALLEN|SALESMAN|7698|20-02-1981|1600| 300|    30|  02-01-2022|  1|\n",
            "| 7521|  WARD|SALESMAN|7698|22-02-1981|1250| 500|    30|  03-01-2022|  2|\n",
            "| 7654|MARTIN|SALESMAN|7698|21-09-1981|1250| 600|    30|  05-01-2022|  3|\n",
            "| 7698|   SGR| MANAGER|7839|05-01-1981|2850| 500|    30|  06-01-2022|  4|\n",
            "| 7782|  RAVI| MANAGER|7839|06-09-1981|2450|  14|    10|  04-02-2021|  5|\n",
            "| 7788| SCOTT| ANALYST|7566|19-04-1987|3000|1200|    20|  08-01-2022|  6|\n",
            "| 7844|TURNER|SALESMAN|7698|09-08-1981|1500|   0|    30|  01-02-2022|  7|\n",
            "| 7876| ADAMS|   CLERK|7788|23-05-1987|1100| 100|    20|  02-02-2022|  8|\n",
            "| 7902|  FORD| ANALYST|7566|12-03-1981|3000| 400|    20|  04-02-2022|  9|\n",
            "| 7934|MILLER|   CLERK|7782|01-03-1982|1300| 100|    10|  02-01-2021| 10|\n",
            "+-----+------+--------+----+----------+----+----+------+------------+---+\n",
            "\n"
          ]
        }
      ]
    },
    {
      "cell_type": "markdown",
      "source": [
        "# row_number -window functions"
      ],
      "metadata": {
        "id": "34_jvQvvczQe"
      }
    },
    {
      "cell_type": "code",
      "source": [
        "# row_number -window functions\n",
        "\n",
        "from pyspark.sql.functions import *\n",
        "from pyspark.sql.window import *\n",
        "\n",
        "key_df.withColumn('row_number',row_number().over(Window.partitionBy(lit('')).orderBy(lit('')))).show()"
      ],
      "metadata": {
        "colab": {
          "base_uri": "https://localhost:8080/"
        },
        "id": "G6Ij2-VZl0QE",
        "outputId": "0e2850f6-616f-4d72-c021-82d8240f883c"
      },
      "execution_count": null,
      "outputs": [
        {
          "output_type": "stream",
          "name": "stdout",
          "text": [
            "+-----+------+--------+----+----------+----+----+------+------------+----------+\n",
            "|EMPNO| ENAME|     JOB| MGR|  HIREDATE| SAL|COMM|DEPTNO|UPDATED_DATE|row_number|\n",
            "+-----+------+--------+----+----------+----+----+------+------------+----------+\n",
            "| 7499| ALLEN|SALESMAN|7698|20-02-1981|1600| 300|    30|  02-01-2022|         1|\n",
            "| 7521|  WARD|SALESMAN|7698|22-02-1981|1250| 500|    30|  03-01-2022|         2|\n",
            "| 7654|MARTIN|SALESMAN|7698|21-09-1981|1250| 600|    30|  05-01-2022|         3|\n",
            "| 7698|   SGR| MANAGER|7839|05-01-1981|2850| 500|    30|  06-01-2022|         4|\n",
            "| 7782|  RAVI| MANAGER|7839|06-09-1981|2450|  14|    10|  04-02-2021|         5|\n",
            "| 7788| SCOTT| ANALYST|7566|19-04-1987|3000|1200|    20|  08-01-2022|         6|\n",
            "| 7844|TURNER|SALESMAN|7698|09-08-1981|1500|   0|    30|  01-02-2022|         7|\n",
            "| 7876| ADAMS|   CLERK|7788|23-05-1987|1100| 100|    20|  02-02-2022|         8|\n",
            "| 7902|  FORD| ANALYST|7566|12-03-1981|3000| 400|    20|  04-02-2022|         9|\n",
            "| 7934|MILLER|   CLERK|7782|01-03-1982|1300| 100|    10|  02-01-2021|        10|\n",
            "+-----+------+--------+----+----------+----+----+------+------------+----------+\n",
            "\n"
          ]
        }
      ]
    },
    {
      "cell_type": "markdown",
      "source": [
        "# crc32 \n",
        "\n",
        "1.generate random numbers - it is works only on string data type\n",
        "\n",
        "2.We should not use crc32 surrogate key generation on larger table because it can generate duplicate sequence if more than 100k/1M records\n",
        "\n"
      ],
      "metadata": {
        "id": "lZRkCb4ucY79"
      }
    },
    {
      "cell_type": "code",
      "source": [
        "from pyspark.sql.functions import *\n",
        "\n",
        "key_df.withColumn('crc32',crc32(col('EMPNO').cast('string'))).show()\n"
      ],
      "metadata": {
        "colab": {
          "base_uri": "https://localhost:8080/"
        },
        "id": "MOr_WkQLnkuF",
        "outputId": "2686f182-3770-4d10-dbc5-e16537b66516"
      },
      "execution_count": null,
      "outputs": [
        {
          "output_type": "stream",
          "name": "stdout",
          "text": [
            "+-----+------+--------+----+----------+----+----+------+------------+----------+\n",
            "|EMPNO| ENAME|     JOB| MGR|  HIREDATE| SAL|COMM|DEPTNO|UPDATED_DATE|     crc32|\n",
            "+-----+------+--------+----+----------+----+----+------+------------+----------+\n",
            "| 7499| ALLEN|SALESMAN|7698|20-02-1981|1600| 300|    30|  02-01-2022|1046173690|\n",
            "| 7521|  WARD|SALESMAN|7698|22-02-1981|1250| 500|    30|  03-01-2022|3535170612|\n",
            "| 7654|MARTIN|SALESMAN|7698|21-09-1981|1250| 600|    30|  05-01-2022|4024152101|\n",
            "| 7698|   SGR| MANAGER|7839|05-01-1981|2850| 500|    30|  06-01-2022|1255715586|\n",
            "| 7782|  RAVI| MANAGER|7839|06-09-1981|2450|  14|    10|  04-02-2021|3000238442|\n",
            "| 7788| SCOTT| ANALYST|7566|19-04-1987|3000|1200|    20|  08-01-2022|1375856756|\n",
            "| 7844|TURNER|SALESMAN|7698|09-08-1981|1500|   0|    30|  01-02-2022|4234062958|\n",
            "| 7876| ADAMS|   CLERK|7788|23-05-1987|1100| 100|    20|  02-02-2022| 964533889|\n",
            "| 7902|  FORD| ANALYST|7566|12-03-1981|3000| 400|    20|  04-02-2022|1888724584|\n",
            "| 7934|MILLER|   CLERK|7782|01-03-1982|1300| 100|    10|  02-01-2021|3000848542|\n",
            "+-----+------+--------+----+----------+----+----+------+------------+----------+\n",
            "\n"
          ]
        }
      ]
    },
    {
      "cell_type": "code",
      "source": [
        "\n",
        "# crc32 with key generation with two columns\n",
        "\n",
        "crc_df = spark.read.format('csv').option('header',True).load('/content/sample_data/california_housing_test.csv')\n",
        "crc_df = crc_df.withColumn('Location',concat(col('latitude'),col('longitude')))\n",
        "crc_df = crc_df.withColumn('CRC_32',crc32(col('Location')))\n",
        "crc_df = crc_df.withColumn('Duplicates',row_number().over(Window.partitionBy('CRC_32').orderBy('CRC_32')))\n",
        "crc_df = crc_df.filter(col('Duplicates')>1)\n",
        "crc_df.show()\n",
        "crc_df.count()"
      ],
      "metadata": {
        "colab": {
          "base_uri": "https://localhost:8080/"
        },
        "id": "uIZjxI-f5ZeG",
        "outputId": "1fcaff0e-99ae-4aba-a0c2-bc81b8653aa3"
      },
      "execution_count": null,
      "outputs": [
        {
          "output_type": "stream",
          "name": "stdout",
          "text": [
            "+-----------+---------+------------------+-----------+--------------+-----------+-----------+-------------+------------------+--------------------+---------+----------+\n",
            "|  longitude| latitude|housing_median_age|total_rooms|total_bedrooms| population| households|median_income|median_house_value|            Location|   CRC_32|Duplicates|\n",
            "+-----------+---------+------------------+-----------+--------------+-----------+-----------+-------------+------------------+--------------------+---------+----------+\n",
            "|-118.380000|34.050000|         35.000000|3517.000000|    879.000000|1632.000000| 784.000000|     3.095600|     500001.000000|34.050000-118.380000| 11051636|         2|\n",
            "|-122.540000|37.900000|         48.000000|2491.000000|    460.000000| 937.000000| 455.000000|     4.437500|     370000.000000|37.900000-122.540000| 66409223|         2|\n",
            "|-118.400000|33.870000|         26.000000|6712.000000|   1441.000000|2803.000000|1394.000000|     5.227600|     434500.000000|33.870000-118.400000|106117307|         2|\n",
            "|-118.200000|34.020000|         48.000000|2230.000000|    593.000000|2419.000000| 598.000000|     2.394400|     130700.000000|34.020000-118.200000|108905061|         2|\n",
            "|-122.420000|37.620000|         36.000000|1017.000000|    165.000000| 407.000000| 159.000000|     4.800000|     306800.000000|37.620000-122.420000|113992628|         2|\n",
            "|-118.290000|33.910000|         41.000000|2475.000000|    532.000000|1416.000000| 470.000000|     3.837200|     156400.000000|33.910000-118.290000|153951088|         2|\n",
            "|-118.300000|33.730000|         47.000000|2852.000000|    603.000000|1130.000000| 560.000000|     4.194000|     293900.000000|33.730000-118.300000|166033233|         2|\n",
            "|-122.270000|37.840000|         52.000000|1688.000000|    337.000000| 853.000000| 325.000000|     2.180600|      99700.000000|37.840000-122.270000|180854443|         2|\n",
            "|-118.240000|33.960000|         34.000000| 946.000000|    254.000000|1101.000000| 239.000000|     1.739600|     105900.000000|33.960000-118.240000|205793204|         2|\n",
            "|-122.120000|37.690000|         10.000000|2227.000000|    560.000000|1140.000000| 472.000000|     2.397300|     167300.000000|37.690000-122.120000|215865786|         2|\n",
            "|-118.330000|34.000000|         47.000000|1671.000000|    388.000000| 895.000000| 317.000000|     2.205400|     121500.000000|34.000000-118.330000|220286579|         2|\n",
            "|-118.310000|34.050000|         35.000000|1692.000000|    423.000000|1578.000000| 406.000000|     2.531300|     305800.000000|34.050000-118.310000|230211589|         2|\n",
            "|-118.220000|33.990000|          6.000000|1499.000000|    437.000000|1754.000000| 447.000000|     4.316400|     143200.000000|33.990000-118.220000|233747758|         2|\n",
            "|-117.060000|32.610000|         23.000000|1630.000000|    362.000000|1267.000000| 418.000000|     2.562500|     131100.000000|32.610000-117.060000|250973323|         2|\n",
            "|-122.310000|37.520000|         24.000000|2328.000000|    335.000000| 969.000000| 354.000000|     7.736400|     435800.000000|37.520000-122.310000|267678296|         2|\n",
            "|-118.210000|33.800000|         41.000000|1251.000000|    279.000000|1053.000000| 278.000000|     3.277800|     150800.000000|33.800000-118.210000|278071907|         2|\n",
            "|-118.210000|33.920000|         37.000000|1705.000000|    403.000000|1839.000000| 410.000000|     2.583300|     132700.000000|33.920000-118.210000|278258755|         2|\n",
            "|-118.410000|34.210000|         35.000000|2215.000000|    459.000000|1594.000000| 446.000000|     4.016700|     193200.000000|34.210000-118.410000|279981309|         2|\n",
            "|-118.250000|33.980000|         39.000000|1553.000000|    461.000000|2271.000000| 437.000000|     1.737800|     121900.000000|33.980000-118.250000|296155311|         2|\n",
            "|-122.430000|37.730000|         52.000000|1583.000000|    347.000000| 935.000000| 341.000000|     4.678600|     263200.000000|37.730000-122.430000|308613334|         2|\n",
            "+-----------+---------+------------------+-----------+--------------+-----------+-----------+-------------+------------------+--------------------+---------+----------+\n",
            "only showing top 20 rows\n",
            "\n"
          ]
        },
        {
          "output_type": "execute_result",
          "data": {
            "text/plain": [
              "288"
            ]
          },
          "metadata": {},
          "execution_count": 42
        }
      ]
    },
    {
      "cell_type": "markdown",
      "source": [
        "# md5"
      ],
      "metadata": {
        "id": "UQiYB5l6c7IA"
      }
    },
    {
      "cell_type": "code",
      "source": [
        "# md5 - 32 bit hash key\n",
        "# not suggeted for if records more than 1 Million it can generate duplicates\n",
        "\n",
        "from pyspark.sql.functions import *\n",
        "key_df.withColumn('md5',md5(col('EMPNO').cast('string'))).show()"
      ],
      "metadata": {
        "colab": {
          "base_uri": "https://localhost:8080/"
        },
        "id": "AWfSn0f0p0bS",
        "outputId": "4a9af64d-e325-445d-a2da-bfd69d4f2b96"
      },
      "execution_count": null,
      "outputs": [
        {
          "output_type": "stream",
          "name": "stdout",
          "text": [
            "+-----+------+--------+----+----------+----+----+------+------------+--------------------+\n",
            "|EMPNO| ENAME|     JOB| MGR|  HIREDATE| SAL|COMM|DEPTNO|UPDATED_DATE|                 md5|\n",
            "+-----+------+--------+----+----------+----+----+------+------------+--------------------+\n",
            "| 7499| ALLEN|SALESMAN|7698|20-02-1981|1600| 300|    30|  02-01-2022|7a2b33c672ce223b2...|\n",
            "| 7521|  WARD|SALESMAN|7698|22-02-1981|1250| 500|    30|  03-01-2022|e1e1f667ce4596e56...|\n",
            "| 7654|MARTIN|SALESMAN|7698|21-09-1981|1250| 600|    30|  05-01-2022|e2a7555f7cabd6e31...|\n",
            "| 7698|   SGR| MANAGER|7839|05-01-1981|2850| 500|    30|  06-01-2022|c570c225d1fb8a72a...|\n",
            "| 7782|  RAVI| MANAGER|7839|06-09-1981|2450|  14|    10|  04-02-2021|ac5c482277858d6fe...|\n",
            "| 7788| SCOTT| ANALYST|7566|19-04-1987|3000|1200|    20|  08-01-2022|866c7ee013c58f01f...|\n",
            "| 7844|TURNER|SALESMAN|7698|09-08-1981|1500|   0|    30|  01-02-2022|b356e7aed7ee82589...|\n",
            "| 7876| ADAMS|   CLERK|7788|23-05-1987|1100| 100|    20|  02-02-2022|42dab56861d81108e...|\n",
            "| 7902|  FORD| ANALYST|7566|12-03-1981|3000| 400|    20|  04-02-2022|66fe2bcc701bb627e...|\n",
            "| 7934|MILLER|   CLERK|7782|01-03-1982|1300| 100|    10|  02-01-2021|6c90885b28e58d1f4...|\n",
            "+-----+------+--------+----+----------+----+----+------+------------+--------------------+\n",
            "\n"
          ]
        }
      ]
    },
    {
      "cell_type": "markdown",
      "source": [
        "# sha2"
      ],
      "metadata": {
        "id": "EyGB5PRZc_2J"
      }
    },
    {
      "cell_type": "code",
      "source": [
        "#sha2 - hash key value\n",
        "#suggeted for huge data 256 0r 512 bits\n",
        "\n",
        "from pyspark.sql.functions import *\n",
        "key_df.withColumn('sha2',sha2(col('EMPNO').cast('string'),256)).show()"
      ],
      "metadata": {
        "colab": {
          "base_uri": "https://localhost:8080/"
        },
        "id": "C2FFon2kxq9Y",
        "outputId": "77153c3a-2bb9-40c3-a281-aea04e46fc98"
      },
      "execution_count": null,
      "outputs": [
        {
          "output_type": "stream",
          "name": "stdout",
          "text": [
            "+-----+------+--------+----+----------+----+----+------+------------+--------------------+\n",
            "|EMPNO| ENAME|     JOB| MGR|  HIREDATE| SAL|COMM|DEPTNO|UPDATED_DATE|                sha2|\n",
            "+-----+------+--------+----+----------+----+----+------+------------+--------------------+\n",
            "| 7499| ALLEN|SALESMAN|7698|20-02-1981|1600| 300|    30|  02-01-2022|4427dc2e32a1d099d...|\n",
            "| 7521|  WARD|SALESMAN|7698|22-02-1981|1250| 500|    30|  03-01-2022|74ed8ca63e8b4fb8b...|\n",
            "| 7654|MARTIN|SALESMAN|7698|21-09-1981|1250| 600|    30|  05-01-2022|b969b01c158ebfecd...|\n",
            "| 7698|   SGR| MANAGER|7839|05-01-1981|2850| 500|    30|  06-01-2022|83f9d8d707524a4f5...|\n",
            "| 7782|  RAVI| MANAGER|7839|06-09-1981|2450|  14|    10|  04-02-2021|d7b6fab9aa91943de...|\n",
            "| 7788| SCOTT| ANALYST|7566|19-04-1987|3000|1200|    20|  08-01-2022|16740bf13991fe083...|\n",
            "| 7844|TURNER|SALESMAN|7698|09-08-1981|1500|   0|    30|  01-02-2022|b513a7ff5978b9588...|\n",
            "| 7876| ADAMS|   CLERK|7788|23-05-1987|1100| 100|    20|  02-02-2022|05a4cd58579909328...|\n",
            "| 7902|  FORD| ANALYST|7566|12-03-1981|3000| 400|    20|  04-02-2022|7b721c50ff0220bb9...|\n",
            "| 7934|MILLER|   CLERK|7782|01-03-1982|1300| 100|    10|  02-01-2021|6a25547cf30b010a2...|\n",
            "+-----+------+--------+----+----------+----+----+------+------------+--------------------+\n",
            "\n"
          ]
        }
      ]
    },
    {
      "cell_type": "markdown",
      "source": [
        "# how to get no.of null rows from a dataframe at each column"
      ],
      "metadata": {
        "id": "q95Rbbe1VDtL"
      }
    },
    {
      "cell_type": "code",
      "source": [
        "null_df = spark.read.format('csv').option('header',True).option('inferSchema',True).option('nullValue','null').load('/content/employee.csv')\n",
        "\n",
        "null_df.show()"
      ],
      "metadata": {
        "colab": {
          "base_uri": "https://localhost:8080/"
        },
        "id": "RJegEG0eVc4L",
        "outputId": "bfeea82d-2b9d-4fb4-8b69-79afd0770980"
      },
      "execution_count": null,
      "outputs": [
        {
          "output_type": "stream",
          "name": "stdout",
          "text": [
            "+-----+------+---------+----+----------+----+----+------+------------+\n",
            "|EMPNO| ENAME|      JOB| MGR|  HIREDATE| SAL|COMM|DEPTNO|UPDATED_DATE|\n",
            "+-----+------+---------+----+----------+----+----+------+------------+\n",
            "| 7369| SMITH|    CLERK|7902|17-12-1980| 800|null|    20|  01-01-2022|\n",
            "| 7499| ALLEN| SALESMAN|7698|20-02-1981|1600| 300|    30|  02-01-2022|\n",
            "| 7521|  WARD| SALESMAN|7698|22-02-1981|1250| 500|    30|  03-01-2022|\n",
            "| 7566| JONES|  MANAGER|7839|04-02-1981|2975|null|    20|  04-01-2022|\n",
            "| 7654|MARTIN| SALESMAN|7698|21-09-1981|1250| 600|    30|  05-01-2022|\n",
            "| 7698|   SGR|  MANAGER|7839|05-01-1981|2850| 500|    30|  06-01-2022|\n",
            "| 7782|  RAVI|  MANAGER|7839|06-09-1981|2450|null|    10|  07-01-2022|\n",
            "| 7788| SCOTT|  ANALYST|7566|19-04-1987|3000|1200|    20|  08-01-2022|\n",
            "| 7839|  KING|PRESIDENT|null|      null|5000|null|    10|        null|\n",
            "| 7844|TURNER| SALESMAN|7698|09-08-1981|1500|   0|    30|  01-02-2022|\n",
            "| 7876| ADAMS|    CLERK|7788|23-05-1987|1100| 100|    20|  02-02-2022|\n",
            "| 7900| JAMES|    CLERK|7698|12-03-1981| 950|null|    30|  03-02-2022|\n",
            "| 7902|  FORD|  ANALYST|7566|12-03-1981|3000| 400|    20|  04-02-2022|\n",
            "| 7934|MILLER|    CLERK|7782|01-03-1982|1300|null|    10|  05-02-2022|\n",
            "| 1234|SEKHAR|   doctor|7777|      null| 667|  78|    80|  06-02-2022|\n",
            "| 7369| SMITH|    CLERK|7902|17-12-1980| 800|null|    20|  07-02-2022|\n",
            "| 7499| ALLEN| SALESMAN|7698|20-02-1981|1600| 300|    30|  08-02-2022|\n",
            "| 7521|  WARD| SALESMAN|7698|22-02-1981|1250| 500|    30|        null|\n",
            "| 7566| JONES|  MANAGER|7839|04-02-1981|2975|null|    20|  01-02-2021|\n",
            "| 7654|MARTIN| SALESMAN|7698|21-09-1981|1250|1400|    30|  02-02-2021|\n",
            "+-----+------+---------+----+----------+----+----+------+------------+\n",
            "only showing top 20 rows\n",
            "\n"
          ]
        }
      ]
    },
    {
      "cell_type": "code",
      "source": [
        "# null in individual cloumns\n",
        "\n",
        "print(null_df.filter('COMM is null').count())\n",
        "print(null_df.filter('MGR is null').count())"
      ],
      "metadata": {
        "colab": {
          "base_uri": "https://localhost:8080/"
        },
        "id": "LQwJ-uq2WQGz",
        "outputId": "36b1badd-32b2-4cec-e903-5b915772fb0c"
      },
      "execution_count": null,
      "outputs": [
        {
          "output_type": "stream",
          "name": "stdout",
          "text": [
            "15\n",
            "5\n"
          ]
        }
      ]
    },
    {
      "cell_type": "code",
      "source": [
        "#how to get number of null in all columns\n",
        "\n",
        "null_df.select([count(when(col(i).isNull(),i)).alias(i) for i in null_df.columns]).show()\n"
      ],
      "metadata": {
        "colab": {
          "base_uri": "https://localhost:8080/"
        },
        "id": "aVw__-gnYt35",
        "outputId": "a22b26e3-cc4b-4a44-f704-29ed07d4a27a"
      },
      "execution_count": null,
      "outputs": [
        {
          "output_type": "stream",
          "name": "stdout",
          "text": [
            "+-----+-----+---+---+--------+---+----+------+------------+\n",
            "|EMPNO|ENAME|JOB|MGR|HIREDATE|SAL|COMM|DEPTNO|UPDATED_DATE|\n",
            "+-----+-----+---+---+--------+---+----+------+------------+\n",
            "|    3|    3|  3|  5|       7|  3|  15|     3|           6|\n",
            "+-----+-----+---+---+--------+---+----+------+------------+\n",
            "\n"
          ]
        }
      ]
    },
    {
      "cell_type": "markdown",
      "source": [
        "# how to handle double delimiter files/multi delimiter files"
      ],
      "metadata": {
        "id": "icoMsyhTlJoD"
      }
    },
    {
      "cell_type": "code",
      "source": [
        "#duoble  delimeter files\n",
        "\n",
        "du_df = spark.read.format('csv').option('sep','||').option('header',True).load('/content/emp_double_pipe.txt')\n",
        "du_df.show()"
      ],
      "metadata": {
        "colab": {
          "base_uri": "https://localhost:8080/"
        },
        "id": "CzvNfDtflZyt",
        "outputId": "be347241-99ed-41b2-d64e-6a79ce8d8a17"
      },
      "execution_count": null,
      "outputs": [
        {
          "output_type": "stream",
          "name": "stdout",
          "text": [
            "+-----+------+---------+----+----------+----+----+------+------------+\n",
            "|EMPNO| ENAME|      JOB| MGR|  HIREDATE| SAL|COMM|DEPTNO|UPDATED_DATE|\n",
            "+-----+------+---------+----+----------+----+----+------+------------+\n",
            "| 7369| SMITH|    CLERK|7902|17-12-1980| 800|null|    20|  01-01-2022|\n",
            "| 7499| ALLEN| SALESMAN|7698|20-02-1981|1600| 300|    30|  02-01-2022|\n",
            "| 7521|  WARD| SALESMAN|7698|22-02-1981|1250| 500|    30|  03-01-2022|\n",
            "| 7566| JONES|  MANAGER|7839|04-02-1981|2975|null|    20|  04-01-2022|\n",
            "| 7654|MARTIN| SALESMAN|7698|21-09-1981|1250|1400|    30|  05-01-2022|\n",
            "| 7698|   SGR|  MANAGER|7839|05-01-1981|2850|null|    30|  06-01-2022|\n",
            "| 7782|  RAVI|  MANAGER|7839|06-09-1981|2450|null|    10|  07-01-2022|\n",
            "| 7788| SCOTT|  ANALYST|7566|19-04-1987|3000|null|    20|  08-01-2022|\n",
            "| 7839|  KING|PRESIDENT|null|      null|5000|null|    10|        null|\n",
            "| 7844|TURNER| SALESMAN|7698|09-08-1981|1500|   0|    30|  01-02-2022|\n",
            "| 7876| ADAMS|    CLERK|7788|23-05-1987|1100|null|    20|  02-02-2022|\n",
            "| 7900| JAMES|    CLERK|7698|12-03-1981| 950|null|    30|  03-02-2022|\n",
            "| 7902|  FORD|  ANALYST|7566|12-03-1981|3000|null|    20|  04-02-2022|\n",
            "| 7934|MILLER|    CLERK|7782|01-03-1982|1300|null|    10|  05-02-2022|\n",
            "| 1234|SEKHAR|   doctor|7777|      null| 667|  78|    80|  06-02-2022|\n",
            "| 7369| SMITH|    CLERK|7902|17-12-1980| 800|null|    20|  07-02-2022|\n",
            "| 7499| ALLEN| SALESMAN|7698|20-02-1981|1600| 300|    30|  08-02-2022|\n",
            "| 7521|  WARD| SALESMAN|7698|22-02-1981|1250| 500|    30|        null|\n",
            "| 7566| JONES|  MANAGER|7839|04-02-1981|2975|null|    20|  01-02-2021|\n",
            "+-----+------+---------+----+----------+----+----+------+------------+\n",
            "\n"
          ]
        }
      ]
    },
    {
      "cell_type": "code",
      "source": [
        "#Multiple delimeters\n",
        "\n",
        "mu_df = spark.read.format('csv').option('sep','||').option('header',True).load('/content/emp_multiple_delimeter.txt')\n",
        "\n",
        "mu_df = mu_df.withColumn('SAL_split',split(col('SAL'),'[,]'))\\\n",
        "             .withColumn(\"SAL1\",col('SAL_split')[0])\\\n",
        "             .withColumn('COMM',col('SAL_split')[1])\\\n",
        "             .withColumn('DEPTNO',col('SAL_split')[2])\\\n",
        "             .withColumn('UPDATED_DATE',col('SAL_split')[3])\\\n",
        "             .drop('SAL')\\\n",
        "             .drop('SAL_split')\n",
        "           \n",
        "mu_df.show(truncate = False)"
      ],
      "metadata": {
        "colab": {
          "base_uri": "https://localhost:8080/"
        },
        "id": "B3MRv0homaPr",
        "outputId": "900f1795-9fc4-41eb-d475-bccc6bb47bed"
      },
      "execution_count": null,
      "outputs": [
        {
          "output_type": "stream",
          "name": "stdout",
          "text": [
            "+-----+------+---------+----+----------+----+----+------+------------+\n",
            "|EMPNO|ENAME |JOB      |MGR |HIREDATE  |SAL1|COMM|DEPTNO|UPDATED_DATE|\n",
            "+-----+------+---------+----+----------+----+----+------+------------+\n",
            "|7839 |KING  |PRESIDENT|null|null      |5000|null|10    |null        |\n",
            "|7844 |TURNER|SALESMAN |7698|09-08-1981|1500|0   |30    |01-02-2022  |\n",
            "|7876 |ADAMS |CLERK    |7788|23-05-1987|1100|null|20    |02-02-2022  |\n",
            "|7900 |JAMES |CLERK    |7698|12-03-1981|950 |null|30    |03-02-2022  |\n",
            "|7902 |FORD  |ANALYST  |7566|12-03-1981|3000|null|20    |04-02-2022  |\n",
            "|7934 |MILLER|CLERK    |7782|01-03-1982|1300|null|10    |05-02-2022  |\n",
            "|1234 |SEKHAR|doctor   |7777|null      |667 |78  |80    |06-02-2022  |\n",
            "|7369 |SMITH |CLERK    |7902|17-12-1980|800 |null|20    |07-02-2022  |\n",
            "|7499 |ALLEN |SALESMAN |7698|20-02-1981|1600|300 |30    |08-02-2022  |\n",
            "|7521 |WARD  |SALESMAN |7698|22-02-1981|1250|500 |30    |null        |\n",
            "|7566 |JONES |MANAGER  |7839|04-02-1981|2975|null|20    |01-02-2021  |\n",
            "+-----+------+---------+----+----------+----+----+------+------------+\n",
            "\n"
          ]
        }
      ]
    },
    {
      "cell_type": "markdown",
      "source": [
        "# how to get 53 th weak years from last 50 years"
      ],
      "metadata": {
        "id": "YAmzJhkhz2T8"
      }
    },
    {
      "cell_type": "code",
      "source": [
        "we_df = spark.createDataFrame([(i,\"01/01/\"+str(i)+\"\")for i in range(1990,2050)],['id','year'])\n",
        "\n",
        "we_df = we_df.withColumn('date',to_date('year','dd/mm/yyyy')).withColumn('week',weekofyear('date')).filter('week= 53')\n",
        "we_df.show()"
      ],
      "metadata": {
        "colab": {
          "base_uri": "https://localhost:8080/"
        },
        "id": "3_0PX70l3KY8",
        "outputId": "882f4519-1b16-4ebf-f19c-433b1461556c"
      },
      "execution_count": null,
      "outputs": [
        {
          "output_type": "stream",
          "name": "stdout",
          "text": [
            "+----+----------+----------+----+\n",
            "|  id|      year|      date|week|\n",
            "+----+----------+----------+----+\n",
            "|1993|01/01/1993|1993-01-01|  53|\n",
            "|1999|01/01/1999|1999-01-01|  53|\n",
            "|2005|01/01/2005|2005-01-01|  53|\n",
            "|2010|01/01/2010|2010-01-01|  53|\n",
            "|2016|01/01/2016|2016-01-01|  53|\n",
            "|2021|01/01/2021|2021-01-01|  53|\n",
            "|2027|01/01/2027|2027-01-01|  53|\n",
            "|2033|01/01/2033|2033-01-01|  53|\n",
            "|2038|01/01/2038|2038-01-01|  53|\n",
            "|2044|01/01/2044|2044-01-01|  53|\n",
            "|2049|01/01/2049|2049-01-01|  53|\n",
            "+----+----------+----------+----+\n",
            "\n"
          ]
        }
      ]
    }
  ]
}