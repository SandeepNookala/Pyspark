{
  "nbformat": 4,
  "nbformat_minor": 0,
  "metadata": {
    "colab": {
      "provenance": [],
      "collapsed_sections": [
        "o-mw36UNw7Mk",
        "BZqeKUparYFJ",
        "iCRtNjfoqMHc",
        "6l4-m7SIz31X",
        "XQw50gTy2J_B",
        "mpRggpGmOKqG",
        "ET4UX1MWwxu7",
        "uPaAP_8Z-o3X",
        "w8r0nu1p8Abl",
        "q66gjenfWVif",
        "4LCR2ou1j6ej",
        "yQdbp3VcIOqb",
        "LS4aj91HPoyC",
        "id2SoGG5RFd_",
        "G4ZwOoQpTYvQ",
        "Ud8yVOQJcMCg",
        "lZRkCb4ucY79",
        "RoW68JkXRiCe",
        "icoMsyhTlJoD",
        "i7do35G2IaqK"
      ]
    },
    "kernelspec": {
      "name": "python3",
      "display_name": "Python 3"
    },
    "language_info": {
      "name": "python"
    }
  },
  "cells": [
    {
      "cell_type": "markdown",
      "source": [
        "# SparkSession"
      ],
      "metadata": {
        "id": "o-mw36UNw7Mk"
      }
    },
    {
      "cell_type": "code",
      "source": [
        "!pip install pyspark py4j\n",
        "\n",
        "from pyspark.sql import SparkSession\n",
        "\n",
        "spark = SparkSession.builder.master('local').appName('demo').getOrCreate()\n",
        "spark"
      ],
      "metadata": {
        "colab": {
          "base_uri": "https://localhost:8080/",
          "height": 271
        },
        "id": "OHNW-wKVqbxd",
        "outputId": "1f599a68-5480-4e0a-fa83-7f005468eb56"
      },
      "execution_count": null,
      "outputs": [
        {
          "output_type": "stream",
          "name": "stdout",
          "text": [
            "Looking in indexes: https://pypi.org/simple, https://us-python.pkg.dev/colab-wheels/public/simple/\n",
            "Requirement already satisfied: pyspark in /usr/local/lib/python3.9/dist-packages (3.4.0)\n",
            "Requirement already satisfied: py4j in /usr/local/lib/python3.9/dist-packages (0.10.9.7)\n"
          ]
        },
        {
          "output_type": "execute_result",
          "data": {
            "text/plain": [
              "<pyspark.sql.session.SparkSession at 0x7ff9b4f084c0>"
            ],
            "text/html": [
              "\n",
              "            <div>\n",
              "                <p><b>SparkSession - in-memory</b></p>\n",
              "                \n",
              "        <div>\n",
              "            <p><b>SparkContext</b></p>\n",
              "\n",
              "            <p><a href=\"http://993d8b5171cd:4040\">Spark UI</a></p>\n",
              "\n",
              "            <dl>\n",
              "              <dt>Version</dt>\n",
              "                <dd><code>v3.4.0</code></dd>\n",
              "              <dt>Master</dt>\n",
              "                <dd><code>local</code></dd>\n",
              "              <dt>AppName</dt>\n",
              "                <dd><code>demo</code></dd>\n",
              "            </dl>\n",
              "        </div>\n",
              "        \n",
              "            </div>\n",
              "        "
            ]
          },
          "metadata": {},
          "execution_count": 21
        }
      ]
    },
    {
      "cell_type": "markdown",
      "source": [
        "# reading csv file"
      ],
      "metadata": {
        "id": "BZqeKUparYFJ"
      }
    },
    {
      "cell_type": "code",
      "source": [
        "df = spark.read.format('csv').option('header',True).option('inferSchema',True).option('nullValue','null').load('/content/employee.csv')\n",
        "df.show(5)\n",
        "df.printSchema()\n",
        "df.count()"
      ],
      "metadata": {
        "colab": {
          "base_uri": "https://localhost:8080/"
        },
        "id": "0LKBkAIbq0W6",
        "outputId": "e9c38cb2-7f71-474a-bf13-bc27f79bac96"
      },
      "execution_count": null,
      "outputs": [
        {
          "output_type": "stream",
          "name": "stdout",
          "text": [
            "+-----+------+--------+----+----------+----+----+------+------------+\n",
            "|EMPNO| ENAME|     JOB| MGR|  HIREDATE| SAL|COMM|DEPTNO|UPDATED_DATE|\n",
            "+-----+------+--------+----+----------+----+----+------+------------+\n",
            "| 7369| SMITH|   CLERK|7902|17-12-1980| 800|null|    20|  01-01-2022|\n",
            "| 7499| ALLEN|SALESMAN|7698|20-02-1981|1600| 300|    30|  02-01-2022|\n",
            "| 7521|  WARD|SALESMAN|7698|22-02-1981|1250| 500|    30|  03-01-2022|\n",
            "| 7566| JONES| MANAGER|7839|04-02-1981|2975|null|    20|  04-01-2022|\n",
            "| 7654|MARTIN|SALESMAN|7698|21-09-1981|1250| 600|    30|  05-01-2022|\n",
            "+-----+------+--------+----+----------+----+----+------+------------+\n",
            "only showing top 5 rows\n",
            "\n",
            "root\n",
            " |-- EMPNO: integer (nullable = true)\n",
            " |-- ENAME: string (nullable = true)\n",
            " |-- JOB: string (nullable = true)\n",
            " |-- MGR: integer (nullable = true)\n",
            " |-- HIREDATE: string (nullable = true)\n",
            " |-- SAL: integer (nullable = true)\n",
            " |-- COMM: integer (nullable = true)\n",
            " |-- DEPTNO: integer (nullable = true)\n",
            " |-- UPDATED_DATE: string (nullable = true)\n",
            "\n"
          ]
        },
        {
          "output_type": "execute_result",
          "data": {
            "text/plain": [
              "33"
            ]
          },
          "metadata": {},
          "execution_count": 22
        }
      ]
    },
    {
      "cell_type": "markdown",
      "source": [
        "# Change data type of column"
      ],
      "metadata": {
        "id": "iCRtNjfoqMHc"
      }
    },
    {
      "cell_type": "code",
      "source": [
        "from pyspark.sql.functions import *\n",
        "ch_df = df.withColumn('Emp',col('EMPNO').cast('string')).withColumn('salary',col('SAL').cast('string'))\n",
        "ch_df.show(10)\n",
        "ch_df.printSchema()"
      ],
      "metadata": {
        "colab": {
          "base_uri": "https://localhost:8080/"
        },
        "id": "rKCXdEC0ynYg",
        "outputId": "15cd2de6-350f-4c7b-d8ff-7af83303ede1"
      },
      "execution_count": null,
      "outputs": [
        {
          "output_type": "stream",
          "name": "stdout",
          "text": [
            "+-----+------+---------+----+----------+----+----+------+------------+----+------+\n",
            "|EMPNO| ENAME|      JOB| MGR|  HIREDATE| SAL|COMM|DEPTNO|UPDATED_DATE| Emp|salary|\n",
            "+-----+------+---------+----+----------+----+----+------+------------+----+------+\n",
            "| 7369| SMITH|    CLERK|7902|17-12-1980| 800|null|    20|  01-01-2022|7369|   800|\n",
            "| 7499| ALLEN| SALESMAN|7698|20-02-1981|1600| 300|    30|  02-01-2022|7499|  1600|\n",
            "| 7521|  WARD| SALESMAN|7698|22-02-1981|1250| 500|    30|  03-01-2022|7521|  1250|\n",
            "| 7566| JONES|  MANAGER|7839|04-02-1981|2975|null|    20|  04-01-2022|7566|  2975|\n",
            "| 7654|MARTIN| SALESMAN|7698|21-09-1981|1250| 600|    30|  05-01-2022|7654|  1250|\n",
            "| 7698|   SGR|  MANAGER|7839|05-01-1981|2850| 500|    30|  06-01-2022|7698|  2850|\n",
            "| 7782|  RAVI|  MANAGER|7839|06-09-1981|2450|null|    10|  07-01-2022|7782|  2450|\n",
            "| 7788| SCOTT|  ANALYST|7566|19-04-1987|3000|1200|    20|  08-01-2022|7788|  3000|\n",
            "| 7839|  KING|PRESIDENT|null|      null|5000|null|    10|        null|7839|  5000|\n",
            "| 7844|TURNER| SALESMAN|7698|09-08-1981|1500|   0|    30|  01-02-2022|7844|  1500|\n",
            "+-----+------+---------+----+----------+----+----+------+------------+----+------+\n",
            "only showing top 10 rows\n",
            "\n",
            "root\n",
            " |-- EMPNO: integer (nullable = true)\n",
            " |-- ENAME: string (nullable = true)\n",
            " |-- JOB: string (nullable = true)\n",
            " |-- MGR: integer (nullable = true)\n",
            " |-- HIREDATE: string (nullable = true)\n",
            " |-- SAL: integer (nullable = true)\n",
            " |-- COMM: integer (nullable = true)\n",
            " |-- DEPTNO: integer (nullable = true)\n",
            " |-- UPDATED_DATE: string (nullable = true)\n",
            " |-- Emp: string (nullable = true)\n",
            " |-- salary: string (nullable = true)\n",
            "\n"
          ]
        }
      ]
    },
    {
      "cell_type": "markdown",
      "source": [
        "#Concatinating two columns"
      ],
      "metadata": {
        "id": "6l4-m7SIz31X"
      }
    },
    {
      "cell_type": "code",
      "source": [
        "from pyspark.sql.functions import *\n",
        "\n",
        "con_df = spark.read.format('csv').option('header',True).load('/content/sample_data/california_housing_test.csv')\n",
        "\n",
        "con_df.withColumn('Lcoation',concat(col('longitude'),col('latitude'))).show()\n"
      ],
      "metadata": {
        "colab": {
          "base_uri": "https://localhost:8080/"
        },
        "id": "iG44qiSf4k6g",
        "outputId": "4e43f5e9-0a05-437c-f5ab-a40160a7e648"
      },
      "execution_count": null,
      "outputs": [
        {
          "output_type": "stream",
          "name": "stdout",
          "text": [
            "+-----------+---------+------------------+-----------+--------------+-----------+-----------+-------------+------------------+--------------------+\n",
            "|  longitude| latitude|housing_median_age|total_rooms|total_bedrooms| population| households|median_income|median_house_value|            Lcoation|\n",
            "+-----------+---------+------------------+-----------+--------------+-----------+-----------+-------------+------------------+--------------------+\n",
            "|-122.050000|37.370000|         27.000000|3885.000000|    661.000000|1537.000000| 606.000000|     6.608500|     344700.000000|-122.05000037.370000|\n",
            "|-118.300000|34.260000|         43.000000|1510.000000|    310.000000| 809.000000| 277.000000|     3.599000|     176500.000000|-118.30000034.260000|\n",
            "|-117.810000|33.780000|         27.000000|3589.000000|    507.000000|1484.000000| 495.000000|     5.793400|     270500.000000|-117.81000033.780000|\n",
            "|-118.360000|33.820000|         28.000000|  67.000000|     15.000000|  49.000000|  11.000000|     6.135900|     330000.000000|-118.36000033.820000|\n",
            "|-119.670000|36.330000|         19.000000|1241.000000|    244.000000| 850.000000| 237.000000|     2.937500|      81700.000000|-119.67000036.330000|\n",
            "|-119.560000|36.510000|         37.000000|1018.000000|    213.000000| 663.000000| 204.000000|     1.663500|      67000.000000|-119.56000036.510000|\n",
            "|-121.430000|38.630000|         43.000000|1009.000000|    225.000000| 604.000000| 218.000000|     1.664100|      67000.000000|-121.43000038.630000|\n",
            "|-120.650000|35.480000|         19.000000|2310.000000|    471.000000|1341.000000| 441.000000|     3.225000|     166900.000000|-120.65000035.480000|\n",
            "|-122.840000|38.400000|         15.000000|3080.000000|    617.000000|1446.000000| 599.000000|     3.669600|     194400.000000|-122.84000038.400000|\n",
            "|-118.020000|34.080000|         31.000000|2402.000000|    632.000000|2830.000000| 603.000000|     2.333300|     164200.000000|-118.02000034.080000|\n",
            "|-118.240000|33.980000|         45.000000| 972.000000|    249.000000|1288.000000| 261.000000|     2.205400|     125000.000000|-118.24000033.980000|\n",
            "|-119.120000|35.850000|         37.000000| 736.000000|    166.000000| 564.000000| 138.000000|     2.416700|      58300.000000|-119.12000035.850000|\n",
            "|-121.930000|37.250000|         36.000000|1089.000000|    182.000000| 535.000000| 170.000000|     4.690000|     252600.000000|-121.93000037.250000|\n",
            "|-117.030000|32.970000|         16.000000|3936.000000|    694.000000|1935.000000| 659.000000|     4.562500|     231200.000000|-117.03000032.970000|\n",
            "|-117.970000|33.730000|         27.000000|2097.000000|    325.000000|1217.000000| 331.000000|     5.712100|     222500.000000|-117.97000033.730000|\n",
            "|-117.990000|33.810000|         42.000000| 161.000000|     40.000000| 157.000000|  50.000000|     2.200000|     153100.000000|-117.99000033.810000|\n",
            "|-120.810000|37.530000|         15.000000| 570.000000|    123.000000| 189.000000| 107.000000|     1.875000|     181300.000000|-120.81000037.530000|\n",
            "|-121.200000|38.690000|         26.000000|3077.000000|    607.000000|1603.000000| 595.000000|     2.717400|     137500.000000|-121.20000038.690000|\n",
            "|-118.880000|34.210000|         26.000000|1590.000000|    196.000000| 654.000000| 199.000000|     6.585100|     300000.000000|-118.88000034.210000|\n",
            "|-122.590000|38.010000|         35.000000|8814.000000|   1307.000000|3450.000000|1258.000000|     6.172400|     414300.000000|-122.59000038.010000|\n",
            "+-----------+---------+------------------+-----------+--------------+-----------+-----------+-------------+------------------+--------------------+\n",
            "only showing top 20 rows\n",
            "\n"
          ]
        }
      ]
    },
    {
      "cell_type": "markdown",
      "source": [
        "# create year,month,day columns"
      ],
      "metadata": {
        "id": "XQw50gTy2J_B"
      }
    },
    {
      "cell_type": "code",
      "source": [
        "df.printSchema()"
      ],
      "metadata": {
        "colab": {
          "base_uri": "https://localhost:8080/"
        },
        "id": "vZHV9NgWrEbD",
        "outputId": "ca35dbbe-40f5-44d3-8a76-398949f29879"
      },
      "execution_count": null,
      "outputs": [
        {
          "output_type": "stream",
          "name": "stdout",
          "text": [
            "root\n",
            " |-- EMPNO: integer (nullable = true)\n",
            " |-- ENAME: string (nullable = true)\n",
            " |-- JOB: string (nullable = true)\n",
            " |-- MGR: integer (nullable = true)\n",
            " |-- HIREDATE: string (nullable = true)\n",
            " |-- SAL: integer (nullable = true)\n",
            " |-- COMM: integer (nullable = true)\n",
            " |-- DEPTNO: integer (nullable = true)\n",
            " |-- UPDATED_DATE: string (nullable = true)\n",
            "\n"
          ]
        }
      ]
    },
    {
      "cell_type": "code",
      "source": [
        "df1 = df.withColumn('HIREDATE',to_date('HIREDATE','dd-MM-yyyy'))\n",
        "df1.show(10)\n",
        "df1.printSchema()"
      ],
      "metadata": {
        "colab": {
          "base_uri": "https://localhost:8080/"
        },
        "id": "wkOBtBDrq2KC",
        "outputId": "3b74f28f-fd0c-491c-e7d0-0c352c7ebae6"
      },
      "execution_count": null,
      "outputs": [
        {
          "output_type": "stream",
          "name": "stdout",
          "text": [
            "+-----+------+---------+----+----------+----+----+------+------------+\n",
            "|EMPNO| ENAME|      JOB| MGR|  HIREDATE| SAL|COMM|DEPTNO|UPDATED_DATE|\n",
            "+-----+------+---------+----+----------+----+----+------+------------+\n",
            "| 7369| SMITH|    CLERK|7902|1980-12-17| 800|null|    20|  01-01-2022|\n",
            "| 7499| ALLEN| SALESMAN|7698|1981-02-20|1600| 300|    30|  02-01-2022|\n",
            "| 7521|  WARD| SALESMAN|7698|1981-02-22|1250| 500|    30|  03-01-2022|\n",
            "| 7566| JONES|  MANAGER|7839|1981-02-04|2975|null|    20|  04-01-2022|\n",
            "| 7654|MARTIN| SALESMAN|7698|1981-09-21|1250| 600|    30|  05-01-2022|\n",
            "| 7698|   SGR|  MANAGER|7839|1981-01-05|2850| 500|    30|  06-01-2022|\n",
            "| 7782|  RAVI|  MANAGER|7839|1981-09-06|2450|null|    10|  07-01-2022|\n",
            "| 7788| SCOTT|  ANALYST|7566|1987-04-19|3000|1200|    20|  08-01-2022|\n",
            "| 7839|  KING|PRESIDENT|null|      null|5000|null|    10|        null|\n",
            "| 7844|TURNER| SALESMAN|7698|1981-08-09|1500|   0|    30|  01-02-2022|\n",
            "+-----+------+---------+----+----------+----+----+------+------------+\n",
            "only showing top 10 rows\n",
            "\n",
            "root\n",
            " |-- EMPNO: integer (nullable = true)\n",
            " |-- ENAME: string (nullable = true)\n",
            " |-- JOB: string (nullable = true)\n",
            " |-- MGR: integer (nullable = true)\n",
            " |-- HIREDATE: date (nullable = true)\n",
            " |-- SAL: integer (nullable = true)\n",
            " |-- COMM: integer (nullable = true)\n",
            " |-- DEPTNO: integer (nullable = true)\n",
            " |-- UPDATED_DATE: string (nullable = true)\n",
            "\n"
          ]
        }
      ]
    },
    {
      "cell_type": "code",
      "source": [
        "df2 = df1.withColumn('year',date_format('HIREDATE','yyyy')).withColumn('month',date_format('HIREDATE','MM')).withColumn('day',date_format('HIREDATE','dd'))\n",
        "\n",
        "df2.show(10)\n",
        "df2.printSchema()\n",
        "df2.count()"
      ],
      "metadata": {
        "colab": {
          "base_uri": "https://localhost:8080/"
        },
        "id": "ZbDtd6-1pbqJ",
        "outputId": "4a5aca58-6914-4945-be62-d9709c65b35f"
      },
      "execution_count": null,
      "outputs": [
        {
          "output_type": "stream",
          "name": "stdout",
          "text": [
            "+-----+------+---------+----+----------+----+----+------+------------+----+-----+----+\n",
            "|EMPNO| ENAME|      JOB| MGR|  HIREDATE| SAL|COMM|DEPTNO|UPDATED_DATE|year|month| day|\n",
            "+-----+------+---------+----+----------+----+----+------+------------+----+-----+----+\n",
            "| 7369| SMITH|    CLERK|7902|1980-12-17| 800|null|    20|  01-01-2022|1980|   12|  17|\n",
            "| 7499| ALLEN| SALESMAN|7698|1981-02-20|1600| 300|    30|  02-01-2022|1981|   02|  20|\n",
            "| 7521|  WARD| SALESMAN|7698|1981-02-22|1250| 500|    30|  03-01-2022|1981|   02|  22|\n",
            "| 7566| JONES|  MANAGER|7839|1981-02-04|2975|null|    20|  04-01-2022|1981|   02|  04|\n",
            "| 7654|MARTIN| SALESMAN|7698|1981-09-21|1250| 600|    30|  05-01-2022|1981|   09|  21|\n",
            "| 7698|   SGR|  MANAGER|7839|1981-01-05|2850| 500|    30|  06-01-2022|1981|   01|  05|\n",
            "| 7782|  RAVI|  MANAGER|7839|1981-09-06|2450|null|    10|  07-01-2022|1981|   09|  06|\n",
            "| 7788| SCOTT|  ANALYST|7566|1987-04-19|3000|1200|    20|  08-01-2022|1987|   04|  19|\n",
            "| 7839|  KING|PRESIDENT|null|      null|5000|null|    10|        null|null| null|null|\n",
            "| 7844|TURNER| SALESMAN|7698|1981-08-09|1500|   0|    30|  01-02-2022|1981|   08|  09|\n",
            "+-----+------+---------+----+----------+----+----+------+------------+----+-----+----+\n",
            "only showing top 10 rows\n",
            "\n",
            "root\n",
            " |-- EMPNO: integer (nullable = true)\n",
            " |-- ENAME: string (nullable = true)\n",
            " |-- JOB: string (nullable = true)\n",
            " |-- MGR: integer (nullable = true)\n",
            " |-- HIREDATE: date (nullable = true)\n",
            " |-- SAL: integer (nullable = true)\n",
            " |-- COMM: integer (nullable = true)\n",
            " |-- DEPTNO: integer (nullable = true)\n",
            " |-- UPDATED_DATE: string (nullable = true)\n",
            " |-- year: string (nullable = true)\n",
            " |-- month: string (nullable = true)\n",
            " |-- day: string (nullable = true)\n",
            "\n"
          ]
        },
        {
          "output_type": "execute_result",
          "data": {
            "text/plain": [
              "33"
            ]
          },
          "metadata": {},
          "execution_count": 32
        }
      ]
    },
    {
      "cell_type": "markdown",
      "source": [
        "# Create A partitioned dataframe by year,month,day save it to Employee Hire table"
      ],
      "metadata": {
        "id": "mpRggpGmOKqG"
      }
    },
    {
      "cell_type": "code",
      "source": [
        "df3 = df2.write.partitionBy('year','month','day').saveAsTable('Employee_Hire')"
      ],
      "metadata": {
        "id": "f2N4pijZxtiS"
      },
      "execution_count": null,
      "outputs": []
    },
    {
      "cell_type": "code",
      "source": [
        "spark.sql('select count(*) from Employee_Hire').show()"
      ],
      "metadata": {
        "colab": {
          "base_uri": "https://localhost:8080/"
        },
        "id": "Vm16VmqhyZUa",
        "outputId": "f3975c71-2b29-4c5a-a77e-f2fb0c045d4d"
      },
      "execution_count": null,
      "outputs": [
        {
          "output_type": "stream",
          "name": "stdout",
          "text": [
            "+--------+\n",
            "|count(1)|\n",
            "+--------+\n",
            "|      33|\n",
            "+--------+\n",
            "\n"
          ]
        }
      ]
    },
    {
      "cell_type": "markdown",
      "source": [
        "# Dataframe Write Modes\n",
        "\n",
        "overwrite – mode is used to overwrite the existing file.\n",
        "\n",
        "append – To add the data to the existing file.\n",
        "\n",
        "ignore – Ignores write operation when the file already exists.\n",
        "\n",
        "error – This is a default option when the file already exists, it returns an error."
      ],
      "metadata": {
        "id": "ET4UX1MWwxu7"
      }
    },
    {
      "cell_type": "code",
      "source": [
        "# append – To add the data to the existing file.\n",
        "\n",
        "df3 = df2.write.partitionBy('year','month','day').mode('append').saveAsTable('Employee_Hire')\n"
      ],
      "metadata": {
        "id": "6ZM8b3NisyAb"
      },
      "execution_count": null,
      "outputs": []
    },
    {
      "cell_type": "code",
      "source": [
        "#overwrite – mode is used to overwrite the existing file.\n",
        "\n",
        "df3 = df2.write.partitionBy('year','month','day').mode('overwrite').saveAsTable('Employee_Hire')"
      ],
      "metadata": {
        "id": "3Aj4Wnx5v2f-"
      },
      "execution_count": null,
      "outputs": []
    },
    {
      "cell_type": "code",
      "source": [
        "#ignore – Ignores write operation when the file already exists.\n",
        "df3 = df2.write.partitionBy('year','month','day').mode('ignore').saveAsTable('Employee_Hire')"
      ],
      "metadata": {
        "id": "mdRCEm5ixgT7"
      },
      "execution_count": null,
      "outputs": []
    },
    {
      "cell_type": "code",
      "source": [
        "spark.sql( 'select * from Employee_Hire where').show()"
      ],
      "metadata": {
        "colab": {
          "base_uri": "https://localhost:8080/"
        },
        "id": "y1qjTsld5dPr",
        "outputId": "93e86d03-d369-416e-d097-fc9fea69051c"
      },
      "execution_count": null,
      "outputs": [
        {
          "output_type": "stream",
          "name": "stdout",
          "text": [
            "+-----+------+--------+----+----------+----+----+------+------------+----+-----+---+\n",
            "|EMPNO| ENAME|     JOB| MGR|  HIREDATE| SAL|COMM|DEPTNO|UPDATED_DATE|year|month|day|\n",
            "+-----+------+--------+----+----------+----+----+------+------------+----+-----+---+\n",
            "| 7844|TURNER|SALESMAN|7698|1981-08-09|1500|   0|    30|  01-02-2022|1981|   08| 09|\n",
            "| 7844|TURNER|SALESMAN|7698|1981-08-09|1500|   0|    30|  07-02-2021|1981|   08| 09|\n",
            "| 7844|TURNER|SALESMAN|7698|1981-08-09|1500|   0|    30|  01-02-2022|1981|   08| 09|\n",
            "| 7844|TURNER|SALESMAN|7698|1981-08-09|1500|   0|    30|  07-02-2021|1981|   08| 09|\n",
            "| 7521|  WARD|SALESMAN|7698|1981-02-22|1250| 500|    30|  03-01-2022|1981|   02| 22|\n",
            "| 7521|  WARD|SALESMAN|7698|1981-02-22|1250| 500|    30|        null|1981|   02| 22|\n",
            "| 7521|  WARD|SALESMAN|7698|1981-02-22|1250| 500|    30|  03-01-2022|1981|   02| 22|\n",
            "| 7521|  WARD|SALESMAN|7698|1981-02-22|1250| 500|    30|        null|1981|   02| 22|\n",
            "| 7499| ALLEN|SALESMAN|7698|1981-02-20|1600| 300|    30|  02-01-2022|1981|   02| 20|\n",
            "| 7499| ALLEN|SALESMAN|7698|1981-02-20|1600| 300|    30|  08-02-2022|1981|   02| 20|\n",
            "| 7499| ALLEN|SALESMAN|7698|1981-02-20|1600| 300|    30|  02-01-2022|1981|   02| 20|\n",
            "| 7499| ALLEN|SALESMAN|7698|1981-02-20|1600| 300|    30|  08-02-2022|1981|   02| 20|\n",
            "| 7654|MARTIN|SALESMAN|7698|1981-09-21|1250| 600|    30|  05-01-2022|1981|   09| 21|\n",
            "| 7654|MARTIN|SALESMAN|7698|1981-09-21|1250|1400|    30|  02-02-2021|1981|   09| 21|\n",
            "| 7654|MARTIN|SALESMAN|7698|1981-09-21|1250| 600|    30|  05-01-2022|1981|   09| 21|\n",
            "| 7654|MARTIN|SALESMAN|7698|1981-09-21|1250|1400|    30|  02-02-2021|1981|   09| 21|\n",
            "| 7900| JAMES|   CLERK|7698|1981-03-12| 950|null|    30|  03-02-2022|1981|   03| 12|\n",
            "| 7902|  FORD| ANALYST|7566|1981-03-12|3000| 400|    20|  04-02-2022|1981|   03| 12|\n",
            "| 7902|  FORD| ANALYST|7566|1981-03-12|3000|null|    20|  01-01-2021|1981|   03| 12|\n",
            "| 7900| JAMES|   CLERK|7698|1981-03-12| 950|null|    30|  03-02-2022|1981|   03| 12|\n",
            "+-----+------+--------+----+----------+----+----+------+------------+----+-----+---+\n",
            "only showing top 20 rows\n",
            "\n"
          ]
        }
      ]
    },
    {
      "cell_type": "code",
      "source": [
        "spark.sql('select count(*) from Employee_Hire').show()"
      ],
      "metadata": {
        "colab": {
          "base_uri": "https://localhost:8080/"
        },
        "id": "LFo6aZfgyqUz",
        "outputId": "0026be0d-25da-4dd9-9ad8-fdb003fe20a5"
      },
      "execution_count": null,
      "outputs": [
        {
          "output_type": "stream",
          "name": "stdout",
          "text": [
            "+--------+\n",
            "|count(1)|\n",
            "+--------+\n",
            "|      66|\n",
            "+--------+\n",
            "\n"
          ]
        }
      ]
    },
    {
      "cell_type": "markdown",
      "source": [
        "# Incremental loading\n",
        "\n",
        "loading data from source (daily)  ----> Tansform -----> loading warehouse"
      ],
      "metadata": {
        "id": "uPaAP_8Z-o3X"
      }
    },
    {
      "cell_type": "code",
      "source": [
        "# read data of day0 file\n",
        "\n",
        "from pyspark.sql.functions import *\n",
        "\n",
        "day0 = spark.read.format('csv').option('header',True).load('/content/employee_day0.csv')\n"
      ],
      "metadata": {
        "id": "cemmROHm3m8c"
      },
      "execution_count": null,
      "outputs": []
    },
    {
      "cell_type": "code",
      "source": [
        "# write partitioned data into warhouse employee table \n",
        "\n",
        "day0_df = day0.write.partitionBy('JOB').saveAsTable('employee')"
      ],
      "metadata": {
        "id": "ibh3tvpM5HSi"
      },
      "execution_count": null,
      "outputs": []
    },
    {
      "cell_type": "code",
      "source": [
        "# query warhouse tables\n",
        "\n",
        "spark.sql('select * from employee').show()\n",
        "spark.sql('select count(*) from employee').show()"
      ],
      "metadata": {
        "colab": {
          "base_uri": "https://localhost:8080/"
        },
        "id": "tktqpVvE4W2S",
        "outputId": "525f529e-0e69-48d8-c748-360db37b3898"
      },
      "execution_count": null,
      "outputs": [
        {
          "output_type": "stream",
          "name": "stdout",
          "text": [
            "+-----+------+----+----+----+------+---------+\n",
            "|EMPNO| ENAME| MGR| SAL|COMM|DEPTNO|      JOB|\n",
            "+-----+------+----+----+----+------+---------+\n",
            "| 7499| ALLEN|7698|1600| 300|    30| SALESMAN|\n",
            "| 7521|  WARD|7698|1250| 500|    30| SALESMAN|\n",
            "| 7654|MARTIN|7698|1250| 600|    30| SALESMAN|\n",
            "| 7844|TURNER|7698|1500|  10|    30| SALESMAN|\n",
            "| 7369| SMITH|7902| 800| 100|    20|    CLERK|\n",
            "| 7876| ADAMS|7788|1100| 100|    20|    CLERK|\n",
            "| 7900| JAMES|7698| 950| 890|    30|    CLERK|\n",
            "| 7934|MILLER|7782|1300| 740|    10|    CLERK|\n",
            "| 7788| SCOTT|7566|3000|1200|    20|  ANALYST|\n",
            "| 7902|  FORD|7566|3000| 400|    20|  ANALYST|\n",
            "| 7566| JONES|7839|2975| 200|    20|  MANAGER|\n",
            "| 7698|   SGR|7839|2850| 500|    30|  MANAGER|\n",
            "| 7782|  RAVI|7839|2450| 500|    10|  MANAGER|\n",
            "| 7839|  KING|7998|5000|1000|    10|PRESIDENT|\n",
            "+-----+------+----+----+----+------+---------+\n",
            "\n",
            "+--------+\n",
            "|count(1)|\n",
            "+--------+\n",
            "|      14|\n",
            "+--------+\n",
            "\n"
          ]
        }
      ]
    },
    {
      "cell_type": "code",
      "source": [
        "# read data of day1 file\n",
        "\n",
        "day1 = spark.read.format('csv').option('header',True).load('/content/employee_day1.csv')\n",
        "\n",
        "day1.show()\n",
        "day1.count()\n"
      ],
      "metadata": {
        "colab": {
          "base_uri": "https://localhost:8080/"
        },
        "id": "fl3Vfn1w5wPE",
        "outputId": "bcc65218-7dbd-4d83-cb6a-0e167ed28ebd"
      },
      "execution_count": null,
      "outputs": [
        {
          "output_type": "stream",
          "name": "stdout",
          "text": [
            "+-----+------+---------+----+----+----+------+\n",
            "|EMPNO| ENAME|      JOB| MGR| SAL|COMM|DEPTNO|\n",
            "+-----+------+---------+----+----+----+------+\n",
            "| 1234|SEKHAR|   doctor|7777| 667|  78|    80|\n",
            "| 7369| SMITH|    CLERK|7902| 800|  90|    20|\n",
            "| 7499| ALLEN| SALESMAN|7698|1600| 300|    30|\n",
            "| 7521|  WARD| SALESMAN|7698|1250| 500|    30|\n",
            "| 7566| JONES|  MANAGER|7839|2975| 100|    20|\n",
            "| 7654|MARTIN| SALESMAN|7698|1250|1400|    30|\n",
            "| 7698|   SGR|  MANAGER|7839|2850| 200|    30|\n",
            "| 7782|  RAVI|  MANAGER|7839|2450|  14|    10|\n",
            "| 7788| SCOTT|  ANALYST|7566|3000| 180|    20|\n",
            "| 7839|  KING|PRESIDENT|7888|5000| 140|    10|\n",
            "| 7844|TURNER| SALESMAN|7698|1500|  10|    30|\n",
            "| 7876| ADAMS|    CLERK|7788|1100| 300|    20|\n",
            "| 7900| JAMES|    CLERK|7698| 950| 400|    30|\n",
            "| 7902|  FORD|  ANALYST|7566|3000| 100|    20|\n",
            "| 7934|MILLER|    CLERK|7782|1300| 100|    10|\n",
            "| 1234|   RAM|    CLERK|7457| 494| 588|    80|\n",
            "+-----+------+---------+----+----+----+------+\n",
            "\n"
          ]
        },
        {
          "output_type": "execute_result",
          "data": {
            "text/plain": [
              "16"
            ]
          },
          "metadata": {},
          "execution_count": 86
        }
      ]
    },
    {
      "cell_type": "code",
      "source": [
        "# write partitioned data into warhouse employee table \n",
        "\n",
        "day1_df = day1.write.partitionBy('JOB').mode('append').saveAsTable('employee')\n"
      ],
      "metadata": {
        "id": "AxMS3XCR69Uh"
      },
      "execution_count": null,
      "outputs": []
    },
    {
      "cell_type": "code",
      "source": [
        "# query warhouse tables\n",
        "\n",
        "spark.sql('select * from employee').show()\n",
        "spark.sql('select count(*) from employee').show()"
      ],
      "metadata": {
        "colab": {
          "base_uri": "https://localhost:8080/"
        },
        "id": "7SF0f8M97W4c",
        "outputId": "b7e6859c-2f4e-45b6-8109-e760a618b19e"
      },
      "execution_count": null,
      "outputs": [
        {
          "output_type": "stream",
          "name": "stdout",
          "text": [
            "+-----+------+----+----+----+------+--------+\n",
            "|EMPNO| ENAME| MGR| SAL|COMM|DEPTNO|     JOB|\n",
            "+-----+------+----+----+----+------+--------+\n",
            "| 7499| ALLEN|7698|1600| 300|    30|SALESMAN|\n",
            "| 7521|  WARD|7698|1250| 500|    30|SALESMAN|\n",
            "| 7654|MARTIN|7698|1250|1400|    30|SALESMAN|\n",
            "| 7844|TURNER|7698|1500|  10|    30|SALESMAN|\n",
            "| 7499| ALLEN|7698|1600| 300|    30|SALESMAN|\n",
            "| 7521|  WARD|7698|1250| 500|    30|SALESMAN|\n",
            "| 7654|MARTIN|7698|1250| 600|    30|SALESMAN|\n",
            "| 7844|TURNER|7698|1500|  10|    30|SALESMAN|\n",
            "| 7369| SMITH|7902| 800|  90|    20|   CLERK|\n",
            "| 7876| ADAMS|7788|1100| 300|    20|   CLERK|\n",
            "| 7900| JAMES|7698| 950| 400|    30|   CLERK|\n",
            "| 7934|MILLER|7782|1300| 100|    10|   CLERK|\n",
            "| 1234|   RAM|7457| 494| 588|    80|   CLERK|\n",
            "| 7369| SMITH|7902| 800| 100|    20|   CLERK|\n",
            "| 7876| ADAMS|7788|1100| 100|    20|   CLERK|\n",
            "| 7900| JAMES|7698| 950| 890|    30|   CLERK|\n",
            "| 7934|MILLER|7782|1300| 740|    10|   CLERK|\n",
            "| 7788| SCOTT|7566|3000|1200|    20| ANALYST|\n",
            "| 7902|  FORD|7566|3000| 400|    20| ANALYST|\n",
            "| 7788| SCOTT|7566|3000| 180|    20| ANALYST|\n",
            "+-----+------+----+----+----+------+--------+\n",
            "only showing top 20 rows\n",
            "\n",
            "+--------+\n",
            "|count(1)|\n",
            "+--------+\n",
            "|      30|\n",
            "+--------+\n",
            "\n"
          ]
        }
      ]
    },
    {
      "cell_type": "markdown",
      "source": [
        "# Incremental loading\n",
        "\n",
        "#yesterday and today's data loading to warehouse tables"
      ],
      "metadata": {
        "id": "w8r0nu1p8Abl"
      }
    },
    {
      "cell_type": "code",
      "source": [
        "\n",
        "# read and Partitioned data of Day0 (YesterDay data)\n",
        "\n",
        "from pyspark.sql.functions import *\n",
        "\n",
        "date_day0 = spark.read.format('csv').option('header',True).load('/content/employee_day0.csv').withColumn('Date', date_sub(current_date(),1))\n",
        "\n",
        "date_day0 = date_day0.withColumn('year',date_format('Date','yyyy')).withColumn('Month',date_format('Date','MM')).withColumn('Day',date_format('Date','dd'))\n",
        "\n",
        "date_day0.show(truncate = False)\n",
        "\n",
        "date_day0.count()\n"
      ],
      "metadata": {
        "colab": {
          "base_uri": "https://localhost:8080/"
        },
        "id": "NGyoq2RNzcts",
        "outputId": "d662efac-d15e-4e3f-bb4e-e86ece172529"
      },
      "execution_count": null,
      "outputs": [
        {
          "output_type": "stream",
          "name": "stdout",
          "text": [
            "+-----+------+---------+----+----+----+------+----------+----+-----+---+\n",
            "|EMPNO|ENAME |JOB      |MGR |SAL |COMM|DEPTNO|Date      |year|Month|Day|\n",
            "+-----+------+---------+----+----+----+------+----------+----+-----+---+\n",
            "|7369 |SMITH |CLERK    |7902|800 |100 |20    |2023-04-17|2023|04   |17 |\n",
            "|7499 |ALLEN |SALESMAN |7698|1600|300 |30    |2023-04-17|2023|04   |17 |\n",
            "|7521 |WARD  |SALESMAN |7698|1250|500 |30    |2023-04-17|2023|04   |17 |\n",
            "|7566 |JONES |MANAGER  |7839|2975|200 |20    |2023-04-17|2023|04   |17 |\n",
            "|7654 |MARTIN|SALESMAN |7698|1250|600 |30    |2023-04-17|2023|04   |17 |\n",
            "|7698 |SGR   |MANAGER  |7839|2850|500 |30    |2023-04-17|2023|04   |17 |\n",
            "|7782 |RAVI  |MANAGER  |7839|2450|500 |10    |2023-04-17|2023|04   |17 |\n",
            "|7788 |SCOTT |ANALYST  |7566|3000|1200|20    |2023-04-17|2023|04   |17 |\n",
            "|7839 |KING  |PRESIDENT|7998|5000|1000|10    |2023-04-17|2023|04   |17 |\n",
            "|7844 |TURNER|SALESMAN |7698|1500|10  |30    |2023-04-17|2023|04   |17 |\n",
            "|7876 |ADAMS |CLERK    |7788|1100|100 |20    |2023-04-17|2023|04   |17 |\n",
            "|7900 |JAMES |CLERK    |7698|950 |890 |30    |2023-04-17|2023|04   |17 |\n",
            "|7902 |FORD  |ANALYST  |7566|3000|400 |20    |2023-04-17|2023|04   |17 |\n",
            "|7934 |MILLER|CLERK    |7782|1300|740 |10    |2023-04-17|2023|04   |17 |\n",
            "+-----+------+---------+----+----+----+------+----------+----+-----+---+\n",
            "\n"
          ]
        },
        {
          "output_type": "execute_result",
          "data": {
            "text/plain": [
              "14"
            ]
          },
          "metadata": {},
          "execution_count": 93
        }
      ]
    },
    {
      "cell_type": "code",
      "source": [
        "# Save the data of Day0 in warhouse tables\n",
        "\n",
        "date_day0_df = date_day0.write.partitionBy('year','Month','Day').saveAsTable('employee_day_wise')"
      ],
      "metadata": {
        "id": "jKgpfvRe2-CY"
      },
      "execution_count": null,
      "outputs": []
    },
    {
      "cell_type": "code",
      "source": [
        "# query warhouse tables\n",
        "\n",
        "spark.sql('select * from employee_day_wise').show()\n",
        "spark.sql('select count(*) from employee_day_wise').show()"
      ],
      "metadata": {
        "colab": {
          "base_uri": "https://localhost:8080/"
        },
        "id": "jv53IBjnAyrj",
        "outputId": "2011ed5b-a86e-4824-ffcd-c18f282acfed"
      },
      "execution_count": null,
      "outputs": [
        {
          "output_type": "stream",
          "name": "stdout",
          "text": [
            "+-----+------+---------+----+----+----+------+----------+----+-----+---+\n",
            "|EMPNO| ENAME|      JOB| MGR| SAL|COMM|DEPTNO|      Date|year|Month|Day|\n",
            "+-----+------+---------+----+----+----+------+----------+----+-----+---+\n",
            "| 7369| SMITH|    CLERK|7902| 800| 100|    20|2023-04-17|2023|   04| 17|\n",
            "| 7499| ALLEN| SALESMAN|7698|1600| 300|    30|2023-04-17|2023|   04| 17|\n",
            "| 7521|  WARD| SALESMAN|7698|1250| 500|    30|2023-04-17|2023|   04| 17|\n",
            "| 7566| JONES|  MANAGER|7839|2975| 200|    20|2023-04-17|2023|   04| 17|\n",
            "| 7654|MARTIN| SALESMAN|7698|1250| 600|    30|2023-04-17|2023|   04| 17|\n",
            "| 7698|   SGR|  MANAGER|7839|2850| 500|    30|2023-04-17|2023|   04| 17|\n",
            "| 7782|  RAVI|  MANAGER|7839|2450| 500|    10|2023-04-17|2023|   04| 17|\n",
            "| 7788| SCOTT|  ANALYST|7566|3000|1200|    20|2023-04-17|2023|   04| 17|\n",
            "| 7839|  KING|PRESIDENT|7998|5000|1000|    10|2023-04-17|2023|   04| 17|\n",
            "| 7844|TURNER| SALESMAN|7698|1500|  10|    30|2023-04-17|2023|   04| 17|\n",
            "| 7876| ADAMS|    CLERK|7788|1100| 100|    20|2023-04-17|2023|   04| 17|\n",
            "| 7900| JAMES|    CLERK|7698| 950| 890|    30|2023-04-17|2023|   04| 17|\n",
            "| 7902|  FORD|  ANALYST|7566|3000| 400|    20|2023-04-17|2023|   04| 17|\n",
            "| 7934|MILLER|    CLERK|7782|1300| 740|    10|2023-04-17|2023|   04| 17|\n",
            "+-----+------+---------+----+----+----+------+----------+----+-----+---+\n",
            "\n",
            "+--------+\n",
            "|count(1)|\n",
            "+--------+\n",
            "|      14|\n",
            "+--------+\n",
            "\n"
          ]
        }
      ]
    },
    {
      "cell_type": "code",
      "source": [
        "# # read and Partitioned data of Day1 (Today's data)\n",
        "\n",
        "from pyspark.sql.functions import *\n",
        "\n",
        "date_day1 = spark.read.format('csv').option('header',True).load('/content/employee_day1.csv').withColumn('Date',current_date())\n",
        "\n",
        "date_day1 = date_day1.withColumn('year',date_format('Date','yyyy')).withColumn('Month',date_format('Date','MM')).withColumn('day',date_format('Date','dd'))\n",
        "\n",
        "date_day1.show()\n",
        "\n",
        "date_day1.count()\n"
      ],
      "metadata": {
        "colab": {
          "base_uri": "https://localhost:8080/"
        },
        "id": "Iig3UxzhBsIg",
        "outputId": "daa6d4d5-9c88-44b7-c22b-3708f18e8d70"
      },
      "execution_count": null,
      "outputs": [
        {
          "output_type": "stream",
          "name": "stdout",
          "text": [
            "+-----+------+---------+----+----+----+------+----------+----+-----+---+\n",
            "|EMPNO| ENAME|      JOB| MGR| SAL|COMM|DEPTNO|      Date|year|Month|day|\n",
            "+-----+------+---------+----+----+----+------+----------+----+-----+---+\n",
            "| 1234|SEKHAR|   doctor|7777| 667|  78|    80|2023-04-18|2023|   04| 18|\n",
            "| 7369| SMITH|    CLERK|7902| 800|  90|    20|2023-04-18|2023|   04| 18|\n",
            "| 7499| ALLEN| SALESMAN|7698|1600| 300|    30|2023-04-18|2023|   04| 18|\n",
            "| 7521|  WARD| SALESMAN|7698|1250| 500|    30|2023-04-18|2023|   04| 18|\n",
            "| 7566| JONES|  MANAGER|7839|2975| 100|    20|2023-04-18|2023|   04| 18|\n",
            "| 7654|MARTIN| SALESMAN|7698|1250|1400|    30|2023-04-18|2023|   04| 18|\n",
            "| 7698|   SGR|  MANAGER|7839|2850| 200|    30|2023-04-18|2023|   04| 18|\n",
            "| 7782|  RAVI|  MANAGER|7839|2450|  14|    10|2023-04-18|2023|   04| 18|\n",
            "| 7788| SCOTT|  ANALYST|7566|3000| 180|    20|2023-04-18|2023|   04| 18|\n",
            "| 7839|  KING|PRESIDENT|7888|5000| 140|    10|2023-04-18|2023|   04| 18|\n",
            "| 7844|TURNER| SALESMAN|7698|1500|  10|    30|2023-04-18|2023|   04| 18|\n",
            "| 7876| ADAMS|    CLERK|7788|1100| 300|    20|2023-04-18|2023|   04| 18|\n",
            "| 7900| JAMES|    CLERK|7698| 950| 400|    30|2023-04-18|2023|   04| 18|\n",
            "| 7902|  FORD|  ANALYST|7566|3000| 100|    20|2023-04-18|2023|   04| 18|\n",
            "| 7934|MILLER|    CLERK|7782|1300| 100|    10|2023-04-18|2023|   04| 18|\n",
            "| 1234|   RAM|    CLERK|7457| 494| 588|    80|2023-04-18|2023|   04| 18|\n",
            "+-----+------+---------+----+----+----+------+----------+----+-----+---+\n",
            "\n"
          ]
        },
        {
          "output_type": "execute_result",
          "data": {
            "text/plain": [
              "16"
            ]
          },
          "metadata": {},
          "execution_count": 104
        }
      ]
    },
    {
      "cell_type": "code",
      "source": [
        "# Save the data of Day0 in warhouse tables\n",
        "\n",
        "date_day1_df  = date_day1.write.partitionBy('year','Month','day').mode('append').saveAsTable('employee_day_wise')"
      ],
      "metadata": {
        "id": "7RIANH95Dtjb"
      },
      "execution_count": null,
      "outputs": []
    },
    {
      "cell_type": "code",
      "source": [
        "# query warhouse tables\n",
        "\n",
        "spark.sql('select * from employee_day_wise').show()\n",
        "spark.sql('select count(*) from employee_day_wise').show()"
      ],
      "metadata": {
        "colab": {
          "base_uri": "https://localhost:8080/"
        },
        "id": "sucWhWa7EJ6J",
        "outputId": "da0710b1-0cd8-4a67-c6f7-ba38c388f5d1"
      },
      "execution_count": null,
      "outputs": [
        {
          "output_type": "stream",
          "name": "stdout",
          "text": [
            "+-----+------+---------+----+----+----+------+----------+----+-----+---+\n",
            "|EMPNO| ENAME|      JOB| MGR| SAL|COMM|DEPTNO|      Date|year|Month|Day|\n",
            "+-----+------+---------+----+----+----+------+----------+----+-----+---+\n",
            "| 1234|SEKHAR|   doctor|7777| 667|  78|    80|2023-04-18|2023|   04| 18|\n",
            "| 7369| SMITH|    CLERK|7902| 800|  90|    20|2023-04-18|2023|   04| 18|\n",
            "| 7499| ALLEN| SALESMAN|7698|1600| 300|    30|2023-04-18|2023|   04| 18|\n",
            "| 7521|  WARD| SALESMAN|7698|1250| 500|    30|2023-04-18|2023|   04| 18|\n",
            "| 7566| JONES|  MANAGER|7839|2975| 100|    20|2023-04-18|2023|   04| 18|\n",
            "| 7654|MARTIN| SALESMAN|7698|1250|1400|    30|2023-04-18|2023|   04| 18|\n",
            "| 7698|   SGR|  MANAGER|7839|2850| 200|    30|2023-04-18|2023|   04| 18|\n",
            "| 7782|  RAVI|  MANAGER|7839|2450|  14|    10|2023-04-18|2023|   04| 18|\n",
            "| 7788| SCOTT|  ANALYST|7566|3000| 180|    20|2023-04-18|2023|   04| 18|\n",
            "| 7839|  KING|PRESIDENT|7888|5000| 140|    10|2023-04-18|2023|   04| 18|\n",
            "| 7844|TURNER| SALESMAN|7698|1500|  10|    30|2023-04-18|2023|   04| 18|\n",
            "| 7876| ADAMS|    CLERK|7788|1100| 300|    20|2023-04-18|2023|   04| 18|\n",
            "| 7900| JAMES|    CLERK|7698| 950| 400|    30|2023-04-18|2023|   04| 18|\n",
            "| 7902|  FORD|  ANALYST|7566|3000| 100|    20|2023-04-18|2023|   04| 18|\n",
            "| 7934|MILLER|    CLERK|7782|1300| 100|    10|2023-04-18|2023|   04| 18|\n",
            "| 1234|   RAM|    CLERK|7457| 494| 588|    80|2023-04-18|2023|   04| 18|\n",
            "| 7369| SMITH|    CLERK|7902| 800| 100|    20|2023-04-17|2023|   04| 17|\n",
            "| 7499| ALLEN| SALESMAN|7698|1600| 300|    30|2023-04-17|2023|   04| 17|\n",
            "| 7521|  WARD| SALESMAN|7698|1250| 500|    30|2023-04-17|2023|   04| 17|\n",
            "| 7566| JONES|  MANAGER|7839|2975| 200|    20|2023-04-17|2023|   04| 17|\n",
            "+-----+------+---------+----+----+----+------+----------+----+-----+---+\n",
            "only showing top 20 rows\n",
            "\n",
            "+--------+\n",
            "|count(1)|\n",
            "+--------+\n",
            "|      30|\n",
            "+--------+\n",
            "\n"
          ]
        }
      ]
    },
    {
      "cell_type": "markdown",
      "source": [
        "# How to Skip first few rows? ( Step By Step detailed)\n",
        "\n"
      ],
      "metadata": {
        "id": "q66gjenfWVif"
      }
    },
    {
      "cell_type": "code",
      "source": [
        "Rdd = spark.sparkContext.textFile('/content/emp_pipe_skip.txt').zipWithIndex()\n",
        "\n",
        "Rdd.collect()"
      ],
      "metadata": {
        "colab": {
          "base_uri": "https://localhost:8080/"
        },
        "id": "qLx1BqxERLOr",
        "outputId": "77afc40e-5f02-4014-84b5-c7551d845f3e"
      },
      "execution_count": 139,
      "outputs": [
        {
          "output_type": "execute_result",
          "data": {
            "text/plain": [
              "[('line 1', 0),\n",
              " ('line 2', 1),\n",
              " ('line 3', 2),\n",
              " ('EMPNO|ENAME|JOB|MGR|HIREDATE|SAL|COMM|DEPTNO|UPDATED_DATE', 3),\n",
              " ('7369|SMITH|CLERK|7902|17-12-1980|800|null|20|01-01-2022', 4),\n",
              " ('7499|ALLEN|SALESMAN|7698|20-02-1981|1600|300|30|02-01-2022', 5),\n",
              " ('7521|WARD|SALESMAN|7698|22-02-1981|1250|500|30|03-01-2022', 6),\n",
              " ('7566|JONES|MANAGER|7839|04-02-1981|2975|null|20|04-01-2022', 7),\n",
              " ('7654|MARTIN|SALESMAN|7698|21-09-1981|1250|1400|30|05-01-2022', 8),\n",
              " ('7698|SGR|MANAGER|7839|05-01-1981|2850|null|30|06-01-2022', 9),\n",
              " ('7782|RAVI|MANAGER|7839|06-09-1981|2450|null|10|07-01-2022', 10),\n",
              " ('7788|SCOTT|ANALYST|7566|19-04-1987|3000|null|20|08-01-2022', 11),\n",
              " ('7839|KING|PRESIDENT|null|null|5000|null|10|null', 12),\n",
              " ('7844|TURNER|SALESMAN|7698|09-08-1981|1500|0|30|01-02-2022', 13),\n",
              " ('7876|ADAMS|CLERK|7788|23-05-1987|1100|null|20|02-02-2022', 14),\n",
              " ('7900|JAMES|CLERK|7698|12-03-1981|950|null|30|03-02-2022', 15),\n",
              " ('7902|FORD|ANALYST|7566|12-03-1981|3000|null|20|04-02-2022', 16),\n",
              " ('7934|MILLER|CLERK|7782|01-03-1982|1300|null|10|05-02-2022', 17),\n",
              " ('1234|SEKHAR|doctor|7777|null|667|78|80|06-02-2022', 18),\n",
              " ('7369|SMITH|CLERK|7902|17-12-1980|800|null|20|07-02-2022', 19),\n",
              " ('7499|ALLEN|SALESMAN|7698|20-02-1981|1600|300|30|08-02-2022', 20),\n",
              " ('7521|WARD|SALESMAN|7698|22-02-1981|1250|500|30|null', 21),\n",
              " ('7566|JONES|MANAGER|7839|04-02-1981|2975|null|20|01-02-2021', 22)]"
            ]
          },
          "metadata": {},
          "execution_count": 139
        }
      ]
    },
    {
      "cell_type": "code",
      "source": [
        "Rdd1 = Rdd.filter(lambda a : a[1]>2)\n",
        "Rdd1.collect()"
      ],
      "metadata": {
        "colab": {
          "base_uri": "https://localhost:8080/"
        },
        "id": "ZEtYpQotRjCx",
        "outputId": "c8f2db2e-2e08-412a-9823-9d1ef8cebf82"
      },
      "execution_count": 152,
      "outputs": [
        {
          "output_type": "execute_result",
          "data": {
            "text/plain": [
              "[('EMPNO|ENAME|JOB|MGR|HIREDATE|SAL|COMM|DEPTNO|UPDATED_DATE', 3),\n",
              " ('7369|SMITH|CLERK|7902|17-12-1980|800|null|20|01-01-2022', 4),\n",
              " ('7499|ALLEN|SALESMAN|7698|20-02-1981|1600|300|30|02-01-2022', 5),\n",
              " ('7521|WARD|SALESMAN|7698|22-02-1981|1250|500|30|03-01-2022', 6),\n",
              " ('7566|JONES|MANAGER|7839|04-02-1981|2975|null|20|04-01-2022', 7),\n",
              " ('7654|MARTIN|SALESMAN|7698|21-09-1981|1250|1400|30|05-01-2022', 8),\n",
              " ('7698|SGR|MANAGER|7839|05-01-1981|2850|null|30|06-01-2022', 9),\n",
              " ('7782|RAVI|MANAGER|7839|06-09-1981|2450|null|10|07-01-2022', 10),\n",
              " ('7788|SCOTT|ANALYST|7566|19-04-1987|3000|null|20|08-01-2022', 11),\n",
              " ('7839|KING|PRESIDENT|null|null|5000|null|10|null', 12),\n",
              " ('7844|TURNER|SALESMAN|7698|09-08-1981|1500|0|30|01-02-2022', 13),\n",
              " ('7876|ADAMS|CLERK|7788|23-05-1987|1100|null|20|02-02-2022', 14),\n",
              " ('7900|JAMES|CLERK|7698|12-03-1981|950|null|30|03-02-2022', 15),\n",
              " ('7902|FORD|ANALYST|7566|12-03-1981|3000|null|20|04-02-2022', 16),\n",
              " ('7934|MILLER|CLERK|7782|01-03-1982|1300|null|10|05-02-2022', 17),\n",
              " ('1234|SEKHAR|doctor|7777|null|667|78|80|06-02-2022', 18),\n",
              " ('7369|SMITH|CLERK|7902|17-12-1980|800|null|20|07-02-2022', 19),\n",
              " ('7499|ALLEN|SALESMAN|7698|20-02-1981|1600|300|30|08-02-2022', 20),\n",
              " ('7521|WARD|SALESMAN|7698|22-02-1981|1250|500|30|null', 21),\n",
              " ('7566|JONES|MANAGER|7839|04-02-1981|2975|null|20|01-02-2021', 22)]"
            ]
          },
          "metadata": {},
          "execution_count": 152
        }
      ]
    },
    {
      "cell_type": "code",
      "source": [
        "# Removing index and split using sep\n",
        "\n",
        "Rdd2 = Rdd1.map(lambda a : a[0].split('|'))\n",
        "\n",
        "Rdd2.collect()\n"
      ],
      "metadata": {
        "colab": {
          "base_uri": "https://localhost:8080/"
        },
        "id": "7cD93wmZSIpl",
        "outputId": "c48a02fe-b31f-4dd7-94da-d413c9b4f3b9"
      },
      "execution_count": 155,
      "outputs": [
        {
          "output_type": "execute_result",
          "data": {
            "text/plain": [
              "[['EMPNO',\n",
              "  'ENAME',\n",
              "  'JOB',\n",
              "  'MGR',\n",
              "  'HIREDATE',\n",
              "  'SAL',\n",
              "  'COMM',\n",
              "  'DEPTNO',\n",
              "  'UPDATED_DATE'],\n",
              " ['7369',\n",
              "  'SMITH',\n",
              "  'CLERK',\n",
              "  '7902',\n",
              "  '17-12-1980',\n",
              "  '800',\n",
              "  'null',\n",
              "  '20',\n",
              "  '01-01-2022'],\n",
              " ['7499',\n",
              "  'ALLEN',\n",
              "  'SALESMAN',\n",
              "  '7698',\n",
              "  '20-02-1981',\n",
              "  '1600',\n",
              "  '300',\n",
              "  '30',\n",
              "  '02-01-2022'],\n",
              " ['7521',\n",
              "  'WARD',\n",
              "  'SALESMAN',\n",
              "  '7698',\n",
              "  '22-02-1981',\n",
              "  '1250',\n",
              "  '500',\n",
              "  '30',\n",
              "  '03-01-2022'],\n",
              " ['7566',\n",
              "  'JONES',\n",
              "  'MANAGER',\n",
              "  '7839',\n",
              "  '04-02-1981',\n",
              "  '2975',\n",
              "  'null',\n",
              "  '20',\n",
              "  '04-01-2022'],\n",
              " ['7654',\n",
              "  'MARTIN',\n",
              "  'SALESMAN',\n",
              "  '7698',\n",
              "  '21-09-1981',\n",
              "  '1250',\n",
              "  '1400',\n",
              "  '30',\n",
              "  '05-01-2022'],\n",
              " ['7698',\n",
              "  'SGR',\n",
              "  'MANAGER',\n",
              "  '7839',\n",
              "  '05-01-1981',\n",
              "  '2850',\n",
              "  'null',\n",
              "  '30',\n",
              "  '06-01-2022'],\n",
              " ['7782',\n",
              "  'RAVI',\n",
              "  'MANAGER',\n",
              "  '7839',\n",
              "  '06-09-1981',\n",
              "  '2450',\n",
              "  'null',\n",
              "  '10',\n",
              "  '07-01-2022'],\n",
              " ['7788',\n",
              "  'SCOTT',\n",
              "  'ANALYST',\n",
              "  '7566',\n",
              "  '19-04-1987',\n",
              "  '3000',\n",
              "  'null',\n",
              "  '20',\n",
              "  '08-01-2022'],\n",
              " ['7839', 'KING', 'PRESIDENT', 'null', 'null', '5000', 'null', '10', 'null'],\n",
              " ['7844',\n",
              "  'TURNER',\n",
              "  'SALESMAN',\n",
              "  '7698',\n",
              "  '09-08-1981',\n",
              "  '1500',\n",
              "  '0',\n",
              "  '30',\n",
              "  '01-02-2022'],\n",
              " ['7876',\n",
              "  'ADAMS',\n",
              "  'CLERK',\n",
              "  '7788',\n",
              "  '23-05-1987',\n",
              "  '1100',\n",
              "  'null',\n",
              "  '20',\n",
              "  '02-02-2022'],\n",
              " ['7900',\n",
              "  'JAMES',\n",
              "  'CLERK',\n",
              "  '7698',\n",
              "  '12-03-1981',\n",
              "  '950',\n",
              "  'null',\n",
              "  '30',\n",
              "  '03-02-2022'],\n",
              " ['7902',\n",
              "  'FORD',\n",
              "  'ANALYST',\n",
              "  '7566',\n",
              "  '12-03-1981',\n",
              "  '3000',\n",
              "  'null',\n",
              "  '20',\n",
              "  '04-02-2022'],\n",
              " ['7934',\n",
              "  'MILLER',\n",
              "  'CLERK',\n",
              "  '7782',\n",
              "  '01-03-1982',\n",
              "  '1300',\n",
              "  'null',\n",
              "  '10',\n",
              "  '05-02-2022'],\n",
              " ['1234', 'SEKHAR', 'doctor', '7777', 'null', '667', '78', '80', '06-02-2022'],\n",
              " ['7369',\n",
              "  'SMITH',\n",
              "  'CLERK',\n",
              "  '7902',\n",
              "  '17-12-1980',\n",
              "  '800',\n",
              "  'null',\n",
              "  '20',\n",
              "  '07-02-2022'],\n",
              " ['7499',\n",
              "  'ALLEN',\n",
              "  'SALESMAN',\n",
              "  '7698',\n",
              "  '20-02-1981',\n",
              "  '1600',\n",
              "  '300',\n",
              "  '30',\n",
              "  '08-02-2022'],\n",
              " ['7521',\n",
              "  'WARD',\n",
              "  'SALESMAN',\n",
              "  '7698',\n",
              "  '22-02-1981',\n",
              "  '1250',\n",
              "  '500',\n",
              "  '30',\n",
              "  'null'],\n",
              " ['7566',\n",
              "  'JONES',\n",
              "  'MANAGER',\n",
              "  '7839',\n",
              "  '04-02-1981',\n",
              "  '2975',\n",
              "  'null',\n",
              "  '20',\n",
              "  '01-02-2021']]"
            ]
          },
          "metadata": {},
          "execution_count": 155
        }
      ]
    },
    {
      "cell_type": "code",
      "source": [
        "# collect columns headers\n",
        "columns = Rdd2.collect()[0]\n",
        "\n",
        "print(columns)"
      ],
      "metadata": {
        "colab": {
          "base_uri": "https://localhost:8080/"
        },
        "id": "mchUAClPSIoK",
        "outputId": "9b88825b-bec9-4ac4-ea90-e914b71e7301"
      },
      "execution_count": 161,
      "outputs": [
        {
          "output_type": "stream",
          "name": "stdout",
          "text": [
            "['EMPNO', 'ENAME', 'JOB', 'MGR', 'HIREDATE', 'SAL', 'COMM', 'DEPTNO', 'UPDATED_DATE']\n"
          ]
        }
      ]
    },
    {
      "cell_type": "code",
      "source": [
        "# skip first row\n",
        "kipline = Rdd2.first()\n",
        "\n",
        "print(skipline)"
      ],
      "metadata": {
        "colab": {
          "base_uri": "https://localhost:8080/"
        },
        "id": "Tri-XjAvVAXk",
        "outputId": "6298b540-fc0c-416d-dcdf-6f3ba15dac2f"
      },
      "execution_count": 162,
      "outputs": [
        {
          "output_type": "stream",
          "name": "stdout",
          "text": [
            "['EMPNO', 'ENAME', 'JOB', 'MGR', 'HIREDATE', 'SAL', 'COMM', 'DEPTNO', 'UPDATED_DATE']\n"
          ]
        }
      ]
    },
    {
      "cell_type": "code",
      "source": [
        "# making df from rdd\n",
        "\n",
        "DF = Rdd2.filter(lambda a : a != skipline).toDF(columns)\n",
        "\n",
        "DF.show()\n",
        "\n",
        "DF.printSchema()"
      ],
      "metadata": {
        "colab": {
          "base_uri": "https://localhost:8080/"
        },
        "id": "QTCVUBCGVeIa",
        "outputId": "95bec92e-d7b1-4354-cf37-95e3bbd0e9ac"
      },
      "execution_count": 163,
      "outputs": [
        {
          "output_type": "stream",
          "name": "stdout",
          "text": [
            "+-----+------+---------+----+----------+----+----+------+------------+\n",
            "|EMPNO| ENAME|      JOB| MGR|  HIREDATE| SAL|COMM|DEPTNO|UPDATED_DATE|\n",
            "+-----+------+---------+----+----------+----+----+------+------------+\n",
            "| 7369| SMITH|    CLERK|7902|17-12-1980| 800|null|    20|  01-01-2022|\n",
            "| 7499| ALLEN| SALESMAN|7698|20-02-1981|1600| 300|    30|  02-01-2022|\n",
            "| 7521|  WARD| SALESMAN|7698|22-02-1981|1250| 500|    30|  03-01-2022|\n",
            "| 7566| JONES|  MANAGER|7839|04-02-1981|2975|null|    20|  04-01-2022|\n",
            "| 7654|MARTIN| SALESMAN|7698|21-09-1981|1250|1400|    30|  05-01-2022|\n",
            "| 7698|   SGR|  MANAGER|7839|05-01-1981|2850|null|    30|  06-01-2022|\n",
            "| 7782|  RAVI|  MANAGER|7839|06-09-1981|2450|null|    10|  07-01-2022|\n",
            "| 7788| SCOTT|  ANALYST|7566|19-04-1987|3000|null|    20|  08-01-2022|\n",
            "| 7839|  KING|PRESIDENT|null|      null|5000|null|    10|        null|\n",
            "| 7844|TURNER| SALESMAN|7698|09-08-1981|1500|   0|    30|  01-02-2022|\n",
            "| 7876| ADAMS|    CLERK|7788|23-05-1987|1100|null|    20|  02-02-2022|\n",
            "| 7900| JAMES|    CLERK|7698|12-03-1981| 950|null|    30|  03-02-2022|\n",
            "| 7902|  FORD|  ANALYST|7566|12-03-1981|3000|null|    20|  04-02-2022|\n",
            "| 7934|MILLER|    CLERK|7782|01-03-1982|1300|null|    10|  05-02-2022|\n",
            "| 1234|SEKHAR|   doctor|7777|      null| 667|  78|    80|  06-02-2022|\n",
            "| 7369| SMITH|    CLERK|7902|17-12-1980| 800|null|    20|  07-02-2022|\n",
            "| 7499| ALLEN| SALESMAN|7698|20-02-1981|1600| 300|    30|  08-02-2022|\n",
            "| 7521|  WARD| SALESMAN|7698|22-02-1981|1250| 500|    30|        null|\n",
            "| 7566| JONES|  MANAGER|7839|04-02-1981|2975|null|    20|  01-02-2021|\n",
            "+-----+------+---------+----+----------+----+----+------+------------+\n",
            "\n",
            "root\n",
            " |-- EMPNO: string (nullable = true)\n",
            " |-- ENAME: string (nullable = true)\n",
            " |-- JOB: string (nullable = true)\n",
            " |-- MGR: string (nullable = true)\n",
            " |-- HIREDATE: string (nullable = true)\n",
            " |-- SAL: string (nullable = true)\n",
            " |-- COMM: string (nullable = true)\n",
            " |-- DEPTNO: string (nullable = true)\n",
            " |-- UPDATED_DATE: string (nullable = true)\n",
            "\n"
          ]
        }
      ]
    },
    {
      "cell_type": "markdown",
      "source": [
        "# Skip rows in given file ?"
      ],
      "metadata": {
        "id": "4LCR2ou1j6ej"
      }
    },
    {
      "cell_type": "code",
      "source": [
        "r1 = spark.sparkContext.textFile('/content/emp_pipe_skip.txt').zipWithIndex().filter(lambda a : a[1]>2).map(lambda a : a[0].split('|'))\n",
        "\n",
        "r1.collect()"
      ],
      "metadata": {
        "colab": {
          "base_uri": "https://localhost:8080/"
        },
        "id": "BkV0T1mZWdVq",
        "outputId": "a078acf9-14c4-4b35-acba-a2cde8ec69f9"
      },
      "execution_count": 164,
      "outputs": [
        {
          "output_type": "execute_result",
          "data": {
            "text/plain": [
              "[['EMPNO',\n",
              "  'ENAME',\n",
              "  'JOB',\n",
              "  'MGR',\n",
              "  'HIREDATE',\n",
              "  'SAL',\n",
              "  'COMM',\n",
              "  'DEPTNO',\n",
              "  'UPDATED_DATE'],\n",
              " ['7369',\n",
              "  'SMITH',\n",
              "  'CLERK',\n",
              "  '7902',\n",
              "  '17-12-1980',\n",
              "  '800',\n",
              "  'null',\n",
              "  '20',\n",
              "  '01-01-2022'],\n",
              " ['7499',\n",
              "  'ALLEN',\n",
              "  'SALESMAN',\n",
              "  '7698',\n",
              "  '20-02-1981',\n",
              "  '1600',\n",
              "  '300',\n",
              "  '30',\n",
              "  '02-01-2022'],\n",
              " ['7521',\n",
              "  'WARD',\n",
              "  'SALESMAN',\n",
              "  '7698',\n",
              "  '22-02-1981',\n",
              "  '1250',\n",
              "  '500',\n",
              "  '30',\n",
              "  '03-01-2022'],\n",
              " ['7566',\n",
              "  'JONES',\n",
              "  'MANAGER',\n",
              "  '7839',\n",
              "  '04-02-1981',\n",
              "  '2975',\n",
              "  'null',\n",
              "  '20',\n",
              "  '04-01-2022'],\n",
              " ['7654',\n",
              "  'MARTIN',\n",
              "  'SALESMAN',\n",
              "  '7698',\n",
              "  '21-09-1981',\n",
              "  '1250',\n",
              "  '1400',\n",
              "  '30',\n",
              "  '05-01-2022'],\n",
              " ['7698',\n",
              "  'SGR',\n",
              "  'MANAGER',\n",
              "  '7839',\n",
              "  '05-01-1981',\n",
              "  '2850',\n",
              "  'null',\n",
              "  '30',\n",
              "  '06-01-2022'],\n",
              " ['7782',\n",
              "  'RAVI',\n",
              "  'MANAGER',\n",
              "  '7839',\n",
              "  '06-09-1981',\n",
              "  '2450',\n",
              "  'null',\n",
              "  '10',\n",
              "  '07-01-2022'],\n",
              " ['7788',\n",
              "  'SCOTT',\n",
              "  'ANALYST',\n",
              "  '7566',\n",
              "  '19-04-1987',\n",
              "  '3000',\n",
              "  'null',\n",
              "  '20',\n",
              "  '08-01-2022'],\n",
              " ['7839', 'KING', 'PRESIDENT', 'null', 'null', '5000', 'null', '10', 'null'],\n",
              " ['7844',\n",
              "  'TURNER',\n",
              "  'SALESMAN',\n",
              "  '7698',\n",
              "  '09-08-1981',\n",
              "  '1500',\n",
              "  '0',\n",
              "  '30',\n",
              "  '01-02-2022'],\n",
              " ['7876',\n",
              "  'ADAMS',\n",
              "  'CLERK',\n",
              "  '7788',\n",
              "  '23-05-1987',\n",
              "  '1100',\n",
              "  'null',\n",
              "  '20',\n",
              "  '02-02-2022'],\n",
              " ['7900',\n",
              "  'JAMES',\n",
              "  'CLERK',\n",
              "  '7698',\n",
              "  '12-03-1981',\n",
              "  '950',\n",
              "  'null',\n",
              "  '30',\n",
              "  '03-02-2022'],\n",
              " ['7902',\n",
              "  'FORD',\n",
              "  'ANALYST',\n",
              "  '7566',\n",
              "  '12-03-1981',\n",
              "  '3000',\n",
              "  'null',\n",
              "  '20',\n",
              "  '04-02-2022'],\n",
              " ['7934',\n",
              "  'MILLER',\n",
              "  'CLERK',\n",
              "  '7782',\n",
              "  '01-03-1982',\n",
              "  '1300',\n",
              "  'null',\n",
              "  '10',\n",
              "  '05-02-2022'],\n",
              " ['1234', 'SEKHAR', 'doctor', '7777', 'null', '667', '78', '80', '06-02-2022'],\n",
              " ['7369',\n",
              "  'SMITH',\n",
              "  'CLERK',\n",
              "  '7902',\n",
              "  '17-12-1980',\n",
              "  '800',\n",
              "  'null',\n",
              "  '20',\n",
              "  '07-02-2022'],\n",
              " ['7499',\n",
              "  'ALLEN',\n",
              "  'SALESMAN',\n",
              "  '7698',\n",
              "  '20-02-1981',\n",
              "  '1600',\n",
              "  '300',\n",
              "  '30',\n",
              "  '08-02-2022'],\n",
              " ['7521',\n",
              "  'WARD',\n",
              "  'SALESMAN',\n",
              "  '7698',\n",
              "  '22-02-1981',\n",
              "  '1250',\n",
              "  '500',\n",
              "  '30',\n",
              "  'null'],\n",
              " ['7566',\n",
              "  'JONES',\n",
              "  'MANAGER',\n",
              "  '7839',\n",
              "  '04-02-1981',\n",
              "  '2975',\n",
              "  'null',\n",
              "  '20',\n",
              "  '01-02-2021']]"
            ]
          },
          "metadata": {},
          "execution_count": 164
        }
      ]
    },
    {
      "cell_type": "code",
      "source": [
        "columns = r1.collect()[0]\n",
        "skipline = r1.collect()[0]\n",
        "print(columns)\n",
        "print(skipline)"
      ],
      "metadata": {
        "colab": {
          "base_uri": "https://localhost:8080/"
        },
        "id": "nSCK-r8zW7ts",
        "outputId": "c8ec3368-c0da-4508-c025-314f25a76179"
      },
      "execution_count": 166,
      "outputs": [
        {
          "output_type": "stream",
          "name": "stdout",
          "text": [
            "['EMPNO', 'ENAME', 'JOB', 'MGR', 'HIREDATE', 'SAL', 'COMM', 'DEPTNO', 'UPDATED_DATE']\n",
            "['EMPNO', 'ENAME', 'JOB', 'MGR', 'HIREDATE', 'SAL', 'COMM', 'DEPTNO', 'UPDATED_DATE']\n"
          ]
        }
      ]
    },
    {
      "cell_type": "code",
      "source": [
        "sk_df = r1.filter(lambda a : a!= skipline).toDF(columns)\n",
        "\n",
        "sk_df.show(10)\n",
        "print(sk_df.count())\n",
        "sk_df.printSchema()\n",
        "print(type(sk_df))\n"
      ],
      "metadata": {
        "colab": {
          "base_uri": "https://localhost:8080/"
        },
        "id": "-7TGp5atXPWy",
        "outputId": "7b6e4240-216e-4f77-977d-e40a34bc2b42"
      },
      "execution_count": 170,
      "outputs": [
        {
          "output_type": "stream",
          "name": "stdout",
          "text": [
            "+-----+------+---------+----+----------+----+----+------+------------+\n",
            "|EMPNO| ENAME|      JOB| MGR|  HIREDATE| SAL|COMM|DEPTNO|UPDATED_DATE|\n",
            "+-----+------+---------+----+----------+----+----+------+------------+\n",
            "| 7369| SMITH|    CLERK|7902|17-12-1980| 800|null|    20|  01-01-2022|\n",
            "| 7499| ALLEN| SALESMAN|7698|20-02-1981|1600| 300|    30|  02-01-2022|\n",
            "| 7521|  WARD| SALESMAN|7698|22-02-1981|1250| 500|    30|  03-01-2022|\n",
            "| 7566| JONES|  MANAGER|7839|04-02-1981|2975|null|    20|  04-01-2022|\n",
            "| 7654|MARTIN| SALESMAN|7698|21-09-1981|1250|1400|    30|  05-01-2022|\n",
            "| 7698|   SGR|  MANAGER|7839|05-01-1981|2850|null|    30|  06-01-2022|\n",
            "| 7782|  RAVI|  MANAGER|7839|06-09-1981|2450|null|    10|  07-01-2022|\n",
            "| 7788| SCOTT|  ANALYST|7566|19-04-1987|3000|null|    20|  08-01-2022|\n",
            "| 7839|  KING|PRESIDENT|null|      null|5000|null|    10|        null|\n",
            "| 7844|TURNER| SALESMAN|7698|09-08-1981|1500|   0|    30|  01-02-2022|\n",
            "+-----+------+---------+----+----------+----+----+------+------------+\n",
            "only showing top 10 rows\n",
            "\n",
            "19\n",
            "root\n",
            " |-- EMPNO: string (nullable = true)\n",
            " |-- ENAME: string (nullable = true)\n",
            " |-- JOB: string (nullable = true)\n",
            " |-- MGR: string (nullable = true)\n",
            " |-- HIREDATE: string (nullable = true)\n",
            " |-- SAL: string (nullable = true)\n",
            " |-- COMM: string (nullable = true)\n",
            " |-- DEPTNO: string (nullable = true)\n",
            " |-- UPDATED_DATE: string (nullable = true)\n",
            "\n",
            "<class 'pyspark.sql.dataframe.DataFrame'>\n"
          ]
        }
      ]
    },
    {
      "cell_type": "markdown",
      "source": [
        "# how to remove duplicates\n",
        "\n",
        "1.   distinct()\n",
        "2.   dropDuplicates()/drop_duplicates()\n",
        "3.   window function with row_number()\n",
        "4.   groupBy with Count()\n",
        "\n",
        "\n",
        "\n"
      ],
      "metadata": {
        "id": "dvdphjnOnK9y"
      }
    },
    {
      "cell_type": "code",
      "source": [
        "dup = spark.read.format('csv').option('header',True).option('inferSchema',True).load('/content/employee_dup.csv')\n",
        "dup.show()\n",
        "dup.count()"
      ],
      "metadata": {
        "id": "fhdLRAcMod9N",
        "colab": {
          "base_uri": "https://localhost:8080/"
        },
        "outputId": "db3ecd9f-52bb-4439-fc18-e3ec0b86516b"
      },
      "execution_count": 197,
      "outputs": [
        {
          "output_type": "stream",
          "name": "stdout",
          "text": [
            "+-----+------+---------+----+----+----+------+------------+\n",
            "|EMPNO| ENAME|      JOB| MGR| SAL|COMM|DEPTNO|UPDATED_DATE|\n",
            "+-----+------+---------+----+----+----+------+------------+\n",
            "| 7369| SMITH|    CLERK|7902| 800|null|    20|  01-01-2021|\n",
            "| 7499| ALLEN| SALESMAN|7698|1600| 300|    30|  02-01-2021|\n",
            "| 7521|  WARD| SALESMAN|7698|1250| 500|    30|  03-01-2021|\n",
            "| 7566| JONES|  MANAGER|7839|2975|null|    20|  04-01-2021|\n",
            "| 7654|MARTIN| SALESMAN|7698|1250|1400|    30|  05-01-2021|\n",
            "| 7698|   SGR|  MANAGER|7839|2850|null|    30|  06-01-2021|\n",
            "| 7782|  RAVI|  MANAGER|7839|2450|null|    10|  07-01-2021|\n",
            "| 7788| SCOTT|  ANALYST|7566|3000|null|    20|  08-01-2021|\n",
            "| 7839|  KING|PRESIDENT|null|5000|null|    10|        null|\n",
            "| 7369| SMITH|    CLERK|7902| 800|null|    20|  01-01-2021|\n",
            "| 7499| ALLEN| SALESMAN|7698|1600| 300|    30|  02-01-2021|\n",
            "| 7521|  WARD| SALESMAN|7698|1250| 500|    30|  03-01-2021|\n",
            "| 7566| JONES|  MANAGER|7839|2975|null|    20|  04-01-2021|\n",
            "| 7654|MARTIN| SALESMAN|7698|1250|1400|    30|  05-01-2021|\n",
            "| 7698|   SGR|  MANAGER|7839|2850|null|    30|  06-01-2021|\n",
            "| 7782|  RAVI|  MANAGER|7839|2450|null|    10|  07-01-2021|\n",
            "| 7788| SCOTT|  ANALYST|7566|3000|null|    20|  08-01-2021|\n",
            "| 7839|  KING|PRESIDENT|null|5000|null|    10|        null|\n",
            "+-----+------+---------+----+----+----+------+------------+\n",
            "\n"
          ]
        },
        {
          "output_type": "execute_result",
          "data": {
            "text/plain": [
              "18"
            ]
          },
          "metadata": {},
          "execution_count": 197
        }
      ]
    },
    {
      "cell_type": "code",
      "source": [
        "#distinct\n",
        "dist_df = dup.distinct()\n",
        "dist_df.show()\n",
        "dist_df.count()"
      ],
      "metadata": {
        "colab": {
          "base_uri": "https://localhost:8080/"
        },
        "id": "FMuF__JtbNMy",
        "outputId": "fb5559a8-8e66-4476-e104-2163d045dfe1"
      },
      "execution_count": 198,
      "outputs": [
        {
          "output_type": "stream",
          "name": "stdout",
          "text": [
            "+-----+------+---------+----+----+----+------+------------+\n",
            "|EMPNO| ENAME|      JOB| MGR| SAL|COMM|DEPTNO|UPDATED_DATE|\n",
            "+-----+------+---------+----+----+----+------+------------+\n",
            "| 7782|  RAVI|  MANAGER|7839|2450|null|    10|  07-01-2021|\n",
            "| 7369| SMITH|    CLERK|7902| 800|null|    20|  01-01-2021|\n",
            "| 7566| JONES|  MANAGER|7839|2975|null|    20|  04-01-2021|\n",
            "| 7839|  KING|PRESIDENT|null|5000|null|    10|        null|\n",
            "| 7698|   SGR|  MANAGER|7839|2850|null|    30|  06-01-2021|\n",
            "| 7499| ALLEN| SALESMAN|7698|1600| 300|    30|  02-01-2021|\n",
            "| 7788| SCOTT|  ANALYST|7566|3000|null|    20|  08-01-2021|\n",
            "| 7521|  WARD| SALESMAN|7698|1250| 500|    30|  03-01-2021|\n",
            "| 7654|MARTIN| SALESMAN|7698|1250|1400|    30|  05-01-2021|\n",
            "+-----+------+---------+----+----+----+------+------------+\n",
            "\n"
          ]
        },
        {
          "output_type": "execute_result",
          "data": {
            "text/plain": [
              "9"
            ]
          },
          "metadata": {},
          "execution_count": 198
        }
      ]
    },
    {
      "cell_type": "code",
      "source": [
        "#dropduplicates - it will keep only first record ,we will not get latest date data \n",
        "#so we need to use order by function and desc to drop duplicates\n",
        "\n",
        "drop_df = dup.orderBy(col('EMPNO').desc()).dropDuplicates(['EMPNO'])\n",
        "drop_df.show()"
      ],
      "metadata": {
        "colab": {
          "base_uri": "https://localhost:8080/"
        },
        "id": "on3JGESObwx4",
        "outputId": "a1e5cce2-28dc-49f1-e69a-22208049e5c5"
      },
      "execution_count": 199,
      "outputs": [
        {
          "output_type": "stream",
          "name": "stdout",
          "text": [
            "+-----+------+---------+----+----+----+------+------------+\n",
            "|EMPNO| ENAME|      JOB| MGR| SAL|COMM|DEPTNO|UPDATED_DATE|\n",
            "+-----+------+---------+----+----+----+------+------------+\n",
            "| 7369| SMITH|    CLERK|7902| 800|null|    20|  01-01-2021|\n",
            "| 7499| ALLEN| SALESMAN|7698|1600| 300|    30|  02-01-2021|\n",
            "| 7521|  WARD| SALESMAN|7698|1250| 500|    30|  03-01-2021|\n",
            "| 7566| JONES|  MANAGER|7839|2975|null|    20|  04-01-2021|\n",
            "| 7654|MARTIN| SALESMAN|7698|1250|1400|    30|  05-01-2021|\n",
            "| 7698|   SGR|  MANAGER|7839|2850|null|    30|  06-01-2021|\n",
            "| 7782|  RAVI|  MANAGER|7839|2450|null|    10|  07-01-2021|\n",
            "| 7788| SCOTT|  ANALYST|7566|3000|null|    20|  08-01-2021|\n",
            "| 7839|  KING|PRESIDENT|null|5000|null|    10|        null|\n",
            "+-----+------+---------+----+----+----+------+------------+\n",
            "\n"
          ]
        }
      ]
    },
    {
      "cell_type": "code",
      "source": [
        "# window Function wuth row number\n",
        "\n",
        "from pyspark.sql.window import *\n",
        "\n",
        "\n",
        "win_df = dup.withColumn('row',row_number().over(Window.partitionBy('EMPNO').orderBy( col('EMPNO').desc() )))\n",
        "\n",
        "\n",
        "# Good Data \n",
        "Unique_df = win_df.filter(col('row') ==  1)\n",
        "\n",
        "Unique_df.show()\n",
        "print(Unique_df.count())\n",
        "\n",
        "# Bad Data\n",
        "dupli_df = win_df.filter(col('row') != 1)\n",
        "\n",
        "dupli_df.show()\n",
        "print(dupli_df.count())\n"
      ],
      "metadata": {
        "id": "iiwNoMGA43ly",
        "colab": {
          "base_uri": "https://localhost:8080/"
        },
        "outputId": "a40d490a-5c95-4199-d89a-3a75cbad776a"
      },
      "execution_count": 205,
      "outputs": [
        {
          "output_type": "stream",
          "name": "stdout",
          "text": [
            "+-----+------+---------+----+----+----+------+------------+---+\n",
            "|EMPNO| ENAME|      JOB| MGR| SAL|COMM|DEPTNO|UPDATED_DATE|row|\n",
            "+-----+------+---------+----+----+----+------+------------+---+\n",
            "| 7369| SMITH|    CLERK|7902| 800|null|    20|  01-01-2021|  1|\n",
            "| 7499| ALLEN| SALESMAN|7698|1600| 300|    30|  02-01-2021|  1|\n",
            "| 7521|  WARD| SALESMAN|7698|1250| 500|    30|  03-01-2021|  1|\n",
            "| 7566| JONES|  MANAGER|7839|2975|null|    20|  04-01-2021|  1|\n",
            "| 7654|MARTIN| SALESMAN|7698|1250|1400|    30|  05-01-2021|  1|\n",
            "| 7698|   SGR|  MANAGER|7839|2850|null|    30|  06-01-2021|  1|\n",
            "| 7782|  RAVI|  MANAGER|7839|2450|null|    10|  07-01-2021|  1|\n",
            "| 7788| SCOTT|  ANALYST|7566|3000|null|    20|  08-01-2021|  1|\n",
            "| 7839|  KING|PRESIDENT|null|5000|null|    10|        null|  1|\n",
            "+-----+------+---------+----+----+----+------+------------+---+\n",
            "\n",
            "9\n",
            "+-----+------+---------+----+----+----+------+------------+---+\n",
            "|EMPNO| ENAME|      JOB| MGR| SAL|COMM|DEPTNO|UPDATED_DATE|row|\n",
            "+-----+------+---------+----+----+----+------+------------+---+\n",
            "| 7369| SMITH|    CLERK|7902| 800|null|    20|  01-01-2021|  2|\n",
            "| 7499| ALLEN| SALESMAN|7698|1600| 300|    30|  02-01-2021|  2|\n",
            "| 7521|  WARD| SALESMAN|7698|1250| 500|    30|  03-01-2021|  2|\n",
            "| 7566| JONES|  MANAGER|7839|2975|null|    20|  04-01-2021|  2|\n",
            "| 7654|MARTIN| SALESMAN|7698|1250|1400|    30|  05-01-2021|  2|\n",
            "| 7698|   SGR|  MANAGER|7839|2850|null|    30|  06-01-2021|  2|\n",
            "| 7782|  RAVI|  MANAGER|7839|2450|null|    10|  07-01-2021|  2|\n",
            "| 7788| SCOTT|  ANALYST|7566|3000|null|    20|  08-01-2021|  2|\n",
            "| 7839|  KING|PRESIDENT|null|5000|null|    10|        null|  2|\n",
            "+-----+------+---------+----+----+----+------+------------+---+\n",
            "\n",
            "9\n"
          ]
        }
      ]
    },
    {
      "cell_type": "markdown",
      "source": [
        "# how to read all files from a single floder"
      ],
      "metadata": {
        "id": "yQdbp3VcIOqb"
      }
    },
    {
      "cell_type": "code",
      "source": [
        "da = spark.read.format('csv').option('header',True).option('nullValue','null').option('inferSchema',True).load('/content/Data/')\n",
        "\n",
        "da.show()\n",
        "da.count()"
      ],
      "metadata": {
        "colab": {
          "base_uri": "https://localhost:8080/",
          "height": 377
        },
        "id": "iut2V5c2IeB8",
        "outputId": "e515e11b-3de1-4a9d-9bc7-df0cc6553d1e"
      },
      "execution_count": null,
      "outputs": [
        {
          "output_type": "error",
          "ename": "AnalysisException",
          "evalue": "ignored",
          "traceback": [
            "\u001b[0;31m---------------------------------------------------------------------------\u001b[0m",
            "\u001b[0;31mAnalysisException\u001b[0m                         Traceback (most recent call last)",
            "\u001b[0;32m<ipython-input-35-5c4b1da13c25>\u001b[0m in \u001b[0;36m<module>\u001b[0;34m\u001b[0m\n\u001b[0;32m----> 1\u001b[0;31m \u001b[0mda\u001b[0m \u001b[0;34m=\u001b[0m \u001b[0mspark\u001b[0m\u001b[0;34m.\u001b[0m\u001b[0mread\u001b[0m\u001b[0;34m.\u001b[0m\u001b[0mformat\u001b[0m\u001b[0;34m(\u001b[0m\u001b[0;34m'csv'\u001b[0m\u001b[0;34m)\u001b[0m\u001b[0;34m.\u001b[0m\u001b[0moption\u001b[0m\u001b[0;34m(\u001b[0m\u001b[0;34m'header'\u001b[0m\u001b[0;34m,\u001b[0m\u001b[0;32mTrue\u001b[0m\u001b[0;34m)\u001b[0m\u001b[0;34m.\u001b[0m\u001b[0moption\u001b[0m\u001b[0;34m(\u001b[0m\u001b[0;34m'nullValue'\u001b[0m\u001b[0;34m,\u001b[0m\u001b[0;34m'null'\u001b[0m\u001b[0;34m)\u001b[0m\u001b[0;34m.\u001b[0m\u001b[0moption\u001b[0m\u001b[0;34m(\u001b[0m\u001b[0;34m'inferSchema'\u001b[0m\u001b[0;34m,\u001b[0m\u001b[0;32mTrue\u001b[0m\u001b[0;34m)\u001b[0m\u001b[0;34m.\u001b[0m\u001b[0mload\u001b[0m\u001b[0;34m(\u001b[0m\u001b[0;34m'/content/Data/'\u001b[0m\u001b[0;34m)\u001b[0m\u001b[0;34m\u001b[0m\u001b[0;34m\u001b[0m\u001b[0m\n\u001b[0m\u001b[1;32m      2\u001b[0m \u001b[0;34m\u001b[0m\u001b[0m\n\u001b[1;32m      3\u001b[0m \u001b[0mda\u001b[0m\u001b[0;34m.\u001b[0m\u001b[0mshow\u001b[0m\u001b[0;34m(\u001b[0m\u001b[0;34m)\u001b[0m\u001b[0;34m\u001b[0m\u001b[0;34m\u001b[0m\u001b[0m\n\u001b[1;32m      4\u001b[0m \u001b[0mda\u001b[0m\u001b[0;34m.\u001b[0m\u001b[0mcount\u001b[0m\u001b[0;34m(\u001b[0m\u001b[0;34m)\u001b[0m\u001b[0;34m\u001b[0m\u001b[0;34m\u001b[0m\u001b[0m\n",
            "\u001b[0;32m/usr/local/lib/python3.8/dist-packages/pyspark/sql/readwriter.py\u001b[0m in \u001b[0;36mload\u001b[0;34m(self, path, format, schema, **options)\u001b[0m\n\u001b[1;32m    175\u001b[0m         \u001b[0mself\u001b[0m\u001b[0;34m.\u001b[0m\u001b[0moptions\u001b[0m\u001b[0;34m(\u001b[0m\u001b[0;34m**\u001b[0m\u001b[0moptions\u001b[0m\u001b[0;34m)\u001b[0m\u001b[0;34m\u001b[0m\u001b[0;34m\u001b[0m\u001b[0m\n\u001b[1;32m    176\u001b[0m         \u001b[0;32mif\u001b[0m \u001b[0misinstance\u001b[0m\u001b[0;34m(\u001b[0m\u001b[0mpath\u001b[0m\u001b[0;34m,\u001b[0m \u001b[0mstr\u001b[0m\u001b[0;34m)\u001b[0m\u001b[0;34m:\u001b[0m\u001b[0;34m\u001b[0m\u001b[0;34m\u001b[0m\u001b[0m\n\u001b[0;32m--> 177\u001b[0;31m             \u001b[0;32mreturn\u001b[0m \u001b[0mself\u001b[0m\u001b[0;34m.\u001b[0m\u001b[0m_df\u001b[0m\u001b[0;34m(\u001b[0m\u001b[0mself\u001b[0m\u001b[0;34m.\u001b[0m\u001b[0m_jreader\u001b[0m\u001b[0;34m.\u001b[0m\u001b[0mload\u001b[0m\u001b[0;34m(\u001b[0m\u001b[0mpath\u001b[0m\u001b[0;34m)\u001b[0m\u001b[0;34m)\u001b[0m\u001b[0;34m\u001b[0m\u001b[0;34m\u001b[0m\u001b[0m\n\u001b[0m\u001b[1;32m    178\u001b[0m         \u001b[0;32melif\u001b[0m \u001b[0mpath\u001b[0m \u001b[0;32mis\u001b[0m \u001b[0;32mnot\u001b[0m \u001b[0;32mNone\u001b[0m\u001b[0;34m:\u001b[0m\u001b[0;34m\u001b[0m\u001b[0;34m\u001b[0m\u001b[0m\n\u001b[1;32m    179\u001b[0m             \u001b[0;32mif\u001b[0m \u001b[0mtype\u001b[0m\u001b[0;34m(\u001b[0m\u001b[0mpath\u001b[0m\u001b[0;34m)\u001b[0m \u001b[0;34m!=\u001b[0m \u001b[0mlist\u001b[0m\u001b[0;34m:\u001b[0m\u001b[0;34m\u001b[0m\u001b[0;34m\u001b[0m\u001b[0m\n",
            "\u001b[0;32m/usr/local/lib/python3.8/dist-packages/py4j/java_gateway.py\u001b[0m in \u001b[0;36m__call__\u001b[0;34m(self, *args)\u001b[0m\n\u001b[1;32m   1319\u001b[0m \u001b[0;34m\u001b[0m\u001b[0m\n\u001b[1;32m   1320\u001b[0m         \u001b[0manswer\u001b[0m \u001b[0;34m=\u001b[0m \u001b[0mself\u001b[0m\u001b[0;34m.\u001b[0m\u001b[0mgateway_client\u001b[0m\u001b[0;34m.\u001b[0m\u001b[0msend_command\u001b[0m\u001b[0;34m(\u001b[0m\u001b[0mcommand\u001b[0m\u001b[0;34m)\u001b[0m\u001b[0;34m\u001b[0m\u001b[0;34m\u001b[0m\u001b[0m\n\u001b[0;32m-> 1321\u001b[0;31m         return_value = get_return_value(\n\u001b[0m\u001b[1;32m   1322\u001b[0m             answer, self.gateway_client, self.target_id, self.name)\n\u001b[1;32m   1323\u001b[0m \u001b[0;34m\u001b[0m\u001b[0m\n",
            "\u001b[0;32m/usr/local/lib/python3.8/dist-packages/pyspark/sql/utils.py\u001b[0m in \u001b[0;36mdeco\u001b[0;34m(*a, **kw)\u001b[0m\n\u001b[1;32m    194\u001b[0m                 \u001b[0;31m# Hide where the exception came from that shows a non-Pythonic\u001b[0m\u001b[0;34m\u001b[0m\u001b[0;34m\u001b[0m\u001b[0;34m\u001b[0m\u001b[0m\n\u001b[1;32m    195\u001b[0m                 \u001b[0;31m# JVM exception message.\u001b[0m\u001b[0;34m\u001b[0m\u001b[0;34m\u001b[0m\u001b[0;34m\u001b[0m\u001b[0m\n\u001b[0;32m--> 196\u001b[0;31m                 \u001b[0;32mraise\u001b[0m \u001b[0mconverted\u001b[0m \u001b[0;32mfrom\u001b[0m \u001b[0;32mNone\u001b[0m\u001b[0;34m\u001b[0m\u001b[0;34m\u001b[0m\u001b[0m\n\u001b[0m\u001b[1;32m    197\u001b[0m             \u001b[0;32melse\u001b[0m\u001b[0;34m:\u001b[0m\u001b[0;34m\u001b[0m\u001b[0;34m\u001b[0m\u001b[0m\n\u001b[1;32m    198\u001b[0m                 \u001b[0;32mraise\u001b[0m\u001b[0;34m\u001b[0m\u001b[0;34m\u001b[0m\u001b[0m\n",
            "\u001b[0;31mAnalysisException\u001b[0m: Path does not exist: file:/content/Data"
          ]
        }
      ]
    },
    {
      "cell_type": "markdown",
      "source": [
        "# how to read all files from a floder inside another floder (nested/sub floders)"
      ],
      "metadata": {
        "id": "LS4aj91HPoyC"
      }
    },
    {
      "cell_type": "code",
      "source": [
        "ne_da = spark.read.format('csv').option('recursiveFileLookup',True).option('header',True).option('nullValue','null').option('inferSchema',True).load('/content/Data')\n",
        "\n",
        "\n",
        "ne_da.show()\n",
        "ne_da.count()"
      ],
      "metadata": {
        "id": "IeDjXdGUP7OX"
      },
      "execution_count": null,
      "outputs": []
    },
    {
      "cell_type": "markdown",
      "source": [
        "# print file name with location"
      ],
      "metadata": {
        "id": "id2SoGG5RFd_"
      }
    },
    {
      "cell_type": "code",
      "source": [
        "from pyspark.sql.functions import *\n",
        "df.show(10)\n",
        "\n",
        "fi_na = df.withColumn('file_Location',input_file_name())\n",
        "\n",
        "fi_na.show(10)\n",
        "\n",
        "\n",
        "\n"
      ],
      "metadata": {
        "id": "WbE_AbR2RMJn",
        "colab": {
          "base_uri": "https://localhost:8080/"
        },
        "outputId": "13d1e231-8739-4810-8ce4-e47aa609f9de"
      },
      "execution_count": 216,
      "outputs": [
        {
          "output_type": "stream",
          "name": "stdout",
          "text": [
            "+-----+------+---------+----+----------+----+----+------+------------+\n",
            "|EMPNO| ENAME|      JOB| MGR|  HIREDATE| SAL|COMM|DEPTNO|UPDATED_DATE|\n",
            "+-----+------+---------+----+----------+----+----+------+------------+\n",
            "| 7369| SMITH|    CLERK|7902|17-12-1980| 800|null|    20|  01-01-2022|\n",
            "| 7499| ALLEN| SALESMAN|7698|20-02-1981|1600| 300|    30|  02-01-2022|\n",
            "| 7521|  WARD| SALESMAN|7698|22-02-1981|1250| 500|    30|  03-01-2022|\n",
            "| 7566| JONES|  MANAGER|7839|04-02-1981|2975|null|    20|  04-01-2022|\n",
            "| 7654|MARTIN| SALESMAN|7698|21-09-1981|1250|1400|    30|  05-01-2022|\n",
            "| 7698|   SGR|  MANAGER|7839|05-01-1981|2850|null|    30|  06-01-2022|\n",
            "| 7782|  RAVI|  MANAGER|7839|06-09-1981|2450|null|    10|  07-01-2022|\n",
            "| 7788| SCOTT|  ANALYST|7566|19-04-1987|3000|null|    20|  08-01-2022|\n",
            "| 7839|  KING|PRESIDENT|null|      null|5000|null|    10|        null|\n",
            "| 7844|TURNER| SALESMAN|7698|09-08-1981|1500|   0|    30|  01-02-2022|\n",
            "+-----+------+---------+----+----------+----+----+------+------------+\n",
            "only showing top 10 rows\n",
            "\n",
            "+-----+------+---------+----+----------+----+----+------+------------+--------------------+\n",
            "|EMPNO| ENAME|      JOB| MGR|  HIREDATE| SAL|COMM|DEPTNO|UPDATED_DATE|       file_Location|\n",
            "+-----+------+---------+----+----------+----+----+------+------------+--------------------+\n",
            "| 7369| SMITH|    CLERK|7902|17-12-1980| 800|null|    20|  01-01-2022|file:/content/emp...|\n",
            "| 7499| ALLEN| SALESMAN|7698|20-02-1981|1600| 300|    30|  02-01-2022|file:/content/emp...|\n",
            "| 7521|  WARD| SALESMAN|7698|22-02-1981|1250| 500|    30|  03-01-2022|file:/content/emp...|\n",
            "| 7566| JONES|  MANAGER|7839|04-02-1981|2975|null|    20|  04-01-2022|file:/content/emp...|\n",
            "| 7654|MARTIN| SALESMAN|7698|21-09-1981|1250|1400|    30|  05-01-2022|file:/content/emp...|\n",
            "| 7698|   SGR|  MANAGER|7839|05-01-1981|2850|null|    30|  06-01-2022|file:/content/emp...|\n",
            "| 7782|  RAVI|  MANAGER|7839|06-09-1981|2450|null|    10|  07-01-2022|file:/content/emp...|\n",
            "| 7788| SCOTT|  ANALYST|7566|19-04-1987|3000|null|    20|  08-01-2022|file:/content/emp...|\n",
            "| 7839|  KING|PRESIDENT|null|      null|5000|null|    10|        null|file:/content/emp...|\n",
            "| 7844|TURNER| SALESMAN|7698|09-08-1981|1500|   0|    30|  01-02-2022|file:/content/emp...|\n",
            "+-----+------+---------+----+----------+----+----+------+------------+--------------------+\n",
            "only showing top 10 rows\n",
            "\n"
          ]
        }
      ]
    },
    {
      "cell_type": "markdown",
      "source": [
        "# how to get no.of rows for each file?"
      ],
      "metadata": {
        "id": "G4ZwOoQpTYvQ"
      }
    },
    {
      "cell_type": "code",
      "source": [
        "fi_na.groupBy('file_Location').count().show(truncate=False)"
      ],
      "metadata": {
        "colab": {
          "base_uri": "https://localhost:8080/"
        },
        "id": "ksZFUkXdszjb",
        "outputId": "a7979ff6-811e-480e-f6f7-ac2e20b224f3"
      },
      "execution_count": 219,
      "outputs": [
        {
          "output_type": "stream",
          "name": "stdout",
          "text": [
            "+-------------------------------+-----+\n",
            "|file_Location                  |count|\n",
            "+-------------------------------+-----+\n",
            "|file:/content/emp_pipe_skip.txt|19   |\n",
            "+-------------------------------+-----+\n",
            "\n"
          ]
        }
      ]
    },
    {
      "cell_type": "markdown",
      "source": [
        "# how to get no.of rows in each partition"
      ],
      "metadata": {
        "id": "Ud8yVOQJcMCg"
      }
    },
    {
      "cell_type": "code",
      "source": [
        "fi_na.select(spark_partition_id().alias('id')).groupBy('id').count().show()"
      ],
      "metadata": {
        "colab": {
          "base_uri": "https://localhost:8080/"
        },
        "id": "sKXrpR61tL8K",
        "outputId": "7e5d7987-d289-4486-905b-faa7d5ac1b3b"
      },
      "execution_count": 220,
      "outputs": [
        {
          "output_type": "stream",
          "name": "stdout",
          "text": [
            "+---+-----+\n",
            "| id|count|\n",
            "+---+-----+\n",
            "|  0|   19|\n",
            "+---+-----+\n",
            "\n"
          ]
        }
      ]
    },
    {
      "cell_type": "code",
      "source": [
        "fi_na.repartition(3).select(spark_partition_id().alias('id')).groupBy('id').count().show()"
      ],
      "metadata": {
        "colab": {
          "base_uri": "https://localhost:8080/"
        },
        "id": "p6w4qWr6tqLs",
        "outputId": "710f5ecb-eb3b-45e8-a6dc-a7f96442a442"
      },
      "execution_count": 221,
      "outputs": [
        {
          "output_type": "stream",
          "name": "stdout",
          "text": [
            "+---+-----+\n",
            "| id|count|\n",
            "+---+-----+\n",
            "|  0|    7|\n",
            "|  1|    6|\n",
            "|  2|    6|\n",
            "+---+-----+\n",
            "\n"
          ]
        }
      ]
    },
    {
      "cell_type": "markdown",
      "source": [
        "# how to add/generate sequence id /surrogate key as a column\n",
        "\n",
        "\n",
        "1.   monotonically_increasing_id()\n",
        "2.   row_number() - window function\n",
        "3.   crc32   - generate random numbers\n",
        "4.   md5     - hash key generater function\n",
        "5.   sha1 and sha2 -hash key generate function\n",
        "\n",
        "\n",
        "\n",
        "\n",
        "\n",
        "\n"
      ],
      "metadata": {
        "id": "ogY8HYsYg5LP"
      }
    },
    {
      "cell_type": "code",
      "source": [
        "surr = spark.read.format('csv').option('header',True).option('nullValue','null') \\\n",
        "                .load('/content/employee.csv').dropna(how = 'any').orderBy(col('EMPNO').desc()).dropDuplicates(['EMPNO'])\n",
        "surr.show()\n",
        "surr.count()\n"
      ],
      "metadata": {
        "colab": {
          "base_uri": "https://localhost:8080/"
        },
        "id": "vVHMmjiBvfEC",
        "outputId": "87857058-87bc-4a13-8319-91fc1202341d"
      },
      "execution_count": 232,
      "outputs": [
        {
          "output_type": "stream",
          "name": "stdout",
          "text": [
            "+-----+------+--------+----+----------+----+----+------+------------+\n",
            "|EMPNO| ENAME|     JOB| MGR|  HIREDATE| SAL|COMM|DEPTNO|UPDATED_DATE|\n",
            "+-----+------+--------+----+----------+----+----+------+------------+\n",
            "| 7499| ALLEN|SALESMAN|7698|20-02-1981|1600| 300|    30|  02-01-2022|\n",
            "| 7521|  WARD|SALESMAN|7698|22-02-1981|1250| 500|    30|  03-01-2022|\n",
            "| 7654|MARTIN|SALESMAN|7698|21-09-1981|1250| 600|    30|  05-01-2022|\n",
            "| 7698|   SGR| MANAGER|7839|05-01-1981|2850| 500|    30|  06-01-2022|\n",
            "| 7782|  RAVI| MANAGER|7839|06-09-1981|2450|  14|    10|  04-02-2021|\n",
            "| 7788| SCOTT| ANALYST|7566|19-04-1987|3000|1200|    20|  08-01-2022|\n",
            "| 7844|TURNER|SALESMAN|7698|09-08-1981|1500|   0|    30|  01-02-2022|\n",
            "| 7876| ADAMS|   CLERK|7788|23-05-1987|1100| 100|    20|  02-02-2022|\n",
            "| 7902|  FORD| ANALYST|7566|12-03-1981|3000| 400|    20|  04-02-2022|\n",
            "| 7934|MILLER|   CLERK|7782|01-03-1982|1300| 100|    10|  02-01-2021|\n",
            "+-----+------+--------+----+----------+----+----+------+------------+\n",
            "\n"
          ]
        },
        {
          "output_type": "execute_result",
          "data": {
            "text/plain": [
              "10"
            ]
          },
          "metadata": {},
          "execution_count": 232
        }
      ]
    },
    {
      "cell_type": "markdown",
      "source": [
        "# monotonically_increasing_id"
      ],
      "metadata": {
        "id": "NIIV5Rgcct3r"
      }
    },
    {
      "cell_type": "code",
      "source": [
        "#monotonically_increasing_id\n",
        "mono = surr.withColumn('Mono_id',monotonically_increasing_id())\n",
        "mono.show()\n",
        "\n",
        "\n",
        "# from custom id\n",
        "\n",
        "mono1 = surr.withColumn('mono_id',monotonically_increasing_id()+1)\n",
        "mono1.show()"
      ],
      "metadata": {
        "colab": {
          "base_uri": "https://localhost:8080/"
        },
        "id": "THGM5VnW0GHp",
        "outputId": "dfca6fdf-687b-40b5-dfe0-9536a4e84700"
      },
      "execution_count": 235,
      "outputs": [
        {
          "output_type": "stream",
          "name": "stdout",
          "text": [
            "+-----+------+--------+----+----------+----+----+------+------------+-------+\n",
            "|EMPNO| ENAME|     JOB| MGR|  HIREDATE| SAL|COMM|DEPTNO|UPDATED_DATE|Mono_id|\n",
            "+-----+------+--------+----+----------+----+----+------+------------+-------+\n",
            "| 7499| ALLEN|SALESMAN|7698|20-02-1981|1600| 300|    30|  02-01-2022|      0|\n",
            "| 7521|  WARD|SALESMAN|7698|22-02-1981|1250| 500|    30|  03-01-2022|      1|\n",
            "| 7654|MARTIN|SALESMAN|7698|21-09-1981|1250| 600|    30|  05-01-2022|      2|\n",
            "| 7698|   SGR| MANAGER|7839|05-01-1981|2850| 500|    30|  06-01-2022|      3|\n",
            "| 7782|  RAVI| MANAGER|7839|06-09-1981|2450|  14|    10|  04-02-2021|      4|\n",
            "| 7788| SCOTT| ANALYST|7566|19-04-1987|3000|1200|    20|  08-01-2022|      5|\n",
            "| 7844|TURNER|SALESMAN|7698|09-08-1981|1500|   0|    30|  01-02-2022|      6|\n",
            "| 7876| ADAMS|   CLERK|7788|23-05-1987|1100| 100|    20|  02-02-2022|      7|\n",
            "| 7902|  FORD| ANALYST|7566|12-03-1981|3000| 400|    20|  04-02-2022|      8|\n",
            "| 7934|MILLER|   CLERK|7782|01-03-1982|1300| 100|    10|  02-01-2021|      9|\n",
            "+-----+------+--------+----+----------+----+----+------+------------+-------+\n",
            "\n",
            "+-----+------+--------+----+----------+----+----+------+------------+-------+\n",
            "|EMPNO| ENAME|     JOB| MGR|  HIREDATE| SAL|COMM|DEPTNO|UPDATED_DATE|mono_id|\n",
            "+-----+------+--------+----+----------+----+----+------+------------+-------+\n",
            "| 7499| ALLEN|SALESMAN|7698|20-02-1981|1600| 300|    30|  02-01-2022|      1|\n",
            "| 7521|  WARD|SALESMAN|7698|22-02-1981|1250| 500|    30|  03-01-2022|      2|\n",
            "| 7654|MARTIN|SALESMAN|7698|21-09-1981|1250| 600|    30|  05-01-2022|      3|\n",
            "| 7698|   SGR| MANAGER|7839|05-01-1981|2850| 500|    30|  06-01-2022|      4|\n",
            "| 7782|  RAVI| MANAGER|7839|06-09-1981|2450|  14|    10|  04-02-2021|      5|\n",
            "| 7788| SCOTT| ANALYST|7566|19-04-1987|3000|1200|    20|  08-01-2022|      6|\n",
            "| 7844|TURNER|SALESMAN|7698|09-08-1981|1500|   0|    30|  01-02-2022|      7|\n",
            "| 7876| ADAMS|   CLERK|7788|23-05-1987|1100| 100|    20|  02-02-2022|      8|\n",
            "| 7902|  FORD| ANALYST|7566|12-03-1981|3000| 400|    20|  04-02-2022|      9|\n",
            "| 7934|MILLER|   CLERK|7782|01-03-1982|1300| 100|    10|  02-01-2021|     10|\n",
            "+-----+------+--------+----+----------+----+----+------+------------+-------+\n",
            "\n"
          ]
        }
      ]
    },
    {
      "cell_type": "markdown",
      "source": [
        "#  row_number"
      ],
      "metadata": {
        "id": "tjoIeD4o2lt4"
      }
    },
    {
      "cell_type": "code",
      "source": [
        "from pyspark.sql.functions import *\n",
        "\n",
        "from pyspark.sql.window import *\n",
        "\n",
        "row_df = surr.withColumn('row_num',row_number().over(Window.partitionBy(lit('')).orderBy(lit(''))))\n",
        "\n",
        "row_df.show()"
      ],
      "metadata": {
        "colab": {
          "base_uri": "https://localhost:8080/"
        },
        "id": "y2kvPzZd1OGS",
        "outputId": "66298d7e-3110-4ba4-c108-4e791cbf783f"
      },
      "execution_count": 240,
      "outputs": [
        {
          "output_type": "stream",
          "name": "stdout",
          "text": [
            "+-----+------+--------+----+----------+----+----+------+------------+-------+\n",
            "|EMPNO| ENAME|     JOB| MGR|  HIREDATE| SAL|COMM|DEPTNO|UPDATED_DATE|row_num|\n",
            "+-----+------+--------+----+----------+----+----+------+------------+-------+\n",
            "| 7499| ALLEN|SALESMAN|7698|20-02-1981|1600| 300|    30|  02-01-2022|      1|\n",
            "| 7521|  WARD|SALESMAN|7698|22-02-1981|1250| 500|    30|  03-01-2022|      2|\n",
            "| 7654|MARTIN|SALESMAN|7698|21-09-1981|1250| 600|    30|  05-01-2022|      3|\n",
            "| 7698|   SGR| MANAGER|7839|05-01-1981|2850| 500|    30|  06-01-2022|      4|\n",
            "| 7782|  RAVI| MANAGER|7839|06-09-1981|2450|  14|    10|  04-02-2021|      5|\n",
            "| 7788| SCOTT| ANALYST|7566|19-04-1987|3000|1200|    20|  08-01-2022|      6|\n",
            "| 7844|TURNER|SALESMAN|7698|09-08-1981|1500|   0|    30|  01-02-2022|      7|\n",
            "| 7876| ADAMS|   CLERK|7788|23-05-1987|1100| 100|    20|  02-02-2022|      8|\n",
            "| 7902|  FORD| ANALYST|7566|12-03-1981|3000| 400|    20|  04-02-2022|      9|\n",
            "| 7934|MILLER|   CLERK|7782|01-03-1982|1300| 100|    10|  02-01-2021|     10|\n",
            "+-----+------+--------+----+----------+----+----+------+------------+-------+\n",
            "\n"
          ]
        }
      ]
    },
    {
      "cell_type": "markdown",
      "source": [
        "# crc32 \n",
        "\n",
        "1.generate random numbers - it is works only on string data type\n",
        "\n",
        "2.We should not use crc32 surrogate key generation on larger table because it can generate duplicate sequence if more than 100k/1M records\n",
        "\n"
      ],
      "metadata": {
        "id": "lZRkCb4ucY79"
      }
    },
    {
      "cell_type": "code",
      "source": [
        "from pyspark.sql.functions import *\n",
        "\n",
        "crc_df = surr.withColumn('crc',crc32(col('EMPNO').cast('string')))\n",
        "\n",
        "crc_df.show()"
      ],
      "metadata": {
        "colab": {
          "base_uri": "https://localhost:8080/"
        },
        "id": "MOr_WkQLnkuF",
        "outputId": "2686f182-3770-4d10-dbc5-e16537b66516"
      },
      "execution_count": null,
      "outputs": [
        {
          "output_type": "stream",
          "name": "stdout",
          "text": [
            "+-----+------+--------+----+----------+----+----+------+------------+----------+\n",
            "|EMPNO| ENAME|     JOB| MGR|  HIREDATE| SAL|COMM|DEPTNO|UPDATED_DATE|     crc32|\n",
            "+-----+------+--------+----+----------+----+----+------+------------+----------+\n",
            "| 7499| ALLEN|SALESMAN|7698|20-02-1981|1600| 300|    30|  02-01-2022|1046173690|\n",
            "| 7521|  WARD|SALESMAN|7698|22-02-1981|1250| 500|    30|  03-01-2022|3535170612|\n",
            "| 7654|MARTIN|SALESMAN|7698|21-09-1981|1250| 600|    30|  05-01-2022|4024152101|\n",
            "| 7698|   SGR| MANAGER|7839|05-01-1981|2850| 500|    30|  06-01-2022|1255715586|\n",
            "| 7782|  RAVI| MANAGER|7839|06-09-1981|2450|  14|    10|  04-02-2021|3000238442|\n",
            "| 7788| SCOTT| ANALYST|7566|19-04-1987|3000|1200|    20|  08-01-2022|1375856756|\n",
            "| 7844|TURNER|SALESMAN|7698|09-08-1981|1500|   0|    30|  01-02-2022|4234062958|\n",
            "| 7876| ADAMS|   CLERK|7788|23-05-1987|1100| 100|    20|  02-02-2022| 964533889|\n",
            "| 7902|  FORD| ANALYST|7566|12-03-1981|3000| 400|    20|  04-02-2022|1888724584|\n",
            "| 7934|MILLER|   CLERK|7782|01-03-1982|1300| 100|    10|  02-01-2021|3000848542|\n",
            "+-----+------+--------+----+----------+----+----+------+------------+----------+\n",
            "\n"
          ]
        }
      ]
    },
    {
      "cell_type": "code",
      "source": [
        "\n",
        "# crc32 with key generation with two columns\n",
        "\n",
        "crc_df = spark.read.format('csv').option('header',True).load('/content/sample_data/california_housing_test.csv')\n",
        "crc_df = crc_df.withColumn('Location',concat(col('latitude'),col('longitude')))\n",
        "crc_df = crc_df.withColumn('CRC_32',crc32(col('Location')))\n",
        "crc_df = crc_df.withColumn('Duplicates',row_number().over(Window.partitionBy('CRC_32').orderBy('CRC_32')))\n",
        "crc_df = crc_df.filter(col('Duplicates')>1)\n",
        "crc_df.show()\n",
        "crc_df.count()"
      ],
      "metadata": {
        "colab": {
          "base_uri": "https://localhost:8080/"
        },
        "id": "uIZjxI-f5ZeG",
        "outputId": "1fcaff0e-99ae-4aba-a0c2-bc81b8653aa3"
      },
      "execution_count": null,
      "outputs": [
        {
          "output_type": "stream",
          "name": "stdout",
          "text": [
            "+-----------+---------+------------------+-----------+--------------+-----------+-----------+-------------+------------------+--------------------+---------+----------+\n",
            "|  longitude| latitude|housing_median_age|total_rooms|total_bedrooms| population| households|median_income|median_house_value|            Location|   CRC_32|Duplicates|\n",
            "+-----------+---------+------------------+-----------+--------------+-----------+-----------+-------------+------------------+--------------------+---------+----------+\n",
            "|-118.380000|34.050000|         35.000000|3517.000000|    879.000000|1632.000000| 784.000000|     3.095600|     500001.000000|34.050000-118.380000| 11051636|         2|\n",
            "|-122.540000|37.900000|         48.000000|2491.000000|    460.000000| 937.000000| 455.000000|     4.437500|     370000.000000|37.900000-122.540000| 66409223|         2|\n",
            "|-118.400000|33.870000|         26.000000|6712.000000|   1441.000000|2803.000000|1394.000000|     5.227600|     434500.000000|33.870000-118.400000|106117307|         2|\n",
            "|-118.200000|34.020000|         48.000000|2230.000000|    593.000000|2419.000000| 598.000000|     2.394400|     130700.000000|34.020000-118.200000|108905061|         2|\n",
            "|-122.420000|37.620000|         36.000000|1017.000000|    165.000000| 407.000000| 159.000000|     4.800000|     306800.000000|37.620000-122.420000|113992628|         2|\n",
            "|-118.290000|33.910000|         41.000000|2475.000000|    532.000000|1416.000000| 470.000000|     3.837200|     156400.000000|33.910000-118.290000|153951088|         2|\n",
            "|-118.300000|33.730000|         47.000000|2852.000000|    603.000000|1130.000000| 560.000000|     4.194000|     293900.000000|33.730000-118.300000|166033233|         2|\n",
            "|-122.270000|37.840000|         52.000000|1688.000000|    337.000000| 853.000000| 325.000000|     2.180600|      99700.000000|37.840000-122.270000|180854443|         2|\n",
            "|-118.240000|33.960000|         34.000000| 946.000000|    254.000000|1101.000000| 239.000000|     1.739600|     105900.000000|33.960000-118.240000|205793204|         2|\n",
            "|-122.120000|37.690000|         10.000000|2227.000000|    560.000000|1140.000000| 472.000000|     2.397300|     167300.000000|37.690000-122.120000|215865786|         2|\n",
            "|-118.330000|34.000000|         47.000000|1671.000000|    388.000000| 895.000000| 317.000000|     2.205400|     121500.000000|34.000000-118.330000|220286579|         2|\n",
            "|-118.310000|34.050000|         35.000000|1692.000000|    423.000000|1578.000000| 406.000000|     2.531300|     305800.000000|34.050000-118.310000|230211589|         2|\n",
            "|-118.220000|33.990000|          6.000000|1499.000000|    437.000000|1754.000000| 447.000000|     4.316400|     143200.000000|33.990000-118.220000|233747758|         2|\n",
            "|-117.060000|32.610000|         23.000000|1630.000000|    362.000000|1267.000000| 418.000000|     2.562500|     131100.000000|32.610000-117.060000|250973323|         2|\n",
            "|-122.310000|37.520000|         24.000000|2328.000000|    335.000000| 969.000000| 354.000000|     7.736400|     435800.000000|37.520000-122.310000|267678296|         2|\n",
            "|-118.210000|33.800000|         41.000000|1251.000000|    279.000000|1053.000000| 278.000000|     3.277800|     150800.000000|33.800000-118.210000|278071907|         2|\n",
            "|-118.210000|33.920000|         37.000000|1705.000000|    403.000000|1839.000000| 410.000000|     2.583300|     132700.000000|33.920000-118.210000|278258755|         2|\n",
            "|-118.410000|34.210000|         35.000000|2215.000000|    459.000000|1594.000000| 446.000000|     4.016700|     193200.000000|34.210000-118.410000|279981309|         2|\n",
            "|-118.250000|33.980000|         39.000000|1553.000000|    461.000000|2271.000000| 437.000000|     1.737800|     121900.000000|33.980000-118.250000|296155311|         2|\n",
            "|-122.430000|37.730000|         52.000000|1583.000000|    347.000000| 935.000000| 341.000000|     4.678600|     263200.000000|37.730000-122.430000|308613334|         2|\n",
            "+-----------+---------+------------------+-----------+--------------+-----------+-----------+-------------+------------------+--------------------+---------+----------+\n",
            "only showing top 20 rows\n",
            "\n"
          ]
        },
        {
          "output_type": "execute_result",
          "data": {
            "text/plain": [
              "288"
            ]
          },
          "metadata": {},
          "execution_count": 42
        }
      ]
    },
    {
      "cell_type": "markdown",
      "source": [
        "# md5"
      ],
      "metadata": {
        "id": "UQiYB5l6c7IA"
      }
    },
    {
      "cell_type": "code",
      "source": [
        "# md5 - 32 bit hash key\n",
        "# not suggeted for if records more than 1 Million it can generate duplicates\n",
        "\n",
        "from pyspark.sql.functions import *\n",
        "\n",
        "md_df = surr.withColumn('md', md5( col('EMPNO').cast('string')))\n",
        "\n",
        "md_df.show()"
      ],
      "metadata": {
        "colab": {
          "base_uri": "https://localhost:8080/"
        },
        "id": "AWfSn0f0p0bS",
        "outputId": "27ee5e7f-6366-4fca-c4aa-dbb7eb73ae06"
      },
      "execution_count": 251,
      "outputs": [
        {
          "output_type": "stream",
          "name": "stdout",
          "text": [
            "+-----+------+--------+----+----------+----+----+------+------------+--------------------+\n",
            "|EMPNO| ENAME|     JOB| MGR|  HIREDATE| SAL|COMM|DEPTNO|UPDATED_DATE|                  md|\n",
            "+-----+------+--------+----+----------+----+----+------+------------+--------------------+\n",
            "| 7499| ALLEN|SALESMAN|7698|20-02-1981|1600| 300|    30|  02-01-2022|7a2b33c672ce223b2...|\n",
            "| 7521|  WARD|SALESMAN|7698|22-02-1981|1250| 500|    30|  03-01-2022|e1e1f667ce4596e56...|\n",
            "| 7654|MARTIN|SALESMAN|7698|21-09-1981|1250| 600|    30|  05-01-2022|e2a7555f7cabd6e31...|\n",
            "| 7698|   SGR| MANAGER|7839|05-01-1981|2850| 500|    30|  06-01-2022|c570c225d1fb8a72a...|\n",
            "| 7782|  RAVI| MANAGER|7839|06-09-1981|2450|  14|    10|  04-02-2021|ac5c482277858d6fe...|\n",
            "| 7788| SCOTT| ANALYST|7566|19-04-1987|3000|1200|    20|  08-01-2022|866c7ee013c58f01f...|\n",
            "| 7844|TURNER|SALESMAN|7698|09-08-1981|1500|   0|    30|  01-02-2022|b356e7aed7ee82589...|\n",
            "| 7876| ADAMS|   CLERK|7788|23-05-1987|1100| 100|    20|  02-02-2022|42dab56861d81108e...|\n",
            "| 7902|  FORD| ANALYST|7566|12-03-1981|3000| 400|    20|  04-02-2022|66fe2bcc701bb627e...|\n",
            "| 7934|MILLER|   CLERK|7782|01-03-1982|1300| 100|    10|  02-01-2021|6c90885b28e58d1f4...|\n",
            "+-----+------+--------+----+----------+----+----+------+------------+--------------------+\n",
            "\n"
          ]
        }
      ]
    },
    {
      "cell_type": "markdown",
      "source": [
        "# sha2"
      ],
      "metadata": {
        "id": "EyGB5PRZc_2J"
      }
    },
    {
      "cell_type": "code",
      "source": [
        "#sha2 - hash key value\n",
        "#suggeted for huge data 256 0r 512 bits\n",
        "\n",
        "from pyspark.sql.functions import *\n",
        "\n",
        "sha_df = surr.withColumn('sha',sha2( col('EmpNO').cast('string'),256))\n",
        "sha_df1 = surr.withColumn('sha',sha2( col('EmpNO').cast('string'),512))\n",
        "sha_df.show(truncate = False)\n",
        "sha_df1.show(truncate = False)"
      ],
      "metadata": {
        "colab": {
          "base_uri": "https://localhost:8080/"
        },
        "id": "C2FFon2kxq9Y",
        "outputId": "77153c3a-2bb9-40c3-a281-aea04e46fc98"
      },
      "execution_count": null,
      "outputs": [
        {
          "output_type": "stream",
          "name": "stdout",
          "text": [
            "+-----+------+--------+----+----------+----+----+------+------------+--------------------+\n",
            "|EMPNO| ENAME|     JOB| MGR|  HIREDATE| SAL|COMM|DEPTNO|UPDATED_DATE|                sha2|\n",
            "+-----+------+--------+----+----------+----+----+------+------------+--------------------+\n",
            "| 7499| ALLEN|SALESMAN|7698|20-02-1981|1600| 300|    30|  02-01-2022|4427dc2e32a1d099d...|\n",
            "| 7521|  WARD|SALESMAN|7698|22-02-1981|1250| 500|    30|  03-01-2022|74ed8ca63e8b4fb8b...|\n",
            "| 7654|MARTIN|SALESMAN|7698|21-09-1981|1250| 600|    30|  05-01-2022|b969b01c158ebfecd...|\n",
            "| 7698|   SGR| MANAGER|7839|05-01-1981|2850| 500|    30|  06-01-2022|83f9d8d707524a4f5...|\n",
            "| 7782|  RAVI| MANAGER|7839|06-09-1981|2450|  14|    10|  04-02-2021|d7b6fab9aa91943de...|\n",
            "| 7788| SCOTT| ANALYST|7566|19-04-1987|3000|1200|    20|  08-01-2022|16740bf13991fe083...|\n",
            "| 7844|TURNER|SALESMAN|7698|09-08-1981|1500|   0|    30|  01-02-2022|b513a7ff5978b9588...|\n",
            "| 7876| ADAMS|   CLERK|7788|23-05-1987|1100| 100|    20|  02-02-2022|05a4cd58579909328...|\n",
            "| 7902|  FORD| ANALYST|7566|12-03-1981|3000| 400|    20|  04-02-2022|7b721c50ff0220bb9...|\n",
            "| 7934|MILLER|   CLERK|7782|01-03-1982|1300| 100|    10|  02-01-2021|6a25547cf30b010a2...|\n",
            "+-----+------+--------+----+----------+----+----+------+------------+--------------------+\n",
            "\n"
          ]
        }
      ]
    },
    {
      "cell_type": "markdown",
      "source": [
        "# how to get no.of null rows from a dataframe at each column"
      ],
      "metadata": {
        "id": "q95Rbbe1VDtL"
      }
    },
    {
      "cell_type": "code",
      "source": [
        "null_df = spark.read.format('csv').option('header',True).option('inferSchema',True).option('nullValue','null').load('/content/employee.csv')\n",
        "\n",
        "null_df.show()"
      ],
      "metadata": {
        "colab": {
          "base_uri": "https://localhost:8080/"
        },
        "id": "RJegEG0eVc4L",
        "outputId": "0649cf97-d74c-4fbf-96ff-d452374ef986"
      },
      "execution_count": 257,
      "outputs": [
        {
          "output_type": "stream",
          "name": "stdout",
          "text": [
            "+-----+------+---------+----+----------+----+----+------+------------+\n",
            "|EMPNO| ENAME|      JOB| MGR|  HIREDATE| SAL|COMM|DEPTNO|UPDATED_DATE|\n",
            "+-----+------+---------+----+----------+----+----+------+------------+\n",
            "| 7369| SMITH|    CLERK|7902|17-12-1980| 800|null|    20|  01-01-2022|\n",
            "| 7499| ALLEN| SALESMAN|7698|20-02-1981|1600| 300|    30|  02-01-2022|\n",
            "| 7521|  WARD| SALESMAN|7698|22-02-1981|1250| 500|    30|  03-01-2022|\n",
            "| 7566| JONES|  MANAGER|7839|04-02-1981|2975|null|    20|  04-01-2022|\n",
            "| 7654|MARTIN| SALESMAN|7698|21-09-1981|1250| 600|    30|  05-01-2022|\n",
            "| 7698|   SGR|  MANAGER|7839|05-01-1981|2850| 500|    30|  06-01-2022|\n",
            "| 7782|  RAVI|  MANAGER|7839|06-09-1981|2450|null|    10|  07-01-2022|\n",
            "| 7788| SCOTT|  ANALYST|7566|19-04-1987|3000|1200|    20|  08-01-2022|\n",
            "| 7839|  KING|PRESIDENT|null|      null|5000|null|    10|        null|\n",
            "| 7844|TURNER| SALESMAN|7698|09-08-1981|1500|   0|    30|  01-02-2022|\n",
            "| 7876| ADAMS|    CLERK|7788|23-05-1987|1100| 100|    20|  02-02-2022|\n",
            "| 7900| JAMES|    CLERK|7698|12-03-1981| 950|null|    30|  03-02-2022|\n",
            "| 7902|  FORD|  ANALYST|7566|12-03-1981|3000| 400|    20|  04-02-2022|\n",
            "| 7934|MILLER|    CLERK|7782|01-03-1982|1300|null|    10|  05-02-2022|\n",
            "| 1234|SEKHAR|   doctor|7777|      null| 667|  78|    80|  06-02-2022|\n",
            "| 7369| SMITH|    CLERK|7902|17-12-1980| 800|null|    20|  07-02-2022|\n",
            "| 7499| ALLEN| SALESMAN|7698|20-02-1981|1600| 300|    30|  08-02-2022|\n",
            "| 7521|  WARD| SALESMAN|7698|22-02-1981|1250| 500|    30|        null|\n",
            "| 7566| JONES|  MANAGER|7839|04-02-1981|2975|null|    20|  01-02-2021|\n",
            "| 7654|MARTIN| SALESMAN|7698|21-09-1981|1250|1400|    30|  02-02-2021|\n",
            "+-----+------+---------+----+----------+----+----+------+------------+\n",
            "only showing top 20 rows\n",
            "\n"
          ]
        }
      ]
    },
    {
      "cell_type": "code",
      "source": [
        "# individual Columns null values\n",
        "\n",
        "comm = null_df.filter( 'COMM is Null')\n",
        "\n",
        "comm.show()\n",
        "print(comm.count())\n",
        "\n",
        "mgr = null_df.filter( 'MGR is Null ')\n",
        "\n",
        "mgr.show()\n",
        "print(mgr.count())"
      ],
      "metadata": {
        "colab": {
          "base_uri": "https://localhost:8080/"
        },
        "id": "cY2RcYmw6M0E",
        "outputId": "bbf8aa47-2adc-4f14-bbe5-f77f56ddae1f"
      },
      "execution_count": 264,
      "outputs": [
        {
          "output_type": "stream",
          "name": "stdout",
          "text": [
            "+-----+------+---------+----+----------+----+----+------+------------+\n",
            "|EMPNO| ENAME|      JOB| MGR|  HIREDATE| SAL|COMM|DEPTNO|UPDATED_DATE|\n",
            "+-----+------+---------+----+----------+----+----+------+------------+\n",
            "| 7369| SMITH|    CLERK|7902|17-12-1980| 800|null|    20|  01-01-2022|\n",
            "| 7566| JONES|  MANAGER|7839|04-02-1981|2975|null|    20|  04-01-2022|\n",
            "| 7782|  RAVI|  MANAGER|7839|06-09-1981|2450|null|    10|  07-01-2022|\n",
            "| 7839|  KING|PRESIDENT|null|      null|5000|null|    10|        null|\n",
            "| 7900| JAMES|    CLERK|7698|12-03-1981| 950|null|    30|  03-02-2022|\n",
            "| 7934|MILLER|    CLERK|7782|01-03-1982|1300|null|    10|  05-02-2022|\n",
            "| 7369| SMITH|    CLERK|7902|17-12-1980| 800|null|    20|  07-02-2022|\n",
            "| 7566| JONES|  MANAGER|7839|04-02-1981|2975|null|    20|  01-02-2021|\n",
            "| 7698|   SGR|  MANAGER|7839|05-01-1981|2850|null|    30|  03-02-2021|\n",
            "| 7788| SCOTT|  ANALYST|7566|19-04-1987|3000|null|    20|  05-02-2021|\n",
            "| 7876| ADAMS|    CLERK|7788|23-05-1987|1100|null|    20|  08-02-2021|\n",
            "| 7902|  FORD|  ANALYST|7566|12-03-1981|3000|null|    20|  01-01-2021|\n",
            "| null|  null|     null|null|      null|null|null|  null|        null|\n",
            "| null|  null|     null|null|      null|null|null|  null|        null|\n",
            "| null|  null|     null|null|      null|null|null|  null|        null|\n",
            "+-----+------+---------+----+----------+----+----+------+------------+\n",
            "\n",
            "15\n",
            "+-----+-----+---------+----+----------+----+----+------+------------+\n",
            "|EMPNO|ENAME|      JOB| MGR|  HIREDATE| SAL|COMM|DEPTNO|UPDATED_DATE|\n",
            "+-----+-----+---------+----+----------+----+----+------+------------+\n",
            "| 7839| KING|PRESIDENT|null|      null|5000|null|    10|        null|\n",
            "| 7839| KING|PRESIDENT|null|01-11-1981|5000| 140|    10|  06-02-2021|\n",
            "| null| null|     null|null|      null|null|null|  null|        null|\n",
            "| null| null|     null|null|      null|null|null|  null|        null|\n",
            "| null| null|     null|null|      null|null|null|  null|        null|\n",
            "+-----+-----+---------+----+----------+----+----+------+------------+\n",
            "\n",
            "5\n"
          ]
        }
      ]
    },
    {
      "cell_type": "code",
      "source": [
        "#how to get number of null in all columns\n",
        "\n",
        "null_df.select([count(when(col(i).isNull(),i)).alias(i) for i in null_df.columns]).show()\n"
      ],
      "metadata": {
        "colab": {
          "base_uri": "https://localhost:8080/"
        },
        "id": "aVw__-gnYt35",
        "outputId": "a22b26e3-cc4b-4a44-f704-29ed07d4a27a"
      },
      "execution_count": null,
      "outputs": [
        {
          "output_type": "stream",
          "name": "stdout",
          "text": [
            "+-----+-----+---+---+--------+---+----+------+------------+\n",
            "|EMPNO|ENAME|JOB|MGR|HIREDATE|SAL|COMM|DEPTNO|UPDATED_DATE|\n",
            "+-----+-----+---+---+--------+---+----+------+------------+\n",
            "|    3|    3|  3|  5|       7|  3|  15|     3|           6|\n",
            "+-----+-----+---+---+--------+---+----+------+------------+\n",
            "\n"
          ]
        }
      ]
    },
    {
      "cell_type": "markdown",
      "source": [
        "# Read csv file with sep"
      ],
      "metadata": {
        "id": "RoW68JkXRiCe"
      }
    },
    {
      "cell_type": "code",
      "source": [
        "du_df = spark.read.format('csv').option('sep','|').option('inferSchema',True).option('header',True).load('/content/emp_pipe.txt')\n",
        "du_df.show()\n",
        "du_df.printSchema()"
      ],
      "metadata": {
        "id": "hHtLRTXlRjaO",
        "colab": {
          "base_uri": "https://localhost:8080/"
        },
        "outputId": "c7a9c39e-aa95-4c02-e5e3-81ce9576d89c"
      },
      "execution_count": 111,
      "outputs": [
        {
          "output_type": "stream",
          "name": "stdout",
          "text": [
            "+-----+------+---------+----+----------+----+----+------+------------+\n",
            "|EMPNO| ENAME|      JOB| MGR|  HIREDATE| SAL|COMM|DEPTNO|UPDATED_DATE|\n",
            "+-----+------+---------+----+----------+----+----+------+------------+\n",
            "| 7369| SMITH|    CLERK|7902|17-12-1980| 800|null|    20|  01-01-2022|\n",
            "| 7499| ALLEN| SALESMAN|7698|20-02-1981|1600| 300|    30|  02-01-2022|\n",
            "| 7521|  WARD| SALESMAN|7698|22-02-1981|1250| 500|    30|  03-01-2022|\n",
            "| 7566| JONES|  MANAGER|7839|04-02-1981|2975|null|    20|  04-01-2022|\n",
            "| 7654|MARTIN| SALESMAN|7698|21-09-1981|1250|1400|    30|  05-01-2022|\n",
            "| 7698|   SGR|  MANAGER|7839|05-01-1981|2850|null|    30|  06-01-2022|\n",
            "| 7782|  RAVI|  MANAGER|7839|06-09-1981|2450|null|    10|  07-01-2022|\n",
            "| 7788| SCOTT|  ANALYST|7566|19-04-1987|3000|null|    20|  08-01-2022|\n",
            "| 7839|  KING|PRESIDENT|null|      null|5000|null|    10|        null|\n",
            "| 7844|TURNER| SALESMAN|7698|09-08-1981|1500|   0|    30|  01-02-2022|\n",
            "| 7876| ADAMS|    CLERK|7788|23-05-1987|1100|null|    20|  02-02-2022|\n",
            "| 7900| JAMES|    CLERK|7698|12-03-1981| 950|null|    30|  03-02-2022|\n",
            "| 7902|  FORD|  ANALYST|7566|12-03-1981|3000|null|    20|  04-02-2022|\n",
            "| 7934|MILLER|    CLERK|7782|01-03-1982|1300|null|    10|  05-02-2022|\n",
            "| 1234|SEKHAR|   doctor|7777|      null| 667|  78|    80|  06-02-2022|\n",
            "| 7369| SMITH|    CLERK|7902|17-12-1980| 800|null|    20|  07-02-2022|\n",
            "| 7499| ALLEN| SALESMAN|7698|20-02-1981|1600| 300|    30|  08-02-2022|\n",
            "| 7521|  WARD| SALESMAN|7698|22-02-1981|1250| 500|    30|        null|\n",
            "| 7566| JONES|  MANAGER|7839|04-02-1981|2975|null|    20|  01-02-2021|\n",
            "+-----+------+---------+----+----------+----+----+------+------------+\n",
            "\n",
            "root\n",
            " |-- EMPNO: integer (nullable = true)\n",
            " |-- ENAME: string (nullable = true)\n",
            " |-- JOB: string (nullable = true)\n",
            " |-- MGR: string (nullable = true)\n",
            " |-- HIREDATE: string (nullable = true)\n",
            " |-- SAL: integer (nullable = true)\n",
            " |-- COMM: string (nullable = true)\n",
            " |-- DEPTNO: integer (nullable = true)\n",
            " |-- UPDATED_DATE: string (nullable = true)\n",
            "\n"
          ]
        }
      ]
    },
    {
      "cell_type": "markdown",
      "source": [
        "# how to handle double delimiter files"
      ],
      "metadata": {
        "id": "icoMsyhTlJoD"
      }
    },
    {
      "cell_type": "code",
      "source": [
        "#duoble  delimeter files\n",
        "\n",
        "du_df = spark.read.format('csv').option('sep','||').option('header',True).load('/content/emp_double_pipe.txt')\n",
        "du_df.show()"
      ],
      "metadata": {
        "colab": {
          "base_uri": "https://localhost:8080/"
        },
        "id": "CzvNfDtflZyt",
        "outputId": "be347241-99ed-41b2-d64e-6a79ce8d8a17"
      },
      "execution_count": null,
      "outputs": [
        {
          "output_type": "stream",
          "name": "stdout",
          "text": [
            "+-----+------+---------+----+----------+----+----+------+------------+\n",
            "|EMPNO| ENAME|      JOB| MGR|  HIREDATE| SAL|COMM|DEPTNO|UPDATED_DATE|\n",
            "+-----+------+---------+----+----------+----+----+------+------------+\n",
            "| 7369| SMITH|    CLERK|7902|17-12-1980| 800|null|    20|  01-01-2022|\n",
            "| 7499| ALLEN| SALESMAN|7698|20-02-1981|1600| 300|    30|  02-01-2022|\n",
            "| 7521|  WARD| SALESMAN|7698|22-02-1981|1250| 500|    30|  03-01-2022|\n",
            "| 7566| JONES|  MANAGER|7839|04-02-1981|2975|null|    20|  04-01-2022|\n",
            "| 7654|MARTIN| SALESMAN|7698|21-09-1981|1250|1400|    30|  05-01-2022|\n",
            "| 7698|   SGR|  MANAGER|7839|05-01-1981|2850|null|    30|  06-01-2022|\n",
            "| 7782|  RAVI|  MANAGER|7839|06-09-1981|2450|null|    10|  07-01-2022|\n",
            "| 7788| SCOTT|  ANALYST|7566|19-04-1987|3000|null|    20|  08-01-2022|\n",
            "| 7839|  KING|PRESIDENT|null|      null|5000|null|    10|        null|\n",
            "| 7844|TURNER| SALESMAN|7698|09-08-1981|1500|   0|    30|  01-02-2022|\n",
            "| 7876| ADAMS|    CLERK|7788|23-05-1987|1100|null|    20|  02-02-2022|\n",
            "| 7900| JAMES|    CLERK|7698|12-03-1981| 950|null|    30|  03-02-2022|\n",
            "| 7902|  FORD|  ANALYST|7566|12-03-1981|3000|null|    20|  04-02-2022|\n",
            "| 7934|MILLER|    CLERK|7782|01-03-1982|1300|null|    10|  05-02-2022|\n",
            "| 1234|SEKHAR|   doctor|7777|      null| 667|  78|    80|  06-02-2022|\n",
            "| 7369| SMITH|    CLERK|7902|17-12-1980| 800|null|    20|  07-02-2022|\n",
            "| 7499| ALLEN| SALESMAN|7698|20-02-1981|1600| 300|    30|  08-02-2022|\n",
            "| 7521|  WARD| SALESMAN|7698|22-02-1981|1250| 500|    30|        null|\n",
            "| 7566| JONES|  MANAGER|7839|04-02-1981|2975|null|    20|  01-02-2021|\n",
            "+-----+------+---------+----+----------+----+----+------+------------+\n",
            "\n"
          ]
        }
      ]
    },
    {
      "cell_type": "markdown",
      "source": [
        "# how to handle multi delimiter files"
      ],
      "metadata": {
        "id": "i7do35G2IaqK"
      }
    },
    {
      "cell_type": "code",
      "source": [
        "#Multiple delimeters\n",
        "\n",
        "\n",
        "\n",
        "mu_df = spark.read.format('csv').option('sep','||').option('header',True).load('/content/emp_multiple_delimeter.txt')\n",
        "\n",
        "mu_df.show()"
      ],
      "metadata": {
        "colab": {
          "base_uri": "https://localhost:8080/"
        },
        "id": "B3MRv0homaPr",
        "outputId": "da1347d0-e20c-4f67-d9d1-0bf334d5611c"
      },
      "execution_count": 133,
      "outputs": [
        {
          "output_type": "stream",
          "name": "stdout",
          "text": [
            "+-----+------+---------+----+----------+--------------------+\n",
            "|EMPNO| ENAME|      JOB| MGR|  HIREDATE|                 SAL|\n",
            "+-----+------+---------+----+----------+--------------------+\n",
            "| 7839|  KING|PRESIDENT|null|      null|   5000,null,10,null|\n",
            "| 7844|TURNER| SALESMAN|7698|09-08-1981|1500,0,30,01-02-2022|\n",
            "| 7876| ADAMS|    CLERK|7788|23-05-1987|1100,null,20,02-0...|\n",
            "| 7900| JAMES|    CLERK|7698|12-03-1981|950,null,30,03-02...|\n",
            "| 7902|  FORD|  ANALYST|7566|12-03-1981|3000,null,20,04-0...|\n",
            "| 7934|MILLER|    CLERK|7782|01-03-1982|1300,null,10,05-0...|\n",
            "| 1234|SEKHAR|   doctor|7777|      null|667,78,80,06-02-2022|\n",
            "| 7369| SMITH|    CLERK|7902|17-12-1980|800,null,20,07-02...|\n",
            "| 7499| ALLEN| SALESMAN|7698|20-02-1981|1600,300,30,08-02...|\n",
            "| 7521|  WARD| SALESMAN|7698|22-02-1981|    1250,500,30,null|\n",
            "| 7566| JONES|  MANAGER|7839|04-02-1981|2975,null,20,01-0...|\n",
            "+-----+------+---------+----+----------+--------------------+\n",
            "\n"
          ]
        }
      ]
    },
    {
      "cell_type": "code",
      "source": [
        "mu_df = mu_df.withColumn('Split',split('SAL',','))\n",
        "\n",
        "# mu_df = mu_df.withColumn('SAL_split',split(col('SAL'),'[,]'))\n",
        "\n",
        "\n",
        "mu_df.show()"
      ],
      "metadata": {
        "colab": {
          "base_uri": "https://localhost:8080/"
        },
        "id": "TQE7dsLoN37x",
        "outputId": "1828ccc4-3194-4844-b894-e1d4abec0c16"
      },
      "execution_count": 134,
      "outputs": [
        {
          "output_type": "stream",
          "name": "stdout",
          "text": [
            "+-----+------+---------+----+----------+--------------------+--------------------+\n",
            "|EMPNO| ENAME|      JOB| MGR|  HIREDATE|                 SAL|               Split|\n",
            "+-----+------+---------+----+----------+--------------------+--------------------+\n",
            "| 7839|  KING|PRESIDENT|null|      null|   5000,null,10,null|[5000, null, 10, ...|\n",
            "| 7844|TURNER| SALESMAN|7698|09-08-1981|1500,0,30,01-02-2022|[1500, 0, 30, 01-...|\n",
            "| 7876| ADAMS|    CLERK|7788|23-05-1987|1100,null,20,02-0...|[1100, null, 20, ...|\n",
            "| 7900| JAMES|    CLERK|7698|12-03-1981|950,null,30,03-02...|[950, null, 30, 0...|\n",
            "| 7902|  FORD|  ANALYST|7566|12-03-1981|3000,null,20,04-0...|[3000, null, 20, ...|\n",
            "| 7934|MILLER|    CLERK|7782|01-03-1982|1300,null,10,05-0...|[1300, null, 10, ...|\n",
            "| 1234|SEKHAR|   doctor|7777|      null|667,78,80,06-02-2022|[667, 78, 80, 06-...|\n",
            "| 7369| SMITH|    CLERK|7902|17-12-1980|800,null,20,07-02...|[800, null, 20, 0...|\n",
            "| 7499| ALLEN| SALESMAN|7698|20-02-1981|1600,300,30,08-02...|[1600, 300, 30, 0...|\n",
            "| 7521|  WARD| SALESMAN|7698|22-02-1981|    1250,500,30,null|[1250, 500, 30, n...|\n",
            "| 7566| JONES|  MANAGER|7839|04-02-1981|2975,null,20,01-0...|[2975, null, 20, ...|\n",
            "+-----+------+---------+----+----------+--------------------+--------------------+\n",
            "\n"
          ]
        }
      ]
    },
    {
      "cell_type": "code",
      "source": [
        "mu_df = mu_df.withColumn('SAL',col('Split')[0]) \\\n",
        "             .withColumn('COMM',col('Split')[1]) \\\n",
        "             .withColumn('DEPTNO',col('Split')[2]) \\\n",
        "             .withColumn('UPDATED_DATE',col('Split')[3]) \\\n",
        "             .drop('Split')\n",
        "\n",
        "mu_df.show()"
      ],
      "metadata": {
        "colab": {
          "base_uri": "https://localhost:8080/"
        },
        "id": "7lopnejgMLNE",
        "outputId": "572630d6-f581-403e-ebc2-118d2056719c"
      },
      "execution_count": 135,
      "outputs": [
        {
          "output_type": "stream",
          "name": "stdout",
          "text": [
            "+-----+------+---------+----+----------+----+----+------+------------+\n",
            "|EMPNO| ENAME|      JOB| MGR|  HIREDATE| SAL|COMM|DEPTNO|UPDATED_DATE|\n",
            "+-----+------+---------+----+----------+----+----+------+------------+\n",
            "| 7839|  KING|PRESIDENT|null|      null|5000|null|    10|        null|\n",
            "| 7844|TURNER| SALESMAN|7698|09-08-1981|1500|   0|    30|  01-02-2022|\n",
            "| 7876| ADAMS|    CLERK|7788|23-05-1987|1100|null|    20|  02-02-2022|\n",
            "| 7900| JAMES|    CLERK|7698|12-03-1981| 950|null|    30|  03-02-2022|\n",
            "| 7902|  FORD|  ANALYST|7566|12-03-1981|3000|null|    20|  04-02-2022|\n",
            "| 7934|MILLER|    CLERK|7782|01-03-1982|1300|null|    10|  05-02-2022|\n",
            "| 1234|SEKHAR|   doctor|7777|      null| 667|  78|    80|  06-02-2022|\n",
            "| 7369| SMITH|    CLERK|7902|17-12-1980| 800|null|    20|  07-02-2022|\n",
            "| 7499| ALLEN| SALESMAN|7698|20-02-1981|1600| 300|    30|  08-02-2022|\n",
            "| 7521|  WARD| SALESMAN|7698|22-02-1981|1250| 500|    30|        null|\n",
            "| 7566| JONES|  MANAGER|7839|04-02-1981|2975|null|    20|  01-02-2021|\n",
            "+-----+------+---------+----+----------+----+----+------+------------+\n",
            "\n"
          ]
        }
      ]
    },
    {
      "cell_type": "markdown",
      "source": [
        "# how to get 53 th weak years from last 50 years"
      ],
      "metadata": {
        "id": "YAmzJhkhz2T8"
      }
    },
    {
      "cell_type": "code",
      "source": [
        "we_df = spark.createDataFrame([(i,\"01/01/\"+str(i)+\"\")for i in range(1990,2050)],['id','year'])\n",
        "\n",
        "we_df = we_df.withColumn('date',to_date('year','dd/mm/yyyy')).withColumn('week',weekofyear('date')).filter('week= 53')\n",
        "we_df.show()"
      ],
      "metadata": {
        "colab": {
          "base_uri": "https://localhost:8080/"
        },
        "id": "3_0PX70l3KY8",
        "outputId": "882f4519-1b16-4ebf-f19c-433b1461556c"
      },
      "execution_count": null,
      "outputs": [
        {
          "output_type": "stream",
          "name": "stdout",
          "text": [
            "+----+----------+----------+----+\n",
            "|  id|      year|      date|week|\n",
            "+----+----------+----------+----+\n",
            "|1993|01/01/1993|1993-01-01|  53|\n",
            "|1999|01/01/1999|1999-01-01|  53|\n",
            "|2005|01/01/2005|2005-01-01|  53|\n",
            "|2010|01/01/2010|2010-01-01|  53|\n",
            "|2016|01/01/2016|2016-01-01|  53|\n",
            "|2021|01/01/2021|2021-01-01|  53|\n",
            "|2027|01/01/2027|2027-01-01|  53|\n",
            "|2033|01/01/2033|2033-01-01|  53|\n",
            "|2038|01/01/2038|2038-01-01|  53|\n",
            "|2044|01/01/2044|2044-01-01|  53|\n",
            "|2049|01/01/2049|2049-01-01|  53|\n",
            "+----+----------+----------+----+\n",
            "\n"
          ]
        }
      ]
    },
    {
      "cell_type": "markdown",
      "source": [
        "# Creating a dataframe"
      ],
      "metadata": {
        "id": "Kagev9gFLmde"
      }
    },
    {
      "cell_type": "code",
      "source": [
        "cr_df = spark.createDataFrame([(i,\"02/01/\"+str(i)+\"\") for i in range (1999,2050)],['id','year'])\n",
        "\n",
        "cr_df.show()"
      ],
      "metadata": {
        "colab": {
          "base_uri": "https://localhost:8080/"
        },
        "id": "ZWtj-2i3L1Ef",
        "outputId": "3f45f2bf-ae55-40a6-a70e-3ed242ef159b"
      },
      "execution_count": null,
      "outputs": [
        {
          "output_type": "stream",
          "name": "stdout",
          "text": [
            "+----+----------+\n",
            "|  id|      year|\n",
            "+----+----------+\n",
            "|1999|02/01/1999|\n",
            "|2000|02/01/2000|\n",
            "|2001|02/01/2001|\n",
            "|2002|02/01/2002|\n",
            "|2003|02/01/2003|\n",
            "|2004|02/01/2004|\n",
            "|2005|02/01/2005|\n",
            "|2006|02/01/2006|\n",
            "|2007|02/01/2007|\n",
            "|2008|02/01/2008|\n",
            "|2009|02/01/2009|\n",
            "|2010|02/01/2010|\n",
            "|2011|02/01/2011|\n",
            "|2012|02/01/2012|\n",
            "|2013|02/01/2013|\n",
            "|2014|02/01/2014|\n",
            "|2015|02/01/2015|\n",
            "|2016|02/01/2016|\n",
            "|2017|02/01/2017|\n",
            "|2018|02/01/2018|\n",
            "+----+----------+\n",
            "only showing top 20 rows\n",
            "\n"
          ]
        }
      ]
    },
    {
      "cell_type": "markdown",
      "source": [
        "# how to handle or how to read variable/dynamic no.of columns data file ( with Out Header File)?"
      ],
      "metadata": {
        "id": "uJDO9Mk1HT_5"
      }
    },
    {
      "cell_type": "code",
      "source": [
        "df = spark.read.format('text').load('/content/emp_without_header.txt').withColumn('New',split('value',','))\n",
        "\n",
        "# To find max No.of coulumns in a table\n",
        "col_size = df.select(max(size(col('New'))))\n",
        "\n",
        "df.show(5,truncate=True)\n",
        "col_size.show()\n",
        "print(type(df))\n",
        "df.printSchema()\n",
        "     "
      ],
      "metadata": {
        "colab": {
          "base_uri": "https://localhost:8080/"
        },
        "id": "SpSgTg4kHTdi",
        "outputId": "8e1c210a-4ecc-4d6f-8603-6250ebcabb4e"
      },
      "execution_count": 108,
      "outputs": [
        {
          "output_type": "stream",
          "name": "stdout",
          "text": [
            "+--------------------+--------------------+\n",
            "|               value|                 New|\n",
            "+--------------------+--------------------+\n",
            "|7369,SMITH,CLERK,...|[7369, SMITH, CLE...|\n",
            "|7499,ALLEN,SALESM...|[7499, ALLEN, SAL...|\n",
            "|7521,WARD,SALESMA...|[7521, WARD, SALE...|\n",
            "|7566,JONES,MANAGE...|[7566, JONES, MAN...|\n",
            "|7654,MARTIN,SALES...|[7654, MARTIN, SA...|\n",
            "+--------------------+--------------------+\n",
            "only showing top 5 rows\n",
            "\n",
            "+--------------+\n",
            "|max(size(New))|\n",
            "+--------------+\n",
            "|             9|\n",
            "+--------------+\n",
            "\n",
            "<class 'pyspark.sql.dataframe.DataFrame'>\n",
            "root\n",
            " |-- value: string (nullable = true)\n",
            " |-- New: array (nullable = true)\n",
            " |    |-- element: string (containsNull = false)\n",
            "\n"
          ]
        }
      ]
    },
    {
      "cell_type": "code",
      "source": [
        "for i in range(col_size.collect()[0][0]):\n",
        "  df = df.withColumn('col'+str(i),df['New'][i])\n",
        "df.show(truncate = False)"
      ],
      "metadata": {
        "colab": {
          "base_uri": "https://localhost:8080/"
        },
        "id": "ss_Vt-XjHaUA",
        "outputId": "ce83ed70-23e0-423b-f85c-69142e561f6c"
      },
      "execution_count": 109,
      "outputs": [
        {
          "output_type": "stream",
          "name": "stdout",
          "text": [
            "+------------------------------------------------------------+----------------------------------------------------------------------+----+------+---------+----+----------+----+----+----+----------+\n",
            "|value                                                       |New                                                                   |col0|col1  |col2     |col3|col4      |col5|col6|col7|col8      |\n",
            "+------------------------------------------------------------+----------------------------------------------------------------------+----+------+---------+----+----------+----+----+----+----------+\n",
            "|7369,SMITH,CLERK,7902,17-12-1980,800,null,20,01-01-2022     |[7369, SMITH, CLERK, 7902, 17-12-1980, 800, null, 20, 01-01-2022]     |7369|SMITH |CLERK    |7902|17-12-1980|800 |null|20  |01-01-2022|\n",
            "|7499,ALLEN,SALESMAN,7698,20-02-1981,1600,300,30,02-01-2022  |[7499, ALLEN, SALESMAN, 7698, 20-02-1981, 1600, 300, 30, 02-01-2022]  |7499|ALLEN |SALESMAN |7698|20-02-1981|1600|300 |30  |02-01-2022|\n",
            "|7521,WARD,SALESMAN,7698,22-02-1981,1250,500,30,03-01-2022   |[7521, WARD, SALESMAN, 7698, 22-02-1981, 1250, 500, 30, 03-01-2022]   |7521|WARD  |SALESMAN |7698|22-02-1981|1250|500 |30  |03-01-2022|\n",
            "|7566,JONES,MANAGER,7839,04-02-1981,2975,null,20,04-01-2022  |[7566, JONES, MANAGER, 7839, 04-02-1981, 2975, null, 20, 04-01-2022]  |7566|JONES |MANAGER  |7839|04-02-1981|2975|null|20  |04-01-2022|\n",
            "|7654,MARTIN,SALESMAN,7698,21-09-1981,1250,1400,30,05-01-2022|[7654, MARTIN, SALESMAN, 7698, 21-09-1981, 1250, 1400, 30, 05-01-2022]|7654|MARTIN|SALESMAN |7698|21-09-1981|1250|1400|30  |05-01-2022|\n",
            "|7698,SGR,MANAGER,7839,05-01-1981,2850,null,30,06-01-2022    |[7698, SGR, MANAGER, 7839, 05-01-1981, 2850, null, 30, 06-01-2022]    |7698|SGR   |MANAGER  |7839|05-01-1981|2850|null|30  |06-01-2022|\n",
            "|7782,RAVI,MANAGER,7839,06-09-1981,2450,null,10,07-01-2022   |[7782, RAVI, MANAGER, 7839, 06-09-1981, 2450, null, 10, 07-01-2022]   |7782|RAVI  |MANAGER  |7839|06-09-1981|2450|null|10  |07-01-2022|\n",
            "|7788,SCOTT,ANALYST,7566,19-04-1987,3000,null,20,08-01-2022  |[7788, SCOTT, ANALYST, 7566, 19-04-1987, 3000, null, 20, 08-01-2022]  |7788|SCOTT |ANALYST  |7566|19-04-1987|3000|null|20  |08-01-2022|\n",
            "|7839,KING,PRESIDENT,null,null,5000,null,10,null             |[7839, KING, PRESIDENT, null, null, 5000, null, 10, null]             |7839|KING  |PRESIDENT|null|null      |5000|null|10  |null      |\n",
            "|7844,TURNER,SALESMAN,7698,09-08-1981,1500,0,30,01-02-2022   |[7844, TURNER, SALESMAN, 7698, 09-08-1981, 1500, 0, 30, 01-02-2022]   |7844|TURNER|SALESMAN |7698|09-08-1981|1500|0   |30  |01-02-2022|\n",
            "|7876,ADAMS,CLERK,7788,23-05-1987,1100,null,20,02-02-2022    |[7876, ADAMS, CLERK, 7788, 23-05-1987, 1100, null, 20, 02-02-2022]    |7876|ADAMS |CLERK    |7788|23-05-1987|1100|null|20  |02-02-2022|\n",
            "|7900,JAMES,CLERK,7698,12-03-1981,950,null,30,03-02-2022     |[7900, JAMES, CLERK, 7698, 12-03-1981, 950, null, 30, 03-02-2022]     |7900|JAMES |CLERK    |7698|12-03-1981|950 |null|30  |03-02-2022|\n",
            "|7902,FORD,ANALYST,7566,12-03-1981,3000,null,20,04-02-2022   |[7902, FORD, ANALYST, 7566, 12-03-1981, 3000, null, 20, 04-02-2022]   |7902|FORD  |ANALYST  |7566|12-03-1981|3000|null|20  |04-02-2022|\n",
            "|7934,MILLER,CLERK,7782,01-03-1982,1300,null,10,05-02-2022   |[7934, MILLER, CLERK, 7782, 01-03-1982, 1300, null, 10, 05-02-2022]   |7934|MILLER|CLERK    |7782|01-03-1982|1300|null|10  |05-02-2022|\n",
            "|1234,SEKHAR,doctor,7777,null,667,78,80,06-02-2022           |[1234, SEKHAR, doctor, 7777, null, 667, 78, 80, 06-02-2022]           |1234|SEKHAR|doctor   |7777|null      |667 |78  |80  |06-02-2022|\n",
            "|7369,SMITH,CLERK,7902,17-12-1980,800,null,20,07-02-2022     |[7369, SMITH, CLERK, 7902, 17-12-1980, 800, null, 20, 07-02-2022]     |7369|SMITH |CLERK    |7902|17-12-1980|800 |null|20  |07-02-2022|\n",
            "|7499,ALLEN,SALESMAN,7698,20-02-1981,1600,300,30,08-02-2022  |[7499, ALLEN, SALESMAN, 7698, 20-02-1981, 1600, 300, 30, 08-02-2022]  |7499|ALLEN |SALESMAN |7698|20-02-1981|1600|300 |30  |08-02-2022|\n",
            "|7521,WARD,SALESMAN,7698,22-02-1981,1250,500,30,null         |[7521, WARD, SALESMAN, 7698, 22-02-1981, 1250, 500, 30, null]         |7521|WARD  |SALESMAN |7698|22-02-1981|1250|500 |30  |null      |\n",
            "|7566,JONES,MANAGER,7839,04-02-1981,2975,null,20,01-02-2021  |[7566, JONES, MANAGER, 7839, 04-02-1981, 2975, null, 20, 01-02-2021]  |7566|JONES |MANAGER  |7839|04-02-1981|2975|null|20  |01-02-2021|\n",
            "+------------------------------------------------------------+----------------------------------------------------------------------+----+------+---------+----+----------+----+----+----+----------+\n",
            "\n"
          ]
        }
      ]
    },
    {
      "cell_type": "code",
      "source": [
        "df1 = df.drop('value').drop('New')\n",
        "df1.show(truncate = False)\n",
        "df1.printSchema()\n",
        "print(type(df1))\n",
        "     "
      ],
      "metadata": {
        "colab": {
          "base_uri": "https://localhost:8080/"
        },
        "id": "V8iZu-TDHeho",
        "outputId": "4c5cd868-bc71-4da3-9e14-1cf388a3b968"
      },
      "execution_count": 110,
      "outputs": [
        {
          "output_type": "stream",
          "name": "stdout",
          "text": [
            "+----+------+---------+----+----------+----+----+----+----------+\n",
            "|col0|col1  |col2     |col3|col4      |col5|col6|col7|col8      |\n",
            "+----+------+---------+----+----------+----+----+----+----------+\n",
            "|7369|SMITH |CLERK    |7902|17-12-1980|800 |null|20  |01-01-2022|\n",
            "|7499|ALLEN |SALESMAN |7698|20-02-1981|1600|300 |30  |02-01-2022|\n",
            "|7521|WARD  |SALESMAN |7698|22-02-1981|1250|500 |30  |03-01-2022|\n",
            "|7566|JONES |MANAGER  |7839|04-02-1981|2975|null|20  |04-01-2022|\n",
            "|7654|MARTIN|SALESMAN |7698|21-09-1981|1250|1400|30  |05-01-2022|\n",
            "|7698|SGR   |MANAGER  |7839|05-01-1981|2850|null|30  |06-01-2022|\n",
            "|7782|RAVI  |MANAGER  |7839|06-09-1981|2450|null|10  |07-01-2022|\n",
            "|7788|SCOTT |ANALYST  |7566|19-04-1987|3000|null|20  |08-01-2022|\n",
            "|7839|KING  |PRESIDENT|null|null      |5000|null|10  |null      |\n",
            "|7844|TURNER|SALESMAN |7698|09-08-1981|1500|0   |30  |01-02-2022|\n",
            "|7876|ADAMS |CLERK    |7788|23-05-1987|1100|null|20  |02-02-2022|\n",
            "|7900|JAMES |CLERK    |7698|12-03-1981|950 |null|30  |03-02-2022|\n",
            "|7902|FORD  |ANALYST  |7566|12-03-1981|3000|null|20  |04-02-2022|\n",
            "|7934|MILLER|CLERK    |7782|01-03-1982|1300|null|10  |05-02-2022|\n",
            "|1234|SEKHAR|doctor   |7777|null      |667 |78  |80  |06-02-2022|\n",
            "|7369|SMITH |CLERK    |7902|17-12-1980|800 |null|20  |07-02-2022|\n",
            "|7499|ALLEN |SALESMAN |7698|20-02-1981|1600|300 |30  |08-02-2022|\n",
            "|7521|WARD  |SALESMAN |7698|22-02-1981|1250|500 |30  |null      |\n",
            "|7566|JONES |MANAGER  |7839|04-02-1981|2975|null|20  |01-02-2021|\n",
            "+----+------+---------+----+----------+----+----+----+----------+\n",
            "\n",
            "root\n",
            " |-- col0: string (nullable = true)\n",
            " |-- col1: string (nullable = true)\n",
            " |-- col2: string (nullable = true)\n",
            " |-- col3: string (nullable = true)\n",
            " |-- col4: string (nullable = true)\n",
            " |-- col5: string (nullable = true)\n",
            " |-- col6: string (nullable = true)\n",
            " |-- col7: string (nullable = true)\n",
            " |-- col8: string (nullable = true)\n",
            "\n",
            "<class 'pyspark.sql.dataframe.DataFrame'>\n"
          ]
        }
      ]
    }
  ]
}