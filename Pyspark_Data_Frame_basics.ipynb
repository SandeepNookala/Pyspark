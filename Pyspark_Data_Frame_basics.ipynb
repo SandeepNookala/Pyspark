{
  "cells": [
    {
      "cell_type": "markdown",
      "metadata": {
        "id": "NbFalTaBnvmA"
      },
      "source": [
        "#Installing Pyspark in Googlecolab"
      ]
    },
    {
      "cell_type": "code",
      "execution_count": 1,
      "metadata": {
        "colab": {
          "base_uri": "https://localhost:8080/"
        },
        "id": "jmfJcwA4dnM0",
        "outputId": "f6421e84-39bb-4274-9859-867bb5d6b6ad"
      },
      "outputs": [
        {
          "output_type": "stream",
          "name": "stdout",
          "text": [
            "Looking in indexes: https://pypi.org/simple, https://us-python.pkg.dev/colab-wheels/public/simple/\n",
            "Collecting pyspark\n",
            "  Downloading pyspark-3.3.1.tar.gz (281.4 MB)\n",
            "\u001b[2K     \u001b[90m━━━━━━━━━━━━━━━━━━━━━━━━━━━━━━━━━━━━━━━\u001b[0m \u001b[32m281.4/281.4 MB\u001b[0m \u001b[31m5.0 MB/s\u001b[0m eta \u001b[36m0:00:00\u001b[0m\n",
            "\u001b[?25h  Preparing metadata (setup.py) ... \u001b[?25l\u001b[?25hdone\n",
            "Collecting py4j\n",
            "  Downloading py4j-0.10.9.7-py2.py3-none-any.whl (200 kB)\n",
            "\u001b[2K     \u001b[90m━━━━━━━━━━━━━━━━━━━━━━━━━━━━━━━━━━━━━━\u001b[0m \u001b[32m200.5/200.5 KB\u001b[0m \u001b[31m20.7 MB/s\u001b[0m eta \u001b[36m0:00:00\u001b[0m\n",
            "\u001b[?25h  Downloading py4j-0.10.9.5-py2.py3-none-any.whl (199 kB)\n",
            "\u001b[2K     \u001b[90m━━━━━━━━━━━━━━━━━━━━━━━━━━━━━━━━━━━━━━\u001b[0m \u001b[32m199.7/199.7 KB\u001b[0m \u001b[31m22.4 MB/s\u001b[0m eta \u001b[36m0:00:00\u001b[0m\n",
            "\u001b[?25hBuilding wheels for collected packages: pyspark\n",
            "  Building wheel for pyspark (setup.py) ... \u001b[?25l\u001b[?25hdone\n",
            "  Created wheel for pyspark: filename=pyspark-3.3.1-py2.py3-none-any.whl size=281845512 sha256=a06e2b73e2cd389b537845a48bbf459a76ecf1e796f5df9211f632217bf1c7b0\n",
            "  Stored in directory: /root/.cache/pip/wheels/43/dc/11/ec201cd671da62fa9c5cc77078235e40722170ceba231d7598\n",
            "Successfully built pyspark\n",
            "Installing collected packages: py4j, pyspark\n",
            "Successfully installed py4j-0.10.9.5 pyspark-3.3.1\n"
          ]
        }
      ],
      "source": [
        "!pip install pyspark py4j"
      ]
    },
    {
      "cell_type": "markdown",
      "metadata": {
        "id": "p-5j-cMJn7Jz"
      },
      "source": [
        "# Creating new SparkSession"
      ]
    },
    {
      "cell_type": "code",
      "execution_count": 2,
      "metadata": {
        "id": "ufEBg2pueVGM"
      },
      "outputs": [],
      "source": [
        "from pyspark.sql import SparkSession\n",
        "\n",
        "spark = SparkSession.builder.appName(\"Practice\").getOrCreate()"
      ]
    },
    {
      "cell_type": "code",
      "execution_count": 3,
      "metadata": {
        "id": "HLOMjGlF1j-V",
        "colab": {
          "base_uri": "https://localhost:8080/",
          "height": 222
        },
        "outputId": "52a45625-5f4f-48d3-8902-492a059036d2"
      },
      "outputs": [
        {
          "output_type": "execute_result",
          "data": {
            "text/plain": [
              "<pyspark.sql.session.SparkSession at 0x7fe4983e5280>"
            ],
            "text/html": [
              "\n",
              "            <div>\n",
              "                <p><b>SparkSession - in-memory</b></p>\n",
              "                \n",
              "        <div>\n",
              "            <p><b>SparkContext</b></p>\n",
              "\n",
              "            <p><a href=\"http://797dc3ed442b:4040\">Spark UI</a></p>\n",
              "\n",
              "            <dl>\n",
              "              <dt>Version</dt>\n",
              "                <dd><code>v3.3.1</code></dd>\n",
              "              <dt>Master</dt>\n",
              "                <dd><code>local[*]</code></dd>\n",
              "              <dt>AppName</dt>\n",
              "                <dd><code>Practice</code></dd>\n",
              "            </dl>\n",
              "        </div>\n",
              "        \n",
              "            </div>\n",
              "        "
            ]
          },
          "metadata": {},
          "execution_count": 3
        }
      ],
      "source": [
        "spark\n"
      ]
    },
    {
      "cell_type": "markdown",
      "metadata": {
        "id": "Zo_-_Nj_hvsX"
      },
      "source": [
        "#Reading CSV data into df dataframe without header and schema\n",
        "\n",
        "\n",
        "\n"
      ]
    },
    {
      "cell_type": "code",
      "execution_count": 17,
      "metadata": {
        "id": "8X4zgD3PgRyi",
        "colab": {
          "base_uri": "https://localhost:8080/"
        },
        "outputId": "ba01db39-5cd8-4003-879a-cc535b5d73fc"
      },
      "outputs": [
        {
          "output_type": "stream",
          "name": "stdout",
          "text": [
            "+-----------+---------+------------------+-----------+--------------+-----------+----------+-------------+------------------+\n",
            "|        _c0|      _c1|               _c2|        _c3|           _c4|        _c5|       _c6|          _c7|               _c8|\n",
            "+-----------+---------+------------------+-----------+--------------+-----------+----------+-------------+------------------+\n",
            "|  longitude| latitude|housing_median_age|total_rooms|total_bedrooms| population|households|median_income|median_house_value|\n",
            "|-122.050000|37.370000|         27.000000|3885.000000|    661.000000|1537.000000|606.000000|     6.608500|     344700.000000|\n",
            "|-118.300000|34.260000|         43.000000|1510.000000|    310.000000| 809.000000|277.000000|     3.599000|     176500.000000|\n",
            "|-117.810000|33.780000|         27.000000|3589.000000|    507.000000|1484.000000|495.000000|     5.793400|     270500.000000|\n",
            "|-118.360000|33.820000|         28.000000|  67.000000|     15.000000|  49.000000| 11.000000|     6.135900|     330000.000000|\n",
            "|-119.670000|36.330000|         19.000000|1241.000000|    244.000000| 850.000000|237.000000|     2.937500|      81700.000000|\n",
            "|-119.560000|36.510000|         37.000000|1018.000000|    213.000000| 663.000000|204.000000|     1.663500|      67000.000000|\n",
            "|-121.430000|38.630000|         43.000000|1009.000000|    225.000000| 604.000000|218.000000|     1.664100|      67000.000000|\n",
            "|-120.650000|35.480000|         19.000000|2310.000000|    471.000000|1341.000000|441.000000|     3.225000|     166900.000000|\n",
            "|-122.840000|38.400000|         15.000000|3080.000000|    617.000000|1446.000000|599.000000|     3.669600|     194400.000000|\n",
            "+-----------+---------+------------------+-----------+--------------+-----------+----------+-------------+------------------+\n",
            "only showing top 10 rows\n",
            "\n"
          ]
        }
      ],
      "source": [
        "df = spark.read.format('csv').load(\"/content/sample_data/california_housing_test.csv\")\n",
        "df.show(10)"
      ]
    },
    {
      "cell_type": "code",
      "execution_count": 9,
      "metadata": {
        "colab": {
          "base_uri": "https://localhost:8080/"
        },
        "id": "dqCw4Jkfk6ti",
        "outputId": "05f7ae41-e1f8-4251-cde7-3370f8fc7d09"
      },
      "outputs": [
        {
          "output_type": "stream",
          "name": "stdout",
          "text": [
            "root\n",
            " |-- _c0: string (nullable = true)\n",
            " |-- _c1: string (nullable = true)\n",
            " |-- _c2: string (nullable = true)\n",
            " |-- _c3: string (nullable = true)\n",
            " |-- _c4: string (nullable = true)\n",
            " |-- _c5: string (nullable = true)\n",
            " |-- _c6: string (nullable = true)\n",
            " |-- _c7: string (nullable = true)\n",
            " |-- _c8: string (nullable = true)\n",
            "\n"
          ]
        },
        {
          "output_type": "execute_result",
          "data": {
            "text/plain": [
              "pyspark.sql.dataframe.DataFrame"
            ]
          },
          "metadata": {},
          "execution_count": 9
        }
      ],
      "source": [
        "df.printSchema()\n",
        "type(df)"
      ]
    },
    {
      "cell_type": "markdown",
      "metadata": {
        "id": "HOSZSLuFiLYx"
      },
      "source": [
        "# Reading csv data into df1 dataframe with Header and schema\n",
        "\n"
      ]
    },
    {
      "cell_type": "code",
      "execution_count": 16,
      "metadata": {
        "id": "eLLofZxDgrjm",
        "colab": {
          "base_uri": "https://localhost:8080/"
        },
        "outputId": "7fd23776-880a-401b-9c88-93db33d7e244"
      },
      "outputs": [
        {
          "output_type": "stream",
          "name": "stdout",
          "text": [
            "+---------+--------+------------------+-----------+--------------+----------+----------+-------------+------------------+\n",
            "|longitude|latitude|housing_median_age|total_rooms|total_bedrooms|population|households|median_income|median_house_value|\n",
            "+---------+--------+------------------+-----------+--------------+----------+----------+-------------+------------------+\n",
            "|  -122.05|   37.37|              27.0|     3885.0|         661.0|    1537.0|     606.0|       6.6085|          344700.0|\n",
            "|   -118.3|   34.26|              43.0|     1510.0|         310.0|     809.0|     277.0|        3.599|          176500.0|\n",
            "|  -117.81|   33.78|              27.0|     3589.0|         507.0|    1484.0|     495.0|       5.7934|          270500.0|\n",
            "|  -118.36|   33.82|              28.0|       67.0|          15.0|      49.0|      11.0|       6.1359|          330000.0|\n",
            "|  -119.67|   36.33|              19.0|     1241.0|         244.0|     850.0|     237.0|       2.9375|           81700.0|\n",
            "|  -119.56|   36.51|              37.0|     1018.0|         213.0|     663.0|     204.0|       1.6635|           67000.0|\n",
            "|  -121.43|   38.63|              43.0|     1009.0|         225.0|     604.0|     218.0|       1.6641|           67000.0|\n",
            "|  -120.65|   35.48|              19.0|     2310.0|         471.0|    1341.0|     441.0|        3.225|          166900.0|\n",
            "|  -122.84|    38.4|              15.0|     3080.0|         617.0|    1446.0|     599.0|       3.6696|          194400.0|\n",
            "|  -118.02|   34.08|              31.0|     2402.0|         632.0|    2830.0|     603.0|       2.3333|          164200.0|\n",
            "+---------+--------+------------------+-----------+--------------+----------+----------+-------------+------------------+\n",
            "only showing top 10 rows\n",
            "\n"
          ]
        }
      ],
      "source": [
        "df1 = spark.read.format('csv').option('header','true').option('inferSchema','true').load(\"/content/sample_data/california_housing_test.csv\")\n",
        "df1.show(10)"
      ]
    },
    {
      "cell_type": "code",
      "source": [
        "df1.printSchema()\n",
        "print(type(df1))\n",
        "df1.count()"
      ],
      "metadata": {
        "colab": {
          "base_uri": "https://localhost:8080/"
        },
        "id": "QnyVCGsTAWQr",
        "outputId": "bd73a6b4-6f24-4ec9-9fb8-edf72f9fc1d3"
      },
      "execution_count": 20,
      "outputs": [
        {
          "output_type": "stream",
          "name": "stdout",
          "text": [
            "root\n",
            " |-- longitude: double (nullable = true)\n",
            " |-- latitude: double (nullable = true)\n",
            " |-- housing_median_age: double (nullable = true)\n",
            " |-- total_rooms: double (nullable = true)\n",
            " |-- total_bedrooms: double (nullable = true)\n",
            " |-- population: double (nullable = true)\n",
            " |-- households: double (nullable = true)\n",
            " |-- median_income: double (nullable = true)\n",
            " |-- median_house_value: double (nullable = true)\n",
            "\n",
            "<class 'pyspark.sql.dataframe.DataFrame'>\n"
          ]
        },
        {
          "output_type": "execute_result",
          "data": {
            "text/plain": [
              "3000"
            ]
          },
          "metadata": {},
          "execution_count": 20
        }
      ]
    },
    {
      "cell_type": "markdown",
      "metadata": {
        "id": "g5IWj-E-pCro"
      },
      "source": [
        "# Reading csv data into df2 dataframe with Header and schema- (another way)"
      ]
    },
    {
      "cell_type": "code",
      "execution_count": 27,
      "metadata": {
        "id": "K-6vm-8ahWjY",
        "colab": {
          "base_uri": "https://localhost:8080/"
        },
        "outputId": "727bc28e-93f2-4151-d8f4-092fc688778a"
      },
      "outputs": [
        {
          "output_type": "stream",
          "name": "stdout",
          "text": [
            "+---------+--------+------------------+-----------+--------------+----------+----------+-------------+------------------+\n",
            "|longitude|latitude|housing_median_age|total_rooms|total_bedrooms|population|households|median_income|median_house_value|\n",
            "+---------+--------+------------------+-----------+--------------+----------+----------+-------------+------------------+\n",
            "|  -122.05|   37.37|              27.0|     3885.0|         661.0|    1537.0|     606.0|       6.6085|          344700.0|\n",
            "|   -118.3|   34.26|              43.0|     1510.0|         310.0|     809.0|     277.0|        3.599|          176500.0|\n",
            "|  -117.81|   33.78|              27.0|     3589.0|         507.0|    1484.0|     495.0|       5.7934|          270500.0|\n",
            "|  -118.36|   33.82|              28.0|       67.0|          15.0|      49.0|      11.0|       6.1359|          330000.0|\n",
            "|  -119.67|   36.33|              19.0|     1241.0|         244.0|     850.0|     237.0|       2.9375|           81700.0|\n",
            "|  -119.56|   36.51|              37.0|     1018.0|         213.0|     663.0|     204.0|       1.6635|           67000.0|\n",
            "|  -121.43|   38.63|              43.0|     1009.0|         225.0|     604.0|     218.0|       1.6641|           67000.0|\n",
            "|  -120.65|   35.48|              19.0|     2310.0|         471.0|    1341.0|     441.0|        3.225|          166900.0|\n",
            "|  -122.84|    38.4|              15.0|     3080.0|         617.0|    1446.0|     599.0|       3.6696|          194400.0|\n",
            "|  -118.02|   34.08|              31.0|     2402.0|         632.0|    2830.0|     603.0|       2.3333|          164200.0|\n",
            "+---------+--------+------------------+-----------+--------------+----------+----------+-------------+------------------+\n",
            "only showing top 10 rows\n",
            "\n"
          ]
        }
      ],
      "source": [
        "df2= spark.read.csv(\"/content/sample_data/california_housing_test.csv\",header=True,inferSchema=True)\n",
        "df2.show(10)"
      ]
    },
    {
      "cell_type": "code",
      "source": [
        "df2.printSchema()\n",
        "print(type(df2))\n",
        "df2.count()"
      ],
      "metadata": {
        "colab": {
          "base_uri": "https://localhost:8080/"
        },
        "id": "lPVa2qjBBZ0c",
        "outputId": "4ca9815e-f444-4d0c-f35e-83e6b26687e4"
      },
      "execution_count": 29,
      "outputs": [
        {
          "output_type": "stream",
          "name": "stdout",
          "text": [
            "root\n",
            " |-- longitude: double (nullable = true)\n",
            " |-- latitude: double (nullable = true)\n",
            " |-- housing_median_age: double (nullable = true)\n",
            " |-- total_rooms: double (nullable = true)\n",
            " |-- total_bedrooms: double (nullable = true)\n",
            " |-- population: double (nullable = true)\n",
            " |-- households: double (nullable = true)\n",
            " |-- median_income: double (nullable = true)\n",
            " |-- median_house_value: double (nullable = true)\n",
            "\n",
            "<class 'pyspark.sql.dataframe.DataFrame'>\n"
          ]
        },
        {
          "output_type": "execute_result",
          "data": {
            "text/plain": [
              "3000"
            ]
          },
          "metadata": {},
          "execution_count": 29
        }
      ]
    },
    {
      "cell_type": "markdown",
      "metadata": {
        "id": "AHi5WArll9Mg"
      },
      "source": [
        "# Top head values"
      ]
    },
    {
      "cell_type": "code",
      "execution_count": 30,
      "metadata": {
        "colab": {
          "base_uri": "https://localhost:8080/"
        },
        "id": "QMEa6jADlu_c",
        "outputId": "b599a782-39d1-4ee3-b167-96724fdeeb59"
      },
      "outputs": [
        {
          "output_type": "execute_result",
          "data": {
            "text/plain": [
              "[Row(_c0='longitude', _c1='latitude', _c2='housing_median_age', _c3='total_rooms', _c4='total_bedrooms', _c5='population', _c6='households', _c7='median_income', _c8='median_house_value'),\n",
              " Row(_c0='-122.050000', _c1='37.370000', _c2='27.000000', _c3='3885.000000', _c4='661.000000', _c5='1537.000000', _c6='606.000000', _c7='6.608500', _c8='344700.000000'),\n",
              " Row(_c0='-118.300000', _c1='34.260000', _c2='43.000000', _c3='1510.000000', _c4='310.000000', _c5='809.000000', _c6='277.000000', _c7='3.599000', _c8='176500.000000'),\n",
              " Row(_c0='-117.810000', _c1='33.780000', _c2='27.000000', _c3='3589.000000', _c4='507.000000', _c5='1484.000000', _c6='495.000000', _c7='5.793400', _c8='270500.000000'),\n",
              " Row(_c0='-118.360000', _c1='33.820000', _c2='28.000000', _c3='67.000000', _c4='15.000000', _c5='49.000000', _c6='11.000000', _c7='6.135900', _c8='330000.000000')]"
            ]
          },
          "metadata": {},
          "execution_count": 30
        }
      ],
      "source": [
        "df.head(5)"
      ]
    },
    {
      "cell_type": "markdown",
      "metadata": {
        "id": "kU9oTppcrgx8"
      },
      "source": [
        "# Tails values"
      ]
    },
    {
      "cell_type": "code",
      "execution_count": 31,
      "metadata": {
        "colab": {
          "base_uri": "https://localhost:8080/"
        },
        "id": "X7yzh07Yl1eq",
        "outputId": "422fe037-b9be-4219-c4e2-2ed519c1a85b"
      },
      "outputs": [
        {
          "output_type": "execute_result",
          "data": {
            "text/plain": [
              "[Row(longitude=-119.86, latitude=34.42, housing_median_age=23.0, total_rooms=1450.0, total_bedrooms=642.0, population=1258.0, households=607.0, median_income=1.179, median_house_value=225000.0),\n",
              " Row(longitude=-118.14, latitude=34.06, housing_median_age=27.0, total_rooms=5257.0, total_bedrooms=1082.0, population=3496.0, households=1036.0, median_income=3.3906, median_house_value=237200.0),\n",
              " Row(longitude=-119.7, latitude=36.3, housing_median_age=10.0, total_rooms=956.0, total_bedrooms=201.0, population=693.0, households=220.0, median_income=2.2895, median_house_value=62000.0),\n",
              " Row(longitude=-117.12, latitude=34.1, housing_median_age=40.0, total_rooms=96.0, total_bedrooms=14.0, population=46.0, households=14.0, median_income=3.2708, median_house_value=162500.0),\n",
              " Row(longitude=-119.63, latitude=34.42, housing_median_age=42.0, total_rooms=1765.0, total_bedrooms=263.0, population=753.0, households=260.0, median_income=8.5608, median_house_value=500001.0)]"
            ]
          },
          "metadata": {},
          "execution_count": 31
        }
      ],
      "source": [
        "df2.tail(5)"
      ]
    },
    {
      "cell_type": "markdown",
      "metadata": {
        "id": "EusB415EoXd9"
      },
      "source": [
        "# check columns "
      ]
    },
    {
      "cell_type": "code",
      "execution_count": 32,
      "metadata": {
        "colab": {
          "base_uri": "https://localhost:8080/"
        },
        "id": "g-lYGpbUofPK",
        "outputId": "43d6b27c-fa42-406c-a10d-1b47665d4bb3"
      },
      "outputs": [
        {
          "output_type": "execute_result",
          "data": {
            "text/plain": [
              "['longitude',\n",
              " 'latitude',\n",
              " 'housing_median_age',\n",
              " 'total_rooms',\n",
              " 'total_bedrooms',\n",
              " 'population',\n",
              " 'households',\n",
              " 'median_income',\n",
              " 'median_house_value']"
            ]
          },
          "metadata": {},
          "execution_count": 32
        }
      ],
      "source": [
        "df2.columns"
      ]
    },
    {
      "cell_type": "markdown",
      "metadata": {
        "id": "t4Sagavwsgb1"
      },
      "source": [
        "# Select particular columns"
      ]
    },
    {
      "cell_type": "code",
      "execution_count": 33,
      "metadata": {
        "colab": {
          "base_uri": "https://localhost:8080/"
        },
        "id": "q2dODSTisRJI",
        "outputId": "89fa13f8-fb2c-4859-d5fd-e52821fd006f"
      },
      "outputs": [
        {
          "output_type": "stream",
          "name": "stdout",
          "text": [
            "+---------+\n",
            "|longitude|\n",
            "+---------+\n",
            "|  -122.05|\n",
            "|   -118.3|\n",
            "|  -117.81|\n",
            "|  -118.36|\n",
            "|  -119.67|\n",
            "|  -119.56|\n",
            "|  -121.43|\n",
            "|  -120.65|\n",
            "|  -122.84|\n",
            "|  -118.02|\n",
            "|  -118.24|\n",
            "|  -119.12|\n",
            "|  -121.93|\n",
            "|  -117.03|\n",
            "|  -117.97|\n",
            "|  -117.99|\n",
            "|  -120.81|\n",
            "|   -121.2|\n",
            "|  -118.88|\n",
            "|  -122.59|\n",
            "+---------+\n",
            "only showing top 20 rows\n",
            "\n"
          ]
        }
      ],
      "source": [
        "df2.select('longitude').show()"
      ]
    },
    {
      "cell_type": "code",
      "execution_count": 34,
      "metadata": {
        "colab": {
          "base_uri": "https://localhost:8080/"
        },
        "id": "v1B8dVLtsoNS",
        "outputId": "9e8da788-cc93-4ed6-fbd8-6d34abde1789"
      },
      "outputs": [
        {
          "output_type": "stream",
          "name": "stdout",
          "text": [
            "+----------+------------------+\n",
            "|population|housing_median_age|\n",
            "+----------+------------------+\n",
            "|    1537.0|              27.0|\n",
            "|     809.0|              43.0|\n",
            "|    1484.0|              27.0|\n",
            "|      49.0|              28.0|\n",
            "|     850.0|              19.0|\n",
            "|     663.0|              37.0|\n",
            "|     604.0|              43.0|\n",
            "|    1341.0|              19.0|\n",
            "|    1446.0|              15.0|\n",
            "|    2830.0|              31.0|\n",
            "|    1288.0|              45.0|\n",
            "|     564.0|              37.0|\n",
            "|     535.0|              36.0|\n",
            "|    1935.0|              16.0|\n",
            "|    1217.0|              27.0|\n",
            "|     157.0|              42.0|\n",
            "|     189.0|              15.0|\n",
            "|    1603.0|              26.0|\n",
            "|     654.0|              26.0|\n",
            "|    3450.0|              35.0|\n",
            "+----------+------------------+\n",
            "only showing top 20 rows\n",
            "\n"
          ]
        }
      ],
      "source": [
        "df2.select(['population','housing_median_age']).show()"
      ]
    },
    {
      "cell_type": "markdown",
      "metadata": {
        "id": "gs8_1Q8W6-bB"
      },
      "source": [
        "# check data types of columns"
      ]
    },
    {
      "cell_type": "code",
      "execution_count": 35,
      "metadata": {
        "colab": {
          "base_uri": "https://localhost:8080/"
        },
        "id": "Ounyq1h462gC",
        "outputId": "48a2e3b1-8739-4589-9ffc-2891f676bf51"
      },
      "outputs": [
        {
          "output_type": "execute_result",
          "data": {
            "text/plain": [
              "[('longitude', 'double'),\n",
              " ('latitude', 'double'),\n",
              " ('housing_median_age', 'double'),\n",
              " ('total_rooms', 'double'),\n",
              " ('total_bedrooms', 'double'),\n",
              " ('population', 'double'),\n",
              " ('households', 'double'),\n",
              " ('median_income', 'double'),\n",
              " ('median_house_value', 'double')]"
            ]
          },
          "metadata": {},
          "execution_count": 35
        }
      ],
      "source": [
        "df2.dtypes"
      ]
    },
    {
      "cell_type": "markdown",
      "metadata": {
        "id": "_fQOaXlP7fhB"
      },
      "source": [
        "# describe function "
      ]
    },
    {
      "cell_type": "code",
      "execution_count": 36,
      "metadata": {
        "colab": {
          "base_uri": "https://localhost:8080/"
        },
        "id": "rnPzqhJH66wm",
        "outputId": "32bd35c2-e510-49d3-d7a9-cb6a73bc3530"
      },
      "outputs": [
        {
          "output_type": "stream",
          "name": "stdout",
          "text": [
            "+-------+-------------------+------------------+------------------+-----------------+------------------+------------------+------------------+------------------+------------------+\n",
            "|summary|          longitude|          latitude|housing_median_age|      total_rooms|    total_bedrooms|        population|        households|     median_income|median_house_value|\n",
            "+-------+-------------------+------------------+------------------+-----------------+------------------+------------------+------------------+------------------+------------------+\n",
            "|  count|               3000|              3000|              3000|             3000|              3000|              3000|              3000|              3000|              3000|\n",
            "|   mean|-119.58920000000029| 35.63538999999999|28.845333333333333|2599.578666666667| 529.9506666666666|1402.7986666666666|           489.912| 3.807271799999998|        205846.275|\n",
            "| stddev| 1.9949362939550166|2.1296695233438334|12.555395554955757|2155.593331625582|415.65436813632306|1030.5430124122424|365.42270980552615|1.8545117296914775|113119.68746964622|\n",
            "|    min|            -124.18|             32.56|               1.0|              6.0|               2.0|               5.0|               2.0|            0.4999|           22500.0|\n",
            "|    max|            -114.49|             41.92|              52.0|          30450.0|            5419.0|           11935.0|            4930.0|           15.0001|          500001.0|\n",
            "+-------+-------------------+------------------+------------------+-----------------+------------------+------------------+------------------+------------------+------------------+\n",
            "\n"
          ]
        }
      ],
      "source": [
        "df2.describe().show()"
      ]
    },
    {
      "cell_type": "markdown",
      "metadata": {
        "id": "zvviDVIw8Xt1"
      },
      "source": [
        "# Adding columns in dataframe"
      ]
    },
    {
      "cell_type": "code",
      "execution_count": 49,
      "metadata": {
        "id": "yxgI2Oze8fxW"
      },
      "outputs": [],
      "source": [
        "from pyspark.sql.functions import *\n",
        "df3 = df2.withColumn('housing_age',col('housing_median_age')+10).withColumn('income',col('median_income')+10).withColumn('house_value',col('median_house_value')+10)"
      ]
    },
    {
      "cell_type": "code",
      "execution_count": 50,
      "metadata": {
        "colab": {
          "base_uri": "https://localhost:8080/"
        },
        "id": "dnN_DD699dM0",
        "outputId": "72517618-5a5c-4bd6-99f8-84a6784d1b3f"
      },
      "outputs": [
        {
          "output_type": "stream",
          "name": "stdout",
          "text": [
            "+---------+--------+------------------+-----------+--------------+----------+----------+-------------+------------------+-----------+------------------+-----------+\n",
            "|longitude|latitude|housing_median_age|total_rooms|total_bedrooms|population|households|median_income|median_house_value|housing_age|            income|house_value|\n",
            "+---------+--------+------------------+-----------+--------------+----------+----------+-------------+------------------+-----------+------------------+-----------+\n",
            "|  -122.05|   37.37|              27.0|     3885.0|         661.0|    1537.0|     606.0|       6.6085|          344700.0|       37.0|           16.6085|   344710.0|\n",
            "|   -118.3|   34.26|              43.0|     1510.0|         310.0|     809.0|     277.0|        3.599|          176500.0|       53.0|            13.599|   176510.0|\n",
            "|  -117.81|   33.78|              27.0|     3589.0|         507.0|    1484.0|     495.0|       5.7934|          270500.0|       37.0|           15.7934|   270510.0|\n",
            "|  -118.36|   33.82|              28.0|       67.0|          15.0|      49.0|      11.0|       6.1359|          330000.0|       38.0|           16.1359|   330010.0|\n",
            "|  -119.67|   36.33|              19.0|     1241.0|         244.0|     850.0|     237.0|       2.9375|           81700.0|       29.0|           12.9375|    81710.0|\n",
            "|  -119.56|   36.51|              37.0|     1018.0|         213.0|     663.0|     204.0|       1.6635|           67000.0|       47.0|11.663499999999999|    67010.0|\n",
            "|  -121.43|   38.63|              43.0|     1009.0|         225.0|     604.0|     218.0|       1.6641|           67000.0|       53.0|           11.6641|    67010.0|\n",
            "|  -120.65|   35.48|              19.0|     2310.0|         471.0|    1341.0|     441.0|        3.225|          166900.0|       29.0|            13.225|   166910.0|\n",
            "|  -122.84|    38.4|              15.0|     3080.0|         617.0|    1446.0|     599.0|       3.6696|          194400.0|       25.0|13.669599999999999|   194410.0|\n",
            "|  -118.02|   34.08|              31.0|     2402.0|         632.0|    2830.0|     603.0|       2.3333|          164200.0|       41.0|           12.3333|   164210.0|\n",
            "|  -118.24|   33.98|              45.0|      972.0|         249.0|    1288.0|     261.0|       2.2054|          125000.0|       55.0|12.205400000000001|   125010.0|\n",
            "|  -119.12|   35.85|              37.0|      736.0|         166.0|     564.0|     138.0|       2.4167|           58300.0|       47.0|           12.4167|    58310.0|\n",
            "|  -121.93|   37.25|              36.0|     1089.0|         182.0|     535.0|     170.0|         4.69|          252600.0|       46.0|14.690000000000001|   252610.0|\n",
            "|  -117.03|   32.97|              16.0|     3936.0|         694.0|    1935.0|     659.0|       4.5625|          231200.0|       26.0|           14.5625|   231210.0|\n",
            "|  -117.97|   33.73|              27.0|     2097.0|         325.0|    1217.0|     331.0|       5.7121|          222500.0|       37.0|           15.7121|   222510.0|\n",
            "|  -117.99|   33.81|              42.0|      161.0|          40.0|     157.0|      50.0|          2.2|          153100.0|       52.0|              12.2|   153110.0|\n",
            "|  -120.81|   37.53|              15.0|      570.0|         123.0|     189.0|     107.0|        1.875|          181300.0|       25.0|            11.875|   181310.0|\n",
            "|   -121.2|   38.69|              26.0|     3077.0|         607.0|    1603.0|     595.0|       2.7174|          137500.0|       36.0|           12.7174|   137510.0|\n",
            "|  -118.88|   34.21|              26.0|     1590.0|         196.0|     654.0|     199.0|       6.5851|          300000.0|       36.0|           16.5851|   300010.0|\n",
            "|  -122.59|   38.01|              35.0|     8814.0|        1307.0|    3450.0|    1258.0|       6.1724|          414300.0|       45.0|           16.1724|   414310.0|\n",
            "+---------+--------+------------------+-----------+--------------+----------+----------+-------------+------------------+-----------+------------------+-----------+\n",
            "only showing top 20 rows\n",
            "\n"
          ]
        }
      ],
      "source": [
        "df3.show()"
      ]
    },
    {
      "cell_type": "markdown",
      "metadata": {
        "id": "tDXTsdUt-e53"
      },
      "source": [
        "# Dropping columns"
      ]
    },
    {
      "cell_type": "code",
      "execution_count": 52,
      "metadata": {
        "id": "wl0QNcwn-Pba",
        "colab": {
          "base_uri": "https://localhost:8080/"
        },
        "outputId": "1e4adc8d-9be2-408c-93d7-fa962d0d9760"
      },
      "outputs": [
        {
          "output_type": "stream",
          "name": "stdout",
          "text": [
            "+---------+--------+-----------+--------------+----------+----------+-----------+------------------+-----------+\n",
            "|longitude|latitude|total_rooms|total_bedrooms|population|households|housing_age|            income|house_value|\n",
            "+---------+--------+-----------+--------------+----------+----------+-----------+------------------+-----------+\n",
            "|  -122.05|   37.37|     3885.0|         661.0|    1537.0|     606.0|       37.0|           16.6085|   344710.0|\n",
            "|   -118.3|   34.26|     1510.0|         310.0|     809.0|     277.0|       53.0|            13.599|   176510.0|\n",
            "|  -117.81|   33.78|     3589.0|         507.0|    1484.0|     495.0|       37.0|           15.7934|   270510.0|\n",
            "|  -118.36|   33.82|       67.0|          15.0|      49.0|      11.0|       38.0|           16.1359|   330010.0|\n",
            "|  -119.67|   36.33|     1241.0|         244.0|     850.0|     237.0|       29.0|           12.9375|    81710.0|\n",
            "|  -119.56|   36.51|     1018.0|         213.0|     663.0|     204.0|       47.0|11.663499999999999|    67010.0|\n",
            "|  -121.43|   38.63|     1009.0|         225.0|     604.0|     218.0|       53.0|           11.6641|    67010.0|\n",
            "|  -120.65|   35.48|     2310.0|         471.0|    1341.0|     441.0|       29.0|            13.225|   166910.0|\n",
            "|  -122.84|    38.4|     3080.0|         617.0|    1446.0|     599.0|       25.0|13.669599999999999|   194410.0|\n",
            "|  -118.02|   34.08|     2402.0|         632.0|    2830.0|     603.0|       41.0|           12.3333|   164210.0|\n",
            "+---------+--------+-----------+--------------+----------+----------+-----------+------------------+-----------+\n",
            "only showing top 10 rows\n",
            "\n"
          ]
        }
      ],
      "source": [
        "df4=df3.drop('housing_median_age').drop('median_income').drop('median_house_value')\n",
        "df4.show(10)"
      ]
    },
    {
      "cell_type": "markdown",
      "metadata": {
        "id": "FsvjwL3v_VQy"
      },
      "source": [
        "# rename columns"
      ]
    },
    {
      "cell_type": "code",
      "execution_count": 56,
      "metadata": {
        "id": "gT9RQNJB_koT",
        "colab": {
          "base_uri": "https://localhost:8080/"
        },
        "outputId": "173d78e8-1a73-4527-8cc5-a0747faa7d7f"
      },
      "outputs": [
        {
          "output_type": "stream",
          "name": "stdout",
          "text": [
            "+---------+--------+-----------+--------------+----------+----------+-----------+------------------+-----------+\n",
            "|longitude|latitude|total_rooms|total_bedrooms|population|households|Housing_Age|    Housing_Income|house_value|\n",
            "+---------+--------+-----------+--------------+----------+----------+-----------+------------------+-----------+\n",
            "|  -122.05|   37.37|     3885.0|         661.0|    1537.0|     606.0|       37.0|           16.6085|   344710.0|\n",
            "|   -118.3|   34.26|     1510.0|         310.0|     809.0|     277.0|       53.0|            13.599|   176510.0|\n",
            "|  -117.81|   33.78|     3589.0|         507.0|    1484.0|     495.0|       37.0|           15.7934|   270510.0|\n",
            "|  -118.36|   33.82|       67.0|          15.0|      49.0|      11.0|       38.0|           16.1359|   330010.0|\n",
            "|  -119.67|   36.33|     1241.0|         244.0|     850.0|     237.0|       29.0|           12.9375|    81710.0|\n",
            "|  -119.56|   36.51|     1018.0|         213.0|     663.0|     204.0|       47.0|11.663499999999999|    67010.0|\n",
            "|  -121.43|   38.63|     1009.0|         225.0|     604.0|     218.0|       53.0|           11.6641|    67010.0|\n",
            "|  -120.65|   35.48|     2310.0|         471.0|    1341.0|     441.0|       29.0|            13.225|   166910.0|\n",
            "|  -122.84|    38.4|     3080.0|         617.0|    1446.0|     599.0|       25.0|13.669599999999999|   194410.0|\n",
            "|  -118.02|   34.08|     2402.0|         632.0|    2830.0|     603.0|       41.0|           12.3333|   164210.0|\n",
            "+---------+--------+-----------+--------------+----------+----------+-----------+------------------+-----------+\n",
            "only showing top 10 rows\n",
            "\n"
          ]
        }
      ],
      "source": [
        "df5=df4.withColumnRenamed('income','Housing_Income').withColumnRenamed('housing_age','Housing_Age')\n",
        "df5.show(10)"
      ]
    },
    {
      "cell_type": "markdown",
      "metadata": {
        "id": "N88Pqx27-dB-"
      },
      "source": [
        "#  Writing schema for dataFrame"
      ]
    },
    {
      "cell_type": "code",
      "source": [
        "from pyspark.sql.types import *\n",
        "\n",
        "schema = StructType([StructField(\"EMPNO\", IntegerType(), True),\\\n",
        "                     StructField(\"ENAME\", StringType(), True),\\\n",
        "                     StructField(\"JOB\", StringType(), True),\\\n",
        "                     StructField(\"MGR\", IntegerType(), True),\\\n",
        "                     StructField(\"HIREDATE\", DateType(), True),\\\n",
        "                     StructField(\"SAL\", IntegerType(), True),\\\n",
        "                     StructField(\"COMM\", IntegerType(), True),\\\n",
        "                     StructField(\"DEPTNO\", IntegerType(), True),\\\n",
        "                     StructField(\"UPDATED_DATE\",DateType(), True)\\\n",
        "])"
      ],
      "metadata": {
        "id": "QwhrFooVRMYq"
      },
      "execution_count": 86,
      "outputs": []
    },
    {
      "cell_type": "markdown",
      "source": [
        "# Reading csv dataframe with pipe seprated values"
      ],
      "metadata": {
        "id": "Ugtf0Tb1LaCD"
      }
    },
    {
      "cell_type": "code",
      "source": [
        "data = spark.read.format('csv').option('header',True).option('Sep','|').option('nullValue','null').option('inferSchema',True).load(\"/content/emp_pipe.csv\")\n",
        "data.show()"
      ],
      "metadata": {
        "id": "hj22IJbSUPZt",
        "colab": {
          "base_uri": "https://localhost:8080/"
        },
        "outputId": "22ed0279-2157-4be7-947c-f008fcfc8a71"
      },
      "execution_count": 94,
      "outputs": [
        {
          "output_type": "stream",
          "name": "stdout",
          "text": [
            "+-----+------+---------+----+--------+----+----+------+\n",
            "|EMPNO| ENAME|      JOB| MGR|HIREDATE| SAL|COMM|DEPTNO|\n",
            "+-----+------+---------+----+--------+----+----+------+\n",
            "| 7369| SMITH|    CLERK|7902|17-12-80| 800|null|    20|\n",
            "| 7499| ALLEN| SALESMAN|7698|20-02-81|1600| 300|    30|\n",
            "| 7521|  WARD| SALESMAN|7698|22-02-81|1250| 500|    30|\n",
            "| 7566| JONES|  MANAGER|7839|02-04-81|2975|null|    20|\n",
            "| 7654|MARTIN| SALESMAN|7698|28-09-81|1250|1400|    30|\n",
            "| 7698|   SGR|  MANAGER|7839|01-05-81|2850|null|    30|\n",
            "| 7782|  RAVI|  MANAGER|7839|09-06-81|2450|null|    10|\n",
            "| 7788| SCOTT|  ANALYST|7566|19-04-87|3000|null|    20|\n",
            "| 7839|  KING|PRESIDENT|null|17-11-81|5000|null|    10|\n",
            "| 7844|TURNER| SALESMAN|7698|08-09-81|1500|   0|    30|\n",
            "| 7876| ADAMS|    CLERK|7788|23-05-87|1100|null|    20|\n",
            "| 7900| JAMES|    CLERK|7698|03-12-81| 950|null|    30|\n",
            "| 7902|  FORD|  ANALYST|7566|03-12-81|3000|null|    20|\n",
            "| 7934|MILLER|    CLERK|7782|23-01-82|1300|null|    10|\n",
            "| 1234|SEKHAR|   doctor|7777|    null| 667|  78|    80|\n",
            "+-----+------+---------+----+--------+----+----+------+\n",
            "\n"
          ]
        }
      ]
    },
    {
      "cell_type": "code",
      "source": [
        "data.printSchema()\n",
        "data.count()"
      ],
      "metadata": {
        "colab": {
          "base_uri": "https://localhost:8080/"
        },
        "id": "GJCioCedXXJ6",
        "outputId": "7aa6edac-882f-47bf-a075-8bbcb2d1579c"
      },
      "execution_count": 96,
      "outputs": [
        {
          "output_type": "stream",
          "name": "stdout",
          "text": [
            "root\n",
            " |-- EMPNO: integer (nullable = true)\n",
            " |-- ENAME: string (nullable = true)\n",
            " |-- JOB: string (nullable = true)\n",
            " |-- MGR: integer (nullable = true)\n",
            " |-- HIREDATE: string (nullable = true)\n",
            " |-- SAL: integer (nullable = true)\n",
            " |-- COMM: integer (nullable = true)\n",
            " |-- DEPTNO: integer (nullable = true)\n",
            "\n"
          ]
        },
        {
          "output_type": "execute_result",
          "data": {
            "text/plain": [
              "15"
            ]
          },
          "metadata": {},
          "execution_count": 96
        }
      ]
    },
    {
      "cell_type": "markdown",
      "source": [
        "# drop null values from dataFrame"
      ],
      "metadata": {
        "id": "4GLWl681eZBr"
      }
    },
    {
      "cell_type": "code",
      "source": [
        "#  how = any\n",
        "\n",
        "data2 = data.dropna(how='any')\n",
        "data2.show()\n",
        "data2.count()"
      ],
      "metadata": {
        "colab": {
          "base_uri": "https://localhost:8080/"
        },
        "id": "gdDxfNl0ejCF",
        "outputId": "22a03332-b6ec-47b3-cf25-fc4b61906ddc"
      },
      "execution_count": 108,
      "outputs": [
        {
          "output_type": "stream",
          "name": "stdout",
          "text": [
            "+-----+------+--------+----+--------+----+----+------+\n",
            "|EMPNO| ENAME|     JOB| MGR|HIREDATE| SAL|COMM|DEPTNO|\n",
            "+-----+------+--------+----+--------+----+----+------+\n",
            "| 7499| ALLEN|SALESMAN|7698|20-02-81|1600| 300|    30|\n",
            "| 7521|  WARD|SALESMAN|7698|22-02-81|1250| 500|    30|\n",
            "| 7654|MARTIN|SALESMAN|7698|28-09-81|1250|1400|    30|\n",
            "| 7844|TURNER|SALESMAN|7698|08-09-81|1500|   0|    30|\n",
            "+-----+------+--------+----+--------+----+----+------+\n",
            "\n"
          ]
        },
        {
          "output_type": "execute_result",
          "data": {
            "text/plain": [
              "4"
            ]
          },
          "metadata": {},
          "execution_count": 108
        }
      ]
    },
    {
      "cell_type": "code",
      "source": [
        "# how =all\n",
        "\n",
        "data3 = data.na.drop( how = 'all')\n",
        "data3.show()\n",
        "data.count()"
      ],
      "metadata": {
        "colab": {
          "base_uri": "https://localhost:8080/"
        },
        "id": "q9pqeQaGggXB",
        "outputId": "7e1fc972-938f-400b-d7d6-93375431edf7"
      },
      "execution_count": 109,
      "outputs": [
        {
          "output_type": "stream",
          "name": "stdout",
          "text": [
            "+-----+------+---------+----+--------+----+----+------+\n",
            "|EMPNO| ENAME|      JOB| MGR|HIREDATE| SAL|COMM|DEPTNO|\n",
            "+-----+------+---------+----+--------+----+----+------+\n",
            "| 7369| SMITH|    CLERK|7902|17-12-80| 800|null|    20|\n",
            "| 7499| ALLEN| SALESMAN|7698|20-02-81|1600| 300|    30|\n",
            "| 7521|  WARD| SALESMAN|7698|22-02-81|1250| 500|    30|\n",
            "| 7566| JONES|  MANAGER|7839|02-04-81|2975|null|    20|\n",
            "| 7654|MARTIN| SALESMAN|7698|28-09-81|1250|1400|    30|\n",
            "| 7698|   SGR|  MANAGER|7839|01-05-81|2850|null|    30|\n",
            "| 7782|  RAVI|  MANAGER|7839|09-06-81|2450|null|    10|\n",
            "| 7788| SCOTT|  ANALYST|7566|19-04-87|3000|null|    20|\n",
            "| 7839|  KING|PRESIDENT|null|17-11-81|5000|null|    10|\n",
            "| 7844|TURNER| SALESMAN|7698|08-09-81|1500|   0|    30|\n",
            "| 7876| ADAMS|    CLERK|7788|23-05-87|1100|null|    20|\n",
            "| 7900| JAMES|    CLERK|7698|03-12-81| 950|null|    30|\n",
            "| 7902|  FORD|  ANALYST|7566|03-12-81|3000|null|    20|\n",
            "| 7934|MILLER|    CLERK|7782|23-01-82|1300|null|    10|\n",
            "| 1234|SEKHAR|   doctor|7777|    null| 667|  78|    80|\n",
            "+-----+------+---------+----+--------+----+----+------+\n",
            "\n"
          ]
        },
        {
          "output_type": "execute_result",
          "data": {
            "text/plain": [
              "15"
            ]
          },
          "metadata": {},
          "execution_count": 109
        }
      ]
    },
    {
      "cell_type": "code",
      "source": [
        "#threshold \n",
        "\n",
        "data4= data.na.drop(how='any',thresh=2)\n",
        "data4.show()\n",
        "data4.count()"
      ],
      "metadata": {
        "colab": {
          "base_uri": "https://localhost:8080/"
        },
        "id": "ZxTl2xNlgkcJ",
        "outputId": "754fce5b-463a-4858-b3b1-39dc5146435e"
      },
      "execution_count": 111,
      "outputs": [
        {
          "output_type": "stream",
          "name": "stdout",
          "text": [
            "+-----+------+---------+----+--------+----+----+------+\n",
            "|EMPNO| ENAME|      JOB| MGR|HIREDATE| SAL|COMM|DEPTNO|\n",
            "+-----+------+---------+----+--------+----+----+------+\n",
            "| 7369| SMITH|    CLERK|7902|17-12-80| 800|null|    20|\n",
            "| 7499| ALLEN| SALESMAN|7698|20-02-81|1600| 300|    30|\n",
            "| 7521|  WARD| SALESMAN|7698|22-02-81|1250| 500|    30|\n",
            "| 7566| JONES|  MANAGER|7839|02-04-81|2975|null|    20|\n",
            "| 7654|MARTIN| SALESMAN|7698|28-09-81|1250|1400|    30|\n",
            "| 7698|   SGR|  MANAGER|7839|01-05-81|2850|null|    30|\n",
            "| 7782|  RAVI|  MANAGER|7839|09-06-81|2450|null|    10|\n",
            "| 7788| SCOTT|  ANALYST|7566|19-04-87|3000|null|    20|\n",
            "| 7839|  KING|PRESIDENT|null|17-11-81|5000|null|    10|\n",
            "| 7844|TURNER| SALESMAN|7698|08-09-81|1500|   0|    30|\n",
            "| 7876| ADAMS|    CLERK|7788|23-05-87|1100|null|    20|\n",
            "| 7900| JAMES|    CLERK|7698|03-12-81| 950|null|    30|\n",
            "| 7902|  FORD|  ANALYST|7566|03-12-81|3000|null|    20|\n",
            "| 7934|MILLER|    CLERK|7782|23-01-82|1300|null|    10|\n",
            "| 1234|SEKHAR|   doctor|7777|    null| 667|  78|    80|\n",
            "+-----+------+---------+----+--------+----+----+------+\n",
            "\n"
          ]
        },
        {
          "output_type": "execute_result",
          "data": {
            "text/plain": [
              "15"
            ]
          },
          "metadata": {},
          "execution_count": 111
        }
      ]
    },
    {
      "cell_type": "code",
      "source": [
        "#subset - used to delete particular column null values\n",
        "\n",
        "data5 = data.na.drop(how= 'any',subset=[\"COMM\"])\n",
        "data5.show()\n",
        "data5.count()"
      ],
      "metadata": {
        "colab": {
          "base_uri": "https://localhost:8080/"
        },
        "id": "Q7Qcm64nnAnl",
        "outputId": "e8de2445-ac84-4025-83dc-224d86f92872"
      },
      "execution_count": 112,
      "outputs": [
        {
          "output_type": "stream",
          "name": "stdout",
          "text": [
            "+-----+------+--------+----+--------+----+----+------+\n",
            "|EMPNO| ENAME|     JOB| MGR|HIREDATE| SAL|COMM|DEPTNO|\n",
            "+-----+------+--------+----+--------+----+----+------+\n",
            "| 7499| ALLEN|SALESMAN|7698|20-02-81|1600| 300|    30|\n",
            "| 7521|  WARD|SALESMAN|7698|22-02-81|1250| 500|    30|\n",
            "| 7654|MARTIN|SALESMAN|7698|28-09-81|1250|1400|    30|\n",
            "| 7844|TURNER|SALESMAN|7698|08-09-81|1500|   0|    30|\n",
            "| 1234|SEKHAR|  doctor|7777|    null| 667|  78|    80|\n",
            "+-----+------+--------+----+--------+----+----+------+\n",
            "\n"
          ]
        },
        {
          "output_type": "execute_result",
          "data": {
            "text/plain": [
              "5"
            ]
          },
          "metadata": {},
          "execution_count": 112
        }
      ]
    },
    {
      "cell_type": "markdown",
      "source": [
        "# filling null values"
      ],
      "metadata": {
        "id": "UScc8GJDMusA"
      }
    },
    {
      "cell_type": "code",
      "source": [
        "data.show()"
      ],
      "metadata": {
        "colab": {
          "base_uri": "https://localhost:8080/"
        },
        "id": "XIvZcdZMNDTa",
        "outputId": "d01c772e-c3c1-43ba-8816-ae9e1f75ad74"
      },
      "execution_count": 114,
      "outputs": [
        {
          "output_type": "stream",
          "name": "stdout",
          "text": [
            "+-----+------+---------+----+--------+----+----+------+\n",
            "|EMPNO| ENAME|      JOB| MGR|HIREDATE| SAL|COMM|DEPTNO|\n",
            "+-----+------+---------+----+--------+----+----+------+\n",
            "| 7369| SMITH|    CLERK|7902|17-12-80| 800|null|    20|\n",
            "| 7499| ALLEN| SALESMAN|7698|20-02-81|1600| 300|    30|\n",
            "| 7521|  WARD| SALESMAN|7698|22-02-81|1250| 500|    30|\n",
            "| 7566| JONES|  MANAGER|7839|02-04-81|2975|null|    20|\n",
            "| 7654|MARTIN| SALESMAN|7698|28-09-81|1250|1400|    30|\n",
            "| 7698|   SGR|  MANAGER|7839|01-05-81|2850|null|    30|\n",
            "| 7782|  RAVI|  MANAGER|7839|09-06-81|2450|null|    10|\n",
            "| 7788| SCOTT|  ANALYST|7566|19-04-87|3000|null|    20|\n",
            "| 7839|  KING|PRESIDENT|null|17-11-81|5000|null|    10|\n",
            "| 7844|TURNER| SALESMAN|7698|08-09-81|1500|   0|    30|\n",
            "| 7876| ADAMS|    CLERK|7788|23-05-87|1100|null|    20|\n",
            "| 7900| JAMES|    CLERK|7698|03-12-81| 950|null|    30|\n",
            "| 7902|  FORD|  ANALYST|7566|03-12-81|3000|null|    20|\n",
            "| 7934|MILLER|    CLERK|7782|23-01-82|1300|null|    10|\n",
            "| 1234|SEKHAR|   doctor|7777|    null| 667|  78|    80|\n",
            "+-----+------+---------+----+--------+----+----+------+\n",
            "\n"
          ]
        }
      ]
    },
    {
      "cell_type": "code",
      "source": [
        "d1= data.fillna('Missing',['ENAME','JOB']).na.fill(1,['EMPNO','MGR','SAL','COMM','DEPTNO']).fillna('31-12-99',['HIREDATE'])\n",
        "d1.show()"
      ],
      "metadata": {
        "colab": {
          "base_uri": "https://localhost:8080/"
        },
        "id": "ESa5KXMiNFUC",
        "outputId": "bff6b1b4-0d14-46ee-b3a1-4022a4a0ac5e"
      },
      "execution_count": 116,
      "outputs": [
        {
          "output_type": "stream",
          "name": "stdout",
          "text": [
            "+-----+------+---------+----+--------+----+----+------+\n",
            "|EMPNO| ENAME|      JOB| MGR|HIREDATE| SAL|COMM|DEPTNO|\n",
            "+-----+------+---------+----+--------+----+----+------+\n",
            "| 7369| SMITH|    CLERK|7902|17-12-80| 800|   1|    20|\n",
            "| 7499| ALLEN| SALESMAN|7698|20-02-81|1600| 300|    30|\n",
            "| 7521|  WARD| SALESMAN|7698|22-02-81|1250| 500|    30|\n",
            "| 7566| JONES|  MANAGER|7839|02-04-81|2975|   1|    20|\n",
            "| 7654|MARTIN| SALESMAN|7698|28-09-81|1250|1400|    30|\n",
            "| 7698|   SGR|  MANAGER|7839|01-05-81|2850|   1|    30|\n",
            "| 7782|  RAVI|  MANAGER|7839|09-06-81|2450|   1|    10|\n",
            "| 7788| SCOTT|  ANALYST|7566|19-04-87|3000|   1|    20|\n",
            "| 7839|  KING|PRESIDENT|   1|17-11-81|5000|   1|    10|\n",
            "| 7844|TURNER| SALESMAN|7698|08-09-81|1500|   0|    30|\n",
            "| 7876| ADAMS|    CLERK|7788|23-05-87|1100|   1|    20|\n",
            "| 7900| JAMES|    CLERK|7698|03-12-81| 950|   1|    30|\n",
            "| 7902|  FORD|  ANALYST|7566|03-12-81|3000|   1|    20|\n",
            "| 7934|MILLER|    CLERK|7782|23-01-82|1300|   1|    10|\n",
            "| 1234|SEKHAR|   doctor|7777|31-12-99| 667|  78|    80|\n",
            "+-----+------+---------+----+--------+----+----+------+\n",
            "\n"
          ]
        }
      ]
    },
    {
      "cell_type": "markdown",
      "source": [
        "# Filter operations"
      ],
      "metadata": {
        "id": "BtR_0aUmWVvw"
      }
    },
    {
      "cell_type": "code",
      "source": [
        "#salary of peeple greter than 1500 -one way\n",
        "\n",
        "d1.filter('SAL>1500').show()"
      ],
      "metadata": {
        "colab": {
          "base_uri": "https://localhost:8080/"
        },
        "id": "YYtW6tb6WiEp",
        "outputId": "3431f9fc-ab29-4264-da73-d875fe36b6a9"
      },
      "execution_count": 121,
      "outputs": [
        {
          "output_type": "stream",
          "name": "stdout",
          "text": [
            "+-----+-----+---------+----+--------+----+----+------+\n",
            "|EMPNO|ENAME|      JOB| MGR|HIREDATE| SAL|COMM|DEPTNO|\n",
            "+-----+-----+---------+----+--------+----+----+------+\n",
            "| 7499|ALLEN| SALESMAN|7698|20-02-81|1600| 300|    30|\n",
            "| 7566|JONES|  MANAGER|7839|02-04-81|2975|   1|    20|\n",
            "| 7698|  SGR|  MANAGER|7839|01-05-81|2850|   1|    30|\n",
            "| 7782| RAVI|  MANAGER|7839|09-06-81|2450|   1|    10|\n",
            "| 7788|SCOTT|  ANALYST|7566|19-04-87|3000|   1|    20|\n",
            "| 7839| KING|PRESIDENT|   1|17-11-81|5000|   1|    10|\n",
            "| 7902| FORD|  ANALYST|7566|03-12-81|3000|   1|    20|\n",
            "+-----+-----+---------+----+--------+----+----+------+\n",
            "\n"
          ]
        }
      ]
    },
    {
      "cell_type": "code",
      "source": [
        "#salary of peeple greter than 1500 -other way\n",
        "\n",
        "\n",
        "d1.filter((col('SAL')>1500)).show()"
      ],
      "metadata": {
        "colab": {
          "base_uri": "https://localhost:8080/"
        },
        "id": "oicV05Jse2VJ",
        "outputId": "dbd278ee-f809-48e2-d413-c76e23588eb0"
      },
      "execution_count": 134,
      "outputs": [
        {
          "output_type": "stream",
          "name": "stdout",
          "text": [
            "+-----+-----+---------+----+--------+----+----+------+\n",
            "|EMPNO|ENAME|      JOB| MGR|HIREDATE| SAL|COMM|DEPTNO|\n",
            "+-----+-----+---------+----+--------+----+----+------+\n",
            "| 7499|ALLEN| SALESMAN|7698|20-02-81|1600| 300|    30|\n",
            "| 7566|JONES|  MANAGER|7839|02-04-81|2975|   1|    20|\n",
            "| 7698|  SGR|  MANAGER|7839|01-05-81|2850|   1|    30|\n",
            "| 7782| RAVI|  MANAGER|7839|09-06-81|2450|   1|    10|\n",
            "| 7788|SCOTT|  ANALYST|7566|19-04-87|3000|   1|    20|\n",
            "| 7839| KING|PRESIDENT|   1|17-11-81|5000|   1|    10|\n",
            "| 7902| FORD|  ANALYST|7566|03-12-81|3000|   1|    20|\n",
            "+-----+-----+---------+----+--------+----+----+------+\n",
            "\n"
          ]
        }
      ]
    },
    {
      "cell_type": "code",
      "source": [
        "#not operator\n",
        "\n",
        "d1.filter(~(col('SAL')>1500)).show()"
      ],
      "metadata": {
        "colab": {
          "base_uri": "https://localhost:8080/"
        },
        "id": "9ui4rTRYfi6E",
        "outputId": "732af790-af19-4479-d7cd-738fd2078bfc"
      },
      "execution_count": 133,
      "outputs": [
        {
          "output_type": "stream",
          "name": "stdout",
          "text": [
            "+-----+------+--------+----+--------+----+----+------+\n",
            "|EMPNO| ENAME|     JOB| MGR|HIREDATE| SAL|COMM|DEPTNO|\n",
            "+-----+------+--------+----+--------+----+----+------+\n",
            "| 7369| SMITH|   CLERK|7902|17-12-80| 800|   1|    20|\n",
            "| 7521|  WARD|SALESMAN|7698|22-02-81|1250| 500|    30|\n",
            "| 7654|MARTIN|SALESMAN|7698|28-09-81|1250|1400|    30|\n",
            "| 7844|TURNER|SALESMAN|7698|08-09-81|1500|   0|    30|\n",
            "| 7876| ADAMS|   CLERK|7788|23-05-87|1100|   1|    20|\n",
            "| 7900| JAMES|   CLERK|7698|03-12-81| 950|   1|    30|\n",
            "| 7934|MILLER|   CLERK|7782|23-01-82|1300|   1|    10|\n",
            "| 1234|SEKHAR|  doctor|7777|31-12-99| 667|  78|    80|\n",
            "+-----+------+--------+----+--------+----+----+------+\n",
            "\n"
          ]
        }
      ]
    },
    {
      "cell_type": "code",
      "source": [
        "# & operator\n",
        "#show empno,ename of people salary less than 1500 and comm should be greater than zero\n",
        "\n",
        "d1.filter( (col('SAL')<1500) & (col('COMM')>0)).show()"
      ],
      "metadata": {
        "colab": {
          "base_uri": "https://localhost:8080/"
        },
        "id": "ddt93mRzZF2T",
        "outputId": "78afc695-fca4-44c9-91ea-13aa8b06aff6"
      },
      "execution_count": 132,
      "outputs": [
        {
          "output_type": "stream",
          "name": "stdout",
          "text": [
            "+-----+------+--------+----+--------+----+----+------+\n",
            "|EMPNO| ENAME|     JOB| MGR|HIREDATE| SAL|COMM|DEPTNO|\n",
            "+-----+------+--------+----+--------+----+----+------+\n",
            "| 7369| SMITH|   CLERK|7902|17-12-80| 800|   1|    20|\n",
            "| 7521|  WARD|SALESMAN|7698|22-02-81|1250| 500|    30|\n",
            "| 7654|MARTIN|SALESMAN|7698|28-09-81|1250|1400|    30|\n",
            "| 7876| ADAMS|   CLERK|7788|23-05-87|1100|   1|    20|\n",
            "| 7900| JAMES|   CLERK|7698|03-12-81| 950|   1|    30|\n",
            "| 7934|MILLER|   CLERK|7782|23-01-82|1300|   1|    10|\n",
            "| 1234|SEKHAR|  doctor|7777|31-12-99| 667|  78|    80|\n",
            "+-----+------+--------+----+--------+----+----+------+\n",
            "\n"
          ]
        }
      ]
    },
    {
      "cell_type": "code",
      "source": [
        "# | operator\n",
        "d1.filter((col('SAL')<1500) | (col('COMM')>0)).show()"
      ],
      "metadata": {
        "colab": {
          "base_uri": "https://localhost:8080/"
        },
        "id": "2J5ZQNHbbgMe",
        "outputId": "b3019a9c-6ed6-4dd6-9be6-50234b091dc0"
      },
      "execution_count": 130,
      "outputs": [
        {
          "output_type": "stream",
          "name": "stdout",
          "text": [
            "+-----+------+---------+----+--------+----+----+------+\n",
            "|EMPNO| ENAME|      JOB| MGR|HIREDATE| SAL|COMM|DEPTNO|\n",
            "+-----+------+---------+----+--------+----+----+------+\n",
            "| 7369| SMITH|    CLERK|7902|17-12-80| 800|   1|    20|\n",
            "| 7499| ALLEN| SALESMAN|7698|20-02-81|1600| 300|    30|\n",
            "| 7521|  WARD| SALESMAN|7698|22-02-81|1250| 500|    30|\n",
            "| 7566| JONES|  MANAGER|7839|02-04-81|2975|   1|    20|\n",
            "| 7654|MARTIN| SALESMAN|7698|28-09-81|1250|1400|    30|\n",
            "| 7698|   SGR|  MANAGER|7839|01-05-81|2850|   1|    30|\n",
            "| 7782|  RAVI|  MANAGER|7839|09-06-81|2450|   1|    10|\n",
            "| 7788| SCOTT|  ANALYST|7566|19-04-87|3000|   1|    20|\n",
            "| 7839|  KING|PRESIDENT|   1|17-11-81|5000|   1|    10|\n",
            "| 7876| ADAMS|    CLERK|7788|23-05-87|1100|   1|    20|\n",
            "| 7900| JAMES|    CLERK|7698|03-12-81| 950|   1|    30|\n",
            "| 7902|  FORD|  ANALYST|7566|03-12-81|3000|   1|    20|\n",
            "| 7934|MILLER|    CLERK|7782|23-01-82|1300|   1|    10|\n",
            "| 1234|SEKHAR|   doctor|7777|31-12-99| 667|  78|    80|\n",
            "+-----+------+---------+----+--------+----+----+------+\n",
            "\n"
          ]
        }
      ]
    },
    {
      "cell_type": "markdown",
      "source": [
        "# GroupBy and Aggregate functions"
      ],
      "metadata": {
        "id": "sU7BZJM-Ct1Z"
      }
    },
    {
      "cell_type": "code",
      "source": [
        "#GroupBy job role and max salary\n",
        "\n",
        "data1.groupBy('JOB').sum('SAL').show()\n"
      ],
      "metadata": {
        "id": "_23jqwHyf_g-",
        "colab": {
          "base_uri": "https://localhost:8080/"
        },
        "outputId": "6d14c924-1871-4182-d616-c5e525b96c61"
      },
      "execution_count": 135,
      "outputs": [
        {
          "output_type": "stream",
          "name": "stdout",
          "text": [
            "+---------+--------+\n",
            "|      JOB|sum(SAL)|\n",
            "+---------+--------+\n",
            "|  ANALYST|    6000|\n",
            "| SALESMAN|    5600|\n",
            "|    CLERK|    4150|\n",
            "|  MANAGER|    8275|\n",
            "|PRESIDENT|    5000|\n",
            "|   doctor|     667|\n",
            "+---------+--------+\n",
            "\n"
          ]
        }
      ]
    },
    {
      "cell_type": "code",
      "source": [
        "#Group by of salaries\n",
        "\n",
        "data1.groupBy('ENAME').sum('SAL').show(10)"
      ],
      "metadata": {
        "colab": {
          "base_uri": "https://localhost:8080/"
        },
        "id": "f2o-FOjJFXzE",
        "outputId": "c230c7cb-d1ea-48ca-c85f-9fff6e2e2048"
      },
      "execution_count": 137,
      "outputs": [
        {
          "output_type": "stream",
          "name": "stdout",
          "text": [
            "+------+--------+\n",
            "| ENAME|sum(SAL)|\n",
            "+------+--------+\n",
            "| JONES|    2975|\n",
            "|SEKHAR|     667|\n",
            "| ADAMS|    1100|\n",
            "|TURNER|    1500|\n",
            "|   SGR|    2850|\n",
            "|  FORD|    3000|\n",
            "|MILLER|    1300|\n",
            "|  KING|    5000|\n",
            "|  RAVI|    2450|\n",
            "|MARTIN|    1250|\n",
            "+------+--------+\n",
            "only showing top 10 rows\n",
            "\n"
          ]
        }
      ]
    },
    {
      "cell_type": "code",
      "source": [
        "#find max salary of person\n",
        "\n",
        "data1.groupBy('ENAME').max('SAL').show()"
      ],
      "metadata": {
        "colab": {
          "base_uri": "https://localhost:8080/"
        },
        "id": "Pz75L70DHeXa",
        "outputId": "e533b4a5-5e85-47e0-99c6-4adfc66fa597"
      },
      "execution_count": 138,
      "outputs": [
        {
          "output_type": "stream",
          "name": "stdout",
          "text": [
            "+------+--------+\n",
            "| ENAME|max(SAL)|\n",
            "+------+--------+\n",
            "| JONES|    2975|\n",
            "|SEKHAR|     667|\n",
            "| ADAMS|    1100|\n",
            "|TURNER|    1500|\n",
            "|   SGR|    2850|\n",
            "|  FORD|    3000|\n",
            "|MILLER|    1300|\n",
            "|  KING|    5000|\n",
            "|  RAVI|    2450|\n",
            "|MARTIN|    1250|\n",
            "| SCOTT|    3000|\n",
            "| ALLEN|    1600|\n",
            "|  WARD|    1250|\n",
            "| JAMES|     950|\n",
            "| SMITH|     800|\n",
            "+------+--------+\n",
            "\n"
          ]
        }
      ]
    },
    {
      "cell_type": "code",
      "source": [
        "#find job role and people count\n",
        "\n",
        "data1.groupBy('JOB').count().show()"
      ],
      "metadata": {
        "colab": {
          "base_uri": "https://localhost:8080/"
        },
        "id": "vJDvRXcGFoSs",
        "outputId": "cc9148a3-a7b0-4515-b1cb-feff4dbe16ef"
      },
      "execution_count": 139,
      "outputs": [
        {
          "output_type": "stream",
          "name": "stdout",
          "text": [
            "+---------+-----+\n",
            "|      JOB|count|\n",
            "+---------+-----+\n",
            "|  ANALYST|    2|\n",
            "| SALESMAN|    4|\n",
            "|    CLERK|    4|\n",
            "|  MANAGER|    3|\n",
            "|PRESIDENT|    1|\n",
            "|   doctor|    1|\n",
            "+---------+-----+\n",
            "\n"
          ]
        }
      ]
    },
    {
      "cell_type": "code",
      "source": [
        "#other way\n",
        "\n",
        "data1.agg({'SAL':'sum'}).show()"
      ],
      "metadata": {
        "colab": {
          "base_uri": "https://localhost:8080/"
        },
        "id": "SlcaTn3LGxmO",
        "outputId": "16696620-d7a8-4026-8dde-ef03f4a44035"
      },
      "execution_count": 140,
      "outputs": [
        {
          "output_type": "stream",
          "name": "stdout",
          "text": [
            "+--------+\n",
            "|sum(SAL)|\n",
            "+--------+\n",
            "|   29692|\n",
            "+--------+\n",
            "\n"
          ]
        }
      ]
    }
  ],
  "metadata": {
    "colab": {
      "collapsed_sections": [
        "NbFalTaBnvmA",
        "p-5j-cMJn7Jz",
        "Zo_-_Nj_hvsX",
        "HOSZSLuFiLYx",
        "g5IWj-E-pCro",
        "AHi5WArll9Mg",
        "kU9oTppcrgx8",
        "EusB415EoXd9",
        "t4Sagavwsgb1",
        "gs8_1Q8W6-bB",
        "_fQOaXlP7fhB",
        "zvviDVIw8Xt1",
        "tDXTsdUt-e53",
        "FsvjwL3v_VQy",
        "N88Pqx27-dB-",
        "Ugtf0Tb1LaCD",
        "4GLWl681eZBr",
        "UScc8GJDMusA",
        "BtR_0aUmWVvw",
        "sU7BZJM-Ct1Z"
      ],
      "provenance": []
    },
    "kernelspec": {
      "display_name": "Python 3",
      "name": "python3"
    },
    "language_info": {
      "name": "python"
    }
  },
  "nbformat": 4,
  "nbformat_minor": 0
}