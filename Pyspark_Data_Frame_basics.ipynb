{
  "cells": [
    {
      "cell_type": "markdown",
      "metadata": {
        "id": "NbFalTaBnvmA"
      },
      "source": [
        "#Installing Pyspark in Googlecolab"
      ]
    },
    {
      "cell_type": "code",
      "execution_count": 81,
      "metadata": {
        "colab": {
          "base_uri": "https://localhost:8080/"
        },
        "id": "jmfJcwA4dnM0",
        "outputId": "7f22b56d-08d7-4a71-f9bc-e5eb75e4dde2"
      },
      "outputs": [
        {
          "output_type": "stream",
          "name": "stdout",
          "text": [
            "Looking in indexes: https://pypi.org/simple, https://us-python.pkg.dev/colab-wheels/public/simple/\n",
            "Requirement already satisfied: pyspark in /usr/local/lib/python3.9/dist-packages (3.3.2)\n",
            "Requirement already satisfied: py4j in /usr/local/lib/python3.9/dist-packages (0.10.9.5)\n"
          ]
        }
      ],
      "source": [
        "!pip install pyspark py4j"
      ]
    },
    {
      "cell_type": "markdown",
      "metadata": {
        "id": "p-5j-cMJn7Jz"
      },
      "source": [
        "# Creating new SparkSession"
      ]
    },
    {
      "cell_type": "code",
      "execution_count": 82,
      "metadata": {
        "id": "ufEBg2pueVGM"
      },
      "outputs": [],
      "source": [
        "from pyspark.sql import SparkSession\n",
        "\n",
        "spark = SparkSession.builder.appName(\"Practice\").getOrCreate()"
      ]
    },
    {
      "cell_type": "code",
      "execution_count": 83,
      "metadata": {
        "id": "HLOMjGlF1j-V",
        "colab": {
          "base_uri": "https://localhost:8080/",
          "height": 0
        },
        "outputId": "fc128f87-8059-4924-be42-7d8f942de383"
      },
      "outputs": [
        {
          "output_type": "execute_result",
          "data": {
            "text/plain": [
              "<pyspark.sql.session.SparkSession at 0x7f482c654370>"
            ],
            "text/html": [
              "\n",
              "            <div>\n",
              "                <p><b>SparkSession - in-memory</b></p>\n",
              "                \n",
              "        <div>\n",
              "            <p><b>SparkContext</b></p>\n",
              "\n",
              "            <p><a href=\"http://3f1dc91ccc99:4040\">Spark UI</a></p>\n",
              "\n",
              "            <dl>\n",
              "              <dt>Version</dt>\n",
              "                <dd><code>v3.3.2</code></dd>\n",
              "              <dt>Master</dt>\n",
              "                <dd><code>local[*]</code></dd>\n",
              "              <dt>AppName</dt>\n",
              "                <dd><code>Practice</code></dd>\n",
              "            </dl>\n",
              "        </div>\n",
              "        \n",
              "            </div>\n",
              "        "
            ]
          },
          "metadata": {},
          "execution_count": 83
        }
      ],
      "source": [
        "spark\n"
      ]
    },
    {
      "cell_type": "markdown",
      "metadata": {
        "id": "Zo_-_Nj_hvsX"
      },
      "source": [
        "#Reading CSV data into df dataframe without header and schema\n",
        "\n",
        "\n",
        "\n"
      ]
    },
    {
      "cell_type": "code",
      "execution_count": 84,
      "metadata": {
        "id": "8X4zgD3PgRyi",
        "colab": {
          "base_uri": "https://localhost:8080/"
        },
        "outputId": "595386e1-020f-475c-8ef3-1337521ba8f9"
      },
      "outputs": [
        {
          "output_type": "stream",
          "name": "stdout",
          "text": [
            "+-----------+---------+------------------+-----------+--------------+-----------+----------+-------------+------------------+\n",
            "|        _c0|      _c1|               _c2|        _c3|           _c4|        _c5|       _c6|          _c7|               _c8|\n",
            "+-----------+---------+------------------+-----------+--------------+-----------+----------+-------------+------------------+\n",
            "|  longitude| latitude|housing_median_age|total_rooms|total_bedrooms| population|households|median_income|median_house_value|\n",
            "|-122.050000|37.370000|         27.000000|3885.000000|    661.000000|1537.000000|606.000000|     6.608500|     344700.000000|\n",
            "|-118.300000|34.260000|         43.000000|1510.000000|    310.000000| 809.000000|277.000000|     3.599000|     176500.000000|\n",
            "|-117.810000|33.780000|         27.000000|3589.000000|    507.000000|1484.000000|495.000000|     5.793400|     270500.000000|\n",
            "|-118.360000|33.820000|         28.000000|  67.000000|     15.000000|  49.000000| 11.000000|     6.135900|     330000.000000|\n",
            "|-119.670000|36.330000|         19.000000|1241.000000|    244.000000| 850.000000|237.000000|     2.937500|      81700.000000|\n",
            "|-119.560000|36.510000|         37.000000|1018.000000|    213.000000| 663.000000|204.000000|     1.663500|      67000.000000|\n",
            "|-121.430000|38.630000|         43.000000|1009.000000|    225.000000| 604.000000|218.000000|     1.664100|      67000.000000|\n",
            "|-120.650000|35.480000|         19.000000|2310.000000|    471.000000|1341.000000|441.000000|     3.225000|     166900.000000|\n",
            "|-122.840000|38.400000|         15.000000|3080.000000|    617.000000|1446.000000|599.000000|     3.669600|     194400.000000|\n",
            "+-----------+---------+------------------+-----------+--------------+-----------+----------+-------------+------------------+\n",
            "only showing top 10 rows\n",
            "\n"
          ]
        }
      ],
      "source": [
        "wh = spark.read.format('csv').load(\"/content/sample_data/california_housing_test.csv\")\n",
        "wh.show(10)"
      ]
    },
    {
      "cell_type": "code",
      "execution_count": 85,
      "metadata": {
        "colab": {
          "base_uri": "https://localhost:8080/"
        },
        "id": "dqCw4Jkfk6ti",
        "outputId": "12740591-9f28-497f-c88a-1e1157b88023"
      },
      "outputs": [
        {
          "output_type": "stream",
          "name": "stdout",
          "text": [
            "root\n",
            " |-- _c0: string (nullable = true)\n",
            " |-- _c1: string (nullable = true)\n",
            " |-- _c2: string (nullable = true)\n",
            " |-- _c3: string (nullable = true)\n",
            " |-- _c4: string (nullable = true)\n",
            " |-- _c5: string (nullable = true)\n",
            " |-- _c6: string (nullable = true)\n",
            " |-- _c7: string (nullable = true)\n",
            " |-- _c8: string (nullable = true)\n",
            "\n"
          ]
        },
        {
          "output_type": "execute_result",
          "data": {
            "text/plain": [
              "pyspark.sql.dataframe.DataFrame"
            ]
          },
          "metadata": {},
          "execution_count": 85
        }
      ],
      "source": [
        "wh.printSchema()\n",
        "type(wh)"
      ]
    },
    {
      "cell_type": "markdown",
      "metadata": {
        "id": "HOSZSLuFiLYx"
      },
      "source": [
        "# Reading csv data into df1 dataframe with Header and schema\n",
        "\n"
      ]
    },
    {
      "cell_type": "code",
      "execution_count": 86,
      "metadata": {
        "id": "eLLofZxDgrjm",
        "colab": {
          "base_uri": "https://localhost:8080/"
        },
        "outputId": "4e12cc71-4b72-49f2-9da7-cfac024c8412"
      },
      "outputs": [
        {
          "output_type": "stream",
          "name": "stdout",
          "text": [
            "+---------+--------+------------------+-----------+--------------+----------+----------+-------------+------------------+\n",
            "|longitude|latitude|housing_median_age|total_rooms|total_bedrooms|population|households|median_income|median_house_value|\n",
            "+---------+--------+------------------+-----------+--------------+----------+----------+-------------+------------------+\n",
            "|  -122.05|   37.37|              27.0|     3885.0|         661.0|    1537.0|     606.0|       6.6085|          344700.0|\n",
            "|   -118.3|   34.26|              43.0|     1510.0|         310.0|     809.0|     277.0|        3.599|          176500.0|\n",
            "|  -117.81|   33.78|              27.0|     3589.0|         507.0|    1484.0|     495.0|       5.7934|          270500.0|\n",
            "|  -118.36|   33.82|              28.0|       67.0|          15.0|      49.0|      11.0|       6.1359|          330000.0|\n",
            "|  -119.67|   36.33|              19.0|     1241.0|         244.0|     850.0|     237.0|       2.9375|           81700.0|\n",
            "|  -119.56|   36.51|              37.0|     1018.0|         213.0|     663.0|     204.0|       1.6635|           67000.0|\n",
            "|  -121.43|   38.63|              43.0|     1009.0|         225.0|     604.0|     218.0|       1.6641|           67000.0|\n",
            "|  -120.65|   35.48|              19.0|     2310.0|         471.0|    1341.0|     441.0|        3.225|          166900.0|\n",
            "|  -122.84|    38.4|              15.0|     3080.0|         617.0|    1446.0|     599.0|       3.6696|          194400.0|\n",
            "|  -118.02|   34.08|              31.0|     2402.0|         632.0|    2830.0|     603.0|       2.3333|          164200.0|\n",
            "+---------+--------+------------------+-----------+--------------+----------+----------+-------------+------------------+\n",
            "only showing top 10 rows\n",
            "\n"
          ]
        }
      ],
      "source": [
        "df = spark.read.format('csv').option('header','true').option('inferSchema','true').load(\"/content/sample_data/california_housing_test.csv\")\n",
        "df.show(10)"
      ]
    },
    {
      "cell_type": "markdown",
      "metadata": {
        "id": "g5IWj-E-pCro"
      },
      "source": [
        "# Reading csv data into df2 dataframe with Header and schema- (another way)"
      ]
    },
    {
      "cell_type": "code",
      "execution_count": 87,
      "metadata": {
        "id": "K-6vm-8ahWjY",
        "colab": {
          "base_uri": "https://localhost:8080/"
        },
        "outputId": "f30ed888-5c02-4004-a239-06637bae2825"
      },
      "outputs": [
        {
          "output_type": "stream",
          "name": "stdout",
          "text": [
            "+---------+--------+------------------+-----------+--------------+----------+----------+-------------+------------------+\n",
            "|longitude|latitude|housing_median_age|total_rooms|total_bedrooms|population|households|median_income|median_house_value|\n",
            "+---------+--------+------------------+-----------+--------------+----------+----------+-------------+------------------+\n",
            "|  -122.05|   37.37|              27.0|     3885.0|         661.0|    1537.0|     606.0|       6.6085|          344700.0|\n",
            "|   -118.3|   34.26|              43.0|     1510.0|         310.0|     809.0|     277.0|        3.599|          176500.0|\n",
            "|  -117.81|   33.78|              27.0|     3589.0|         507.0|    1484.0|     495.0|       5.7934|          270500.0|\n",
            "|  -118.36|   33.82|              28.0|       67.0|          15.0|      49.0|      11.0|       6.1359|          330000.0|\n",
            "|  -119.67|   36.33|              19.0|     1241.0|         244.0|     850.0|     237.0|       2.9375|           81700.0|\n",
            "|  -119.56|   36.51|              37.0|     1018.0|         213.0|     663.0|     204.0|       1.6635|           67000.0|\n",
            "|  -121.43|   38.63|              43.0|     1009.0|         225.0|     604.0|     218.0|       1.6641|           67000.0|\n",
            "|  -120.65|   35.48|              19.0|     2310.0|         471.0|    1341.0|     441.0|        3.225|          166900.0|\n",
            "|  -122.84|    38.4|              15.0|     3080.0|         617.0|    1446.0|     599.0|       3.6696|          194400.0|\n",
            "|  -118.02|   34.08|              31.0|     2402.0|         632.0|    2830.0|     603.0|       2.3333|          164200.0|\n",
            "+---------+--------+------------------+-----------+--------------+----------+----------+-------------+------------------+\n",
            "only showing top 10 rows\n",
            "\n"
          ]
        }
      ],
      "source": [
        "df2= spark.read.csv(\"/content/sample_data/california_housing_test.csv\",header=True,inferSchema=True)\n",
        "df2.show(10)"
      ]
    },
    {
      "cell_type": "markdown",
      "source": [
        "# Inspect Data\n",
        "\n",
        "\n",
        "\n"
      ],
      "metadata": {
        "id": "PezsVmyIz2Wh"
      }
    },
    {
      "cell_type": "code",
      "source": [
        "# display Content of df\n",
        "\n",
        "df.show()  "
      ],
      "metadata": {
        "colab": {
          "base_uri": "https://localhost:8080/"
        },
        "id": "WxSlaaEu0vJ6",
        "outputId": "21fb1105-e5cd-40d2-fdbd-27c0c450db26"
      },
      "execution_count": 88,
      "outputs": [
        {
          "output_type": "stream",
          "name": "stdout",
          "text": [
            "+---------+--------+------------------+-----------+--------------+----------+----------+-------------+------------------+\n",
            "|longitude|latitude|housing_median_age|total_rooms|total_bedrooms|population|households|median_income|median_house_value|\n",
            "+---------+--------+------------------+-----------+--------------+----------+----------+-------------+------------------+\n",
            "|  -122.05|   37.37|              27.0|     3885.0|         661.0|    1537.0|     606.0|       6.6085|          344700.0|\n",
            "|   -118.3|   34.26|              43.0|     1510.0|         310.0|     809.0|     277.0|        3.599|          176500.0|\n",
            "|  -117.81|   33.78|              27.0|     3589.0|         507.0|    1484.0|     495.0|       5.7934|          270500.0|\n",
            "|  -118.36|   33.82|              28.0|       67.0|          15.0|      49.0|      11.0|       6.1359|          330000.0|\n",
            "|  -119.67|   36.33|              19.0|     1241.0|         244.0|     850.0|     237.0|       2.9375|           81700.0|\n",
            "|  -119.56|   36.51|              37.0|     1018.0|         213.0|     663.0|     204.0|       1.6635|           67000.0|\n",
            "|  -121.43|   38.63|              43.0|     1009.0|         225.0|     604.0|     218.0|       1.6641|           67000.0|\n",
            "|  -120.65|   35.48|              19.0|     2310.0|         471.0|    1341.0|     441.0|        3.225|          166900.0|\n",
            "|  -122.84|    38.4|              15.0|     3080.0|         617.0|    1446.0|     599.0|       3.6696|          194400.0|\n",
            "|  -118.02|   34.08|              31.0|     2402.0|         632.0|    2830.0|     603.0|       2.3333|          164200.0|\n",
            "|  -118.24|   33.98|              45.0|      972.0|         249.0|    1288.0|     261.0|       2.2054|          125000.0|\n",
            "|  -119.12|   35.85|              37.0|      736.0|         166.0|     564.0|     138.0|       2.4167|           58300.0|\n",
            "|  -121.93|   37.25|              36.0|     1089.0|         182.0|     535.0|     170.0|         4.69|          252600.0|\n",
            "|  -117.03|   32.97|              16.0|     3936.0|         694.0|    1935.0|     659.0|       4.5625|          231200.0|\n",
            "|  -117.97|   33.73|              27.0|     2097.0|         325.0|    1217.0|     331.0|       5.7121|          222500.0|\n",
            "|  -117.99|   33.81|              42.0|      161.0|          40.0|     157.0|      50.0|          2.2|          153100.0|\n",
            "|  -120.81|   37.53|              15.0|      570.0|         123.0|     189.0|     107.0|        1.875|          181300.0|\n",
            "|   -121.2|   38.69|              26.0|     3077.0|         607.0|    1603.0|     595.0|       2.7174|          137500.0|\n",
            "|  -118.88|   34.21|              26.0|     1590.0|         196.0|     654.0|     199.0|       6.5851|          300000.0|\n",
            "|  -122.59|   38.01|              35.0|     8814.0|        1307.0|    3450.0|    1258.0|       6.1724|          414300.0|\n",
            "+---------+--------+------------------+-----------+--------------+----------+----------+-------------+------------------+\n",
            "only showing top 20 rows\n",
            "\n"
          ]
        }
      ]
    },
    {
      "cell_type": "code",
      "source": [
        "# display Schema\n",
        "df.printSchema()"
      ],
      "metadata": {
        "colab": {
          "base_uri": "https://localhost:8080/"
        },
        "id": "PmYZtI0e0xtD",
        "outputId": "a49a5210-12a1-4585-9b0e-92f8da140b52"
      },
      "execution_count": 89,
      "outputs": [
        {
          "output_type": "stream",
          "name": "stdout",
          "text": [
            "root\n",
            " |-- longitude: double (nullable = true)\n",
            " |-- latitude: double (nullable = true)\n",
            " |-- housing_median_age: double (nullable = true)\n",
            " |-- total_rooms: double (nullable = true)\n",
            " |-- total_bedrooms: double (nullable = true)\n",
            " |-- population: double (nullable = true)\n",
            " |-- households: double (nullable = true)\n",
            " |-- median_income: double (nullable = true)\n",
            " |-- median_house_value: double (nullable = true)\n",
            "\n"
          ]
        }
      ]
    },
    {
      "cell_type": "code",
      "source": [
        "#first row\n",
        "\n",
        "df.first()"
      ],
      "metadata": {
        "colab": {
          "base_uri": "https://localhost:8080/"
        },
        "id": "QyRibpDB2coS",
        "outputId": "e0ab124d-374e-4170-b366-fece388ef5d4"
      },
      "execution_count": 90,
      "outputs": [
        {
          "output_type": "execute_result",
          "data": {
            "text/plain": [
              "Row(longitude=-122.05, latitude=37.37, housing_median_age=27.0, total_rooms=3885.0, total_bedrooms=661.0, population=1537.0, households=606.0, median_income=6.6085, median_house_value=344700.0)"
            ]
          },
          "metadata": {},
          "execution_count": 90
        }
      ]
    },
    {
      "cell_type": "code",
      "source": [
        "#head values\n",
        "\n",
        "df.head()"
      ],
      "metadata": {
        "colab": {
          "base_uri": "https://localhost:8080/"
        },
        "id": "A8dHzAoF15V6",
        "outputId": "17b8d798-5626-45cc-e9cc-51ec095450f1"
      },
      "execution_count": 91,
      "outputs": [
        {
          "output_type": "execute_result",
          "data": {
            "text/plain": [
              "Row(longitude=-122.05, latitude=37.37, housing_median_age=27.0, total_rooms=3885.0, total_bedrooms=661.0, population=1537.0, households=606.0, median_income=6.6085, median_house_value=344700.0)"
            ]
          },
          "metadata": {},
          "execution_count": 91
        }
      ]
    },
    {
      "cell_type": "code",
      "source": [
        "#tail values\n",
        "\n",
        "df.tail(1)"
      ],
      "metadata": {
        "colab": {
          "base_uri": "https://localhost:8080/"
        },
        "id": "x-8UO0Ck1-oC",
        "outputId": "85c45620-a325-4ee2-dd8e-9d13d33c3768"
      },
      "execution_count": 92,
      "outputs": [
        {
          "output_type": "execute_result",
          "data": {
            "text/plain": [
              "[Row(longitude=-119.63, latitude=34.42, housing_median_age=42.0, total_rooms=1765.0, total_bedrooms=263.0, population=753.0, households=260.0, median_income=8.5608, median_house_value=500001.0)]"
            ]
          },
          "metadata": {},
          "execution_count": 92
        }
      ]
    },
    {
      "cell_type": "code",
      "source": [
        "#takes some random any values\n",
        "\n",
        "df.take(2)"
      ],
      "metadata": {
        "colab": {
          "base_uri": "https://localhost:8080/"
        },
        "id": "ae4nPXVB2Lq4",
        "outputId": "b025fab9-3396-4fb8-9436-77ef3fbcb5d9"
      },
      "execution_count": 93,
      "outputs": [
        {
          "output_type": "execute_result",
          "data": {
            "text/plain": [
              "[Row(longitude=-122.05, latitude=37.37, housing_median_age=27.0, total_rooms=3885.0, total_bedrooms=661.0, population=1537.0, households=606.0, median_income=6.6085, median_house_value=344700.0),\n",
              " Row(longitude=-118.3, latitude=34.26, housing_median_age=43.0, total_rooms=1510.0, total_bedrooms=310.0, population=809.0, households=277.0, median_income=3.599, median_house_value=176500.0)]"
            ]
          },
          "metadata": {},
          "execution_count": 93
        }
      ]
    },
    {
      "cell_type": "code",
      "source": [
        "# return column names and data types\n",
        "\n",
        "df.dtypes"
      ],
      "metadata": {
        "colab": {
          "base_uri": "https://localhost:8080/"
        },
        "id": "pshboCyi2o9n",
        "outputId": "737d7583-99ae-4764-f6e0-380de86460b7"
      },
      "execution_count": 94,
      "outputs": [
        {
          "output_type": "execute_result",
          "data": {
            "text/plain": [
              "[('longitude', 'double'),\n",
              " ('latitude', 'double'),\n",
              " ('housing_median_age', 'double'),\n",
              " ('total_rooms', 'double'),\n",
              " ('total_bedrooms', 'double'),\n",
              " ('population', 'double'),\n",
              " ('households', 'double'),\n",
              " ('median_income', 'double'),\n",
              " ('median_house_value', 'double')]"
            ]
          },
          "metadata": {},
          "execution_count": 94
        }
      ]
    },
    {
      "cell_type": "code",
      "source": [
        "# compute summery satistics\n",
        "\n",
        "df.describe().show()"
      ],
      "metadata": {
        "colab": {
          "base_uri": "https://localhost:8080/"
        },
        "id": "KZDDdGFA26qI",
        "outputId": "a66e820d-d949-41a6-d0ea-ed7fbf9568b0"
      },
      "execution_count": 95,
      "outputs": [
        {
          "output_type": "stream",
          "name": "stdout",
          "text": [
            "+-------+-------------------+------------------+------------------+-----------------+------------------+------------------+------------------+------------------+------------------+\n",
            "|summary|          longitude|          latitude|housing_median_age|      total_rooms|    total_bedrooms|        population|        households|     median_income|median_house_value|\n",
            "+-------+-------------------+------------------+------------------+-----------------+------------------+------------------+------------------+------------------+------------------+\n",
            "|  count|               3000|              3000|              3000|             3000|              3000|              3000|              3000|              3000|              3000|\n",
            "|   mean|-119.58920000000029| 35.63538999999999|28.845333333333333|2599.578666666667| 529.9506666666666|1402.7986666666666|           489.912| 3.807271799999998|        205846.275|\n",
            "| stddev| 1.9949362939550166|2.1296695233438334|12.555395554955757|2155.593331625582|415.65436813632306|1030.5430124122424|365.42270980552615|1.8545117296914775|113119.68746964622|\n",
            "|    min|            -124.18|             32.56|               1.0|              6.0|               2.0|               5.0|               2.0|            0.4999|           22500.0|\n",
            "|    max|            -114.49|             41.92|              52.0|          30450.0|            5419.0|           11935.0|            4930.0|           15.0001|          500001.0|\n",
            "+-------+-------------------+------------------+------------------+-----------------+------------------+------------------+------------------+------------------+------------------+\n",
            "\n"
          ]
        }
      ]
    },
    {
      "cell_type": "code",
      "source": [
        "#count no.of rows\n",
        "\n",
        "df.count()"
      ],
      "metadata": {
        "colab": {
          "base_uri": "https://localhost:8080/"
        },
        "id": "NyNR-Fd-3KwH",
        "outputId": "c82543e0-b3ff-4a57-e5f5-d746c30af462"
      },
      "execution_count": 96,
      "outputs": [
        {
          "output_type": "execute_result",
          "data": {
            "text/plain": [
              "3000"
            ]
          },
          "metadata": {},
          "execution_count": 96
        }
      ]
    },
    {
      "cell_type": "code",
      "source": [
        "#count distinct no.of rows\n",
        "\n",
        "df.distinct().count()"
      ],
      "metadata": {
        "colab": {
          "base_uri": "https://localhost:8080/"
        },
        "id": "UQwPdWt73qla",
        "outputId": "7ee51b55-15a2-4e4e-bbaa-fdbc8e360ff2"
      },
      "execution_count": 97,
      "outputs": [
        {
          "output_type": "execute_result",
          "data": {
            "text/plain": [
              "3000"
            ]
          },
          "metadata": {},
          "execution_count": 97
        }
      ]
    },
    {
      "cell_type": "code",
      "source": [
        "#explain physical plan and logical plan\n",
        "\n",
        "df.explain()"
      ],
      "metadata": {
        "colab": {
          "base_uri": "https://localhost:8080/"
        },
        "id": "2yvL7Nsv32Sa",
        "outputId": "59e0d9f8-9f33-4a9a-fc95-d45798e4033d"
      },
      "execution_count": 98,
      "outputs": [
        {
          "output_type": "stream",
          "name": "stdout",
          "text": [
            "== Physical Plan ==\n",
            "FileScan csv [longitude#3920,latitude#3921,housing_median_age#3922,total_rooms#3923,total_bedrooms#3924,population#3925,households#3926,median_income#3927,median_house_value#3928] Batched: false, DataFilters: [], Format: CSV, Location: InMemoryFileIndex(1 paths)[file:/content/sample_data/california_housing_test.csv], PartitionFilters: [], PushedFilters: [], ReadSchema: struct<longitude:double,latitude:double,housing_median_age:double,total_rooms:double,total_bedroo...\n",
            "\n",
            "\n"
          ]
        }
      ]
    },
    {
      "cell_type": "markdown",
      "metadata": {
        "id": "EusB415EoXd9"
      },
      "source": [
        "# All table columns Names"
      ]
    },
    {
      "cell_type": "code",
      "execution_count": 99,
      "metadata": {
        "colab": {
          "base_uri": "https://localhost:8080/"
        },
        "id": "g-lYGpbUofPK",
        "outputId": "bcf096ba-29f0-477b-89a4-7b7e60b6cfbd"
      },
      "outputs": [
        {
          "output_type": "execute_result",
          "data": {
            "text/plain": [
              "['longitude',\n",
              " 'latitude',\n",
              " 'housing_median_age',\n",
              " 'total_rooms',\n",
              " 'total_bedrooms',\n",
              " 'population',\n",
              " 'households',\n",
              " 'median_income',\n",
              " 'median_house_value']"
            ]
          },
          "metadata": {},
          "execution_count": 99
        }
      ],
      "source": [
        "df.columns"
      ]
    },
    {
      "cell_type": "code",
      "execution_count": 100,
      "metadata": {
        "colab": {
          "base_uri": "https://localhost:8080/"
        },
        "id": "q2dODSTisRJI",
        "outputId": "7644a663-98fb-435d-e232-8befda705f8d"
      },
      "outputs": [
        {
          "output_type": "stream",
          "name": "stdout",
          "text": [
            "+---------+\n",
            "|longitude|\n",
            "+---------+\n",
            "|  -122.05|\n",
            "|   -118.3|\n",
            "|  -117.81|\n",
            "|  -118.36|\n",
            "|  -119.67|\n",
            "|  -119.56|\n",
            "|  -121.43|\n",
            "|  -120.65|\n",
            "|  -122.84|\n",
            "|  -118.02|\n",
            "+---------+\n",
            "only showing top 10 rows\n",
            "\n"
          ]
        }
      ],
      "source": [
        "df.select('longitude').show(10)"
      ]
    },
    {
      "cell_type": "code",
      "execution_count": 101,
      "metadata": {
        "colab": {
          "base_uri": "https://localhost:8080/"
        },
        "id": "v1B8dVLtsoNS",
        "outputId": "51ede8f5-818b-4961-9c92-26067fb54a56"
      },
      "outputs": [
        {
          "output_type": "stream",
          "name": "stdout",
          "text": [
            "+----------+------------------+\n",
            "|population|housing_median_age|\n",
            "+----------+------------------+\n",
            "|    1537.0|              27.0|\n",
            "|     809.0|              43.0|\n",
            "|    1484.0|              27.0|\n",
            "|      49.0|              28.0|\n",
            "|     850.0|              19.0|\n",
            "|     663.0|              37.0|\n",
            "|     604.0|              43.0|\n",
            "|    1341.0|              19.0|\n",
            "|    1446.0|              15.0|\n",
            "|    2830.0|              31.0|\n",
            "+----------+------------------+\n",
            "only showing top 10 rows\n",
            "\n"
          ]
        }
      ],
      "source": [
        "df.select(['population','housing_median_age']).show(10)"
      ]
    },
    {
      "cell_type": "markdown",
      "source": [
        "# Adding ,Dropping,Renaming of Columns"
      ],
      "metadata": {
        "id": "IbOChgfp5LDZ"
      }
    },
    {
      "cell_type": "code",
      "execution_count": 102,
      "metadata": {
        "id": "yxgI2Oze8fxW",
        "colab": {
          "base_uri": "https://localhost:8080/"
        },
        "outputId": "886473fa-edf5-476d-8d02-0879513e3398"
      },
      "outputs": [
        {
          "output_type": "stream",
          "name": "stdout",
          "text": [
            "+---------+--------+------------------+-----------+--------------+----------+----------+-------------+------------------+-----------+------------------+-----------+\n",
            "|longitude|latitude|housing_median_age|total_rooms|total_bedrooms|population|households|median_income|median_house_value|housing_age|            income|house_value|\n",
            "+---------+--------+------------------+-----------+--------------+----------+----------+-------------+------------------+-----------+------------------+-----------+\n",
            "|  -122.05|   37.37|              27.0|     3885.0|         661.0|    1537.0|     606.0|       6.6085|          344700.0|       37.0|           16.6085|   344710.0|\n",
            "|   -118.3|   34.26|              43.0|     1510.0|         310.0|     809.0|     277.0|        3.599|          176500.0|       53.0|            13.599|   176510.0|\n",
            "|  -117.81|   33.78|              27.0|     3589.0|         507.0|    1484.0|     495.0|       5.7934|          270500.0|       37.0|           15.7934|   270510.0|\n",
            "|  -118.36|   33.82|              28.0|       67.0|          15.0|      49.0|      11.0|       6.1359|          330000.0|       38.0|           16.1359|   330010.0|\n",
            "|  -119.67|   36.33|              19.0|     1241.0|         244.0|     850.0|     237.0|       2.9375|           81700.0|       29.0|           12.9375|    81710.0|\n",
            "|  -119.56|   36.51|              37.0|     1018.0|         213.0|     663.0|     204.0|       1.6635|           67000.0|       47.0|11.663499999999999|    67010.0|\n",
            "|  -121.43|   38.63|              43.0|     1009.0|         225.0|     604.0|     218.0|       1.6641|           67000.0|       53.0|           11.6641|    67010.0|\n",
            "|  -120.65|   35.48|              19.0|     2310.0|         471.0|    1341.0|     441.0|        3.225|          166900.0|       29.0|            13.225|   166910.0|\n",
            "|  -122.84|    38.4|              15.0|     3080.0|         617.0|    1446.0|     599.0|       3.6696|          194400.0|       25.0|13.669599999999999|   194410.0|\n",
            "|  -118.02|   34.08|              31.0|     2402.0|         632.0|    2830.0|     603.0|       2.3333|          164200.0|       41.0|           12.3333|   164210.0|\n",
            "+---------+--------+------------------+-----------+--------------+----------+----------+-------------+------------------+-----------+------------------+-----------+\n",
            "only showing top 10 rows\n",
            "\n"
          ]
        }
      ],
      "source": [
        "# Adding new columns\n",
        "\n",
        "from pyspark.sql.functions import *\n",
        "df3 = df.withColumn('housing_age',col('housing_median_age')+10).withColumn('income',col('median_income')+10).withColumn('house_value',col('median_house_value')+10)\n",
        "\n",
        "df3.show(10)"
      ]
    },
    {
      "cell_type": "code",
      "execution_count": 103,
      "metadata": {
        "id": "wl0QNcwn-Pba",
        "colab": {
          "base_uri": "https://localhost:8080/"
        },
        "outputId": "5d8ff64e-a738-4b35-adf9-1ee5190595e3"
      },
      "outputs": [
        {
          "output_type": "stream",
          "name": "stdout",
          "text": [
            "+---------+--------+------------------+-----------+--------------+----------+----------+-------------+------------------+\n",
            "|longitude|latitude|housing_median_age|total_rooms|total_bedrooms|population|households|median_income|median_house_value|\n",
            "+---------+--------+------------------+-----------+--------------+----------+----------+-------------+------------------+\n",
            "|  -122.05|   37.37|              27.0|     3885.0|         661.0|    1537.0|     606.0|       6.6085|          344700.0|\n",
            "|   -118.3|   34.26|              43.0|     1510.0|         310.0|     809.0|     277.0|        3.599|          176500.0|\n",
            "|  -117.81|   33.78|              27.0|     3589.0|         507.0|    1484.0|     495.0|       5.7934|          270500.0|\n",
            "|  -118.36|   33.82|              28.0|       67.0|          15.0|      49.0|      11.0|       6.1359|          330000.0|\n",
            "|  -119.67|   36.33|              19.0|     1241.0|         244.0|     850.0|     237.0|       2.9375|           81700.0|\n",
            "|  -119.56|   36.51|              37.0|     1018.0|         213.0|     663.0|     204.0|       1.6635|           67000.0|\n",
            "|  -121.43|   38.63|              43.0|     1009.0|         225.0|     604.0|     218.0|       1.6641|           67000.0|\n",
            "|  -120.65|   35.48|              19.0|     2310.0|         471.0|    1341.0|     441.0|        3.225|          166900.0|\n",
            "|  -122.84|    38.4|              15.0|     3080.0|         617.0|    1446.0|     599.0|       3.6696|          194400.0|\n",
            "|  -118.02|   34.08|              31.0|     2402.0|         632.0|    2830.0|     603.0|       2.3333|          164200.0|\n",
            "+---------+--------+------------------+-----------+--------------+----------+----------+-------------+------------------+\n",
            "only showing top 10 rows\n",
            "\n"
          ]
        }
      ],
      "source": [
        "df4 = df3.drop('housing_age').drop('income').drop('house_value')\n",
        "\n",
        "df4.show(10)"
      ]
    },
    {
      "cell_type": "code",
      "execution_count": 104,
      "metadata": {
        "id": "gT9RQNJB_koT",
        "colab": {
          "base_uri": "https://localhost:8080/"
        },
        "outputId": "0af1bb7c-8354-45bf-e42b-710cc6507edd"
      },
      "outputs": [
        {
          "output_type": "stream",
          "name": "stdout",
          "text": [
            "+---------+--------+----------+-----------+--------------+----------+----------+------+-----------+\n",
            "|longitude|latitude|median_age|total_rooms|total_bedrooms|population|households|income|house_value|\n",
            "+---------+--------+----------+-----------+--------------+----------+----------+------+-----------+\n",
            "|  -122.05|   37.37|      27.0|     3885.0|         661.0|    1537.0|     606.0|6.6085|   344700.0|\n",
            "|   -118.3|   34.26|      43.0|     1510.0|         310.0|     809.0|     277.0| 3.599|   176500.0|\n",
            "|  -117.81|   33.78|      27.0|     3589.0|         507.0|    1484.0|     495.0|5.7934|   270500.0|\n",
            "|  -118.36|   33.82|      28.0|       67.0|          15.0|      49.0|      11.0|6.1359|   330000.0|\n",
            "|  -119.67|   36.33|      19.0|     1241.0|         244.0|     850.0|     237.0|2.9375|    81700.0|\n",
            "|  -119.56|   36.51|      37.0|     1018.0|         213.0|     663.0|     204.0|1.6635|    67000.0|\n",
            "|  -121.43|   38.63|      43.0|     1009.0|         225.0|     604.0|     218.0|1.6641|    67000.0|\n",
            "|  -120.65|   35.48|      19.0|     2310.0|         471.0|    1341.0|     441.0| 3.225|   166900.0|\n",
            "|  -122.84|    38.4|      15.0|     3080.0|         617.0|    1446.0|     599.0|3.6696|   194400.0|\n",
            "|  -118.02|   34.08|      31.0|     2402.0|         632.0|    2830.0|     603.0|2.3333|   164200.0|\n",
            "+---------+--------+----------+-----------+--------------+----------+----------+------+-----------+\n",
            "only showing top 10 rows\n",
            "\n"
          ]
        }
      ],
      "source": [
        "# Renamed Column Names\n",
        "\n",
        "df5 =df4.withColumnRenamed('housing_median_age','median_age').withColumnRenamed('median_income','income').withColumnRenamed('median_house_value','house_value')\n",
        "\n",
        "\n",
        "df5.show(10)"
      ]
    },
    {
      "cell_type": "markdown",
      "metadata": {
        "id": "N88Pqx27-dB-"
      },
      "source": [
        "#  Writing schema for dataFrame"
      ]
    },
    {
      "cell_type": "code",
      "source": [
        "from pyspark.sql.types import *\n",
        "\n",
        "schema = StructType([StructField(\"EMPNO\", IntegerType(), True),\\\n",
        "                     StructField(\"ENAME\", StringType(), True),\\\n",
        "                     StructField(\"JOB\", StringType(), True),\\\n",
        "                     StructField(\"MGR\", IntegerType(), True),\\\n",
        "                     StructField(\"HIREDATE\", DateType(), True),\\\n",
        "                     StructField(\"SAL\", IntegerType(), True),\\\n",
        "                     StructField(\"COMM\", IntegerType(), True),\\\n",
        "                     StructField(\"DEPTNO\", IntegerType(), True),\\\n",
        "                     StructField(\"UPDATED_DATE\",DateType(), True)\\\n",
        "])"
      ],
      "metadata": {
        "id": "QwhrFooVRMYq"
      },
      "execution_count": 105,
      "outputs": []
    },
    {
      "cell_type": "markdown",
      "source": [
        "# Reading csv dataframe with pipe seprated values"
      ],
      "metadata": {
        "id": "Ugtf0Tb1LaCD"
      }
    },
    {
      "cell_type": "code",
      "source": [
        "data = spark.read.format('csv').option('header',True).option('Sep','|').option('nullValue','null').option('inferSchema',True).load(\"/content/emp_pipe.txt\")\n",
        "data.show(10)\n",
        "data.printSchema()\n",
        "data.count()"
      ],
      "metadata": {
        "id": "hj22IJbSUPZt",
        "colab": {
          "base_uri": "https://localhost:8080/"
        },
        "outputId": "d759e7f7-fea6-481d-abc8-ff37b1be52b2"
      },
      "execution_count": 106,
      "outputs": [
        {
          "output_type": "stream",
          "name": "stdout",
          "text": [
            "+-----+------+---------+----+----------+----+----+------+------------+\n",
            "|EMPNO| ENAME|      JOB| MGR|  HIREDATE| SAL|COMM|DEPTNO|UPDATED_DATE|\n",
            "+-----+------+---------+----+----------+----+----+------+------------+\n",
            "| 7369| SMITH|    CLERK|7902|17-12-1980| 800|null|    20|  01-01-2022|\n",
            "| 7499| ALLEN| SALESMAN|7698|20-02-1981|1600| 300|    30|  02-01-2022|\n",
            "| 7521|  WARD| SALESMAN|7698|22-02-1981|1250| 500|    30|  03-01-2022|\n",
            "| 7566| JONES|  MANAGER|7839|04-02-1981|2975|null|    20|  04-01-2022|\n",
            "| 7654|MARTIN| SALESMAN|7698|21-09-1981|1250|1400|    30|  05-01-2022|\n",
            "| 7698|   SGR|  MANAGER|7839|05-01-1981|2850|null|    30|  06-01-2022|\n",
            "| 7782|  RAVI|  MANAGER|7839|06-09-1981|2450|null|    10|  07-01-2022|\n",
            "| 7788| SCOTT|  ANALYST|7566|19-04-1987|3000|null|    20|  08-01-2022|\n",
            "| 7839|  KING|PRESIDENT|null|      null|5000|null|    10|        null|\n",
            "| 7844|TURNER| SALESMAN|7698|09-08-1981|1500|   0|    30|  01-02-2022|\n",
            "+-----+------+---------+----+----------+----+----+------+------------+\n",
            "only showing top 10 rows\n",
            "\n",
            "root\n",
            " |-- EMPNO: integer (nullable = true)\n",
            " |-- ENAME: string (nullable = true)\n",
            " |-- JOB: string (nullable = true)\n",
            " |-- MGR: integer (nullable = true)\n",
            " |-- HIREDATE: string (nullable = true)\n",
            " |-- SAL: integer (nullable = true)\n",
            " |-- COMM: integer (nullable = true)\n",
            " |-- DEPTNO: integer (nullable = true)\n",
            " |-- UPDATED_DATE: string (nullable = true)\n",
            "\n"
          ]
        },
        {
          "output_type": "execute_result",
          "data": {
            "text/plain": [
              "19"
            ]
          },
          "metadata": {},
          "execution_count": 106
        }
      ]
    },
    {
      "cell_type": "code",
      "source": [
        "data.show(10)"
      ],
      "metadata": {
        "colab": {
          "base_uri": "https://localhost:8080/"
        },
        "id": "WBoj5uVqOGLQ",
        "outputId": "bdc3789b-a7f8-41da-ffd8-64868b035d85"
      },
      "execution_count": 164,
      "outputs": [
        {
          "output_type": "stream",
          "name": "stdout",
          "text": [
            "+-----+------+---------+----+----------+----+----+------+------------+\n",
            "|EMPNO| ENAME|      JOB| MGR|  HIREDATE| SAL|COMM|DEPTNO|UPDATED_DATE|\n",
            "+-----+------+---------+----+----------+----+----+------+------------+\n",
            "| 7369| SMITH|    CLERK|7902|17-12-1980| 800|null|    20|  01-01-2022|\n",
            "| 7499| ALLEN| SALESMAN|7698|20-02-1981|1600| 300|    30|  02-01-2022|\n",
            "| 7521|  WARD| SALESMAN|7698|22-02-1981|1250| 500|    30|  03-01-2022|\n",
            "| 7566| JONES|  MANAGER|7839|04-02-1981|2975|null|    20|  04-01-2022|\n",
            "| 7654|MARTIN| SALESMAN|7698|21-09-1981|1250|1400|    30|  05-01-2022|\n",
            "| 7698|   SGR|  MANAGER|7839|05-01-1981|2850|null|    30|  06-01-2022|\n",
            "| 7782|  RAVI|  MANAGER|7839|06-09-1981|2450|null|    10|  07-01-2022|\n",
            "| 7788| SCOTT|  ANALYST|7566|19-04-1987|3000|null|    20|  08-01-2022|\n",
            "| 7839|  KING|PRESIDENT|null|      null|5000|null|    10|        null|\n",
            "| 7844|TURNER| SALESMAN|7698|09-08-1981|1500|   0|    30|  01-02-2022|\n",
            "+-----+------+---------+----+----------+----+----+------+------------+\n",
            "only showing top 10 rows\n",
            "\n"
          ]
        }
      ]
    },
    {
      "cell_type": "markdown",
      "source": [
        "# drop null values from dataFrame"
      ],
      "metadata": {
        "id": "4GLWl681eZBr"
      }
    },
    {
      "cell_type": "code",
      "source": [
        "#  how = any\n",
        "\n",
        "data2 = data.dropna(how='any')\n",
        "data2.show()\n",
        "data2.count()"
      ],
      "metadata": {
        "id": "gdDxfNl0ejCF",
        "colab": {
          "base_uri": "https://localhost:8080/"
        },
        "outputId": "5e82fa52-4923-4808-8f98-c1f0da8be894"
      },
      "execution_count": 107,
      "outputs": [
        {
          "output_type": "stream",
          "name": "stdout",
          "text": [
            "+-----+------+--------+----+----------+----+----+------+------------+\n",
            "|EMPNO| ENAME|     JOB| MGR|  HIREDATE| SAL|COMM|DEPTNO|UPDATED_DATE|\n",
            "+-----+------+--------+----+----------+----+----+------+------------+\n",
            "| 7499| ALLEN|SALESMAN|7698|20-02-1981|1600| 300|    30|  02-01-2022|\n",
            "| 7521|  WARD|SALESMAN|7698|22-02-1981|1250| 500|    30|  03-01-2022|\n",
            "| 7654|MARTIN|SALESMAN|7698|21-09-1981|1250|1400|    30|  05-01-2022|\n",
            "| 7844|TURNER|SALESMAN|7698|09-08-1981|1500|   0|    30|  01-02-2022|\n",
            "| 7499| ALLEN|SALESMAN|7698|20-02-1981|1600| 300|    30|  08-02-2022|\n",
            "+-----+------+--------+----+----------+----+----+------+------------+\n",
            "\n"
          ]
        },
        {
          "output_type": "execute_result",
          "data": {
            "text/plain": [
              "5"
            ]
          },
          "metadata": {},
          "execution_count": 107
        }
      ]
    },
    {
      "cell_type": "code",
      "source": [
        "# how =all\n",
        "\n",
        "data3 = data.na.drop( how = 'all')\n",
        "data3.show()\n",
        "data.count()"
      ],
      "metadata": {
        "id": "q9pqeQaGggXB",
        "colab": {
          "base_uri": "https://localhost:8080/"
        },
        "outputId": "253f1b02-2fed-4319-bc7a-8b96310b918a"
      },
      "execution_count": 108,
      "outputs": [
        {
          "output_type": "stream",
          "name": "stdout",
          "text": [
            "+-----+------+---------+----+----------+----+----+------+------------+\n",
            "|EMPNO| ENAME|      JOB| MGR|  HIREDATE| SAL|COMM|DEPTNO|UPDATED_DATE|\n",
            "+-----+------+---------+----+----------+----+----+------+------------+\n",
            "| 7369| SMITH|    CLERK|7902|17-12-1980| 800|null|    20|  01-01-2022|\n",
            "| 7499| ALLEN| SALESMAN|7698|20-02-1981|1600| 300|    30|  02-01-2022|\n",
            "| 7521|  WARD| SALESMAN|7698|22-02-1981|1250| 500|    30|  03-01-2022|\n",
            "| 7566| JONES|  MANAGER|7839|04-02-1981|2975|null|    20|  04-01-2022|\n",
            "| 7654|MARTIN| SALESMAN|7698|21-09-1981|1250|1400|    30|  05-01-2022|\n",
            "| 7698|   SGR|  MANAGER|7839|05-01-1981|2850|null|    30|  06-01-2022|\n",
            "| 7782|  RAVI|  MANAGER|7839|06-09-1981|2450|null|    10|  07-01-2022|\n",
            "| 7788| SCOTT|  ANALYST|7566|19-04-1987|3000|null|    20|  08-01-2022|\n",
            "| 7839|  KING|PRESIDENT|null|      null|5000|null|    10|        null|\n",
            "| 7844|TURNER| SALESMAN|7698|09-08-1981|1500|   0|    30|  01-02-2022|\n",
            "| 7876| ADAMS|    CLERK|7788|23-05-1987|1100|null|    20|  02-02-2022|\n",
            "| 7900| JAMES|    CLERK|7698|12-03-1981| 950|null|    30|  03-02-2022|\n",
            "| 7902|  FORD|  ANALYST|7566|12-03-1981|3000|null|    20|  04-02-2022|\n",
            "| 7934|MILLER|    CLERK|7782|01-03-1982|1300|null|    10|  05-02-2022|\n",
            "| 1234|SEKHAR|   doctor|7777|      null| 667|  78|    80|  06-02-2022|\n",
            "| 7369| SMITH|    CLERK|7902|17-12-1980| 800|null|    20|  07-02-2022|\n",
            "| 7499| ALLEN| SALESMAN|7698|20-02-1981|1600| 300|    30|  08-02-2022|\n",
            "| 7521|  WARD| SALESMAN|7698|22-02-1981|1250| 500|    30|        null|\n",
            "| 7566| JONES|  MANAGER|7839|04-02-1981|2975|null|    20|  01-02-2021|\n",
            "+-----+------+---------+----+----------+----+----+------+------------+\n",
            "\n"
          ]
        },
        {
          "output_type": "execute_result",
          "data": {
            "text/plain": [
              "19"
            ]
          },
          "metadata": {},
          "execution_count": 108
        }
      ]
    },
    {
      "cell_type": "code",
      "source": [
        "#threshold \n",
        "\n",
        "data4= data.na.drop(how='any',thresh=2)\n",
        "data4.show()\n",
        "data4.count()"
      ],
      "metadata": {
        "id": "ZxTl2xNlgkcJ",
        "colab": {
          "base_uri": "https://localhost:8080/"
        },
        "outputId": "70930901-63df-48eb-fc84-1c83e9c10ba5"
      },
      "execution_count": 109,
      "outputs": [
        {
          "output_type": "stream",
          "name": "stdout",
          "text": [
            "+-----+------+---------+----+----------+----+----+------+------------+\n",
            "|EMPNO| ENAME|      JOB| MGR|  HIREDATE| SAL|COMM|DEPTNO|UPDATED_DATE|\n",
            "+-----+------+---------+----+----------+----+----+------+------------+\n",
            "| 7369| SMITH|    CLERK|7902|17-12-1980| 800|null|    20|  01-01-2022|\n",
            "| 7499| ALLEN| SALESMAN|7698|20-02-1981|1600| 300|    30|  02-01-2022|\n",
            "| 7521|  WARD| SALESMAN|7698|22-02-1981|1250| 500|    30|  03-01-2022|\n",
            "| 7566| JONES|  MANAGER|7839|04-02-1981|2975|null|    20|  04-01-2022|\n",
            "| 7654|MARTIN| SALESMAN|7698|21-09-1981|1250|1400|    30|  05-01-2022|\n",
            "| 7698|   SGR|  MANAGER|7839|05-01-1981|2850|null|    30|  06-01-2022|\n",
            "| 7782|  RAVI|  MANAGER|7839|06-09-1981|2450|null|    10|  07-01-2022|\n",
            "| 7788| SCOTT|  ANALYST|7566|19-04-1987|3000|null|    20|  08-01-2022|\n",
            "| 7839|  KING|PRESIDENT|null|      null|5000|null|    10|        null|\n",
            "| 7844|TURNER| SALESMAN|7698|09-08-1981|1500|   0|    30|  01-02-2022|\n",
            "| 7876| ADAMS|    CLERK|7788|23-05-1987|1100|null|    20|  02-02-2022|\n",
            "| 7900| JAMES|    CLERK|7698|12-03-1981| 950|null|    30|  03-02-2022|\n",
            "| 7902|  FORD|  ANALYST|7566|12-03-1981|3000|null|    20|  04-02-2022|\n",
            "| 7934|MILLER|    CLERK|7782|01-03-1982|1300|null|    10|  05-02-2022|\n",
            "| 1234|SEKHAR|   doctor|7777|      null| 667|  78|    80|  06-02-2022|\n",
            "| 7369| SMITH|    CLERK|7902|17-12-1980| 800|null|    20|  07-02-2022|\n",
            "| 7499| ALLEN| SALESMAN|7698|20-02-1981|1600| 300|    30|  08-02-2022|\n",
            "| 7521|  WARD| SALESMAN|7698|22-02-1981|1250| 500|    30|        null|\n",
            "| 7566| JONES|  MANAGER|7839|04-02-1981|2975|null|    20|  01-02-2021|\n",
            "+-----+------+---------+----+----------+----+----+------+------------+\n",
            "\n"
          ]
        },
        {
          "output_type": "execute_result",
          "data": {
            "text/plain": [
              "19"
            ]
          },
          "metadata": {},
          "execution_count": 109
        }
      ]
    },
    {
      "cell_type": "code",
      "source": [
        "#subset - used to delete particular column null values\n",
        "\n",
        "data5 = data.na.drop(how= 'any',subset=[\"COMM\"])\n",
        "data5.show()\n",
        "data5.count()"
      ],
      "metadata": {
        "id": "Q7Qcm64nnAnl",
        "colab": {
          "base_uri": "https://localhost:8080/"
        },
        "outputId": "630fbca3-eade-4e5b-ccef-87007f7315d9"
      },
      "execution_count": 110,
      "outputs": [
        {
          "output_type": "stream",
          "name": "stdout",
          "text": [
            "+-----+------+--------+----+----------+----+----+------+------------+\n",
            "|EMPNO| ENAME|     JOB| MGR|  HIREDATE| SAL|COMM|DEPTNO|UPDATED_DATE|\n",
            "+-----+------+--------+----+----------+----+----+------+------------+\n",
            "| 7499| ALLEN|SALESMAN|7698|20-02-1981|1600| 300|    30|  02-01-2022|\n",
            "| 7521|  WARD|SALESMAN|7698|22-02-1981|1250| 500|    30|  03-01-2022|\n",
            "| 7654|MARTIN|SALESMAN|7698|21-09-1981|1250|1400|    30|  05-01-2022|\n",
            "| 7844|TURNER|SALESMAN|7698|09-08-1981|1500|   0|    30|  01-02-2022|\n",
            "| 1234|SEKHAR|  doctor|7777|      null| 667|  78|    80|  06-02-2022|\n",
            "| 7499| ALLEN|SALESMAN|7698|20-02-1981|1600| 300|    30|  08-02-2022|\n",
            "| 7521|  WARD|SALESMAN|7698|22-02-1981|1250| 500|    30|        null|\n",
            "+-----+------+--------+----+----------+----+----+------+------------+\n",
            "\n"
          ]
        },
        {
          "output_type": "execute_result",
          "data": {
            "text/plain": [
              "7"
            ]
          },
          "metadata": {},
          "execution_count": 110
        }
      ]
    },
    {
      "cell_type": "markdown",
      "source": [
        "# filling null values"
      ],
      "metadata": {
        "id": "UScc8GJDMusA"
      }
    },
    {
      "cell_type": "code",
      "source": [
        "data.show()"
      ],
      "metadata": {
        "id": "XIvZcdZMNDTa",
        "colab": {
          "base_uri": "https://localhost:8080/"
        },
        "outputId": "0583fd82-731a-4eff-aa1c-bc3d1af43d5f"
      },
      "execution_count": 111,
      "outputs": [
        {
          "output_type": "stream",
          "name": "stdout",
          "text": [
            "+-----+------+---------+----+----------+----+----+------+------------+\n",
            "|EMPNO| ENAME|      JOB| MGR|  HIREDATE| SAL|COMM|DEPTNO|UPDATED_DATE|\n",
            "+-----+------+---------+----+----------+----+----+------+------------+\n",
            "| 7369| SMITH|    CLERK|7902|17-12-1980| 800|null|    20|  01-01-2022|\n",
            "| 7499| ALLEN| SALESMAN|7698|20-02-1981|1600| 300|    30|  02-01-2022|\n",
            "| 7521|  WARD| SALESMAN|7698|22-02-1981|1250| 500|    30|  03-01-2022|\n",
            "| 7566| JONES|  MANAGER|7839|04-02-1981|2975|null|    20|  04-01-2022|\n",
            "| 7654|MARTIN| SALESMAN|7698|21-09-1981|1250|1400|    30|  05-01-2022|\n",
            "| 7698|   SGR|  MANAGER|7839|05-01-1981|2850|null|    30|  06-01-2022|\n",
            "| 7782|  RAVI|  MANAGER|7839|06-09-1981|2450|null|    10|  07-01-2022|\n",
            "| 7788| SCOTT|  ANALYST|7566|19-04-1987|3000|null|    20|  08-01-2022|\n",
            "| 7839|  KING|PRESIDENT|null|      null|5000|null|    10|        null|\n",
            "| 7844|TURNER| SALESMAN|7698|09-08-1981|1500|   0|    30|  01-02-2022|\n",
            "| 7876| ADAMS|    CLERK|7788|23-05-1987|1100|null|    20|  02-02-2022|\n",
            "| 7900| JAMES|    CLERK|7698|12-03-1981| 950|null|    30|  03-02-2022|\n",
            "| 7902|  FORD|  ANALYST|7566|12-03-1981|3000|null|    20|  04-02-2022|\n",
            "| 7934|MILLER|    CLERK|7782|01-03-1982|1300|null|    10|  05-02-2022|\n",
            "| 1234|SEKHAR|   doctor|7777|      null| 667|  78|    80|  06-02-2022|\n",
            "| 7369| SMITH|    CLERK|7902|17-12-1980| 800|null|    20|  07-02-2022|\n",
            "| 7499| ALLEN| SALESMAN|7698|20-02-1981|1600| 300|    30|  08-02-2022|\n",
            "| 7521|  WARD| SALESMAN|7698|22-02-1981|1250| 500|    30|        null|\n",
            "| 7566| JONES|  MANAGER|7839|04-02-1981|2975|null|    20|  01-02-2021|\n",
            "+-----+------+---------+----+----------+----+----+------+------------+\n",
            "\n"
          ]
        }
      ]
    },
    {
      "cell_type": "code",
      "source": [
        "d1= data.fillna('Missing',['ENAME','JOB']).na.fill(1,['EMPNO','MGR','SAL','COMM','DEPTNO']).fillna('31-12-99',['HIREDATE'])\n",
        "d1.show()"
      ],
      "metadata": {
        "id": "ESa5KXMiNFUC",
        "colab": {
          "base_uri": "https://localhost:8080/"
        },
        "outputId": "b8ba1335-2390-4981-b9cc-1af68b64e7e2"
      },
      "execution_count": 112,
      "outputs": [
        {
          "output_type": "stream",
          "name": "stdout",
          "text": [
            "+-----+------+---------+----+----------+----+----+------+------------+\n",
            "|EMPNO| ENAME|      JOB| MGR|  HIREDATE| SAL|COMM|DEPTNO|UPDATED_DATE|\n",
            "+-----+------+---------+----+----------+----+----+------+------------+\n",
            "| 7369| SMITH|    CLERK|7902|17-12-1980| 800|   1|    20|  01-01-2022|\n",
            "| 7499| ALLEN| SALESMAN|7698|20-02-1981|1600| 300|    30|  02-01-2022|\n",
            "| 7521|  WARD| SALESMAN|7698|22-02-1981|1250| 500|    30|  03-01-2022|\n",
            "| 7566| JONES|  MANAGER|7839|04-02-1981|2975|   1|    20|  04-01-2022|\n",
            "| 7654|MARTIN| SALESMAN|7698|21-09-1981|1250|1400|    30|  05-01-2022|\n",
            "| 7698|   SGR|  MANAGER|7839|05-01-1981|2850|   1|    30|  06-01-2022|\n",
            "| 7782|  RAVI|  MANAGER|7839|06-09-1981|2450|   1|    10|  07-01-2022|\n",
            "| 7788| SCOTT|  ANALYST|7566|19-04-1987|3000|   1|    20|  08-01-2022|\n",
            "| 7839|  KING|PRESIDENT|   1|  31-12-99|5000|   1|    10|        null|\n",
            "| 7844|TURNER| SALESMAN|7698|09-08-1981|1500|   0|    30|  01-02-2022|\n",
            "| 7876| ADAMS|    CLERK|7788|23-05-1987|1100|   1|    20|  02-02-2022|\n",
            "| 7900| JAMES|    CLERK|7698|12-03-1981| 950|   1|    30|  03-02-2022|\n",
            "| 7902|  FORD|  ANALYST|7566|12-03-1981|3000|   1|    20|  04-02-2022|\n",
            "| 7934|MILLER|    CLERK|7782|01-03-1982|1300|   1|    10|  05-02-2022|\n",
            "| 1234|SEKHAR|   doctor|7777|  31-12-99| 667|  78|    80|  06-02-2022|\n",
            "| 7369| SMITH|    CLERK|7902|17-12-1980| 800|   1|    20|  07-02-2022|\n",
            "| 7499| ALLEN| SALESMAN|7698|20-02-1981|1600| 300|    30|  08-02-2022|\n",
            "| 7521|  WARD| SALESMAN|7698|22-02-1981|1250| 500|    30|        null|\n",
            "| 7566| JONES|  MANAGER|7839|04-02-1981|2975|   1|    20|  01-02-2021|\n",
            "+-----+------+---------+----+----------+----+----+------+------------+\n",
            "\n"
          ]
        }
      ]
    },
    {
      "cell_type": "markdown",
      "source": [
        "# Filter operations"
      ],
      "metadata": {
        "id": "BtR_0aUmWVvw"
      }
    },
    {
      "cell_type": "code",
      "source": [
        "#salary of peeple greter than 1500 -one way\n",
        "\n",
        "d1.filter('SAL>1500').show()"
      ],
      "metadata": {
        "id": "YYtW6tb6WiEp",
        "colab": {
          "base_uri": "https://localhost:8080/"
        },
        "outputId": "81c58a33-a0e9-46de-c883-cc88751aad74"
      },
      "execution_count": 113,
      "outputs": [
        {
          "output_type": "stream",
          "name": "stdout",
          "text": [
            "+-----+-----+---------+----+----------+----+----+------+------------+\n",
            "|EMPNO|ENAME|      JOB| MGR|  HIREDATE| SAL|COMM|DEPTNO|UPDATED_DATE|\n",
            "+-----+-----+---------+----+----------+----+----+------+------------+\n",
            "| 7499|ALLEN| SALESMAN|7698|20-02-1981|1600| 300|    30|  02-01-2022|\n",
            "| 7566|JONES|  MANAGER|7839|04-02-1981|2975|   1|    20|  04-01-2022|\n",
            "| 7698|  SGR|  MANAGER|7839|05-01-1981|2850|   1|    30|  06-01-2022|\n",
            "| 7782| RAVI|  MANAGER|7839|06-09-1981|2450|   1|    10|  07-01-2022|\n",
            "| 7788|SCOTT|  ANALYST|7566|19-04-1987|3000|   1|    20|  08-01-2022|\n",
            "| 7839| KING|PRESIDENT|   1|  31-12-99|5000|   1|    10|        null|\n",
            "| 7902| FORD|  ANALYST|7566|12-03-1981|3000|   1|    20|  04-02-2022|\n",
            "| 7499|ALLEN| SALESMAN|7698|20-02-1981|1600| 300|    30|  08-02-2022|\n",
            "| 7566|JONES|  MANAGER|7839|04-02-1981|2975|   1|    20|  01-02-2021|\n",
            "+-----+-----+---------+----+----------+----+----+------+------------+\n",
            "\n"
          ]
        }
      ]
    },
    {
      "cell_type": "code",
      "source": [
        "#salary of peeple greter than 1500 -other way\n",
        "\n",
        "\n",
        "d1.filter((col('SAL')>1500)).show()"
      ],
      "metadata": {
        "id": "oicV05Jse2VJ",
        "colab": {
          "base_uri": "https://localhost:8080/"
        },
        "outputId": "bdbdd876-0c0b-419f-d46d-dfb9dc0f404c"
      },
      "execution_count": 114,
      "outputs": [
        {
          "output_type": "stream",
          "name": "stdout",
          "text": [
            "+-----+-----+---------+----+----------+----+----+------+------------+\n",
            "|EMPNO|ENAME|      JOB| MGR|  HIREDATE| SAL|COMM|DEPTNO|UPDATED_DATE|\n",
            "+-----+-----+---------+----+----------+----+----+------+------------+\n",
            "| 7499|ALLEN| SALESMAN|7698|20-02-1981|1600| 300|    30|  02-01-2022|\n",
            "| 7566|JONES|  MANAGER|7839|04-02-1981|2975|   1|    20|  04-01-2022|\n",
            "| 7698|  SGR|  MANAGER|7839|05-01-1981|2850|   1|    30|  06-01-2022|\n",
            "| 7782| RAVI|  MANAGER|7839|06-09-1981|2450|   1|    10|  07-01-2022|\n",
            "| 7788|SCOTT|  ANALYST|7566|19-04-1987|3000|   1|    20|  08-01-2022|\n",
            "| 7839| KING|PRESIDENT|   1|  31-12-99|5000|   1|    10|        null|\n",
            "| 7902| FORD|  ANALYST|7566|12-03-1981|3000|   1|    20|  04-02-2022|\n",
            "| 7499|ALLEN| SALESMAN|7698|20-02-1981|1600| 300|    30|  08-02-2022|\n",
            "| 7566|JONES|  MANAGER|7839|04-02-1981|2975|   1|    20|  01-02-2021|\n",
            "+-----+-----+---------+----+----------+----+----+------+------------+\n",
            "\n"
          ]
        }
      ]
    },
    {
      "cell_type": "code",
      "source": [
        "#not operator\n",
        "\n",
        "d1.filter(~(col('SAL')>1500)).show()"
      ],
      "metadata": {
        "id": "9ui4rTRYfi6E",
        "colab": {
          "base_uri": "https://localhost:8080/"
        },
        "outputId": "0900f7e4-812e-4f1d-f704-a9b33908d6ac"
      },
      "execution_count": 115,
      "outputs": [
        {
          "output_type": "stream",
          "name": "stdout",
          "text": [
            "+-----+------+--------+----+----------+----+----+------+------------+\n",
            "|EMPNO| ENAME|     JOB| MGR|  HIREDATE| SAL|COMM|DEPTNO|UPDATED_DATE|\n",
            "+-----+------+--------+----+----------+----+----+------+------------+\n",
            "| 7369| SMITH|   CLERK|7902|17-12-1980| 800|   1|    20|  01-01-2022|\n",
            "| 7521|  WARD|SALESMAN|7698|22-02-1981|1250| 500|    30|  03-01-2022|\n",
            "| 7654|MARTIN|SALESMAN|7698|21-09-1981|1250|1400|    30|  05-01-2022|\n",
            "| 7844|TURNER|SALESMAN|7698|09-08-1981|1500|   0|    30|  01-02-2022|\n",
            "| 7876| ADAMS|   CLERK|7788|23-05-1987|1100|   1|    20|  02-02-2022|\n",
            "| 7900| JAMES|   CLERK|7698|12-03-1981| 950|   1|    30|  03-02-2022|\n",
            "| 7934|MILLER|   CLERK|7782|01-03-1982|1300|   1|    10|  05-02-2022|\n",
            "| 1234|SEKHAR|  doctor|7777|  31-12-99| 667|  78|    80|  06-02-2022|\n",
            "| 7369| SMITH|   CLERK|7902|17-12-1980| 800|   1|    20|  07-02-2022|\n",
            "| 7521|  WARD|SALESMAN|7698|22-02-1981|1250| 500|    30|        null|\n",
            "+-----+------+--------+----+----------+----+----+------+------------+\n",
            "\n"
          ]
        }
      ]
    },
    {
      "cell_type": "code",
      "source": [
        "# & operator\n",
        "#show empno,ename of people salary less than 1500 and comm should be greater than zero\n",
        "\n",
        "d1.filter( (col('SAL')<1500) & (col('COMM')>0)).show()"
      ],
      "metadata": {
        "id": "ddt93mRzZF2T",
        "colab": {
          "base_uri": "https://localhost:8080/"
        },
        "outputId": "90c802ef-454b-485e-9bc7-d693b5bf663e"
      },
      "execution_count": 116,
      "outputs": [
        {
          "output_type": "stream",
          "name": "stdout",
          "text": [
            "+-----+------+--------+----+----------+----+----+------+------------+\n",
            "|EMPNO| ENAME|     JOB| MGR|  HIREDATE| SAL|COMM|DEPTNO|UPDATED_DATE|\n",
            "+-----+------+--------+----+----------+----+----+------+------------+\n",
            "| 7369| SMITH|   CLERK|7902|17-12-1980| 800|   1|    20|  01-01-2022|\n",
            "| 7521|  WARD|SALESMAN|7698|22-02-1981|1250| 500|    30|  03-01-2022|\n",
            "| 7654|MARTIN|SALESMAN|7698|21-09-1981|1250|1400|    30|  05-01-2022|\n",
            "| 7876| ADAMS|   CLERK|7788|23-05-1987|1100|   1|    20|  02-02-2022|\n",
            "| 7900| JAMES|   CLERK|7698|12-03-1981| 950|   1|    30|  03-02-2022|\n",
            "| 7934|MILLER|   CLERK|7782|01-03-1982|1300|   1|    10|  05-02-2022|\n",
            "| 1234|SEKHAR|  doctor|7777|  31-12-99| 667|  78|    80|  06-02-2022|\n",
            "| 7369| SMITH|   CLERK|7902|17-12-1980| 800|   1|    20|  07-02-2022|\n",
            "| 7521|  WARD|SALESMAN|7698|22-02-1981|1250| 500|    30|        null|\n",
            "+-----+------+--------+----+----------+----+----+------+------------+\n",
            "\n"
          ]
        }
      ]
    },
    {
      "cell_type": "code",
      "source": [
        "# | operator\n",
        "d1.filter((col('SAL')<1500) | (col('COMM')>0)).show()"
      ],
      "metadata": {
        "id": "2J5ZQNHbbgMe",
        "colab": {
          "base_uri": "https://localhost:8080/"
        },
        "outputId": "5ba19b40-7e21-4ebc-a7de-c5a613300e38"
      },
      "execution_count": 117,
      "outputs": [
        {
          "output_type": "stream",
          "name": "stdout",
          "text": [
            "+-----+------+---------+----+----------+----+----+------+------------+\n",
            "|EMPNO| ENAME|      JOB| MGR|  HIREDATE| SAL|COMM|DEPTNO|UPDATED_DATE|\n",
            "+-----+------+---------+----+----------+----+----+------+------------+\n",
            "| 7369| SMITH|    CLERK|7902|17-12-1980| 800|   1|    20|  01-01-2022|\n",
            "| 7499| ALLEN| SALESMAN|7698|20-02-1981|1600| 300|    30|  02-01-2022|\n",
            "| 7521|  WARD| SALESMAN|7698|22-02-1981|1250| 500|    30|  03-01-2022|\n",
            "| 7566| JONES|  MANAGER|7839|04-02-1981|2975|   1|    20|  04-01-2022|\n",
            "| 7654|MARTIN| SALESMAN|7698|21-09-1981|1250|1400|    30|  05-01-2022|\n",
            "| 7698|   SGR|  MANAGER|7839|05-01-1981|2850|   1|    30|  06-01-2022|\n",
            "| 7782|  RAVI|  MANAGER|7839|06-09-1981|2450|   1|    10|  07-01-2022|\n",
            "| 7788| SCOTT|  ANALYST|7566|19-04-1987|3000|   1|    20|  08-01-2022|\n",
            "| 7839|  KING|PRESIDENT|   1|  31-12-99|5000|   1|    10|        null|\n",
            "| 7876| ADAMS|    CLERK|7788|23-05-1987|1100|   1|    20|  02-02-2022|\n",
            "| 7900| JAMES|    CLERK|7698|12-03-1981| 950|   1|    30|  03-02-2022|\n",
            "| 7902|  FORD|  ANALYST|7566|12-03-1981|3000|   1|    20|  04-02-2022|\n",
            "| 7934|MILLER|    CLERK|7782|01-03-1982|1300|   1|    10|  05-02-2022|\n",
            "| 1234|SEKHAR|   doctor|7777|  31-12-99| 667|  78|    80|  06-02-2022|\n",
            "| 7369| SMITH|    CLERK|7902|17-12-1980| 800|   1|    20|  07-02-2022|\n",
            "| 7499| ALLEN| SALESMAN|7698|20-02-1981|1600| 300|    30|  08-02-2022|\n",
            "| 7521|  WARD| SALESMAN|7698|22-02-1981|1250| 500|    30|        null|\n",
            "| 7566| JONES|  MANAGER|7839|04-02-1981|2975|   1|    20|  01-02-2021|\n",
            "+-----+------+---------+----+----------+----+----+------+------------+\n",
            "\n"
          ]
        }
      ]
    },
    {
      "cell_type": "markdown",
      "source": [
        "# GroupBy "
      ],
      "metadata": {
        "id": "sU7BZJM-Ct1Z"
      }
    },
    {
      "cell_type": "code",
      "source": [
        "data.show(10)"
      ],
      "metadata": {
        "colab": {
          "base_uri": "https://localhost:8080/"
        },
        "id": "69imwhdNDO3S",
        "outputId": "30ab29ef-7307-4f29-dbf0-3a80cc3533e9"
      },
      "execution_count": 132,
      "outputs": [
        {
          "output_type": "stream",
          "name": "stdout",
          "text": [
            "+-----+------+---------+----+----------+----+----+------+------------+\n",
            "|EMPNO| ENAME|      JOB| MGR|  HIREDATE| SAL|COMM|DEPTNO|UPDATED_DATE|\n",
            "+-----+------+---------+----+----------+----+----+------+------------+\n",
            "| 7369| SMITH|    CLERK|7902|17-12-1980| 800|null|    20|  01-01-2022|\n",
            "| 7499| ALLEN| SALESMAN|7698|20-02-1981|1600| 300|    30|  02-01-2022|\n",
            "| 7521|  WARD| SALESMAN|7698|22-02-1981|1250| 500|    30|  03-01-2022|\n",
            "| 7566| JONES|  MANAGER|7839|04-02-1981|2975|null|    20|  04-01-2022|\n",
            "| 7654|MARTIN| SALESMAN|7698|21-09-1981|1250|1400|    30|  05-01-2022|\n",
            "| 7698|   SGR|  MANAGER|7839|05-01-1981|2850|null|    30|  06-01-2022|\n",
            "| 7782|  RAVI|  MANAGER|7839|06-09-1981|2450|null|    10|  07-01-2022|\n",
            "| 7788| SCOTT|  ANALYST|7566|19-04-1987|3000|null|    20|  08-01-2022|\n",
            "| 7839|  KING|PRESIDENT|null|      null|5000|null|    10|        null|\n",
            "| 7844|TURNER| SALESMAN|7698|09-08-1981|1500|   0|    30|  01-02-2022|\n",
            "+-----+------+---------+----+----------+----+----+------+------------+\n",
            "only showing top 10 rows\n",
            "\n"
          ]
        }
      ]
    },
    {
      "cell_type": "code",
      "source": [
        "#find job role and people count\n",
        "data.groupBy('JOB').count().show()\n",
        "\n",
        "#Group by job role and sum of salaries\n",
        "data.groupBy('JOB').sum('SAL').show()"
      ],
      "metadata": {
        "colab": {
          "base_uri": "https://localhost:8080/"
        },
        "id": "M75qDEI5Br0X",
        "outputId": "c23088c5-82da-4fda-e8ac-35eb1792af10"
      },
      "execution_count": 140,
      "outputs": [
        {
          "output_type": "stream",
          "name": "stdout",
          "text": [
            "+---------+-----+\n",
            "|      JOB|count|\n",
            "+---------+-----+\n",
            "|  ANALYST|    2|\n",
            "| SALESMAN|    6|\n",
            "|    CLERK|    5|\n",
            "|  MANAGER|    4|\n",
            "|PRESIDENT|    1|\n",
            "|   doctor|    1|\n",
            "+---------+-----+\n",
            "\n",
            "+---------+--------+\n",
            "|      JOB|sum(SAL)|\n",
            "+---------+--------+\n",
            "|  ANALYST|    6000|\n",
            "| SALESMAN|    8450|\n",
            "|    CLERK|    4950|\n",
            "|  MANAGER|   11250|\n",
            "|PRESIDENT|    5000|\n",
            "|   doctor|     667|\n",
            "+---------+--------+\n",
            "\n"
          ]
        }
      ]
    },
    {
      "cell_type": "code",
      "source": [
        "#find deptno and people count\n",
        "data.groupBy('DEPTNO').count().show()\n",
        "\n",
        "#find job deptno and sum salary \n",
        "data.groupBy('DEPTNO').sum('SAL').show()"
      ],
      "metadata": {
        "colab": {
          "base_uri": "https://localhost:8080/"
        },
        "id": "TOEBHdrcCOk6",
        "outputId": "36de3b47-dc71-4cca-c718-869c42d99aa6"
      },
      "execution_count": 141,
      "outputs": [
        {
          "output_type": "stream",
          "name": "stdout",
          "text": [
            "+------+-----+\n",
            "|DEPTNO|count|\n",
            "+------+-----+\n",
            "|    20|    7|\n",
            "|    10|    3|\n",
            "|    80|    1|\n",
            "|    30|    8|\n",
            "+------+-----+\n",
            "\n",
            "+------+--------+\n",
            "|DEPTNO|sum(SAL)|\n",
            "+------+--------+\n",
            "|    20|   14650|\n",
            "|    10|    8750|\n",
            "|    80|     667|\n",
            "|    30|   12250|\n",
            "+------+--------+\n",
            "\n"
          ]
        }
      ]
    },
    {
      "cell_type": "markdown",
      "source": [
        "#sort"
      ],
      "metadata": {
        "id": "wpwS2_M1FOuA"
      }
    },
    {
      "cell_type": "code",
      "source": [
        "# sort salary data in low to high\n",
        "data.sort(data.SAL.asc()).show(10)"
      ],
      "metadata": {
        "colab": {
          "base_uri": "https://localhost:8080/"
        },
        "id": "w4HqyUqQFOKB",
        "outputId": "8f538d93-e8b6-4754-bafb-4e3b1d576260"
      },
      "execution_count": 152,
      "outputs": [
        {
          "output_type": "stream",
          "name": "stdout",
          "text": [
            "+-----+------+--------+----+----------+----+----+------+------------+\n",
            "|EMPNO| ENAME|     JOB| MGR|  HIREDATE| SAL|COMM|DEPTNO|UPDATED_DATE|\n",
            "+-----+------+--------+----+----------+----+----+------+------------+\n",
            "| 1234|SEKHAR|  doctor|7777|      null| 667|  78|    80|  06-02-2022|\n",
            "| 7369| SMITH|   CLERK|7902|17-12-1980| 800|null|    20|  07-02-2022|\n",
            "| 7369| SMITH|   CLERK|7902|17-12-1980| 800|null|    20|  01-01-2022|\n",
            "| 7900| JAMES|   CLERK|7698|12-03-1981| 950|null|    30|  03-02-2022|\n",
            "| 7876| ADAMS|   CLERK|7788|23-05-1987|1100|null|    20|  02-02-2022|\n",
            "| 7654|MARTIN|SALESMAN|7698|21-09-1981|1250|1400|    30|  05-01-2022|\n",
            "| 7521|  WARD|SALESMAN|7698|22-02-1981|1250| 500|    30|        null|\n",
            "| 7521|  WARD|SALESMAN|7698|22-02-1981|1250| 500|    30|  03-01-2022|\n",
            "| 7934|MILLER|   CLERK|7782|01-03-1982|1300|null|    10|  05-02-2022|\n",
            "| 7844|TURNER|SALESMAN|7698|09-08-1981|1500|   0|    30|  01-02-2022|\n",
            "+-----+------+--------+----+----------+----+----+------+------------+\n",
            "only showing top 10 rows\n",
            "\n"
          ]
        }
      ]
    },
    {
      "cell_type": "code",
      "source": [
        "# sort salary data in high to low\n",
        "data.sort(data.SAL.desc()).show(10)"
      ],
      "metadata": {
        "colab": {
          "base_uri": "https://localhost:8080/"
        },
        "id": "L4jco_wOFYwP",
        "outputId": "9fc186f7-9d69-4db6-90eb-642d35735d20"
      },
      "execution_count": 154,
      "outputs": [
        {
          "output_type": "stream",
          "name": "stdout",
          "text": [
            "+-----+------+---------+----+----------+----+----+------+------------+\n",
            "|EMPNO| ENAME|      JOB| MGR|  HIREDATE| SAL|COMM|DEPTNO|UPDATED_DATE|\n",
            "+-----+------+---------+----+----------+----+----+------+------------+\n",
            "| 7839|  KING|PRESIDENT|null|      null|5000|null|    10|        null|\n",
            "| 7902|  FORD|  ANALYST|7566|12-03-1981|3000|null|    20|  04-02-2022|\n",
            "| 7788| SCOTT|  ANALYST|7566|19-04-1987|3000|null|    20|  08-01-2022|\n",
            "| 7566| JONES|  MANAGER|7839|04-02-1981|2975|null|    20|  04-01-2022|\n",
            "| 7566| JONES|  MANAGER|7839|04-02-1981|2975|null|    20|  01-02-2021|\n",
            "| 7698|   SGR|  MANAGER|7839|05-01-1981|2850|null|    30|  06-01-2022|\n",
            "| 7782|  RAVI|  MANAGER|7839|06-09-1981|2450|null|    10|  07-01-2022|\n",
            "| 7499| ALLEN| SALESMAN|7698|20-02-1981|1600| 300|    30|  02-01-2022|\n",
            "| 7499| ALLEN| SALESMAN|7698|20-02-1981|1600| 300|    30|  08-02-2022|\n",
            "| 7844|TURNER| SALESMAN|7698|09-08-1981|1500|   0|    30|  01-02-2022|\n",
            "+-----+------+---------+----+----------+----+----+------+------------+\n",
            "only showing top 10 rows\n",
            "\n"
          ]
        }
      ]
    },
    {
      "cell_type": "code",
      "source": [
        "data.sort(data.DEPTNO.desc()).show(10)"
      ],
      "metadata": {
        "colab": {
          "base_uri": "https://localhost:8080/"
        },
        "id": "CMnlEiQKLIth",
        "outputId": "eb0ea3d0-8c6b-4b5a-f503-82b8e7ef2497"
      },
      "execution_count": 156,
      "outputs": [
        {
          "output_type": "stream",
          "name": "stdout",
          "text": [
            "+-----+------+--------+----+----------+----+----+------+------------+\n",
            "|EMPNO| ENAME|     JOB| MGR|  HIREDATE| SAL|COMM|DEPTNO|UPDATED_DATE|\n",
            "+-----+------+--------+----+----------+----+----+------+------------+\n",
            "| 1234|SEKHAR|  doctor|7777|      null| 667|  78|    80|  06-02-2022|\n",
            "| 7521|  WARD|SALESMAN|7698|22-02-1981|1250| 500|    30|  03-01-2022|\n",
            "| 7499| ALLEN|SALESMAN|7698|20-02-1981|1600| 300|    30|  08-02-2022|\n",
            "| 7499| ALLEN|SALESMAN|7698|20-02-1981|1600| 300|    30|  02-01-2022|\n",
            "| 7844|TURNER|SALESMAN|7698|09-08-1981|1500|   0|    30|  01-02-2022|\n",
            "| 7900| JAMES|   CLERK|7698|12-03-1981| 950|null|    30|  03-02-2022|\n",
            "| 7521|  WARD|SALESMAN|7698|22-02-1981|1250| 500|    30|        null|\n",
            "| 7698|   SGR| MANAGER|7839|05-01-1981|2850|null|    30|  06-01-2022|\n",
            "| 7654|MARTIN|SALESMAN|7698|21-09-1981|1250|1400|    30|  05-01-2022|\n",
            "| 7369| SMITH|   CLERK|7902|17-12-1980| 800|null|    20|  01-01-2022|\n",
            "+-----+------+--------+----+----------+----+----+------+------------+\n",
            "only showing top 10 rows\n",
            "\n"
          ]
        }
      ]
    },
    {
      "cell_type": "markdown",
      "source": [
        "# Order By"
      ],
      "metadata": {
        "id": "o1WxT1VaLbDf"
      }
    },
    {
      "cell_type": "code",
      "source": [
        "data.orderBy(data.SAL.asc()).show()"
      ],
      "metadata": {
        "colab": {
          "base_uri": "https://localhost:8080/"
        },
        "id": "3H-SauiXLQ7q",
        "outputId": "b08d6351-3749-476f-cadd-7b4802b77711"
      },
      "execution_count": 159,
      "outputs": [
        {
          "output_type": "stream",
          "name": "stdout",
          "text": [
            "+-----+------+---------+----+----------+----+----+------+------------+\n",
            "|EMPNO| ENAME|      JOB| MGR|  HIREDATE| SAL|COMM|DEPTNO|UPDATED_DATE|\n",
            "+-----+------+---------+----+----------+----+----+------+------------+\n",
            "| 1234|SEKHAR|   doctor|7777|      null| 667|  78|    80|  06-02-2022|\n",
            "| 7369| SMITH|    CLERK|7902|17-12-1980| 800|null|    20|  01-01-2022|\n",
            "| 7369| SMITH|    CLERK|7902|17-12-1980| 800|null|    20|  07-02-2022|\n",
            "| 7900| JAMES|    CLERK|7698|12-03-1981| 950|null|    30|  03-02-2022|\n",
            "| 7876| ADAMS|    CLERK|7788|23-05-1987|1100|null|    20|  02-02-2022|\n",
            "| 7521|  WARD| SALESMAN|7698|22-02-1981|1250| 500|    30|  03-01-2022|\n",
            "| 7654|MARTIN| SALESMAN|7698|21-09-1981|1250|1400|    30|  05-01-2022|\n",
            "| 7521|  WARD| SALESMAN|7698|22-02-1981|1250| 500|    30|        null|\n",
            "| 7934|MILLER|    CLERK|7782|01-03-1982|1300|null|    10|  05-02-2022|\n",
            "| 7844|TURNER| SALESMAN|7698|09-08-1981|1500|   0|    30|  01-02-2022|\n",
            "| 7499| ALLEN| SALESMAN|7698|20-02-1981|1600| 300|    30|  08-02-2022|\n",
            "| 7499| ALLEN| SALESMAN|7698|20-02-1981|1600| 300|    30|  02-01-2022|\n",
            "| 7782|  RAVI|  MANAGER|7839|06-09-1981|2450|null|    10|  07-01-2022|\n",
            "| 7698|   SGR|  MANAGER|7839|05-01-1981|2850|null|    30|  06-01-2022|\n",
            "| 7566| JONES|  MANAGER|7839|04-02-1981|2975|null|    20|  04-01-2022|\n",
            "| 7566| JONES|  MANAGER|7839|04-02-1981|2975|null|    20|  01-02-2021|\n",
            "| 7788| SCOTT|  ANALYST|7566|19-04-1987|3000|null|    20|  08-01-2022|\n",
            "| 7902|  FORD|  ANALYST|7566|12-03-1981|3000|null|    20|  04-02-2022|\n",
            "| 7839|  KING|PRESIDENT|null|      null|5000|null|    10|        null|\n",
            "+-----+------+---------+----+----------+----+----+------+------------+\n",
            "\n"
          ]
        }
      ]
    }
  ],
  "metadata": {
    "colab": {
      "collapsed_sections": [
        "NbFalTaBnvmA",
        "p-5j-cMJn7Jz",
        "Zo_-_Nj_hvsX",
        "HOSZSLuFiLYx",
        "g5IWj-E-pCro",
        "PezsVmyIz2Wh",
        "EusB415EoXd9",
        "IbOChgfp5LDZ",
        "N88Pqx27-dB-",
        "Ugtf0Tb1LaCD",
        "4GLWl681eZBr",
        "UScc8GJDMusA",
        "BtR_0aUmWVvw",
        "sU7BZJM-Ct1Z",
        "wpwS2_M1FOuA",
        "o1WxT1VaLbDf"
      ],
      "provenance": []
    },
    "kernelspec": {
      "display_name": "Python 3",
      "name": "python3"
    },
    "language_info": {
      "name": "python"
    }
  },
  "nbformat": 4,
  "nbformat_minor": 0
}